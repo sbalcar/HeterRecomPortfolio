{
 "cells": [
  {
   "cell_type": "code",
   "execution_count": 1,
   "metadata": {},
   "outputs": [],
   "source": [
    "import os\n",
    "import numpy as np\n",
    "\n",
    "from configuration.configuration import Configuration #class\n",
    "\n",
    "from pandas.core.frame import DataFrame #class\n",
    "from pandas.core.series import Series #class\n",
    "\n",
    "from datasets.aDataset import ADataset #class\n",
    "from datasets.datasetML import DatasetML #class\n",
    "\n",
    "from datasets.ml.ratings import Ratings #class\n",
    "from datasets.ml.items import Items #class\n",
    "from datasets.ml.users import Users #class\n",
    "\n",
    "from history.historyDF import HistoryDF #class\n",
    "\n",
    "from recommender.aRecommender import ARecommender #class\n",
    "\n",
    "import pandas as pd\n",
    "\n",
    "from sklearn.model_selection import ParameterGrid"
   ]
  },
  {
   "cell_type": "markdown",
   "metadata": {},
   "source": [
    "## Prepare train and test sets"
   ]
  },
  {
   "cell_type": "code",
   "execution_count": 2,
   "metadata": {},
   "outputs": [
    {
     "data": {
      "text/plain": [
       "(463020, 4)"
      ]
     },
     "execution_count": 2,
     "metadata": {},
     "output_type": "execute_result"
    }
   ],
   "source": [
    "TRAIN_RATIO = 0.8\n",
    "VALIDATION_RATIO = 0.1\n",
    "dataset:DatasetML = DatasetML.readDatasets()\n",
    "\n",
    "ratingsDF:DataFrame = dataset.ratingsDF\n",
    "usersDF:DataFrame = dataset.usersDF\n",
    "itemsDF:DataFrame = dataset.itemsDF\n",
    "\n",
    "ratingsSortedDF:DataFrame = ratingsDF.sort_values(by=Ratings.COL_TIMESTAMP)\n",
    "numberOfRatings:int = ratingsSortedDF.shape[0]\n",
    "\n",
    "trainSize:int = (int)(numberOfRatings * TRAIN_RATIO)\n",
    "trainRatingsDF:DataFrame = ratingsSortedDF[0:trainSize]\n",
    "trainRatingsDF = trainRatingsDF.loc[trainRatingsDF[Ratings.COL_RATING] >= 4] \n",
    "#trainRatingsDF.max()\n",
    "\n",
    "testSize:int = (int)(numberOfRatings * VALIDATION_RATIO)    \n",
    "testRatingsDF:DataFrame = ratingsSortedDF[trainSize:(trainSize + testSize)]\n",
    "testRatingsDF = testRatingsDF.loc[testRatingsDF[Ratings.COL_RATING] >= 4] \n",
    "\n",
    "\n",
    "testRatingsDF.reset_index(drop=True, inplace=True)\n",
    "trainRatingsDF.reset_index(drop=True, inplace=True)\n",
    "\n",
    "trainDataset:ADataset = DatasetML(trainRatingsDF, usersDF, itemsDF)\n",
    "trainRatingsDF.shape"
   ]
  },
  {
   "cell_type": "code",
   "execution_count": 3,
   "metadata": {},
   "outputs": [
    {
     "data": {
      "text/plain": [
       "(57808, 4)"
      ]
     },
     "execution_count": 3,
     "metadata": {},
     "output_type": "execute_result"
    }
   ],
   "source": [
    "testRatingsDF.shape"
   ]
  },
  {
   "cell_type": "code",
   "execution_count": 4,
   "metadata": {},
   "outputs": [
    {
     "data": {
      "text/html": [
       "<div>\n",
       "<style scoped>\n",
       "    .dataframe tbody tr th:only-of-type {\n",
       "        vertical-align: middle;\n",
       "    }\n",
       "\n",
       "    .dataframe tbody tr th {\n",
       "        vertical-align: top;\n",
       "    }\n",
       "\n",
       "    .dataframe thead th {\n",
       "        text-align: right;\n",
       "    }\n",
       "</style>\n",
       "<table border=\"1\" class=\"dataframe\">\n",
       "  <thead>\n",
       "    <tr style=\"text-align: right;\">\n",
       "      <th></th>\n",
       "      <th>userId</th>\n",
       "      <th>movieId</th>\n",
       "      <th>rating</th>\n",
       "      <th>timestamp</th>\n",
       "    </tr>\n",
       "  </thead>\n",
       "  <tbody>\n",
       "    <tr>\n",
       "      <th>0</th>\n",
       "      <td>1875</td>\n",
       "      <td>1721</td>\n",
       "      <td>4</td>\n",
       "      <td>975768738</td>\n",
       "    </tr>\n",
       "    <tr>\n",
       "      <th>1</th>\n",
       "      <td>1875</td>\n",
       "      <td>2621</td>\n",
       "      <td>4</td>\n",
       "      <td>975768748</td>\n",
       "    </tr>\n",
       "    <tr>\n",
       "      <th>2</th>\n",
       "      <td>635</td>\n",
       "      <td>3095</td>\n",
       "      <td>5</td>\n",
       "      <td>975768756</td>\n",
       "    </tr>\n",
       "    <tr>\n",
       "      <th>3</th>\n",
       "      <td>635</td>\n",
       "      <td>36</td>\n",
       "      <td>5</td>\n",
       "      <td>975768756</td>\n",
       "    </tr>\n",
       "    <tr>\n",
       "      <th>4</th>\n",
       "      <td>635</td>\n",
       "      <td>608</td>\n",
       "      <td>5</td>\n",
       "      <td>975768756</td>\n",
       "    </tr>\n",
       "  </tbody>\n",
       "</table>\n",
       "</div>"
      ],
      "text/plain": [
       "   userId  movieId  rating  timestamp\n",
       "0    1875     1721       4  975768738\n",
       "1    1875     2621       4  975768748\n",
       "2     635     3095       5  975768756\n",
       "3     635       36       5  975768756\n",
       "4     635      608       5  975768756"
      ]
     },
     "execution_count": 4,
     "metadata": {},
     "output_type": "execute_result"
    }
   ],
   "source": [
    "testRatingsDF.head()"
   ]
  },
  {
   "cell_type": "markdown",
   "metadata": {},
   "source": [
    "## Define recommending requests + some statistics on TRUE_vals sizes"
   ]
  },
  {
   "cell_type": "code",
   "execution_count": 5,
   "metadata": {},
   "outputs": [
    {
     "data": {
      "text/plain": [
       "(1103,)"
      ]
     },
     "execution_count": 5,
     "metadata": {},
     "output_type": "execute_result"
    }
   ],
   "source": [
    "users = testRatingsDF[Ratings.COL_USERID].unique()\n",
    "users.shape"
   ]
  },
  {
   "cell_type": "code",
   "execution_count": 6,
   "metadata": {},
   "outputs": [
    {
     "data": {
      "text/plain": [
       "array([1875,  635, 2784, ...,   26,   25,   24], dtype=int64)"
      ]
     },
     "execution_count": 6,
     "metadata": {},
     "output_type": "execute_result"
    }
   ],
   "source": [
    "users"
   ]
  },
  {
   "cell_type": "code",
   "execution_count": 7,
   "metadata": {},
   "outputs": [],
   "source": [
    "trueList = {}\n",
    "trueRelevance = {}\n",
    "vals = []\n",
    "maxOID = itemsDF[Items.COL_MOVIEID].max()\n",
    "\n",
    "for user in users:\n",
    "    trueValsPerUser = testRatingsDF.loc[testRatingsDF[Ratings.COL_USERID] == user]\n",
    "    trueValsPerUser = trueValsPerUser.iloc[0:5]#APPLY window for the current user\n",
    "    vals.append(trueValsPerUser.shape[0])\n",
    "    #print(trueValsPerUser.shape[0])\n",
    "    trueList[user] = trueValsPerUser[Ratings.COL_MOVIEID]\n",
    "    relScore = np.zeros((1,maxOID+1))\n",
    "    relScore[0,trueList[user].values] = 1\n",
    "    trueRelevance[user] = relScore"
   ]
  },
  {
   "cell_type": "code",
   "execution_count": 8,
   "metadata": {},
   "outputs": [
    {
     "data": {
      "text/plain": [
       "5.0"
      ]
     },
     "execution_count": 8,
     "metadata": {},
     "output_type": "execute_result"
    }
   ],
   "source": [
    "trueRelevance[1875].sum()"
   ]
  },
  {
   "cell_type": "code",
   "execution_count": 9,
   "metadata": {},
   "outputs": [
    {
     "data": {
      "text/plain": [
       "4877"
      ]
     },
     "execution_count": 9,
     "metadata": {},
     "output_type": "execute_result"
    }
   ],
   "source": [
    "import numpy as np\n",
    "np.sum(vals)"
   ]
  },
  {
   "cell_type": "code",
   "execution_count": 10,
   "metadata": {},
   "outputs": [
    {
     "data": {
      "text/plain": [
       "(5, 1)"
      ]
     },
     "execution_count": 10,
     "metadata": {},
     "output_type": "execute_result"
    }
   ],
   "source": [
    "np.max(vals),np.min(vals)"
   ]
  },
  {
   "cell_type": "code",
   "execution_count": 11,
   "metadata": {},
   "outputs": [
    {
     "data": {
      "text/plain": [
       "<AxesSubplot:>"
      ]
     },
     "execution_count": 11,
     "metadata": {},
     "output_type": "execute_result"
    },
    {
     "data": {
      "image/png": "[encoded data removed]",
      "text/plain": [
       "<Figure size 432x288 with 1 Axes>"
      ]
     },
     "metadata": {
      "needs_background": "light"
     },
     "output_type": "display_data"
    }
   ],
   "source": [
    "pd.Series(vals).hist()"
   ]
  },
  {
   "cell_type": "code",
   "execution_count": 12,
   "metadata": {},
   "outputs": [
    {
     "data": {
      "image/png": "[encoded data removed]",
      "text/plain": [
       "<Figure size 432x288 with 1 Axes>"
      ]
     },
     "metadata": {
      "needs_background": "light"
     },
     "output_type": "display_data"
    }
   ],
   "source": [
    "from matplotlib import pyplot as plt\n",
    "fig, ax = plt.subplots()\n",
    "pd.Series(vals).hist(ax=ax, bins=np.logspace(np.log10(1),np.log10(1000), 20))\n",
    "ax.set_xscale('log')"
   ]
  },
  {
   "cell_type": "code",
   "execution_count": 13,
   "metadata": {},
   "outputs": [
    {
     "data": {
      "text/plain": [
       "0    1721\n",
       "1    2621\n",
       "7      11\n",
       "8     539\n",
       "9    1722\n",
       "Name: movieId, dtype: int64"
      ]
     },
     "execution_count": 13,
     "metadata": {},
     "output_type": "execute_result"
    }
   ],
   "source": [
    "trueList[1875]"
   ]
  },
  {
   "cell_type": "code",
   "execution_count": 14,
   "metadata": {},
   "outputs": [
    {
     "data": {
      "text/plain": [
       "array([1721, 2621,   11,  539, 1722], dtype=int64)"
      ]
     },
     "execution_count": 14,
     "metadata": {},
     "output_type": "execute_result"
    }
   ],
   "source": [
    "trueList[1875].values"
   ]
  },
  {
   "cell_type": "markdown",
   "metadata": {},
   "source": [
    "## Run tuning for BPRMF"
   ]
  },
  {
   "cell_type": "code",
   "execution_count": 15,
   "metadata": {},
   "outputs": [],
   "source": [
    "\"\"\"param_grid = {\n",
    "              'factors': [5, 10, 20, 50, 100],\n",
    "              'iterations': [5, 10, 20, 50], \n",
    "              'learning_rate': [0.1, 0.03, 0.01, 0.003],\n",
    "              'regularization': [0.1, 0.03, 0.01, 0.003],\n",
    "             }\n",
    "\"\"\" \n",
    "param_grid = {\n",
    "              'factors': [5, 10, 20, 50, 100],\n",
    "              'iterations': [5, 10, 20, 50], \n",
    "              'learning_rate': [0.1, 0.03, 0.01, 0.003],\n",
    "              'regularization': [0.1, 0.03, 0.01, 0.003],\n",
    "             }\n",
    "params_list = list(ParameterGrid(param_grid)) "
   ]
  },
  {
   "cell_type": "code",
   "execution_count": 16,
   "metadata": {},
   "outputs": [],
   "source": [
    "from recommender.recommenderBPRMF import RecommenderBPRMF #class\n",
    "from sklearn.metrics import ndcg_score"
   ]
  },
  {
   "cell_type": "code",
   "execution_count": 17,
   "metadata": {},
   "outputs": [
    {
     "data": {
      "application/vnd.jupyter.widget-view+json": {
       "model_id": "a3b50a1a35c84f3baaaf755452cf8fc5",
       "version_major": 2,
       "version_minor": 0
      },
      "text/plain": [
       "HBox(children=(HTML(value=''), FloatProgress(value=0.0, max=5.0), HTML(value='')))"
      ]
     },
     "metadata": {},
     "output_type": "display_data"
    },
    {
     "name": "stdout",
     "output_type": "stream",
     "text": [
      "\n"
     ]
    },
    {
     "data": {
      "application/vnd.jupyter.widget-view+json": {
       "model_id": "f1287c577a374bc383fa1f238a4bba8c",
       "version_major": 2,
       "version_minor": 0
      },
      "text/plain": [
       "HBox(children=(HTML(value=''), FloatProgress(value=0.0, max=5.0), HTML(value='')))"
      ]
     },
     "metadata": {},
     "output_type": "display_data"
    },
    {
     "name": "stdout",
     "output_type": "stream",
     "text": [
      "\n"
     ]
    },
    {
     "data": {
      "application/vnd.jupyter.widget-view+json": {
       "model_id": "03b3232512024af88a99018ea7348eba",
       "version_major": 2,
       "version_minor": 0
      },
      "text/plain": [
       "HBox(children=(HTML(value=''), FloatProgress(value=0.0, max=5.0), HTML(value='')))"
      ]
     },
     "metadata": {},
     "output_type": "display_data"
    },
    {
     "name": "stdout",
     "output_type": "stream",
     "text": [
      "\n"
     ]
    },
    {
     "data": {
      "application/vnd.jupyter.widget-view+json": {
       "model_id": "bbb9d30c144e4aae8f2f1659a37b3d43",
       "version_major": 2,
       "version_minor": 0
      },
      "text/plain": [
       "HBox(children=(HTML(value=''), FloatProgress(value=0.0, max=5.0), HTML(value='')))"
      ]
     },
     "metadata": {},
     "output_type": "display_data"
    },
    {
     "name": "stdout",
     "output_type": "stream",
     "text": [
      "\n"
     ]
    },
    {
     "data": {
      "application/vnd.jupyter.widget-view+json": {
       "model_id": "7cdd894f77264091ac9276ddd4fe3418",
       "version_major": 2,
       "version_minor": 0
      },
      "text/plain": [
       "HBox(children=(HTML(value=''), FloatProgress(value=0.0, max=5.0), HTML(value='')))"
      ]
     },
     "metadata": {},
     "output_type": "display_data"
    },
    {
     "name": "stdout",
     "output_type": "stream",
     "text": [
      "\n"
     ]
    },
    {
     "data": {
      "application/vnd.jupyter.widget-view+json": {
       "model_id": "5b7c6fda351441a9a935dc711fb17d74",
       "version_major": 2,
       "version_minor": 0
      },
      "text/plain": [
       "HBox(children=(HTML(value=''), FloatProgress(value=0.0, max=5.0), HTML(value='')))"
      ]
     },
     "metadata": {},
     "output_type": "display_data"
    },
    {
     "name": "stdout",
     "output_type": "stream",
     "text": [
      "\n"
     ]
    },
    {
     "data": {
      "application/vnd.jupyter.widget-view+json": {
       "model_id": "1210bd9342104e88859b9bb7415efb2c",
       "version_major": 2,
       "version_minor": 0
      },
      "text/plain": [
       "HBox(children=(HTML(value=''), FloatProgress(value=0.0, max=5.0), HTML(value='')))"
      ]
     },
     "metadata": {},
     "output_type": "display_data"
    },
    {
     "name": "stdout",
     "output_type": "stream",
     "text": [
      "\n"
     ]
    },
    {
     "data": {
      "application/vnd.jupyter.widget-view+json": {
       "model_id": "697ff5d20524444ab6fdea3016715ac1",
       "version_major": 2,
       "version_minor": 0
      },
      "text/plain": [
       "HBox(children=(HTML(value=''), FloatProgress(value=0.0, max=5.0), HTML(value='')))"
      ]
     },
     "metadata": {},
     "output_type": "display_data"
    },
    {
     "name": "stdout",
     "output_type": "stream",
     "text": [
      "\n"
     ]
    },
    {
     "data": {
      "application/vnd.jupyter.widget-view+json": {
       "model_id": "b94a1cd6f3604894927fae40750f0b06",
       "version_major": 2,
       "version_minor": 0
      },
      "text/plain": [
       "HBox(children=(HTML(value=''), FloatProgress(value=0.0, max=5.0), HTML(value='')))"
      ]
     },
     "metadata": {},
     "output_type": "display_data"
    },
    {
     "name": "stdout",
     "output_type": "stream",
     "text": [
      "\n"
     ]
    },
    {
     "data": {
      "application/vnd.jupyter.widget-view+json": {
       "model_id": "83cb079d99d4475d9897f3f2b5322871",
       "version_major": 2,
       "version_minor": 0
      },
      "text/plain": [
       "HBox(children=(HTML(value=''), FloatProgress(value=0.0, max=5.0), HTML(value='')))"
      ]
     },
     "metadata": {},
     "output_type": "display_data"
    },
    {
     "name": "stdout",
     "output_type": "stream",
     "text": [
      "\n"
     ]
    },
    {
     "data": {
      "application/vnd.jupyter.widget-view+json": {
       "model_id": "a621e97ddfc44198b291478e0363a872",
       "version_major": 2,
       "version_minor": 0
      },
      "text/plain": [
       "HBox(children=(HTML(value=''), FloatProgress(value=0.0, max=5.0), HTML(value='')))"
      ]
     },
     "metadata": {},
     "output_type": "display_data"
    },
    {
     "name": "stdout",
     "output_type": "stream",
     "text": [
      "\n"
     ]
    },
    {
     "data": {
      "application/vnd.jupyter.widget-view+json": {
       "model_id": "f4c3e122764b45778ca4f0460ee9bb1c",
       "version_major": 2,
       "version_minor": 0
      },
      "text/plain": [
       "HBox(children=(HTML(value=''), FloatProgress(value=0.0, max=5.0), HTML(value='')))"
      ]
     },
     "metadata": {},
     "output_type": "display_data"
    },
    {
     "name": "stdout",
     "output_type": "stream",
     "text": [
      "\n"
     ]
    },
    {
     "data": {
      "application/vnd.jupyter.widget-view+json": {
       "model_id": "5118db2218d74cceb2c538c29c93f8cd",
       "version_major": 2,
       "version_minor": 0
      },
      "text/plain": [
       "HBox(children=(HTML(value=''), FloatProgress(value=0.0, max=5.0), HTML(value='')))"
      ]
     },
     "metadata": {},
     "output_type": "display_data"
    },
    {
     "name": "stdout",
     "output_type": "stream",
     "text": [
      "\n"
     ]
    },
    {
     "data": {
      "application/vnd.jupyter.widget-view+json": {
       "model_id": "6fd8c64ebfb247adaed8db2610fc8d1a",
       "version_major": 2,
       "version_minor": 0
      },
      "text/plain": [
       "HBox(children=(HTML(value=''), FloatProgress(value=0.0, max=5.0), HTML(value='')))"
      ]
     },
     "metadata": {},
     "output_type": "display_data"
    },
    {
     "name": "stdout",
     "output_type": "stream",
     "text": [
      "\n"
     ]
    },
    {
     "data": {
      "application/vnd.jupyter.widget-view+json": {
       "model_id": "0c22344723064e479b03a6b9f082af2d",
       "version_major": 2,
       "version_minor": 0
      },
      "text/plain": [
       "HBox(children=(HTML(value=''), FloatProgress(value=0.0, max=5.0), HTML(value='')))"
      ]
     },
     "metadata": {},
     "output_type": "display_data"
    },
    {
     "name": "stdout",
     "output_type": "stream",
     "text": [
      "\n"
     ]
    },
    {
     "data": {
      "application/vnd.jupyter.widget-view+json": {
       "model_id": "cb038e33801245ad8d65478f6432c0c4",
       "version_major": 2,
       "version_minor": 0
      },
      "text/plain": [
       "HBox(children=(HTML(value=''), FloatProgress(value=0.0, max=5.0), HTML(value='')))"
      ]
     },
     "metadata": {},
     "output_type": "display_data"
    },
    {
     "name": "stdout",
     "output_type": "stream",
     "text": [
      "\n"
     ]
    },
    {
     "data": {
      "application/vnd.jupyter.widget-view+json": {
       "model_id": "34f16478bf6f49ff86da3f4bd7ae779a",
       "version_major": 2,
       "version_minor": 0
      },
      "text/plain": [
       "HBox(children=(HTML(value=''), FloatProgress(value=0.0, max=10.0), HTML(value='')))"
      ]
     },
     "metadata": {},
     "output_type": "display_data"
    },
    {
     "name": "stdout",
     "output_type": "stream",
     "text": [
      "\n"
     ]
    },
    {
     "data": {
      "application/vnd.jupyter.widget-view+json": {
       "model_id": "ecb2b41ef5fc4588b270fddde7f27324",
       "version_major": 2,
       "version_minor": 0
      },
      "text/plain": [
       "HBox(children=(HTML(value=''), FloatProgress(value=0.0, max=10.0), HTML(value='')))"
      ]
     },
     "metadata": {},
     "output_type": "display_data"
    },
    {
     "name": "stdout",
     "output_type": "stream",
     "text": [
      "\n"
     ]
    },
    {
     "data": {
      "application/vnd.jupyter.widget-view+json": {
       "model_id": "84eaaf9ca63044318f9216f546103b23",
       "version_major": 2,
       "version_minor": 0
      },
      "text/plain": [
       "HBox(children=(HTML(value=''), FloatProgress(value=0.0, max=10.0), HTML(value='')))"
      ]
     },
     "metadata": {},
     "output_type": "display_data"
    },
    {
     "name": "stdout",
     "output_type": "stream",
     "text": [
      "\n"
     ]
    },
    {
     "data": {
      "application/vnd.jupyter.widget-view+json": {
       "model_id": "8fa69020bad940e4bbe44599e14216f8",
       "version_major": 2,
       "version_minor": 0
      },
      "text/plain": [
       "HBox(children=(HTML(value=''), FloatProgress(value=0.0, max=10.0), HTML(value='')))"
      ]
     },
     "metadata": {},
     "output_type": "display_data"
    },
    {
     "name": "stdout",
     "output_type": "stream",
     "text": [
      "\n"
     ]
    },
    {
     "data": {
      "application/vnd.jupyter.widget-view+json": {
       "model_id": "9893f7588a0445f68ffabf0a7e1ae10a",
       "version_major": 2,
       "version_minor": 0
      },
      "text/plain": [
       "HBox(children=(HTML(value=''), FloatProgress(value=0.0, max=10.0), HTML(value='')))"
      ]
     },
     "metadata": {},
     "output_type": "display_data"
    },
    {
     "name": "stdout",
     "output_type": "stream",
     "text": [
      "\n"
     ]
    },
    {
     "data": {
      "application/vnd.jupyter.widget-view+json": {
       "model_id": "baaea8cc965944d3974532ee98af1afe",
       "version_major": 2,
       "version_minor": 0
      },
      "text/plain": [
       "HBox(children=(HTML(value=''), FloatProgress(value=0.0, max=10.0), HTML(value='')))"
      ]
     },
     "metadata": {},
     "output_type": "display_data"
    },
    {
     "name": "stdout",
     "output_type": "stream",
     "text": [
      "\n"
     ]
    },
    {
     "data": {
      "application/vnd.jupyter.widget-view+json": {
       "model_id": "9d731d16ed0343cc95bef6e7c0e489cc",
       "version_major": 2,
       "version_minor": 0
      },
      "text/plain": [
       "HBox(children=(HTML(value=''), FloatProgress(value=0.0, max=10.0), HTML(value='')))"
      ]
     },
     "metadata": {},
     "output_type": "display_data"
    },
    {
     "name": "stdout",
     "output_type": "stream",
     "text": [
      "\n"
     ]
    },
    {
     "data": {
      "application/vnd.jupyter.widget-view+json": {
       "model_id": "a7531281e0c246559c71c2c31041dc84",
       "version_major": 2,
       "version_minor": 0
      },
      "text/plain": [
       "HBox(children=(HTML(value=''), FloatProgress(value=0.0, max=10.0), HTML(value='')))"
      ]
     },
     "metadata": {},
     "output_type": "display_data"
    },
    {
     "name": "stdout",
     "output_type": "stream",
     "text": [
      "\n"
     ]
    },
    {
     "data": {
      "application/vnd.jupyter.widget-view+json": {
       "model_id": "a53b0bfeef4945d284a7e062841d5599",
       "version_major": 2,
       "version_minor": 0
      },
      "text/plain": [
       "HBox(children=(HTML(value=''), FloatProgress(value=0.0, max=10.0), HTML(value='')))"
      ]
     },
     "metadata": {},
     "output_type": "display_data"
    },
    {
     "name": "stdout",
     "output_type": "stream",
     "text": [
      "\n"
     ]
    },
    {
     "data": {
      "application/vnd.jupyter.widget-view+json": {
       "model_id": "be6056cc009d4184896719cf4c4d9755",
       "version_major": 2,
       "version_minor": 0
      },
      "text/plain": [
       "HBox(children=(HTML(value=''), FloatProgress(value=0.0, max=10.0), HTML(value='')))"
      ]
     },
     "metadata": {},
     "output_type": "display_data"
    },
    {
     "name": "stdout",
     "output_type": "stream",
     "text": [
      "\n"
     ]
    },
    {
     "data": {
      "application/vnd.jupyter.widget-view+json": {
       "model_id": "9f59d97833014a29801deca31216af37",
       "version_major": 2,
       "version_minor": 0
      },
      "text/plain": [
       "HBox(children=(HTML(value=''), FloatProgress(value=0.0, max=10.0), HTML(value='')))"
      ]
     },
     "metadata": {},
     "output_type": "display_data"
    },
    {
     "name": "stdout",
     "output_type": "stream",
     "text": [
      "\n"
     ]
    },
    {
     "data": {
      "application/vnd.jupyter.widget-view+json": {
       "model_id": "54b08261caee41aeaa842c426b300558",
       "version_major": 2,
       "version_minor": 0
      },
      "text/plain": [
       "HBox(children=(HTML(value=''), FloatProgress(value=0.0, max=10.0), HTML(value='')))"
      ]
     },
     "metadata": {},
     "output_type": "display_data"
    },
    {
     "name": "stdout",
     "output_type": "stream",
     "text": [
      "\n"
     ]
    },
    {
     "data": {
      "application/vnd.jupyter.widget-view+json": {
       "model_id": "f9868f7c97d04d51a03422bafa5e14d0",
       "version_major": 2,
       "version_minor": 0
      },
      "text/plain": [
       "HBox(children=(HTML(value=''), FloatProgress(value=0.0, max=10.0), HTML(value='')))"
      ]
     },
     "metadata": {},
     "output_type": "display_data"
    },
    {
     "name": "stdout",
     "output_type": "stream",
     "text": [
      "\n"
     ]
    },
    {
     "data": {
      "application/vnd.jupyter.widget-view+json": {
       "model_id": "f8d0176287b54553b2c237c480f10c46",
       "version_major": 2,
       "version_minor": 0
      },
      "text/plain": [
       "HBox(children=(HTML(value=''), FloatProgress(value=0.0, max=10.0), HTML(value='')))"
      ]
     },
     "metadata": {},
     "output_type": "display_data"
    },
    {
     "name": "stdout",
     "output_type": "stream",
     "text": [
      "\n"
     ]
    },
    {
     "data": {
      "application/vnd.jupyter.widget-view+json": {
       "model_id": "966ef8ae3fc744609a8788ca9357923b",
       "version_major": 2,
       "version_minor": 0
      },
      "text/plain": [
       "HBox(children=(HTML(value=''), FloatProgress(value=0.0, max=10.0), HTML(value='')))"
      ]
     },
     "metadata": {},
     "output_type": "display_data"
    },
    {
     "name": "stdout",
     "output_type": "stream",
     "text": [
      "\n"
     ]
    },
    {
     "data": {
      "application/vnd.jupyter.widget-view+json": {
       "model_id": "66e1df2004094432b0addef134bafccc",
       "version_major": 2,
       "version_minor": 0
      },
      "text/plain": [
       "HBox(children=(HTML(value=''), FloatProgress(value=0.0, max=10.0), HTML(value='')))"
      ]
     },
     "metadata": {},
     "output_type": "display_data"
    },
    {
     "name": "stdout",
     "output_type": "stream",
     "text": [
      "\n"
     ]
    },
    {
     "data": {
      "application/vnd.jupyter.widget-view+json": {
       "model_id": "4f6a2ba7b17a4601a3f06b95b2bf83fd",
       "version_major": 2,
       "version_minor": 0
      },
      "text/plain": [
       "HBox(children=(HTML(value=''), FloatProgress(value=0.0, max=20.0), HTML(value='')))"
      ]
     },
     "metadata": {},
     "output_type": "display_data"
    },
    {
     "name": "stdout",
     "output_type": "stream",
     "text": [
      "\n"
     ]
    },
    {
     "data": {
      "application/vnd.jupyter.widget-view+json": {
       "model_id": "bdd3315712374301bb9a5558bb5e2296",
       "version_major": 2,
       "version_minor": 0
      },
      "text/plain": [
       "HBox(children=(HTML(value=''), FloatProgress(value=0.0, max=20.0), HTML(value='')))"
      ]
     },
     "metadata": {},
     "output_type": "display_data"
    },
    {
     "name": "stdout",
     "output_type": "stream",
     "text": [
      "\n"
     ]
    },
    {
     "data": {
      "application/vnd.jupyter.widget-view+json": {
       "model_id": "72c38fdad262498cb69faa115be49d56",
       "version_major": 2,
       "version_minor": 0
      },
      "text/plain": [
       "HBox(children=(HTML(value=''), FloatProgress(value=0.0, max=20.0), HTML(value='')))"
      ]
     },
     "metadata": {},
     "output_type": "display_data"
    },
    {
     "name": "stdout",
     "output_type": "stream",
     "text": [
      "\n"
     ]
    },
    {
     "data": {
      "application/vnd.jupyter.widget-view+json": {
       "model_id": "af7c434a7af54b4599775efcc5f26fe6",
       "version_major": 2,
       "version_minor": 0
      },
      "text/plain": [
       "HBox(children=(HTML(value=''), FloatProgress(value=0.0, max=20.0), HTML(value='')))"
      ]
     },
     "metadata": {},
     "output_type": "display_data"
    },
    {
     "name": "stdout",
     "output_type": "stream",
     "text": [
      "\n"
     ]
    },
    {
     "data": {
      "application/vnd.jupyter.widget-view+json": {
       "model_id": "bbe41f8eed9c4764adaeff6d93047f5d",
       "version_major": 2,
       "version_minor": 0
      },
      "text/plain": [
       "HBox(children=(HTML(value=''), FloatProgress(value=0.0, max=20.0), HTML(value='')))"
      ]
     },
     "metadata": {},
     "output_type": "display_data"
    },
    {
     "name": "stdout",
     "output_type": "stream",
     "text": [
      "\n"
     ]
    },
    {
     "data": {
      "application/vnd.jupyter.widget-view+json": {
       "model_id": "e40fa9b7052a4e62b7720ba15153553a",
       "version_major": 2,
       "version_minor": 0
      },
      "text/plain": [
       "HBox(children=(HTML(value=''), FloatProgress(value=0.0, max=20.0), HTML(value='')))"
      ]
     },
     "metadata": {},
     "output_type": "display_data"
    },
    {
     "name": "stdout",
     "output_type": "stream",
     "text": [
      "\n"
     ]
    },
    {
     "data": {
      "application/vnd.jupyter.widget-view+json": {
       "model_id": "824d94f7362345e1ab02971f30c73b17",
       "version_major": 2,
       "version_minor": 0
      },
      "text/plain": [
       "HBox(children=(HTML(value=''), FloatProgress(value=0.0, max=20.0), HTML(value='')))"
      ]
     },
     "metadata": {},
     "output_type": "display_data"
    },
    {
     "name": "stdout",
     "output_type": "stream",
     "text": [
      "\n"
     ]
    },
    {
     "data": {
      "application/vnd.jupyter.widget-view+json": {
       "model_id": "9237c67989ba417da8f9a3f9dbb299d7",
       "version_major": 2,
       "version_minor": 0
      },
      "text/plain": [
       "HBox(children=(HTML(value=''), FloatProgress(value=0.0, max=20.0), HTML(value='')))"
      ]
     },
     "metadata": {},
     "output_type": "display_data"
    },
    {
     "name": "stdout",
     "output_type": "stream",
     "text": [
      "\n"
     ]
    },
    {
     "data": {
      "application/vnd.jupyter.widget-view+json": {
       "model_id": "9c0f94c26e484a0393db0ce6443e2182",
       "version_major": 2,
       "version_minor": 0
      },
      "text/plain": [
       "HBox(children=(HTML(value=''), FloatProgress(value=0.0, max=20.0), HTML(value='')))"
      ]
     },
     "metadata": {},
     "output_type": "display_data"
    },
    {
     "name": "stdout",
     "output_type": "stream",
     "text": [
      "\n"
     ]
    },
    {
     "data": {
      "application/vnd.jupyter.widget-view+json": {
       "model_id": "e384682b3fda45c0b1966f68b31fad55",
       "version_major": 2,
       "version_minor": 0
      },
      "text/plain": [
       "HBox(children=(HTML(value=''), FloatProgress(value=0.0, max=20.0), HTML(value='')))"
      ]
     },
     "metadata": {},
     "output_type": "display_data"
    },
    {
     "name": "stdout",
     "output_type": "stream",
     "text": [
      "\n"
     ]
    },
    {
     "data": {
      "application/vnd.jupyter.widget-view+json": {
       "model_id": "1e825b6c297f41c9b280919ea9c0022d",
       "version_major": 2,
       "version_minor": 0
      },
      "text/plain": [
       "HBox(children=(HTML(value=''), FloatProgress(value=0.0, max=20.0), HTML(value='')))"
      ]
     },
     "metadata": {},
     "output_type": "display_data"
    },
    {
     "name": "stdout",
     "output_type": "stream",
     "text": [
      "\n"
     ]
    },
    {
     "data": {
      "application/vnd.jupyter.widget-view+json": {
       "model_id": "015ec832f35148d685a687e603153bb2",
       "version_major": 2,
       "version_minor": 0
      },
      "text/plain": [
       "HBox(children=(HTML(value=''), FloatProgress(value=0.0, max=20.0), HTML(value='')))"
      ]
     },
     "metadata": {},
     "output_type": "display_data"
    },
    {
     "name": "stdout",
     "output_type": "stream",
     "text": [
      "\n"
     ]
    },
    {
     "data": {
      "application/vnd.jupyter.widget-view+json": {
       "model_id": "c23702f046f54540bdb6eb1e48c908b0",
       "version_major": 2,
       "version_minor": 0
      },
      "text/plain": [
       "HBox(children=(HTML(value=''), FloatProgress(value=0.0, max=20.0), HTML(value='')))"
      ]
     },
     "metadata": {},
     "output_type": "display_data"
    },
    {
     "name": "stdout",
     "output_type": "stream",
     "text": [
      "\n"
     ]
    },
    {
     "data": {
      "application/vnd.jupyter.widget-view+json": {
       "model_id": "1d0d9c1f1c5144b5981dd723df1e7bd3",
       "version_major": 2,
       "version_minor": 0
      },
      "text/plain": [
       "HBox(children=(HTML(value=''), FloatProgress(value=0.0, max=20.0), HTML(value='')))"
      ]
     },
     "metadata": {},
     "output_type": "display_data"
    },
    {
     "name": "stdout",
     "output_type": "stream",
     "text": [
      "\n"
     ]
    },
    {
     "data": {
      "application/vnd.jupyter.widget-view+json": {
       "model_id": "ed5a202a8c8c49b7af3a7fb57ee96b80",
       "version_major": 2,
       "version_minor": 0
      },
      "text/plain": [
       "HBox(children=(HTML(value=''), FloatProgress(value=0.0, max=20.0), HTML(value='')))"
      ]
     },
     "metadata": {},
     "output_type": "display_data"
    },
    {
     "name": "stdout",
     "output_type": "stream",
     "text": [
      "\n"
     ]
    },
    {
     "data": {
      "application/vnd.jupyter.widget-view+json": {
       "model_id": "c30cd8b0efc8446f8e834a23c4241bdb",
       "version_major": 2,
       "version_minor": 0
      },
      "text/plain": [
       "HBox(children=(HTML(value=''), FloatProgress(value=0.0, max=20.0), HTML(value='')))"
      ]
     },
     "metadata": {},
     "output_type": "display_data"
    },
    {
     "name": "stdout",
     "output_type": "stream",
     "text": [
      "\n"
     ]
    },
    {
     "data": {
      "application/vnd.jupyter.widget-view+json": {
       "model_id": "e6bf62cf50bc461fb2592cc763683283",
       "version_major": 2,
       "version_minor": 0
      },
      "text/plain": [
       "HBox(children=(HTML(value=''), FloatProgress(value=0.0, max=50.0), HTML(value='')))"
      ]
     },
     "metadata": {},
     "output_type": "display_data"
    },
    {
     "name": "stdout",
     "output_type": "stream",
     "text": [
      "\n"
     ]
    },
    {
     "data": {
      "application/vnd.jupyter.widget-view+json": {
       "model_id": "9ee7801adcd445ee9e16087311383ccd",
       "version_major": 2,
       "version_minor": 0
      },
      "text/plain": [
       "HBox(children=(HTML(value=''), FloatProgress(value=0.0, max=50.0), HTML(value='')))"
      ]
     },
     "metadata": {},
     "output_type": "display_data"
    },
    {
     "name": "stdout",
     "output_type": "stream",
     "text": [
      "\n"
     ]
    },
    {
     "data": {
      "application/vnd.jupyter.widget-view+json": {
       "model_id": "32a3f898b2ba45a1ab25f19522f5d4ac",
       "version_major": 2,
       "version_minor": 0
      },
      "text/plain": [
       "HBox(children=(HTML(value=''), FloatProgress(value=0.0, max=50.0), HTML(value='')))"
      ]
     },
     "metadata": {},
     "output_type": "display_data"
    },
    {
     "name": "stdout",
     "output_type": "stream",
     "text": [
      "\n"
     ]
    },
    {
     "data": {
      "application/vnd.jupyter.widget-view+json": {
       "model_id": "74f23c84edcd43a88151884828f75f89",
       "version_major": 2,
       "version_minor": 0
      },
      "text/plain": [
       "HBox(children=(HTML(value=''), FloatProgress(value=0.0, max=50.0), HTML(value='')))"
      ]
     },
     "metadata": {},
     "output_type": "display_data"
    },
    {
     "name": "stdout",
     "output_type": "stream",
     "text": [
      "\n"
     ]
    },
    {
     "data": {
      "application/vnd.jupyter.widget-view+json": {
       "model_id": "072da79649e44de586498d7605459675",
       "version_major": 2,
       "version_minor": 0
      },
      "text/plain": [
       "HBox(children=(HTML(value=''), FloatProgress(value=0.0, max=50.0), HTML(value='')))"
      ]
     },
     "metadata": {},
     "output_type": "display_data"
    },
    {
     "name": "stdout",
     "output_type": "stream",
     "text": [
      "\n"
     ]
    },
    {
     "data": {
      "application/vnd.jupyter.widget-view+json": {
       "model_id": "1e0668cf3a8842789ebdaf847561909d",
       "version_major": 2,
       "version_minor": 0
      },
      "text/plain": [
       "HBox(children=(HTML(value=''), FloatProgress(value=0.0, max=50.0), HTML(value='')))"
      ]
     },
     "metadata": {},
     "output_type": "display_data"
    },
    {
     "name": "stdout",
     "output_type": "stream",
     "text": [
      "\n"
     ]
    },
    {
     "data": {
      "application/vnd.jupyter.widget-view+json": {
       "model_id": "17b9ab8d19704d2cb287c88724b1fb63",
       "version_major": 2,
       "version_minor": 0
      },
      "text/plain": [
       "HBox(children=(HTML(value=''), FloatProgress(value=0.0, max=50.0), HTML(value='')))"
      ]
     },
     "metadata": {},
     "output_type": "display_data"
    },
    {
     "name": "stdout",
     "output_type": "stream",
     "text": [
      "\n"
     ]
    },
    {
     "data": {
      "application/vnd.jupyter.widget-view+json": {
       "model_id": "7eb3bcd4f9754c999df924094b9e5093",
       "version_major": 2,
       "version_minor": 0
      },
      "text/plain": [
       "HBox(children=(HTML(value=''), FloatProgress(value=0.0, max=50.0), HTML(value='')))"
      ]
     },
     "metadata": {},
     "output_type": "display_data"
    },
    {
     "name": "stdout",
     "output_type": "stream",
     "text": [
      "\n"
     ]
    },
    {
     "data": {
      "application/vnd.jupyter.widget-view+json": {
       "model_id": "3dd3782b85184b8db881bf897f1fc109",
       "version_major": 2,
       "version_minor": 0
      },
      "text/plain": [
       "HBox(children=(HTML(value=''), FloatProgress(value=0.0, max=50.0), HTML(value='')))"
      ]
     },
     "metadata": {},
     "output_type": "display_data"
    },
    {
     "name": "stdout",
     "output_type": "stream",
     "text": [
      "\n"
     ]
    },
    {
     "data": {
      "application/vnd.jupyter.widget-view+json": {
       "model_id": "9f49b139e4e44b27a48729b80f885f11",
       "version_major": 2,
       "version_minor": 0
      },
      "text/plain": [
       "HBox(children=(HTML(value=''), FloatProgress(value=0.0, max=50.0), HTML(value='')))"
      ]
     },
     "metadata": {},
     "output_type": "display_data"
    },
    {
     "name": "stdout",
     "output_type": "stream",
     "text": [
      "\n"
     ]
    },
    {
     "data": {
      "application/vnd.jupyter.widget-view+json": {
       "model_id": "590981f36f7e42959a2643128ba5ec2c",
       "version_major": 2,
       "version_minor": 0
      },
      "text/plain": [
       "HBox(children=(HTML(value=''), FloatProgress(value=0.0, max=50.0), HTML(value='')))"
      ]
     },
     "metadata": {},
     "output_type": "display_data"
    },
    {
     "name": "stdout",
     "output_type": "stream",
     "text": [
      "\n"
     ]
    },
    {
     "data": {
      "application/vnd.jupyter.widget-view+json": {
       "model_id": "3039e792df6f4357a33626fe462dd08a",
       "version_major": 2,
       "version_minor": 0
      },
      "text/plain": [
       "HBox(children=(HTML(value=''), FloatProgress(value=0.0, max=50.0), HTML(value='')))"
      ]
     },
     "metadata": {},
     "output_type": "display_data"
    },
    {
     "name": "stdout",
     "output_type": "stream",
     "text": [
      "\n"
     ]
    },
    {
     "data": {
      "application/vnd.jupyter.widget-view+json": {
       "model_id": "e0c74055f8684fc7906ee197a0770f12",
       "version_major": 2,
       "version_minor": 0
      },
      "text/plain": [
       "HBox(children=(HTML(value=''), FloatProgress(value=0.0, max=50.0), HTML(value='')))"
      ]
     },
     "metadata": {},
     "output_type": "display_data"
    },
    {
     "name": "stdout",
     "output_type": "stream",
     "text": [
      "\n"
     ]
    },
    {
     "data": {
      "application/vnd.jupyter.widget-view+json": {
       "model_id": "4ae9b57d682a4327811082f936279c06",
       "version_major": 2,
       "version_minor": 0
      },
      "text/plain": [
       "HBox(children=(HTML(value=''), FloatProgress(value=0.0, max=50.0), HTML(value='')))"
      ]
     },
     "metadata": {},
     "output_type": "display_data"
    },
    {
     "name": "stdout",
     "output_type": "stream",
     "text": [
      "\n"
     ]
    },
    {
     "data": {
      "application/vnd.jupyter.widget-view+json": {
       "model_id": "f98847a1ece4418399d72481e394e334",
       "version_major": 2,
       "version_minor": 0
      },
      "text/plain": [
       "HBox(children=(HTML(value=''), FloatProgress(value=0.0, max=50.0), HTML(value='')))"
      ]
     },
     "metadata": {},
     "output_type": "display_data"
    },
    {
     "name": "stdout",
     "output_type": "stream",
     "text": [
      "\n"
     ]
    },
    {
     "data": {
      "application/vnd.jupyter.widget-view+json": {
       "model_id": "59ce9b13f7ff448fb1f09c4adac04ba9",
       "version_major": 2,
       "version_minor": 0
      },
      "text/plain": [
       "HBox(children=(HTML(value=''), FloatProgress(value=0.0, max=50.0), HTML(value='')))"
      ]
     },
     "metadata": {},
     "output_type": "display_data"
    },
    {
     "name": "stdout",
     "output_type": "stream",
     "text": [
      "\n"
     ]
    },
    {
     "data": {
      "application/vnd.jupyter.widget-view+json": {
       "model_id": "465cf1637e7c4372bef4199df3cef440",
       "version_major": 2,
       "version_minor": 0
      },
      "text/plain": [
       "HBox(children=(HTML(value=''), FloatProgress(value=0.0, max=5.0), HTML(value='')))"
      ]
     },
     "metadata": {},
     "output_type": "display_data"
    },
    {
     "name": "stdout",
     "output_type": "stream",
     "text": [
      "\n"
     ]
    },
    {
     "data": {
      "application/vnd.jupyter.widget-view+json": {
       "model_id": "5c1d1c46f9cc494da867828c39bfa064",
       "version_major": 2,
       "version_minor": 0
      },
      "text/plain": [
       "HBox(children=(HTML(value=''), FloatProgress(value=0.0, max=5.0), HTML(value='')))"
      ]
     },
     "metadata": {},
     "output_type": "display_data"
    },
    {
     "name": "stdout",
     "output_type": "stream",
     "text": [
      "\n"
     ]
    },
    {
     "data": {
      "application/vnd.jupyter.widget-view+json": {
       "model_id": "68cbb165e4f64cac8222c6e606170868",
       "version_major": 2,
       "version_minor": 0
      },
      "text/plain": [
       "HBox(children=(HTML(value=''), FloatProgress(value=0.0, max=5.0), HTML(value='')))"
      ]
     },
     "metadata": {},
     "output_type": "display_data"
    },
    {
     "name": "stdout",
     "output_type": "stream",
     "text": [
      "\n"
     ]
    },
    {
     "data": {
      "application/vnd.jupyter.widget-view+json": {
       "model_id": "0fd6b48b17c645dd973c976dfd58182f",
       "version_major": 2,
       "version_minor": 0
      },
      "text/plain": [
       "HBox(children=(HTML(value=''), FloatProgress(value=0.0, max=5.0), HTML(value='')))"
      ]
     },
     "metadata": {},
     "output_type": "display_data"
    },
    {
     "name": "stdout",
     "output_type": "stream",
     "text": [
      "\n"
     ]
    },
    {
     "data": {
      "application/vnd.jupyter.widget-view+json": {
       "model_id": "8cf823cd816e4451957a7e27e583b266",
       "version_major": 2,
       "version_minor": 0
      },
      "text/plain": [
       "HBox(children=(HTML(value=''), FloatProgress(value=0.0, max=5.0), HTML(value='')))"
      ]
     },
     "metadata": {},
     "output_type": "display_data"
    },
    {
     "name": "stdout",
     "output_type": "stream",
     "text": [
      "\n"
     ]
    },
    {
     "data": {
      "application/vnd.jupyter.widget-view+json": {
       "model_id": "85b50332a8f04252a9e7ecfd0c92ab67",
       "version_major": 2,
       "version_minor": 0
      },
      "text/plain": [
       "HBox(children=(HTML(value=''), FloatProgress(value=0.0, max=5.0), HTML(value='')))"
      ]
     },
     "metadata": {},
     "output_type": "display_data"
    },
    {
     "name": "stdout",
     "output_type": "stream",
     "text": [
      "\n"
     ]
    },
    {
     "data": {
      "application/vnd.jupyter.widget-view+json": {
       "model_id": "82399df21391457cacf2cd9ce2a82746",
       "version_major": 2,
       "version_minor": 0
      },
      "text/plain": [
       "HBox(children=(HTML(value=''), FloatProgress(value=0.0, max=5.0), HTML(value='')))"
      ]
     },
     "metadata": {},
     "output_type": "display_data"
    },
    {
     "name": "stdout",
     "output_type": "stream",
     "text": [
      "\n"
     ]
    },
    {
     "data": {
      "application/vnd.jupyter.widget-view+json": {
       "model_id": "dba79bf40d7a4dec99d916cf53da7668",
       "version_major": 2,
       "version_minor": 0
      },
      "text/plain": [
       "HBox(children=(HTML(value=''), FloatProgress(value=0.0, max=5.0), HTML(value='')))"
      ]
     },
     "metadata": {},
     "output_type": "display_data"
    },
    {
     "name": "stdout",
     "output_type": "stream",
     "text": [
      "\n"
     ]
    },
    {
     "data": {
      "application/vnd.jupyter.widget-view+json": {
       "model_id": "93bfac57e7604d9493ecda5653e135d0",
       "version_major": 2,
       "version_minor": 0
      },
      "text/plain": [
       "HBox(children=(HTML(value=''), FloatProgress(value=0.0, max=5.0), HTML(value='')))"
      ]
     },
     "metadata": {},
     "output_type": "display_data"
    },
    {
     "name": "stdout",
     "output_type": "stream",
     "text": [
      "\n"
     ]
    },
    {
     "data": {
      "application/vnd.jupyter.widget-view+json": {
       "model_id": "1ada9013a6984bbe8305e73df1527ec5",
       "version_major": 2,
       "version_minor": 0
      },
      "text/plain": [
       "HBox(children=(HTML(value=''), FloatProgress(value=0.0, max=5.0), HTML(value='')))"
      ]
     },
     "metadata": {},
     "output_type": "display_data"
    },
    {
     "name": "stdout",
     "output_type": "stream",
     "text": [
      "\n"
     ]
    },
    {
     "data": {
      "application/vnd.jupyter.widget-view+json": {
       "model_id": "b6a92ba1cc6d49c0a9587f1fe4480203",
       "version_major": 2,
       "version_minor": 0
      },
      "text/plain": [
       "HBox(children=(HTML(value=''), FloatProgress(value=0.0, max=5.0), HTML(value='')))"
      ]
     },
     "metadata": {},
     "output_type": "display_data"
    },
    {
     "name": "stdout",
     "output_type": "stream",
     "text": [
      "\n"
     ]
    },
    {
     "data": {
      "application/vnd.jupyter.widget-view+json": {
       "model_id": "104af6c3dfa444d2a6be13328784a6b2",
       "version_major": 2,
       "version_minor": 0
      },
      "text/plain": [
       "HBox(children=(HTML(value=''), FloatProgress(value=0.0, max=5.0), HTML(value='')))"
      ]
     },
     "metadata": {},
     "output_type": "display_data"
    },
    {
     "name": "stdout",
     "output_type": "stream",
     "text": [
      "\n"
     ]
    },
    {
     "data": {
      "application/vnd.jupyter.widget-view+json": {
       "model_id": "5fe5eab6aab449448eceb4b07a29f0a3",
       "version_major": 2,
       "version_minor": 0
      },
      "text/plain": [
       "HBox(children=(HTML(value=''), FloatProgress(value=0.0, max=5.0), HTML(value='')))"
      ]
     },
     "metadata": {},
     "output_type": "display_data"
    },
    {
     "name": "stdout",
     "output_type": "stream",
     "text": [
      "\n"
     ]
    },
    {
     "data": {
      "application/vnd.jupyter.widget-view+json": {
       "model_id": "47af133c598e4ebeb5718fd80fda2aae",
       "version_major": 2,
       "version_minor": 0
      },
      "text/plain": [
       "HBox(children=(HTML(value=''), FloatProgress(value=0.0, max=5.0), HTML(value='')))"
      ]
     },
     "metadata": {},
     "output_type": "display_data"
    },
    {
     "name": "stdout",
     "output_type": "stream",
     "text": [
      "\n"
     ]
    },
    {
     "data": {
      "application/vnd.jupyter.widget-view+json": {
       "model_id": "f748a1041c694735bfc2720d28f71c1e",
       "version_major": 2,
       "version_minor": 0
      },
      "text/plain": [
       "HBox(children=(HTML(value=''), FloatProgress(value=0.0, max=5.0), HTML(value='')))"
      ]
     },
     "metadata": {},
     "output_type": "display_data"
    },
    {
     "name": "stdout",
     "output_type": "stream",
     "text": [
      "\n"
     ]
    },
    {
     "data": {
      "application/vnd.jupyter.widget-view+json": {
       "model_id": "35c29a8269c34326b3ac3a6c1d45a192",
       "version_major": 2,
       "version_minor": 0
      },
      "text/plain": [
       "HBox(children=(HTML(value=''), FloatProgress(value=0.0, max=5.0), HTML(value='')))"
      ]
     },
     "metadata": {},
     "output_type": "display_data"
    },
    {
     "name": "stdout",
     "output_type": "stream",
     "text": [
      "\n"
     ]
    },
    {
     "data": {
      "application/vnd.jupyter.widget-view+json": {
       "model_id": "2197825596344eeaa0de5c574cb83a0c",
       "version_major": 2,
       "version_minor": 0
      },
      "text/plain": [
       "HBox(children=(HTML(value=''), FloatProgress(value=0.0, max=10.0), HTML(value='')))"
      ]
     },
     "metadata": {},
     "output_type": "display_data"
    },
    {
     "name": "stdout",
     "output_type": "stream",
     "text": [
      "\n"
     ]
    },
    {
     "data": {
      "application/vnd.jupyter.widget-view+json": {
       "model_id": "e8dc0b9462ba4b8ab2ec9665671e4ec8",
       "version_major": 2,
       "version_minor": 0
      },
      "text/plain": [
       "HBox(children=(HTML(value=''), FloatProgress(value=0.0, max=10.0), HTML(value='')))"
      ]
     },
     "metadata": {},
     "output_type": "display_data"
    },
    {
     "name": "stdout",
     "output_type": "stream",
     "text": [
      "\n"
     ]
    },
    {
     "data": {
      "application/vnd.jupyter.widget-view+json": {
       "model_id": "15400f5ca6d44ac187647b562808fb67",
       "version_major": 2,
       "version_minor": 0
      },
      "text/plain": [
       "HBox(children=(HTML(value=''), FloatProgress(value=0.0, max=10.0), HTML(value='')))"
      ]
     },
     "metadata": {},
     "output_type": "display_data"
    },
    {
     "name": "stdout",
     "output_type": "stream",
     "text": [
      "\n"
     ]
    },
    {
     "data": {
      "application/vnd.jupyter.widget-view+json": {
       "model_id": "1cb155392e6d4d39918213ef7733295d",
       "version_major": 2,
       "version_minor": 0
      },
      "text/plain": [
       "HBox(children=(HTML(value=''), FloatProgress(value=0.0, max=10.0), HTML(value='')))"
      ]
     },
     "metadata": {},
     "output_type": "display_data"
    },
    {
     "name": "stdout",
     "output_type": "stream",
     "text": [
      "\n"
     ]
    },
    {
     "data": {
      "application/vnd.jupyter.widget-view+json": {
       "model_id": "d8cb90b53189490b8b85b57c0f545113",
       "version_major": 2,
       "version_minor": 0
      },
      "text/plain": [
       "HBox(children=(HTML(value=''), FloatProgress(value=0.0, max=10.0), HTML(value='')))"
      ]
     },
     "metadata": {},
     "output_type": "display_data"
    },
    {
     "name": "stdout",
     "output_type": "stream",
     "text": [
      "\n"
     ]
    },
    {
     "data": {
      "application/vnd.jupyter.widget-view+json": {
       "model_id": "94f002f8f73b48549bbea4e5322fbae0",
       "version_major": 2,
       "version_minor": 0
      },
      "text/plain": [
       "HBox(children=(HTML(value=''), FloatProgress(value=0.0, max=10.0), HTML(value='')))"
      ]
     },
     "metadata": {},
     "output_type": "display_data"
    },
    {
     "name": "stdout",
     "output_type": "stream",
     "text": [
      "\n"
     ]
    },
    {
     "data": {
      "application/vnd.jupyter.widget-view+json": {
       "model_id": "b43350ded19c4bf9ba54bd6c15838fb7",
       "version_major": 2,
       "version_minor": 0
      },
      "text/plain": [
       "HBox(children=(HTML(value=''), FloatProgress(value=0.0, max=10.0), HTML(value='')))"
      ]
     },
     "metadata": {},
     "output_type": "display_data"
    },
    {
     "name": "stdout",
     "output_type": "stream",
     "text": [
      "\n"
     ]
    },
    {
     "data": {
      "application/vnd.jupyter.widget-view+json": {
       "model_id": "656e8ae0a6004a09add96b96f20741a6",
       "version_major": 2,
       "version_minor": 0
      },
      "text/plain": [
       "HBox(children=(HTML(value=''), FloatProgress(value=0.0, max=10.0), HTML(value='')))"
      ]
     },
     "metadata": {},
     "output_type": "display_data"
    },
    {
     "name": "stdout",
     "output_type": "stream",
     "text": [
      "\n"
     ]
    },
    {
     "data": {
      "application/vnd.jupyter.widget-view+json": {
       "model_id": "f5fc879a4cf34d528ad90b15c75cd18a",
       "version_major": 2,
       "version_minor": 0
      },
      "text/plain": [
       "HBox(children=(HTML(value=''), FloatProgress(value=0.0, max=10.0), HTML(value='')))"
      ]
     },
     "metadata": {},
     "output_type": "display_data"
    },
    {
     "name": "stdout",
     "output_type": "stream",
     "text": [
      "\n"
     ]
    },
    {
     "data": {
      "application/vnd.jupyter.widget-view+json": {
       "model_id": "682984b1d4c44e44a66d0b8126c5212f",
       "version_major": 2,
       "version_minor": 0
      },
      "text/plain": [
       "HBox(children=(HTML(value=''), FloatProgress(value=0.0, max=10.0), HTML(value='')))"
      ]
     },
     "metadata": {},
     "output_type": "display_data"
    },
    {
     "name": "stdout",
     "output_type": "stream",
     "text": [
      "\n"
     ]
    },
    {
     "data": {
      "application/vnd.jupyter.widget-view+json": {
       "model_id": "8e5b98186b3b4ec9961ae88ec130e2bc",
       "version_major": 2,
       "version_minor": 0
      },
      "text/plain": [
       "HBox(children=(HTML(value=''), FloatProgress(value=0.0, max=10.0), HTML(value='')))"
      ]
     },
     "metadata": {},
     "output_type": "display_data"
    },
    {
     "name": "stdout",
     "output_type": "stream",
     "text": [
      "\n"
     ]
    },
    {
     "data": {
      "application/vnd.jupyter.widget-view+json": {
       "model_id": "d683efc81fca4d9c97aab367f15643c4",
       "version_major": 2,
       "version_minor": 0
      },
      "text/plain": [
       "HBox(children=(HTML(value=''), FloatProgress(value=0.0, max=10.0), HTML(value='')))"
      ]
     },
     "metadata": {},
     "output_type": "display_data"
    },
    {
     "name": "stdout",
     "output_type": "stream",
     "text": [
      "\n"
     ]
    },
    {
     "data": {
      "application/vnd.jupyter.widget-view+json": {
       "model_id": "124ab782d3b144398fb2018d0ef28fd6",
       "version_major": 2,
       "version_minor": 0
      },
      "text/plain": [
       "HBox(children=(HTML(value=''), FloatProgress(value=0.0, max=10.0), HTML(value='')))"
      ]
     },
     "metadata": {},
     "output_type": "display_data"
    },
    {
     "name": "stdout",
     "output_type": "stream",
     "text": [
      "\n"
     ]
    },
    {
     "data": {
      "application/vnd.jupyter.widget-view+json": {
       "model_id": "75381d098e9f444fa65f73a49409f9e6",
       "version_major": 2,
       "version_minor": 0
      },
      "text/plain": [
       "HBox(children=(HTML(value=''), FloatProgress(value=0.0, max=10.0), HTML(value='')))"
      ]
     },
     "metadata": {},
     "output_type": "display_data"
    },
    {
     "name": "stdout",
     "output_type": "stream",
     "text": [
      "\n"
     ]
    },
    {
     "data": {
      "application/vnd.jupyter.widget-view+json": {
       "model_id": "5c65cc9391a64c29863e7514588d3657",
       "version_major": 2,
       "version_minor": 0
      },
      "text/plain": [
       "HBox(children=(HTML(value=''), FloatProgress(value=0.0, max=10.0), HTML(value='')))"
      ]
     },
     "metadata": {},
     "output_type": "display_data"
    },
    {
     "name": "stdout",
     "output_type": "stream",
     "text": [
      "\n"
     ]
    },
    {
     "data": {
      "application/vnd.jupyter.widget-view+json": {
       "model_id": "911e08a2035e43b7b32f73155a05952b",
       "version_major": 2,
       "version_minor": 0
      },
      "text/plain": [
       "HBox(children=(HTML(value=''), FloatProgress(value=0.0, max=10.0), HTML(value='')))"
      ]
     },
     "metadata": {},
     "output_type": "display_data"
    },
    {
     "name": "stdout",
     "output_type": "stream",
     "text": [
      "\n"
     ]
    },
    {
     "data": {
      "application/vnd.jupyter.widget-view+json": {
       "model_id": "0287fde51016462482afd693a82013ac",
       "version_major": 2,
       "version_minor": 0
      },
      "text/plain": [
       "HBox(children=(HTML(value=''), FloatProgress(value=0.0, max=20.0), HTML(value='')))"
      ]
     },
     "metadata": {},
     "output_type": "display_data"
    },
    {
     "name": "stdout",
     "output_type": "stream",
     "text": [
      "\n"
     ]
    },
    {
     "data": {
      "application/vnd.jupyter.widget-view+json": {
       "model_id": "2ea3bde78af14633b6deb0f27e64237f",
       "version_major": 2,
       "version_minor": 0
      },
      "text/plain": [
       "HBox(children=(HTML(value=''), FloatProgress(value=0.0, max=20.0), HTML(value='')))"
      ]
     },
     "metadata": {},
     "output_type": "display_data"
    },
    {
     "name": "stdout",
     "output_type": "stream",
     "text": [
      "\n"
     ]
    },
    {
     "data": {
      "application/vnd.jupyter.widget-view+json": {
       "model_id": "e2c27f28b79f40a7ba450868d6da3df3",
       "version_major": 2,
       "version_minor": 0
      },
      "text/plain": [
       "HBox(children=(HTML(value=''), FloatProgress(value=0.0, max=20.0), HTML(value='')))"
      ]
     },
     "metadata": {},
     "output_type": "display_data"
    },
    {
     "name": "stdout",
     "output_type": "stream",
     "text": [
      "\n"
     ]
    },
    {
     "data": {
      "application/vnd.jupyter.widget-view+json": {
       "model_id": "7c479202988b4dc281caa2aa8fdf6c7a",
       "version_major": 2,
       "version_minor": 0
      },
      "text/plain": [
       "HBox(children=(HTML(value=''), FloatProgress(value=0.0, max=20.0), HTML(value='')))"
      ]
     },
     "metadata": {},
     "output_type": "display_data"
    },
    {
     "name": "stdout",
     "output_type": "stream",
     "text": [
      "\n"
     ]
    },
    {
     "data": {
      "application/vnd.jupyter.widget-view+json": {
       "model_id": "3100851a6b844e85b455eb5a797796ba",
       "version_major": 2,
       "version_minor": 0
      },
      "text/plain": [
       "HBox(children=(HTML(value=''), FloatProgress(value=0.0, max=20.0), HTML(value='')))"
      ]
     },
     "metadata": {},
     "output_type": "display_data"
    },
    {
     "name": "stdout",
     "output_type": "stream",
     "text": [
      "\n"
     ]
    },
    {
     "data": {
      "application/vnd.jupyter.widget-view+json": {
       "model_id": "a2045d66d4ad49cbb82f64faac0d9023",
       "version_major": 2,
       "version_minor": 0
      },
      "text/plain": [
       "HBox(children=(HTML(value=''), FloatProgress(value=0.0, max=20.0), HTML(value='')))"
      ]
     },
     "metadata": {},
     "output_type": "display_data"
    },
    {
     "name": "stdout",
     "output_type": "stream",
     "text": [
      "\n"
     ]
    },
    {
     "data": {
      "application/vnd.jupyter.widget-view+json": {
       "model_id": "b1ad99667fcb4297836e9823094518b4",
       "version_major": 2,
       "version_minor": 0
      },
      "text/plain": [
       "HBox(children=(HTML(value=''), FloatProgress(value=0.0, max=20.0), HTML(value='')))"
      ]
     },
     "metadata": {},
     "output_type": "display_data"
    },
    {
     "name": "stdout",
     "output_type": "stream",
     "text": [
      "\n"
     ]
    },
    {
     "data": {
      "application/vnd.jupyter.widget-view+json": {
       "model_id": "69cfd8a86a3545e28ddcfecb6c2d6e80",
       "version_major": 2,
       "version_minor": 0
      },
      "text/plain": [
       "HBox(children=(HTML(value=''), FloatProgress(value=0.0, max=20.0), HTML(value='')))"
      ]
     },
     "metadata": {},
     "output_type": "display_data"
    },
    {
     "name": "stdout",
     "output_type": "stream",
     "text": [
      "\n"
     ]
    },
    {
     "data": {
      "application/vnd.jupyter.widget-view+json": {
       "model_id": "2d111456a4b440d5a82857512a35e8e7",
       "version_major": 2,
       "version_minor": 0
      },
      "text/plain": [
       "HBox(children=(HTML(value=''), FloatProgress(value=0.0, max=20.0), HTML(value='')))"
      ]
     },
     "metadata": {},
     "output_type": "display_data"
    },
    {
     "name": "stdout",
     "output_type": "stream",
     "text": [
      "\n"
     ]
    },
    {
     "data": {
      "application/vnd.jupyter.widget-view+json": {
       "model_id": "455ae3aa22134250b10e4df3c8acc510",
       "version_major": 2,
       "version_minor": 0
      },
      "text/plain": [
       "HBox(children=(HTML(value=''), FloatProgress(value=0.0, max=20.0), HTML(value='')))"
      ]
     },
     "metadata": {},
     "output_type": "display_data"
    },
    {
     "name": "stdout",
     "output_type": "stream",
     "text": [
      "\n"
     ]
    },
    {
     "data": {
      "application/vnd.jupyter.widget-view+json": {
       "model_id": "9a1def4a88d54066b99d89e01d71d9f1",
       "version_major": 2,
       "version_minor": 0
      },
      "text/plain": [
       "HBox(children=(HTML(value=''), FloatProgress(value=0.0, max=20.0), HTML(value='')))"
      ]
     },
     "metadata": {},
     "output_type": "display_data"
    },
    {
     "name": "stdout",
     "output_type": "stream",
     "text": [
      "\n"
     ]
    },
    {
     "data": {
      "application/vnd.jupyter.widget-view+json": {
       "model_id": "9497e574a0da4023a7566575ed476235",
       "version_major": 2,
       "version_minor": 0
      },
      "text/plain": [
       "HBox(children=(HTML(value=''), FloatProgress(value=0.0, max=20.0), HTML(value='')))"
      ]
     },
     "metadata": {},
     "output_type": "display_data"
    },
    {
     "name": "stdout",
     "output_type": "stream",
     "text": [
      "\n"
     ]
    },
    {
     "data": {
      "application/vnd.jupyter.widget-view+json": {
       "model_id": "b46e53cb4c7349d98630d69cea54d1b3",
       "version_major": 2,
       "version_minor": 0
      },
      "text/plain": [
       "HBox(children=(HTML(value=''), FloatProgress(value=0.0, max=20.0), HTML(value='')))"
      ]
     },
     "metadata": {},
     "output_type": "display_data"
    },
    {
     "name": "stdout",
     "output_type": "stream",
     "text": [
      "\n"
     ]
    },
    {
     "data": {
      "application/vnd.jupyter.widget-view+json": {
       "model_id": "f8a0a17dd74443b79a1517cf91995b37",
       "version_major": 2,
       "version_minor": 0
      },
      "text/plain": [
       "HBox(children=(HTML(value=''), FloatProgress(value=0.0, max=20.0), HTML(value='')))"
      ]
     },
     "metadata": {},
     "output_type": "display_data"
    },
    {
     "name": "stdout",
     "output_type": "stream",
     "text": [
      "\n"
     ]
    },
    {
     "data": {
      "application/vnd.jupyter.widget-view+json": {
       "model_id": "8a2fec8fa55b460c89f02e828cae3221",
       "version_major": 2,
       "version_minor": 0
      },
      "text/plain": [
       "HBox(children=(HTML(value=''), FloatProgress(value=0.0, max=20.0), HTML(value='')))"
      ]
     },
     "metadata": {},
     "output_type": "display_data"
    },
    {
     "name": "stdout",
     "output_type": "stream",
     "text": [
      "\n"
     ]
    },
    {
     "data": {
      "application/vnd.jupyter.widget-view+json": {
       "model_id": "06f13b646bf74e5790b9480826a5828b",
       "version_major": 2,
       "version_minor": 0
      },
      "text/plain": [
       "HBox(children=(HTML(value=''), FloatProgress(value=0.0, max=20.0), HTML(value='')))"
      ]
     },
     "metadata": {},
     "output_type": "display_data"
    },
    {
     "name": "stdout",
     "output_type": "stream",
     "text": [
      "\n"
     ]
    },
    {
     "data": {
      "application/vnd.jupyter.widget-view+json": {
       "model_id": "656e1e189ee8487ebe5243ee9339a19d",
       "version_major": 2,
       "version_minor": 0
      },
      "text/plain": [
       "HBox(children=(HTML(value=''), FloatProgress(value=0.0, max=50.0), HTML(value='')))"
      ]
     },
     "metadata": {},
     "output_type": "display_data"
    },
    {
     "name": "stdout",
     "output_type": "stream",
     "text": [
      "\n"
     ]
    },
    {
     "data": {
      "application/vnd.jupyter.widget-view+json": {
       "model_id": "851ca47f031646309c8f60b1c834189d",
       "version_major": 2,
       "version_minor": 0
      },
      "text/plain": [
       "HBox(children=(HTML(value=''), FloatProgress(value=0.0, max=50.0), HTML(value='')))"
      ]
     },
     "metadata": {},
     "output_type": "display_data"
    },
    {
     "name": "stdout",
     "output_type": "stream",
     "text": [
      "\n"
     ]
    },
    {
     "data": {
      "application/vnd.jupyter.widget-view+json": {
       "model_id": "f2a16a1a5c5c455ca75dc54b26c33c2e",
       "version_major": 2,
       "version_minor": 0
      },
      "text/plain": [
       "HBox(children=(HTML(value=''), FloatProgress(value=0.0, max=50.0), HTML(value='')))"
      ]
     },
     "metadata": {},
     "output_type": "display_data"
    },
    {
     "name": "stdout",
     "output_type": "stream",
     "text": [
      "\n"
     ]
    },
    {
     "data": {
      "application/vnd.jupyter.widget-view+json": {
       "model_id": "adf27c51357f4c17a6133a0922d65bb5",
       "version_major": 2,
       "version_minor": 0
      },
      "text/plain": [
       "HBox(children=(HTML(value=''), FloatProgress(value=0.0, max=50.0), HTML(value='')))"
      ]
     },
     "metadata": {},
     "output_type": "display_data"
    },
    {
     "name": "stdout",
     "output_type": "stream",
     "text": [
      "\n"
     ]
    },
    {
     "data": {
      "application/vnd.jupyter.widget-view+json": {
       "model_id": "476f5f3d8fb641f6864722c61dc10012",
       "version_major": 2,
       "version_minor": 0
      },
      "text/plain": [
       "HBox(children=(HTML(value=''), FloatProgress(value=0.0, max=50.0), HTML(value='')))"
      ]
     },
     "metadata": {},
     "output_type": "display_data"
    },
    {
     "name": "stdout",
     "output_type": "stream",
     "text": [
      "\n"
     ]
    },
    {
     "data": {
      "application/vnd.jupyter.widget-view+json": {
       "model_id": "2346ce09840a4e5db0909f3dfe2bbea3",
       "version_major": 2,
       "version_minor": 0
      },
      "text/plain": [
       "HBox(children=(HTML(value=''), FloatProgress(value=0.0, max=50.0), HTML(value='')))"
      ]
     },
     "metadata": {},
     "output_type": "display_data"
    },
    {
     "name": "stdout",
     "output_type": "stream",
     "text": [
      "\n"
     ]
    },
    {
     "data": {
      "application/vnd.jupyter.widget-view+json": {
       "model_id": "4939034a0cf04926b03c1dd083e4e5c1",
       "version_major": 2,
       "version_minor": 0
      },
      "text/plain": [
       "HBox(children=(HTML(value=''), FloatProgress(value=0.0, max=50.0), HTML(value='')))"
      ]
     },
     "metadata": {},
     "output_type": "display_data"
    },
    {
     "name": "stdout",
     "output_type": "stream",
     "text": [
      "\n"
     ]
    },
    {
     "data": {
      "application/vnd.jupyter.widget-view+json": {
       "model_id": "9b95a3a0c7cf4cfd82c7618ca5137cb2",
       "version_major": 2,
       "version_minor": 0
      },
      "text/plain": [
       "HBox(children=(HTML(value=''), FloatProgress(value=0.0, max=50.0), HTML(value='')))"
      ]
     },
     "metadata": {},
     "output_type": "display_data"
    },
    {
     "name": "stdout",
     "output_type": "stream",
     "text": [
      "\n"
     ]
    },
    {
     "data": {
      "application/vnd.jupyter.widget-view+json": {
       "model_id": "d6bb04a42f3b4324a7568d7ee9e4d754",
       "version_major": 2,
       "version_minor": 0
      },
      "text/plain": [
       "HBox(children=(HTML(value=''), FloatProgress(value=0.0, max=50.0), HTML(value='')))"
      ]
     },
     "metadata": {},
     "output_type": "display_data"
    },
    {
     "name": "stdout",
     "output_type": "stream",
     "text": [
      "\n"
     ]
    },
    {
     "data": {
      "application/vnd.jupyter.widget-view+json": {
       "model_id": "d881d68ec6b84636928db52c4c1bf4e9",
       "version_major": 2,
       "version_minor": 0
      },
      "text/plain": [
       "HBox(children=(HTML(value=''), FloatProgress(value=0.0, max=50.0), HTML(value='')))"
      ]
     },
     "metadata": {},
     "output_type": "display_data"
    },
    {
     "name": "stdout",
     "output_type": "stream",
     "text": [
      "\n"
     ]
    },
    {
     "data": {
      "application/vnd.jupyter.widget-view+json": {
       "model_id": "f5e42947c1d74daa98c3e97f480816f1",
       "version_major": 2,
       "version_minor": 0
      },
      "text/plain": [
       "HBox(children=(HTML(value=''), FloatProgress(value=0.0, max=50.0), HTML(value='')))"
      ]
     },
     "metadata": {},
     "output_type": "display_data"
    },
    {
     "name": "stdout",
     "output_type": "stream",
     "text": [
      "\n"
     ]
    },
    {
     "data": {
      "application/vnd.jupyter.widget-view+json": {
       "model_id": "7a036819f57445dea32fc08f60f1ba9a",
       "version_major": 2,
       "version_minor": 0
      },
      "text/plain": [
       "HBox(children=(HTML(value=''), FloatProgress(value=0.0, max=50.0), HTML(value='')))"
      ]
     },
     "metadata": {},
     "output_type": "display_data"
    },
    {
     "name": "stdout",
     "output_type": "stream",
     "text": [
      "\n"
     ]
    },
    {
     "data": {
      "application/vnd.jupyter.widget-view+json": {
       "model_id": "8bd2691f0c6f4bcd8c5effe7c9cf4fc2",
       "version_major": 2,
       "version_minor": 0
      },
      "text/plain": [
       "HBox(children=(HTML(value=''), FloatProgress(value=0.0, max=50.0), HTML(value='')))"
      ]
     },
     "metadata": {},
     "output_type": "display_data"
    },
    {
     "name": "stdout",
     "output_type": "stream",
     "text": [
      "\n"
     ]
    },
    {
     "data": {
      "application/vnd.jupyter.widget-view+json": {
       "model_id": "ff12c92fd9924860849b141dc538ed95",
       "version_major": 2,
       "version_minor": 0
      },
      "text/plain": [
       "HBox(children=(HTML(value=''), FloatProgress(value=0.0, max=50.0), HTML(value='')))"
      ]
     },
     "metadata": {},
     "output_type": "display_data"
    },
    {
     "name": "stdout",
     "output_type": "stream",
     "text": [
      "\n"
     ]
    },
    {
     "data": {
      "application/vnd.jupyter.widget-view+json": {
       "model_id": "674c954354d24646aac7a40729f0deca",
       "version_major": 2,
       "version_minor": 0
      },
      "text/plain": [
       "HBox(children=(HTML(value=''), FloatProgress(value=0.0, max=50.0), HTML(value='')))"
      ]
     },
     "metadata": {},
     "output_type": "display_data"
    },
    {
     "name": "stdout",
     "output_type": "stream",
     "text": [
      "\n"
     ]
    },
    {
     "data": {
      "application/vnd.jupyter.widget-view+json": {
       "model_id": "66499f1415e842f5aff7de6aa7fd2da1",
       "version_major": 2,
       "version_minor": 0
      },
      "text/plain": [
       "HBox(children=(HTML(value=''), FloatProgress(value=0.0, max=50.0), HTML(value='')))"
      ]
     },
     "metadata": {},
     "output_type": "display_data"
    },
    {
     "name": "stdout",
     "output_type": "stream",
     "text": [
      "\n"
     ]
    },
    {
     "data": {
      "application/vnd.jupyter.widget-view+json": {
       "model_id": "101322d7109b45c69cc6c99578ef9eb7",
       "version_major": 2,
       "version_minor": 0
      },
      "text/plain": [
       "HBox(children=(HTML(value=''), FloatProgress(value=0.0, max=5.0), HTML(value='')))"
      ]
     },
     "metadata": {},
     "output_type": "display_data"
    },
    {
     "name": "stdout",
     "output_type": "stream",
     "text": [
      "\n"
     ]
    },
    {
     "data": {
      "application/vnd.jupyter.widget-view+json": {
       "model_id": "4f8b3730243e4e468cee63a5d5b424f2",
       "version_major": 2,
       "version_minor": 0
      },
      "text/plain": [
       "HBox(children=(HTML(value=''), FloatProgress(value=0.0, max=5.0), HTML(value='')))"
      ]
     },
     "metadata": {},
     "output_type": "display_data"
    },
    {
     "name": "stdout",
     "output_type": "stream",
     "text": [
      "\n"
     ]
    },
    {
     "data": {
      "application/vnd.jupyter.widget-view+json": {
       "model_id": "12cc124edbc04afa84bf2fdb38ae3ba9",
       "version_major": 2,
       "version_minor": 0
      },
      "text/plain": [
       "HBox(children=(HTML(value=''), FloatProgress(value=0.0, max=5.0), HTML(value='')))"
      ]
     },
     "metadata": {},
     "output_type": "display_data"
    },
    {
     "name": "stdout",
     "output_type": "stream",
     "text": [
      "\n"
     ]
    },
    {
     "data": {
      "application/vnd.jupyter.widget-view+json": {
       "model_id": "5c1d0f7d9ea248d0a8cf0ec467d5915b",
       "version_major": 2,
       "version_minor": 0
      },
      "text/plain": [
       "HBox(children=(HTML(value=''), FloatProgress(value=0.0, max=5.0), HTML(value='')))"
      ]
     },
     "metadata": {},
     "output_type": "display_data"
    },
    {
     "name": "stdout",
     "output_type": "stream",
     "text": [
      "\n"
     ]
    },
    {
     "data": {
      "application/vnd.jupyter.widget-view+json": {
       "model_id": "955cda12c29944aa9be1fb33b49e9e03",
       "version_major": 2,
       "version_minor": 0
      },
      "text/plain": [
       "HBox(children=(HTML(value=''), FloatProgress(value=0.0, max=5.0), HTML(value='')))"
      ]
     },
     "metadata": {},
     "output_type": "display_data"
    },
    {
     "name": "stdout",
     "output_type": "stream",
     "text": [
      "\n"
     ]
    },
    {
     "data": {
      "application/vnd.jupyter.widget-view+json": {
       "model_id": "4615f594b47840d9878555c79b99c433",
       "version_major": 2,
       "version_minor": 0
      },
      "text/plain": [
       "HBox(children=(HTML(value=''), FloatProgress(value=0.0, max=5.0), HTML(value='')))"
      ]
     },
     "metadata": {},
     "output_type": "display_data"
    },
    {
     "name": "stdout",
     "output_type": "stream",
     "text": [
      "\n"
     ]
    },
    {
     "data": {
      "application/vnd.jupyter.widget-view+json": {
       "model_id": "1e5d5c6dad4443aea17cce3b366846a6",
       "version_major": 2,
       "version_minor": 0
      },
      "text/plain": [
       "HBox(children=(HTML(value=''), FloatProgress(value=0.0, max=5.0), HTML(value='')))"
      ]
     },
     "metadata": {},
     "output_type": "display_data"
    },
    {
     "name": "stdout",
     "output_type": "stream",
     "text": [
      "\n"
     ]
    },
    {
     "data": {
      "application/vnd.jupyter.widget-view+json": {
       "model_id": "32785c6abba948abaadb0c31b3d0434d",
       "version_major": 2,
       "version_minor": 0
      },
      "text/plain": [
       "HBox(children=(HTML(value=''), FloatProgress(value=0.0, max=5.0), HTML(value='')))"
      ]
     },
     "metadata": {},
     "output_type": "display_data"
    },
    {
     "name": "stdout",
     "output_type": "stream",
     "text": [
      "\n"
     ]
    },
    {
     "data": {
      "application/vnd.jupyter.widget-view+json": {
       "model_id": "9aca1bf3a7654760a0bb521e4caa2d21",
       "version_major": 2,
       "version_minor": 0
      },
      "text/plain": [
       "HBox(children=(HTML(value=''), FloatProgress(value=0.0, max=5.0), HTML(value='')))"
      ]
     },
     "metadata": {},
     "output_type": "display_data"
    },
    {
     "name": "stdout",
     "output_type": "stream",
     "text": [
      "\n"
     ]
    },
    {
     "data": {
      "application/vnd.jupyter.widget-view+json": {
       "model_id": "4663b31b878246b9ab0b5018d5bb3533",
       "version_major": 2,
       "version_minor": 0
      },
      "text/plain": [
       "HBox(children=(HTML(value=''), FloatProgress(value=0.0, max=5.0), HTML(value='')))"
      ]
     },
     "metadata": {},
     "output_type": "display_data"
    },
    {
     "name": "stdout",
     "output_type": "stream",
     "text": [
      "\n"
     ]
    },
    {
     "data": {
      "application/vnd.jupyter.widget-view+json": {
       "model_id": "88feaa8af8b34a8ea51f8edb2a4d69f3",
       "version_major": 2,
       "version_minor": 0
      },
      "text/plain": [
       "HBox(children=(HTML(value=''), FloatProgress(value=0.0, max=5.0), HTML(value='')))"
      ]
     },
     "metadata": {},
     "output_type": "display_data"
    },
    {
     "name": "stdout",
     "output_type": "stream",
     "text": [
      "\n"
     ]
    },
    {
     "data": {
      "application/vnd.jupyter.widget-view+json": {
       "model_id": "adce215564824190a71f08958fb548db",
       "version_major": 2,
       "version_minor": 0
      },
      "text/plain": [
       "HBox(children=(HTML(value=''), FloatProgress(value=0.0, max=5.0), HTML(value='')))"
      ]
     },
     "metadata": {},
     "output_type": "display_data"
    },
    {
     "name": "stdout",
     "output_type": "stream",
     "text": [
      "\n"
     ]
    },
    {
     "data": {
      "application/vnd.jupyter.widget-view+json": {
       "model_id": "212625981ed943a6b5954f73a9a61011",
       "version_major": 2,
       "version_minor": 0
      },
      "text/plain": [
       "HBox(children=(HTML(value=''), FloatProgress(value=0.0, max=5.0), HTML(value='')))"
      ]
     },
     "metadata": {},
     "output_type": "display_data"
    },
    {
     "name": "stdout",
     "output_type": "stream",
     "text": [
      "\n"
     ]
    },
    {
     "data": {
      "application/vnd.jupyter.widget-view+json": {
       "model_id": "a4ab1e87f2844042a924eda566939170",
       "version_major": 2,
       "version_minor": 0
      },
      "text/plain": [
       "HBox(children=(HTML(value=''), FloatProgress(value=0.0, max=5.0), HTML(value='')))"
      ]
     },
     "metadata": {},
     "output_type": "display_data"
    },
    {
     "name": "stdout",
     "output_type": "stream",
     "text": [
      "\n"
     ]
    },
    {
     "data": {
      "application/vnd.jupyter.widget-view+json": {
       "model_id": "ceeba3b186c24d63ac3bcd12d785a256",
       "version_major": 2,
       "version_minor": 0
      },
      "text/plain": [
       "HBox(children=(HTML(value=''), FloatProgress(value=0.0, max=5.0), HTML(value='')))"
      ]
     },
     "metadata": {},
     "output_type": "display_data"
    },
    {
     "name": "stdout",
     "output_type": "stream",
     "text": [
      "\n"
     ]
    },
    {
     "data": {
      "application/vnd.jupyter.widget-view+json": {
       "model_id": "52d6e0b4c3be4e068f04f28df154777b",
       "version_major": 2,
       "version_minor": 0
      },
      "text/plain": [
       "HBox(children=(HTML(value=''), FloatProgress(value=0.0, max=5.0), HTML(value='')))"
      ]
     },
     "metadata": {},
     "output_type": "display_data"
    },
    {
     "name": "stdout",
     "output_type": "stream",
     "text": [
      "\n"
     ]
    },
    {
     "data": {
      "application/vnd.jupyter.widget-view+json": {
       "model_id": "1da300eb377648da899eee111f40b517",
       "version_major": 2,
       "version_minor": 0
      },
      "text/plain": [
       "HBox(children=(HTML(value=''), FloatProgress(value=0.0, max=10.0), HTML(value='')))"
      ]
     },
     "metadata": {},
     "output_type": "display_data"
    },
    {
     "name": "stdout",
     "output_type": "stream",
     "text": [
      "\n"
     ]
    },
    {
     "data": {
      "application/vnd.jupyter.widget-view+json": {
       "model_id": "59b4d05d3ee94c06b055ab6f412038da",
       "version_major": 2,
       "version_minor": 0
      },
      "text/plain": [
       "HBox(children=(HTML(value=''), FloatProgress(value=0.0, max=10.0), HTML(value='')))"
      ]
     },
     "metadata": {},
     "output_type": "display_data"
    },
    {
     "name": "stdout",
     "output_type": "stream",
     "text": [
      "\n"
     ]
    },
    {
     "data": {
      "application/vnd.jupyter.widget-view+json": {
       "model_id": "cd722469afc244f0b31744210fe0a78e",
       "version_major": 2,
       "version_minor": 0
      },
      "text/plain": [
       "HBox(children=(HTML(value=''), FloatProgress(value=0.0, max=10.0), HTML(value='')))"
      ]
     },
     "metadata": {},
     "output_type": "display_data"
    },
    {
     "name": "stdout",
     "output_type": "stream",
     "text": [
      "\n"
     ]
    },
    {
     "data": {
      "application/vnd.jupyter.widget-view+json": {
       "model_id": "9b83b39d481448e7b8a68e5424176b8b",
       "version_major": 2,
       "version_minor": 0
      },
      "text/plain": [
       "HBox(children=(HTML(value=''), FloatProgress(value=0.0, max=10.0), HTML(value='')))"
      ]
     },
     "metadata": {},
     "output_type": "display_data"
    },
    {
     "name": "stdout",
     "output_type": "stream",
     "text": [
      "\n"
     ]
    },
    {
     "data": {
      "application/vnd.jupyter.widget-view+json": {
       "model_id": "5f6129d0afcc45ee996a335559b49db4",
       "version_major": 2,
       "version_minor": 0
      },
      "text/plain": [
       "HBox(children=(HTML(value=''), FloatProgress(value=0.0, max=10.0), HTML(value='')))"
      ]
     },
     "metadata": {},
     "output_type": "display_data"
    },
    {
     "name": "stdout",
     "output_type": "stream",
     "text": [
      "\n"
     ]
    },
    {
     "data": {
      "application/vnd.jupyter.widget-view+json": {
       "model_id": "aab5e76596a44943ad5c92cdf4d7bf42",
       "version_major": 2,
       "version_minor": 0
      },
      "text/plain": [
       "HBox(children=(HTML(value=''), FloatProgress(value=0.0, max=10.0), HTML(value='')))"
      ]
     },
     "metadata": {},
     "output_type": "display_data"
    },
    {
     "name": "stdout",
     "output_type": "stream",
     "text": [
      "\n"
     ]
    },
    {
     "data": {
      "application/vnd.jupyter.widget-view+json": {
       "model_id": "9f48006a8866476297a4025364b5ce62",
       "version_major": 2,
       "version_minor": 0
      },
      "text/plain": [
       "HBox(children=(HTML(value=''), FloatProgress(value=0.0, max=10.0), HTML(value='')))"
      ]
     },
     "metadata": {},
     "output_type": "display_data"
    },
    {
     "name": "stdout",
     "output_type": "stream",
     "text": [
      "\n"
     ]
    },
    {
     "data": {
      "application/vnd.jupyter.widget-view+json": {
       "model_id": "b2fbe8a77220414ba8575d9891447c68",
       "version_major": 2,
       "version_minor": 0
      },
      "text/plain": [
       "HBox(children=(HTML(value=''), FloatProgress(value=0.0, max=10.0), HTML(value='')))"
      ]
     },
     "metadata": {},
     "output_type": "display_data"
    },
    {
     "name": "stdout",
     "output_type": "stream",
     "text": [
      "\n"
     ]
    },
    {
     "data": {
      "application/vnd.jupyter.widget-view+json": {
       "model_id": "631de26bd40347d99190c9497e9412f5",
       "version_major": 2,
       "version_minor": 0
      },
      "text/plain": [
       "HBox(children=(HTML(value=''), FloatProgress(value=0.0, max=10.0), HTML(value='')))"
      ]
     },
     "metadata": {},
     "output_type": "display_data"
    },
    {
     "name": "stdout",
     "output_type": "stream",
     "text": [
      "\n"
     ]
    },
    {
     "data": {
      "application/vnd.jupyter.widget-view+json": {
       "model_id": "d04e650a724d4e948a9256b4c7d06c51",
       "version_major": 2,
       "version_minor": 0
      },
      "text/plain": [
       "HBox(children=(HTML(value=''), FloatProgress(value=0.0, max=10.0), HTML(value='')))"
      ]
     },
     "metadata": {},
     "output_type": "display_data"
    },
    {
     "name": "stdout",
     "output_type": "stream",
     "text": [
      "\n"
     ]
    },
    {
     "data": {
      "application/vnd.jupyter.widget-view+json": {
       "model_id": "f34751a81f46470f90819269d3532c28",
       "version_major": 2,
       "version_minor": 0
      },
      "text/plain": [
       "HBox(children=(HTML(value=''), FloatProgress(value=0.0, max=10.0), HTML(value='')))"
      ]
     },
     "metadata": {},
     "output_type": "display_data"
    },
    {
     "name": "stdout",
     "output_type": "stream",
     "text": [
      "\n"
     ]
    },
    {
     "data": {
      "application/vnd.jupyter.widget-view+json": {
       "model_id": "465d5ddc5f0545f6bd2f06e96af8edd1",
       "version_major": 2,
       "version_minor": 0
      },
      "text/plain": [
       "HBox(children=(HTML(value=''), FloatProgress(value=0.0, max=10.0), HTML(value='')))"
      ]
     },
     "metadata": {},
     "output_type": "display_data"
    },
    {
     "name": "stdout",
     "output_type": "stream",
     "text": [
      "\n"
     ]
    },
    {
     "data": {
      "application/vnd.jupyter.widget-view+json": {
       "model_id": "8477aae426904a59979c412e412d7425",
       "version_major": 2,
       "version_minor": 0
      },
      "text/plain": [
       "HBox(children=(HTML(value=''), FloatProgress(value=0.0, max=10.0), HTML(value='')))"
      ]
     },
     "metadata": {},
     "output_type": "display_data"
    },
    {
     "name": "stdout",
     "output_type": "stream",
     "text": [
      "\n"
     ]
    },
    {
     "data": {
      "application/vnd.jupyter.widget-view+json": {
       "model_id": "403fd5a40b424f63a1b088e60bb6f1e9",
       "version_major": 2,
       "version_minor": 0
      },
      "text/plain": [
       "HBox(children=(HTML(value=''), FloatProgress(value=0.0, max=10.0), HTML(value='')))"
      ]
     },
     "metadata": {},
     "output_type": "display_data"
    },
    {
     "name": "stdout",
     "output_type": "stream",
     "text": [
      "\n"
     ]
    },
    {
     "data": {
      "application/vnd.jupyter.widget-view+json": {
       "model_id": "228da6baa010438f8cd5ca57d3d53d35",
       "version_major": 2,
       "version_minor": 0
      },
      "text/plain": [
       "HBox(children=(HTML(value=''), FloatProgress(value=0.0, max=10.0), HTML(value='')))"
      ]
     },
     "metadata": {},
     "output_type": "display_data"
    },
    {
     "name": "stdout",
     "output_type": "stream",
     "text": [
      "\n"
     ]
    },
    {
     "data": {
      "application/vnd.jupyter.widget-view+json": {
       "model_id": "5e49458f31054ae0803e2211d041e9af",
       "version_major": 2,
       "version_minor": 0
      },
      "text/plain": [
       "HBox(children=(HTML(value=''), FloatProgress(value=0.0, max=10.0), HTML(value='')))"
      ]
     },
     "metadata": {},
     "output_type": "display_data"
    },
    {
     "name": "stdout",
     "output_type": "stream",
     "text": [
      "\n"
     ]
    },
    {
     "data": {
      "application/vnd.jupyter.widget-view+json": {
       "model_id": "cade34c1806246aca31f341018572a8b",
       "version_major": 2,
       "version_minor": 0
      },
      "text/plain": [
       "HBox(children=(HTML(value=''), FloatProgress(value=0.0, max=20.0), HTML(value='')))"
      ]
     },
     "metadata": {},
     "output_type": "display_data"
    },
    {
     "name": "stdout",
     "output_type": "stream",
     "text": [
      "\n"
     ]
    },
    {
     "data": {
      "application/vnd.jupyter.widget-view+json": {
       "model_id": "3520dc3d30cb461f947cf8f89e4eb7a9",
       "version_major": 2,
       "version_minor": 0
      },
      "text/plain": [
       "HBox(children=(HTML(value=''), FloatProgress(value=0.0, max=20.0), HTML(value='')))"
      ]
     },
     "metadata": {},
     "output_type": "display_data"
    },
    {
     "name": "stdout",
     "output_type": "stream",
     "text": [
      "\n"
     ]
    },
    {
     "data": {
      "application/vnd.jupyter.widget-view+json": {
       "model_id": "c2b8f4aa6b954172b38bcc6f2534eac7",
       "version_major": 2,
       "version_minor": 0
      },
      "text/plain": [
       "HBox(children=(HTML(value=''), FloatProgress(value=0.0, max=20.0), HTML(value='')))"
      ]
     },
     "metadata": {},
     "output_type": "display_data"
    },
    {
     "name": "stdout",
     "output_type": "stream",
     "text": [
      "\n"
     ]
    },
    {
     "data": {
      "application/vnd.jupyter.widget-view+json": {
       "model_id": "60b428aa1dab4a788b3a83de82656e10",
       "version_major": 2,
       "version_minor": 0
      },
      "text/plain": [
       "HBox(children=(HTML(value=''), FloatProgress(value=0.0, max=20.0), HTML(value='')))"
      ]
     },
     "metadata": {},
     "output_type": "display_data"
    },
    {
     "name": "stdout",
     "output_type": "stream",
     "text": [
      "\n"
     ]
    },
    {
     "data": {
      "application/vnd.jupyter.widget-view+json": {
       "model_id": "93cc3944428a41c0bc4d150f755e7169",
       "version_major": 2,
       "version_minor": 0
      },
      "text/plain": [
       "HBox(children=(HTML(value=''), FloatProgress(value=0.0, max=20.0), HTML(value='')))"
      ]
     },
     "metadata": {},
     "output_type": "display_data"
    },
    {
     "name": "stdout",
     "output_type": "stream",
     "text": [
      "\n"
     ]
    },
    {
     "data": {
      "application/vnd.jupyter.widget-view+json": {
       "model_id": "e56177ecc5374864b56eb6eec3c64a57",
       "version_major": 2,
       "version_minor": 0
      },
      "text/plain": [
       "HBox(children=(HTML(value=''), FloatProgress(value=0.0, max=20.0), HTML(value='')))"
      ]
     },
     "metadata": {},
     "output_type": "display_data"
    },
    {
     "name": "stdout",
     "output_type": "stream",
     "text": [
      "\n"
     ]
    },
    {
     "data": {
      "application/vnd.jupyter.widget-view+json": {
       "model_id": "836c0f199ed24702b342761e79326dad",
       "version_major": 2,
       "version_minor": 0
      },
      "text/plain": [
       "HBox(children=(HTML(value=''), FloatProgress(value=0.0, max=20.0), HTML(value='')))"
      ]
     },
     "metadata": {},
     "output_type": "display_data"
    },
    {
     "name": "stdout",
     "output_type": "stream",
     "text": [
      "\n"
     ]
    },
    {
     "data": {
      "application/vnd.jupyter.widget-view+json": {
       "model_id": "c0b10c2a56d646aba4ecc170439da064",
       "version_major": 2,
       "version_minor": 0
      },
      "text/plain": [
       "HBox(children=(HTML(value=''), FloatProgress(value=0.0, max=20.0), HTML(value='')))"
      ]
     },
     "metadata": {},
     "output_type": "display_data"
    },
    {
     "name": "stdout",
     "output_type": "stream",
     "text": [
      "\n"
     ]
    },
    {
     "data": {
      "application/vnd.jupyter.widget-view+json": {
       "model_id": "461bd45fb85b424fa50ea9ea6d32bc7b",
       "version_major": 2,
       "version_minor": 0
      },
      "text/plain": [
       "HBox(children=(HTML(value=''), FloatProgress(value=0.0, max=20.0), HTML(value='')))"
      ]
     },
     "metadata": {},
     "output_type": "display_data"
    },
    {
     "name": "stdout",
     "output_type": "stream",
     "text": [
      "\n"
     ]
    },
    {
     "data": {
      "application/vnd.jupyter.widget-view+json": {
       "model_id": "6d48e2e1cd8e4bf0a421424c80232713",
       "version_major": 2,
       "version_minor": 0
      },
      "text/plain": [
       "HBox(children=(HTML(value=''), FloatProgress(value=0.0, max=20.0), HTML(value='')))"
      ]
     },
     "metadata": {},
     "output_type": "display_data"
    },
    {
     "name": "stdout",
     "output_type": "stream",
     "text": [
      "\n"
     ]
    },
    {
     "data": {
      "application/vnd.jupyter.widget-view+json": {
       "model_id": "4b71a4043686405a88fe374a35bf61d5",
       "version_major": 2,
       "version_minor": 0
      },
      "text/plain": [
       "HBox(children=(HTML(value=''), FloatProgress(value=0.0, max=20.0), HTML(value='')))"
      ]
     },
     "metadata": {},
     "output_type": "display_data"
    },
    {
     "name": "stdout",
     "output_type": "stream",
     "text": [
      "\n"
     ]
    },
    {
     "data": {
      "application/vnd.jupyter.widget-view+json": {
       "model_id": "5e001ba0ab474cd688a55541e51f7f1a",
       "version_major": 2,
       "version_minor": 0
      },
      "text/plain": [
       "HBox(children=(HTML(value=''), FloatProgress(value=0.0, max=20.0), HTML(value='')))"
      ]
     },
     "metadata": {},
     "output_type": "display_data"
    },
    {
     "name": "stdout",
     "output_type": "stream",
     "text": [
      "\n"
     ]
    },
    {
     "data": {
      "application/vnd.jupyter.widget-view+json": {
       "model_id": "a75f73ed6e32487dbae39e4c8f277fcf",
       "version_major": 2,
       "version_minor": 0
      },
      "text/plain": [
       "HBox(children=(HTML(value=''), FloatProgress(value=0.0, max=20.0), HTML(value='')))"
      ]
     },
     "metadata": {},
     "output_type": "display_data"
    },
    {
     "name": "stdout",
     "output_type": "stream",
     "text": [
      "\n"
     ]
    },
    {
     "data": {
      "application/vnd.jupyter.widget-view+json": {
       "model_id": "f3db613fe3d34f2c9f6352b6ee3505ce",
       "version_major": 2,
       "version_minor": 0
      },
      "text/plain": [
       "HBox(children=(HTML(value=''), FloatProgress(value=0.0, max=20.0), HTML(value='')))"
      ]
     },
     "metadata": {},
     "output_type": "display_data"
    },
    {
     "name": "stdout",
     "output_type": "stream",
     "text": [
      "\n"
     ]
    },
    {
     "data": {
      "application/vnd.jupyter.widget-view+json": {
       "model_id": "1d3d96f12c544620a8b099c41d531c7c",
       "version_major": 2,
       "version_minor": 0
      },
      "text/plain": [
       "HBox(children=(HTML(value=''), FloatProgress(value=0.0, max=20.0), HTML(value='')))"
      ]
     },
     "metadata": {},
     "output_type": "display_data"
    },
    {
     "name": "stdout",
     "output_type": "stream",
     "text": [
      "\n"
     ]
    },
    {
     "data": {
      "application/vnd.jupyter.widget-view+json": {
       "model_id": "77efa2b3ff904c67869bb5524e063af6",
       "version_major": 2,
       "version_minor": 0
      },
      "text/plain": [
       "HBox(children=(HTML(value=''), FloatProgress(value=0.0, max=20.0), HTML(value='')))"
      ]
     },
     "metadata": {},
     "output_type": "display_data"
    },
    {
     "name": "stdout",
     "output_type": "stream",
     "text": [
      "\n"
     ]
    },
    {
     "data": {
      "application/vnd.jupyter.widget-view+json": {
       "model_id": "b9f216b5e8b646b2af31c3af6be74e95",
       "version_major": 2,
       "version_minor": 0
      },
      "text/plain": [
       "HBox(children=(HTML(value=''), FloatProgress(value=0.0, max=50.0), HTML(value='')))"
      ]
     },
     "metadata": {},
     "output_type": "display_data"
    },
    {
     "name": "stdout",
     "output_type": "stream",
     "text": [
      "\n"
     ]
    },
    {
     "data": {
      "application/vnd.jupyter.widget-view+json": {
       "model_id": "d489564f21bc4c999d78175702be248c",
       "version_major": 2,
       "version_minor": 0
      },
      "text/plain": [
       "HBox(children=(HTML(value=''), FloatProgress(value=0.0, max=50.0), HTML(value='')))"
      ]
     },
     "metadata": {},
     "output_type": "display_data"
    },
    {
     "name": "stdout",
     "output_type": "stream",
     "text": [
      "\n"
     ]
    },
    {
     "data": {
      "application/vnd.jupyter.widget-view+json": {
       "model_id": "91816dcbda23497999f71062860017c2",
       "version_major": 2,
       "version_minor": 0
      },
      "text/plain": [
       "HBox(children=(HTML(value=''), FloatProgress(value=0.0, max=50.0), HTML(value='')))"
      ]
     },
     "metadata": {},
     "output_type": "display_data"
    },
    {
     "name": "stdout",
     "output_type": "stream",
     "text": [
      "\n"
     ]
    },
    {
     "data": {
      "application/vnd.jupyter.widget-view+json": {
       "model_id": "1aca746b0a0845128d8df52bd59dcefc",
       "version_major": 2,
       "version_minor": 0
      },
      "text/plain": [
       "HBox(children=(HTML(value=''), FloatProgress(value=0.0, max=50.0), HTML(value='')))"
      ]
     },
     "metadata": {},
     "output_type": "display_data"
    },
    {
     "name": "stdout",
     "output_type": "stream",
     "text": [
      "\n"
     ]
    },
    {
     "data": {
      "application/vnd.jupyter.widget-view+json": {
       "model_id": "5c253cec132c45c2afaa3629ca24ef5c",
       "version_major": 2,
       "version_minor": 0
      },
      "text/plain": [
       "HBox(children=(HTML(value=''), FloatProgress(value=0.0, max=50.0), HTML(value='')))"
      ]
     },
     "metadata": {},
     "output_type": "display_data"
    },
    {
     "name": "stdout",
     "output_type": "stream",
     "text": [
      "\n"
     ]
    },
    {
     "data": {
      "application/vnd.jupyter.widget-view+json": {
       "model_id": "d151a24382a8417190b902a456c4578b",
       "version_major": 2,
       "version_minor": 0
      },
      "text/plain": [
       "HBox(children=(HTML(value=''), FloatProgress(value=0.0, max=50.0), HTML(value='')))"
      ]
     },
     "metadata": {},
     "output_type": "display_data"
    },
    {
     "name": "stdout",
     "output_type": "stream",
     "text": [
      "\n"
     ]
    },
    {
     "data": {
      "application/vnd.jupyter.widget-view+json": {
       "model_id": "8b82caec37bd43b18273ebf58eb30aa6",
       "version_major": 2,
       "version_minor": 0
      },
      "text/plain": [
       "HBox(children=(HTML(value=''), FloatProgress(value=0.0, max=50.0), HTML(value='')))"
      ]
     },
     "metadata": {},
     "output_type": "display_data"
    },
    {
     "name": "stdout",
     "output_type": "stream",
     "text": [
      "\n"
     ]
    },
    {
     "data": {
      "application/vnd.jupyter.widget-view+json": {
       "model_id": "bd27f26a4b2c46b58c1f6304431c7db4",
       "version_major": 2,
       "version_minor": 0
      },
      "text/plain": [
       "HBox(children=(HTML(value=''), FloatProgress(value=0.0, max=50.0), HTML(value='')))"
      ]
     },
     "metadata": {},
     "output_type": "display_data"
    },
    {
     "name": "stdout",
     "output_type": "stream",
     "text": [
      "\n"
     ]
    },
    {
     "data": {
      "application/vnd.jupyter.widget-view+json": {
       "model_id": "4608da97c40f4164abeb746efdfa3cb6",
       "version_major": 2,
       "version_minor": 0
      },
      "text/plain": [
       "HBox(children=(HTML(value=''), FloatProgress(value=0.0, max=50.0), HTML(value='')))"
      ]
     },
     "metadata": {},
     "output_type": "display_data"
    },
    {
     "name": "stdout",
     "output_type": "stream",
     "text": [
      "\n"
     ]
    },
    {
     "data": {
      "application/vnd.jupyter.widget-view+json": {
       "model_id": "187d6ddd10964532bf8fd25aaa58b81e",
       "version_major": 2,
       "version_minor": 0
      },
      "text/plain": [
       "HBox(children=(HTML(value=''), FloatProgress(value=0.0, max=50.0), HTML(value='')))"
      ]
     },
     "metadata": {},
     "output_type": "display_data"
    },
    {
     "name": "stdout",
     "output_type": "stream",
     "text": [
      "\n"
     ]
    },
    {
     "data": {
      "application/vnd.jupyter.widget-view+json": {
       "model_id": "67f757f581ec418bb7a130be819e62db",
       "version_major": 2,
       "version_minor": 0
      },
      "text/plain": [
       "HBox(children=(HTML(value=''), FloatProgress(value=0.0, max=50.0), HTML(value='')))"
      ]
     },
     "metadata": {},
     "output_type": "display_data"
    },
    {
     "name": "stdout",
     "output_type": "stream",
     "text": [
      "\n"
     ]
    },
    {
     "data": {
      "application/vnd.jupyter.widget-view+json": {
       "model_id": "5ec963ba956440ebb65834f1a8546c8f",
       "version_major": 2,
       "version_minor": 0
      },
      "text/plain": [
       "HBox(children=(HTML(value=''), FloatProgress(value=0.0, max=50.0), HTML(value='')))"
      ]
     },
     "metadata": {},
     "output_type": "display_data"
    },
    {
     "name": "stdout",
     "output_type": "stream",
     "text": [
      "\n"
     ]
    },
    {
     "data": {
      "application/vnd.jupyter.widget-view+json": {
       "model_id": "bcdb6f9e8cd34668850af393ac0e7889",
       "version_major": 2,
       "version_minor": 0
      },
      "text/plain": [
       "HBox(children=(HTML(value=''), FloatProgress(value=0.0, max=50.0), HTML(value='')))"
      ]
     },
     "metadata": {},
     "output_type": "display_data"
    },
    {
     "name": "stdout",
     "output_type": "stream",
     "text": [
      "\n"
     ]
    },
    {
     "data": {
      "application/vnd.jupyter.widget-view+json": {
       "model_id": "bef918eb2fd64c728924aea96e91578d",
       "version_major": 2,
       "version_minor": 0
      },
      "text/plain": [
       "HBox(children=(HTML(value=''), FloatProgress(value=0.0, max=50.0), HTML(value='')))"
      ]
     },
     "metadata": {},
     "output_type": "display_data"
    },
    {
     "name": "stdout",
     "output_type": "stream",
     "text": [
      "\n"
     ]
    },
    {
     "data": {
      "application/vnd.jupyter.widget-view+json": {
       "model_id": "84150c7cab4143febb054742cdf0c81b",
       "version_major": 2,
       "version_minor": 0
      },
      "text/plain": [
       "HBox(children=(HTML(value=''), FloatProgress(value=0.0, max=50.0), HTML(value='')))"
      ]
     },
     "metadata": {},
     "output_type": "display_data"
    },
    {
     "name": "stdout",
     "output_type": "stream",
     "text": [
      "\n"
     ]
    },
    {
     "data": {
      "application/vnd.jupyter.widget-view+json": {
       "model_id": "eb7e7c5bd6224dd898fbc77d4c467d5c",
       "version_major": 2,
       "version_minor": 0
      },
      "text/plain": [
       "HBox(children=(HTML(value=''), FloatProgress(value=0.0, max=50.0), HTML(value='')))"
      ]
     },
     "metadata": {},
     "output_type": "display_data"
    },
    {
     "name": "stdout",
     "output_type": "stream",
     "text": [
      "\n"
     ]
    },
    {
     "data": {
      "application/vnd.jupyter.widget-view+json": {
       "model_id": "a6bcc8ecfa544287b7bcd97fd81c14c1",
       "version_major": 2,
       "version_minor": 0
      },
      "text/plain": [
       "HBox(children=(HTML(value=''), FloatProgress(value=0.0, max=5.0), HTML(value='')))"
      ]
     },
     "metadata": {},
     "output_type": "display_data"
    },
    {
     "name": "stdout",
     "output_type": "stream",
     "text": [
      "\n"
     ]
    },
    {
     "data": {
      "application/vnd.jupyter.widget-view+json": {
       "model_id": "f8ed1fcb463a464086b2119c6ab5ae3d",
       "version_major": 2,
       "version_minor": 0
      },
      "text/plain": [
       "HBox(children=(HTML(value=''), FloatProgress(value=0.0, max=5.0), HTML(value='')))"
      ]
     },
     "metadata": {},
     "output_type": "display_data"
    },
    {
     "name": "stdout",
     "output_type": "stream",
     "text": [
      "\n"
     ]
    },
    {
     "data": {
      "application/vnd.jupyter.widget-view+json": {
       "model_id": "9a126c194e1848b3a29a8d0ba43917d0",
       "version_major": 2,
       "version_minor": 0
      },
      "text/plain": [
       "HBox(children=(HTML(value=''), FloatProgress(value=0.0, max=5.0), HTML(value='')))"
      ]
     },
     "metadata": {},
     "output_type": "display_data"
    },
    {
     "name": "stdout",
     "output_type": "stream",
     "text": [
      "\n"
     ]
    },
    {
     "data": {
      "application/vnd.jupyter.widget-view+json": {
       "model_id": "c2e0445431f44f3f883680b8874e60bb",
       "version_major": 2,
       "version_minor": 0
      },
      "text/plain": [
       "HBox(children=(HTML(value=''), FloatProgress(value=0.0, max=5.0), HTML(value='')))"
      ]
     },
     "metadata": {},
     "output_type": "display_data"
    },
    {
     "name": "stdout",
     "output_type": "stream",
     "text": [
      "\n"
     ]
    },
    {
     "data": {
      "application/vnd.jupyter.widget-view+json": {
       "model_id": "dc90736083ae4bb2840be8665f974598",
       "version_major": 2,
       "version_minor": 0
      },
      "text/plain": [
       "HBox(children=(HTML(value=''), FloatProgress(value=0.0, max=5.0), HTML(value='')))"
      ]
     },
     "metadata": {},
     "output_type": "display_data"
    },
    {
     "name": "stdout",
     "output_type": "stream",
     "text": [
      "\n"
     ]
    },
    {
     "data": {
      "application/vnd.jupyter.widget-view+json": {
       "model_id": "077ef11656d5476eae0b73d7859e9a07",
       "version_major": 2,
       "version_minor": 0
      },
      "text/plain": [
       "HBox(children=(HTML(value=''), FloatProgress(value=0.0, max=5.0), HTML(value='')))"
      ]
     },
     "metadata": {},
     "output_type": "display_data"
    },
    {
     "name": "stdout",
     "output_type": "stream",
     "text": [
      "\n"
     ]
    },
    {
     "data": {
      "application/vnd.jupyter.widget-view+json": {
       "model_id": "6397ddc2dc5045b0beac512c4eee4658",
       "version_major": 2,
       "version_minor": 0
      },
      "text/plain": [
       "HBox(children=(HTML(value=''), FloatProgress(value=0.0, max=5.0), HTML(value='')))"
      ]
     },
     "metadata": {},
     "output_type": "display_data"
    },
    {
     "name": "stdout",
     "output_type": "stream",
     "text": [
      "\n"
     ]
    },
    {
     "data": {
      "application/vnd.jupyter.widget-view+json": {
       "model_id": "4fbf0404360940c09346cc49567662c7",
       "version_major": 2,
       "version_minor": 0
      },
      "text/plain": [
       "HBox(children=(HTML(value=''), FloatProgress(value=0.0, max=5.0), HTML(value='')))"
      ]
     },
     "metadata": {},
     "output_type": "display_data"
    },
    {
     "name": "stdout",
     "output_type": "stream",
     "text": [
      "\n"
     ]
    },
    {
     "data": {
      "application/vnd.jupyter.widget-view+json": {
       "model_id": "0d85306061db44ce99cee6f6585a2180",
       "version_major": 2,
       "version_minor": 0
      },
      "text/plain": [
       "HBox(children=(HTML(value=''), FloatProgress(value=0.0, max=5.0), HTML(value='')))"
      ]
     },
     "metadata": {},
     "output_type": "display_data"
    },
    {
     "name": "stdout",
     "output_type": "stream",
     "text": [
      "\n"
     ]
    },
    {
     "data": {
      "application/vnd.jupyter.widget-view+json": {
       "model_id": "83e6b604cbe146d2af7993cce4991dbc",
       "version_major": 2,
       "version_minor": 0
      },
      "text/plain": [
       "HBox(children=(HTML(value=''), FloatProgress(value=0.0, max=5.0), HTML(value='')))"
      ]
     },
     "metadata": {},
     "output_type": "display_data"
    },
    {
     "name": "stdout",
     "output_type": "stream",
     "text": [
      "\n"
     ]
    },
    {
     "data": {
      "application/vnd.jupyter.widget-view+json": {
       "model_id": "2c283a5899d64a45ab7fa41c90047747",
       "version_major": 2,
       "version_minor": 0
      },
      "text/plain": [
       "HBox(children=(HTML(value=''), FloatProgress(value=0.0, max=5.0), HTML(value='')))"
      ]
     },
     "metadata": {},
     "output_type": "display_data"
    },
    {
     "name": "stdout",
     "output_type": "stream",
     "text": [
      "\n"
     ]
    },
    {
     "data": {
      "application/vnd.jupyter.widget-view+json": {
       "model_id": "4491443f160c417e841d4d77182a3617",
       "version_major": 2,
       "version_minor": 0
      },
      "text/plain": [
       "HBox(children=(HTML(value=''), FloatProgress(value=0.0, max=5.0), HTML(value='')))"
      ]
     },
     "metadata": {},
     "output_type": "display_data"
    },
    {
     "name": "stdout",
     "output_type": "stream",
     "text": [
      "\n"
     ]
    },
    {
     "data": {
      "application/vnd.jupyter.widget-view+json": {
       "model_id": "51922205bdd74f16b717a9786bd7793a",
       "version_major": 2,
       "version_minor": 0
      },
      "text/plain": [
       "HBox(children=(HTML(value=''), FloatProgress(value=0.0, max=5.0), HTML(value='')))"
      ]
     },
     "metadata": {},
     "output_type": "display_data"
    },
    {
     "name": "stdout",
     "output_type": "stream",
     "text": [
      "\n"
     ]
    },
    {
     "data": {
      "application/vnd.jupyter.widget-view+json": {
       "model_id": "c8be9576bb724d3a8038e34620af2b1a",
       "version_major": 2,
       "version_minor": 0
      },
      "text/plain": [
       "HBox(children=(HTML(value=''), FloatProgress(value=0.0, max=5.0), HTML(value='')))"
      ]
     },
     "metadata": {},
     "output_type": "display_data"
    },
    {
     "name": "stdout",
     "output_type": "stream",
     "text": [
      "\n"
     ]
    },
    {
     "data": {
      "application/vnd.jupyter.widget-view+json": {
       "model_id": "61aabcd278b349a69b9848eb62d971c4",
       "version_major": 2,
       "version_minor": 0
      },
      "text/plain": [
       "HBox(children=(HTML(value=''), FloatProgress(value=0.0, max=5.0), HTML(value='')))"
      ]
     },
     "metadata": {},
     "output_type": "display_data"
    },
    {
     "name": "stdout",
     "output_type": "stream",
     "text": [
      "\n"
     ]
    },
    {
     "data": {
      "application/vnd.jupyter.widget-view+json": {
       "model_id": "3db5b982a9864321bdde991f025a49f4",
       "version_major": 2,
       "version_minor": 0
      },
      "text/plain": [
       "HBox(children=(HTML(value=''), FloatProgress(value=0.0, max=5.0), HTML(value='')))"
      ]
     },
     "metadata": {},
     "output_type": "display_data"
    },
    {
     "name": "stdout",
     "output_type": "stream",
     "text": [
      "\n"
     ]
    },
    {
     "data": {
      "application/vnd.jupyter.widget-view+json": {
       "model_id": "3af2388d99d74028bc9da3b1fab8a05f",
       "version_major": 2,
       "version_minor": 0
      },
      "text/plain": [
       "HBox(children=(HTML(value=''), FloatProgress(value=0.0, max=10.0), HTML(value='')))"
      ]
     },
     "metadata": {},
     "output_type": "display_data"
    },
    {
     "name": "stdout",
     "output_type": "stream",
     "text": [
      "\n"
     ]
    },
    {
     "data": {
      "application/vnd.jupyter.widget-view+json": {
       "model_id": "39932193f0f0468199019c5ce22f0b83",
       "version_major": 2,
       "version_minor": 0
      },
      "text/plain": [
       "HBox(children=(HTML(value=''), FloatProgress(value=0.0, max=10.0), HTML(value='')))"
      ]
     },
     "metadata": {},
     "output_type": "display_data"
    },
    {
     "name": "stdout",
     "output_type": "stream",
     "text": [
      "\n"
     ]
    },
    {
     "data": {
      "application/vnd.jupyter.widget-view+json": {
       "model_id": "bade482ddcb3451b920f1522df053981",
       "version_major": 2,
       "version_minor": 0
      },
      "text/plain": [
       "HBox(children=(HTML(value=''), FloatProgress(value=0.0, max=10.0), HTML(value='')))"
      ]
     },
     "metadata": {},
     "output_type": "display_data"
    },
    {
     "name": "stdout",
     "output_type": "stream",
     "text": [
      "\n"
     ]
    },
    {
     "data": {
      "application/vnd.jupyter.widget-view+json": {
       "model_id": "9c3c9767a3124655a0428e0aab44235b",
       "version_major": 2,
       "version_minor": 0
      },
      "text/plain": [
       "HBox(children=(HTML(value=''), FloatProgress(value=0.0, max=10.0), HTML(value='')))"
      ]
     },
     "metadata": {},
     "output_type": "display_data"
    },
    {
     "name": "stdout",
     "output_type": "stream",
     "text": [
      "\n"
     ]
    },
    {
     "data": {
      "application/vnd.jupyter.widget-view+json": {
       "model_id": "554f795f8fcd4c3bba93bcf8a3a89fe0",
       "version_major": 2,
       "version_minor": 0
      },
      "text/plain": [
       "HBox(children=(HTML(value=''), FloatProgress(value=0.0, max=10.0), HTML(value='')))"
      ]
     },
     "metadata": {},
     "output_type": "display_data"
    },
    {
     "name": "stdout",
     "output_type": "stream",
     "text": [
      "\n"
     ]
    },
    {
     "data": {
      "application/vnd.jupyter.widget-view+json": {
       "model_id": "2b13dd93874f4da994f45b92597c343c",
       "version_major": 2,
       "version_minor": 0
      },
      "text/plain": [
       "HBox(children=(HTML(value=''), FloatProgress(value=0.0, max=10.0), HTML(value='')))"
      ]
     },
     "metadata": {},
     "output_type": "display_data"
    },
    {
     "name": "stdout",
     "output_type": "stream",
     "text": [
      "\n"
     ]
    },
    {
     "data": {
      "application/vnd.jupyter.widget-view+json": {
       "model_id": "119bebb148364b56982300651834fa83",
       "version_major": 2,
       "version_minor": 0
      },
      "text/plain": [
       "HBox(children=(HTML(value=''), FloatProgress(value=0.0, max=10.0), HTML(value='')))"
      ]
     },
     "metadata": {},
     "output_type": "display_data"
    },
    {
     "name": "stdout",
     "output_type": "stream",
     "text": [
      "\n"
     ]
    },
    {
     "data": {
      "application/vnd.jupyter.widget-view+json": {
       "model_id": "a0d283ceda68498ba4d9773e035f4206",
       "version_major": 2,
       "version_minor": 0
      },
      "text/plain": [
       "HBox(children=(HTML(value=''), FloatProgress(value=0.0, max=10.0), HTML(value='')))"
      ]
     },
     "metadata": {},
     "output_type": "display_data"
    },
    {
     "name": "stdout",
     "output_type": "stream",
     "text": [
      "\n"
     ]
    },
    {
     "data": {
      "application/vnd.jupyter.widget-view+json": {
       "model_id": "bf7f7071bac94347a2af9c3046a38422",
       "version_major": 2,
       "version_minor": 0
      },
      "text/plain": [
       "HBox(children=(HTML(value=''), FloatProgress(value=0.0, max=10.0), HTML(value='')))"
      ]
     },
     "metadata": {},
     "output_type": "display_data"
    },
    {
     "name": "stdout",
     "output_type": "stream",
     "text": [
      "\n"
     ]
    },
    {
     "data": {
      "application/vnd.jupyter.widget-view+json": {
       "model_id": "6f7de477ffbd432fa3dcfe80b6252692",
       "version_major": 2,
       "version_minor": 0
      },
      "text/plain": [
       "HBox(children=(HTML(value=''), FloatProgress(value=0.0, max=10.0), HTML(value='')))"
      ]
     },
     "metadata": {},
     "output_type": "display_data"
    },
    {
     "name": "stdout",
     "output_type": "stream",
     "text": [
      "\n"
     ]
    },
    {
     "data": {
      "application/vnd.jupyter.widget-view+json": {
       "model_id": "b108ff2ee5cc47809574c349e0016f54",
       "version_major": 2,
       "version_minor": 0
      },
      "text/plain": [
       "HBox(children=(HTML(value=''), FloatProgress(value=0.0, max=10.0), HTML(value='')))"
      ]
     },
     "metadata": {},
     "output_type": "display_data"
    },
    {
     "name": "stdout",
     "output_type": "stream",
     "text": [
      "\n"
     ]
    },
    {
     "data": {
      "application/vnd.jupyter.widget-view+json": {
       "model_id": "d18bd2aacf8e4cbca05c4d8f277364bc",
       "version_major": 2,
       "version_minor": 0
      },
      "text/plain": [
       "HBox(children=(HTML(value=''), FloatProgress(value=0.0, max=10.0), HTML(value='')))"
      ]
     },
     "metadata": {},
     "output_type": "display_data"
    },
    {
     "name": "stdout",
     "output_type": "stream",
     "text": [
      "\n"
     ]
    },
    {
     "data": {
      "application/vnd.jupyter.widget-view+json": {
       "model_id": "067fc8b198384f17929c8a9db7b121ba",
       "version_major": 2,
       "version_minor": 0
      },
      "text/plain": [
       "HBox(children=(HTML(value=''), FloatProgress(value=0.0, max=10.0), HTML(value='')))"
      ]
     },
     "metadata": {},
     "output_type": "display_data"
    },
    {
     "name": "stdout",
     "output_type": "stream",
     "text": [
      "\n"
     ]
    },
    {
     "data": {
      "application/vnd.jupyter.widget-view+json": {
       "model_id": "5a1446fbd78e4e20a2194cfbdec1d26b",
       "version_major": 2,
       "version_minor": 0
      },
      "text/plain": [
       "HBox(children=(HTML(value=''), FloatProgress(value=0.0, max=10.0), HTML(value='')))"
      ]
     },
     "metadata": {},
     "output_type": "display_data"
    },
    {
     "name": "stdout",
     "output_type": "stream",
     "text": [
      "\n"
     ]
    },
    {
     "data": {
      "application/vnd.jupyter.widget-view+json": {
       "model_id": "5062257b178442a69537d58dab73055e",
       "version_major": 2,
       "version_minor": 0
      },
      "text/plain": [
       "HBox(children=(HTML(value=''), FloatProgress(value=0.0, max=10.0), HTML(value='')))"
      ]
     },
     "metadata": {},
     "output_type": "display_data"
    },
    {
     "name": "stdout",
     "output_type": "stream",
     "text": [
      "\n"
     ]
    },
    {
     "data": {
      "application/vnd.jupyter.widget-view+json": {
       "model_id": "70491026081d4159a0bc5acb1a9aec64",
       "version_major": 2,
       "version_minor": 0
      },
      "text/plain": [
       "HBox(children=(HTML(value=''), FloatProgress(value=0.0, max=10.0), HTML(value='')))"
      ]
     },
     "metadata": {},
     "output_type": "display_data"
    },
    {
     "name": "stdout",
     "output_type": "stream",
     "text": [
      "\n"
     ]
    },
    {
     "data": {
      "application/vnd.jupyter.widget-view+json": {
       "model_id": "af64804028124772958f33aba2fef3b4",
       "version_major": 2,
       "version_minor": 0
      },
      "text/plain": [
       "HBox(children=(HTML(value=''), FloatProgress(value=0.0, max=20.0), HTML(value='')))"
      ]
     },
     "metadata": {},
     "output_type": "display_data"
    },
    {
     "name": "stdout",
     "output_type": "stream",
     "text": [
      "\n"
     ]
    },
    {
     "data": {
      "application/vnd.jupyter.widget-view+json": {
       "model_id": "9816aded439846cfbd276a13a3fb0bc7",
       "version_major": 2,
       "version_minor": 0
      },
      "text/plain": [
       "HBox(children=(HTML(value=''), FloatProgress(value=0.0, max=20.0), HTML(value='')))"
      ]
     },
     "metadata": {},
     "output_type": "display_data"
    },
    {
     "name": "stdout",
     "output_type": "stream",
     "text": [
      "\n"
     ]
    },
    {
     "data": {
      "application/vnd.jupyter.widget-view+json": {
       "model_id": "c78e6702eff7493fb3f3ffa0806433a3",
       "version_major": 2,
       "version_minor": 0
      },
      "text/plain": [
       "HBox(children=(HTML(value=''), FloatProgress(value=0.0, max=20.0), HTML(value='')))"
      ]
     },
     "metadata": {},
     "output_type": "display_data"
    },
    {
     "name": "stdout",
     "output_type": "stream",
     "text": [
      "\n"
     ]
    },
    {
     "data": {
      "application/vnd.jupyter.widget-view+json": {
       "model_id": "19092434ff444a6eb012e321a9713bdc",
       "version_major": 2,
       "version_minor": 0
      },
      "text/plain": [
       "HBox(children=(HTML(value=''), FloatProgress(value=0.0, max=20.0), HTML(value='')))"
      ]
     },
     "metadata": {},
     "output_type": "display_data"
    },
    {
     "name": "stdout",
     "output_type": "stream",
     "text": [
      "\n"
     ]
    },
    {
     "data": {
      "application/vnd.jupyter.widget-view+json": {
       "model_id": "41854036446e48c4b745568c85d61ff6",
       "version_major": 2,
       "version_minor": 0
      },
      "text/plain": [
       "HBox(children=(HTML(value=''), FloatProgress(value=0.0, max=20.0), HTML(value='')))"
      ]
     },
     "metadata": {},
     "output_type": "display_data"
    },
    {
     "name": "stdout",
     "output_type": "stream",
     "text": [
      "\n"
     ]
    },
    {
     "data": {
      "application/vnd.jupyter.widget-view+json": {
       "model_id": "9b1a3a981bb346958f8ea20036530e40",
       "version_major": 2,
       "version_minor": 0
      },
      "text/plain": [
       "HBox(children=(HTML(value=''), FloatProgress(value=0.0, max=20.0), HTML(value='')))"
      ]
     },
     "metadata": {},
     "output_type": "display_data"
    },
    {
     "name": "stdout",
     "output_type": "stream",
     "text": [
      "\n"
     ]
    },
    {
     "data": {
      "application/vnd.jupyter.widget-view+json": {
       "model_id": "c6ec5f1152be48d39083417d018d5f61",
       "version_major": 2,
       "version_minor": 0
      },
      "text/plain": [
       "HBox(children=(HTML(value=''), FloatProgress(value=0.0, max=20.0), HTML(value='')))"
      ]
     },
     "metadata": {},
     "output_type": "display_data"
    },
    {
     "name": "stdout",
     "output_type": "stream",
     "text": [
      "\n"
     ]
    },
    {
     "data": {
      "application/vnd.jupyter.widget-view+json": {
       "model_id": "9ae93636287b4f0786e0c488534616f6",
       "version_major": 2,
       "version_minor": 0
      },
      "text/plain": [
       "HBox(children=(HTML(value=''), FloatProgress(value=0.0, max=20.0), HTML(value='')))"
      ]
     },
     "metadata": {},
     "output_type": "display_data"
    },
    {
     "name": "stdout",
     "output_type": "stream",
     "text": [
      "\n"
     ]
    },
    {
     "data": {
      "application/vnd.jupyter.widget-view+json": {
       "model_id": "b54d57453e994cf9a195a4d167ee9dad",
       "version_major": 2,
       "version_minor": 0
      },
      "text/plain": [
       "HBox(children=(HTML(value=''), FloatProgress(value=0.0, max=20.0), HTML(value='')))"
      ]
     },
     "metadata": {},
     "output_type": "display_data"
    },
    {
     "name": "stdout",
     "output_type": "stream",
     "text": [
      "\n"
     ]
    },
    {
     "data": {
      "application/vnd.jupyter.widget-view+json": {
       "model_id": "67e520f6d7ac44f98c2e152029c8c97f",
       "version_major": 2,
       "version_minor": 0
      },
      "text/plain": [
       "HBox(children=(HTML(value=''), FloatProgress(value=0.0, max=20.0), HTML(value='')))"
      ]
     },
     "metadata": {},
     "output_type": "display_data"
    },
    {
     "name": "stdout",
     "output_type": "stream",
     "text": [
      "\n"
     ]
    },
    {
     "data": {
      "application/vnd.jupyter.widget-view+json": {
       "model_id": "b0d72dd38dcf464a89780a0a712d01f0",
       "version_major": 2,
       "version_minor": 0
      },
      "text/plain": [
       "HBox(children=(HTML(value=''), FloatProgress(value=0.0, max=20.0), HTML(value='')))"
      ]
     },
     "metadata": {},
     "output_type": "display_data"
    },
    {
     "name": "stdout",
     "output_type": "stream",
     "text": [
      "\n"
     ]
    },
    {
     "data": {
      "application/vnd.jupyter.widget-view+json": {
       "model_id": "37a0b843ce004333aa4277af6f1c1a8f",
       "version_major": 2,
       "version_minor": 0
      },
      "text/plain": [
       "HBox(children=(HTML(value=''), FloatProgress(value=0.0, max=20.0), HTML(value='')))"
      ]
     },
     "metadata": {},
     "output_type": "display_data"
    },
    {
     "name": "stdout",
     "output_type": "stream",
     "text": [
      "\n"
     ]
    },
    {
     "data": {
      "application/vnd.jupyter.widget-view+json": {
       "model_id": "2c451087646e4009935f37ab119ee912",
       "version_major": 2,
       "version_minor": 0
      },
      "text/plain": [
       "HBox(children=(HTML(value=''), FloatProgress(value=0.0, max=20.0), HTML(value='')))"
      ]
     },
     "metadata": {},
     "output_type": "display_data"
    },
    {
     "name": "stdout",
     "output_type": "stream",
     "text": [
      "\n"
     ]
    },
    {
     "data": {
      "application/vnd.jupyter.widget-view+json": {
       "model_id": "348649e5faa24aab8413cc773a87ac7a",
       "version_major": 2,
       "version_minor": 0
      },
      "text/plain": [
       "HBox(children=(HTML(value=''), FloatProgress(value=0.0, max=20.0), HTML(value='')))"
      ]
     },
     "metadata": {},
     "output_type": "display_data"
    },
    {
     "name": "stdout",
     "output_type": "stream",
     "text": [
      "\n"
     ]
    },
    {
     "data": {
      "application/vnd.jupyter.widget-view+json": {
       "model_id": "f3007a55162f4f008546e94f98d375ee",
       "version_major": 2,
       "version_minor": 0
      },
      "text/plain": [
       "HBox(children=(HTML(value=''), FloatProgress(value=0.0, max=20.0), HTML(value='')))"
      ]
     },
     "metadata": {},
     "output_type": "display_data"
    },
    {
     "name": "stdout",
     "output_type": "stream",
     "text": [
      "\n"
     ]
    },
    {
     "data": {
      "application/vnd.jupyter.widget-view+json": {
       "model_id": "3077dd9458c54b34b224b048fcf37b01",
       "version_major": 2,
       "version_minor": 0
      },
      "text/plain": [
       "HBox(children=(HTML(value=''), FloatProgress(value=0.0, max=20.0), HTML(value='')))"
      ]
     },
     "metadata": {},
     "output_type": "display_data"
    },
    {
     "name": "stdout",
     "output_type": "stream",
     "text": [
      "\n"
     ]
    },
    {
     "data": {
      "application/vnd.jupyter.widget-view+json": {
       "model_id": "d8fedb21b18448669d2eb162890ce729",
       "version_major": 2,
       "version_minor": 0
      },
      "text/plain": [
       "HBox(children=(HTML(value=''), FloatProgress(value=0.0, max=50.0), HTML(value='')))"
      ]
     },
     "metadata": {},
     "output_type": "display_data"
    },
    {
     "name": "stdout",
     "output_type": "stream",
     "text": [
      "\n"
     ]
    },
    {
     "data": {
      "application/vnd.jupyter.widget-view+json": {
       "model_id": "54891a638d04490da1bb811326cad8db",
       "version_major": 2,
       "version_minor": 0
      },
      "text/plain": [
       "HBox(children=(HTML(value=''), FloatProgress(value=0.0, max=50.0), HTML(value='')))"
      ]
     },
     "metadata": {},
     "output_type": "display_data"
    },
    {
     "name": "stdout",
     "output_type": "stream",
     "text": [
      "\n"
     ]
    },
    {
     "data": {
      "application/vnd.jupyter.widget-view+json": {
       "model_id": "97cc8594a80c4f77815ad382dd09f7c7",
       "version_major": 2,
       "version_minor": 0
      },
      "text/plain": [
       "HBox(children=(HTML(value=''), FloatProgress(value=0.0, max=50.0), HTML(value='')))"
      ]
     },
     "metadata": {},
     "output_type": "display_data"
    },
    {
     "name": "stdout",
     "output_type": "stream",
     "text": [
      "\n"
     ]
    },
    {
     "data": {
      "application/vnd.jupyter.widget-view+json": {
       "model_id": "bc2c5d6486904c4dab6f050003180df0",
       "version_major": 2,
       "version_minor": 0
      },
      "text/plain": [
       "HBox(children=(HTML(value=''), FloatProgress(value=0.0, max=50.0), HTML(value='')))"
      ]
     },
     "metadata": {},
     "output_type": "display_data"
    },
    {
     "name": "stdout",
     "output_type": "stream",
     "text": [
      "\n"
     ]
    },
    {
     "data": {
      "application/vnd.jupyter.widget-view+json": {
       "model_id": "c0f4af6d2d1c4403bba7a1de2aab563c",
       "version_major": 2,
       "version_minor": 0
      },
      "text/plain": [
       "HBox(children=(HTML(value=''), FloatProgress(value=0.0, max=50.0), HTML(value='')))"
      ]
     },
     "metadata": {},
     "output_type": "display_data"
    },
    {
     "name": "stdout",
     "output_type": "stream",
     "text": [
      "\n"
     ]
    },
    {
     "data": {
      "application/vnd.jupyter.widget-view+json": {
       "model_id": "8536fd508f9e48a086e9fef3db236048",
       "version_major": 2,
       "version_minor": 0
      },
      "text/plain": [
       "HBox(children=(HTML(value=''), FloatProgress(value=0.0, max=50.0), HTML(value='')))"
      ]
     },
     "metadata": {},
     "output_type": "display_data"
    },
    {
     "name": "stdout",
     "output_type": "stream",
     "text": [
      "\n"
     ]
    },
    {
     "data": {
      "application/vnd.jupyter.widget-view+json": {
       "model_id": "5c13ebbb662548c5810ac515a0efcd0d",
       "version_major": 2,
       "version_minor": 0
      },
      "text/plain": [
       "HBox(children=(HTML(value=''), FloatProgress(value=0.0, max=50.0), HTML(value='')))"
      ]
     },
     "metadata": {},
     "output_type": "display_data"
    },
    {
     "name": "stdout",
     "output_type": "stream",
     "text": [
      "\n"
     ]
    },
    {
     "data": {
      "application/vnd.jupyter.widget-view+json": {
       "model_id": "39eb9c240d13470abdf883231edd4c5e",
       "version_major": 2,
       "version_minor": 0
      },
      "text/plain": [
       "HBox(children=(HTML(value=''), FloatProgress(value=0.0, max=50.0), HTML(value='')))"
      ]
     },
     "metadata": {},
     "output_type": "display_data"
    },
    {
     "name": "stdout",
     "output_type": "stream",
     "text": [
      "\n"
     ]
    },
    {
     "data": {
      "application/vnd.jupyter.widget-view+json": {
       "model_id": "dcaa2f8b2d544e31b379354b1617fd25",
       "version_major": 2,
       "version_minor": 0
      },
      "text/plain": [
       "HBox(children=(HTML(value=''), FloatProgress(value=0.0, max=50.0), HTML(value='')))"
      ]
     },
     "metadata": {},
     "output_type": "display_data"
    },
    {
     "name": "stdout",
     "output_type": "stream",
     "text": [
      "\n"
     ]
    },
    {
     "data": {
      "application/vnd.jupyter.widget-view+json": {
       "model_id": "7f1e43c885514948b828106a36420a56",
       "version_major": 2,
       "version_minor": 0
      },
      "text/plain": [
       "HBox(children=(HTML(value=''), FloatProgress(value=0.0, max=50.0), HTML(value='')))"
      ]
     },
     "metadata": {},
     "output_type": "display_data"
    },
    {
     "name": "stdout",
     "output_type": "stream",
     "text": [
      "\n"
     ]
    },
    {
     "data": {
      "application/vnd.jupyter.widget-view+json": {
       "model_id": "dbba9be824f845e49a15e84d90c6e306",
       "version_major": 2,
       "version_minor": 0
      },
      "text/plain": [
       "HBox(children=(HTML(value=''), FloatProgress(value=0.0, max=50.0), HTML(value='')))"
      ]
     },
     "metadata": {},
     "output_type": "display_data"
    },
    {
     "name": "stdout",
     "output_type": "stream",
     "text": [
      "\n"
     ]
    },
    {
     "data": {
      "application/vnd.jupyter.widget-view+json": {
       "model_id": "7f0a85da690d4df487c0ef4f7295fec5",
       "version_major": 2,
       "version_minor": 0
      },
      "text/plain": [
       "HBox(children=(HTML(value=''), FloatProgress(value=0.0, max=50.0), HTML(value='')))"
      ]
     },
     "metadata": {},
     "output_type": "display_data"
    },
    {
     "name": "stdout",
     "output_type": "stream",
     "text": [
      "\n"
     ]
    },
    {
     "data": {
      "application/vnd.jupyter.widget-view+json": {
       "model_id": "f8772187f65546c78cf1d1de8e59bce6",
       "version_major": 2,
       "version_minor": 0
      },
      "text/plain": [
       "HBox(children=(HTML(value=''), FloatProgress(value=0.0, max=50.0), HTML(value='')))"
      ]
     },
     "metadata": {},
     "output_type": "display_data"
    },
    {
     "name": "stdout",
     "output_type": "stream",
     "text": [
      "\n"
     ]
    },
    {
     "data": {
      "application/vnd.jupyter.widget-view+json": {
       "model_id": "ff8a6caef6e74bb8bd7d87e6027bfaf5",
       "version_major": 2,
       "version_minor": 0
      },
      "text/plain": [
       "HBox(children=(HTML(value=''), FloatProgress(value=0.0, max=50.0), HTML(value='')))"
      ]
     },
     "metadata": {},
     "output_type": "display_data"
    },
    {
     "name": "stdout",
     "output_type": "stream",
     "text": [
      "\n"
     ]
    },
    {
     "data": {
      "application/vnd.jupyter.widget-view+json": {
       "model_id": "84e4b0c5b9804bb3b009c8a6bda555d8",
       "version_major": 2,
       "version_minor": 0
      },
      "text/plain": [
       "HBox(children=(HTML(value=''), FloatProgress(value=0.0, max=50.0), HTML(value='')))"
      ]
     },
     "metadata": {},
     "output_type": "display_data"
    },
    {
     "name": "stdout",
     "output_type": "stream",
     "text": [
      "\n"
     ]
    },
    {
     "data": {
      "application/vnd.jupyter.widget-view+json": {
       "model_id": "735cd1e070e74867be2a12c5ca8214ca",
       "version_major": 2,
       "version_minor": 0
      },
      "text/plain": [
       "HBox(children=(HTML(value=''), FloatProgress(value=0.0, max=50.0), HTML(value='')))"
      ]
     },
     "metadata": {},
     "output_type": "display_data"
    },
    {
     "name": "stdout",
     "output_type": "stream",
     "text": [
      "\n"
     ]
    },
    {
     "data": {
      "application/vnd.jupyter.widget-view+json": {
       "model_id": "d7fe579ec1bc4da382eee8a63b1900d8",
       "version_major": 2,
       "version_minor": 0
      },
      "text/plain": [
       "HBox(children=(HTML(value=''), FloatProgress(value=0.0, max=5.0), HTML(value='')))"
      ]
     },
     "metadata": {},
     "output_type": "display_data"
    },
    {
     "name": "stdout",
     "output_type": "stream",
     "text": [
      "\n"
     ]
    },
    {
     "data": {
      "application/vnd.jupyter.widget-view+json": {
       "model_id": "87af28ccd50a47318e2c52a355c3d63f",
       "version_major": 2,
       "version_minor": 0
      },
      "text/plain": [
       "HBox(children=(HTML(value=''), FloatProgress(value=0.0, max=5.0), HTML(value='')))"
      ]
     },
     "metadata": {},
     "output_type": "display_data"
    },
    {
     "name": "stdout",
     "output_type": "stream",
     "text": [
      "\n"
     ]
    },
    {
     "data": {
      "application/vnd.jupyter.widget-view+json": {
       "model_id": "fce42c4358574d2fbb853387d3574edf",
       "version_major": 2,
       "version_minor": 0
      },
      "text/plain": [
       "HBox(children=(HTML(value=''), FloatProgress(value=0.0, max=5.0), HTML(value='')))"
      ]
     },
     "metadata": {},
     "output_type": "display_data"
    },
    {
     "name": "stdout",
     "output_type": "stream",
     "text": [
      "\n"
     ]
    },
    {
     "data": {
      "application/vnd.jupyter.widget-view+json": {
       "model_id": "04a143a8f9e242198457b21762bef0ff",
       "version_major": 2,
       "version_minor": 0
      },
      "text/plain": [
       "HBox(children=(HTML(value=''), FloatProgress(value=0.0, max=5.0), HTML(value='')))"
      ]
     },
     "metadata": {},
     "output_type": "display_data"
    },
    {
     "name": "stdout",
     "output_type": "stream",
     "text": [
      "\n"
     ]
    },
    {
     "data": {
      "application/vnd.jupyter.widget-view+json": {
       "model_id": "57af93b3601b4120917ee73a5ac01849",
       "version_major": 2,
       "version_minor": 0
      },
      "text/plain": [
       "HBox(children=(HTML(value=''), FloatProgress(value=0.0, max=5.0), HTML(value='')))"
      ]
     },
     "metadata": {},
     "output_type": "display_data"
    },
    {
     "name": "stdout",
     "output_type": "stream",
     "text": [
      "\n"
     ]
    },
    {
     "data": {
      "application/vnd.jupyter.widget-view+json": {
       "model_id": "43809ee5cf7847a191cae8bb3690974e",
       "version_major": 2,
       "version_minor": 0
      },
      "text/plain": [
       "HBox(children=(HTML(value=''), FloatProgress(value=0.0, max=5.0), HTML(value='')))"
      ]
     },
     "metadata": {},
     "output_type": "display_data"
    },
    {
     "name": "stdout",
     "output_type": "stream",
     "text": [
      "\n"
     ]
    },
    {
     "data": {
      "application/vnd.jupyter.widget-view+json": {
       "model_id": "44da9add5a504ee496d08a37b4471e67",
       "version_major": 2,
       "version_minor": 0
      },
      "text/plain": [
       "HBox(children=(HTML(value=''), FloatProgress(value=0.0, max=5.0), HTML(value='')))"
      ]
     },
     "metadata": {},
     "output_type": "display_data"
    },
    {
     "name": "stdout",
     "output_type": "stream",
     "text": [
      "\n"
     ]
    },
    {
     "data": {
      "application/vnd.jupyter.widget-view+json": {
       "model_id": "cd11635aab15483099570884b7e38df5",
       "version_major": 2,
       "version_minor": 0
      },
      "text/plain": [
       "HBox(children=(HTML(value=''), FloatProgress(value=0.0, max=5.0), HTML(value='')))"
      ]
     },
     "metadata": {},
     "output_type": "display_data"
    },
    {
     "name": "stdout",
     "output_type": "stream",
     "text": [
      "\n"
     ]
    },
    {
     "data": {
      "application/vnd.jupyter.widget-view+json": {
       "model_id": "e5e616a02b7d4b75a4409a710d280d60",
       "version_major": 2,
       "version_minor": 0
      },
      "text/plain": [
       "HBox(children=(HTML(value=''), FloatProgress(value=0.0, max=5.0), HTML(value='')))"
      ]
     },
     "metadata": {},
     "output_type": "display_data"
    },
    {
     "name": "stdout",
     "output_type": "stream",
     "text": [
      "\n"
     ]
    },
    {
     "data": {
      "application/vnd.jupyter.widget-view+json": {
       "model_id": "5d8cc1d9d6684724bdc6656eed9f3702",
       "version_major": 2,
       "version_minor": 0
      },
      "text/plain": [
       "HBox(children=(HTML(value=''), FloatProgress(value=0.0, max=5.0), HTML(value='')))"
      ]
     },
     "metadata": {},
     "output_type": "display_data"
    },
    {
     "name": "stdout",
     "output_type": "stream",
     "text": [
      "\n"
     ]
    },
    {
     "data": {
      "application/vnd.jupyter.widget-view+json": {
       "model_id": "6485a3021508461ea7c122f225955fe1",
       "version_major": 2,
       "version_minor": 0
      },
      "text/plain": [
       "HBox(children=(HTML(value=''), FloatProgress(value=0.0, max=5.0), HTML(value='')))"
      ]
     },
     "metadata": {},
     "output_type": "display_data"
    },
    {
     "name": "stdout",
     "output_type": "stream",
     "text": [
      "\n"
     ]
    },
    {
     "data": {
      "application/vnd.jupyter.widget-view+json": {
       "model_id": "40658b4820ed403aad244c791373a99d",
       "version_major": 2,
       "version_minor": 0
      },
      "text/plain": [
       "HBox(children=(HTML(value=''), FloatProgress(value=0.0, max=5.0), HTML(value='')))"
      ]
     },
     "metadata": {},
     "output_type": "display_data"
    },
    {
     "name": "stdout",
     "output_type": "stream",
     "text": [
      "\n"
     ]
    },
    {
     "data": {
      "application/vnd.jupyter.widget-view+json": {
       "model_id": "1828f8681aff4189b8c106a620dd5555",
       "version_major": 2,
       "version_minor": 0
      },
      "text/plain": [
       "HBox(children=(HTML(value=''), FloatProgress(value=0.0, max=5.0), HTML(value='')))"
      ]
     },
     "metadata": {},
     "output_type": "display_data"
    },
    {
     "name": "stdout",
     "output_type": "stream",
     "text": [
      "\n"
     ]
    },
    {
     "data": {
      "application/vnd.jupyter.widget-view+json": {
       "model_id": "e3f937b8cfca498bbbc37bed88689cb4",
       "version_major": 2,
       "version_minor": 0
      },
      "text/plain": [
       "HBox(children=(HTML(value=''), FloatProgress(value=0.0, max=5.0), HTML(value='')))"
      ]
     },
     "metadata": {},
     "output_type": "display_data"
    },
    {
     "name": "stdout",
     "output_type": "stream",
     "text": [
      "\n"
     ]
    },
    {
     "data": {
      "application/vnd.jupyter.widget-view+json": {
       "model_id": "7064304a5a1947a39f0bcdab8d44187e",
       "version_major": 2,
       "version_minor": 0
      },
      "text/plain": [
       "HBox(children=(HTML(value=''), FloatProgress(value=0.0, max=5.0), HTML(value='')))"
      ]
     },
     "metadata": {},
     "output_type": "display_data"
    },
    {
     "name": "stdout",
     "output_type": "stream",
     "text": [
      "\n"
     ]
    },
    {
     "data": {
      "application/vnd.jupyter.widget-view+json": {
       "model_id": "0be4f05bca904adbb62543521a591a6e",
       "version_major": 2,
       "version_minor": 0
      },
      "text/plain": [
       "HBox(children=(HTML(value=''), FloatProgress(value=0.0, max=5.0), HTML(value='')))"
      ]
     },
     "metadata": {},
     "output_type": "display_data"
    },
    {
     "name": "stdout",
     "output_type": "stream",
     "text": [
      "\n"
     ]
    },
    {
     "data": {
      "application/vnd.jupyter.widget-view+json": {
       "model_id": "06d5f9cfda32469f90db4a2bf213ca12",
       "version_major": 2,
       "version_minor": 0
      },
      "text/plain": [
       "HBox(children=(HTML(value=''), FloatProgress(value=0.0, max=10.0), HTML(value='')))"
      ]
     },
     "metadata": {},
     "output_type": "display_data"
    },
    {
     "name": "stdout",
     "output_type": "stream",
     "text": [
      "\n"
     ]
    },
    {
     "data": {
      "application/vnd.jupyter.widget-view+json": {
       "model_id": "e667da52592e4c4088752a48a63a484d",
       "version_major": 2,
       "version_minor": 0
      },
      "text/plain": [
       "HBox(children=(HTML(value=''), FloatProgress(value=0.0, max=10.0), HTML(value='')))"
      ]
     },
     "metadata": {},
     "output_type": "display_data"
    },
    {
     "name": "stdout",
     "output_type": "stream",
     "text": [
      "\n"
     ]
    },
    {
     "data": {
      "application/vnd.jupyter.widget-view+json": {
       "model_id": "57296c4df58e4e95ac41fcf00883a8ff",
       "version_major": 2,
       "version_minor": 0
      },
      "text/plain": [
       "HBox(children=(HTML(value=''), FloatProgress(value=0.0, max=10.0), HTML(value='')))"
      ]
     },
     "metadata": {},
     "output_type": "display_data"
    },
    {
     "name": "stdout",
     "output_type": "stream",
     "text": [
      "\n"
     ]
    },
    {
     "data": {
      "application/vnd.jupyter.widget-view+json": {
       "model_id": "dc037d26c7484fa1bf608891657d6371",
       "version_major": 2,
       "version_minor": 0
      },
      "text/plain": [
       "HBox(children=(HTML(value=''), FloatProgress(value=0.0, max=10.0), HTML(value='')))"
      ]
     },
     "metadata": {},
     "output_type": "display_data"
    },
    {
     "name": "stdout",
     "output_type": "stream",
     "text": [
      "\n"
     ]
    },
    {
     "data": {
      "application/vnd.jupyter.widget-view+json": {
       "model_id": "f25cee05bac64477a072083c1827d2ff",
       "version_major": 2,
       "version_minor": 0
      },
      "text/plain": [
       "HBox(children=(HTML(value=''), FloatProgress(value=0.0, max=10.0), HTML(value='')))"
      ]
     },
     "metadata": {},
     "output_type": "display_data"
    },
    {
     "name": "stdout",
     "output_type": "stream",
     "text": [
      "\n"
     ]
    },
    {
     "data": {
      "application/vnd.jupyter.widget-view+json": {
       "model_id": "20e5f3214e074e1abd9fdb15cfbe96b5",
       "version_major": 2,
       "version_minor": 0
      },
      "text/plain": [
       "HBox(children=(HTML(value=''), FloatProgress(value=0.0, max=10.0), HTML(value='')))"
      ]
     },
     "metadata": {},
     "output_type": "display_data"
    },
    {
     "name": "stdout",
     "output_type": "stream",
     "text": [
      "\n"
     ]
    },
    {
     "data": {
      "application/vnd.jupyter.widget-view+json": {
       "model_id": "ec1ec364560a4ea98a6c5278b31383e0",
       "version_major": 2,
       "version_minor": 0
      },
      "text/plain": [
       "HBox(children=(HTML(value=''), FloatProgress(value=0.0, max=10.0), HTML(value='')))"
      ]
     },
     "metadata": {},
     "output_type": "display_data"
    },
    {
     "name": "stdout",
     "output_type": "stream",
     "text": [
      "\n"
     ]
    },
    {
     "data": {
      "application/vnd.jupyter.widget-view+json": {
       "model_id": "d73e7a561be7463a9e43eef491669b9b",
       "version_major": 2,
       "version_minor": 0
      },
      "text/plain": [
       "HBox(children=(HTML(value=''), FloatProgress(value=0.0, max=10.0), HTML(value='')))"
      ]
     },
     "metadata": {},
     "output_type": "display_data"
    },
    {
     "name": "stdout",
     "output_type": "stream",
     "text": [
      "\n"
     ]
    },
    {
     "data": {
      "application/vnd.jupyter.widget-view+json": {
       "model_id": "07ca4dc341f24da188a038cea4536845",
       "version_major": 2,
       "version_minor": 0
      },
      "text/plain": [
       "HBox(children=(HTML(value=''), FloatProgress(value=0.0, max=10.0), HTML(value='')))"
      ]
     },
     "metadata": {},
     "output_type": "display_data"
    },
    {
     "name": "stdout",
     "output_type": "stream",
     "text": [
      "\n"
     ]
    },
    {
     "data": {
      "application/vnd.jupyter.widget-view+json": {
       "model_id": "585a8c2638e040868cfb7bd26bd78e11",
       "version_major": 2,
       "version_minor": 0
      },
      "text/plain": [
       "HBox(children=(HTML(value=''), FloatProgress(value=0.0, max=10.0), HTML(value='')))"
      ]
     },
     "metadata": {},
     "output_type": "display_data"
    },
    {
     "name": "stdout",
     "output_type": "stream",
     "text": [
      "\n"
     ]
    },
    {
     "data": {
      "application/vnd.jupyter.widget-view+json": {
       "model_id": "b2a05adf92234bb7af1ee6cad9122069",
       "version_major": 2,
       "version_minor": 0
      },
      "text/plain": [
       "HBox(children=(HTML(value=''), FloatProgress(value=0.0, max=10.0), HTML(value='')))"
      ]
     },
     "metadata": {},
     "output_type": "display_data"
    },
    {
     "name": "stdout",
     "output_type": "stream",
     "text": [
      "\n"
     ]
    },
    {
     "data": {
      "application/vnd.jupyter.widget-view+json": {
       "model_id": "d4c0e59666dc4c50a275b82d81b8c6a5",
       "version_major": 2,
       "version_minor": 0
      },
      "text/plain": [
       "HBox(children=(HTML(value=''), FloatProgress(value=0.0, max=10.0), HTML(value='')))"
      ]
     },
     "metadata": {},
     "output_type": "display_data"
    },
    {
     "name": "stdout",
     "output_type": "stream",
     "text": [
      "\n"
     ]
    },
    {
     "data": {
      "application/vnd.jupyter.widget-view+json": {
       "model_id": "6953d4275313430e985ce8949b63126e",
       "version_major": 2,
       "version_minor": 0
      },
      "text/plain": [
       "HBox(children=(HTML(value=''), FloatProgress(value=0.0, max=10.0), HTML(value='')))"
      ]
     },
     "metadata": {},
     "output_type": "display_data"
    },
    {
     "name": "stdout",
     "output_type": "stream",
     "text": [
      "\n"
     ]
    },
    {
     "data": {
      "application/vnd.jupyter.widget-view+json": {
       "model_id": "894cd32e580f4c39bd530273ebc6bb91",
       "version_major": 2,
       "version_minor": 0
      },
      "text/plain": [
       "HBox(children=(HTML(value=''), FloatProgress(value=0.0, max=10.0), HTML(value='')))"
      ]
     },
     "metadata": {},
     "output_type": "display_data"
    },
    {
     "name": "stdout",
     "output_type": "stream",
     "text": [
      "\n"
     ]
    },
    {
     "data": {
      "application/vnd.jupyter.widget-view+json": {
       "model_id": "512f0d3446c3464999250899cf3c5049",
       "version_major": 2,
       "version_minor": 0
      },
      "text/plain": [
       "HBox(children=(HTML(value=''), FloatProgress(value=0.0, max=10.0), HTML(value='')))"
      ]
     },
     "metadata": {},
     "output_type": "display_data"
    },
    {
     "name": "stdout",
     "output_type": "stream",
     "text": [
      "\n"
     ]
    },
    {
     "data": {
      "application/vnd.jupyter.widget-view+json": {
       "model_id": "7d8feef0e06d43368e70887885b2100d",
       "version_major": 2,
       "version_minor": 0
      },
      "text/plain": [
       "HBox(children=(HTML(value=''), FloatProgress(value=0.0, max=10.0), HTML(value='')))"
      ]
     },
     "metadata": {},
     "output_type": "display_data"
    },
    {
     "name": "stdout",
     "output_type": "stream",
     "text": [
      "\n"
     ]
    },
    {
     "data": {
      "application/vnd.jupyter.widget-view+json": {
       "model_id": "707e429fa079428c8cec2156d31f895e",
       "version_major": 2,
       "version_minor": 0
      },
      "text/plain": [
       "HBox(children=(HTML(value=''), FloatProgress(value=0.0, max=20.0), HTML(value='')))"
      ]
     },
     "metadata": {},
     "output_type": "display_data"
    },
    {
     "name": "stdout",
     "output_type": "stream",
     "text": [
      "\n"
     ]
    },
    {
     "data": {
      "application/vnd.jupyter.widget-view+json": {
       "model_id": "67ca6eddc39a416488ea748c52b77c9c",
       "version_major": 2,
       "version_minor": 0
      },
      "text/plain": [
       "HBox(children=(HTML(value=''), FloatProgress(value=0.0, max=20.0), HTML(value='')))"
      ]
     },
     "metadata": {},
     "output_type": "display_data"
    },
    {
     "name": "stdout",
     "output_type": "stream",
     "text": [
      "\n"
     ]
    },
    {
     "data": {
      "application/vnd.jupyter.widget-view+json": {
       "model_id": "7a45c85f7a644ad3b36b6c005959da2e",
       "version_major": 2,
       "version_minor": 0
      },
      "text/plain": [
       "HBox(children=(HTML(value=''), FloatProgress(value=0.0, max=20.0), HTML(value='')))"
      ]
     },
     "metadata": {},
     "output_type": "display_data"
    },
    {
     "name": "stdout",
     "output_type": "stream",
     "text": [
      "\n"
     ]
    },
    {
     "data": {
      "application/vnd.jupyter.widget-view+json": {
       "model_id": "2f961bfcd15a477aadeb3514429d0370",
       "version_major": 2,
       "version_minor": 0
      },
      "text/plain": [
       "HBox(children=(HTML(value=''), FloatProgress(value=0.0, max=20.0), HTML(value='')))"
      ]
     },
     "metadata": {},
     "output_type": "display_data"
    },
    {
     "name": "stdout",
     "output_type": "stream",
     "text": [
      "\n"
     ]
    },
    {
     "data": {
      "application/vnd.jupyter.widget-view+json": {
       "model_id": "38247920c28b4bdeacb45b08b888e23f",
       "version_major": 2,
       "version_minor": 0
      },
      "text/plain": [
       "HBox(children=(HTML(value=''), FloatProgress(value=0.0, max=20.0), HTML(value='')))"
      ]
     },
     "metadata": {},
     "output_type": "display_data"
    },
    {
     "name": "stdout",
     "output_type": "stream",
     "text": [
      "\n"
     ]
    },
    {
     "data": {
      "application/vnd.jupyter.widget-view+json": {
       "model_id": "a7c06f04d0e6434a9bbdfa6d17589b9f",
       "version_major": 2,
       "version_minor": 0
      },
      "text/plain": [
       "HBox(children=(HTML(value=''), FloatProgress(value=0.0, max=20.0), HTML(value='')))"
      ]
     },
     "metadata": {},
     "output_type": "display_data"
    },
    {
     "name": "stdout",
     "output_type": "stream",
     "text": [
      "\n"
     ]
    },
    {
     "data": {
      "application/vnd.jupyter.widget-view+json": {
       "model_id": "ff6da270a45048a4a7e8582488e86592",
       "version_major": 2,
       "version_minor": 0
      },
      "text/plain": [
       "HBox(children=(HTML(value=''), FloatProgress(value=0.0, max=20.0), HTML(value='')))"
      ]
     },
     "metadata": {},
     "output_type": "display_data"
    },
    {
     "name": "stdout",
     "output_type": "stream",
     "text": [
      "\n"
     ]
    },
    {
     "data": {
      "application/vnd.jupyter.widget-view+json": {
       "model_id": "3ed207e7d7134eadb2cbf7ea313622ee",
       "version_major": 2,
       "version_minor": 0
      },
      "text/plain": [
       "HBox(children=(HTML(value=''), FloatProgress(value=0.0, max=20.0), HTML(value='')))"
      ]
     },
     "metadata": {},
     "output_type": "display_data"
    },
    {
     "name": "stdout",
     "output_type": "stream",
     "text": [
      "\n"
     ]
    },
    {
     "data": {
      "application/vnd.jupyter.widget-view+json": {
       "model_id": "f512672c63e44c5b9ec240f1f6776787",
       "version_major": 2,
       "version_minor": 0
      },
      "text/plain": [
       "HBox(children=(HTML(value=''), FloatProgress(value=0.0, max=20.0), HTML(value='')))"
      ]
     },
     "metadata": {},
     "output_type": "display_data"
    },
    {
     "name": "stdout",
     "output_type": "stream",
     "text": [
      "\n"
     ]
    },
    {
     "data": {
      "application/vnd.jupyter.widget-view+json": {
       "model_id": "ed7560c8db1444a1881b6b6274ed99a5",
       "version_major": 2,
       "version_minor": 0
      },
      "text/plain": [
       "HBox(children=(HTML(value=''), FloatProgress(value=0.0, max=20.0), HTML(value='')))"
      ]
     },
     "metadata": {},
     "output_type": "display_data"
    },
    {
     "name": "stdout",
     "output_type": "stream",
     "text": [
      "\n"
     ]
    },
    {
     "data": {
      "application/vnd.jupyter.widget-view+json": {
       "model_id": "cef310bc14ae449aa545b27f596bf919",
       "version_major": 2,
       "version_minor": 0
      },
      "text/plain": [
       "HBox(children=(HTML(value=''), FloatProgress(value=0.0, max=20.0), HTML(value='')))"
      ]
     },
     "metadata": {},
     "output_type": "display_data"
    },
    {
     "name": "stdout",
     "output_type": "stream",
     "text": [
      "\n"
     ]
    },
    {
     "data": {
      "application/vnd.jupyter.widget-view+json": {
       "model_id": "472de70b271349e183845a59d784c482",
       "version_major": 2,
       "version_minor": 0
      },
      "text/plain": [
       "HBox(children=(HTML(value=''), FloatProgress(value=0.0, max=20.0), HTML(value='')))"
      ]
     },
     "metadata": {},
     "output_type": "display_data"
    },
    {
     "name": "stdout",
     "output_type": "stream",
     "text": [
      "\n"
     ]
    },
    {
     "data": {
      "application/vnd.jupyter.widget-view+json": {
       "model_id": "41ad8413b8334e9b82cc9d5667fda52a",
       "version_major": 2,
       "version_minor": 0
      },
      "text/plain": [
       "HBox(children=(HTML(value=''), FloatProgress(value=0.0, max=20.0), HTML(value='')))"
      ]
     },
     "metadata": {},
     "output_type": "display_data"
    },
    {
     "name": "stdout",
     "output_type": "stream",
     "text": [
      "\n"
     ]
    },
    {
     "data": {
      "application/vnd.jupyter.widget-view+json": {
       "model_id": "e31d52e4945c48c7bc50e1955c064fa7",
       "version_major": 2,
       "version_minor": 0
      },
      "text/plain": [
       "HBox(children=(HTML(value=''), FloatProgress(value=0.0, max=20.0), HTML(value='')))"
      ]
     },
     "metadata": {},
     "output_type": "display_data"
    },
    {
     "name": "stdout",
     "output_type": "stream",
     "text": [
      "\n"
     ]
    },
    {
     "data": {
      "application/vnd.jupyter.widget-view+json": {
       "model_id": "ec44367f8123442cbd41125f5750179e",
       "version_major": 2,
       "version_minor": 0
      },
      "text/plain": [
       "HBox(children=(HTML(value=''), FloatProgress(value=0.0, max=20.0), HTML(value='')))"
      ]
     },
     "metadata": {},
     "output_type": "display_data"
    },
    {
     "name": "stdout",
     "output_type": "stream",
     "text": [
      "\n"
     ]
    },
    {
     "data": {
      "application/vnd.jupyter.widget-view+json": {
       "model_id": "714c2800a54549dd895096a8c81cdb7c",
       "version_major": 2,
       "version_minor": 0
      },
      "text/plain": [
       "HBox(children=(HTML(value=''), FloatProgress(value=0.0, max=20.0), HTML(value='')))"
      ]
     },
     "metadata": {},
     "output_type": "display_data"
    },
    {
     "name": "stdout",
     "output_type": "stream",
     "text": [
      "\n"
     ]
    },
    {
     "data": {
      "application/vnd.jupyter.widget-view+json": {
       "model_id": "251a1b199c374c14b30a131d41bf29cc",
       "version_major": 2,
       "version_minor": 0
      },
      "text/plain": [
       "HBox(children=(HTML(value=''), FloatProgress(value=0.0, max=50.0), HTML(value='')))"
      ]
     },
     "metadata": {},
     "output_type": "display_data"
    },
    {
     "name": "stdout",
     "output_type": "stream",
     "text": [
      "\n"
     ]
    },
    {
     "data": {
      "application/vnd.jupyter.widget-view+json": {
       "model_id": "8ce9ce67b258430c86c6c2865ba0874e",
       "version_major": 2,
       "version_minor": 0
      },
      "text/plain": [
       "HBox(children=(HTML(value=''), FloatProgress(value=0.0, max=50.0), HTML(value='')))"
      ]
     },
     "metadata": {},
     "output_type": "display_data"
    },
    {
     "name": "stdout",
     "output_type": "stream",
     "text": [
      "\n"
     ]
    },
    {
     "data": {
      "application/vnd.jupyter.widget-view+json": {
       "model_id": "11114cffb27248dab828f2a4229ef152",
       "version_major": 2,
       "version_minor": 0
      },
      "text/plain": [
       "HBox(children=(HTML(value=''), FloatProgress(value=0.0, max=50.0), HTML(value='')))"
      ]
     },
     "metadata": {},
     "output_type": "display_data"
    },
    {
     "name": "stdout",
     "output_type": "stream",
     "text": [
      "\n"
     ]
    },
    {
     "data": {
      "application/vnd.jupyter.widget-view+json": {
       "model_id": "2530eac02400458684d2af20fd3f8732",
       "version_major": 2,
       "version_minor": 0
      },
      "text/plain": [
       "HBox(children=(HTML(value=''), FloatProgress(value=0.0, max=50.0), HTML(value='')))"
      ]
     },
     "metadata": {},
     "output_type": "display_data"
    },
    {
     "name": "stdout",
     "output_type": "stream",
     "text": [
      "\n"
     ]
    },
    {
     "data": {
      "application/vnd.jupyter.widget-view+json": {
       "model_id": "bbe731cd51de4c0f8f2bbd15ce7253e0",
       "version_major": 2,
       "version_minor": 0
      },
      "text/plain": [
       "HBox(children=(HTML(value=''), FloatProgress(value=0.0, max=50.0), HTML(value='')))"
      ]
     },
     "metadata": {},
     "output_type": "display_data"
    },
    {
     "name": "stdout",
     "output_type": "stream",
     "text": [
      "\n"
     ]
    },
    {
     "data": {
      "application/vnd.jupyter.widget-view+json": {
       "model_id": "7eaedae673a54b47b1c87f2dcda697a3",
       "version_major": 2,
       "version_minor": 0
      },
      "text/plain": [
       "HBox(children=(HTML(value=''), FloatProgress(value=0.0, max=50.0), HTML(value='')))"
      ]
     },
     "metadata": {},
     "output_type": "display_data"
    },
    {
     "name": "stdout",
     "output_type": "stream",
     "text": [
      "\n"
     ]
    },
    {
     "data": {
      "application/vnd.jupyter.widget-view+json": {
       "model_id": "9b1332dac57a45afaaf8031d74fece68",
       "version_major": 2,
       "version_minor": 0
      },
      "text/plain": [
       "HBox(children=(HTML(value=''), FloatProgress(value=0.0, max=50.0), HTML(value='')))"
      ]
     },
     "metadata": {},
     "output_type": "display_data"
    },
    {
     "name": "stdout",
     "output_type": "stream",
     "text": [
      "\n"
     ]
    },
    {
     "data": {
      "application/vnd.jupyter.widget-view+json": {
       "model_id": "b7130a6e85c447c49e988c081676b040",
       "version_major": 2,
       "version_minor": 0
      },
      "text/plain": [
       "HBox(children=(HTML(value=''), FloatProgress(value=0.0, max=50.0), HTML(value='')))"
      ]
     },
     "metadata": {},
     "output_type": "display_data"
    },
    {
     "name": "stdout",
     "output_type": "stream",
     "text": [
      "\n"
     ]
    },
    {
     "data": {
      "application/vnd.jupyter.widget-view+json": {
       "model_id": "3dc642d4e55247249270298c9f5ec85c",
       "version_major": 2,
       "version_minor": 0
      },
      "text/plain": [
       "HBox(children=(HTML(value=''), FloatProgress(value=0.0, max=50.0), HTML(value='')))"
      ]
     },
     "metadata": {},
     "output_type": "display_data"
    },
    {
     "name": "stdout",
     "output_type": "stream",
     "text": [
      "\n"
     ]
    },
    {
     "data": {
      "application/vnd.jupyter.widget-view+json": {
       "model_id": "492f056d0c724623a69fc14bc5ab8263",
       "version_major": 2,
       "version_minor": 0
      },
      "text/plain": [
       "HBox(children=(HTML(value=''), FloatProgress(value=0.0, max=50.0), HTML(value='')))"
      ]
     },
     "metadata": {},
     "output_type": "display_data"
    },
    {
     "name": "stdout",
     "output_type": "stream",
     "text": [
      "\n"
     ]
    },
    {
     "data": {
      "application/vnd.jupyter.widget-view+json": {
       "model_id": "21e6788422d3441d81f9bb73b5ca76de",
       "version_major": 2,
       "version_minor": 0
      },
      "text/plain": [
       "HBox(children=(HTML(value=''), FloatProgress(value=0.0, max=50.0), HTML(value='')))"
      ]
     },
     "metadata": {},
     "output_type": "display_data"
    },
    {
     "name": "stdout",
     "output_type": "stream",
     "text": [
      "\n"
     ]
    },
    {
     "data": {
      "application/vnd.jupyter.widget-view+json": {
       "model_id": "4fb944ba956e4eaeb1b953e3c9765b1e",
       "version_major": 2,
       "version_minor": 0
      },
      "text/plain": [
       "HBox(children=(HTML(value=''), FloatProgress(value=0.0, max=50.0), HTML(value='')))"
      ]
     },
     "metadata": {},
     "output_type": "display_data"
    },
    {
     "name": "stdout",
     "output_type": "stream",
     "text": [
      "\n"
     ]
    },
    {
     "data": {
      "application/vnd.jupyter.widget-view+json": {
       "model_id": "6545265f37c14298a0ed1966237dbfee",
       "version_major": 2,
       "version_minor": 0
      },
      "text/plain": [
       "HBox(children=(HTML(value=''), FloatProgress(value=0.0, max=50.0), HTML(value='')))"
      ]
     },
     "metadata": {},
     "output_type": "display_data"
    },
    {
     "name": "stdout",
     "output_type": "stream",
     "text": [
      "\n"
     ]
    },
    {
     "data": {
      "application/vnd.jupyter.widget-view+json": {
       "model_id": "eb6b45476a764f328cb6d0d66ca3e2a4",
       "version_major": 2,
       "version_minor": 0
      },
      "text/plain": [
       "HBox(children=(HTML(value=''), FloatProgress(value=0.0, max=50.0), HTML(value='')))"
      ]
     },
     "metadata": {},
     "output_type": "display_data"
    },
    {
     "name": "stdout",
     "output_type": "stream",
     "text": [
      "\n"
     ]
    },
    {
     "data": {
      "application/vnd.jupyter.widget-view+json": {
       "model_id": "72ad112d0a504db48825bdc793a4e0b0",
       "version_major": 2,
       "version_minor": 0
      },
      "text/plain": [
       "HBox(children=(HTML(value=''), FloatProgress(value=0.0, max=50.0), HTML(value='')))"
      ]
     },
     "metadata": {},
     "output_type": "display_data"
    },
    {
     "name": "stdout",
     "output_type": "stream",
     "text": [
      "\n"
     ]
    },
    {
     "data": {
      "application/vnd.jupyter.widget-view+json": {
       "model_id": "ce04d75a92624435a9bfd12cc0b17a0a",
       "version_major": 2,
       "version_minor": 0
      },
      "text/plain": [
       "HBox(children=(HTML(value=''), FloatProgress(value=0.0, max=50.0), HTML(value='')))"
      ]
     },
     "metadata": {},
     "output_type": "display_data"
    },
    {
     "name": "stdout",
     "output_type": "stream",
     "text": [
      "\n"
     ]
    },
    {
     "data": {
      "text/html": [
       "<div>\n",
       "<style scoped>\n",
       "    .dataframe tbody tr th:only-of-type {\n",
       "        vertical-align: middle;\n",
       "    }\n",
       "\n",
       "    .dataframe tbody tr th {\n",
       "        vertical-align: top;\n",
       "    }\n",
       "\n",
       "    .dataframe thead th {\n",
       "        text-align: right;\n",
       "    }\n",
       "</style>\n",
       "<table border=\"1\" class=\"dataframe\">\n",
       "  <thead>\n",
       "    <tr style=\"text-align: right;\">\n",
       "      <th></th>\n",
       "      <th>params</th>\n",
       "      <th>meanNDCG</th>\n",
       "    </tr>\n",
       "  </thead>\n",
       "  <tbody>\n",
       "    <tr>\n",
       "      <th>0</th>\n",
       "      <td>{'factors': 5, 'iterations': 5, 'learning_rate...</td>\n",
       "      <td>0.088472</td>\n",
       "    </tr>\n",
       "    <tr>\n",
       "      <th>1</th>\n",
       "      <td>{'factors': 5, 'iterations': 5, 'learning_rate...</td>\n",
       "      <td>0.085558</td>\n",
       "    </tr>\n",
       "    <tr>\n",
       "      <th>2</th>\n",
       "      <td>{'factors': 5, 'iterations': 5, 'learning_rate...</td>\n",
       "      <td>0.068984</td>\n",
       "    </tr>\n",
       "    <tr>\n",
       "      <th>3</th>\n",
       "      <td>{'factors': 5, 'iterations': 5, 'learning_rate...</td>\n",
       "      <td>0.080739</td>\n",
       "    </tr>\n",
       "    <tr>\n",
       "      <th>4</th>\n",
       "      <td>{'factors': 5, 'iterations': 5, 'learning_rate...</td>\n",
       "      <td>0.089515</td>\n",
       "    </tr>\n",
       "    <tr>\n",
       "      <th>...</th>\n",
       "      <td>...</td>\n",
       "      <td>...</td>\n",
       "    </tr>\n",
       "    <tr>\n",
       "      <th>315</th>\n",
       "      <td>{'factors': 100, 'iterations': 50, 'learning_r...</td>\n",
       "      <td>0.109830</td>\n",
       "    </tr>\n",
       "    <tr>\n",
       "      <th>316</th>\n",
       "      <td>{'factors': 100, 'iterations': 50, 'learning_r...</td>\n",
       "      <td>0.108643</td>\n",
       "    </tr>\n",
       "    <tr>\n",
       "      <th>317</th>\n",
       "      <td>{'factors': 100, 'iterations': 50, 'learning_r...</td>\n",
       "      <td>0.116730</td>\n",
       "    </tr>\n",
       "    <tr>\n",
       "      <th>318</th>\n",
       "      <td>{'factors': 100, 'iterations': 50, 'learning_r...</td>\n",
       "      <td>0.108948</td>\n",
       "    </tr>\n",
       "    <tr>\n",
       "      <th>319</th>\n",
       "      <td>{'factors': 100, 'iterations': 50, 'learning_r...</td>\n",
       "      <td>0.110071</td>\n",
       "    </tr>\n",
       "  </tbody>\n",
       "</table>\n",
       "<p>320 rows × 2 columns</p>\n",
       "</div>"
      ],
      "text/plain": [
       "                                                params  meanNDCG\n",
       "0    {'factors': 5, 'iterations': 5, 'learning_rate...  0.088472\n",
       "1    {'factors': 5, 'iterations': 5, 'learning_rate...  0.085558\n",
       "2    {'factors': 5, 'iterations': 5, 'learning_rate...  0.068984\n",
       "3    {'factors': 5, 'iterations': 5, 'learning_rate...  0.080739\n",
       "4    {'factors': 5, 'iterations': 5, 'learning_rate...  0.089515\n",
       "..                                                 ...       ...\n",
       "315  {'factors': 100, 'iterations': 50, 'learning_r...  0.109830\n",
       "316  {'factors': 100, 'iterations': 50, 'learning_r...  0.108643\n",
       "317  {'factors': 100, 'iterations': 50, 'learning_r...  0.116730\n",
       "318  {'factors': 100, 'iterations': 50, 'learning_r...  0.108948\n",
       "319  {'factors': 100, 'iterations': 50, 'learning_r...  0.110071\n",
       "\n",
       "[320 rows x 2 columns]"
      ]
     },
     "execution_count": 17,
     "metadata": {},
     "output_type": "execute_result"
    }
   ],
   "source": [
    "i = 0\n",
    "\n",
    "scoresMean = []\n",
    "scoresInd = []\n",
    "\n",
    "for params in params_list:\n",
    "    i += 1\n",
    "    rec:ARecommender = RecommenderBPRMF(\"test\", params)\n",
    "    rec.train(HistoryDF(\"hyperparams_tuning_BPRMF\"+str(i)), trainDataset)\n",
    "    scoresVector = []\n",
    "    \n",
    "    for user in users:\n",
    "        recList = rec.recommend(user)\n",
    "        #print(recList.index)\n",
    "        #print(type(recList.index))\n",
    "        #rl = np.array([i[0] for i in recList])\n",
    "        #print(rl)\n",
    "        relScore = np.zeros((1,maxOID+1))\n",
    "        relScore[0,recList.index] = recList.values\n",
    "        #print(relScore.sum())\n",
    "        #print(np.isin(recList.index, trueList[user].values))\n",
    "        res = ndcg_score(trueRelevance[user], relScore, k=20)\n",
    "        scoresVector.append(res)\n",
    "        \n",
    "    meanScore = np.mean(scoresVector)\n",
    "    scoresMean.append(meanScore)\n",
    "    scoresInd.append(scoresVector)    \n",
    "\n",
    "par = [params_list[0]]\n",
    "\n",
    "resultsDF = pd.DataFrame({\"params\":params_list, \"meanNDCG\":scoresMean})\n",
    "resultsDF\n",
    "        \n",
    "    "
   ]
  },
  {
   "cell_type": "code",
   "execution_count": 96,
   "metadata": {},
   "outputs": [],
   "source": [
    "resultsDF.to_csv(\"hp_results_BPRMF.csv\")"
   ]
  },
  {
   "cell_type": "code",
   "execution_count": 18,
   "metadata": {
    "scrolled": true
   },
   "outputs": [
    {
     "data": {
      "text/html": [
       "<div>\n",
       "<style scoped>\n",
       "    .dataframe tbody tr th:only-of-type {\n",
       "        vertical-align: middle;\n",
       "    }\n",
       "\n",
       "    .dataframe tbody tr th {\n",
       "        vertical-align: top;\n",
       "    }\n",
       "\n",
       "    .dataframe thead th {\n",
       "        text-align: right;\n",
       "    }\n",
       "</style>\n",
       "<table border=\"1\" class=\"dataframe\">\n",
       "  <thead>\n",
       "    <tr style=\"text-align: right;\">\n",
       "      <th></th>\n",
       "      <th>params</th>\n",
       "      <th>meanNDCG</th>\n",
       "    </tr>\n",
       "  </thead>\n",
       "  <tbody>\n",
       "    <tr>\n",
       "      <th>192</th>\n",
       "      <td>{'factors': 50, 'iterations': 5, 'learning_rat...</td>\n",
       "      <td>0.051260</td>\n",
       "    </tr>\n",
       "    <tr>\n",
       "      <th>112</th>\n",
       "      <td>{'factors': 10, 'iterations': 50, 'learning_ra...</td>\n",
       "      <td>0.053888</td>\n",
       "    </tr>\n",
       "    <tr>\n",
       "      <th>32</th>\n",
       "      <td>{'factors': 5, 'iterations': 20, 'learning_rat...</td>\n",
       "      <td>0.057015</td>\n",
       "    </tr>\n",
       "    <tr>\n",
       "      <th>176</th>\n",
       "      <td>{'factors': 20, 'iterations': 50, 'learning_ra...</td>\n",
       "      <td>0.057984</td>\n",
       "    </tr>\n",
       "    <tr>\n",
       "      <th>128</th>\n",
       "      <td>{'factors': 20, 'iterations': 5, 'learning_rat...</td>\n",
       "      <td>0.063052</td>\n",
       "    </tr>\n",
       "    <tr>\n",
       "      <th>...</th>\n",
       "      <td>...</td>\n",
       "      <td>...</td>\n",
       "    </tr>\n",
       "    <tr>\n",
       "      <th>20</th>\n",
       "      <td>{'factors': 5, 'iterations': 10, 'learning_rat...</td>\n",
       "      <td>0.117445</td>\n",
       "    </tr>\n",
       "    <tr>\n",
       "      <th>298</th>\n",
       "      <td>{'factors': 100, 'iterations': 20, 'learning_r...</td>\n",
       "      <td>0.117570</td>\n",
       "    </tr>\n",
       "    <tr>\n",
       "      <th>126</th>\n",
       "      <td>{'factors': 10, 'iterations': 50, 'learning_ra...</td>\n",
       "      <td>0.117882</td>\n",
       "    </tr>\n",
       "    <tr>\n",
       "      <th>155</th>\n",
       "      <td>{'factors': 20, 'iterations': 10, 'learning_ra...</td>\n",
       "      <td>0.118124</td>\n",
       "    </tr>\n",
       "    <tr>\n",
       "      <th>191</th>\n",
       "      <td>{'factors': 20, 'iterations': 50, 'learning_ra...</td>\n",
       "      <td>0.118439</td>\n",
       "    </tr>\n",
       "  </tbody>\n",
       "</table>\n",
       "<p>320 rows × 2 columns</p>\n",
       "</div>"
      ],
      "text/plain": [
       "                                                params  meanNDCG\n",
       "192  {'factors': 50, 'iterations': 5, 'learning_rat...  0.051260\n",
       "112  {'factors': 10, 'iterations': 50, 'learning_ra...  0.053888\n",
       "32   {'factors': 5, 'iterations': 20, 'learning_rat...  0.057015\n",
       "176  {'factors': 20, 'iterations': 50, 'learning_ra...  0.057984\n",
       "128  {'factors': 20, 'iterations': 5, 'learning_rat...  0.063052\n",
       "..                                                 ...       ...\n",
       "20   {'factors': 5, 'iterations': 10, 'learning_rat...  0.117445\n",
       "298  {'factors': 100, 'iterations': 20, 'learning_r...  0.117570\n",
       "126  {'factors': 10, 'iterations': 50, 'learning_ra...  0.117882\n",
       "155  {'factors': 20, 'iterations': 10, 'learning_ra...  0.118124\n",
       "191  {'factors': 20, 'iterations': 50, 'learning_ra...  0.118439\n",
       "\n",
       "[320 rows x 2 columns]"
      ]
     },
     "execution_count": 18,
     "metadata": {},
     "output_type": "execute_result"
    }
   ],
   "source": [
    "resultsDF.sort_values(by=\"meanNDCG\")"
   ]
  },
  {
   "cell_type": "code",
   "execution_count": 19,
   "metadata": {},
   "outputs": [
    {
     "data": {
      "text/plain": [
       "{'factors': 20,\n",
       " 'iterations': 50,\n",
       " 'learning_rate': 0.003,\n",
       " 'regularization': 0.003}"
      ]
     },
     "execution_count": 19,
     "metadata": {},
     "output_type": "execute_result"
    }
   ],
   "source": [
    "resultsDF.iloc[191,0] # BEST PARAMS for BPRMF {'factors': 10, 'iterations': 10, 'learning_rate': 0.1, 'regularization': 0.01}"
   ]
  },
  {
   "cell_type": "code",
   "execution_count": 20,
   "metadata": {},
   "outputs": [
    {
     "data": {
      "text/plain": [
       "{'factors': 20,\n",
       " 'iterations': 10,\n",
       " 'learning_rate': 0.01,\n",
       " 'regularization': 0.003}"
      ]
     },
     "execution_count": 20,
     "metadata": {},
     "output_type": "execute_result"
    }
   ],
   "source": [
    "resultsDF.iloc[155,0]"
   ]
  },
  {
   "cell_type": "code",
   "execution_count": 21,
   "metadata": {},
   "outputs": [
    {
     "data": {
      "text/plain": [
       "{'factors': 10,\n",
       " 'iterations': 50,\n",
       " 'learning_rate': 0.003,\n",
       " 'regularization': 0.01}"
      ]
     },
     "execution_count": 21,
     "metadata": {},
     "output_type": "execute_result"
    }
   ],
   "source": [
    "resultsDF.iloc[126,0]"
   ]
  },
  {
   "cell_type": "code",
   "execution_count": 22,
   "metadata": {},
   "outputs": [
    {
     "data": {
      "text/plain": [
       "{'factors': 100,\n",
       " 'iterations': 20,\n",
       " 'learning_rate': 0.01,\n",
       " 'regularization': 0.01}"
      ]
     },
     "execution_count": 22,
     "metadata": {},
     "output_type": "execute_result"
    }
   ],
   "source": [
    "resultsDF.iloc[298,0]"
   ]
  },
  {
   "cell_type": "code",
   "execution_count": null,
   "metadata": {},
   "outputs": [],
   "source": [
    "#TODO:  try default values for BPRMF\n"
   ]
  },
  {
   "cell_type": "markdown",
   "metadata": {},
   "source": [
    "## Run tuning for CosineCB"
   ]
  },
  {
   "cell_type": "code",
   "execution_count": 23,
   "metadata": {},
   "outputs": [],
   "source": [
    "param_grid = {\n",
    "              'cbDataPath': [Configuration.cbDataFileWithPathTFIDF, Configuration.cbDataFileWithPathOHE],\n",
    "              'userProfileStrategy': [\"mean\", \"max\",  \"weightedMean\"], \n",
    "              'userProfileSize': [-1, 1, 3, 5, 7, 10]\n",
    "             }\n",
    "params_list = list(ParameterGrid(param_grid))"
   ]
  },
  {
   "cell_type": "code",
   "execution_count": 24,
   "metadata": {},
   "outputs": [
    {
     "data": {
      "text/plain": [
       "{'cbDataPath': '..\\\\data\\\\cbDataTFIDF.txt',\n",
       " 'userProfileSize': -1,\n",
       " 'userProfileStrategy': 'mean'}"
      ]
     },
     "execution_count": 24,
     "metadata": {},
     "output_type": "execute_result"
    }
   ],
   "source": [
    "params_list[0]"
   ]
  },
  {
   "cell_type": "code",
   "execution_count": 25,
   "metadata": {},
   "outputs": [],
   "source": [
    "from recommender.recommenderCosineCB import RecommenderCosineCB #class\n",
    "from sklearn.metrics import ndcg_score"
   ]
  },
  {
   "cell_type": "code",
   "execution_count": 26,
   "metadata": {},
   "outputs": [
    {
     "name": "stdout",
     "output_type": "stream",
     "text": [
      "{'cbDataPath': '..\\\\data\\\\cbDataTFIDF.txt', 'userProfileSize': -1, 'userProfileStrategy': 'mean'}\n",
      "0.0037881230988316174\n",
      "{'cbDataPath': '..\\\\data\\\\cbDataTFIDF.txt', 'userProfileSize': -1, 'userProfileStrategy': 'max'}\n",
      "0.0032272845002426992\n",
      "{'cbDataPath': '..\\\\data\\\\cbDataTFIDF.txt', 'userProfileSize': -1, 'userProfileStrategy': 'weightedMean'}\n",
      "0.003430735750185979\n",
      "{'cbDataPath': '..\\\\data\\\\cbDataTFIDF.txt', 'userProfileSize': 1, 'userProfileStrategy': 'mean'}\n",
      "0.004378676059123838\n",
      "{'cbDataPath': '..\\\\data\\\\cbDataTFIDF.txt', 'userProfileSize': 1, 'userProfileStrategy': 'max'}\n",
      "0.004378676059123838\n",
      "{'cbDataPath': '..\\\\data\\\\cbDataTFIDF.txt', 'userProfileSize': 1, 'userProfileStrategy': 'weightedMean'}\n",
      "0.004378676059123838\n",
      "{'cbDataPath': '..\\\\data\\\\cbDataTFIDF.txt', 'userProfileSize': 3, 'userProfileStrategy': 'mean'}\n",
      "0.0037276188610496116\n",
      "{'cbDataPath': '..\\\\data\\\\cbDataTFIDF.txt', 'userProfileSize': 3, 'userProfileStrategy': 'max'}\n",
      "0.0039279140871596036\n",
      "{'cbDataPath': '..\\\\data\\\\cbDataTFIDF.txt', 'userProfileSize': 3, 'userProfileStrategy': 'weightedMean'}\n",
      "0.0036249200025697814\n",
      "{'cbDataPath': '..\\\\data\\\\cbDataTFIDF.txt', 'userProfileSize': 5, 'userProfileStrategy': 'mean'}\n",
      "0.004807816469462206\n",
      "{'cbDataPath': '..\\\\data\\\\cbDataTFIDF.txt', 'userProfileSize': 5, 'userProfileStrategy': 'max'}\n",
      "0.004698715981467717\n",
      "{'cbDataPath': '..\\\\data\\\\cbDataTFIDF.txt', 'userProfileSize': 5, 'userProfileStrategy': 'weightedMean'}\n",
      "0.003972285589823345\n",
      "{'cbDataPath': '..\\\\data\\\\cbDataTFIDF.txt', 'userProfileSize': 7, 'userProfileStrategy': 'mean'}\n",
      "0.0038575538255464187\n",
      "{'cbDataPath': '..\\\\data\\\\cbDataTFIDF.txt', 'userProfileSize': 7, 'userProfileStrategy': 'max'}\n",
      "0.004188056389350064\n",
      "{'cbDataPath': '..\\\\data\\\\cbDataTFIDF.txt', 'userProfileSize': 7, 'userProfileStrategy': 'weightedMean'}\n",
      "0.003773203516658333\n",
      "{'cbDataPath': '..\\\\data\\\\cbDataTFIDF.txt', 'userProfileSize': 10, 'userProfileStrategy': 'mean'}\n",
      "0.003728124275414804\n",
      "{'cbDataPath': '..\\\\data\\\\cbDataTFIDF.txt', 'userProfileSize': 10, 'userProfileStrategy': 'max'}\n",
      "0.003833536091063154\n",
      "{'cbDataPath': '..\\\\data\\\\cbDataTFIDF.txt', 'userProfileSize': 10, 'userProfileStrategy': 'weightedMean'}\n",
      "0.003288868704051487\n",
      "{'cbDataPath': '..\\\\data\\\\cbDataOHE.txt', 'userProfileSize': -1, 'userProfileStrategy': 'mean'}\n",
      "0.003309807488001887\n",
      "{'cbDataPath': '..\\\\data\\\\cbDataOHE.txt', 'userProfileSize': -1, 'userProfileStrategy': 'max'}\n",
      "0.0037423296174440342\n",
      "{'cbDataPath': '..\\\\data\\\\cbDataOHE.txt', 'userProfileSize': -1, 'userProfileStrategy': 'weightedMean'}\n",
      "0.0029228536839472617\n",
      "{'cbDataPath': '..\\\\data\\\\cbDataOHE.txt', 'userProfileSize': 1, 'userProfileStrategy': 'mean'}\n",
      "0.004747007480543755\n",
      "{'cbDataPath': '..\\\\data\\\\cbDataOHE.txt', 'userProfileSize': 1, 'userProfileStrategy': 'max'}\n",
      "0.004747007480543755\n",
      "{'cbDataPath': '..\\\\data\\\\cbDataOHE.txt', 'userProfileSize': 1, 'userProfileStrategy': 'weightedMean'}\n",
      "0.004747007480543755\n",
      "{'cbDataPath': '..\\\\data\\\\cbDataOHE.txt', 'userProfileSize': 3, 'userProfileStrategy': 'mean'}\n",
      "0.0038756317801386998\n",
      "{'cbDataPath': '..\\\\data\\\\cbDataOHE.txt', 'userProfileSize': 3, 'userProfileStrategy': 'max'}\n",
      "0.005154666776906911\n",
      "{'cbDataPath': '..\\\\data\\\\cbDataOHE.txt', 'userProfileSize': 3, 'userProfileStrategy': 'weightedMean'}\n",
      "0.004512718157219465\n",
      "{'cbDataPath': '..\\\\data\\\\cbDataOHE.txt', 'userProfileSize': 5, 'userProfileStrategy': 'mean'}\n",
      "0.0034143118667006125\n",
      "{'cbDataPath': '..\\\\data\\\\cbDataOHE.txt', 'userProfileSize': 5, 'userProfileStrategy': 'max'}\n",
      "0.004325530437199951\n",
      "{'cbDataPath': '..\\\\data\\\\cbDataOHE.txt', 'userProfileSize': 5, 'userProfileStrategy': 'weightedMean'}\n",
      "0.0034162913681727845\n",
      "{'cbDataPath': '..\\\\data\\\\cbDataOHE.txt', 'userProfileSize': 7, 'userProfileStrategy': 'mean'}\n",
      "0.003123008774447671\n",
      "{'cbDataPath': '..\\\\data\\\\cbDataOHE.txt', 'userProfileSize': 7, 'userProfileStrategy': 'max'}\n",
      "0.003995299308276227\n",
      "{'cbDataPath': '..\\\\data\\\\cbDataOHE.txt', 'userProfileSize': 7, 'userProfileStrategy': 'weightedMean'}\n",
      "0.00330281345523965\n",
      "{'cbDataPath': '..\\\\data\\\\cbDataOHE.txt', 'userProfileSize': 10, 'userProfileStrategy': 'mean'}\n",
      "0.0033448283821783803\n",
      "{'cbDataPath': '..\\\\data\\\\cbDataOHE.txt', 'userProfileSize': 10, 'userProfileStrategy': 'max'}\n",
      "0.004025577005424369\n",
      "{'cbDataPath': '..\\\\data\\\\cbDataOHE.txt', 'userProfileSize': 10, 'userProfileStrategy': 'weightedMean'}\n",
      "0.00301072445037235\n"
     ]
    },
    {
     "data": {
      "text/html": [
       "<div>\n",
       "<style scoped>\n",
       "    .dataframe tbody tr th:only-of-type {\n",
       "        vertical-align: middle;\n",
       "    }\n",
       "\n",
       "    .dataframe tbody tr th {\n",
       "        vertical-align: top;\n",
       "    }\n",
       "\n",
       "    .dataframe thead th {\n",
       "        text-align: right;\n",
       "    }\n",
       "</style>\n",
       "<table border=\"1\" class=\"dataframe\">\n",
       "  <thead>\n",
       "    <tr style=\"text-align: right;\">\n",
       "      <th></th>\n",
       "      <th>params</th>\n",
       "      <th>meanNDCG</th>\n",
       "    </tr>\n",
       "  </thead>\n",
       "  <tbody>\n",
       "    <tr>\n",
       "      <th>0</th>\n",
       "      <td>{'cbDataPath': '..\\data\\cbDataTFIDF.txt', 'use...</td>\n",
       "      <td>0.003788</td>\n",
       "    </tr>\n",
       "    <tr>\n",
       "      <th>1</th>\n",
       "      <td>{'cbDataPath': '..\\data\\cbDataTFIDF.txt', 'use...</td>\n",
       "      <td>0.003227</td>\n",
       "    </tr>\n",
       "    <tr>\n",
       "      <th>2</th>\n",
       "      <td>{'cbDataPath': '..\\data\\cbDataTFIDF.txt', 'use...</td>\n",
       "      <td>0.003431</td>\n",
       "    </tr>\n",
       "    <tr>\n",
       "      <th>3</th>\n",
       "      <td>{'cbDataPath': '..\\data\\cbDataTFIDF.txt', 'use...</td>\n",
       "      <td>0.004379</td>\n",
       "    </tr>\n",
       "    <tr>\n",
       "      <th>4</th>\n",
       "      <td>{'cbDataPath': '..\\data\\cbDataTFIDF.txt', 'use...</td>\n",
       "      <td>0.004379</td>\n",
       "    </tr>\n",
       "    <tr>\n",
       "      <th>5</th>\n",
       "      <td>{'cbDataPath': '..\\data\\cbDataTFIDF.txt', 'use...</td>\n",
       "      <td>0.004379</td>\n",
       "    </tr>\n",
       "    <tr>\n",
       "      <th>6</th>\n",
       "      <td>{'cbDataPath': '..\\data\\cbDataTFIDF.txt', 'use...</td>\n",
       "      <td>0.003728</td>\n",
       "    </tr>\n",
       "    <tr>\n",
       "      <th>7</th>\n",
       "      <td>{'cbDataPath': '..\\data\\cbDataTFIDF.txt', 'use...</td>\n",
       "      <td>0.003928</td>\n",
       "    </tr>\n",
       "    <tr>\n",
       "      <th>8</th>\n",
       "      <td>{'cbDataPath': '..\\data\\cbDataTFIDF.txt', 'use...</td>\n",
       "      <td>0.003625</td>\n",
       "    </tr>\n",
       "    <tr>\n",
       "      <th>9</th>\n",
       "      <td>{'cbDataPath': '..\\data\\cbDataTFIDF.txt', 'use...</td>\n",
       "      <td>0.004808</td>\n",
       "    </tr>\n",
       "    <tr>\n",
       "      <th>10</th>\n",
       "      <td>{'cbDataPath': '..\\data\\cbDataTFIDF.txt', 'use...</td>\n",
       "      <td>0.004699</td>\n",
       "    </tr>\n",
       "    <tr>\n",
       "      <th>11</th>\n",
       "      <td>{'cbDataPath': '..\\data\\cbDataTFIDF.txt', 'use...</td>\n",
       "      <td>0.003972</td>\n",
       "    </tr>\n",
       "    <tr>\n",
       "      <th>12</th>\n",
       "      <td>{'cbDataPath': '..\\data\\cbDataTFIDF.txt', 'use...</td>\n",
       "      <td>0.003858</td>\n",
       "    </tr>\n",
       "    <tr>\n",
       "      <th>13</th>\n",
       "      <td>{'cbDataPath': '..\\data\\cbDataTFIDF.txt', 'use...</td>\n",
       "      <td>0.004188</td>\n",
       "    </tr>\n",
       "    <tr>\n",
       "      <th>14</th>\n",
       "      <td>{'cbDataPath': '..\\data\\cbDataTFIDF.txt', 'use...</td>\n",
       "      <td>0.003773</td>\n",
       "    </tr>\n",
       "    <tr>\n",
       "      <th>15</th>\n",
       "      <td>{'cbDataPath': '..\\data\\cbDataTFIDF.txt', 'use...</td>\n",
       "      <td>0.003728</td>\n",
       "    </tr>\n",
       "    <tr>\n",
       "      <th>16</th>\n",
       "      <td>{'cbDataPath': '..\\data\\cbDataTFIDF.txt', 'use...</td>\n",
       "      <td>0.003834</td>\n",
       "    </tr>\n",
       "    <tr>\n",
       "      <th>17</th>\n",
       "      <td>{'cbDataPath': '..\\data\\cbDataTFIDF.txt', 'use...</td>\n",
       "      <td>0.003289</td>\n",
       "    </tr>\n",
       "    <tr>\n",
       "      <th>18</th>\n",
       "      <td>{'cbDataPath': '..\\data\\cbDataOHE.txt', 'userP...</td>\n",
       "      <td>0.003310</td>\n",
       "    </tr>\n",
       "    <tr>\n",
       "      <th>19</th>\n",
       "      <td>{'cbDataPath': '..\\data\\cbDataOHE.txt', 'userP...</td>\n",
       "      <td>0.003742</td>\n",
       "    </tr>\n",
       "    <tr>\n",
       "      <th>20</th>\n",
       "      <td>{'cbDataPath': '..\\data\\cbDataOHE.txt', 'userP...</td>\n",
       "      <td>0.002923</td>\n",
       "    </tr>\n",
       "    <tr>\n",
       "      <th>21</th>\n",
       "      <td>{'cbDataPath': '..\\data\\cbDataOHE.txt', 'userP...</td>\n",
       "      <td>0.004747</td>\n",
       "    </tr>\n",
       "    <tr>\n",
       "      <th>22</th>\n",
       "      <td>{'cbDataPath': '..\\data\\cbDataOHE.txt', 'userP...</td>\n",
       "      <td>0.004747</td>\n",
       "    </tr>\n",
       "    <tr>\n",
       "      <th>23</th>\n",
       "      <td>{'cbDataPath': '..\\data\\cbDataOHE.txt', 'userP...</td>\n",
       "      <td>0.004747</td>\n",
       "    </tr>\n",
       "    <tr>\n",
       "      <th>24</th>\n",
       "      <td>{'cbDataPath': '..\\data\\cbDataOHE.txt', 'userP...</td>\n",
       "      <td>0.003876</td>\n",
       "    </tr>\n",
       "    <tr>\n",
       "      <th>25</th>\n",
       "      <td>{'cbDataPath': '..\\data\\cbDataOHE.txt', 'userP...</td>\n",
       "      <td>0.005155</td>\n",
       "    </tr>\n",
       "    <tr>\n",
       "      <th>26</th>\n",
       "      <td>{'cbDataPath': '..\\data\\cbDataOHE.txt', 'userP...</td>\n",
       "      <td>0.004513</td>\n",
       "    </tr>\n",
       "    <tr>\n",
       "      <th>27</th>\n",
       "      <td>{'cbDataPath': '..\\data\\cbDataOHE.txt', 'userP...</td>\n",
       "      <td>0.003414</td>\n",
       "    </tr>\n",
       "    <tr>\n",
       "      <th>28</th>\n",
       "      <td>{'cbDataPath': '..\\data\\cbDataOHE.txt', 'userP...</td>\n",
       "      <td>0.004326</td>\n",
       "    </tr>\n",
       "    <tr>\n",
       "      <th>29</th>\n",
       "      <td>{'cbDataPath': '..\\data\\cbDataOHE.txt', 'userP...</td>\n",
       "      <td>0.003416</td>\n",
       "    </tr>\n",
       "    <tr>\n",
       "      <th>30</th>\n",
       "      <td>{'cbDataPath': '..\\data\\cbDataOHE.txt', 'userP...</td>\n",
       "      <td>0.003123</td>\n",
       "    </tr>\n",
       "    <tr>\n",
       "      <th>31</th>\n",
       "      <td>{'cbDataPath': '..\\data\\cbDataOHE.txt', 'userP...</td>\n",
       "      <td>0.003995</td>\n",
       "    </tr>\n",
       "    <tr>\n",
       "      <th>32</th>\n",
       "      <td>{'cbDataPath': '..\\data\\cbDataOHE.txt', 'userP...</td>\n",
       "      <td>0.003303</td>\n",
       "    </tr>\n",
       "    <tr>\n",
       "      <th>33</th>\n",
       "      <td>{'cbDataPath': '..\\data\\cbDataOHE.txt', 'userP...</td>\n",
       "      <td>0.003345</td>\n",
       "    </tr>\n",
       "    <tr>\n",
       "      <th>34</th>\n",
       "      <td>{'cbDataPath': '..\\data\\cbDataOHE.txt', 'userP...</td>\n",
       "      <td>0.004026</td>\n",
       "    </tr>\n",
       "    <tr>\n",
       "      <th>35</th>\n",
       "      <td>{'cbDataPath': '..\\data\\cbDataOHE.txt', 'userP...</td>\n",
       "      <td>0.003011</td>\n",
       "    </tr>\n",
       "  </tbody>\n",
       "</table>\n",
       "</div>"
      ],
      "text/plain": [
       "                                               params  meanNDCG\n",
       "0   {'cbDataPath': '..\\data\\cbDataTFIDF.txt', 'use...  0.003788\n",
       "1   {'cbDataPath': '..\\data\\cbDataTFIDF.txt', 'use...  0.003227\n",
       "2   {'cbDataPath': '..\\data\\cbDataTFIDF.txt', 'use...  0.003431\n",
       "3   {'cbDataPath': '..\\data\\cbDataTFIDF.txt', 'use...  0.004379\n",
       "4   {'cbDataPath': '..\\data\\cbDataTFIDF.txt', 'use...  0.004379\n",
       "5   {'cbDataPath': '..\\data\\cbDataTFIDF.txt', 'use...  0.004379\n",
       "6   {'cbDataPath': '..\\data\\cbDataTFIDF.txt', 'use...  0.003728\n",
       "7   {'cbDataPath': '..\\data\\cbDataTFIDF.txt', 'use...  0.003928\n",
       "8   {'cbDataPath': '..\\data\\cbDataTFIDF.txt', 'use...  0.003625\n",
       "9   {'cbDataPath': '..\\data\\cbDataTFIDF.txt', 'use...  0.004808\n",
       "10  {'cbDataPath': '..\\data\\cbDataTFIDF.txt', 'use...  0.004699\n",
       "11  {'cbDataPath': '..\\data\\cbDataTFIDF.txt', 'use...  0.003972\n",
       "12  {'cbDataPath': '..\\data\\cbDataTFIDF.txt', 'use...  0.003858\n",
       "13  {'cbDataPath': '..\\data\\cbDataTFIDF.txt', 'use...  0.004188\n",
       "14  {'cbDataPath': '..\\data\\cbDataTFIDF.txt', 'use...  0.003773\n",
       "15  {'cbDataPath': '..\\data\\cbDataTFIDF.txt', 'use...  0.003728\n",
       "16  {'cbDataPath': '..\\data\\cbDataTFIDF.txt', 'use...  0.003834\n",
       "17  {'cbDataPath': '..\\data\\cbDataTFIDF.txt', 'use...  0.003289\n",
       "18  {'cbDataPath': '..\\data\\cbDataOHE.txt', 'userP...  0.003310\n",
       "19  {'cbDataPath': '..\\data\\cbDataOHE.txt', 'userP...  0.003742\n",
       "20  {'cbDataPath': '..\\data\\cbDataOHE.txt', 'userP...  0.002923\n",
       "21  {'cbDataPath': '..\\data\\cbDataOHE.txt', 'userP...  0.004747\n",
       "22  {'cbDataPath': '..\\data\\cbDataOHE.txt', 'userP...  0.004747\n",
       "23  {'cbDataPath': '..\\data\\cbDataOHE.txt', 'userP...  0.004747\n",
       "24  {'cbDataPath': '..\\data\\cbDataOHE.txt', 'userP...  0.003876\n",
       "25  {'cbDataPath': '..\\data\\cbDataOHE.txt', 'userP...  0.005155\n",
       "26  {'cbDataPath': '..\\data\\cbDataOHE.txt', 'userP...  0.004513\n",
       "27  {'cbDataPath': '..\\data\\cbDataOHE.txt', 'userP...  0.003414\n",
       "28  {'cbDataPath': '..\\data\\cbDataOHE.txt', 'userP...  0.004326\n",
       "29  {'cbDataPath': '..\\data\\cbDataOHE.txt', 'userP...  0.003416\n",
       "30  {'cbDataPath': '..\\data\\cbDataOHE.txt', 'userP...  0.003123\n",
       "31  {'cbDataPath': '..\\data\\cbDataOHE.txt', 'userP...  0.003995\n",
       "32  {'cbDataPath': '..\\data\\cbDataOHE.txt', 'userP...  0.003303\n",
       "33  {'cbDataPath': '..\\data\\cbDataOHE.txt', 'userP...  0.003345\n",
       "34  {'cbDataPath': '..\\data\\cbDataOHE.txt', 'userP...  0.004026\n",
       "35  {'cbDataPath': '..\\data\\cbDataOHE.txt', 'userP...  0.003011"
      ]
     },
     "execution_count": 26,
     "metadata": {},
     "output_type": "execute_result"
    }
   ],
   "source": [
    "i = 0\n",
    "\n",
    "scoresMean = []\n",
    "scoresInd = []\n",
    "\n",
    "for params in params_list:\n",
    "    i += 1\n",
    "    rec:ARecommender = RecommenderCosineCB(\"test\", params)\n",
    "    rec.train(HistoryDF(\"hyperparams_tuning_CosineCB\"+str(i)), trainDataset)\n",
    "    scoresVector = []\n",
    "    \n",
    "    for user in users:\n",
    "        recList = rec.recommend(user, 20, params)\n",
    "        #print(recList.index)\n",
    "        #print(type(recList.index))\n",
    "        #rl = np.array([i[0] for i in recList])\n",
    "        #print(rl)\n",
    "        relScore = np.zeros((1,maxOID+1))\n",
    "        relScore[0,recList.index] = recList.values\n",
    "        #print(relScore.sum())\n",
    "        #print(np.isin(recList.index, trueList[user].values))\n",
    "        res = ndcg_score(trueRelevance[user], relScore, k=20)\n",
    "        scoresVector.append(res)\n",
    "        \n",
    "    meanScore = np.mean(scoresVector)\n",
    "    scoresMean.append(meanScore)\n",
    "    scoresInd.append(scoresVector)\n",
    "    print(meanScore)\n",
    "\n",
    "par = [params_list[0]]\n",
    "\n",
    "resultsDF = pd.DataFrame({\"params\":params_list, \"meanNDCG\":scoresMean})\n",
    "resultsDF"
   ]
  },
  {
   "cell_type": "code",
   "execution_count": 27,
   "metadata": {},
   "outputs": [
    {
     "data": {
      "text/html": [
       "<div>\n",
       "<style scoped>\n",
       "    .dataframe tbody tr th:only-of-type {\n",
       "        vertical-align: middle;\n",
       "    }\n",
       "\n",
       "    .dataframe tbody tr th {\n",
       "        vertical-align: top;\n",
       "    }\n",
       "\n",
       "    .dataframe thead th {\n",
       "        text-align: right;\n",
       "    }\n",
       "</style>\n",
       "<table border=\"1\" class=\"dataframe\">\n",
       "  <thead>\n",
       "    <tr style=\"text-align: right;\">\n",
       "      <th></th>\n",
       "      <th>params</th>\n",
       "      <th>meanNDCG</th>\n",
       "    </tr>\n",
       "  </thead>\n",
       "  <tbody>\n",
       "    <tr>\n",
       "      <th>20</th>\n",
       "      <td>{'cbDataPath': '..\\data\\cbDataOHE.txt', 'userP...</td>\n",
       "      <td>0.002923</td>\n",
       "    </tr>\n",
       "    <tr>\n",
       "      <th>35</th>\n",
       "      <td>{'cbDataPath': '..\\data\\cbDataOHE.txt', 'userP...</td>\n",
       "      <td>0.003011</td>\n",
       "    </tr>\n",
       "    <tr>\n",
       "      <th>30</th>\n",
       "      <td>{'cbDataPath': '..\\data\\cbDataOHE.txt', 'userP...</td>\n",
       "      <td>0.003123</td>\n",
       "    </tr>\n",
       "    <tr>\n",
       "      <th>1</th>\n",
       "      <td>{'cbDataPath': '..\\data\\cbDataTFIDF.txt', 'use...</td>\n",
       "      <td>0.003227</td>\n",
       "    </tr>\n",
       "    <tr>\n",
       "      <th>17</th>\n",
       "      <td>{'cbDataPath': '..\\data\\cbDataTFIDF.txt', 'use...</td>\n",
       "      <td>0.003289</td>\n",
       "    </tr>\n",
       "    <tr>\n",
       "      <th>32</th>\n",
       "      <td>{'cbDataPath': '..\\data\\cbDataOHE.txt', 'userP...</td>\n",
       "      <td>0.003303</td>\n",
       "    </tr>\n",
       "    <tr>\n",
       "      <th>18</th>\n",
       "      <td>{'cbDataPath': '..\\data\\cbDataOHE.txt', 'userP...</td>\n",
       "      <td>0.003310</td>\n",
       "    </tr>\n",
       "    <tr>\n",
       "      <th>33</th>\n",
       "      <td>{'cbDataPath': '..\\data\\cbDataOHE.txt', 'userP...</td>\n",
       "      <td>0.003345</td>\n",
       "    </tr>\n",
       "    <tr>\n",
       "      <th>27</th>\n",
       "      <td>{'cbDataPath': '..\\data\\cbDataOHE.txt', 'userP...</td>\n",
       "      <td>0.003414</td>\n",
       "    </tr>\n",
       "    <tr>\n",
       "      <th>29</th>\n",
       "      <td>{'cbDataPath': '..\\data\\cbDataOHE.txt', 'userP...</td>\n",
       "      <td>0.003416</td>\n",
       "    </tr>\n",
       "    <tr>\n",
       "      <th>2</th>\n",
       "      <td>{'cbDataPath': '..\\data\\cbDataTFIDF.txt', 'use...</td>\n",
       "      <td>0.003431</td>\n",
       "    </tr>\n",
       "    <tr>\n",
       "      <th>8</th>\n",
       "      <td>{'cbDataPath': '..\\data\\cbDataTFIDF.txt', 'use...</td>\n",
       "      <td>0.003625</td>\n",
       "    </tr>\n",
       "    <tr>\n",
       "      <th>6</th>\n",
       "      <td>{'cbDataPath': '..\\data\\cbDataTFIDF.txt', 'use...</td>\n",
       "      <td>0.003728</td>\n",
       "    </tr>\n",
       "    <tr>\n",
       "      <th>15</th>\n",
       "      <td>{'cbDataPath': '..\\data\\cbDataTFIDF.txt', 'use...</td>\n",
       "      <td>0.003728</td>\n",
       "    </tr>\n",
       "    <tr>\n",
       "      <th>19</th>\n",
       "      <td>{'cbDataPath': '..\\data\\cbDataOHE.txt', 'userP...</td>\n",
       "      <td>0.003742</td>\n",
       "    </tr>\n",
       "    <tr>\n",
       "      <th>14</th>\n",
       "      <td>{'cbDataPath': '..\\data\\cbDataTFIDF.txt', 'use...</td>\n",
       "      <td>0.003773</td>\n",
       "    </tr>\n",
       "    <tr>\n",
       "      <th>0</th>\n",
       "      <td>{'cbDataPath': '..\\data\\cbDataTFIDF.txt', 'use...</td>\n",
       "      <td>0.003788</td>\n",
       "    </tr>\n",
       "    <tr>\n",
       "      <th>16</th>\n",
       "      <td>{'cbDataPath': '..\\data\\cbDataTFIDF.txt', 'use...</td>\n",
       "      <td>0.003834</td>\n",
       "    </tr>\n",
       "    <tr>\n",
       "      <th>12</th>\n",
       "      <td>{'cbDataPath': '..\\data\\cbDataTFIDF.txt', 'use...</td>\n",
       "      <td>0.003858</td>\n",
       "    </tr>\n",
       "    <tr>\n",
       "      <th>24</th>\n",
       "      <td>{'cbDataPath': '..\\data\\cbDataOHE.txt', 'userP...</td>\n",
       "      <td>0.003876</td>\n",
       "    </tr>\n",
       "    <tr>\n",
       "      <th>7</th>\n",
       "      <td>{'cbDataPath': '..\\data\\cbDataTFIDF.txt', 'use...</td>\n",
       "      <td>0.003928</td>\n",
       "    </tr>\n",
       "    <tr>\n",
       "      <th>11</th>\n",
       "      <td>{'cbDataPath': '..\\data\\cbDataTFIDF.txt', 'use...</td>\n",
       "      <td>0.003972</td>\n",
       "    </tr>\n",
       "    <tr>\n",
       "      <th>31</th>\n",
       "      <td>{'cbDataPath': '..\\data\\cbDataOHE.txt', 'userP...</td>\n",
       "      <td>0.003995</td>\n",
       "    </tr>\n",
       "    <tr>\n",
       "      <th>34</th>\n",
       "      <td>{'cbDataPath': '..\\data\\cbDataOHE.txt', 'userP...</td>\n",
       "      <td>0.004026</td>\n",
       "    </tr>\n",
       "    <tr>\n",
       "      <th>13</th>\n",
       "      <td>{'cbDataPath': '..\\data\\cbDataTFIDF.txt', 'use...</td>\n",
       "      <td>0.004188</td>\n",
       "    </tr>\n",
       "    <tr>\n",
       "      <th>28</th>\n",
       "      <td>{'cbDataPath': '..\\data\\cbDataOHE.txt', 'userP...</td>\n",
       "      <td>0.004326</td>\n",
       "    </tr>\n",
       "    <tr>\n",
       "      <th>5</th>\n",
       "      <td>{'cbDataPath': '..\\data\\cbDataTFIDF.txt', 'use...</td>\n",
       "      <td>0.004379</td>\n",
       "    </tr>\n",
       "    <tr>\n",
       "      <th>4</th>\n",
       "      <td>{'cbDataPath': '..\\data\\cbDataTFIDF.txt', 'use...</td>\n",
       "      <td>0.004379</td>\n",
       "    </tr>\n",
       "    <tr>\n",
       "      <th>3</th>\n",
       "      <td>{'cbDataPath': '..\\data\\cbDataTFIDF.txt', 'use...</td>\n",
       "      <td>0.004379</td>\n",
       "    </tr>\n",
       "    <tr>\n",
       "      <th>26</th>\n",
       "      <td>{'cbDataPath': '..\\data\\cbDataOHE.txt', 'userP...</td>\n",
       "      <td>0.004513</td>\n",
       "    </tr>\n",
       "    <tr>\n",
       "      <th>10</th>\n",
       "      <td>{'cbDataPath': '..\\data\\cbDataTFIDF.txt', 'use...</td>\n",
       "      <td>0.004699</td>\n",
       "    </tr>\n",
       "    <tr>\n",
       "      <th>23</th>\n",
       "      <td>{'cbDataPath': '..\\data\\cbDataOHE.txt', 'userP...</td>\n",
       "      <td>0.004747</td>\n",
       "    </tr>\n",
       "    <tr>\n",
       "      <th>22</th>\n",
       "      <td>{'cbDataPath': '..\\data\\cbDataOHE.txt', 'userP...</td>\n",
       "      <td>0.004747</td>\n",
       "    </tr>\n",
       "    <tr>\n",
       "      <th>21</th>\n",
       "      <td>{'cbDataPath': '..\\data\\cbDataOHE.txt', 'userP...</td>\n",
       "      <td>0.004747</td>\n",
       "    </tr>\n",
       "    <tr>\n",
       "      <th>9</th>\n",
       "      <td>{'cbDataPath': '..\\data\\cbDataTFIDF.txt', 'use...</td>\n",
       "      <td>0.004808</td>\n",
       "    </tr>\n",
       "    <tr>\n",
       "      <th>25</th>\n",
       "      <td>{'cbDataPath': '..\\data\\cbDataOHE.txt', 'userP...</td>\n",
       "      <td>0.005155</td>\n",
       "    </tr>\n",
       "  </tbody>\n",
       "</table>\n",
       "</div>"
      ],
      "text/plain": [
       "                                               params  meanNDCG\n",
       "20  {'cbDataPath': '..\\data\\cbDataOHE.txt', 'userP...  0.002923\n",
       "35  {'cbDataPath': '..\\data\\cbDataOHE.txt', 'userP...  0.003011\n",
       "30  {'cbDataPath': '..\\data\\cbDataOHE.txt', 'userP...  0.003123\n",
       "1   {'cbDataPath': '..\\data\\cbDataTFIDF.txt', 'use...  0.003227\n",
       "17  {'cbDataPath': '..\\data\\cbDataTFIDF.txt', 'use...  0.003289\n",
       "32  {'cbDataPath': '..\\data\\cbDataOHE.txt', 'userP...  0.003303\n",
       "18  {'cbDataPath': '..\\data\\cbDataOHE.txt', 'userP...  0.003310\n",
       "33  {'cbDataPath': '..\\data\\cbDataOHE.txt', 'userP...  0.003345\n",
       "27  {'cbDataPath': '..\\data\\cbDataOHE.txt', 'userP...  0.003414\n",
       "29  {'cbDataPath': '..\\data\\cbDataOHE.txt', 'userP...  0.003416\n",
       "2   {'cbDataPath': '..\\data\\cbDataTFIDF.txt', 'use...  0.003431\n",
       "8   {'cbDataPath': '..\\data\\cbDataTFIDF.txt', 'use...  0.003625\n",
       "6   {'cbDataPath': '..\\data\\cbDataTFIDF.txt', 'use...  0.003728\n",
       "15  {'cbDataPath': '..\\data\\cbDataTFIDF.txt', 'use...  0.003728\n",
       "19  {'cbDataPath': '..\\data\\cbDataOHE.txt', 'userP...  0.003742\n",
       "14  {'cbDataPath': '..\\data\\cbDataTFIDF.txt', 'use...  0.003773\n",
       "0   {'cbDataPath': '..\\data\\cbDataTFIDF.txt', 'use...  0.003788\n",
       "16  {'cbDataPath': '..\\data\\cbDataTFIDF.txt', 'use...  0.003834\n",
       "12  {'cbDataPath': '..\\data\\cbDataTFIDF.txt', 'use...  0.003858\n",
       "24  {'cbDataPath': '..\\data\\cbDataOHE.txt', 'userP...  0.003876\n",
       "7   {'cbDataPath': '..\\data\\cbDataTFIDF.txt', 'use...  0.003928\n",
       "11  {'cbDataPath': '..\\data\\cbDataTFIDF.txt', 'use...  0.003972\n",
       "31  {'cbDataPath': '..\\data\\cbDataOHE.txt', 'userP...  0.003995\n",
       "34  {'cbDataPath': '..\\data\\cbDataOHE.txt', 'userP...  0.004026\n",
       "13  {'cbDataPath': '..\\data\\cbDataTFIDF.txt', 'use...  0.004188\n",
       "28  {'cbDataPath': '..\\data\\cbDataOHE.txt', 'userP...  0.004326\n",
       "5   {'cbDataPath': '..\\data\\cbDataTFIDF.txt', 'use...  0.004379\n",
       "4   {'cbDataPath': '..\\data\\cbDataTFIDF.txt', 'use...  0.004379\n",
       "3   {'cbDataPath': '..\\data\\cbDataTFIDF.txt', 'use...  0.004379\n",
       "26  {'cbDataPath': '..\\data\\cbDataOHE.txt', 'userP...  0.004513\n",
       "10  {'cbDataPath': '..\\data\\cbDataTFIDF.txt', 'use...  0.004699\n",
       "23  {'cbDataPath': '..\\data\\cbDataOHE.txt', 'userP...  0.004747\n",
       "22  {'cbDataPath': '..\\data\\cbDataOHE.txt', 'userP...  0.004747\n",
       "21  {'cbDataPath': '..\\data\\cbDataOHE.txt', 'userP...  0.004747\n",
       "9   {'cbDataPath': '..\\data\\cbDataTFIDF.txt', 'use...  0.004808\n",
       "25  {'cbDataPath': '..\\data\\cbDataOHE.txt', 'userP...  0.005155"
      ]
     },
     "execution_count": 27,
     "metadata": {},
     "output_type": "execute_result"
    }
   ],
   "source": [
    "resultsDF.sort_values(by=\"meanNDCG\")"
   ]
  },
  {
   "cell_type": "code",
   "execution_count": 30,
   "metadata": {},
   "outputs": [
    {
     "data": {
      "text/plain": [
       "{'cbDataPath': '..\\\\data\\\\cbDataOHE.txt',\n",
       " 'userProfileSize': 3,\n",
       " 'userProfileStrategy': 'max'}"
      ]
     },
     "execution_count": 30,
     "metadata": {},
     "output_type": "execute_result"
    }
   ],
   "source": [
    "resultsDF.iloc[25,0] #best... however all are not so good compared to the MF"
   ]
  },
  {
   "cell_type": "code",
   "execution_count": 31,
   "metadata": {},
   "outputs": [
    {
     "data": {
      "text/plain": [
       "{'cbDataPath': '..\\\\data\\\\cbDataTFIDF.txt',\n",
       " 'userProfileSize': 5,\n",
       " 'userProfileStrategy': 'mean'}"
      ]
     },
     "execution_count": 31,
     "metadata": {},
     "output_type": "execute_result"
    }
   ],
   "source": [
    "resultsDF.iloc[9,0] #secondBest"
   ]
  },
  {
   "cell_type": "code",
   "execution_count": 32,
   "metadata": {},
   "outputs": [
    {
     "data": {
      "text/plain": [
       "{'cbDataPath': '..\\\\data\\\\cbDataOHE.txt',\n",
       " 'userProfileSize': 1,\n",
       " 'userProfileStrategy': 'mean'}"
      ]
     },
     "execution_count": 32,
     "metadata": {},
     "output_type": "execute_result"
    }
   ],
   "source": [
    "resultsDF.iloc[21,0] #thirdBest"
   ]
  },
  {
   "cell_type": "markdown",
   "metadata": {},
   "source": [
    "## Test MostPopular - just to have an idea of how the baselines looks like"
   ]
  },
  {
   "cell_type": "code",
   "execution_count": 28,
   "metadata": {},
   "outputs": [],
   "source": [
    "from recommender.recommenderTheMostPopular import RecommenderTheMostPopular #class\n",
    "from sklearn.metrics import ndcg_score"
   ]
  },
  {
   "cell_type": "code",
   "execution_count": 29,
   "metadata": {},
   "outputs": [
    {
     "data": {
      "text/plain": [
       "0.10645535705452938"
      ]
     },
     "execution_count": 29,
     "metadata": {},
     "output_type": "execute_result"
    }
   ],
   "source": [
    "rec:ARecommender = RecommenderTheMostPopular(\"test\", {})\n",
    "rec.train(HistoryDF(\"hyperparams_tuning_MP\"+str(i)), trainDataset)\n",
    "scoresVector = []\n",
    "    \n",
    "for user in users:\n",
    "        recList = rec.recommend(user, 20, params)\n",
    "        #print(recList.index)\n",
    "        #print(type(recList.index))\n",
    "        #rl = np.array([i[0] for i in recList])\n",
    "        #print(rl)\n",
    "        relScore = np.zeros((1,maxOID+1))\n",
    "        relScore[0,recList.index] = recList.values\n",
    "        #print(relScore.sum())\n",
    "        #print(np.isin(recList.index, trueList[user].values))\n",
    "        res = ndcg_score(trueRelevance[user], relScore, k=20)\n",
    "        scoresVector.append(res)\n",
    "        \n",
    "meanScore = np.mean(scoresVector)\n",
    "meanScore"
   ]
  },
  {
   "cell_type": "markdown",
   "metadata": {},
   "source": [
    "## Run tuning for Word2Vec"
   ]
  },
  {
   "cell_type": "code",
   "execution_count": 15,
   "metadata": {},
   "outputs": [],
   "source": [
    "param_grid_userProfile = {\n",
    "              'datasetId':[\"ml1m\" + \"Div\" + str(80)],\n",
    "              'trainVariant': [\"positive\"], \n",
    "              'iterations': [50000, 100000, 200000],\n",
    "              'windowSize': [5, 3, 1],\n",
    "              'vectorSize': [32, 64, 128],    \n",
    "              'userProfileStrategy': [\"mean\", \"max\",  \"weightedMean\"], \n",
    "              'userProfileSize': [-1, 1, 3, 5, 7, 10]\n",
    "             }\n",
    "params_list_userProfile = list(ParameterGrid(param_grid_userProfile))\n",
    "\n",
    "param_grid = {    \n",
    "              'datasetId':[\"ml1m\" + \"Div\" + str(80)],\n",
    "              'trainVariant': [\"positive\"], \n",
    "              'iterations': [200000],\n",
    "              'windowSize': [5, 3, 1],\n",
    "              'vectorSize': [32, 64, 128]\n",
    "             }\n",
    "params_list = list(ParameterGrid(param_grid))"
   ]
  },
  {
   "cell_type": "code",
   "execution_count": 16,
   "metadata": {},
   "outputs": [],
   "source": [
    "from recommender.recommenderW2V import RecommenderW2V #class\n",
    "from sklearn.metrics import ndcg_score"
   ]
  },
  {
   "cell_type": "code",
   "execution_count": 18,
   "metadata": {
    "scrolled": true
   },
   "outputs": [
    {
     "name": "stdout",
     "output_type": "stream",
     "text": [
      "..\\models\\model_ml1mDiv80_positive_32_5_200000.pkl\n",
      "..\\models\\dictionary_ml1mDiv80_positive_32_5_200000.pkl\n",
      "..\\models\\rev_dict_ml1mDiv80_positive_32_5_200000.pkl\n",
      "Creating Dictionary\n",
      "Actual vocabulary size:3470\n",
      "Loss at step 10000 : 2.912088632583618\n",
      "Loss at step 20000 : 3.0665416717529297\n",
      "Loss at step 30000 : 3.958158254623413\n",
      "Loss at step 40000 : 1.8041181564331055\n",
      "Loss at step 50000 : 1.8469690084457397\n",
      "Nearest to 2858: 1961, 1503, 1663, 283, 3101,\n",
      "Nearest to 608: 110, 1617, 3394, 1090, 691,\n",
      "Nearest to 1206: 3471, 2600, 750, 541, 2331,\n",
      "Nearest to 1135: 1440, 280, 1412, 1926, 2418,\n",
      "Loss at step 60000 : 3.2472915649414062\n",
      "Loss at step 70000 : 3.284290313720703\n",
      "Loss at step 80000 : 2.7698185443878174\n",
      "Loss at step 90000 : 1.574096441268921\n",
      "Loss at step 100000 : 1.862308144569397\n",
      "Nearest to 2858: 3450, 1259, 2668, 1569, 187,\n",
      "Nearest to 608: 1090, 3060, 3394, 1388, 1899,\n",
      "Nearest to 1206: 1214, 2600, 3703, 2, 25,\n",
      "Nearest to 1135: 1440, 1412, 2122, 1429, 1027,\n",
      "Loss at step 110000 : 2.8488903045654297\n",
      "Loss at step 120000 : 3.0993876457214355\n",
      "Loss at step 130000 : 1.6768419742584229\n",
      "Loss at step 140000 : 2.192135810852051\n",
      "Loss at step 150000 : 2.772352695465088\n",
      "Nearest to 2858: 187, 3120, 1752, 1097, 27,\n",
      "Nearest to 608: 1899, 1090, 1060, 3060, 2585,\n",
      "Nearest to 1206: 541, 669, 25, 2600, 3461,\n",
      "Nearest to 1135: 1440, 2087, 2330, 3931, 1429,\n",
      "Loss at step 160000 : 2.552182674407959\n",
      "Loss at step 170000 : 2.296928644180298\n",
      "Loss at step 180000 : 3.185093402862549\n",
      "Loss at step 190000 : 2.2938947677612305\n",
      "Loss at step 200000 : 2.9453892707824707\n",
      "Nearest to 2858: 869, 2706, 1382, 1010, 2683,\n",
      "Nearest to 608: 1482, 3394, 2179, 678, 2203,\n",
      "Nearest to 1206: 2600, 2554, 680, 1196, 882,\n",
      "Nearest to 1135: 1440, 2140, 1541, 2330, 575,\n",
      "..\\models\\model_ml1mDiv80_positive_32_3_200000.pkl\n",
      "..\\models\\dictionary_ml1mDiv80_positive_32_3_200000.pkl\n",
      "..\\models\\rev_dict_ml1mDiv80_positive_32_3_200000.pkl\n",
      "Creating Dictionary\n",
      "Actual vocabulary size:3470\n",
      "Loss at step 10000 : 3.1147444248199463\n",
      "Loss at step 20000 : 2.613487720489502\n",
      "Loss at step 30000 : 3.4736151695251465\n",
      "Loss at step 40000 : 2.329455614089966\n",
      "Loss at step 50000 : 2.606724262237549\n",
      "Nearest to 2858: 88, 2227, 2268, 3051, 935,\n",
      "Nearest to 608: 908, 2948, 2382, 1617, 593,\n",
      "Nearest to 1206: 787, 750, 1690, 2571, 1240,\n",
      "Nearest to 1135: 2261, 2701, 515, 3933, 3786,\n",
      "Loss at step 60000 : 2.6259920597076416\n",
      "Loss at step 70000 : 2.645991325378418\n",
      "Loss at step 80000 : 2.537360668182373\n",
      "Loss at step 90000 : 2.7214622497558594\n",
      "Loss at step 100000 : 3.1683781147003174\n",
      "Nearest to 2858: 935, 27, 3176, 3186, 1365,\n",
      "Nearest to 608: 3477, 537, 125, 1899, 926,\n",
      "Nearest to 1206: 787, 1474, 3235, 1348, 541,\n",
      "Nearest to 1135: 3863, 3913, 2701, 458, 2062,\n",
      "Loss at step 110000 : 1.952897071838379\n",
      "Loss at step 120000 : 1.9238883256912231\n",
      "Loss at step 130000 : 3.052722215652466\n",
      "Loss at step 140000 : 3.035665512084961\n",
      "Loss at step 150000 : 1.9535146951675415\n",
      "Nearest to 2858: 1183, 1721, 673, 3078, 2750,\n",
      "Nearest to 608: 296, 1468, 3121, 858, 3394,\n",
      "Nearest to 1206: 3703, 1676, 1474, 541, 2135,\n",
      "Nearest to 1135: 2087, 3913, 3863, 1667, 3952,\n",
      "Loss at step 160000 : 2.449732780456543\n",
      "Loss at step 170000 : 2.291025400161743\n",
      "Loss at step 180000 : 2.035994529724121\n",
      "Loss at step 190000 : 2.90647554397583\n",
      "Loss at step 200000 : 2.3770875930786133\n",
      "Nearest to 2858: 3372, 3175, 1425, 2437, 583,\n",
      "Nearest to 608: 593, 1213, 318, 1090, 2721,\n",
      "Nearest to 1206: 283, 1199, 1240, 3703, 1474,\n",
      "Nearest to 1135: 1440, 2087, 1667, 2872, 934,\n",
      "..\\models\\model_ml1mDiv80_positive_32_1_200000.pkl\n",
      "..\\models\\dictionary_ml1mDiv80_positive_32_1_200000.pkl\n",
      "..\\models\\rev_dict_ml1mDiv80_positive_32_1_200000.pkl\n",
      "Creating Dictionary\n",
      "Actual vocabulary size:3470\n",
      "Loss at step 10000 : 3.4936046600341797\n",
      "Loss at step 20000 : 2.84505295753479\n",
      "Loss at step 30000 : 3.5526156425476074\n",
      "Loss at step 40000 : 3.3497467041015625\n",
      "Loss at step 50000 : 2.291588544845581\n",
      "Nearest to 2858: 2153, 3851, 560, 1293, 1234,\n",
      "Nearest to 608: 1213, 523, 293, 50, 1089,\n",
      "Nearest to 1206: 1199, 3471, 2363, 1240, 2571,\n",
      "Nearest to 1135: 2138, 3032, 1755, 1770, 2512,\n",
      "Loss at step 60000 : 2.277498722076416\n",
      "Loss at step 70000 : 2.6727113723754883\n",
      "Loss at step 80000 : 2.037900447845459\n",
      "Loss at step 90000 : 2.5752804279327393\n",
      "Loss at step 100000 : 2.7409770488739014\n",
      "Nearest to 2858: 3851, 3298, 1234, 2725, 985,\n",
      "Nearest to 608: 1213, 296, 523, 1699, 1704,\n",
      "Nearest to 1206: 1270, 3471, 2660, 1240, 1731,\n",
      "Nearest to 1135: 3032, 1755, 2640, 661, 229,\n",
      "Loss at step 110000 : 2.3123619556427\n",
      "Loss at step 120000 : 2.515033721923828\n",
      "Loss at step 130000 : 3.252983331680298\n",
      "Loss at step 140000 : 1.0227909088134766\n",
      "Loss at step 150000 : 1.3027056455612183\n",
      "Nearest to 2858: 1602, 1354, 3624, 3049, 2153,\n",
      "Nearest to 608: 296, 1358, 36, 1213, 527,\n",
      "Nearest to 1206: 541, 3471, 1240, 1253, 1199,\n",
      "Nearest to 1135: 661, 3931, 3256, 1125, 3071,\n",
      "Loss at step 160000 : 3.092414379119873\n",
      "Loss at step 170000 : 2.719371795654297\n",
      "Loss at step 180000 : 1.1802986860275269\n",
      "Loss at step 190000 : 3.0633506774902344\n",
      "Loss at step 200000 : 1.673585295677185\n",
      "Nearest to 2858: 1234, 1602, 985, 2966, 535,\n",
      "Nearest to 608: 1213, 1089, 1752, 50, 1812,\n",
      "Nearest to 1206: 2571, 1253, 1200, 1798, 1605,\n",
      "Nearest to 1135: 2640, 3931, 3071, 1755, 1125,\n",
      "..\\models\\model_ml1mDiv80_positive_64_5_200000.pkl\n",
      "..\\models\\dictionary_ml1mDiv80_positive_64_5_200000.pkl\n",
      "..\\models\\rev_dict_ml1mDiv80_positive_64_5_200000.pkl\n",
      "Creating Dictionary\n",
      "Actual vocabulary size:3470\n",
      "Loss at step 10000 : 1.7882109880447388\n",
      "Loss at step 20000 : 2.624213933944702\n",
      "Loss at step 30000 : 1.472670316696167\n",
      "Loss at step 40000 : 2.0640881061553955\n",
      "Loss at step 50000 : 2.460818290710449\n",
      "Nearest to 2858: 1210, 110, 1265, 2706, 1961,\n",
      "Nearest to 608: 2029, 380, 2858, 3148, 1249,\n",
      "Nearest to 1206: 3002, 3897, 2409, 3649, 2455,\n",
      "Nearest to 1135: 198, 596, 2303, 277, 178,\n",
      "Loss at step 60000 : 3.552053451538086\n",
      "Loss at step 70000 : 2.670412063598633\n",
      "Loss at step 80000 : 2.432359218597412\n",
      "Loss at step 90000 : 1.8911465406417847\n",
      "Loss at step 100000 : 1.7894291877746582\n",
      "Nearest to 2858: 2707, 2630, 418, 2571, 277,\n",
      "Nearest to 608: 110, 186, 680, 159, 908,\n",
      "Nearest to 1206: 2352, 3471, 2600, 2658, 1196,\n",
      "Nearest to 1135: 296, 917, 3196, 2940, 1260,\n",
      "Loss at step 110000 : 2.4668221473693848\n",
      "Loss at step 120000 : 3.3964617252349854\n",
      "Loss at step 130000 : 2.1123287677764893\n",
      "Loss at step 140000 : 2.5987420082092285\n",
      "Loss at step 150000 : 1.909505844116211\n",
      "Nearest to 2858: 110, 523, 2391, 3147, 182,\n",
      "Nearest to 608: 2454, 1362, 3060, 680, 532,\n",
      "Nearest to 1206: 882, 3471, 2554, 3200, 3704,\n",
      "Nearest to 1135: 917, 2872, 3196, 898, 3447,\n",
      "Loss at step 160000 : 2.9002575874328613\n",
      "Loss at step 170000 : 2.046133279800415\n",
      "Loss at step 180000 : 2.1913902759552\n",
      "Loss at step 190000 : 2.7858529090881348\n",
      "Loss at step 200000 : 3.882385730743408\n",
      "Nearest to 2858: 357, 223, 1191, 1985, 2630,\n",
      "Nearest to 608: 3181, 1284, 207, 3682, 3178,\n",
      "Nearest to 1206: 541, 3200, 2594, 1798, 882,\n",
      "Nearest to 1135: 928, 2872, 2208, 383, 3619,\n",
      "..\\models\\model_ml1mDiv80_positive_64_3_200000.pkl\n",
      "..\\models\\dictionary_ml1mDiv80_positive_64_3_200000.pkl\n",
      "..\\models\\rev_dict_ml1mDiv80_positive_64_3_200000.pkl\n",
      "Creating Dictionary\n",
      "Actual vocabulary size:3470\n",
      "Loss at step 10000 : 2.3534927368164062\n",
      "Loss at step 20000 : 2.5250015258789062\n",
      "Loss at step 30000 : 2.658600330352783\n",
      "Loss at step 40000 : 3.9490482807159424\n",
      "Loss at step 50000 : 1.362699270248413\n",
      "Nearest to 2858: 527, 2975, 1210, 2997, 223,\n",
      "Nearest to 608: 1094, 3299, 1707, 2028, 2858,\n",
      "Nearest to 1206: 1199, 2365, 1214, 153, 2578,\n",
      "Nearest to 1135: 2935, 1261, 2459, 1337, 2159,\n",
      "Loss at step 60000 : 2.655991554260254\n",
      "Loss at step 70000 : 2.786811351776123\n",
      "Loss at step 80000 : 3.1542932987213135\n",
      "Loss at step 90000 : 2.30592942237854\n",
      "Loss at step 100000 : 3.3845763206481934\n",
      "Nearest to 2858: 223, 1968, 63, 1617, 2153,\n",
      "Nearest to 608: 3427, 501, 296, 1249, 112,\n",
      "Nearest to 1206: 25, 2075, 1077, 2578, 89,\n",
      "Nearest to 1135: 3901, 2872, 3624, 2208, 3448,\n",
      "Loss at step 110000 : 2.5949034690856934\n",
      "Loss at step 120000 : 0.6620399355888367\n",
      "Loss at step 130000 : 2.1467349529266357\n",
      "Loss at step 140000 : 1.519120454788208\n",
      "Loss at step 150000 : 2.9434595108032227\n",
      "Nearest to 2858: 3007, 2437, 3753, 3299, 3408,\n",
      "Nearest to 608: 527, 3427, 1550, 166, 3926,\n",
      "Nearest to 1206: 3703, 1199, 2351, 2159, 1420,\n",
      "Nearest to 1135: 236, 2872, 2087, 3534, 2208,\n",
      "Loss at step 160000 : 2.5303523540496826\n",
      "Loss at step 170000 : 1.505110263824463\n",
      "Loss at step 180000 : 4.234393119812012\n",
      "Loss at step 190000 : 3.6014246940612793\n",
      "Loss at step 200000 : 2.083183765411377\n",
      "Nearest to 2858: 3285, 2212, 2348, 2770, 2706,\n",
      "Nearest to 608: 454, 112, 1269, 293, 554,\n",
      "Nearest to 1206: 1077, 2075, 2578, 541, 3200,\n",
      "Nearest to 1135: 3024, 2046, 3534, 2872, 1619,\n",
      "..\\models\\model_ml1mDiv80_positive_64_1_200000.pkl\n",
      "..\\models\\dictionary_ml1mDiv80_positive_64_1_200000.pkl\n",
      "..\\models\\rev_dict_ml1mDiv80_positive_64_1_200000.pkl\n",
      "Creating Dictionary\n",
      "Actual vocabulary size:3470\n",
      "Loss at step 10000 : 2.935464382171631\n",
      "Loss at step 20000 : 2.7144312858581543\n",
      "Loss at step 30000 : 2.950140953063965\n",
      "Loss at step 40000 : 1.8590571880340576\n",
      "Loss at step 50000 : 2.1044583320617676\n",
      "Nearest to 2858: 2090, 3181, 3061, 1363, 1694,\n",
      "Nearest to 608: 296, 1198, 1094, 1699, 159,\n",
      "Nearest to 1206: 1200, 1253, 818, 1690, 750,\n",
      "Nearest to 1135: 1036, 139, 2929, 3570, 2710,\n",
      "Loss at step 60000 : 2.396404266357422\n",
      "Loss at step 70000 : 1.6717698574066162\n",
      "Loss at step 80000 : 1.4238146543502808\n",
      "Loss at step 90000 : 1.2650002241134644\n",
      "Loss at step 100000 : 1.6824488639831543\n",
      "Nearest to 2858: 3421, 3596, 2383, 1363, 1270,\n",
      "Nearest to 608: 1699, 2844, 1649, 2112, 1213,\n",
      "Nearest to 1206: 818, 848, 2286, 40, 680,\n",
      "Nearest to 1135: 3570, 3322, 3019, 2412, 3366,\n",
      "Loss at step 110000 : 1.8720824718475342\n",
      "Loss at step 120000 : 1.945141077041626\n",
      "Loss at step 130000 : 2.3571159839630127\n",
      "Loss at step 140000 : 1.4789506196975708\n",
      "Loss at step 150000 : 1.8448083400726318\n",
      "Nearest to 2858: 3204, 126, 81, 347, 1535,\n",
      "Nearest to 608: 1699, 3302, 293, 1507, 1094,\n",
      "Nearest to 1206: 2666, 1253, 848, 3658, 818,\n",
      "Nearest to 1135: 2412, 3322, 3570, 3733, 3019,\n",
      "Loss at step 160000 : 0.5476585626602173\n",
      "Loss at step 170000 : 2.766563892364502\n",
      "Loss at step 180000 : 1.693764090538025\n",
      "Loss at step 190000 : 1.6636886596679688\n",
      "Loss at step 200000 : 2.379930019378662\n",
      "Nearest to 2858: 2383, 523, 2404, 467, 702,\n",
      "Nearest to 608: 1699, 1094, 2844, 293, 3132,\n",
      "Nearest to 1206: 3658, 1200, 1253, 2666, 848,\n",
      "Nearest to 1135: 2412, 3570, 3019, 2532, 2497,\n",
      "..\\models\\model_ml1mDiv80_positive_128_5_200000.pkl\n",
      "..\\models\\dictionary_ml1mDiv80_positive_128_5_200000.pkl\n",
      "..\\models\\rev_dict_ml1mDiv80_positive_128_5_200000.pkl\n",
      "Creating Dictionary\n",
      "Actual vocabulary size:3470\n",
      "Loss at step 10000 : 2.351174831390381\n",
      "Loss at step 20000 : 2.468327522277832\n",
      "Loss at step 30000 : 1.9548683166503906\n",
      "Loss at step 40000 : 2.583056926727295\n",
      "Loss at step 50000 : 2.0426840782165527\n",
      "Nearest to 2858: 3339, 2696, 2188, 2241, 1093,\n",
      "Nearest to 608: 1468, 1304, 1357, 383, 110,\n",
      "Nearest to 1206: 541, 3471, 1797, 2594, 3156,\n",
      "Nearest to 1135: 665, 3598, 3893, 3233, 2393,\n",
      "Loss at step 60000 : 1.6376724243164062\n",
      "Loss at step 70000 : 2.827455759048462\n",
      "Loss at step 80000 : 3.0327632427215576\n",
      "Loss at step 90000 : 1.9725910425186157\n",
      "Loss at step 100000 : 2.083942413330078\n",
      "Nearest to 2858: 2706, 2997, 1094, 1899, 2433,\n",
      "Nearest to 608: 1546, 3880, 3426, 3423, 2937,\n",
      "Nearest to 1206: 3471, 3813, 541, 1990, 15,\n",
      "Nearest to 1135: 3598, 547, 3720, 74, 2812,\n",
      "Loss at step 110000 : 1.7632865905761719\n",
      "Loss at step 120000 : 1.9379595518112183\n",
      "Loss at step 130000 : 1.891836166381836\n",
      "Loss at step 140000 : 0.8306333422660828\n",
      "Loss at step 150000 : 2.7671499252319336\n",
      "Nearest to 2858: 2908, 2699, 1127, 869, 2706,\n",
      "Nearest to 608: 141, 593, 589, 293, 1213,\n",
      "Nearest to 1206: 541, 3703, 750, 2210, 2968,\n",
      "Nearest to 1135: 547, 2872, 2812, 74, 3619,\n",
      "Loss at step 160000 : 2.307992935180664\n",
      "Loss at step 170000 : 3.742435932159424\n",
      "Loss at step 180000 : 2.747995376586914\n",
      "Loss at step 190000 : 2.4296956062316895\n",
      "Loss at step 200000 : 2.4444336891174316\n",
      "Nearest to 2858: 338, 2959, 2762, 1633, 1468,\n",
      "Nearest to 608: 1192, 3060, 766, 1136, 246,\n",
      "Nearest to 1206: 1783, 682, 830, 3685, 1797,\n",
      "Nearest to 1135: 1440, 3035, 3292, 547, 2812,\n",
      "..\\models\\model_ml1mDiv80_positive_128_3_200000.pkl\n",
      "..\\models\\dictionary_ml1mDiv80_positive_128_3_200000.pkl\n",
      "..\\models\\rev_dict_ml1mDiv80_positive_128_3_200000.pkl\n",
      "Creating Dictionary\n",
      "Actual vocabulary size:3470\n",
      "Loss at step 10000 : 4.267965316772461\n",
      "Loss at step 20000 : 2.1471035480499268\n",
      "Loss at step 30000 : 2.790865182876587\n",
      "Loss at step 40000 : 1.6288821697235107\n",
      "Loss at step 50000 : 2.601095676422119\n",
      "Nearest to 2858: 593, 2028, 527, 110, 924,\n",
      "Nearest to 608: 589, 1990, 1090, 923, 50,\n",
      "Nearest to 1206: 1196, 541, 2021, 2232, 1219,\n",
      "Nearest to 1135: 3423, 2626, 3372, 1961, 1660,\n",
      "Loss at step 60000 : 1.740978717803955\n",
      "Loss at step 70000 : 3.733865976333618\n",
      "Loss at step 80000 : 2.972378730773926\n",
      "Loss at step 90000 : 1.6726703643798828\n",
      "Loss at step 100000 : 2.8168187141418457\n",
      "Nearest to 2858: 2860, 182, 3753, 2997, 2706,\n",
      "Nearest to 608: 1090, 1661, 1221, 296, 538,\n",
      "Nearest to 1206: 3703, 2741, 3695, 541, 1856,\n",
      "Nearest to 1135: 1660, 3508, 3372, 508, 3423,\n",
      "Loss at step 110000 : 2.202169418334961\n",
      "Loss at step 120000 : 1.259968876838684\n",
      "Loss at step 130000 : 2.230576753616333\n",
      "Loss at step 140000 : 2.35384202003479\n",
      "Loss at step 150000 : 3.2268834114074707\n",
      "Nearest to 2858: 2959, 3741, 2409, 2144, 1420,\n",
      "Nearest to 608: 3917, 1990, 293, 923, 1401,\n",
      "Nearest to 1206: 1222, 3695, 1240, 3629, 2741,\n",
      "Nearest to 1135: 1660, 1596, 1644, 2421, 1100,\n",
      "Loss at step 160000 : 2.965473175048828\n",
      "Loss at step 170000 : 2.6894373893737793\n",
      "Loss at step 180000 : 2.4891300201416016\n",
      "Loss at step 190000 : 2.2564234733581543\n",
      "Loss at step 200000 : 0.861892819404602\n",
      "Nearest to 2858: 223, 3824, 2997, 1193, 611,\n",
      "Nearest to 608: 1990, 3210, 2076, 296, 1792,\n",
      "Nearest to 1206: 1563, 3695, 41, 1565, 2101,\n",
      "Nearest to 1135: 1596, 1440, 2193, 1660, 1644,\n",
      "..\\models\\model_ml1mDiv80_positive_128_1_200000.pkl\n",
      "..\\models\\dictionary_ml1mDiv80_positive_128_1_200000.pkl\n",
      "..\\models\\rev_dict_ml1mDiv80_positive_128_1_200000.pkl\n",
      "Creating Dictionary\n",
      "Actual vocabulary size:3470\n",
      "Loss at step 10000 : 2.580322265625\n",
      "Loss at step 20000 : 2.063288688659668\n",
      "Loss at step 30000 : 2.7953882217407227\n",
      "Loss at step 40000 : 2.050175189971924\n",
      "Loss at step 50000 : 1.0160000324249268\n",
      "Nearest to 2858: 2408, 3028, 3148, 2630, 110,\n",
      "Nearest to 608: 296, 1233, 1593, 3246, 1213,\n",
      "Nearest to 1206: 2571, 1200, 1270, 3471, 32,\n",
      "Nearest to 1135: 3248, 3263, 1388, 2628, 1299,\n",
      "Loss at step 60000 : 2.0294485092163086\n",
      "Loss at step 70000 : 1.1889286041259766\n",
      "Loss at step 80000 : 2.1271767616271973\n",
      "Loss at step 90000 : 1.385886549949646\n",
      "Loss at step 100000 : 2.4011101722717285\n",
      "Nearest to 2858: 908, 2408, 2017, 1673, 106,\n",
      "Nearest to 608: 1176, 1900, 1213, 1216, 922,\n",
      "Nearest to 1206: 1200, 1253, 1605, 492, 750,\n",
      "Nearest to 1135: 3248, 1388, 1277, 555, 2815,\n",
      "Loss at step 110000 : 1.5293688774108887\n",
      "Loss at step 120000 : 1.3438695669174194\n",
      "Loss at step 130000 : 0.9034960865974426\n",
      "Loss at step 140000 : 1.3919215202331543\n",
      "Loss at step 150000 : 2.0810885429382324\n",
      "Nearest to 2858: 2177, 452, 2305, 766, 1694,\n",
      "Nearest to 608: 1719, 678, 3049, 296, 1213,\n",
      "Nearest to 1206: 1839, 2899, 3837, 1200, 3702,\n",
      "Nearest to 1135: 3248, 1388, 1277, 3639, 3073,\n",
      "Loss at step 160000 : 0.4623071551322937\n",
      "Loss at step 170000 : 1.777426838874817\n",
      "Loss at step 180000 : 1.492508053779602\n",
      "Loss at step 190000 : 1.0270822048187256\n",
      "Loss at step 200000 : 1.892549753189087\n",
      "Nearest to 2858: 2997, 2177, 2305, 554, 2630,\n",
      "Nearest to 608: 1507, 3449, 296, 1277, 3481,\n",
      "Nearest to 1206: 574, 1253, 1200, 1839, 2578,\n",
      "Nearest to 1135: 3248, 3835, 586, 1388, 2246,\n"
     ]
    }
   ],
   "source": [
    "i = 0\n",
    "for params in params_list:\n",
    "    i += 1\n",
    "    rec:ARecommender = RecommenderW2V(\"test\", params)\n",
    "    rec.train(HistoryDF(\"hyperparams_tuning_CosineCB\"+str(i)), trainDataset)\n",
    "\n"
   ]
  },
  {
   "cell_type": "code",
   "execution_count": 19,
   "metadata": {},
   "outputs": [
    {
     "name": "stdout",
     "output_type": "stream",
     "text": [
      "..\\models\\model_ml1mDiv80_positive_32_5_50000.pkl\n",
      "..\\models\\dictionary_ml1mDiv80_positive_32_5_50000.pkl\n",
      "..\\models\\rev_dict_ml1mDiv80_positive_32_5_50000.pkl\n",
      "0.020523832860936148\n",
      "..\\models\\model_ml1mDiv80_positive_32_3_50000.pkl\n",
      "..\\models\\dictionary_ml1mDiv80_positive_32_3_50000.pkl\n",
      "..\\models\\rev_dict_ml1mDiv80_positive_32_3_50000.pkl\n",
      "0.025751457544424868\n",
      "..\\models\\model_ml1mDiv80_positive_32_1_50000.pkl\n",
      "..\\models\\dictionary_ml1mDiv80_positive_32_1_50000.pkl\n",
      "..\\models\\rev_dict_ml1mDiv80_positive_32_1_50000.pkl\n",
      "0.02206246353794028\n",
      "..\\models\\model_ml1mDiv80_positive_64_5_50000.pkl\n",
      "..\\models\\dictionary_ml1mDiv80_positive_64_5_50000.pkl\n",
      "..\\models\\rev_dict_ml1mDiv80_positive_64_5_50000.pkl\n",
      "0.02563314714120643\n",
      "..\\models\\model_ml1mDiv80_positive_64_3_50000.pkl\n",
      "..\\models\\dictionary_ml1mDiv80_positive_64_3_50000.pkl\n",
      "..\\models\\rev_dict_ml1mDiv80_positive_64_3_50000.pkl\n",
      "0.029388866651997903\n",
      "..\\models\\model_ml1mDiv80_positive_64_1_50000.pkl\n",
      "..\\models\\dictionary_ml1mDiv80_positive_64_1_50000.pkl\n",
      "..\\models\\rev_dict_ml1mDiv80_positive_64_1_50000.pkl\n",
      "0.02442377941750427\n",
      "..\\models\\model_ml1mDiv80_positive_128_5_50000.pkl\n",
      "..\\models\\dictionary_ml1mDiv80_positive_128_5_50000.pkl\n",
      "..\\models\\rev_dict_ml1mDiv80_positive_128_5_50000.pkl\n",
      "0.02777791474129932\n",
      "..\\models\\model_ml1mDiv80_positive_128_3_50000.pkl\n",
      "..\\models\\dictionary_ml1mDiv80_positive_128_3_50000.pkl\n",
      "..\\models\\rev_dict_ml1mDiv80_positive_128_3_50000.pkl\n",
      "0.028033440558813218\n",
      "..\\models\\model_ml1mDiv80_positive_128_1_50000.pkl\n",
      "..\\models\\dictionary_ml1mDiv80_positive_128_1_50000.pkl\n",
      "..\\models\\rev_dict_ml1mDiv80_positive_128_1_50000.pkl\n",
      "0.024587362353657286\n",
      "..\\models\\model_ml1mDiv80_positive_32_5_50000.pkl\n",
      "..\\models\\dictionary_ml1mDiv80_positive_32_5_50000.pkl\n",
      "..\\models\\rev_dict_ml1mDiv80_positive_32_5_50000.pkl\n",
      "0.011770375171424301\n",
      "..\\models\\model_ml1mDiv80_positive_32_3_50000.pkl\n",
      "..\\models\\dictionary_ml1mDiv80_positive_32_3_50000.pkl\n",
      "..\\models\\rev_dict_ml1mDiv80_positive_32_3_50000.pkl\n",
      "0.011644216084245283\n",
      "..\\models\\model_ml1mDiv80_positive_32_1_50000.pkl\n",
      "..\\models\\dictionary_ml1mDiv80_positive_32_1_50000.pkl\n",
      "..\\models\\rev_dict_ml1mDiv80_positive_32_1_50000.pkl\n",
      "0.011507178747514125\n",
      "..\\models\\model_ml1mDiv80_positive_64_5_50000.pkl\n",
      "..\\models\\dictionary_ml1mDiv80_positive_64_5_50000.pkl\n",
      "..\\models\\rev_dict_ml1mDiv80_positive_64_5_50000.pkl\n",
      "0.012088319314311737\n",
      "..\\models\\model_ml1mDiv80_positive_64_3_50000.pkl\n",
      "..\\models\\dictionary_ml1mDiv80_positive_64_3_50000.pkl\n",
      "..\\models\\rev_dict_ml1mDiv80_positive_64_3_50000.pkl\n",
      "0.011942757923499959\n",
      "..\\models\\model_ml1mDiv80_positive_64_1_50000.pkl\n",
      "..\\models\\dictionary_ml1mDiv80_positive_64_1_50000.pkl\n",
      "..\\models\\rev_dict_ml1mDiv80_positive_64_1_50000.pkl\n",
      "0.011288535621578279\n",
      "..\\models\\model_ml1mDiv80_positive_128_5_50000.pkl\n",
      "..\\models\\dictionary_ml1mDiv80_positive_128_5_50000.pkl\n",
      "..\\models\\rev_dict_ml1mDiv80_positive_128_5_50000.pkl\n",
      "0.011577611054975977\n",
      "..\\models\\model_ml1mDiv80_positive_128_3_50000.pkl\n",
      "..\\models\\dictionary_ml1mDiv80_positive_128_3_50000.pkl\n",
      "..\\models\\rev_dict_ml1mDiv80_positive_128_3_50000.pkl\n",
      "0.012418842611956445\n",
      "..\\models\\model_ml1mDiv80_positive_128_1_50000.pkl\n",
      "..\\models\\dictionary_ml1mDiv80_positive_128_1_50000.pkl\n",
      "..\\models\\rev_dict_ml1mDiv80_positive_128_1_50000.pkl\n",
      "0.011495289293541228\n",
      "..\\models\\model_ml1mDiv80_positive_32_5_50000.pkl\n",
      "..\\models\\dictionary_ml1mDiv80_positive_32_5_50000.pkl\n",
      "..\\models\\rev_dict_ml1mDiv80_positive_32_5_50000.pkl\n",
      "0.020763404480326413\n",
      "..\\models\\model_ml1mDiv80_positive_32_3_50000.pkl\n",
      "..\\models\\dictionary_ml1mDiv80_positive_32_3_50000.pkl\n",
      "..\\models\\rev_dict_ml1mDiv80_positive_32_3_50000.pkl\n",
      "0.02431122793305462\n",
      "..\\models\\model_ml1mDiv80_positive_32_1_50000.pkl\n",
      "..\\models\\dictionary_ml1mDiv80_positive_32_1_50000.pkl\n",
      "..\\models\\rev_dict_ml1mDiv80_positive_32_1_50000.pkl\n",
      "0.02104018143391232\n",
      "..\\models\\model_ml1mDiv80_positive_64_5_50000.pkl\n",
      "..\\models\\dictionary_ml1mDiv80_positive_64_5_50000.pkl\n",
      "..\\models\\rev_dict_ml1mDiv80_positive_64_5_50000.pkl\n",
      "0.02570858184563232\n",
      "..\\models\\model_ml1mDiv80_positive_64_3_50000.pkl\n",
      "..\\models\\dictionary_ml1mDiv80_positive_64_3_50000.pkl\n",
      "..\\models\\rev_dict_ml1mDiv80_positive_64_3_50000.pkl\n",
      "0.028685807196478962\n",
      "..\\models\\model_ml1mDiv80_positive_64_1_50000.pkl\n",
      "..\\models\\dictionary_ml1mDiv80_positive_64_1_50000.pkl\n",
      "..\\models\\rev_dict_ml1mDiv80_positive_64_1_50000.pkl\n",
      "0.023093108775898222\n",
      "..\\models\\model_ml1mDiv80_positive_128_5_50000.pkl\n",
      "..\\models\\dictionary_ml1mDiv80_positive_128_5_50000.pkl\n",
      "..\\models\\rev_dict_ml1mDiv80_positive_128_5_50000.pkl\n",
      "0.027645760302001228\n",
      "..\\models\\model_ml1mDiv80_positive_128_3_50000.pkl\n",
      "..\\models\\dictionary_ml1mDiv80_positive_128_3_50000.pkl\n",
      "..\\models\\rev_dict_ml1mDiv80_positive_128_3_50000.pkl\n",
      "0.028164151566023234\n",
      "..\\models\\model_ml1mDiv80_positive_128_1_50000.pkl\n",
      "..\\models\\dictionary_ml1mDiv80_positive_128_1_50000.pkl\n",
      "..\\models\\rev_dict_ml1mDiv80_positive_128_1_50000.pkl\n",
      "0.024189656454392208\n",
      "..\\models\\model_ml1mDiv80_positive_32_5_50000.pkl\n",
      "..\\models\\dictionary_ml1mDiv80_positive_32_5_50000.pkl\n",
      "..\\models\\rev_dict_ml1mDiv80_positive_32_5_50000.pkl\n",
      "0.01903683175198013\n",
      "..\\models\\model_ml1mDiv80_positive_32_3_50000.pkl\n",
      "..\\models\\dictionary_ml1mDiv80_positive_32_3_50000.pkl\n",
      "..\\models\\rev_dict_ml1mDiv80_positive_32_3_50000.pkl\n",
      "0.019581266258899093\n",
      "..\\models\\model_ml1mDiv80_positive_32_1_50000.pkl\n",
      "..\\models\\dictionary_ml1mDiv80_positive_32_1_50000.pkl\n",
      "..\\models\\rev_dict_ml1mDiv80_positive_32_1_50000.pkl\n",
      "0.01805125890536677\n",
      "..\\models\\model_ml1mDiv80_positive_64_5_50000.pkl\n",
      "..\\models\\dictionary_ml1mDiv80_positive_64_5_50000.pkl\n",
      "..\\models\\rev_dict_ml1mDiv80_positive_64_5_50000.pkl\n",
      "0.018718862850497887\n",
      "..\\models\\model_ml1mDiv80_positive_64_3_50000.pkl\n",
      "..\\models\\dictionary_ml1mDiv80_positive_64_3_50000.pkl\n",
      "..\\models\\rev_dict_ml1mDiv80_positive_64_3_50000.pkl\n",
      "0.01963616774414601\n",
      "..\\models\\model_ml1mDiv80_positive_64_1_50000.pkl\n",
      "..\\models\\dictionary_ml1mDiv80_positive_64_1_50000.pkl\n",
      "..\\models\\rev_dict_ml1mDiv80_positive_64_1_50000.pkl\n",
      "0.018927699567474764\n",
      "..\\models\\model_ml1mDiv80_positive_128_5_50000.pkl\n",
      "..\\models\\dictionary_ml1mDiv80_positive_128_5_50000.pkl\n",
      "..\\models\\rev_dict_ml1mDiv80_positive_128_5_50000.pkl\n",
      "0.019819716534857704\n",
      "..\\models\\model_ml1mDiv80_positive_128_3_50000.pkl\n",
      "..\\models\\dictionary_ml1mDiv80_positive_128_3_50000.pkl\n",
      "..\\models\\rev_dict_ml1mDiv80_positive_128_3_50000.pkl\n",
      "0.01965056572364187\n",
      "..\\models\\model_ml1mDiv80_positive_128_1_50000.pkl\n",
      "..\\models\\dictionary_ml1mDiv80_positive_128_1_50000.pkl\n",
      "..\\models\\rev_dict_ml1mDiv80_positive_128_1_50000.pkl\n",
      "0.020247837825422187\n",
      "..\\models\\model_ml1mDiv80_positive_32_5_50000.pkl\n",
      "..\\models\\dictionary_ml1mDiv80_positive_32_5_50000.pkl\n",
      "..\\models\\rev_dict_ml1mDiv80_positive_32_5_50000.pkl\n",
      "0.01903683175198013\n",
      "..\\models\\model_ml1mDiv80_positive_32_3_50000.pkl\n",
      "..\\models\\dictionary_ml1mDiv80_positive_32_3_50000.pkl\n",
      "..\\models\\rev_dict_ml1mDiv80_positive_32_3_50000.pkl\n",
      "0.019581266258899093\n",
      "..\\models\\model_ml1mDiv80_positive_32_1_50000.pkl\n",
      "..\\models\\dictionary_ml1mDiv80_positive_32_1_50000.pkl\n",
      "..\\models\\rev_dict_ml1mDiv80_positive_32_1_50000.pkl\n",
      "0.01805125890536677\n",
      "..\\models\\model_ml1mDiv80_positive_64_5_50000.pkl\n",
      "..\\models\\dictionary_ml1mDiv80_positive_64_5_50000.pkl\n",
      "..\\models\\rev_dict_ml1mDiv80_positive_64_5_50000.pkl\n",
      "0.018718862850497887\n",
      "..\\models\\model_ml1mDiv80_positive_64_3_50000.pkl\n",
      "..\\models\\dictionary_ml1mDiv80_positive_64_3_50000.pkl\n",
      "..\\models\\rev_dict_ml1mDiv80_positive_64_3_50000.pkl\n",
      "0.01963616774414601\n",
      "..\\models\\model_ml1mDiv80_positive_64_1_50000.pkl\n",
      "..\\models\\dictionary_ml1mDiv80_positive_64_1_50000.pkl\n",
      "..\\models\\rev_dict_ml1mDiv80_positive_64_1_50000.pkl\n",
      "0.018927699567474764\n",
      "..\\models\\model_ml1mDiv80_positive_128_5_50000.pkl\n",
      "..\\models\\dictionary_ml1mDiv80_positive_128_5_50000.pkl\n",
      "..\\models\\rev_dict_ml1mDiv80_positive_128_5_50000.pkl\n",
      "0.019819716534857704\n",
      "..\\models\\model_ml1mDiv80_positive_128_3_50000.pkl\n",
      "..\\models\\dictionary_ml1mDiv80_positive_128_3_50000.pkl\n",
      "..\\models\\rev_dict_ml1mDiv80_positive_128_3_50000.pkl\n",
      "0.01965056572364187\n",
      "..\\models\\model_ml1mDiv80_positive_128_1_50000.pkl\n",
      "..\\models\\dictionary_ml1mDiv80_positive_128_1_50000.pkl\n",
      "..\\models\\rev_dict_ml1mDiv80_positive_128_1_50000.pkl\n",
      "0.020247837825422187\n",
      "..\\models\\model_ml1mDiv80_positive_32_5_50000.pkl\n",
      "..\\models\\dictionary_ml1mDiv80_positive_32_5_50000.pkl\n",
      "..\\models\\rev_dict_ml1mDiv80_positive_32_5_50000.pkl\n",
      "0.01903683175198013\n",
      "..\\models\\model_ml1mDiv80_positive_32_3_50000.pkl\n",
      "..\\models\\dictionary_ml1mDiv80_positive_32_3_50000.pkl\n",
      "..\\models\\rev_dict_ml1mDiv80_positive_32_3_50000.pkl\n",
      "0.019581266258899093\n",
      "..\\models\\model_ml1mDiv80_positive_32_1_50000.pkl\n",
      "..\\models\\dictionary_ml1mDiv80_positive_32_1_50000.pkl\n",
      "..\\models\\rev_dict_ml1mDiv80_positive_32_1_50000.pkl\n",
      "0.01805125890536677\n",
      "..\\models\\model_ml1mDiv80_positive_64_5_50000.pkl\n",
      "..\\models\\dictionary_ml1mDiv80_positive_64_5_50000.pkl\n",
      "..\\models\\rev_dict_ml1mDiv80_positive_64_5_50000.pkl\n",
      "0.018718862850497887\n",
      "..\\models\\model_ml1mDiv80_positive_64_3_50000.pkl\n",
      "..\\models\\dictionary_ml1mDiv80_positive_64_3_50000.pkl\n",
      "..\\models\\rev_dict_ml1mDiv80_positive_64_3_50000.pkl\n",
      "0.01963616774414601\n",
      "..\\models\\model_ml1mDiv80_positive_64_1_50000.pkl\n",
      "..\\models\\dictionary_ml1mDiv80_positive_64_1_50000.pkl\n",
      "..\\models\\rev_dict_ml1mDiv80_positive_64_1_50000.pkl\n",
      "0.018927699567474764\n",
      "..\\models\\model_ml1mDiv80_positive_128_5_50000.pkl\n",
      "..\\models\\dictionary_ml1mDiv80_positive_128_5_50000.pkl\n",
      "..\\models\\rev_dict_ml1mDiv80_positive_128_5_50000.pkl\n",
      "0.019819716534857704\n",
      "..\\models\\model_ml1mDiv80_positive_128_3_50000.pkl\n",
      "..\\models\\dictionary_ml1mDiv80_positive_128_3_50000.pkl\n",
      "..\\models\\rev_dict_ml1mDiv80_positive_128_3_50000.pkl\n",
      "0.01965056572364187\n",
      "..\\models\\model_ml1mDiv80_positive_128_1_50000.pkl\n",
      "..\\models\\dictionary_ml1mDiv80_positive_128_1_50000.pkl\n",
      "..\\models\\rev_dict_ml1mDiv80_positive_128_1_50000.pkl\n",
      "0.020247837825422187\n",
      "..\\models\\model_ml1mDiv80_positive_32_5_50000.pkl\n",
      "..\\models\\dictionary_ml1mDiv80_positive_32_5_50000.pkl\n",
      "..\\models\\rev_dict_ml1mDiv80_positive_32_5_50000.pkl\n",
      "0.01920666157432815\n",
      "..\\models\\model_ml1mDiv80_positive_32_3_50000.pkl\n",
      "..\\models\\dictionary_ml1mDiv80_positive_32_3_50000.pkl\n",
      "..\\models\\rev_dict_ml1mDiv80_positive_32_3_50000.pkl\n",
      "0.021622850598764842\n",
      "..\\models\\model_ml1mDiv80_positive_32_1_50000.pkl\n",
      "..\\models\\dictionary_ml1mDiv80_positive_32_1_50000.pkl\n",
      "..\\models\\rev_dict_ml1mDiv80_positive_32_1_50000.pkl\n",
      "0.01959323822550511\n",
      "..\\models\\model_ml1mDiv80_positive_64_5_50000.pkl\n",
      "..\\models\\dictionary_ml1mDiv80_positive_64_5_50000.pkl\n",
      "..\\models\\rev_dict_ml1mDiv80_positive_64_5_50000.pkl\n",
      "0.020575310372251646\n",
      "..\\models\\model_ml1mDiv80_positive_64_3_50000.pkl\n",
      "..\\models\\dictionary_ml1mDiv80_positive_64_3_50000.pkl\n",
      "..\\models\\rev_dict_ml1mDiv80_positive_64_3_50000.pkl\n",
      "0.020976640296384994\n",
      "..\\models\\model_ml1mDiv80_positive_64_1_50000.pkl\n",
      "..\\models\\dictionary_ml1mDiv80_positive_64_1_50000.pkl\n",
      "..\\models\\rev_dict_ml1mDiv80_positive_64_1_50000.pkl\n",
      "0.02002137740879252\n",
      "..\\models\\model_ml1mDiv80_positive_128_5_50000.pkl\n",
      "..\\models\\dictionary_ml1mDiv80_positive_128_5_50000.pkl\n",
      "..\\models\\rev_dict_ml1mDiv80_positive_128_5_50000.pkl\n",
      "0.021564508851000665\n",
      "..\\models\\model_ml1mDiv80_positive_128_3_50000.pkl\n",
      "..\\models\\dictionary_ml1mDiv80_positive_128_3_50000.pkl\n",
      "..\\models\\rev_dict_ml1mDiv80_positive_128_3_50000.pkl\n",
      "0.020616943956271762\n",
      "..\\models\\model_ml1mDiv80_positive_128_1_50000.pkl\n",
      "..\\models\\dictionary_ml1mDiv80_positive_128_1_50000.pkl\n",
      "..\\models\\rev_dict_ml1mDiv80_positive_128_1_50000.pkl\n",
      "0.021722042537946153\n",
      "..\\models\\model_ml1mDiv80_positive_32_5_50000.pkl\n",
      "..\\models\\dictionary_ml1mDiv80_positive_32_5_50000.pkl\n",
      "..\\models\\rev_dict_ml1mDiv80_positive_32_5_50000.pkl\n",
      "0.01765573236470884\n",
      "..\\models\\model_ml1mDiv80_positive_32_3_50000.pkl\n",
      "..\\models\\dictionary_ml1mDiv80_positive_32_3_50000.pkl\n",
      "..\\models\\rev_dict_ml1mDiv80_positive_32_3_50000.pkl\n",
      "0.01858544803421192\n",
      "..\\models\\model_ml1mDiv80_positive_32_1_50000.pkl\n",
      "..\\models\\dictionary_ml1mDiv80_positive_32_1_50000.pkl\n",
      "..\\models\\rev_dict_ml1mDiv80_positive_32_1_50000.pkl\n",
      "0.018727682373009806\n",
      "..\\models\\model_ml1mDiv80_positive_64_5_50000.pkl\n",
      "..\\models\\dictionary_ml1mDiv80_positive_64_5_50000.pkl\n",
      "..\\models\\rev_dict_ml1mDiv80_positive_64_5_50000.pkl\n",
      "0.018673249225323985\n",
      "..\\models\\model_ml1mDiv80_positive_64_3_50000.pkl\n",
      "..\\models\\dictionary_ml1mDiv80_positive_64_3_50000.pkl\n",
      "..\\models\\rev_dict_ml1mDiv80_positive_64_3_50000.pkl\n",
      "0.019545866793739743\n",
      "..\\models\\model_ml1mDiv80_positive_64_1_50000.pkl\n",
      "..\\models\\dictionary_ml1mDiv80_positive_64_1_50000.pkl\n",
      "..\\models\\rev_dict_ml1mDiv80_positive_64_1_50000.pkl\n",
      "0.01753521109949689\n",
      "..\\models\\model_ml1mDiv80_positive_128_5_50000.pkl\n",
      "..\\models\\dictionary_ml1mDiv80_positive_128_5_50000.pkl\n",
      "..\\models\\rev_dict_ml1mDiv80_positive_128_5_50000.pkl\n",
      "0.01958154657153059\n",
      "..\\models\\model_ml1mDiv80_positive_128_3_50000.pkl\n",
      "..\\models\\dictionary_ml1mDiv80_positive_128_3_50000.pkl\n",
      "..\\models\\rev_dict_ml1mDiv80_positive_128_3_50000.pkl\n",
      "0.020335717804694238\n",
      "..\\models\\model_ml1mDiv80_positive_128_1_50000.pkl\n",
      "..\\models\\dictionary_ml1mDiv80_positive_128_1_50000.pkl\n",
      "..\\models\\rev_dict_ml1mDiv80_positive_128_1_50000.pkl\n",
      "0.018144651239724616\n",
      "..\\models\\model_ml1mDiv80_positive_32_5_50000.pkl\n",
      "..\\models\\dictionary_ml1mDiv80_positive_32_5_50000.pkl\n",
      "..\\models\\rev_dict_ml1mDiv80_positive_32_5_50000.pkl\n",
      "0.01938219593465173\n",
      "..\\models\\model_ml1mDiv80_positive_32_3_50000.pkl\n",
      "..\\models\\dictionary_ml1mDiv80_positive_32_3_50000.pkl\n",
      "..\\models\\rev_dict_ml1mDiv80_positive_32_3_50000.pkl\n",
      "0.02076561393495294\n",
      "..\\models\\model_ml1mDiv80_positive_32_1_50000.pkl\n",
      "..\\models\\dictionary_ml1mDiv80_positive_32_1_50000.pkl\n",
      "..\\models\\rev_dict_ml1mDiv80_positive_32_1_50000.pkl\n",
      "0.019265121587459424\n",
      "..\\models\\model_ml1mDiv80_positive_64_5_50000.pkl\n",
      "..\\models\\dictionary_ml1mDiv80_positive_64_5_50000.pkl\n",
      "..\\models\\rev_dict_ml1mDiv80_positive_64_5_50000.pkl\n",
      "0.020848182334671884\n",
      "..\\models\\model_ml1mDiv80_positive_64_3_50000.pkl\n",
      "..\\models\\dictionary_ml1mDiv80_positive_64_3_50000.pkl\n",
      "..\\models\\rev_dict_ml1mDiv80_positive_64_3_50000.pkl\n",
      "0.02197083410750733\n",
      "..\\models\\model_ml1mDiv80_positive_64_1_50000.pkl\n",
      "..\\models\\dictionary_ml1mDiv80_positive_64_1_50000.pkl\n",
      "..\\models\\rev_dict_ml1mDiv80_positive_64_1_50000.pkl\n",
      "0.02015953458853713\n",
      "..\\models\\model_ml1mDiv80_positive_128_5_50000.pkl\n",
      "..\\models\\dictionary_ml1mDiv80_positive_128_5_50000.pkl\n",
      "..\\models\\rev_dict_ml1mDiv80_positive_128_5_50000.pkl\n",
      "0.021023844448209685\n",
      "..\\models\\model_ml1mDiv80_positive_128_3_50000.pkl\n",
      "..\\models\\dictionary_ml1mDiv80_positive_128_3_50000.pkl\n",
      "..\\models\\rev_dict_ml1mDiv80_positive_128_3_50000.pkl\n",
      "0.021177053798777917\n",
      "..\\models\\model_ml1mDiv80_positive_128_1_50000.pkl\n",
      "..\\models\\dictionary_ml1mDiv80_positive_128_1_50000.pkl\n",
      "..\\models\\rev_dict_ml1mDiv80_positive_128_1_50000.pkl\n",
      "0.021843988998110436\n",
      "..\\models\\model_ml1mDiv80_positive_32_5_50000.pkl\n",
      "..\\models\\dictionary_ml1mDiv80_positive_32_5_50000.pkl\n",
      "..\\models\\rev_dict_ml1mDiv80_positive_32_5_50000.pkl\n",
      "0.02048986827844719\n",
      "..\\models\\model_ml1mDiv80_positive_32_3_50000.pkl\n",
      "..\\models\\dictionary_ml1mDiv80_positive_32_3_50000.pkl\n",
      "..\\models\\rev_dict_ml1mDiv80_positive_32_3_50000.pkl\n",
      "0.024345516386454234\n",
      "..\\models\\model_ml1mDiv80_positive_32_1_50000.pkl\n",
      "..\\models\\dictionary_ml1mDiv80_positive_32_1_50000.pkl\n",
      "..\\models\\rev_dict_ml1mDiv80_positive_32_1_50000.pkl\n",
      "0.021398782123111144\n",
      "..\\models\\model_ml1mDiv80_positive_64_5_50000.pkl\n",
      "..\\models\\dictionary_ml1mDiv80_positive_64_5_50000.pkl\n",
      "..\\models\\rev_dict_ml1mDiv80_positive_64_5_50000.pkl\n",
      "0.02176149626278206\n",
      "..\\models\\model_ml1mDiv80_positive_64_3_50000.pkl\n",
      "..\\models\\dictionary_ml1mDiv80_positive_64_3_50000.pkl\n",
      "..\\models\\rev_dict_ml1mDiv80_positive_64_3_50000.pkl\n",
      "0.021578864796787674\n",
      "..\\models\\model_ml1mDiv80_positive_64_1_50000.pkl\n",
      "..\\models\\dictionary_ml1mDiv80_positive_64_1_50000.pkl\n",
      "..\\models\\rev_dict_ml1mDiv80_positive_64_1_50000.pkl\n",
      "0.020667654125922034\n",
      "..\\models\\model_ml1mDiv80_positive_128_5_50000.pkl\n",
      "..\\models\\dictionary_ml1mDiv80_positive_128_5_50000.pkl\n",
      "..\\models\\rev_dict_ml1mDiv80_positive_128_5_50000.pkl\n",
      "0.020178325826889307\n",
      "..\\models\\model_ml1mDiv80_positive_128_3_50000.pkl\n",
      "..\\models\\dictionary_ml1mDiv80_positive_128_3_50000.pkl\n",
      "..\\models\\rev_dict_ml1mDiv80_positive_128_3_50000.pkl\n",
      "0.022277487977461496\n",
      "..\\models\\model_ml1mDiv80_positive_128_1_50000.pkl\n",
      "..\\models\\dictionary_ml1mDiv80_positive_128_1_50000.pkl\n",
      "..\\models\\rev_dict_ml1mDiv80_positive_128_1_50000.pkl\n",
      "0.021375183664481198\n",
      "..\\models\\model_ml1mDiv80_positive_32_5_50000.pkl\n",
      "..\\models\\dictionary_ml1mDiv80_positive_32_5_50000.pkl\n",
      "..\\models\\rev_dict_ml1mDiv80_positive_32_5_50000.pkl\n",
      "0.018284403566559075\n",
      "..\\models\\model_ml1mDiv80_positive_32_3_50000.pkl\n",
      "..\\models\\dictionary_ml1mDiv80_positive_32_3_50000.pkl\n",
      "..\\models\\rev_dict_ml1mDiv80_positive_32_3_50000.pkl\n",
      "0.01824530797661451\n",
      "..\\models\\model_ml1mDiv80_positive_32_1_50000.pkl\n",
      "..\\models\\dictionary_ml1mDiv80_positive_32_1_50000.pkl\n",
      "..\\models\\rev_dict_ml1mDiv80_positive_32_1_50000.pkl\n",
      "0.017394448651687475\n",
      "..\\models\\model_ml1mDiv80_positive_64_5_50000.pkl\n",
      "..\\models\\dictionary_ml1mDiv80_positive_64_5_50000.pkl\n",
      "..\\models\\rev_dict_ml1mDiv80_positive_64_5_50000.pkl\n",
      "0.01860159090494408\n",
      "..\\models\\model_ml1mDiv80_positive_64_3_50000.pkl\n",
      "..\\models\\dictionary_ml1mDiv80_positive_64_3_50000.pkl\n",
      "..\\models\\rev_dict_ml1mDiv80_positive_64_3_50000.pkl\n",
      "0.019707705451752395\n",
      "..\\models\\model_ml1mDiv80_positive_64_1_50000.pkl\n",
      "..\\models\\dictionary_ml1mDiv80_positive_64_1_50000.pkl\n",
      "..\\models\\rev_dict_ml1mDiv80_positive_64_1_50000.pkl\n",
      "0.018021590964128757\n",
      "..\\models\\model_ml1mDiv80_positive_128_5_50000.pkl\n",
      "..\\models\\dictionary_ml1mDiv80_positive_128_5_50000.pkl\n",
      "..\\models\\rev_dict_ml1mDiv80_positive_128_5_50000.pkl\n",
      "0.01818490529132073\n",
      "..\\models\\model_ml1mDiv80_positive_128_3_50000.pkl\n",
      "..\\models\\dictionary_ml1mDiv80_positive_128_3_50000.pkl\n",
      "..\\models\\rev_dict_ml1mDiv80_positive_128_3_50000.pkl\n",
      "0.019562856360162872\n",
      "..\\models\\model_ml1mDiv80_positive_128_1_50000.pkl\n",
      "..\\models\\dictionary_ml1mDiv80_positive_128_1_50000.pkl\n",
      "..\\models\\rev_dict_ml1mDiv80_positive_128_1_50000.pkl\n",
      "0.01842397703135696\n",
      "..\\models\\model_ml1mDiv80_positive_32_5_50000.pkl\n",
      "..\\models\\dictionary_ml1mDiv80_positive_32_5_50000.pkl\n",
      "..\\models\\rev_dict_ml1mDiv80_positive_32_5_50000.pkl\n",
      "0.02007929984586558\n",
      "..\\models\\model_ml1mDiv80_positive_32_3_50000.pkl\n",
      "..\\models\\dictionary_ml1mDiv80_positive_32_3_50000.pkl\n",
      "..\\models\\rev_dict_ml1mDiv80_positive_32_3_50000.pkl\n",
      "0.022384944317959118\n",
      "..\\models\\model_ml1mDiv80_positive_32_1_50000.pkl\n",
      "..\\models\\dictionary_ml1mDiv80_positive_32_1_50000.pkl\n",
      "..\\models\\rev_dict_ml1mDiv80_positive_32_1_50000.pkl\n",
      "0.020575336233578052\n",
      "..\\models\\model_ml1mDiv80_positive_64_5_50000.pkl\n",
      "..\\models\\dictionary_ml1mDiv80_positive_64_5_50000.pkl\n",
      "..\\models\\rev_dict_ml1mDiv80_positive_64_5_50000.pkl\n",
      "0.021894100715205117\n",
      "..\\models\\model_ml1mDiv80_positive_64_3_50000.pkl\n",
      "..\\models\\dictionary_ml1mDiv80_positive_64_3_50000.pkl\n",
      "..\\models\\rev_dict_ml1mDiv80_positive_64_3_50000.pkl\n",
      "0.022679649302037426\n",
      "..\\models\\model_ml1mDiv80_positive_64_1_50000.pkl\n",
      "..\\models\\dictionary_ml1mDiv80_positive_64_1_50000.pkl\n",
      "..\\models\\rev_dict_ml1mDiv80_positive_64_1_50000.pkl\n",
      "0.020832714436040782\n",
      "..\\models\\model_ml1mDiv80_positive_128_5_50000.pkl\n",
      "..\\models\\dictionary_ml1mDiv80_positive_128_5_50000.pkl\n",
      "..\\models\\rev_dict_ml1mDiv80_positive_128_5_50000.pkl\n",
      "0.021478432965692268\n",
      "..\\models\\model_ml1mDiv80_positive_128_3_50000.pkl\n",
      "..\\models\\dictionary_ml1mDiv80_positive_128_3_50000.pkl\n",
      "..\\models\\rev_dict_ml1mDiv80_positive_128_3_50000.pkl\n",
      "0.02177304279406483\n",
      "..\\models\\model_ml1mDiv80_positive_128_1_50000.pkl\n",
      "..\\models\\dictionary_ml1mDiv80_positive_128_1_50000.pkl\n",
      "..\\models\\rev_dict_ml1mDiv80_positive_128_1_50000.pkl\n",
      "0.021660358016006652\n",
      "..\\models\\model_ml1mDiv80_positive_32_5_50000.pkl\n",
      "..\\models\\dictionary_ml1mDiv80_positive_32_5_50000.pkl\n",
      "..\\models\\rev_dict_ml1mDiv80_positive_32_5_50000.pkl\n",
      "0.020790654729353247\n",
      "..\\models\\model_ml1mDiv80_positive_32_3_50000.pkl\n",
      "..\\models\\dictionary_ml1mDiv80_positive_32_3_50000.pkl\n",
      "..\\models\\rev_dict_ml1mDiv80_positive_32_3_50000.pkl\n",
      "0.025181599756750647\n",
      "..\\models\\model_ml1mDiv80_positive_32_1_50000.pkl\n",
      "..\\models\\dictionary_ml1mDiv80_positive_32_1_50000.pkl\n",
      "..\\models\\rev_dict_ml1mDiv80_positive_32_1_50000.pkl\n",
      "0.023102056422760996\n",
      "..\\models\\model_ml1mDiv80_positive_64_5_50000.pkl\n",
      "..\\models\\dictionary_ml1mDiv80_positive_64_5_50000.pkl\n",
      "..\\models\\rev_dict_ml1mDiv80_positive_64_5_50000.pkl\n",
      "0.02382085900268678\n",
      "..\\models\\model_ml1mDiv80_positive_64_3_50000.pkl\n",
      "..\\models\\dictionary_ml1mDiv80_positive_64_3_50000.pkl\n",
      "..\\models\\rev_dict_ml1mDiv80_positive_64_3_50000.pkl\n",
      "0.02312536973352958\n",
      "..\\models\\model_ml1mDiv80_positive_64_1_50000.pkl\n",
      "..\\models\\dictionary_ml1mDiv80_positive_64_1_50000.pkl\n",
      "..\\models\\rev_dict_ml1mDiv80_positive_64_1_50000.pkl\n",
      "0.020899134108673355\n",
      "..\\models\\model_ml1mDiv80_positive_128_5_50000.pkl\n",
      "..\\models\\dictionary_ml1mDiv80_positive_128_5_50000.pkl\n",
      "..\\models\\rev_dict_ml1mDiv80_positive_128_5_50000.pkl\n",
      "0.02149660919780269\n",
      "..\\models\\model_ml1mDiv80_positive_128_3_50000.pkl\n",
      "..\\models\\dictionary_ml1mDiv80_positive_128_3_50000.pkl\n",
      "..\\models\\rev_dict_ml1mDiv80_positive_128_3_50000.pkl\n",
      "0.022600324980254174\n",
      "..\\models\\model_ml1mDiv80_positive_128_1_50000.pkl\n",
      "..\\models\\dictionary_ml1mDiv80_positive_128_1_50000.pkl\n",
      "..\\models\\rev_dict_ml1mDiv80_positive_128_1_50000.pkl\n",
      "0.022423653790668026\n",
      "..\\models\\model_ml1mDiv80_positive_32_5_50000.pkl\n",
      "..\\models\\dictionary_ml1mDiv80_positive_32_5_50000.pkl\n",
      "..\\models\\rev_dict_ml1mDiv80_positive_32_5_50000.pkl\n",
      "0.01829231561535354\n",
      "..\\models\\model_ml1mDiv80_positive_32_3_50000.pkl\n",
      "..\\models\\dictionary_ml1mDiv80_positive_32_3_50000.pkl\n",
      "..\\models\\rev_dict_ml1mDiv80_positive_32_3_50000.pkl\n",
      "0.017873100865251054\n",
      "..\\models\\model_ml1mDiv80_positive_32_1_50000.pkl\n",
      "..\\models\\dictionary_ml1mDiv80_positive_32_1_50000.pkl\n",
      "..\\models\\rev_dict_ml1mDiv80_positive_32_1_50000.pkl\n",
      "0.01723752457867989\n",
      "..\\models\\model_ml1mDiv80_positive_64_5_50000.pkl\n",
      "..\\models\\dictionary_ml1mDiv80_positive_64_5_50000.pkl\n",
      "..\\models\\rev_dict_ml1mDiv80_positive_64_5_50000.pkl\n",
      "0.018102413756142643\n",
      "..\\models\\model_ml1mDiv80_positive_64_3_50000.pkl\n",
      "..\\models\\dictionary_ml1mDiv80_positive_64_3_50000.pkl\n",
      "..\\models\\rev_dict_ml1mDiv80_positive_64_3_50000.pkl\n",
      "0.01932748738247583\n",
      "..\\models\\model_ml1mDiv80_positive_64_1_50000.pkl\n",
      "..\\models\\dictionary_ml1mDiv80_positive_64_1_50000.pkl\n",
      "..\\models\\rev_dict_ml1mDiv80_positive_64_1_50000.pkl\n",
      "0.016390937835800652\n",
      "..\\models\\model_ml1mDiv80_positive_128_5_50000.pkl\n",
      "..\\models\\dictionary_ml1mDiv80_positive_128_5_50000.pkl\n",
      "..\\models\\rev_dict_ml1mDiv80_positive_128_5_50000.pkl\n",
      "0.01742325520116615\n",
      "..\\models\\model_ml1mDiv80_positive_128_3_50000.pkl\n",
      "..\\models\\dictionary_ml1mDiv80_positive_128_3_50000.pkl\n",
      "..\\models\\rev_dict_ml1mDiv80_positive_128_3_50000.pkl\n",
      "0.01962652501938779\n",
      "..\\models\\model_ml1mDiv80_positive_128_1_50000.pkl\n",
      "..\\models\\dictionary_ml1mDiv80_positive_128_1_50000.pkl\n",
      "..\\models\\rev_dict_ml1mDiv80_positive_128_1_50000.pkl\n",
      "0.017262384398852977\n",
      "..\\models\\model_ml1mDiv80_positive_32_5_50000.pkl\n",
      "..\\models\\dictionary_ml1mDiv80_positive_32_5_50000.pkl\n",
      "..\\models\\rev_dict_ml1mDiv80_positive_32_5_50000.pkl\n",
      "0.020801104124092983\n",
      "..\\models\\model_ml1mDiv80_positive_32_3_50000.pkl\n",
      "..\\models\\dictionary_ml1mDiv80_positive_32_3_50000.pkl\n",
      "..\\models\\rev_dict_ml1mDiv80_positive_32_3_50000.pkl\n",
      "0.023328096228543087\n",
      "..\\models\\model_ml1mDiv80_positive_32_1_50000.pkl\n",
      "..\\models\\dictionary_ml1mDiv80_positive_32_1_50000.pkl\n",
      "..\\models\\rev_dict_ml1mDiv80_positive_32_1_50000.pkl\n",
      "0.021073561700760635\n",
      "..\\models\\model_ml1mDiv80_positive_64_5_50000.pkl\n",
      "..\\models\\dictionary_ml1mDiv80_positive_64_5_50000.pkl\n",
      "..\\models\\rev_dict_ml1mDiv80_positive_64_5_50000.pkl\n",
      "0.022389848139379057\n",
      "..\\models\\model_ml1mDiv80_positive_64_3_50000.pkl\n",
      "..\\models\\dictionary_ml1mDiv80_positive_64_3_50000.pkl\n",
      "..\\models\\rev_dict_ml1mDiv80_positive_64_3_50000.pkl\n",
      "0.02266949249016825\n",
      "..\\models\\model_ml1mDiv80_positive_64_1_50000.pkl\n",
      "..\\models\\dictionary_ml1mDiv80_positive_64_1_50000.pkl\n",
      "..\\models\\rev_dict_ml1mDiv80_positive_64_1_50000.pkl\n",
      "0.020835199322922143\n",
      "..\\models\\model_ml1mDiv80_positive_128_5_50000.pkl\n",
      "..\\models\\dictionary_ml1mDiv80_positive_128_5_50000.pkl\n",
      "..\\models\\rev_dict_ml1mDiv80_positive_128_5_50000.pkl\n",
      "0.021418141143083377\n",
      "..\\models\\model_ml1mDiv80_positive_128_3_50000.pkl\n",
      "..\\models\\dictionary_ml1mDiv80_positive_128_3_50000.pkl\n",
      "..\\models\\rev_dict_ml1mDiv80_positive_128_3_50000.pkl\n",
      "0.022966779297013233\n",
      "..\\models\\model_ml1mDiv80_positive_128_1_50000.pkl\n",
      "..\\models\\dictionary_ml1mDiv80_positive_128_1_50000.pkl\n",
      "..\\models\\rev_dict_ml1mDiv80_positive_128_1_50000.pkl\n",
      "0.021759831534491937\n",
      "..\\models\\model_ml1mDiv80_positive_32_5_50000.pkl\n",
      "..\\models\\dictionary_ml1mDiv80_positive_32_5_50000.pkl\n",
      "..\\models\\rev_dict_ml1mDiv80_positive_32_5_50000.pkl\n",
      "0.02156688550099699\n",
      "..\\models\\model_ml1mDiv80_positive_32_3_50000.pkl\n",
      "..\\models\\dictionary_ml1mDiv80_positive_32_3_50000.pkl\n",
      "..\\models\\rev_dict_ml1mDiv80_positive_32_3_50000.pkl\n",
      "0.025032419603939145\n",
      "..\\models\\model_ml1mDiv80_positive_32_1_50000.pkl\n",
      "..\\models\\dictionary_ml1mDiv80_positive_32_1_50000.pkl\n",
      "..\\models\\rev_dict_ml1mDiv80_positive_32_1_50000.pkl\n",
      "0.022632357632060153\n",
      "..\\models\\model_ml1mDiv80_positive_64_5_50000.pkl\n",
      "..\\models\\dictionary_ml1mDiv80_positive_64_5_50000.pkl\n",
      "..\\models\\rev_dict_ml1mDiv80_positive_64_5_50000.pkl\n",
      "0.02518246463577487\n",
      "..\\models\\model_ml1mDiv80_positive_64_3_50000.pkl\n",
      "..\\models\\dictionary_ml1mDiv80_positive_64_3_50000.pkl\n",
      "..\\models\\rev_dict_ml1mDiv80_positive_64_3_50000.pkl\n",
      "0.025304301819740003\n",
      "..\\models\\model_ml1mDiv80_positive_64_1_50000.pkl\n",
      "..\\models\\dictionary_ml1mDiv80_positive_64_1_50000.pkl\n",
      "..\\models\\rev_dict_ml1mDiv80_positive_64_1_50000.pkl\n",
      "0.023468793534868068\n",
      "..\\models\\model_ml1mDiv80_positive_128_5_50000.pkl\n",
      "..\\models\\dictionary_ml1mDiv80_positive_128_5_50000.pkl\n",
      "..\\models\\rev_dict_ml1mDiv80_positive_128_5_50000.pkl\n",
      "0.023122555064024143\n",
      "..\\models\\model_ml1mDiv80_positive_128_3_50000.pkl\n",
      "..\\models\\dictionary_ml1mDiv80_positive_128_3_50000.pkl\n",
      "..\\models\\rev_dict_ml1mDiv80_positive_128_3_50000.pkl\n",
      "0.02431352463258913\n",
      "..\\models\\model_ml1mDiv80_positive_128_1_50000.pkl\n",
      "..\\models\\dictionary_ml1mDiv80_positive_128_1_50000.pkl\n",
      "..\\models\\rev_dict_ml1mDiv80_positive_128_1_50000.pkl\n",
      "0.02210008213735328\n",
      "..\\models\\model_ml1mDiv80_positive_32_5_50000.pkl\n",
      "..\\models\\dictionary_ml1mDiv80_positive_32_5_50000.pkl\n",
      "..\\models\\rev_dict_ml1mDiv80_positive_32_5_50000.pkl\n",
      "0.01709011339110572\n",
      "..\\models\\model_ml1mDiv80_positive_32_3_50000.pkl\n",
      "..\\models\\dictionary_ml1mDiv80_positive_32_3_50000.pkl\n",
      "..\\models\\rev_dict_ml1mDiv80_positive_32_3_50000.pkl\n",
      "0.016766260218531007\n",
      "..\\models\\model_ml1mDiv80_positive_32_1_50000.pkl\n",
      "..\\models\\dictionary_ml1mDiv80_positive_32_1_50000.pkl\n",
      "..\\models\\rev_dict_ml1mDiv80_positive_32_1_50000.pkl\n",
      "0.016704447496784073\n",
      "..\\models\\model_ml1mDiv80_positive_64_5_50000.pkl\n",
      "..\\models\\dictionary_ml1mDiv80_positive_64_5_50000.pkl\n",
      "..\\models\\rev_dict_ml1mDiv80_positive_64_5_50000.pkl\n",
      "0.01745702334700776\n",
      "..\\models\\model_ml1mDiv80_positive_64_3_50000.pkl\n",
      "..\\models\\dictionary_ml1mDiv80_positive_64_3_50000.pkl\n",
      "..\\models\\rev_dict_ml1mDiv80_positive_64_3_50000.pkl\n",
      "0.018189825882668775\n",
      "..\\models\\model_ml1mDiv80_positive_64_1_50000.pkl\n",
      "..\\models\\dictionary_ml1mDiv80_positive_64_1_50000.pkl\n",
      "..\\models\\rev_dict_ml1mDiv80_positive_64_1_50000.pkl\n",
      "0.015823081604749944\n",
      "..\\models\\model_ml1mDiv80_positive_128_5_50000.pkl\n",
      "..\\models\\dictionary_ml1mDiv80_positive_128_5_50000.pkl\n",
      "..\\models\\rev_dict_ml1mDiv80_positive_128_5_50000.pkl\n",
      "0.016770659727740955\n",
      "..\\models\\model_ml1mDiv80_positive_128_3_50000.pkl\n",
      "..\\models\\dictionary_ml1mDiv80_positive_128_3_50000.pkl\n",
      "..\\models\\rev_dict_ml1mDiv80_positive_128_3_50000.pkl\n",
      "0.019116945626738865\n",
      "..\\models\\model_ml1mDiv80_positive_128_1_50000.pkl\n",
      "..\\models\\dictionary_ml1mDiv80_positive_128_1_50000.pkl\n",
      "..\\models\\rev_dict_ml1mDiv80_positive_128_1_50000.pkl\n",
      "0.016706675364837942\n",
      "..\\models\\model_ml1mDiv80_positive_32_5_50000.pkl\n",
      "..\\models\\dictionary_ml1mDiv80_positive_32_5_50000.pkl\n",
      "..\\models\\rev_dict_ml1mDiv80_positive_32_5_50000.pkl\n",
      "0.02130398052250415\n",
      "..\\models\\model_ml1mDiv80_positive_32_3_50000.pkl\n",
      "..\\models\\dictionary_ml1mDiv80_positive_32_3_50000.pkl\n",
      "..\\models\\rev_dict_ml1mDiv80_positive_32_3_50000.pkl\n",
      "0.024189742469986435\n",
      "..\\models\\model_ml1mDiv80_positive_32_1_50000.pkl\n",
      "..\\models\\dictionary_ml1mDiv80_positive_32_1_50000.pkl\n",
      "..\\models\\rev_dict_ml1mDiv80_positive_32_1_50000.pkl\n",
      "0.022372386679083974\n",
      "..\\models\\model_ml1mDiv80_positive_64_5_50000.pkl\n",
      "..\\models\\dictionary_ml1mDiv80_positive_64_5_50000.pkl\n",
      "..\\models\\rev_dict_ml1mDiv80_positive_64_5_50000.pkl\n",
      "0.024278562687777977\n",
      "..\\models\\model_ml1mDiv80_positive_64_3_50000.pkl\n",
      "..\\models\\dictionary_ml1mDiv80_positive_64_3_50000.pkl\n",
      "..\\models\\rev_dict_ml1mDiv80_positive_64_3_50000.pkl\n",
      "0.024100466597140307\n",
      "..\\models\\model_ml1mDiv80_positive_64_1_50000.pkl\n",
      "..\\models\\dictionary_ml1mDiv80_positive_64_1_50000.pkl\n",
      "..\\models\\rev_dict_ml1mDiv80_positive_64_1_50000.pkl\n",
      "0.021988001365166165\n",
      "..\\models\\model_ml1mDiv80_positive_128_5_50000.pkl\n",
      "..\\models\\dictionary_ml1mDiv80_positive_128_5_50000.pkl\n",
      "..\\models\\rev_dict_ml1mDiv80_positive_128_5_50000.pkl\n",
      "0.021322991398348506\n",
      "..\\models\\model_ml1mDiv80_positive_128_3_50000.pkl\n",
      "..\\models\\dictionary_ml1mDiv80_positive_128_3_50000.pkl\n",
      "..\\models\\rev_dict_ml1mDiv80_positive_128_3_50000.pkl\n",
      "0.023508967599618395\n",
      "..\\models\\model_ml1mDiv80_positive_128_1_50000.pkl\n",
      "..\\models\\dictionary_ml1mDiv80_positive_128_1_50000.pkl\n",
      "..\\models\\rev_dict_ml1mDiv80_positive_128_1_50000.pkl\n",
      "0.02175957491882865\n",
      "..\\models\\model_ml1mDiv80_positive_32_5_100000.pkl\n",
      "..\\models\\dictionary_ml1mDiv80_positive_32_5_100000.pkl\n",
      "..\\models\\rev_dict_ml1mDiv80_positive_32_5_100000.pkl\n",
      "0.024118753806612082\n",
      "..\\models\\model_ml1mDiv80_positive_32_3_100000.pkl\n",
      "..\\models\\dictionary_ml1mDiv80_positive_32_3_100000.pkl\n",
      "..\\models\\rev_dict_ml1mDiv80_positive_32_3_100000.pkl\n",
      "0.025944058166332305\n",
      "..\\models\\model_ml1mDiv80_positive_32_1_100000.pkl\n",
      "..\\models\\dictionary_ml1mDiv80_positive_32_1_100000.pkl\n",
      "..\\models\\rev_dict_ml1mDiv80_positive_32_1_100000.pkl\n",
      "0.020472790705135236\n",
      "..\\models\\model_ml1mDiv80_positive_64_5_100000.pkl\n",
      "..\\models\\dictionary_ml1mDiv80_positive_64_5_100000.pkl\n",
      "..\\models\\rev_dict_ml1mDiv80_positive_64_5_100000.pkl\n",
      "0.02456149714169376\n",
      "..\\models\\model_ml1mDiv80_positive_64_3_100000.pkl\n",
      "..\\models\\dictionary_ml1mDiv80_positive_64_3_100000.pkl\n",
      "..\\models\\rev_dict_ml1mDiv80_positive_64_3_100000.pkl\n",
      "0.024118660167013577\n",
      "..\\models\\model_ml1mDiv80_positive_64_1_100000.pkl\n",
      "..\\models\\dictionary_ml1mDiv80_positive_64_1_100000.pkl\n",
      "..\\models\\rev_dict_ml1mDiv80_positive_64_1_100000.pkl\n",
      "0.020347372702745038\n",
      "..\\models\\model_ml1mDiv80_positive_128_5_100000.pkl\n",
      "..\\models\\dictionary_ml1mDiv80_positive_128_5_100000.pkl\n",
      "..\\models\\rev_dict_ml1mDiv80_positive_128_5_100000.pkl\n",
      "0.023562662601189242\n",
      "..\\models\\model_ml1mDiv80_positive_128_3_100000.pkl\n",
      "..\\models\\dictionary_ml1mDiv80_positive_128_3_100000.pkl\n",
      "..\\models\\rev_dict_ml1mDiv80_positive_128_3_100000.pkl\n",
      "0.026379506080744027\n",
      "..\\models\\model_ml1mDiv80_positive_128_1_100000.pkl\n",
      "..\\models\\dictionary_ml1mDiv80_positive_128_1_100000.pkl\n",
      "..\\models\\rev_dict_ml1mDiv80_positive_128_1_100000.pkl\n",
      "0.02081779715758193\n",
      "..\\models\\model_ml1mDiv80_positive_32_5_100000.pkl\n",
      "..\\models\\dictionary_ml1mDiv80_positive_32_5_100000.pkl\n",
      "..\\models\\rev_dict_ml1mDiv80_positive_32_5_100000.pkl\n",
      "0.011799919747973075\n",
      "..\\models\\model_ml1mDiv80_positive_32_3_100000.pkl\n",
      "..\\models\\dictionary_ml1mDiv80_positive_32_3_100000.pkl\n",
      "..\\models\\rev_dict_ml1mDiv80_positive_32_3_100000.pkl\n",
      "0.012074968613121621\n",
      "..\\models\\model_ml1mDiv80_positive_32_1_100000.pkl\n",
      "..\\models\\dictionary_ml1mDiv80_positive_32_1_100000.pkl\n",
      "..\\models\\rev_dict_ml1mDiv80_positive_32_1_100000.pkl\n",
      "0.01104835458181477\n",
      "..\\models\\model_ml1mDiv80_positive_64_5_100000.pkl\n",
      "..\\models\\dictionary_ml1mDiv80_positive_64_5_100000.pkl\n",
      "..\\models\\rev_dict_ml1mDiv80_positive_64_5_100000.pkl\n",
      "0.011497912979523165\n",
      "..\\models\\model_ml1mDiv80_positive_64_3_100000.pkl\n",
      "..\\models\\dictionary_ml1mDiv80_positive_64_3_100000.pkl\n",
      "..\\models\\rev_dict_ml1mDiv80_positive_64_3_100000.pkl\n",
      "0.011355278194186786\n",
      "..\\models\\model_ml1mDiv80_positive_64_1_100000.pkl\n",
      "..\\models\\dictionary_ml1mDiv80_positive_64_1_100000.pkl\n",
      "..\\models\\rev_dict_ml1mDiv80_positive_64_1_100000.pkl\n",
      "0.010844133852110955\n",
      "..\\models\\model_ml1mDiv80_positive_128_5_100000.pkl\n",
      "..\\models\\dictionary_ml1mDiv80_positive_128_5_100000.pkl\n",
      "..\\models\\rev_dict_ml1mDiv80_positive_128_5_100000.pkl\n",
      "0.011403540834124986\n",
      "..\\models\\model_ml1mDiv80_positive_128_3_100000.pkl\n",
      "..\\models\\dictionary_ml1mDiv80_positive_128_3_100000.pkl\n",
      "..\\models\\rev_dict_ml1mDiv80_positive_128_3_100000.pkl\n",
      "0.011085316893920123\n",
      "..\\models\\model_ml1mDiv80_positive_128_1_100000.pkl\n",
      "..\\models\\dictionary_ml1mDiv80_positive_128_1_100000.pkl\n",
      "..\\models\\rev_dict_ml1mDiv80_positive_128_1_100000.pkl\n",
      "0.010914805879374354\n",
      "..\\models\\model_ml1mDiv80_positive_32_5_100000.pkl\n",
      "..\\models\\dictionary_ml1mDiv80_positive_32_5_100000.pkl\n",
      "..\\models\\rev_dict_ml1mDiv80_positive_32_5_100000.pkl\n",
      "0.023999145839340253\n",
      "..\\models\\model_ml1mDiv80_positive_32_3_100000.pkl\n",
      "..\\models\\dictionary_ml1mDiv80_positive_32_3_100000.pkl\n",
      "..\\models\\rev_dict_ml1mDiv80_positive_32_3_100000.pkl\n",
      "0.025781377068339537\n",
      "..\\models\\model_ml1mDiv80_positive_32_1_100000.pkl\n",
      "..\\models\\dictionary_ml1mDiv80_positive_32_1_100000.pkl\n",
      "..\\models\\rev_dict_ml1mDiv80_positive_32_1_100000.pkl\n",
      "0.01991344034969024\n",
      "..\\models\\model_ml1mDiv80_positive_64_5_100000.pkl\n",
      "..\\models\\dictionary_ml1mDiv80_positive_64_5_100000.pkl\n",
      "..\\models\\rev_dict_ml1mDiv80_positive_64_5_100000.pkl\n",
      "0.024696923600393307\n",
      "..\\models\\model_ml1mDiv80_positive_64_3_100000.pkl\n",
      "..\\models\\dictionary_ml1mDiv80_positive_64_3_100000.pkl\n",
      "..\\models\\rev_dict_ml1mDiv80_positive_64_3_100000.pkl\n",
      "0.023719769007952737\n",
      "..\\models\\model_ml1mDiv80_positive_64_1_100000.pkl\n",
      "..\\models\\dictionary_ml1mDiv80_positive_64_1_100000.pkl\n",
      "..\\models\\rev_dict_ml1mDiv80_positive_64_1_100000.pkl\n",
      "0.019660241894258915\n",
      "..\\models\\model_ml1mDiv80_positive_128_5_100000.pkl\n",
      "..\\models\\dictionary_ml1mDiv80_positive_128_5_100000.pkl\n",
      "..\\models\\rev_dict_ml1mDiv80_positive_128_5_100000.pkl\n",
      "0.02334551848888339\n",
      "..\\models\\model_ml1mDiv80_positive_128_3_100000.pkl\n",
      "..\\models\\dictionary_ml1mDiv80_positive_128_3_100000.pkl\n",
      "..\\models\\rev_dict_ml1mDiv80_positive_128_3_100000.pkl\n",
      "0.026443087553788228\n",
      "..\\models\\model_ml1mDiv80_positive_128_1_100000.pkl\n",
      "..\\models\\dictionary_ml1mDiv80_positive_128_1_100000.pkl\n",
      "..\\models\\rev_dict_ml1mDiv80_positive_128_1_100000.pkl\n",
      "0.020474074124730544\n",
      "..\\models\\model_ml1mDiv80_positive_32_5_100000.pkl\n",
      "..\\models\\dictionary_ml1mDiv80_positive_32_5_100000.pkl\n",
      "..\\models\\rev_dict_ml1mDiv80_positive_32_5_100000.pkl\n",
      "0.01958226085031253\n",
      "..\\models\\model_ml1mDiv80_positive_32_3_100000.pkl\n",
      "..\\models\\dictionary_ml1mDiv80_positive_32_3_100000.pkl\n",
      "..\\models\\rev_dict_ml1mDiv80_positive_32_3_100000.pkl\n",
      "0.019638714374648474\n",
      "..\\models\\model_ml1mDiv80_positive_32_1_100000.pkl\n",
      "..\\models\\dictionary_ml1mDiv80_positive_32_1_100000.pkl\n",
      "..\\models\\rev_dict_ml1mDiv80_positive_32_1_100000.pkl\n",
      "0.017915633622680942\n",
      "..\\models\\model_ml1mDiv80_positive_64_5_100000.pkl\n",
      "..\\models\\dictionary_ml1mDiv80_positive_64_5_100000.pkl\n",
      "..\\models\\rev_dict_ml1mDiv80_positive_64_5_100000.pkl\n",
      "0.017897167681321668\n",
      "..\\models\\model_ml1mDiv80_positive_64_3_100000.pkl\n",
      "..\\models\\dictionary_ml1mDiv80_positive_64_3_100000.pkl\n",
      "..\\models\\rev_dict_ml1mDiv80_positive_64_3_100000.pkl\n",
      "0.017327952602376823\n",
      "..\\models\\model_ml1mDiv80_positive_64_1_100000.pkl\n",
      "..\\models\\dictionary_ml1mDiv80_positive_64_1_100000.pkl\n",
      "..\\models\\rev_dict_ml1mDiv80_positive_64_1_100000.pkl\n",
      "0.0168171870187528\n",
      "..\\models\\model_ml1mDiv80_positive_128_5_100000.pkl\n",
      "..\\models\\dictionary_ml1mDiv80_positive_128_5_100000.pkl\n",
      "..\\models\\rev_dict_ml1mDiv80_positive_128_5_100000.pkl\n",
      "0.018104140455229772\n",
      "..\\models\\model_ml1mDiv80_positive_128_3_100000.pkl\n",
      "..\\models\\dictionary_ml1mDiv80_positive_128_3_100000.pkl\n",
      "..\\models\\rev_dict_ml1mDiv80_positive_128_3_100000.pkl\n",
      "0.016772362928140588\n",
      "..\\models\\model_ml1mDiv80_positive_128_1_100000.pkl\n",
      "..\\models\\dictionary_ml1mDiv80_positive_128_1_100000.pkl\n",
      "..\\models\\rev_dict_ml1mDiv80_positive_128_1_100000.pkl\n",
      "0.018071935614768185\n",
      "..\\models\\model_ml1mDiv80_positive_32_5_100000.pkl\n",
      "..\\models\\dictionary_ml1mDiv80_positive_32_5_100000.pkl\n",
      "..\\models\\rev_dict_ml1mDiv80_positive_32_5_100000.pkl\n",
      "0.01958226085031253\n",
      "..\\models\\model_ml1mDiv80_positive_32_3_100000.pkl\n",
      "..\\models\\dictionary_ml1mDiv80_positive_32_3_100000.pkl\n",
      "..\\models\\rev_dict_ml1mDiv80_positive_32_3_100000.pkl\n",
      "0.019638714374648474\n",
      "..\\models\\model_ml1mDiv80_positive_32_1_100000.pkl\n",
      "..\\models\\dictionary_ml1mDiv80_positive_32_1_100000.pkl\n",
      "..\\models\\rev_dict_ml1mDiv80_positive_32_1_100000.pkl\n",
      "0.017915633622680942\n",
      "..\\models\\model_ml1mDiv80_positive_64_5_100000.pkl\n",
      "..\\models\\dictionary_ml1mDiv80_positive_64_5_100000.pkl\n",
      "..\\models\\rev_dict_ml1mDiv80_positive_64_5_100000.pkl\n",
      "0.017897167681321668\n",
      "..\\models\\model_ml1mDiv80_positive_64_3_100000.pkl\n",
      "..\\models\\dictionary_ml1mDiv80_positive_64_3_100000.pkl\n",
      "..\\models\\rev_dict_ml1mDiv80_positive_64_3_100000.pkl\n",
      "0.017327952602376823\n",
      "..\\models\\model_ml1mDiv80_positive_64_1_100000.pkl\n",
      "..\\models\\dictionary_ml1mDiv80_positive_64_1_100000.pkl\n",
      "..\\models\\rev_dict_ml1mDiv80_positive_64_1_100000.pkl\n",
      "0.0168171870187528\n",
      "..\\models\\model_ml1mDiv80_positive_128_5_100000.pkl\n",
      "..\\models\\dictionary_ml1mDiv80_positive_128_5_100000.pkl\n",
      "..\\models\\rev_dict_ml1mDiv80_positive_128_5_100000.pkl\n",
      "0.018104140455229772\n",
      "..\\models\\model_ml1mDiv80_positive_128_3_100000.pkl\n",
      "..\\models\\dictionary_ml1mDiv80_positive_128_3_100000.pkl\n",
      "..\\models\\rev_dict_ml1mDiv80_positive_128_3_100000.pkl\n",
      "0.016772362928140588\n",
      "..\\models\\model_ml1mDiv80_positive_128_1_100000.pkl\n",
      "..\\models\\dictionary_ml1mDiv80_positive_128_1_100000.pkl\n",
      "..\\models\\rev_dict_ml1mDiv80_positive_128_1_100000.pkl\n",
      "0.018071935614768185\n",
      "..\\models\\model_ml1mDiv80_positive_32_5_100000.pkl\n",
      "..\\models\\dictionary_ml1mDiv80_positive_32_5_100000.pkl\n",
      "..\\models\\rev_dict_ml1mDiv80_positive_32_5_100000.pkl\n",
      "0.01958226085031253\n",
      "..\\models\\model_ml1mDiv80_positive_32_3_100000.pkl\n",
      "..\\models\\dictionary_ml1mDiv80_positive_32_3_100000.pkl\n",
      "..\\models\\rev_dict_ml1mDiv80_positive_32_3_100000.pkl\n",
      "0.019638714374648474\n",
      "..\\models\\model_ml1mDiv80_positive_32_1_100000.pkl\n",
      "..\\models\\dictionary_ml1mDiv80_positive_32_1_100000.pkl\n",
      "..\\models\\rev_dict_ml1mDiv80_positive_32_1_100000.pkl\n",
      "0.017915633622680942\n",
      "..\\models\\model_ml1mDiv80_positive_64_5_100000.pkl\n",
      "..\\models\\dictionary_ml1mDiv80_positive_64_5_100000.pkl\n",
      "..\\models\\rev_dict_ml1mDiv80_positive_64_5_100000.pkl\n",
      "0.017897167681321668\n",
      "..\\models\\model_ml1mDiv80_positive_64_3_100000.pkl\n",
      "..\\models\\dictionary_ml1mDiv80_positive_64_3_100000.pkl\n",
      "..\\models\\rev_dict_ml1mDiv80_positive_64_3_100000.pkl\n",
      "0.017327952602376823\n",
      "..\\models\\model_ml1mDiv80_positive_64_1_100000.pkl\n",
      "..\\models\\dictionary_ml1mDiv80_positive_64_1_100000.pkl\n",
      "..\\models\\rev_dict_ml1mDiv80_positive_64_1_100000.pkl\n",
      "0.0168171870187528\n",
      "..\\models\\model_ml1mDiv80_positive_128_5_100000.pkl\n",
      "..\\models\\dictionary_ml1mDiv80_positive_128_5_100000.pkl\n",
      "..\\models\\rev_dict_ml1mDiv80_positive_128_5_100000.pkl\n",
      "0.018104140455229772\n",
      "..\\models\\model_ml1mDiv80_positive_128_3_100000.pkl\n",
      "..\\models\\dictionary_ml1mDiv80_positive_128_3_100000.pkl\n",
      "..\\models\\rev_dict_ml1mDiv80_positive_128_3_100000.pkl\n",
      "0.016772362928140588\n",
      "..\\models\\model_ml1mDiv80_positive_128_1_100000.pkl\n",
      "..\\models\\dictionary_ml1mDiv80_positive_128_1_100000.pkl\n",
      "..\\models\\rev_dict_ml1mDiv80_positive_128_1_100000.pkl\n",
      "0.018071935614768185\n",
      "..\\models\\model_ml1mDiv80_positive_32_5_100000.pkl\n",
      "..\\models\\dictionary_ml1mDiv80_positive_32_5_100000.pkl\n",
      "..\\models\\rev_dict_ml1mDiv80_positive_32_5_100000.pkl\n",
      "0.019405318424028786\n",
      "..\\models\\model_ml1mDiv80_positive_32_3_100000.pkl\n",
      "..\\models\\dictionary_ml1mDiv80_positive_32_3_100000.pkl\n",
      "..\\models\\rev_dict_ml1mDiv80_positive_32_3_100000.pkl\n",
      "0.018811232699878645\n",
      "..\\models\\model_ml1mDiv80_positive_32_1_100000.pkl\n",
      "..\\models\\dictionary_ml1mDiv80_positive_32_1_100000.pkl\n",
      "..\\models\\rev_dict_ml1mDiv80_positive_32_1_100000.pkl\n",
      "0.018183239614003224\n",
      "..\\models\\model_ml1mDiv80_positive_64_5_100000.pkl\n",
      "..\\models\\dictionary_ml1mDiv80_positive_64_5_100000.pkl\n",
      "..\\models\\rev_dict_ml1mDiv80_positive_64_5_100000.pkl\n",
      "0.018985269586469573\n",
      "..\\models\\model_ml1mDiv80_positive_64_3_100000.pkl\n",
      "..\\models\\dictionary_ml1mDiv80_positive_64_3_100000.pkl\n",
      "..\\models\\rev_dict_ml1mDiv80_positive_64_3_100000.pkl\n",
      "0.017326115320402704\n",
      "..\\models\\model_ml1mDiv80_positive_64_1_100000.pkl\n",
      "..\\models\\dictionary_ml1mDiv80_positive_64_1_100000.pkl\n",
      "..\\models\\rev_dict_ml1mDiv80_positive_64_1_100000.pkl\n",
      "0.017571421146802605\n",
      "..\\models\\model_ml1mDiv80_positive_128_5_100000.pkl\n",
      "..\\models\\dictionary_ml1mDiv80_positive_128_5_100000.pkl\n",
      "..\\models\\rev_dict_ml1mDiv80_positive_128_5_100000.pkl\n",
      "0.017231995374185287\n",
      "..\\models\\model_ml1mDiv80_positive_128_3_100000.pkl\n",
      "..\\models\\dictionary_ml1mDiv80_positive_128_3_100000.pkl\n",
      "..\\models\\rev_dict_ml1mDiv80_positive_128_3_100000.pkl\n",
      "0.017438723247879657\n",
      "..\\models\\model_ml1mDiv80_positive_128_1_100000.pkl\n",
      "..\\models\\dictionary_ml1mDiv80_positive_128_1_100000.pkl\n",
      "..\\models\\rev_dict_ml1mDiv80_positive_128_1_100000.pkl\n",
      "0.01907189785832671\n",
      "..\\models\\model_ml1mDiv80_positive_32_5_100000.pkl\n",
      "..\\models\\dictionary_ml1mDiv80_positive_32_5_100000.pkl\n",
      "..\\models\\rev_dict_ml1mDiv80_positive_32_5_100000.pkl\n",
      "0.019065383275910924\n",
      "..\\models\\model_ml1mDiv80_positive_32_3_100000.pkl\n",
      "..\\models\\dictionary_ml1mDiv80_positive_32_3_100000.pkl\n",
      "..\\models\\rev_dict_ml1mDiv80_positive_32_3_100000.pkl\n",
      "0.019559071474038733\n",
      "..\\models\\model_ml1mDiv80_positive_32_1_100000.pkl\n",
      "..\\models\\dictionary_ml1mDiv80_positive_32_1_100000.pkl\n",
      "..\\models\\rev_dict_ml1mDiv80_positive_32_1_100000.pkl\n",
      "0.017556980107431522\n",
      "..\\models\\model_ml1mDiv80_positive_64_5_100000.pkl\n",
      "..\\models\\dictionary_ml1mDiv80_positive_64_5_100000.pkl\n",
      "..\\models\\rev_dict_ml1mDiv80_positive_64_5_100000.pkl\n",
      "0.017789376919532845\n",
      "..\\models\\model_ml1mDiv80_positive_64_3_100000.pkl\n",
      "..\\models\\dictionary_ml1mDiv80_positive_64_3_100000.pkl\n",
      "..\\models\\rev_dict_ml1mDiv80_positive_64_3_100000.pkl\n",
      "0.016458651705157323\n",
      "..\\models\\model_ml1mDiv80_positive_64_1_100000.pkl\n",
      "..\\models\\dictionary_ml1mDiv80_positive_64_1_100000.pkl\n",
      "..\\models\\rev_dict_ml1mDiv80_positive_64_1_100000.pkl\n",
      "0.015747248828756912\n",
      "..\\models\\model_ml1mDiv80_positive_128_5_100000.pkl\n",
      "..\\models\\dictionary_ml1mDiv80_positive_128_5_100000.pkl\n",
      "..\\models\\rev_dict_ml1mDiv80_positive_128_5_100000.pkl\n",
      "0.016835349070616828\n",
      "..\\models\\model_ml1mDiv80_positive_128_3_100000.pkl\n",
      "..\\models\\dictionary_ml1mDiv80_positive_128_3_100000.pkl\n",
      "..\\models\\rev_dict_ml1mDiv80_positive_128_3_100000.pkl\n",
      "0.01700071930989348\n",
      "..\\models\\model_ml1mDiv80_positive_128_1_100000.pkl\n",
      "..\\models\\dictionary_ml1mDiv80_positive_128_1_100000.pkl\n",
      "..\\models\\rev_dict_ml1mDiv80_positive_128_1_100000.pkl\n",
      "0.01660299963816469\n",
      "..\\models\\model_ml1mDiv80_positive_32_5_100000.pkl\n",
      "..\\models\\dictionary_ml1mDiv80_positive_32_5_100000.pkl\n",
      "..\\models\\rev_dict_ml1mDiv80_positive_32_5_100000.pkl\n",
      "0.01959415541255881\n",
      "..\\models\\model_ml1mDiv80_positive_32_3_100000.pkl\n",
      "..\\models\\dictionary_ml1mDiv80_positive_32_3_100000.pkl\n",
      "..\\models\\rev_dict_ml1mDiv80_positive_32_3_100000.pkl\n",
      "0.02033968030622121\n",
      "..\\models\\model_ml1mDiv80_positive_32_1_100000.pkl\n",
      "..\\models\\dictionary_ml1mDiv80_positive_32_1_100000.pkl\n",
      "..\\models\\rev_dict_ml1mDiv80_positive_32_1_100000.pkl\n",
      "0.01832716812443705\n",
      "..\\models\\model_ml1mDiv80_positive_64_5_100000.pkl\n",
      "..\\models\\dictionary_ml1mDiv80_positive_64_5_100000.pkl\n",
      "..\\models\\rev_dict_ml1mDiv80_positive_64_5_100000.pkl\n",
      "0.019497564227547257\n",
      "..\\models\\model_ml1mDiv80_positive_64_3_100000.pkl\n",
      "..\\models\\dictionary_ml1mDiv80_positive_64_3_100000.pkl\n",
      "..\\models\\rev_dict_ml1mDiv80_positive_64_3_100000.pkl\n",
      "0.01745191790870517\n",
      "..\\models\\model_ml1mDiv80_positive_64_1_100000.pkl\n",
      "..\\models\\dictionary_ml1mDiv80_positive_64_1_100000.pkl\n",
      "..\\models\\rev_dict_ml1mDiv80_positive_64_1_100000.pkl\n",
      "0.017610460681612178\n",
      "..\\models\\model_ml1mDiv80_positive_128_5_100000.pkl\n",
      "..\\models\\dictionary_ml1mDiv80_positive_128_5_100000.pkl\n",
      "..\\models\\rev_dict_ml1mDiv80_positive_128_5_100000.pkl\n",
      "0.016757524923063177\n",
      "..\\models\\model_ml1mDiv80_positive_128_3_100000.pkl\n",
      "..\\models\\dictionary_ml1mDiv80_positive_128_3_100000.pkl\n",
      "..\\models\\rev_dict_ml1mDiv80_positive_128_3_100000.pkl\n",
      "0.01730569845329336\n",
      "..\\models\\model_ml1mDiv80_positive_128_1_100000.pkl\n",
      "..\\models\\dictionary_ml1mDiv80_positive_128_1_100000.pkl\n",
      "..\\models\\rev_dict_ml1mDiv80_positive_128_1_100000.pkl\n",
      "0.018090506877078843\n",
      "..\\models\\model_ml1mDiv80_positive_32_5_100000.pkl\n",
      "..\\models\\dictionary_ml1mDiv80_positive_32_5_100000.pkl\n",
      "..\\models\\rev_dict_ml1mDiv80_positive_32_5_100000.pkl\n",
      "0.020998565112596616\n",
      "..\\models\\model_ml1mDiv80_positive_32_3_100000.pkl\n",
      "..\\models\\dictionary_ml1mDiv80_positive_32_3_100000.pkl\n",
      "..\\models\\rev_dict_ml1mDiv80_positive_32_3_100000.pkl\n",
      "0.021964181093285778\n",
      "..\\models\\model_ml1mDiv80_positive_32_1_100000.pkl\n",
      "..\\models\\dictionary_ml1mDiv80_positive_32_1_100000.pkl\n",
      "..\\models\\rev_dict_ml1mDiv80_positive_32_1_100000.pkl\n",
      "0.018763644192054525\n",
      "..\\models\\model_ml1mDiv80_positive_64_5_100000.pkl\n",
      "..\\models\\dictionary_ml1mDiv80_positive_64_5_100000.pkl\n",
      "..\\models\\rev_dict_ml1mDiv80_positive_64_5_100000.pkl\n",
      "0.021522160690711976\n",
      "..\\models\\model_ml1mDiv80_positive_64_3_100000.pkl\n",
      "..\\models\\dictionary_ml1mDiv80_positive_64_3_100000.pkl\n",
      "..\\models\\rev_dict_ml1mDiv80_positive_64_3_100000.pkl\n",
      "0.018012928873499614\n",
      "..\\models\\model_ml1mDiv80_positive_64_1_100000.pkl\n",
      "..\\models\\dictionary_ml1mDiv80_positive_64_1_100000.pkl\n",
      "..\\models\\rev_dict_ml1mDiv80_positive_64_1_100000.pkl\n",
      "0.017258212158080946\n",
      "..\\models\\model_ml1mDiv80_positive_128_5_100000.pkl\n",
      "..\\models\\dictionary_ml1mDiv80_positive_128_5_100000.pkl\n",
      "..\\models\\rev_dict_ml1mDiv80_positive_128_5_100000.pkl\n",
      "0.01757887102337733\n",
      "..\\models\\model_ml1mDiv80_positive_128_3_100000.pkl\n",
      "..\\models\\dictionary_ml1mDiv80_positive_128_3_100000.pkl\n",
      "..\\models\\rev_dict_ml1mDiv80_positive_128_3_100000.pkl\n",
      "0.017446729221395497\n",
      "..\\models\\model_ml1mDiv80_positive_128_1_100000.pkl\n",
      "..\\models\\dictionary_ml1mDiv80_positive_128_1_100000.pkl\n",
      "..\\models\\rev_dict_ml1mDiv80_positive_128_1_100000.pkl\n",
      "0.01781626583025109\n",
      "..\\models\\model_ml1mDiv80_positive_32_5_100000.pkl\n",
      "..\\models\\dictionary_ml1mDiv80_positive_32_5_100000.pkl\n",
      "..\\models\\rev_dict_ml1mDiv80_positive_32_5_100000.pkl\n",
      "0.017960947651718885\n",
      "..\\models\\model_ml1mDiv80_positive_32_3_100000.pkl\n",
      "..\\models\\dictionary_ml1mDiv80_positive_32_3_100000.pkl\n",
      "..\\models\\rev_dict_ml1mDiv80_positive_32_3_100000.pkl\n",
      "0.019551643359773784\n",
      "..\\models\\model_ml1mDiv80_positive_32_1_100000.pkl\n",
      "..\\models\\dictionary_ml1mDiv80_positive_32_1_100000.pkl\n",
      "..\\models\\rev_dict_ml1mDiv80_positive_32_1_100000.pkl\n",
      "0.016723320389272073\n",
      "..\\models\\model_ml1mDiv80_positive_64_5_100000.pkl\n",
      "..\\models\\dictionary_ml1mDiv80_positive_64_5_100000.pkl\n",
      "..\\models\\rev_dict_ml1mDiv80_positive_64_5_100000.pkl\n",
      "0.01724191543796441\n",
      "..\\models\\model_ml1mDiv80_positive_64_3_100000.pkl\n",
      "..\\models\\dictionary_ml1mDiv80_positive_64_3_100000.pkl\n",
      "..\\models\\rev_dict_ml1mDiv80_positive_64_3_100000.pkl\n",
      "0.01596488211469429\n",
      "..\\models\\model_ml1mDiv80_positive_64_1_100000.pkl\n",
      "..\\models\\dictionary_ml1mDiv80_positive_64_1_100000.pkl\n",
      "..\\models\\rev_dict_ml1mDiv80_positive_64_1_100000.pkl\n",
      "0.015379051901605722\n",
      "..\\models\\model_ml1mDiv80_positive_128_5_100000.pkl\n",
      "..\\models\\dictionary_ml1mDiv80_positive_128_5_100000.pkl\n",
      "..\\models\\rev_dict_ml1mDiv80_positive_128_5_100000.pkl\n",
      "0.016487616333261793\n",
      "..\\models\\model_ml1mDiv80_positive_128_3_100000.pkl\n",
      "..\\models\\dictionary_ml1mDiv80_positive_128_3_100000.pkl\n",
      "..\\models\\rev_dict_ml1mDiv80_positive_128_3_100000.pkl\n",
      "0.016551729560521627\n",
      "..\\models\\model_ml1mDiv80_positive_128_1_100000.pkl\n",
      "..\\models\\dictionary_ml1mDiv80_positive_128_1_100000.pkl\n",
      "..\\models\\rev_dict_ml1mDiv80_positive_128_1_100000.pkl\n",
      "0.0164986633067084\n",
      "..\\models\\model_ml1mDiv80_positive_32_5_100000.pkl\n",
      "..\\models\\dictionary_ml1mDiv80_positive_32_5_100000.pkl\n",
      "..\\models\\rev_dict_ml1mDiv80_positive_32_5_100000.pkl\n",
      "0.02016641108861924\n",
      "..\\models\\model_ml1mDiv80_positive_32_3_100000.pkl\n",
      "..\\models\\dictionary_ml1mDiv80_positive_32_3_100000.pkl\n",
      "..\\models\\rev_dict_ml1mDiv80_positive_32_3_100000.pkl\n",
      "0.02130211201821817\n",
      "..\\models\\model_ml1mDiv80_positive_32_1_100000.pkl\n",
      "..\\models\\dictionary_ml1mDiv80_positive_32_1_100000.pkl\n",
      "..\\models\\rev_dict_ml1mDiv80_positive_32_1_100000.pkl\n",
      "0.01901555363415564\n",
      "..\\models\\model_ml1mDiv80_positive_64_5_100000.pkl\n",
      "..\\models\\dictionary_ml1mDiv80_positive_64_5_100000.pkl\n",
      "..\\models\\rev_dict_ml1mDiv80_positive_64_5_100000.pkl\n",
      "0.021021295084026927\n",
      "..\\models\\model_ml1mDiv80_positive_64_3_100000.pkl\n",
      "..\\models\\dictionary_ml1mDiv80_positive_64_3_100000.pkl\n",
      "..\\models\\rev_dict_ml1mDiv80_positive_64_3_100000.pkl\n",
      "0.017585219477332353\n",
      "..\\models\\model_ml1mDiv80_positive_64_1_100000.pkl\n",
      "..\\models\\dictionary_ml1mDiv80_positive_64_1_100000.pkl\n",
      "..\\models\\rev_dict_ml1mDiv80_positive_64_1_100000.pkl\n",
      "0.017026227511863952\n",
      "..\\models\\model_ml1mDiv80_positive_128_5_100000.pkl\n",
      "..\\models\\dictionary_ml1mDiv80_positive_128_5_100000.pkl\n",
      "..\\models\\rev_dict_ml1mDiv80_positive_128_5_100000.pkl\n",
      "0.01688098021235772\n",
      "..\\models\\model_ml1mDiv80_positive_128_3_100000.pkl\n",
      "..\\models\\dictionary_ml1mDiv80_positive_128_3_100000.pkl\n",
      "..\\models\\rev_dict_ml1mDiv80_positive_128_3_100000.pkl\n",
      "0.017523488605495047\n",
      "..\\models\\model_ml1mDiv80_positive_128_1_100000.pkl\n",
      "..\\models\\dictionary_ml1mDiv80_positive_128_1_100000.pkl\n",
      "..\\models\\rev_dict_ml1mDiv80_positive_128_1_100000.pkl\n",
      "0.01822633059574458\n",
      "..\\models\\model_ml1mDiv80_positive_32_5_100000.pkl\n",
      "..\\models\\dictionary_ml1mDiv80_positive_32_5_100000.pkl\n",
      "..\\models\\rev_dict_ml1mDiv80_positive_32_5_100000.pkl\n",
      "0.02212804123404046\n",
      "..\\models\\model_ml1mDiv80_positive_32_3_100000.pkl\n",
      "..\\models\\dictionary_ml1mDiv80_positive_32_3_100000.pkl\n",
      "..\\models\\rev_dict_ml1mDiv80_positive_32_3_100000.pkl\n",
      "0.022342729646658305\n",
      "..\\models\\model_ml1mDiv80_positive_32_1_100000.pkl\n",
      "..\\models\\dictionary_ml1mDiv80_positive_32_1_100000.pkl\n",
      "..\\models\\rev_dict_ml1mDiv80_positive_32_1_100000.pkl\n",
      "0.02020538374550547\n",
      "..\\models\\model_ml1mDiv80_positive_64_5_100000.pkl\n",
      "..\\models\\dictionary_ml1mDiv80_positive_64_5_100000.pkl\n",
      "..\\models\\rev_dict_ml1mDiv80_positive_64_5_100000.pkl\n",
      "0.0225717380130601\n",
      "..\\models\\model_ml1mDiv80_positive_64_3_100000.pkl\n",
      "..\\models\\dictionary_ml1mDiv80_positive_64_3_100000.pkl\n",
      "..\\models\\rev_dict_ml1mDiv80_positive_64_3_100000.pkl\n",
      "0.018468546289588276\n",
      "..\\models\\model_ml1mDiv80_positive_64_1_100000.pkl\n",
      "..\\models\\dictionary_ml1mDiv80_positive_64_1_100000.pkl\n",
      "..\\models\\rev_dict_ml1mDiv80_positive_64_1_100000.pkl\n",
      "0.018040413060987224\n",
      "..\\models\\model_ml1mDiv80_positive_128_5_100000.pkl\n",
      "..\\models\\dictionary_ml1mDiv80_positive_128_5_100000.pkl\n",
      "..\\models\\rev_dict_ml1mDiv80_positive_128_5_100000.pkl\n",
      "0.01712201649445566\n",
      "..\\models\\model_ml1mDiv80_positive_128_3_100000.pkl\n",
      "..\\models\\dictionary_ml1mDiv80_positive_128_3_100000.pkl\n",
      "..\\models\\rev_dict_ml1mDiv80_positive_128_3_100000.pkl\n",
      "0.017212986521548537\n",
      "..\\models\\model_ml1mDiv80_positive_128_1_100000.pkl\n",
      "..\\models\\dictionary_ml1mDiv80_positive_128_1_100000.pkl\n",
      "..\\models\\rev_dict_ml1mDiv80_positive_128_1_100000.pkl\n",
      "0.017068233627948938\n",
      "..\\models\\model_ml1mDiv80_positive_32_5_100000.pkl\n",
      "..\\models\\dictionary_ml1mDiv80_positive_32_5_100000.pkl\n",
      "..\\models\\rev_dict_ml1mDiv80_positive_32_5_100000.pkl\n",
      "0.01639293316612779\n",
      "..\\models\\model_ml1mDiv80_positive_32_3_100000.pkl\n",
      "..\\models\\dictionary_ml1mDiv80_positive_32_3_100000.pkl\n",
      "..\\models\\rev_dict_ml1mDiv80_positive_32_3_100000.pkl\n",
      "0.01830791295852844\n",
      "..\\models\\model_ml1mDiv80_positive_32_1_100000.pkl\n",
      "..\\models\\dictionary_ml1mDiv80_positive_32_1_100000.pkl\n",
      "..\\models\\rev_dict_ml1mDiv80_positive_32_1_100000.pkl\n",
      "0.016120171026764323\n",
      "..\\models\\model_ml1mDiv80_positive_64_5_100000.pkl\n",
      "..\\models\\dictionary_ml1mDiv80_positive_64_5_100000.pkl\n",
      "..\\models\\rev_dict_ml1mDiv80_positive_64_5_100000.pkl\n",
      "0.016808771066966197\n",
      "..\\models\\model_ml1mDiv80_positive_64_3_100000.pkl\n",
      "..\\models\\dictionary_ml1mDiv80_positive_64_3_100000.pkl\n",
      "..\\models\\rev_dict_ml1mDiv80_positive_64_3_100000.pkl\n",
      "0.015415732282570507\n",
      "..\\models\\model_ml1mDiv80_positive_64_1_100000.pkl\n",
      "..\\models\\dictionary_ml1mDiv80_positive_64_1_100000.pkl\n",
      "..\\models\\rev_dict_ml1mDiv80_positive_64_1_100000.pkl\n",
      "0.014640872462980596\n",
      "..\\models\\model_ml1mDiv80_positive_128_5_100000.pkl\n",
      "..\\models\\dictionary_ml1mDiv80_positive_128_5_100000.pkl\n",
      "..\\models\\rev_dict_ml1mDiv80_positive_128_5_100000.pkl\n",
      "0.015703587259007643\n",
      "..\\models\\model_ml1mDiv80_positive_128_3_100000.pkl\n",
      "..\\models\\dictionary_ml1mDiv80_positive_128_3_100000.pkl\n",
      "..\\models\\rev_dict_ml1mDiv80_positive_128_3_100000.pkl\n",
      "0.015044090656752508\n",
      "..\\models\\model_ml1mDiv80_positive_128_1_100000.pkl\n",
      "..\\models\\dictionary_ml1mDiv80_positive_128_1_100000.pkl\n",
      "..\\models\\rev_dict_ml1mDiv80_positive_128_1_100000.pkl\n",
      "0.016160942156854232\n",
      "..\\models\\model_ml1mDiv80_positive_32_5_100000.pkl\n",
      "..\\models\\dictionary_ml1mDiv80_positive_32_5_100000.pkl\n",
      "..\\models\\rev_dict_ml1mDiv80_positive_32_5_100000.pkl\n",
      "0.02153152404160713\n",
      "..\\models\\model_ml1mDiv80_positive_32_3_100000.pkl\n",
      "..\\models\\dictionary_ml1mDiv80_positive_32_3_100000.pkl\n",
      "..\\models\\rev_dict_ml1mDiv80_positive_32_3_100000.pkl\n",
      "0.02226111636193872\n",
      "..\\models\\model_ml1mDiv80_positive_32_1_100000.pkl\n",
      "..\\models\\dictionary_ml1mDiv80_positive_32_1_100000.pkl\n",
      "..\\models\\rev_dict_ml1mDiv80_positive_32_1_100000.pkl\n",
      "0.019624526735052113\n",
      "..\\models\\model_ml1mDiv80_positive_64_5_100000.pkl\n",
      "..\\models\\dictionary_ml1mDiv80_positive_64_5_100000.pkl\n",
      "..\\models\\rev_dict_ml1mDiv80_positive_64_5_100000.pkl\n",
      "0.021528932097101654\n",
      "..\\models\\model_ml1mDiv80_positive_64_3_100000.pkl\n",
      "..\\models\\dictionary_ml1mDiv80_positive_64_3_100000.pkl\n",
      "..\\models\\rev_dict_ml1mDiv80_positive_64_3_100000.pkl\n",
      "0.017984118627624654\n",
      "..\\models\\model_ml1mDiv80_positive_64_1_100000.pkl\n",
      "..\\models\\dictionary_ml1mDiv80_positive_64_1_100000.pkl\n",
      "..\\models\\rev_dict_ml1mDiv80_positive_64_1_100000.pkl\n",
      "0.017651379248144427\n",
      "..\\models\\model_ml1mDiv80_positive_128_5_100000.pkl\n",
      "..\\models\\dictionary_ml1mDiv80_positive_128_5_100000.pkl\n",
      "..\\models\\rev_dict_ml1mDiv80_positive_128_5_100000.pkl\n",
      "0.017475288239521942\n",
      "..\\models\\model_ml1mDiv80_positive_128_3_100000.pkl\n",
      "..\\models\\dictionary_ml1mDiv80_positive_128_3_100000.pkl\n",
      "..\\models\\rev_dict_ml1mDiv80_positive_128_3_100000.pkl\n",
      "0.01748642435625809\n",
      "..\\models\\model_ml1mDiv80_positive_128_1_100000.pkl\n",
      "..\\models\\dictionary_ml1mDiv80_positive_128_1_100000.pkl\n",
      "..\\models\\rev_dict_ml1mDiv80_positive_128_1_100000.pkl\n",
      "0.018170321440353555\n",
      "..\\models\\model_ml1mDiv80_positive_32_5_100000.pkl\n",
      "..\\models\\dictionary_ml1mDiv80_positive_32_5_100000.pkl\n",
      "..\\models\\rev_dict_ml1mDiv80_positive_32_5_100000.pkl\n",
      "0.022954123982641596\n",
      "..\\models\\model_ml1mDiv80_positive_32_3_100000.pkl\n",
      "..\\models\\dictionary_ml1mDiv80_positive_32_3_100000.pkl\n",
      "..\\models\\rev_dict_ml1mDiv80_positive_32_3_100000.pkl\n",
      "0.023233150473329498\n",
      "..\\models\\model_ml1mDiv80_positive_32_1_100000.pkl\n",
      "..\\models\\dictionary_ml1mDiv80_positive_32_1_100000.pkl\n",
      "..\\models\\rev_dict_ml1mDiv80_positive_32_1_100000.pkl\n",
      "0.021403893002694373\n",
      "..\\models\\model_ml1mDiv80_positive_64_5_100000.pkl\n",
      "..\\models\\dictionary_ml1mDiv80_positive_64_5_100000.pkl\n",
      "..\\models\\rev_dict_ml1mDiv80_positive_64_5_100000.pkl\n",
      "0.02420116121042959\n",
      "..\\models\\model_ml1mDiv80_positive_64_3_100000.pkl\n",
      "..\\models\\dictionary_ml1mDiv80_positive_64_3_100000.pkl\n",
      "..\\models\\rev_dict_ml1mDiv80_positive_64_3_100000.pkl\n",
      "0.019597689997435448\n",
      "..\\models\\model_ml1mDiv80_positive_64_1_100000.pkl\n",
      "..\\models\\dictionary_ml1mDiv80_positive_64_1_100000.pkl\n",
      "..\\models\\rev_dict_ml1mDiv80_positive_64_1_100000.pkl\n",
      "0.019034795373786884\n",
      "..\\models\\model_ml1mDiv80_positive_128_5_100000.pkl\n",
      "..\\models\\dictionary_ml1mDiv80_positive_128_5_100000.pkl\n",
      "..\\models\\rev_dict_ml1mDiv80_positive_128_5_100000.pkl\n",
      "0.01817922137301668\n",
      "..\\models\\model_ml1mDiv80_positive_128_3_100000.pkl\n",
      "..\\models\\dictionary_ml1mDiv80_positive_128_3_100000.pkl\n",
      "..\\models\\rev_dict_ml1mDiv80_positive_128_3_100000.pkl\n",
      "0.01891598971339196\n",
      "..\\models\\model_ml1mDiv80_positive_128_1_100000.pkl\n",
      "..\\models\\dictionary_ml1mDiv80_positive_128_1_100000.pkl\n",
      "..\\models\\rev_dict_ml1mDiv80_positive_128_1_100000.pkl\n",
      "0.017745046930087178\n",
      "..\\models\\model_ml1mDiv80_positive_32_5_100000.pkl\n",
      "..\\models\\dictionary_ml1mDiv80_positive_32_5_100000.pkl\n",
      "..\\models\\rev_dict_ml1mDiv80_positive_32_5_100000.pkl\n",
      "0.015528503423330672\n",
      "..\\models\\model_ml1mDiv80_positive_32_3_100000.pkl\n",
      "..\\models\\dictionary_ml1mDiv80_positive_32_3_100000.pkl\n",
      "..\\models\\rev_dict_ml1mDiv80_positive_32_3_100000.pkl\n",
      "0.017020924502597734\n",
      "..\\models\\model_ml1mDiv80_positive_32_1_100000.pkl\n",
      "..\\models\\dictionary_ml1mDiv80_positive_32_1_100000.pkl\n",
      "..\\models\\rev_dict_ml1mDiv80_positive_32_1_100000.pkl\n",
      "0.015356404096935262\n",
      "..\\models\\model_ml1mDiv80_positive_64_5_100000.pkl\n",
      "..\\models\\dictionary_ml1mDiv80_positive_64_5_100000.pkl\n",
      "..\\models\\rev_dict_ml1mDiv80_positive_64_5_100000.pkl\n",
      "0.015546895897446152\n",
      "..\\models\\model_ml1mDiv80_positive_64_3_100000.pkl\n",
      "..\\models\\dictionary_ml1mDiv80_positive_64_3_100000.pkl\n",
      "..\\models\\rev_dict_ml1mDiv80_positive_64_3_100000.pkl\n",
      "0.01540418091460996\n",
      "..\\models\\model_ml1mDiv80_positive_64_1_100000.pkl\n",
      "..\\models\\dictionary_ml1mDiv80_positive_64_1_100000.pkl\n",
      "..\\models\\rev_dict_ml1mDiv80_positive_64_1_100000.pkl\n",
      "0.013962765199076336\n",
      "..\\models\\model_ml1mDiv80_positive_128_5_100000.pkl\n",
      "..\\models\\dictionary_ml1mDiv80_positive_128_5_100000.pkl\n",
      "..\\models\\rev_dict_ml1mDiv80_positive_128_5_100000.pkl\n",
      "0.014232448934080188\n",
      "..\\models\\model_ml1mDiv80_positive_128_3_100000.pkl\n",
      "..\\models\\dictionary_ml1mDiv80_positive_128_3_100000.pkl\n",
      "..\\models\\rev_dict_ml1mDiv80_positive_128_3_100000.pkl\n",
      "0.013943809825333085\n",
      "..\\models\\model_ml1mDiv80_positive_128_1_100000.pkl\n",
      "..\\models\\dictionary_ml1mDiv80_positive_128_1_100000.pkl\n",
      "..\\models\\rev_dict_ml1mDiv80_positive_128_1_100000.pkl\n",
      "0.014629450021082763\n",
      "..\\models\\model_ml1mDiv80_positive_32_5_100000.pkl\n",
      "..\\models\\dictionary_ml1mDiv80_positive_32_5_100000.pkl\n",
      "..\\models\\rev_dict_ml1mDiv80_positive_32_5_100000.pkl\n",
      "0.02201888438737073\n",
      "..\\models\\model_ml1mDiv80_positive_32_3_100000.pkl\n",
      "..\\models\\dictionary_ml1mDiv80_positive_32_3_100000.pkl\n",
      "..\\models\\rev_dict_ml1mDiv80_positive_32_3_100000.pkl\n",
      "0.02225781555119618\n",
      "..\\models\\model_ml1mDiv80_positive_32_1_100000.pkl\n",
      "..\\models\\dictionary_ml1mDiv80_positive_32_1_100000.pkl\n",
      "..\\models\\rev_dict_ml1mDiv80_positive_32_1_100000.pkl\n",
      "0.020809744371029067\n",
      "..\\models\\model_ml1mDiv80_positive_64_5_100000.pkl\n",
      "..\\models\\dictionary_ml1mDiv80_positive_64_5_100000.pkl\n",
      "..\\models\\rev_dict_ml1mDiv80_positive_64_5_100000.pkl\n",
      "0.022932715093065725\n",
      "..\\models\\model_ml1mDiv80_positive_64_3_100000.pkl\n",
      "..\\models\\dictionary_ml1mDiv80_positive_64_3_100000.pkl\n",
      "..\\models\\rev_dict_ml1mDiv80_positive_64_3_100000.pkl\n",
      "0.019280013606462917\n",
      "..\\models\\model_ml1mDiv80_positive_64_1_100000.pkl\n",
      "..\\models\\dictionary_ml1mDiv80_positive_64_1_100000.pkl\n",
      "..\\models\\rev_dict_ml1mDiv80_positive_64_1_100000.pkl\n",
      "0.01811677901394339\n",
      "..\\models\\model_ml1mDiv80_positive_128_5_100000.pkl\n",
      "..\\models\\dictionary_ml1mDiv80_positive_128_5_100000.pkl\n",
      "..\\models\\rev_dict_ml1mDiv80_positive_128_5_100000.pkl\n",
      "0.018065822763092515\n",
      "..\\models\\model_ml1mDiv80_positive_128_3_100000.pkl\n",
      "..\\models\\dictionary_ml1mDiv80_positive_128_3_100000.pkl\n",
      "..\\models\\rev_dict_ml1mDiv80_positive_128_3_100000.pkl\n",
      "0.017847582210305357\n",
      "..\\models\\model_ml1mDiv80_positive_128_1_100000.pkl\n",
      "..\\models\\dictionary_ml1mDiv80_positive_128_1_100000.pkl\n",
      "..\\models\\rev_dict_ml1mDiv80_positive_128_1_100000.pkl\n",
      "0.018780873003955\n",
      "..\\models\\model_ml1mDiv80_positive_32_5_200000.pkl\n",
      "..\\models\\dictionary_ml1mDiv80_positive_32_5_200000.pkl\n",
      "..\\models\\rev_dict_ml1mDiv80_positive_32_5_200000.pkl\n",
      "0.02311273070763499\n",
      "..\\models\\model_ml1mDiv80_positive_32_3_200000.pkl\n",
      "..\\models\\dictionary_ml1mDiv80_positive_32_3_200000.pkl\n",
      "..\\models\\rev_dict_ml1mDiv80_positive_32_3_200000.pkl\n",
      "0.024827497514681728\n",
      "..\\models\\model_ml1mDiv80_positive_32_1_200000.pkl\n",
      "..\\models\\dictionary_ml1mDiv80_positive_32_1_200000.pkl\n",
      "..\\models\\rev_dict_ml1mDiv80_positive_32_1_200000.pkl\n",
      "0.017161793129292665\n",
      "..\\models\\model_ml1mDiv80_positive_64_5_200000.pkl\n",
      "..\\models\\dictionary_ml1mDiv80_positive_64_5_200000.pkl\n",
      "..\\models\\rev_dict_ml1mDiv80_positive_64_5_200000.pkl\n",
      "0.021684820645948344\n",
      "..\\models\\model_ml1mDiv80_positive_64_3_200000.pkl\n",
      "..\\models\\dictionary_ml1mDiv80_positive_64_3_200000.pkl\n",
      "..\\models\\rev_dict_ml1mDiv80_positive_64_3_200000.pkl\n",
      "0.024678916496603316\n",
      "..\\models\\model_ml1mDiv80_positive_64_1_200000.pkl\n",
      "..\\models\\dictionary_ml1mDiv80_positive_64_1_200000.pkl\n",
      "..\\models\\rev_dict_ml1mDiv80_positive_64_1_200000.pkl\n",
      "0.01698286606991004\n",
      "..\\models\\model_ml1mDiv80_positive_128_5_200000.pkl\n",
      "..\\models\\dictionary_ml1mDiv80_positive_128_5_200000.pkl\n",
      "..\\models\\rev_dict_ml1mDiv80_positive_128_5_200000.pkl\n",
      "0.022035119254973663\n",
      "..\\models\\model_ml1mDiv80_positive_128_3_200000.pkl\n",
      "..\\models\\dictionary_ml1mDiv80_positive_128_3_200000.pkl\n",
      "..\\models\\rev_dict_ml1mDiv80_positive_128_3_200000.pkl\n",
      "0.023159295477147544\n",
      "..\\models\\model_ml1mDiv80_positive_128_1_200000.pkl\n",
      "..\\models\\dictionary_ml1mDiv80_positive_128_1_200000.pkl\n",
      "..\\models\\rev_dict_ml1mDiv80_positive_128_1_200000.pkl\n",
      "0.017722217441975677\n",
      "..\\models\\model_ml1mDiv80_positive_32_5_200000.pkl\n",
      "..\\models\\dictionary_ml1mDiv80_positive_32_5_200000.pkl\n",
      "..\\models\\rev_dict_ml1mDiv80_positive_32_5_200000.pkl\n",
      "0.011212914329755417\n",
      "..\\models\\model_ml1mDiv80_positive_32_3_200000.pkl\n",
      "..\\models\\dictionary_ml1mDiv80_positive_32_3_200000.pkl\n",
      "..\\models\\rev_dict_ml1mDiv80_positive_32_3_200000.pkl\n",
      "0.011412017089722672\n",
      "..\\models\\model_ml1mDiv80_positive_32_1_200000.pkl\n",
      "..\\models\\dictionary_ml1mDiv80_positive_32_1_200000.pkl\n",
      "..\\models\\rev_dict_ml1mDiv80_positive_32_1_200000.pkl\n",
      "0.011003200219464037\n",
      "..\\models\\model_ml1mDiv80_positive_64_5_200000.pkl\n",
      "..\\models\\dictionary_ml1mDiv80_positive_64_5_200000.pkl\n",
      "..\\models\\rev_dict_ml1mDiv80_positive_64_5_200000.pkl\n",
      "0.010915722170919606\n",
      "..\\models\\model_ml1mDiv80_positive_64_3_200000.pkl\n",
      "..\\models\\dictionary_ml1mDiv80_positive_64_3_200000.pkl\n",
      "..\\models\\rev_dict_ml1mDiv80_positive_64_3_200000.pkl\n",
      "0.011276569507075358\n",
      "..\\models\\model_ml1mDiv80_positive_64_1_200000.pkl\n",
      "..\\models\\dictionary_ml1mDiv80_positive_64_1_200000.pkl\n",
      "..\\models\\rev_dict_ml1mDiv80_positive_64_1_200000.pkl\n",
      "0.01092036113104091\n",
      "..\\models\\model_ml1mDiv80_positive_128_5_200000.pkl\n",
      "..\\models\\dictionary_ml1mDiv80_positive_128_5_200000.pkl\n",
      "..\\models\\rev_dict_ml1mDiv80_positive_128_5_200000.pkl\n",
      "0.010830211045868584\n",
      "..\\models\\model_ml1mDiv80_positive_128_3_200000.pkl\n",
      "..\\models\\dictionary_ml1mDiv80_positive_128_3_200000.pkl\n",
      "..\\models\\rev_dict_ml1mDiv80_positive_128_3_200000.pkl\n",
      "0.01084025469976674\n",
      "..\\models\\model_ml1mDiv80_positive_128_1_200000.pkl\n",
      "..\\models\\dictionary_ml1mDiv80_positive_128_1_200000.pkl\n",
      "..\\models\\rev_dict_ml1mDiv80_positive_128_1_200000.pkl\n",
      "0.01090555241268485\n",
      "..\\models\\model_ml1mDiv80_positive_32_5_200000.pkl\n",
      "..\\models\\dictionary_ml1mDiv80_positive_32_5_200000.pkl\n",
      "..\\models\\rev_dict_ml1mDiv80_positive_32_5_200000.pkl\n",
      "0.022697691618422226\n",
      "..\\models\\model_ml1mDiv80_positive_32_3_200000.pkl\n",
      "..\\models\\dictionary_ml1mDiv80_positive_32_3_200000.pkl\n",
      "..\\models\\rev_dict_ml1mDiv80_positive_32_3_200000.pkl\n",
      "0.024542490245749917\n",
      "..\\models\\model_ml1mDiv80_positive_32_1_200000.pkl\n",
      "..\\models\\dictionary_ml1mDiv80_positive_32_1_200000.pkl\n",
      "..\\models\\rev_dict_ml1mDiv80_positive_32_1_200000.pkl\n",
      "0.01616115025380615\n",
      "..\\models\\model_ml1mDiv80_positive_64_5_200000.pkl\n",
      "..\\models\\dictionary_ml1mDiv80_positive_64_5_200000.pkl\n",
      "..\\models\\rev_dict_ml1mDiv80_positive_64_5_200000.pkl\n",
      "0.021305732949098787\n",
      "..\\models\\model_ml1mDiv80_positive_64_3_200000.pkl\n",
      "..\\models\\dictionary_ml1mDiv80_positive_64_3_200000.pkl\n",
      "..\\models\\rev_dict_ml1mDiv80_positive_64_3_200000.pkl\n",
      "0.02394854278859921\n",
      "..\\models\\model_ml1mDiv80_positive_64_1_200000.pkl\n",
      "..\\models\\dictionary_ml1mDiv80_positive_64_1_200000.pkl\n",
      "..\\models\\rev_dict_ml1mDiv80_positive_64_1_200000.pkl\n",
      "0.016231678117845764\n",
      "..\\models\\model_ml1mDiv80_positive_128_5_200000.pkl\n",
      "..\\models\\dictionary_ml1mDiv80_positive_128_5_200000.pkl\n",
      "..\\models\\rev_dict_ml1mDiv80_positive_128_5_200000.pkl\n",
      "0.02074472828181764\n",
      "..\\models\\model_ml1mDiv80_positive_128_3_200000.pkl\n",
      "..\\models\\dictionary_ml1mDiv80_positive_128_3_200000.pkl\n",
      "..\\models\\rev_dict_ml1mDiv80_positive_128_3_200000.pkl\n",
      "0.02195729459828122\n",
      "..\\models\\model_ml1mDiv80_positive_128_1_200000.pkl\n",
      "..\\models\\dictionary_ml1mDiv80_positive_128_1_200000.pkl\n",
      "..\\models\\rev_dict_ml1mDiv80_positive_128_1_200000.pkl\n",
      "0.0184875029310383\n",
      "..\\models\\model_ml1mDiv80_positive_32_5_200000.pkl\n",
      "..\\models\\dictionary_ml1mDiv80_positive_32_5_200000.pkl\n",
      "..\\models\\rev_dict_ml1mDiv80_positive_32_5_200000.pkl\n",
      "0.018275461601611913\n",
      "..\\models\\model_ml1mDiv80_positive_32_3_200000.pkl\n",
      "..\\models\\dictionary_ml1mDiv80_positive_32_3_200000.pkl\n",
      "..\\models\\rev_dict_ml1mDiv80_positive_32_3_200000.pkl\n",
      "0.01928697724097537\n",
      "..\\models\\model_ml1mDiv80_positive_32_1_200000.pkl\n",
      "..\\models\\dictionary_ml1mDiv80_positive_32_1_200000.pkl\n",
      "..\\models\\rev_dict_ml1mDiv80_positive_32_1_200000.pkl\n",
      "0.01875281586337179\n",
      "..\\models\\model_ml1mDiv80_positive_64_5_200000.pkl\n",
      "..\\models\\dictionary_ml1mDiv80_positive_64_5_200000.pkl\n",
      "..\\models\\rev_dict_ml1mDiv80_positive_64_5_200000.pkl\n",
      "0.016850108420277097\n",
      "..\\models\\model_ml1mDiv80_positive_64_3_200000.pkl\n",
      "..\\models\\dictionary_ml1mDiv80_positive_64_3_200000.pkl\n",
      "..\\models\\rev_dict_ml1mDiv80_positive_64_3_200000.pkl\n",
      "0.01630575823217312\n",
      "..\\models\\model_ml1mDiv80_positive_64_1_200000.pkl\n",
      "..\\models\\dictionary_ml1mDiv80_positive_64_1_200000.pkl\n",
      "..\\models\\rev_dict_ml1mDiv80_positive_64_1_200000.pkl\n",
      "0.016505220752590477\n",
      "..\\models\\model_ml1mDiv80_positive_128_5_200000.pkl\n",
      "..\\models\\dictionary_ml1mDiv80_positive_128_5_200000.pkl\n",
      "..\\models\\rev_dict_ml1mDiv80_positive_128_5_200000.pkl\n",
      "0.01759309083776763\n",
      "..\\models\\model_ml1mDiv80_positive_128_3_200000.pkl\n",
      "..\\models\\dictionary_ml1mDiv80_positive_128_3_200000.pkl\n",
      "..\\models\\rev_dict_ml1mDiv80_positive_128_3_200000.pkl\n",
      "0.01626693424607024\n",
      "..\\models\\model_ml1mDiv80_positive_128_1_200000.pkl\n",
      "..\\models\\dictionary_ml1mDiv80_positive_128_1_200000.pkl\n",
      "..\\models\\rev_dict_ml1mDiv80_positive_128_1_200000.pkl\n",
      "0.01625563249705189\n",
      "..\\models\\model_ml1mDiv80_positive_32_5_200000.pkl\n",
      "..\\models\\dictionary_ml1mDiv80_positive_32_5_200000.pkl\n",
      "..\\models\\rev_dict_ml1mDiv80_positive_32_5_200000.pkl\n",
      "0.018275461601611913\n",
      "..\\models\\model_ml1mDiv80_positive_32_3_200000.pkl\n",
      "..\\models\\dictionary_ml1mDiv80_positive_32_3_200000.pkl\n",
      "..\\models\\rev_dict_ml1mDiv80_positive_32_3_200000.pkl\n",
      "0.01928697724097537\n",
      "..\\models\\model_ml1mDiv80_positive_32_1_200000.pkl\n",
      "..\\models\\dictionary_ml1mDiv80_positive_32_1_200000.pkl\n",
      "..\\models\\rev_dict_ml1mDiv80_positive_32_1_200000.pkl\n",
      "0.01875281586337179\n",
      "..\\models\\model_ml1mDiv80_positive_64_5_200000.pkl\n",
      "..\\models\\dictionary_ml1mDiv80_positive_64_5_200000.pkl\n",
      "..\\models\\rev_dict_ml1mDiv80_positive_64_5_200000.pkl\n",
      "0.016850108420277097\n",
      "..\\models\\model_ml1mDiv80_positive_64_3_200000.pkl\n",
      "..\\models\\dictionary_ml1mDiv80_positive_64_3_200000.pkl\n",
      "..\\models\\rev_dict_ml1mDiv80_positive_64_3_200000.pkl\n",
      "0.01630575823217312\n",
      "..\\models\\model_ml1mDiv80_positive_64_1_200000.pkl\n",
      "..\\models\\dictionary_ml1mDiv80_positive_64_1_200000.pkl\n",
      "..\\models\\rev_dict_ml1mDiv80_positive_64_1_200000.pkl\n",
      "0.016505220752590477\n",
      "..\\models\\model_ml1mDiv80_positive_128_5_200000.pkl\n",
      "..\\models\\dictionary_ml1mDiv80_positive_128_5_200000.pkl\n",
      "..\\models\\rev_dict_ml1mDiv80_positive_128_5_200000.pkl\n",
      "0.01759309083776763\n",
      "..\\models\\model_ml1mDiv80_positive_128_3_200000.pkl\n",
      "..\\models\\dictionary_ml1mDiv80_positive_128_3_200000.pkl\n",
      "..\\models\\rev_dict_ml1mDiv80_positive_128_3_200000.pkl\n",
      "0.01626693424607024\n",
      "..\\models\\model_ml1mDiv80_positive_128_1_200000.pkl\n",
      "..\\models\\dictionary_ml1mDiv80_positive_128_1_200000.pkl\n",
      "..\\models\\rev_dict_ml1mDiv80_positive_128_1_200000.pkl\n",
      "0.01625563249705189\n",
      "..\\models\\model_ml1mDiv80_positive_32_5_200000.pkl\n",
      "..\\models\\dictionary_ml1mDiv80_positive_32_5_200000.pkl\n",
      "..\\models\\rev_dict_ml1mDiv80_positive_32_5_200000.pkl\n",
      "0.018275461601611913\n",
      "..\\models\\model_ml1mDiv80_positive_32_3_200000.pkl\n",
      "..\\models\\dictionary_ml1mDiv80_positive_32_3_200000.pkl\n",
      "..\\models\\rev_dict_ml1mDiv80_positive_32_3_200000.pkl\n",
      "0.01928697724097537\n",
      "..\\models\\model_ml1mDiv80_positive_32_1_200000.pkl\n",
      "..\\models\\dictionary_ml1mDiv80_positive_32_1_200000.pkl\n",
      "..\\models\\rev_dict_ml1mDiv80_positive_32_1_200000.pkl\n",
      "0.01875281586337179\n",
      "..\\models\\model_ml1mDiv80_positive_64_5_200000.pkl\n",
      "..\\models\\dictionary_ml1mDiv80_positive_64_5_200000.pkl\n",
      "..\\models\\rev_dict_ml1mDiv80_positive_64_5_200000.pkl\n",
      "0.016850108420277097\n",
      "..\\models\\model_ml1mDiv80_positive_64_3_200000.pkl\n",
      "..\\models\\dictionary_ml1mDiv80_positive_64_3_200000.pkl\n",
      "..\\models\\rev_dict_ml1mDiv80_positive_64_3_200000.pkl\n",
      "0.01630575823217312\n",
      "..\\models\\model_ml1mDiv80_positive_64_1_200000.pkl\n",
      "..\\models\\dictionary_ml1mDiv80_positive_64_1_200000.pkl\n",
      "..\\models\\rev_dict_ml1mDiv80_positive_64_1_200000.pkl\n",
      "0.016505220752590477\n",
      "..\\models\\model_ml1mDiv80_positive_128_5_200000.pkl\n",
      "..\\models\\dictionary_ml1mDiv80_positive_128_5_200000.pkl\n",
      "..\\models\\rev_dict_ml1mDiv80_positive_128_5_200000.pkl\n",
      "0.01759309083776763\n",
      "..\\models\\model_ml1mDiv80_positive_128_3_200000.pkl\n",
      "..\\models\\dictionary_ml1mDiv80_positive_128_3_200000.pkl\n",
      "..\\models\\rev_dict_ml1mDiv80_positive_128_3_200000.pkl\n",
      "0.01626693424607024\n",
      "..\\models\\model_ml1mDiv80_positive_128_1_200000.pkl\n",
      "..\\models\\dictionary_ml1mDiv80_positive_128_1_200000.pkl\n",
      "..\\models\\rev_dict_ml1mDiv80_positive_128_1_200000.pkl\n",
      "0.01625563249705189\n",
      "..\\models\\model_ml1mDiv80_positive_32_5_200000.pkl\n",
      "..\\models\\dictionary_ml1mDiv80_positive_32_5_200000.pkl\n",
      "..\\models\\rev_dict_ml1mDiv80_positive_32_5_200000.pkl\n",
      "0.019393907456797598\n",
      "..\\models\\model_ml1mDiv80_positive_32_3_200000.pkl\n",
      "..\\models\\dictionary_ml1mDiv80_positive_32_3_200000.pkl\n",
      "..\\models\\rev_dict_ml1mDiv80_positive_32_3_200000.pkl\n",
      "0.01934324716140779\n",
      "..\\models\\model_ml1mDiv80_positive_32_1_200000.pkl\n",
      "..\\models\\dictionary_ml1mDiv80_positive_32_1_200000.pkl\n",
      "..\\models\\rev_dict_ml1mDiv80_positive_32_1_200000.pkl\n",
      "0.016822855898776346\n",
      "..\\models\\model_ml1mDiv80_positive_64_5_200000.pkl\n",
      "..\\models\\dictionary_ml1mDiv80_positive_64_5_200000.pkl\n",
      "..\\models\\rev_dict_ml1mDiv80_positive_64_5_200000.pkl\n",
      "0.016468087782195148\n",
      "..\\models\\model_ml1mDiv80_positive_64_3_200000.pkl\n",
      "..\\models\\dictionary_ml1mDiv80_positive_64_3_200000.pkl\n",
      "..\\models\\rev_dict_ml1mDiv80_positive_64_3_200000.pkl\n",
      "0.015984108891864177\n",
      "..\\models\\model_ml1mDiv80_positive_64_1_200000.pkl\n",
      "..\\models\\dictionary_ml1mDiv80_positive_64_1_200000.pkl\n",
      "..\\models\\rev_dict_ml1mDiv80_positive_64_1_200000.pkl\n",
      "0.016880718915872353\n",
      "..\\models\\model_ml1mDiv80_positive_128_5_200000.pkl\n",
      "..\\models\\dictionary_ml1mDiv80_positive_128_5_200000.pkl\n",
      "..\\models\\rev_dict_ml1mDiv80_positive_128_5_200000.pkl\n",
      "0.015953663222503498\n",
      "..\\models\\model_ml1mDiv80_positive_128_3_200000.pkl\n",
      "..\\models\\dictionary_ml1mDiv80_positive_128_3_200000.pkl\n",
      "..\\models\\rev_dict_ml1mDiv80_positive_128_3_200000.pkl\n",
      "0.015911350495264844\n",
      "..\\models\\model_ml1mDiv80_positive_128_1_200000.pkl\n",
      "..\\models\\dictionary_ml1mDiv80_positive_128_1_200000.pkl\n",
      "..\\models\\rev_dict_ml1mDiv80_positive_128_1_200000.pkl\n",
      "0.017186534046630196\n",
      "..\\models\\model_ml1mDiv80_positive_32_5_200000.pkl\n",
      "..\\models\\dictionary_ml1mDiv80_positive_32_5_200000.pkl\n",
      "..\\models\\rev_dict_ml1mDiv80_positive_32_5_200000.pkl\n",
      "0.018140776741687674\n",
      "..\\models\\model_ml1mDiv80_positive_32_3_200000.pkl\n",
      "..\\models\\dictionary_ml1mDiv80_positive_32_3_200000.pkl\n",
      "..\\models\\rev_dict_ml1mDiv80_positive_32_3_200000.pkl\n",
      "0.018072124465738772\n",
      "..\\models\\model_ml1mDiv80_positive_32_1_200000.pkl\n",
      "..\\models\\dictionary_ml1mDiv80_positive_32_1_200000.pkl\n",
      "..\\models\\rev_dict_ml1mDiv80_positive_32_1_200000.pkl\n",
      "0.016973067038416126\n",
      "..\\models\\model_ml1mDiv80_positive_64_5_200000.pkl\n",
      "..\\models\\dictionary_ml1mDiv80_positive_64_5_200000.pkl\n",
      "..\\models\\rev_dict_ml1mDiv80_positive_64_5_200000.pkl\n",
      "0.015683648143157418\n",
      "..\\models\\model_ml1mDiv80_positive_64_3_200000.pkl\n",
      "..\\models\\dictionary_ml1mDiv80_positive_64_3_200000.pkl\n",
      "..\\models\\rev_dict_ml1mDiv80_positive_64_3_200000.pkl\n",
      "0.015475514400872843\n",
      "..\\models\\model_ml1mDiv80_positive_64_1_200000.pkl\n",
      "..\\models\\dictionary_ml1mDiv80_positive_64_1_200000.pkl\n",
      "..\\models\\rev_dict_ml1mDiv80_positive_64_1_200000.pkl\n",
      "0.01547837400923203\n",
      "..\\models\\model_ml1mDiv80_positive_128_5_200000.pkl\n",
      "..\\models\\dictionary_ml1mDiv80_positive_128_5_200000.pkl\n",
      "..\\models\\rev_dict_ml1mDiv80_positive_128_5_200000.pkl\n",
      "0.016216920568890254\n",
      "..\\models\\model_ml1mDiv80_positive_128_3_200000.pkl\n",
      "..\\models\\dictionary_ml1mDiv80_positive_128_3_200000.pkl\n",
      "..\\models\\rev_dict_ml1mDiv80_positive_128_3_200000.pkl\n",
      "0.015137019995277159\n",
      "..\\models\\model_ml1mDiv80_positive_128_1_200000.pkl\n",
      "..\\models\\dictionary_ml1mDiv80_positive_128_1_200000.pkl\n",
      "..\\models\\rev_dict_ml1mDiv80_positive_128_1_200000.pkl\n",
      "0.015151464686006613\n",
      "..\\models\\model_ml1mDiv80_positive_32_5_200000.pkl\n",
      "..\\models\\dictionary_ml1mDiv80_positive_32_5_200000.pkl\n",
      "..\\models\\rev_dict_ml1mDiv80_positive_32_5_200000.pkl\n",
      "0.01907717255158807\n",
      "..\\models\\model_ml1mDiv80_positive_32_3_200000.pkl\n",
      "..\\models\\dictionary_ml1mDiv80_positive_32_3_200000.pkl\n",
      "..\\models\\rev_dict_ml1mDiv80_positive_32_3_200000.pkl\n",
      "0.019777657591460888\n",
      "..\\models\\model_ml1mDiv80_positive_32_1_200000.pkl\n",
      "..\\models\\dictionary_ml1mDiv80_positive_32_1_200000.pkl\n",
      "..\\models\\rev_dict_ml1mDiv80_positive_32_1_200000.pkl\n",
      "0.01657173372861258\n",
      "..\\models\\model_ml1mDiv80_positive_64_5_200000.pkl\n",
      "..\\models\\dictionary_ml1mDiv80_positive_64_5_200000.pkl\n",
      "..\\models\\rev_dict_ml1mDiv80_positive_64_5_200000.pkl\n",
      "0.01620090604858493\n",
      "..\\models\\model_ml1mDiv80_positive_64_3_200000.pkl\n",
      "..\\models\\dictionary_ml1mDiv80_positive_64_3_200000.pkl\n",
      "..\\models\\rev_dict_ml1mDiv80_positive_64_3_200000.pkl\n",
      "0.015631509840236556\n",
      "..\\models\\model_ml1mDiv80_positive_64_1_200000.pkl\n",
      "..\\models\\dictionary_ml1mDiv80_positive_64_1_200000.pkl\n",
      "..\\models\\rev_dict_ml1mDiv80_positive_64_1_200000.pkl\n",
      "0.01720017242973156\n",
      "..\\models\\model_ml1mDiv80_positive_128_5_200000.pkl\n",
      "..\\models\\dictionary_ml1mDiv80_positive_128_5_200000.pkl\n",
      "..\\models\\rev_dict_ml1mDiv80_positive_128_5_200000.pkl\n",
      "0.01660433949007209\n",
      "..\\models\\model_ml1mDiv80_positive_128_3_200000.pkl\n",
      "..\\models\\dictionary_ml1mDiv80_positive_128_3_200000.pkl\n",
      "..\\models\\rev_dict_ml1mDiv80_positive_128_3_200000.pkl\n",
      "0.01580816994281131\n",
      "..\\models\\model_ml1mDiv80_positive_128_1_200000.pkl\n",
      "..\\models\\dictionary_ml1mDiv80_positive_128_1_200000.pkl\n",
      "..\\models\\rev_dict_ml1mDiv80_positive_128_1_200000.pkl\n",
      "0.016852275534461905\n",
      "..\\models\\model_ml1mDiv80_positive_32_5_200000.pkl\n",
      "..\\models\\dictionary_ml1mDiv80_positive_32_5_200000.pkl\n",
      "..\\models\\rev_dict_ml1mDiv80_positive_32_5_200000.pkl\n",
      "0.020339953451415517\n",
      "..\\models\\model_ml1mDiv80_positive_32_3_200000.pkl\n",
      "..\\models\\dictionary_ml1mDiv80_positive_32_3_200000.pkl\n",
      "..\\models\\rev_dict_ml1mDiv80_positive_32_3_200000.pkl\n",
      "0.020708893635039295\n",
      "..\\models\\model_ml1mDiv80_positive_32_1_200000.pkl\n",
      "..\\models\\dictionary_ml1mDiv80_positive_32_1_200000.pkl\n",
      "..\\models\\rev_dict_ml1mDiv80_positive_32_1_200000.pkl\n",
      "0.01737878897930124\n",
      "..\\models\\model_ml1mDiv80_positive_64_5_200000.pkl\n",
      "..\\models\\dictionary_ml1mDiv80_positive_64_5_200000.pkl\n",
      "..\\models\\rev_dict_ml1mDiv80_positive_64_5_200000.pkl\n",
      "0.016572362545166967\n",
      "..\\models\\model_ml1mDiv80_positive_64_3_200000.pkl\n",
      "..\\models\\dictionary_ml1mDiv80_positive_64_3_200000.pkl\n",
      "..\\models\\rev_dict_ml1mDiv80_positive_64_3_200000.pkl\n",
      "0.016510974245907646\n",
      "..\\models\\model_ml1mDiv80_positive_64_1_200000.pkl\n",
      "..\\models\\dictionary_ml1mDiv80_positive_64_1_200000.pkl\n",
      "..\\models\\rev_dict_ml1mDiv80_positive_64_1_200000.pkl\n",
      "0.015458671076840643\n",
      "..\\models\\model_ml1mDiv80_positive_128_5_200000.pkl\n",
      "..\\models\\dictionary_ml1mDiv80_positive_128_5_200000.pkl\n",
      "..\\models\\rev_dict_ml1mDiv80_positive_128_5_200000.pkl\n",
      "0.014835330752607801\n",
      "..\\models\\model_ml1mDiv80_positive_128_3_200000.pkl\n",
      "..\\models\\dictionary_ml1mDiv80_positive_128_3_200000.pkl\n",
      "..\\models\\rev_dict_ml1mDiv80_positive_128_3_200000.pkl\n",
      "0.016283395710889395\n",
      "..\\models\\model_ml1mDiv80_positive_128_1_200000.pkl\n",
      "..\\models\\dictionary_ml1mDiv80_positive_128_1_200000.pkl\n",
      "..\\models\\rev_dict_ml1mDiv80_positive_128_1_200000.pkl\n",
      "0.01659428492840284\n",
      "..\\models\\model_ml1mDiv80_positive_32_5_200000.pkl\n",
      "..\\models\\dictionary_ml1mDiv80_positive_32_5_200000.pkl\n",
      "..\\models\\rev_dict_ml1mDiv80_positive_32_5_200000.pkl\n",
      "0.017396986911080072\n",
      "..\\models\\model_ml1mDiv80_positive_32_3_200000.pkl\n",
      "..\\models\\dictionary_ml1mDiv80_positive_32_3_200000.pkl\n",
      "..\\models\\rev_dict_ml1mDiv80_positive_32_3_200000.pkl\n",
      "0.01679444408664354\n",
      "..\\models\\model_ml1mDiv80_positive_32_1_200000.pkl\n",
      "..\\models\\dictionary_ml1mDiv80_positive_32_1_200000.pkl\n",
      "..\\models\\rev_dict_ml1mDiv80_positive_32_1_200000.pkl\n",
      "0.01623817739400492\n",
      "..\\models\\model_ml1mDiv80_positive_64_5_200000.pkl\n",
      "..\\models\\dictionary_ml1mDiv80_positive_64_5_200000.pkl\n",
      "..\\models\\rev_dict_ml1mDiv80_positive_64_5_200000.pkl\n",
      "0.014742096787554407\n",
      "..\\models\\model_ml1mDiv80_positive_64_3_200000.pkl\n",
      "..\\models\\dictionary_ml1mDiv80_positive_64_3_200000.pkl\n",
      "..\\models\\rev_dict_ml1mDiv80_positive_64_3_200000.pkl\n",
      "0.014805263896274673\n",
      "..\\models\\model_ml1mDiv80_positive_64_1_200000.pkl\n",
      "..\\models\\dictionary_ml1mDiv80_positive_64_1_200000.pkl\n",
      "..\\models\\rev_dict_ml1mDiv80_positive_64_1_200000.pkl\n",
      "0.014592920464852718\n",
      "..\\models\\model_ml1mDiv80_positive_128_5_200000.pkl\n",
      "..\\models\\dictionary_ml1mDiv80_positive_128_5_200000.pkl\n",
      "..\\models\\rev_dict_ml1mDiv80_positive_128_5_200000.pkl\n",
      "0.01472542939119734\n",
      "..\\models\\model_ml1mDiv80_positive_128_3_200000.pkl\n",
      "..\\models\\dictionary_ml1mDiv80_positive_128_3_200000.pkl\n",
      "..\\models\\rev_dict_ml1mDiv80_positive_128_3_200000.pkl\n",
      "0.014671743583700256\n",
      "..\\models\\model_ml1mDiv80_positive_128_1_200000.pkl\n",
      "..\\models\\dictionary_ml1mDiv80_positive_128_1_200000.pkl\n",
      "..\\models\\rev_dict_ml1mDiv80_positive_128_1_200000.pkl\n",
      "0.015460103233514674\n",
      "..\\models\\model_ml1mDiv80_positive_32_5_200000.pkl\n",
      "..\\models\\dictionary_ml1mDiv80_positive_32_5_200000.pkl\n",
      "..\\models\\rev_dict_ml1mDiv80_positive_32_5_200000.pkl\n",
      "0.019823254539451073\n",
      "..\\models\\model_ml1mDiv80_positive_32_3_200000.pkl\n",
      "..\\models\\dictionary_ml1mDiv80_positive_32_3_200000.pkl\n",
      "..\\models\\rev_dict_ml1mDiv80_positive_32_3_200000.pkl\n",
      "0.02117058337149673\n",
      "..\\models\\model_ml1mDiv80_positive_32_1_200000.pkl\n",
      "..\\models\\dictionary_ml1mDiv80_positive_32_1_200000.pkl\n",
      "..\\models\\rev_dict_ml1mDiv80_positive_32_1_200000.pkl\n",
      "0.017395501019623907\n",
      "..\\models\\model_ml1mDiv80_positive_64_5_200000.pkl\n",
      "..\\models\\dictionary_ml1mDiv80_positive_64_5_200000.pkl\n",
      "..\\models\\rev_dict_ml1mDiv80_positive_64_5_200000.pkl\n",
      "0.016596086572345244\n",
      "..\\models\\model_ml1mDiv80_positive_64_3_200000.pkl\n",
      "..\\models\\dictionary_ml1mDiv80_positive_64_3_200000.pkl\n",
      "..\\models\\rev_dict_ml1mDiv80_positive_64_3_200000.pkl\n",
      "0.016448329555285496\n",
      "..\\models\\model_ml1mDiv80_positive_64_1_200000.pkl\n",
      "..\\models\\dictionary_ml1mDiv80_positive_64_1_200000.pkl\n",
      "..\\models\\rev_dict_ml1mDiv80_positive_64_1_200000.pkl\n",
      "0.016627338731210965\n",
      "..\\models\\model_ml1mDiv80_positive_128_5_200000.pkl\n",
      "..\\models\\dictionary_ml1mDiv80_positive_128_5_200000.pkl\n",
      "..\\models\\rev_dict_ml1mDiv80_positive_128_5_200000.pkl\n",
      "0.015885979920053077\n",
      "..\\models\\model_ml1mDiv80_positive_128_3_200000.pkl\n",
      "..\\models\\dictionary_ml1mDiv80_positive_128_3_200000.pkl\n",
      "..\\models\\rev_dict_ml1mDiv80_positive_128_3_200000.pkl\n",
      "0.01619629942169278\n",
      "..\\models\\model_ml1mDiv80_positive_128_1_200000.pkl\n",
      "..\\models\\dictionary_ml1mDiv80_positive_128_1_200000.pkl\n",
      "..\\models\\rev_dict_ml1mDiv80_positive_128_1_200000.pkl\n",
      "0.016742793983546073\n",
      "..\\models\\model_ml1mDiv80_positive_32_5_200000.pkl\n",
      "..\\models\\dictionary_ml1mDiv80_positive_32_5_200000.pkl\n",
      "..\\models\\rev_dict_ml1mDiv80_positive_32_5_200000.pkl\n",
      "0.020750664415803706\n",
      "..\\models\\model_ml1mDiv80_positive_32_3_200000.pkl\n",
      "..\\models\\dictionary_ml1mDiv80_positive_32_3_200000.pkl\n",
      "..\\models\\rev_dict_ml1mDiv80_positive_32_3_200000.pkl\n",
      "0.02151013024008879\n",
      "..\\models\\model_ml1mDiv80_positive_32_1_200000.pkl\n",
      "..\\models\\dictionary_ml1mDiv80_positive_32_1_200000.pkl\n",
      "..\\models\\rev_dict_ml1mDiv80_positive_32_1_200000.pkl\n",
      "0.018522127897399876\n",
      "..\\models\\model_ml1mDiv80_positive_64_5_200000.pkl\n",
      "..\\models\\dictionary_ml1mDiv80_positive_64_5_200000.pkl\n",
      "..\\models\\rev_dict_ml1mDiv80_positive_64_5_200000.pkl\n",
      "0.016392960901003055\n",
      "..\\models\\model_ml1mDiv80_positive_64_3_200000.pkl\n",
      "..\\models\\dictionary_ml1mDiv80_positive_64_3_200000.pkl\n",
      "..\\models\\rev_dict_ml1mDiv80_positive_64_3_200000.pkl\n",
      "0.017479918944184967\n",
      "..\\models\\model_ml1mDiv80_positive_64_1_200000.pkl\n",
      "..\\models\\dictionary_ml1mDiv80_positive_64_1_200000.pkl\n",
      "..\\models\\rev_dict_ml1mDiv80_positive_64_1_200000.pkl\n",
      "0.015197561990364209\n",
      "..\\models\\model_ml1mDiv80_positive_128_5_200000.pkl\n",
      "..\\models\\dictionary_ml1mDiv80_positive_128_5_200000.pkl\n",
      "..\\models\\rev_dict_ml1mDiv80_positive_128_5_200000.pkl\n",
      "0.014860484448457814\n",
      "..\\models\\model_ml1mDiv80_positive_128_3_200000.pkl\n",
      "..\\models\\dictionary_ml1mDiv80_positive_128_3_200000.pkl\n",
      "..\\models\\rev_dict_ml1mDiv80_positive_128_3_200000.pkl\n",
      "0.015939733869416394\n",
      "..\\models\\model_ml1mDiv80_positive_128_1_200000.pkl\n",
      "..\\models\\dictionary_ml1mDiv80_positive_128_1_200000.pkl\n",
      "..\\models\\rev_dict_ml1mDiv80_positive_128_1_200000.pkl\n",
      "0.015931774679501434\n",
      "..\\models\\model_ml1mDiv80_positive_32_5_200000.pkl\n",
      "..\\models\\dictionary_ml1mDiv80_positive_32_5_200000.pkl\n",
      "..\\models\\rev_dict_ml1mDiv80_positive_32_5_200000.pkl\n",
      "0.01618746268295215\n",
      "..\\models\\model_ml1mDiv80_positive_32_3_200000.pkl\n",
      "..\\models\\dictionary_ml1mDiv80_positive_32_3_200000.pkl\n",
      "..\\models\\rev_dict_ml1mDiv80_positive_32_3_200000.pkl\n",
      "0.01659389515974117\n",
      "..\\models\\model_ml1mDiv80_positive_32_1_200000.pkl\n",
      "..\\models\\dictionary_ml1mDiv80_positive_32_1_200000.pkl\n",
      "..\\models\\rev_dict_ml1mDiv80_positive_32_1_200000.pkl\n",
      "0.015235619454355132\n",
      "..\\models\\model_ml1mDiv80_positive_64_5_200000.pkl\n",
      "..\\models\\dictionary_ml1mDiv80_positive_64_5_200000.pkl\n",
      "..\\models\\rev_dict_ml1mDiv80_positive_64_5_200000.pkl\n",
      "0.014255372364804956\n",
      "..\\models\\model_ml1mDiv80_positive_64_3_200000.pkl\n",
      "..\\models\\dictionary_ml1mDiv80_positive_64_3_200000.pkl\n",
      "..\\models\\rev_dict_ml1mDiv80_positive_64_3_200000.pkl\n",
      "0.014086145980718388\n",
      "..\\models\\model_ml1mDiv80_positive_64_1_200000.pkl\n",
      "..\\models\\dictionary_ml1mDiv80_positive_64_1_200000.pkl\n",
      "..\\models\\rev_dict_ml1mDiv80_positive_64_1_200000.pkl\n",
      "0.013793282232418606\n",
      "..\\models\\model_ml1mDiv80_positive_128_5_200000.pkl\n",
      "..\\models\\dictionary_ml1mDiv80_positive_128_5_200000.pkl\n",
      "..\\models\\rev_dict_ml1mDiv80_positive_128_5_200000.pkl\n",
      "0.014124829291656716\n",
      "..\\models\\model_ml1mDiv80_positive_128_3_200000.pkl\n",
      "..\\models\\dictionary_ml1mDiv80_positive_128_3_200000.pkl\n",
      "..\\models\\rev_dict_ml1mDiv80_positive_128_3_200000.pkl\n",
      "0.013830027427151977\n",
      "..\\models\\model_ml1mDiv80_positive_128_1_200000.pkl\n",
      "..\\models\\dictionary_ml1mDiv80_positive_128_1_200000.pkl\n",
      "..\\models\\rev_dict_ml1mDiv80_positive_128_1_200000.pkl\n",
      "0.015286868370056083\n",
      "..\\models\\model_ml1mDiv80_positive_32_5_200000.pkl\n",
      "..\\models\\dictionary_ml1mDiv80_positive_32_5_200000.pkl\n",
      "..\\models\\rev_dict_ml1mDiv80_positive_32_5_200000.pkl\n",
      "0.020268721246681786\n",
      "..\\models\\model_ml1mDiv80_positive_32_3_200000.pkl\n",
      "..\\models\\dictionary_ml1mDiv80_positive_32_3_200000.pkl\n",
      "..\\models\\rev_dict_ml1mDiv80_positive_32_3_200000.pkl\n",
      "0.02157063723929858\n",
      "..\\models\\model_ml1mDiv80_positive_32_1_200000.pkl\n",
      "..\\models\\dictionary_ml1mDiv80_positive_32_1_200000.pkl\n",
      "..\\models\\rev_dict_ml1mDiv80_positive_32_1_200000.pkl\n",
      "0.018032066362354215\n",
      "..\\models\\model_ml1mDiv80_positive_64_5_200000.pkl\n",
      "..\\models\\dictionary_ml1mDiv80_positive_64_5_200000.pkl\n",
      "..\\models\\rev_dict_ml1mDiv80_positive_64_5_200000.pkl\n",
      "0.016447954283023553\n",
      "..\\models\\model_ml1mDiv80_positive_64_3_200000.pkl\n",
      "..\\models\\dictionary_ml1mDiv80_positive_64_3_200000.pkl\n",
      "..\\models\\rev_dict_ml1mDiv80_positive_64_3_200000.pkl\n",
      "0.01676249810513262\n",
      "..\\models\\model_ml1mDiv80_positive_64_1_200000.pkl\n",
      "..\\models\\dictionary_ml1mDiv80_positive_64_1_200000.pkl\n",
      "..\\models\\rev_dict_ml1mDiv80_positive_64_1_200000.pkl\n",
      "0.01607203612454516\n",
      "..\\models\\model_ml1mDiv80_positive_128_5_200000.pkl\n",
      "..\\models\\dictionary_ml1mDiv80_positive_128_5_200000.pkl\n",
      "..\\models\\rev_dict_ml1mDiv80_positive_128_5_200000.pkl\n",
      "0.01538060977558891\n",
      "..\\models\\model_ml1mDiv80_positive_128_3_200000.pkl\n",
      "..\\models\\dictionary_ml1mDiv80_positive_128_3_200000.pkl\n",
      "..\\models\\rev_dict_ml1mDiv80_positive_128_3_200000.pkl\n",
      "0.01631865830747585\n",
      "..\\models\\model_ml1mDiv80_positive_128_1_200000.pkl\n",
      "..\\models\\dictionary_ml1mDiv80_positive_128_1_200000.pkl\n",
      "..\\models\\rev_dict_ml1mDiv80_positive_128_1_200000.pkl\n",
      "0.016426983708637773\n",
      "..\\models\\model_ml1mDiv80_positive_32_5_200000.pkl\n",
      "..\\models\\dictionary_ml1mDiv80_positive_32_5_200000.pkl\n",
      "..\\models\\rev_dict_ml1mDiv80_positive_32_5_200000.pkl\n",
      "0.02140660372028108\n",
      "..\\models\\model_ml1mDiv80_positive_32_3_200000.pkl\n",
      "..\\models\\dictionary_ml1mDiv80_positive_32_3_200000.pkl\n",
      "..\\models\\rev_dict_ml1mDiv80_positive_32_3_200000.pkl\n",
      "0.02333960196803999\n",
      "..\\models\\model_ml1mDiv80_positive_32_1_200000.pkl\n",
      "..\\models\\dictionary_ml1mDiv80_positive_32_1_200000.pkl\n",
      "..\\models\\rev_dict_ml1mDiv80_positive_32_1_200000.pkl\n",
      "0.018099427586121382\n",
      "..\\models\\model_ml1mDiv80_positive_64_5_200000.pkl\n",
      "..\\models\\dictionary_ml1mDiv80_positive_64_5_200000.pkl\n",
      "..\\models\\rev_dict_ml1mDiv80_positive_64_5_200000.pkl\n",
      "0.017391965205833533\n",
      "..\\models\\model_ml1mDiv80_positive_64_3_200000.pkl\n",
      "..\\models\\dictionary_ml1mDiv80_positive_64_3_200000.pkl\n",
      "..\\models\\rev_dict_ml1mDiv80_positive_64_3_200000.pkl\n",
      "0.01918237966772177\n",
      "..\\models\\model_ml1mDiv80_positive_64_1_200000.pkl\n",
      "..\\models\\dictionary_ml1mDiv80_positive_64_1_200000.pkl\n",
      "..\\models\\rev_dict_ml1mDiv80_positive_64_1_200000.pkl\n",
      "0.01513494993253253\n",
      "..\\models\\model_ml1mDiv80_positive_128_5_200000.pkl\n",
      "..\\models\\dictionary_ml1mDiv80_positive_128_5_200000.pkl\n",
      "..\\models\\rev_dict_ml1mDiv80_positive_128_5_200000.pkl\n",
      "0.01554441240249745\n",
      "..\\models\\model_ml1mDiv80_positive_128_3_200000.pkl\n",
      "..\\models\\dictionary_ml1mDiv80_positive_128_3_200000.pkl\n",
      "..\\models\\rev_dict_ml1mDiv80_positive_128_3_200000.pkl\n",
      "0.01685400241809096\n",
      "..\\models\\model_ml1mDiv80_positive_128_1_200000.pkl\n",
      "..\\models\\dictionary_ml1mDiv80_positive_128_1_200000.pkl\n",
      "..\\models\\rev_dict_ml1mDiv80_positive_128_1_200000.pkl\n",
      "0.016108762890364708\n",
      "..\\models\\model_ml1mDiv80_positive_32_5_200000.pkl\n",
      "..\\models\\dictionary_ml1mDiv80_positive_32_5_200000.pkl\n",
      "..\\models\\rev_dict_ml1mDiv80_positive_32_5_200000.pkl\n",
      "0.014985661360125004\n",
      "..\\models\\model_ml1mDiv80_positive_32_3_200000.pkl\n",
      "..\\models\\dictionary_ml1mDiv80_positive_32_3_200000.pkl\n",
      "..\\models\\rev_dict_ml1mDiv80_positive_32_3_200000.pkl\n",
      "0.014676399426334646\n",
      "..\\models\\model_ml1mDiv80_positive_32_1_200000.pkl\n",
      "..\\models\\dictionary_ml1mDiv80_positive_32_1_200000.pkl\n",
      "..\\models\\rev_dict_ml1mDiv80_positive_32_1_200000.pkl\n",
      "0.013737486405453695\n",
      "..\\models\\model_ml1mDiv80_positive_64_5_200000.pkl\n",
      "..\\models\\dictionary_ml1mDiv80_positive_64_5_200000.pkl\n",
      "..\\models\\rev_dict_ml1mDiv80_positive_64_5_200000.pkl\n",
      "0.013329880292530212\n",
      "..\\models\\model_ml1mDiv80_positive_64_3_200000.pkl\n",
      "..\\models\\dictionary_ml1mDiv80_positive_64_3_200000.pkl\n",
      "..\\models\\rev_dict_ml1mDiv80_positive_64_3_200000.pkl\n",
      "0.01333458726900831\n",
      "..\\models\\model_ml1mDiv80_positive_64_1_200000.pkl\n",
      "..\\models\\dictionary_ml1mDiv80_positive_64_1_200000.pkl\n",
      "..\\models\\rev_dict_ml1mDiv80_positive_64_1_200000.pkl\n",
      "0.01340926447220865\n",
      "..\\models\\model_ml1mDiv80_positive_128_5_200000.pkl\n",
      "..\\models\\dictionary_ml1mDiv80_positive_128_5_200000.pkl\n",
      "..\\models\\rev_dict_ml1mDiv80_positive_128_5_200000.pkl\n",
      "0.013099496731120368\n",
      "..\\models\\model_ml1mDiv80_positive_128_3_200000.pkl\n",
      "..\\models\\dictionary_ml1mDiv80_positive_128_3_200000.pkl\n",
      "..\\models\\rev_dict_ml1mDiv80_positive_128_3_200000.pkl\n",
      "0.013537158067555417\n",
      "..\\models\\model_ml1mDiv80_positive_128_1_200000.pkl\n",
      "..\\models\\dictionary_ml1mDiv80_positive_128_1_200000.pkl\n",
      "..\\models\\rev_dict_ml1mDiv80_positive_128_1_200000.pkl\n",
      "0.01410072249201825\n",
      "..\\models\\model_ml1mDiv80_positive_32_5_200000.pkl\n",
      "..\\models\\dictionary_ml1mDiv80_positive_32_5_200000.pkl\n",
      "..\\models\\rev_dict_ml1mDiv80_positive_32_5_200000.pkl\n",
      "0.021140541137415196\n",
      "..\\models\\model_ml1mDiv80_positive_32_3_200000.pkl\n",
      "..\\models\\dictionary_ml1mDiv80_positive_32_3_200000.pkl\n",
      "..\\models\\rev_dict_ml1mDiv80_positive_32_3_200000.pkl\n",
      "0.02253483664941201\n",
      "..\\models\\model_ml1mDiv80_positive_32_1_200000.pkl\n",
      "..\\models\\dictionary_ml1mDiv80_positive_32_1_200000.pkl\n",
      "..\\models\\rev_dict_ml1mDiv80_positive_32_1_200000.pkl\n",
      "0.018241630382247256\n",
      "..\\models\\model_ml1mDiv80_positive_64_5_200000.pkl\n",
      "..\\models\\dictionary_ml1mDiv80_positive_64_5_200000.pkl\n",
      "..\\models\\rev_dict_ml1mDiv80_positive_64_5_200000.pkl\n",
      "0.016803060485276473\n",
      "..\\models\\model_ml1mDiv80_positive_64_3_200000.pkl\n",
      "..\\models\\dictionary_ml1mDiv80_positive_64_3_200000.pkl\n",
      "..\\models\\rev_dict_ml1mDiv80_positive_64_3_200000.pkl\n",
      "0.018107055084205948\n",
      "..\\models\\model_ml1mDiv80_positive_64_1_200000.pkl\n",
      "..\\models\\dictionary_ml1mDiv80_positive_64_1_200000.pkl\n",
      "..\\models\\rev_dict_ml1mDiv80_positive_64_1_200000.pkl\n",
      "0.015430898991060364\n",
      "..\\models\\model_ml1mDiv80_positive_128_5_200000.pkl\n",
      "..\\models\\dictionary_ml1mDiv80_positive_128_5_200000.pkl\n",
      "..\\models\\rev_dict_ml1mDiv80_positive_128_5_200000.pkl\n",
      "0.015009387315207732\n",
      "..\\models\\model_ml1mDiv80_positive_128_3_200000.pkl\n",
      "..\\models\\dictionary_ml1mDiv80_positive_128_3_200000.pkl\n",
      "..\\models\\rev_dict_ml1mDiv80_positive_128_3_200000.pkl\n",
      "0.016896884110866282\n",
      "..\\models\\model_ml1mDiv80_positive_128_1_200000.pkl\n",
      "..\\models\\dictionary_ml1mDiv80_positive_128_1_200000.pkl\n",
      "..\\models\\rev_dict_ml1mDiv80_positive_128_1_200000.pkl\n",
      "0.016158053631058072\n"
     ]
    },
    {
     "ename": "ValueError",
     "evalue": "arrays must all be same length",
     "output_type": "error",
     "traceback": [
      "\u001b[1;31m---------------------------------------------------------------------------\u001b[0m",
      "\u001b[1;31mValueError\u001b[0m                                Traceback (most recent call last)",
      "\u001b[1;32m<ipython-input-19-b4ed04a1e93d>\u001b[0m in \u001b[0;36m<module>\u001b[1;34m()\u001b[0m\n\u001b[0;32m     30\u001b[0m \u001b[0mpar\u001b[0m \u001b[1;33m=\u001b[0m \u001b[1;33m[\u001b[0m\u001b[0mparams_list\u001b[0m\u001b[1;33m[\u001b[0m\u001b[1;36m0\u001b[0m\u001b[1;33m]\u001b[0m\u001b[1;33m]\u001b[0m\u001b[1;33m\u001b[0m\u001b[1;33m\u001b[0m\u001b[0m\n\u001b[0;32m     31\u001b[0m \u001b[1;33m\u001b[0m\u001b[0m\n\u001b[1;32m---> 32\u001b[1;33m \u001b[0mresultsDF\u001b[0m \u001b[1;33m=\u001b[0m \u001b[0mpd\u001b[0m\u001b[1;33m.\u001b[0m\u001b[0mDataFrame\u001b[0m\u001b[1;33m(\u001b[0m\u001b[1;33m{\u001b[0m\u001b[1;34m\"params\"\u001b[0m\u001b[1;33m:\u001b[0m\u001b[0mparams_list\u001b[0m\u001b[1;33m,\u001b[0m \u001b[1;34m\"meanNDCG\"\u001b[0m\u001b[1;33m:\u001b[0m\u001b[0mscoresMean\u001b[0m\u001b[1;33m}\u001b[0m\u001b[1;33m)\u001b[0m\u001b[1;33m\u001b[0m\u001b[1;33m\u001b[0m\u001b[0m\n\u001b[0m\u001b[0;32m     33\u001b[0m \u001b[0mresultsDF\u001b[0m\u001b[1;33m\u001b[0m\u001b[1;33m\u001b[0m\u001b[0m\n",
      "\u001b[1;32mC:\\Users\\lpeska\\AppData\\Roaming\\Python\\Python37\\site-packages\\pandas\\core\\frame.py\u001b[0m in \u001b[0;36m__init__\u001b[1;34m(self, data, index, columns, dtype, copy)\u001b[0m\n\u001b[0;32m    433\u001b[0m             )\n\u001b[0;32m    434\u001b[0m         \u001b[1;32melif\u001b[0m \u001b[0misinstance\u001b[0m\u001b[1;33m(\u001b[0m\u001b[0mdata\u001b[0m\u001b[1;33m,\u001b[0m \u001b[0mdict\u001b[0m\u001b[1;33m)\u001b[0m\u001b[1;33m:\u001b[0m\u001b[1;33m\u001b[0m\u001b[1;33m\u001b[0m\u001b[0m\n\u001b[1;32m--> 435\u001b[1;33m             \u001b[0mmgr\u001b[0m \u001b[1;33m=\u001b[0m \u001b[0minit_dict\u001b[0m\u001b[1;33m(\u001b[0m\u001b[0mdata\u001b[0m\u001b[1;33m,\u001b[0m \u001b[0mindex\u001b[0m\u001b[1;33m,\u001b[0m \u001b[0mcolumns\u001b[0m\u001b[1;33m,\u001b[0m \u001b[0mdtype\u001b[0m\u001b[1;33m=\u001b[0m\u001b[0mdtype\u001b[0m\u001b[1;33m)\u001b[0m\u001b[1;33m\u001b[0m\u001b[1;33m\u001b[0m\u001b[0m\n\u001b[0m\u001b[0;32m    436\u001b[0m         \u001b[1;32melif\u001b[0m \u001b[0misinstance\u001b[0m\u001b[1;33m(\u001b[0m\u001b[0mdata\u001b[0m\u001b[1;33m,\u001b[0m \u001b[0mma\u001b[0m\u001b[1;33m.\u001b[0m\u001b[0mMaskedArray\u001b[0m\u001b[1;33m)\u001b[0m\u001b[1;33m:\u001b[0m\u001b[1;33m\u001b[0m\u001b[1;33m\u001b[0m\u001b[0m\n\u001b[0;32m    437\u001b[0m             \u001b[1;32mimport\u001b[0m \u001b[0mnumpy\u001b[0m\u001b[1;33m.\u001b[0m\u001b[0mma\u001b[0m\u001b[1;33m.\u001b[0m\u001b[0mmrecords\u001b[0m \u001b[1;32mas\u001b[0m \u001b[0mmrecords\u001b[0m\u001b[1;33m\u001b[0m\u001b[1;33m\u001b[0m\u001b[0m\n",
      "\u001b[1;32mC:\\Users\\lpeska\\AppData\\Roaming\\Python\\Python37\\site-packages\\pandas\\core\\internals\\construction.py\u001b[0m in \u001b[0;36minit_dict\u001b[1;34m(data, index, columns, dtype)\u001b[0m\n\u001b[0;32m    252\u001b[0m             \u001b[0marr\u001b[0m \u001b[1;32mif\u001b[0m \u001b[1;32mnot\u001b[0m \u001b[0mis_datetime64tz_dtype\u001b[0m\u001b[1;33m(\u001b[0m\u001b[0marr\u001b[0m\u001b[1;33m)\u001b[0m \u001b[1;32melse\u001b[0m \u001b[0marr\u001b[0m\u001b[1;33m.\u001b[0m\u001b[0mcopy\u001b[0m\u001b[1;33m(\u001b[0m\u001b[1;33m)\u001b[0m \u001b[1;32mfor\u001b[0m \u001b[0marr\u001b[0m \u001b[1;32min\u001b[0m \u001b[0marrays\u001b[0m\u001b[1;33m\u001b[0m\u001b[1;33m\u001b[0m\u001b[0m\n\u001b[0;32m    253\u001b[0m         ]\n\u001b[1;32m--> 254\u001b[1;33m     \u001b[1;32mreturn\u001b[0m \u001b[0marrays_to_mgr\u001b[0m\u001b[1;33m(\u001b[0m\u001b[0marrays\u001b[0m\u001b[1;33m,\u001b[0m \u001b[0mdata_names\u001b[0m\u001b[1;33m,\u001b[0m \u001b[0mindex\u001b[0m\u001b[1;33m,\u001b[0m \u001b[0mcolumns\u001b[0m\u001b[1;33m,\u001b[0m \u001b[0mdtype\u001b[0m\u001b[1;33m=\u001b[0m\u001b[0mdtype\u001b[0m\u001b[1;33m)\u001b[0m\u001b[1;33m\u001b[0m\u001b[1;33m\u001b[0m\u001b[0m\n\u001b[0m\u001b[0;32m    255\u001b[0m \u001b[1;33m\u001b[0m\u001b[0m\n\u001b[0;32m    256\u001b[0m \u001b[1;33m\u001b[0m\u001b[0m\n",
      "\u001b[1;32mC:\\Users\\lpeska\\AppData\\Roaming\\Python\\Python37\\site-packages\\pandas\\core\\internals\\construction.py\u001b[0m in \u001b[0;36marrays_to_mgr\u001b[1;34m(arrays, arr_names, index, columns, dtype)\u001b[0m\n\u001b[0;32m     62\u001b[0m     \u001b[1;31m# figure out the index, if necessary\u001b[0m\u001b[1;33m\u001b[0m\u001b[1;33m\u001b[0m\u001b[1;33m\u001b[0m\u001b[0m\n\u001b[0;32m     63\u001b[0m     \u001b[1;32mif\u001b[0m \u001b[0mindex\u001b[0m \u001b[1;32mis\u001b[0m \u001b[1;32mNone\u001b[0m\u001b[1;33m:\u001b[0m\u001b[1;33m\u001b[0m\u001b[1;33m\u001b[0m\u001b[0m\n\u001b[1;32m---> 64\u001b[1;33m         \u001b[0mindex\u001b[0m \u001b[1;33m=\u001b[0m \u001b[0mextract_index\u001b[0m\u001b[1;33m(\u001b[0m\u001b[0marrays\u001b[0m\u001b[1;33m)\u001b[0m\u001b[1;33m\u001b[0m\u001b[1;33m\u001b[0m\u001b[0m\n\u001b[0m\u001b[0;32m     65\u001b[0m     \u001b[1;32melse\u001b[0m\u001b[1;33m:\u001b[0m\u001b[1;33m\u001b[0m\u001b[1;33m\u001b[0m\u001b[0m\n\u001b[0;32m     66\u001b[0m         \u001b[0mindex\u001b[0m \u001b[1;33m=\u001b[0m \u001b[0mensure_index\u001b[0m\u001b[1;33m(\u001b[0m\u001b[0mindex\u001b[0m\u001b[1;33m)\u001b[0m\u001b[1;33m\u001b[0m\u001b[1;33m\u001b[0m\u001b[0m\n",
      "\u001b[1;32mC:\\Users\\lpeska\\AppData\\Roaming\\Python\\Python37\\site-packages\\pandas\\core\\internals\\construction.py\u001b[0m in \u001b[0;36mextract_index\u001b[1;34m(data)\u001b[0m\n\u001b[0;32m    363\u001b[0m             \u001b[0mlengths\u001b[0m \u001b[1;33m=\u001b[0m \u001b[0mlist\u001b[0m\u001b[1;33m(\u001b[0m\u001b[0mset\u001b[0m\u001b[1;33m(\u001b[0m\u001b[0mraw_lengths\u001b[0m\u001b[1;33m)\u001b[0m\u001b[1;33m)\u001b[0m\u001b[1;33m\u001b[0m\u001b[1;33m\u001b[0m\u001b[0m\n\u001b[0;32m    364\u001b[0m             \u001b[1;32mif\u001b[0m \u001b[0mlen\u001b[0m\u001b[1;33m(\u001b[0m\u001b[0mlengths\u001b[0m\u001b[1;33m)\u001b[0m \u001b[1;33m>\u001b[0m \u001b[1;36m1\u001b[0m\u001b[1;33m:\u001b[0m\u001b[1;33m\u001b[0m\u001b[1;33m\u001b[0m\u001b[0m\n\u001b[1;32m--> 365\u001b[1;33m                 \u001b[1;32mraise\u001b[0m \u001b[0mValueError\u001b[0m\u001b[1;33m(\u001b[0m\u001b[1;34m\"arrays must all be same length\"\u001b[0m\u001b[1;33m)\u001b[0m\u001b[1;33m\u001b[0m\u001b[1;33m\u001b[0m\u001b[0m\n\u001b[0m\u001b[0;32m    366\u001b[0m \u001b[1;33m\u001b[0m\u001b[0m\n\u001b[0;32m    367\u001b[0m             \u001b[1;32mif\u001b[0m \u001b[0mhave_dicts\u001b[0m\u001b[1;33m:\u001b[0m\u001b[1;33m\u001b[0m\u001b[1;33m\u001b[0m\u001b[0m\n",
      "\u001b[1;31mValueError\u001b[0m: arrays must all be same length"
     ]
    }
   ],
   "source": [
    "i = 0\n",
    "\n",
    "scoresMean = []\n",
    "scoresInd = []\n",
    "\n",
    "for params in params_list_userProfile:\n",
    "    i += 1\n",
    "    rec:ARecommender = RecommenderW2V(\"test\", params)\n",
    "    rec.train(HistoryDF(\"hyperparams_tuning_W2V\"+str(i)), trainDataset)\n",
    "    scoresVector = []\n",
    "    \n",
    "    for user in users:\n",
    "        recList = rec.recommend(user, 20, params)\n",
    "        #print(recList.index)\n",
    "        #print(type(recList.index))\n",
    "        #rl = np.array([i[0] for i in recList])\n",
    "        #print(rl)\n",
    "        relScore = np.zeros((1,maxOID+1))\n",
    "        relScore[0,recList.index] = recList.values\n",
    "        #print(relScore.sum())\n",
    "        #print(np.isin(recList.index, trueList[user].values))\n",
    "        res = ndcg_score(trueRelevance[user], relScore, k=20)\n",
    "        scoresVector.append(res)\n",
    "        \n",
    "    meanScore = np.mean(scoresVector)\n",
    "    scoresMean.append(meanScore)\n",
    "    scoresInd.append(scoresVector)\n",
    "    print(meanScore)\n",
    "\n",
    "par = [params_list[0]]\n",
    "\n",
    "resultsDF = pd.DataFrame({\"params\":params_list_userProfile, \"meanNDCG\":scoresMean})\n",
    "resultsDF"
   ]
  },
  {
   "cell_type": "code",
   "execution_count": 23,
   "metadata": {},
   "outputs": [
    {
     "data": {
      "text/html": [
       "<div>\n",
       "<style scoped>\n",
       "    .dataframe tbody tr th:only-of-type {\n",
       "        vertical-align: middle;\n",
       "    }\n",
       "\n",
       "    .dataframe tbody tr th {\n",
       "        vertical-align: top;\n",
       "    }\n",
       "\n",
       "    .dataframe thead th {\n",
       "        text-align: right;\n",
       "    }\n",
       "</style>\n",
       "<table border=\"1\" class=\"dataframe\">\n",
       "  <thead>\n",
       "    <tr style=\"text-align: right;\">\n",
       "      <th></th>\n",
       "      <th>params</th>\n",
       "      <th>meanNDCG</th>\n",
       "    </tr>\n",
       "  </thead>\n",
       "  <tbody>\n",
       "    <tr>\n",
       "      <th>0</th>\n",
       "      <td>{'datasetId': 'ml1mDiv80', 'iterations': 50000...</td>\n",
       "      <td>0.020524</td>\n",
       "    </tr>\n",
       "    <tr>\n",
       "      <th>1</th>\n",
       "      <td>{'datasetId': 'ml1mDiv80', 'iterations': 50000...</td>\n",
       "      <td>0.025751</td>\n",
       "    </tr>\n",
       "    <tr>\n",
       "      <th>2</th>\n",
       "      <td>{'datasetId': 'ml1mDiv80', 'iterations': 50000...</td>\n",
       "      <td>0.022062</td>\n",
       "    </tr>\n",
       "    <tr>\n",
       "      <th>3</th>\n",
       "      <td>{'datasetId': 'ml1mDiv80', 'iterations': 50000...</td>\n",
       "      <td>0.025633</td>\n",
       "    </tr>\n",
       "    <tr>\n",
       "      <th>4</th>\n",
       "      <td>{'datasetId': 'ml1mDiv80', 'iterations': 50000...</td>\n",
       "      <td>0.029389</td>\n",
       "    </tr>\n",
       "    <tr>\n",
       "      <th>...</th>\n",
       "      <td>...</td>\n",
       "      <td>...</td>\n",
       "    </tr>\n",
       "    <tr>\n",
       "      <th>481</th>\n",
       "      <td>{'datasetId': 'ml1mDiv80', 'iterations': 20000...</td>\n",
       "      <td>0.018107</td>\n",
       "    </tr>\n",
       "    <tr>\n",
       "      <th>482</th>\n",
       "      <td>{'datasetId': 'ml1mDiv80', 'iterations': 20000...</td>\n",
       "      <td>0.015431</td>\n",
       "    </tr>\n",
       "    <tr>\n",
       "      <th>483</th>\n",
       "      <td>{'datasetId': 'ml1mDiv80', 'iterations': 20000...</td>\n",
       "      <td>0.015009</td>\n",
       "    </tr>\n",
       "    <tr>\n",
       "      <th>484</th>\n",
       "      <td>{'datasetId': 'ml1mDiv80', 'iterations': 20000...</td>\n",
       "      <td>0.016897</td>\n",
       "    </tr>\n",
       "    <tr>\n",
       "      <th>485</th>\n",
       "      <td>{'datasetId': 'ml1mDiv80', 'iterations': 20000...</td>\n",
       "      <td>0.016158</td>\n",
       "    </tr>\n",
       "  </tbody>\n",
       "</table>\n",
       "<p>486 rows × 2 columns</p>\n",
       "</div>"
      ],
      "text/plain": [
       "                                                params  meanNDCG\n",
       "0    {'datasetId': 'ml1mDiv80', 'iterations': 50000...  0.020524\n",
       "1    {'datasetId': 'ml1mDiv80', 'iterations': 50000...  0.025751\n",
       "2    {'datasetId': 'ml1mDiv80', 'iterations': 50000...  0.022062\n",
       "3    {'datasetId': 'ml1mDiv80', 'iterations': 50000...  0.025633\n",
       "4    {'datasetId': 'ml1mDiv80', 'iterations': 50000...  0.029389\n",
       "..                                                 ...       ...\n",
       "481  {'datasetId': 'ml1mDiv80', 'iterations': 20000...  0.018107\n",
       "482  {'datasetId': 'ml1mDiv80', 'iterations': 20000...  0.015431\n",
       "483  {'datasetId': 'ml1mDiv80', 'iterations': 20000...  0.015009\n",
       "484  {'datasetId': 'ml1mDiv80', 'iterations': 20000...  0.016897\n",
       "485  {'datasetId': 'ml1mDiv80', 'iterations': 20000...  0.016158\n",
       "\n",
       "[486 rows x 2 columns]"
      ]
     },
     "execution_count": 23,
     "metadata": {},
     "output_type": "execute_result"
    }
   ],
   "source": [
    "resultsDF = pd.DataFrame({\"params\":params_list_userProfile, \"meanNDCG\":scoresMean})\n",
    "resultsDF"
   ]
  },
  {
   "cell_type": "code",
   "execution_count": 23,
   "metadata": {},
   "outputs": [
    {
     "data": {
      "text/html": [
       "<div>\n",
       "<style scoped>\n",
       "    .dataframe tbody tr th:only-of-type {\n",
       "        vertical-align: middle;\n",
       "    }\n",
       "\n",
       "    .dataframe tbody tr th {\n",
       "        vertical-align: top;\n",
       "    }\n",
       "\n",
       "    .dataframe thead th {\n",
       "        text-align: right;\n",
       "    }\n",
       "</style>\n",
       "<table border=\"1\" class=\"dataframe\">\n",
       "  <thead>\n",
       "    <tr style=\"text-align: right;\">\n",
       "      <th></th>\n",
       "      <th>params</th>\n",
       "      <th>meanNDCG</th>\n",
       "    </tr>\n",
       "  </thead>\n",
       "  <tbody>\n",
       "    <tr>\n",
       "      <th>41</th>\n",
       "      <td>{'factors': 5, 'iterations': 20, 'learning_rat...</td>\n",
       "      <td>0.116194</td>\n",
       "    </tr>\n",
       "    <tr>\n",
       "      <th>317</th>\n",
       "      <td>{'factors': 100, 'iterations': 50, 'learning_r...</td>\n",
       "      <td>0.116730</td>\n",
       "    </tr>\n",
       "    <tr>\n",
       "      <th>127</th>\n",
       "      <td>{'factors': 10, 'iterations': 50, 'learning_ra...</td>\n",
       "      <td>0.116866</td>\n",
       "    </tr>\n",
       "    <tr>\n",
       "      <th>255</th>\n",
       "      <td>{'factors': 50, 'iterations': 50, 'learning_ra...</td>\n",
       "      <td>0.117031</td>\n",
       "    </tr>\n",
       "    <tr>\n",
       "      <th>42</th>\n",
       "      <td>{'factors': 5, 'iterations': 20, 'learning_rat...</td>\n",
       "      <td>0.117201</td>\n",
       "    </tr>\n",
       "    <tr>\n",
       "      <th>20</th>\n",
       "      <td>{'factors': 5, 'iterations': 10, 'learning_rat...</td>\n",
       "      <td>0.117445</td>\n",
       "    </tr>\n",
       "    <tr>\n",
       "      <th>298</th>\n",
       "      <td>{'factors': 100, 'iterations': 20, 'learning_r...</td>\n",
       "      <td>0.117570</td>\n",
       "    </tr>\n",
       "    <tr>\n",
       "      <th>126</th>\n",
       "      <td>{'factors': 10, 'iterations': 50, 'learning_ra...</td>\n",
       "      <td>0.117882</td>\n",
       "    </tr>\n",
       "    <tr>\n",
       "      <th>155</th>\n",
       "      <td>{'factors': 20, 'iterations': 10, 'learning_ra...</td>\n",
       "      <td>0.118124</td>\n",
       "    </tr>\n",
       "    <tr>\n",
       "      <th>191</th>\n",
       "      <td>{'factors': 20, 'iterations': 50, 'learning_ra...</td>\n",
       "      <td>0.118439</td>\n",
       "    </tr>\n",
       "  </tbody>\n",
       "</table>\n",
       "</div>"
      ],
      "text/plain": [
       "                                                params  meanNDCG\n",
       "41   {'factors': 5, 'iterations': 20, 'learning_rat...  0.116194\n",
       "317  {'factors': 100, 'iterations': 50, 'learning_r...  0.116730\n",
       "127  {'factors': 10, 'iterations': 50, 'learning_ra...  0.116866\n",
       "255  {'factors': 50, 'iterations': 50, 'learning_ra...  0.117031\n",
       "42   {'factors': 5, 'iterations': 20, 'learning_rat...  0.117201\n",
       "20   {'factors': 5, 'iterations': 10, 'learning_rat...  0.117445\n",
       "298  {'factors': 100, 'iterations': 20, 'learning_r...  0.117570\n",
       "126  {'factors': 10, 'iterations': 50, 'learning_ra...  0.117882\n",
       "155  {'factors': 20, 'iterations': 10, 'learning_ra...  0.118124\n",
       "191  {'factors': 20, 'iterations': 50, 'learning_ra...  0.118439"
      ]
     },
     "execution_count": 23,
     "metadata": {},
     "output_type": "execute_result"
    }
   ],
   "source": [
    "resultsDF.sort_values(by=\"meanNDCG\")[-10:]"
   ]
  },
  {
   "cell_type": "code",
   "execution_count": 25,
   "metadata": {},
   "outputs": [
    {
     "data": {
      "text/plain": [
       "{'datasetId': 'ml1mDiv80',\n",
       " 'iterations': 50000,\n",
       " 'trainVariant': 'positive',\n",
       " 'userProfileSize': -1,\n",
       " 'userProfileStrategy': 'mean',\n",
       " 'vectorSize': 64,\n",
       " 'windowSize': 3}"
      ]
     },
     "execution_count": 25,
     "metadata": {},
     "output_type": "execute_result"
    }
   ],
   "source": [
    "resultsDF.iloc[4,0] #best... however all are not so good compared to the MF"
   ]
  },
  {
   "cell_type": "code",
   "execution_count": 26,
   "metadata": {},
   "outputs": [
    {
     "data": {
      "text/plain": [
       "{'datasetId': 'ml1mDiv80',\n",
       " 'iterations': 50000,\n",
       " 'trainVariant': 'positive',\n",
       " 'userProfileSize': -1,\n",
       " 'userProfileStrategy': 'weightedMean',\n",
       " 'vectorSize': 64,\n",
       " 'windowSize': 3}"
      ]
     },
     "execution_count": 26,
     "metadata": {},
     "output_type": "execute_result"
    }
   ],
   "source": [
    "resultsDF.iloc[22,0] #2nd best... however all are not so good compared to the MF"
   ]
  },
  {
   "cell_type": "code",
   "execution_count": 27,
   "metadata": {},
   "outputs": [
    {
     "data": {
      "text/plain": [
       "{'datasetId': 'ml1mDiv80',\n",
       " 'iterations': 50000,\n",
       " 'trainVariant': 'positive',\n",
       " 'userProfileSize': -1,\n",
       " 'userProfileStrategy': 'weightedMean',\n",
       " 'vectorSize': 128,\n",
       " 'windowSize': 3}"
      ]
     },
     "execution_count": 27,
     "metadata": {},
     "output_type": "execute_result"
    }
   ],
   "source": [
    "resultsDF.iloc[25,0] #3rd best... however all are not so good compared to the MF"
   ]
  },
  {
   "cell_type": "code",
   "execution_count": 28,
   "metadata": {},
   "outputs": [
    {
     "data": {
      "text/plain": [
       "{'datasetId': 'ml1mDiv80',\n",
       " 'iterations': 50000,\n",
       " 'trainVariant': 'positive',\n",
       " 'userProfileSize': -1,\n",
       " 'userProfileStrategy': 'mean',\n",
       " 'vectorSize': 128,\n",
       " 'windowSize': 3}"
      ]
     },
     "execution_count": 28,
     "metadata": {},
     "output_type": "execute_result"
    }
   ],
   "source": [
    "resultsDF.iloc[7,0] #4th best... however all are not so good compared to the MF"
   ]
  },
  {
   "cell_type": "code",
   "execution_count": 37,
   "metadata": {},
   "outputs": [
    {
     "data": {
      "text/plain": [
       "params      {'datasetId': 'ml1mDiv80', 'iterations': 20000...\n",
       "meanNDCG                                            0.0156315\n",
       "Name: 400, dtype: object"
      ]
     },
     "execution_count": 37,
     "metadata": {},
     "output_type": "execute_result"
    }
   ],
   "source": [
    "resultsDF.iloc[400]"
   ]
  },
  {
   "cell_type": "code",
   "execution_count": null,
   "metadata": {},
   "outputs": [],
   "source": []
  }
 ],
 "metadata": {
  "kernelspec": {
   "display_name": "Python 3",
   "language": "python",
   "name": "python3"
  },
  "language_info": {
   "codemirror_mode": {
    "name": "ipython",
    "version": 3
   },
   "file_extension": ".py",
   "mimetype": "text/x-python",
   "name": "python",
   "nbconvert_exporter": "python",
   "pygments_lexer": "ipython3",
   "version": "3.9.1"
  }
 },
 "nbformat": 4,
 "nbformat_minor": 4
}
