{
 "cells": [
  {
   "cell_type": "code",
   "execution_count": 1,
   "metadata": {},
   "outputs": [],
   "source": [
    "import os\n",
    "import numpy as np\n",
    "\n",
    "from configuration.configuration import Configuration #class\n",
    "\n",
    "from pandas.core.frame import DataFrame #class\n",
    "from pandas.core.series import Series #class\n",
    "\n",
    "from datasets.aDataset import ADataset #class\n",
    "from datasets.datasetML import DatasetML #class\n",
    "\n",
    "from datasets.ml.ratings import Ratings #class\n",
    "from datasets.ml.items import Items #class\n",
    "from datasets.ml.users import Users #class\n",
    "\n",
    "from history.historyDF import HistoryDF #class\n",
    "\n",
    "from recommender.aRecommender import ARecommender #class\n",
    "\n",
    "import pandas as pd\n",
    "\n",
    "from sklearn.model_selection import ParameterGrid"
   ]
  },
  {
   "cell_type": "markdown",
   "metadata": {},
   "source": [
    "## Prepare train and test sets"
   ]
  },
  {
   "cell_type": "code",
   "execution_count": 2,
   "metadata": {},
   "outputs": [
    {
     "data": {
      "text/plain": [
       "(463020, 4)"
      ]
     },
     "execution_count": 2,
     "metadata": {},
     "output_type": "execute_result"
    }
   ],
   "source": [
    "TRAIN_RATIO = 0.8\n",
    "VALIDATION_RATIO = 0.1\n",
    "dataset:DatasetML = DatasetML.readDatasets()\n",
    "\n",
    "ratingsDF:DataFrame = dataset.ratingsDF\n",
    "usersDF:DataFrame = dataset.usersDF\n",
    "itemsDF:DataFrame = dataset.itemsDF\n",
    "\n",
    "ratingsSortedDF:DataFrame = ratingsDF.sort_values(by=Ratings.COL_TIMESTAMP)\n",
    "numberOfRatings:int = ratingsSortedDF.shape[0]\n",
    "\n",
    "trainSize:int = (int)(numberOfRatings * TRAIN_RATIO)\n",
    "trainRatingsDF:DataFrame = ratingsSortedDF[0:trainSize]\n",
    "trainRatingsDF = trainRatingsDF.loc[trainRatingsDF[Ratings.COL_RATING] >= 4] \n",
    "#trainRatingsDF.max()\n",
    "\n",
    "testSize:int = (int)(numberOfRatings * VALIDATION_RATIO)    \n",
    "testRatingsDF:DataFrame = ratingsSortedDF[trainSize:(trainSize + testSize)]\n",
    "testRatingsDF = testRatingsDF.loc[testRatingsDF[Ratings.COL_RATING] >= 4] \n",
    "\n",
    "\n",
    "testRatingsDF.reset_index(drop=True, inplace=True)\n",
    "trainRatingsDF.reset_index(drop=True, inplace=True)\n",
    "\n",
    "trainDataset:ADataset = DatasetML(trainRatingsDF, usersDF, itemsDF)\n",
    "trainRatingsDF.shape"
   ]
  },
  {
   "cell_type": "code",
   "execution_count": 3,
   "metadata": {},
   "outputs": [
    {
     "data": {
      "text/plain": [
       "(57808, 4)"
      ]
     },
     "execution_count": 3,
     "metadata": {},
     "output_type": "execute_result"
    }
   ],
   "source": [
    "testRatingsDF.shape"
   ]
  },
  {
   "cell_type": "code",
   "execution_count": 4,
   "metadata": {},
   "outputs": [
    {
     "data": {
      "text/html": [
       "<div>\n",
       "<style scoped>\n",
       "    .dataframe tbody tr th:only-of-type {\n",
       "        vertical-align: middle;\n",
       "    }\n",
       "\n",
       "    .dataframe tbody tr th {\n",
       "        vertical-align: top;\n",
       "    }\n",
       "\n",
       "    .dataframe thead th {\n",
       "        text-align: right;\n",
       "    }\n",
       "</style>\n",
       "<table border=\"1\" class=\"dataframe\">\n",
       "  <thead>\n",
       "    <tr style=\"text-align: right;\">\n",
       "      <th></th>\n",
       "      <th>userId</th>\n",
       "      <th>movieId</th>\n",
       "      <th>rating</th>\n",
       "      <th>timestamp</th>\n",
       "    </tr>\n",
       "  </thead>\n",
       "  <tbody>\n",
       "    <tr>\n",
       "      <th>0</th>\n",
       "      <td>1875</td>\n",
       "      <td>1721</td>\n",
       "      <td>4</td>\n",
       "      <td>975768738</td>\n",
       "    </tr>\n",
       "    <tr>\n",
       "      <th>1</th>\n",
       "      <td>1875</td>\n",
       "      <td>2621</td>\n",
       "      <td>4</td>\n",
       "      <td>975768748</td>\n",
       "    </tr>\n",
       "    <tr>\n",
       "      <th>2</th>\n",
       "      <td>635</td>\n",
       "      <td>3095</td>\n",
       "      <td>5</td>\n",
       "      <td>975768756</td>\n",
       "    </tr>\n",
       "    <tr>\n",
       "      <th>3</th>\n",
       "      <td>635</td>\n",
       "      <td>36</td>\n",
       "      <td>5</td>\n",
       "      <td>975768756</td>\n",
       "    </tr>\n",
       "    <tr>\n",
       "      <th>4</th>\n",
       "      <td>635</td>\n",
       "      <td>608</td>\n",
       "      <td>5</td>\n",
       "      <td>975768756</td>\n",
       "    </tr>\n",
       "  </tbody>\n",
       "</table>\n",
       "</div>"
      ],
      "text/plain": [
       "   userId  movieId  rating  timestamp\n",
       "0    1875     1721       4  975768738\n",
       "1    1875     2621       4  975768748\n",
       "2     635     3095       5  975768756\n",
       "3     635       36       5  975768756\n",
       "4     635      608       5  975768756"
      ]
     },
     "execution_count": 4,
     "metadata": {},
     "output_type": "execute_result"
    }
   ],
   "source": [
    "testRatingsDF.head()"
   ]
  },
  {
   "cell_type": "markdown",
   "metadata": {},
   "source": [
    "## Define recommending requests + some statistics on TRUE_vals sizes"
   ]
  },
  {
   "cell_type": "code",
   "execution_count": 5,
   "metadata": {},
   "outputs": [
    {
     "data": {
      "text/plain": [
       "(1103,)"
      ]
     },
     "execution_count": 5,
     "metadata": {},
     "output_type": "execute_result"
    }
   ],
   "source": [
    "users = testRatingsDF[Ratings.COL_USERID].unique()\n",
    "users.shape"
   ]
  },
  {
   "cell_type": "code",
   "execution_count": 6,
   "metadata": {},
   "outputs": [
    {
     "data": {
      "text/plain": [
       "array([1875,  635, 2784, ...,   26,   25,   24], dtype=int64)"
      ]
     },
     "execution_count": 6,
     "metadata": {},
     "output_type": "execute_result"
    }
   ],
   "source": [
    "users"
   ]
  },
  {
   "cell_type": "code",
   "execution_count": 7,
   "metadata": {},
   "outputs": [],
   "source": [
    "trueList = {}\n",
    "trueRelevance = {}\n",
    "vals = []\n",
    "maxOID = itemsDF[Items.COL_MOVIEID].max()\n",
    "\n",
    "for user in users:\n",
    "    trueValsPerUser = testRatingsDF.loc[testRatingsDF[Ratings.COL_USERID] == user]\n",
    "    vals.append(trueValsPerUser.shape[0])\n",
    "    #print(trueValsPerUser.shape[0])\n",
    "    trueList[user] = trueValsPerUser[Ratings.COL_MOVIEID]\n",
    "    relScore = np.zeros((1,maxOID+1))\n",
    "    relScore[0,trueList[user].values] = 1\n",
    "    trueRelevance[user] = relScore"
   ]
  },
  {
   "cell_type": "code",
   "execution_count": 8,
   "metadata": {},
   "outputs": [
    {
     "data": {
      "text/plain": [
       "72.0"
      ]
     },
     "execution_count": 8,
     "metadata": {},
     "output_type": "execute_result"
    }
   ],
   "source": [
    "trueRelevance[1875].sum()"
   ]
  },
  {
   "cell_type": "code",
   "execution_count": 9,
   "metadata": {},
   "outputs": [
    {
     "data": {
      "text/plain": [
       "57808"
      ]
     },
     "execution_count": 9,
     "metadata": {},
     "output_type": "execute_result"
    }
   ],
   "source": [
    "import numpy as np\n",
    "np.sum(vals)"
   ]
  },
  {
   "cell_type": "code",
   "execution_count": 10,
   "metadata": {},
   "outputs": [
    {
     "data": {
      "text/plain": [
       "(741, 1)"
      ]
     },
     "execution_count": 10,
     "metadata": {},
     "output_type": "execute_result"
    }
   ],
   "source": [
    "np.max(vals),np.min(vals)"
   ]
  },
  {
   "cell_type": "code",
   "execution_count": 11,
   "metadata": {},
   "outputs": [
    {
     "data": {
      "text/plain": [
       "<AxesSubplot:>"
      ]
     },
     "execution_count": 11,
     "metadata": {},
     "output_type": "execute_result"
    }
   ],
   "source": [
    "pd.Series(vals).hist()"
   ]
  },
  {
   "cell_type": "code",
   "execution_count": 12,
   "metadata": {},
   "outputs": [
    {
     "data": {
      "image/png": "[encoded data removed]",
      "text/plain": [
       "<Figure size 432x288 with 1 Axes>"
      ]
     },
     "metadata": {
      "needs_background": "light"
     },
     "output_type": "display_data"
    }
   ],
   "source": [
    "from matplotlib import pyplot as plt\n",
    "fig, ax = plt.subplots()\n",
    "pd.Series(vals).hist(ax=ax, bins=np.logspace(np.log10(1),np.log10(1000), 20))\n",
    "ax.set_xscale('log')"
   ]
  },
  {
   "cell_type": "code",
   "execution_count": 13,
   "metadata": {},
   "outputs": [
    {
     "data": {
      "text/plain": [
       "0      1721\n",
       "1      2621\n",
       "7        11\n",
       "8       539\n",
       "9      1722\n",
       "       ... \n",
       "133    2971\n",
       "134    1220\n",
       "135     938\n",
       "136    1081\n",
       "137    1250\n",
       "Name: movieId, Length: 72, dtype: int64"
      ]
     },
     "execution_count": 13,
     "metadata": {},
     "output_type": "execute_result"
    }
   ],
   "source": [
    "trueList[1875]"
   ]
  },
  {
   "cell_type": "code",
   "execution_count": 14,
   "metadata": {},
   "outputs": [
    {
     "data": {
      "text/plain": [
       "array([1721, 2621,   11,  539, 1722, 1088, 1101, 1597,  932, 3638, 2316,\n",
       "       2942, 1409, 3206, 1381,  260, 1198,  919, 1204, 1287, 1291, 1303,\n",
       "       1374, 2366, 3168, 3494, 2871, 2115, 1356, 2640, 2470, 2628,  329,\n",
       "         10,  648, 2641,  674,  736, 2367, 1206, 1214, 1196, 1240,  750,\n",
       "       1270, 1200,  924, 2571, 3471, 3703, 1097, 2916, 2529, 1376, 1573,\n",
       "       2407, 2393, 2311, 3827,  780, 1320, 1066,  945, 2303, 3675, 3061,\n",
       "       1947, 2971, 1220,  938, 1081, 1250], dtype=int64)"
      ]
     },
     "execution_count": 14,
     "metadata": {},
     "output_type": "execute_result"
    }
   ],
   "source": [
    "trueList[1875].values"
   ]
  },
  {
   "cell_type": "markdown",
   "metadata": {},
   "source": [
    "## Run tuning for BPRMF"
   ]
  },
  {
   "cell_type": "code",
   "execution_count": 15,
   "metadata": {},
   "outputs": [],
   "source": [
    "\"\"\"param_grid = {\n",
    "              'factors': [5, 10, 20, 50, 100],\n",
    "              'iterations': [5, 10, 20, 50], \n",
    "              'learning_rate': [0.1, 0.03, 0.01, 0.003],\n",
    "              'regularization': [0.1, 0.03, 0.01, 0.003],\n",
    "             }\n",
    "\"\"\" \n",
    "param_grid = {\n",
    "              'factors': [5, 10, 20, 50, 100],\n",
    "              'iterations': [5, 10, 20, 50], \n",
    "              'learning_rate': [0.1, 0.03, 0.01, 0.003],\n",
    "              'regularization': [0.1, 0.03, 0.01, 0.003],\n",
    "             }\n",
    "params_list = list(ParameterGrid(param_grid)) "
   ]
  },
  {
   "cell_type": "code",
   "execution_count": 16,
   "metadata": {},
   "outputs": [
    {
     "ename": "ModuleNotFoundError",
     "evalue": "No module named 'implicit'",
     "output_type": "error",
     "traceback": [
      "\u001b[1;31m---------------------------------------------------------------------------\u001b[0m",
      "\u001b[1;31mModuleNotFoundError\u001b[0m                       Traceback (most recent call last)",
      "\u001b[1;32m<ipython-input-16-f31524c60160>\u001b[0m in \u001b[0;36m<module>\u001b[1;34m()\u001b[0m\n\u001b[1;32m----> 1\u001b[1;33m \u001b[1;32mfrom\u001b[0m \u001b[0mrecommender\u001b[0m\u001b[1;33m.\u001b[0m\u001b[0mrecommenderBPRMF\u001b[0m \u001b[1;32mimport\u001b[0m \u001b[0mRecommenderBPRMF\u001b[0m \u001b[1;31m#class\u001b[0m\u001b[1;33m\u001b[0m\u001b[1;33m\u001b[0m\u001b[0m\n\u001b[0m\u001b[0;32m      2\u001b[0m \u001b[1;32mfrom\u001b[0m \u001b[0msklearn\u001b[0m\u001b[1;33m.\u001b[0m\u001b[0mmetrics\u001b[0m \u001b[1;32mimport\u001b[0m \u001b[0mndcg_score\u001b[0m\u001b[1;33m\u001b[0m\u001b[1;33m\u001b[0m\u001b[0m\n",
      "\u001b[1;32mD:\\projekty\\2020\\HeteroRecPortfolio_20_12\\HeterRecomPortfolio-master\\src\\recommender\\recommenderBPRMF.py\u001b[0m in \u001b[0;36m<module>\u001b[1;34m()\u001b[0m\n\u001b[0;32m      3\u001b[0m \u001b[1;33m\u001b[0m\u001b[0m\n\u001b[0;32m      4\u001b[0m \u001b[1;31m#algorithm-specific imports\u001b[0m\u001b[1;33m\u001b[0m\u001b[1;33m\u001b[0m\u001b[1;33m\u001b[0m\u001b[0m\n\u001b[1;32m----> 5\u001b[1;33m \u001b[1;32mimport\u001b[0m \u001b[0mimplicit\u001b[0m\u001b[1;33m\u001b[0m\u001b[1;33m\u001b[0m\u001b[0m\n\u001b[0m\u001b[0;32m      6\u001b[0m \u001b[1;32mimport\u001b[0m \u001b[0mscipy\u001b[0m\u001b[1;33m.\u001b[0m\u001b[0msparse\u001b[0m \u001b[1;32mas\u001b[0m \u001b[0msp\u001b[0m\u001b[1;33m\u001b[0m\u001b[1;33m\u001b[0m\u001b[0m\n\u001b[0;32m      7\u001b[0m \u001b[1;33m\u001b[0m\u001b[0m\n",
      "\u001b[1;31mModuleNotFoundError\u001b[0m: No module named 'implicit'"
     ]
    }
   ],
   "source": [
    "from recommender.recommenderBPRMF import RecommenderBPRMF #class\n",
    "from sklearn.metrics import ndcg_score"
   ]
  },
  {
   "cell_type": "code",
   "execution_count": 80,
   "metadata": {},
   "outputs": [
    {
     "data": {
      "application/vnd.jupyter.widget-view+json": {
       "model_id": "90069dccb24843f7bc94874ae5bc30ae",
       "version_major": 2,
       "version_minor": 0
      },
      "text/plain": [
       "HBox(children=(HTML(value=''), FloatProgress(value=0.0, max=5.0), HTML(value='')))"
      ]
     },
     "metadata": {},
     "output_type": "display_data"
    },
    {
     "name": "stdout",
     "output_type": "stream",
     "text": [
      "\n"
     ]
    },
    {
     "data": {
      "application/vnd.jupyter.widget-view+json": {
       "model_id": "56a32d51ced34e72aae6be46d32c3194",
       "version_major": 2,
       "version_minor": 0
      },
      "text/plain": [
       "HBox(children=(HTML(value=''), FloatProgress(value=0.0, max=5.0), HTML(value='')))"
      ]
     },
     "metadata": {},
     "output_type": "display_data"
    },
    {
     "name": "stdout",
     "output_type": "stream",
     "text": [
      "\n"
     ]
    },
    {
     "data": {
      "application/vnd.jupyter.widget-view+json": {
       "model_id": "fcbfca14f5e74ae3a05b0a3ad7cf6f01",
       "version_major": 2,
       "version_minor": 0
      },
      "text/plain": [
       "HBox(children=(HTML(value=''), FloatProgress(value=0.0, max=5.0), HTML(value='')))"
      ]
     },
     "metadata": {},
     "output_type": "display_data"
    },
    {
     "name": "stdout",
     "output_type": "stream",
     "text": [
      "\n"
     ]
    },
    {
     "data": {
      "application/vnd.jupyter.widget-view+json": {
       "model_id": "83b54533ecba48dda52e534d07a2829c",
       "version_major": 2,
       "version_minor": 0
      },
      "text/plain": [
       "HBox(children=(HTML(value=''), FloatProgress(value=0.0, max=5.0), HTML(value='')))"
      ]
     },
     "metadata": {},
     "output_type": "display_data"
    },
    {
     "name": "stdout",
     "output_type": "stream",
     "text": [
      "\n"
     ]
    },
    {
     "data": {
      "application/vnd.jupyter.widget-view+json": {
       "model_id": "4d9eeac568054bc0a2e39a81083121aa",
       "version_major": 2,
       "version_minor": 0
      },
      "text/plain": [
       "HBox(children=(HTML(value=''), FloatProgress(value=0.0, max=5.0), HTML(value='')))"
      ]
     },
     "metadata": {},
     "output_type": "display_data"
    },
    {
     "name": "stdout",
     "output_type": "stream",
     "text": [
      "\n"
     ]
    },
    {
     "data": {
      "application/vnd.jupyter.widget-view+json": {
       "model_id": "8e8cd9966b90454894680ea26e0f0b35",
       "version_major": 2,
       "version_minor": 0
      },
      "text/plain": [
       "HBox(children=(HTML(value=''), FloatProgress(value=0.0, max=5.0), HTML(value='')))"
      ]
     },
     "metadata": {},
     "output_type": "display_data"
    },
    {
     "name": "stdout",
     "output_type": "stream",
     "text": [
      "\n"
     ]
    },
    {
     "data": {
      "application/vnd.jupyter.widget-view+json": {
       "model_id": "35253f4d70e84378896fbbe60a29ff43",
       "version_major": 2,
       "version_minor": 0
      },
      "text/plain": [
       "HBox(children=(HTML(value=''), FloatProgress(value=0.0, max=5.0), HTML(value='')))"
      ]
     },
     "metadata": {},
     "output_type": "display_data"
    },
    {
     "name": "stdout",
     "output_type": "stream",
     "text": [
      "\n"
     ]
    },
    {
     "data": {
      "application/vnd.jupyter.widget-view+json": {
       "model_id": "4f04800090f24b28a5c5b27e7f05dc08",
       "version_major": 2,
       "version_minor": 0
      },
      "text/plain": [
       "HBox(children=(HTML(value=''), FloatProgress(value=0.0, max=5.0), HTML(value='')))"
      ]
     },
     "metadata": {},
     "output_type": "display_data"
    },
    {
     "name": "stdout",
     "output_type": "stream",
     "text": [
      "\n"
     ]
    },
    {
     "data": {
      "application/vnd.jupyter.widget-view+json": {
       "model_id": "91a575e8e41d480cb00d2f2fa927d540",
       "version_major": 2,
       "version_minor": 0
      },
      "text/plain": [
       "HBox(children=(HTML(value=''), FloatProgress(value=0.0, max=5.0), HTML(value='')))"
      ]
     },
     "metadata": {},
     "output_type": "display_data"
    },
    {
     "name": "stdout",
     "output_type": "stream",
     "text": [
      "\n"
     ]
    },
    {
     "data": {
      "application/vnd.jupyter.widget-view+json": {
       "model_id": "e4aa0f7ed8c642829e3d35fbc85a4881",
       "version_major": 2,
       "version_minor": 0
      },
      "text/plain": [
       "HBox(children=(HTML(value=''), FloatProgress(value=0.0, max=5.0), HTML(value='')))"
      ]
     },
     "metadata": {},
     "output_type": "display_data"
    },
    {
     "name": "stdout",
     "output_type": "stream",
     "text": [
      "\n"
     ]
    },
    {
     "data": {
      "application/vnd.jupyter.widget-view+json": {
       "model_id": "b732472b4820449189592f14a18bf06d",
       "version_major": 2,
       "version_minor": 0
      },
      "text/plain": [
       "HBox(children=(HTML(value=''), FloatProgress(value=0.0, max=5.0), HTML(value='')))"
      ]
     },
     "metadata": {},
     "output_type": "display_data"
    },
    {
     "name": "stdout",
     "output_type": "stream",
     "text": [
      "\n"
     ]
    },
    {
     "data": {
      "application/vnd.jupyter.widget-view+json": {
       "model_id": "26ed97519a6c4534a2c5bff0761b2b0f",
       "version_major": 2,
       "version_minor": 0
      },
      "text/plain": [
       "HBox(children=(HTML(value=''), FloatProgress(value=0.0, max=5.0), HTML(value='')))"
      ]
     },
     "metadata": {},
     "output_type": "display_data"
    },
    {
     "name": "stdout",
     "output_type": "stream",
     "text": [
      "\n"
     ]
    },
    {
     "data": {
      "application/vnd.jupyter.widget-view+json": {
       "model_id": "a71ec02f9c0248f78b5bf43df1c4afb4",
       "version_major": 2,
       "version_minor": 0
      },
      "text/plain": [
       "HBox(children=(HTML(value=''), FloatProgress(value=0.0, max=5.0), HTML(value='')))"
      ]
     },
     "metadata": {},
     "output_type": "display_data"
    },
    {
     "name": "stdout",
     "output_type": "stream",
     "text": [
      "\n"
     ]
    },
    {
     "data": {
      "application/vnd.jupyter.widget-view+json": {
       "model_id": "a90ed48f7f3d474095b1a819edc859fb",
       "version_major": 2,
       "version_minor": 0
      },
      "text/plain": [
       "HBox(children=(HTML(value=''), FloatProgress(value=0.0, max=5.0), HTML(value='')))"
      ]
     },
     "metadata": {},
     "output_type": "display_data"
    },
    {
     "name": "stdout",
     "output_type": "stream",
     "text": [
      "\n"
     ]
    },
    {
     "data": {
      "application/vnd.jupyter.widget-view+json": {
       "model_id": "9334a3e5beea41e58afc1a77eadd9c79",
       "version_major": 2,
       "version_minor": 0
      },
      "text/plain": [
       "HBox(children=(HTML(value=''), FloatProgress(value=0.0, max=5.0), HTML(value='')))"
      ]
     },
     "metadata": {},
     "output_type": "display_data"
    },
    {
     "name": "stdout",
     "output_type": "stream",
     "text": [
      "\n"
     ]
    },
    {
     "data": {
      "application/vnd.jupyter.widget-view+json": {
       "model_id": "b9b3424f3c924ece93eede16a4d9c288",
       "version_major": 2,
       "version_minor": 0
      },
      "text/plain": [
       "HBox(children=(HTML(value=''), FloatProgress(value=0.0, max=5.0), HTML(value='')))"
      ]
     },
     "metadata": {},
     "output_type": "display_data"
    },
    {
     "name": "stdout",
     "output_type": "stream",
     "text": [
      "\n"
     ]
    },
    {
     "data": {
      "application/vnd.jupyter.widget-view+json": {
       "model_id": "21fba61c386a4219ab2c0a2b1ca451e3",
       "version_major": 2,
       "version_minor": 0
      },
      "text/plain": [
       "HBox(children=(HTML(value=''), FloatProgress(value=0.0, max=10.0), HTML(value='')))"
      ]
     },
     "metadata": {},
     "output_type": "display_data"
    },
    {
     "name": "stdout",
     "output_type": "stream",
     "text": [
      "\n"
     ]
    },
    {
     "data": {
      "application/vnd.jupyter.widget-view+json": {
       "model_id": "f8be238a4d9f43fe90f0185c1853bae9",
       "version_major": 2,
       "version_minor": 0
      },
      "text/plain": [
       "HBox(children=(HTML(value=''), FloatProgress(value=0.0, max=10.0), HTML(value='')))"
      ]
     },
     "metadata": {},
     "output_type": "display_data"
    },
    {
     "name": "stdout",
     "output_type": "stream",
     "text": [
      "\n"
     ]
    },
    {
     "data": {
      "application/vnd.jupyter.widget-view+json": {
       "model_id": "0edf1b7e77c14fd791fff3ee1dc86f5a",
       "version_major": 2,
       "version_minor": 0
      },
      "text/plain": [
       "HBox(children=(HTML(value=''), FloatProgress(value=0.0, max=10.0), HTML(value='')))"
      ]
     },
     "metadata": {},
     "output_type": "display_data"
    },
    {
     "name": "stdout",
     "output_type": "stream",
     "text": [
      "\n"
     ]
    },
    {
     "data": {
      "application/vnd.jupyter.widget-view+json": {
       "model_id": "ba0d4260c08c490ca6b7e2020bfc3b0c",
       "version_major": 2,
       "version_minor": 0
      },
      "text/plain": [
       "HBox(children=(HTML(value=''), FloatProgress(value=0.0, max=10.0), HTML(value='')))"
      ]
     },
     "metadata": {},
     "output_type": "display_data"
    },
    {
     "name": "stdout",
     "output_type": "stream",
     "text": [
      "\n"
     ]
    },
    {
     "data": {
      "application/vnd.jupyter.widget-view+json": {
       "model_id": "d683ab1eb3f6491899f13a5c648e2a11",
       "version_major": 2,
       "version_minor": 0
      },
      "text/plain": [
       "HBox(children=(HTML(value=''), FloatProgress(value=0.0, max=10.0), HTML(value='')))"
      ]
     },
     "metadata": {},
     "output_type": "display_data"
    },
    {
     "name": "stdout",
     "output_type": "stream",
     "text": [
      "\n"
     ]
    },
    {
     "data": {
      "application/vnd.jupyter.widget-view+json": {
       "model_id": "0408fde4adad45c88445df39b980afeb",
       "version_major": 2,
       "version_minor": 0
      },
      "text/plain": [
       "HBox(children=(HTML(value=''), FloatProgress(value=0.0, max=10.0), HTML(value='')))"
      ]
     },
     "metadata": {},
     "output_type": "display_data"
    },
    {
     "name": "stdout",
     "output_type": "stream",
     "text": [
      "\n"
     ]
    },
    {
     "data": {
      "application/vnd.jupyter.widget-view+json": {
       "model_id": "19e521b3366a41caa328e58b65d6e38b",
       "version_major": 2,
       "version_minor": 0
      },
      "text/plain": [
       "HBox(children=(HTML(value=''), FloatProgress(value=0.0, max=10.0), HTML(value='')))"
      ]
     },
     "metadata": {},
     "output_type": "display_data"
    },
    {
     "name": "stdout",
     "output_type": "stream",
     "text": [
      "\n"
     ]
    },
    {
     "data": {
      "application/vnd.jupyter.widget-view+json": {
       "model_id": "5cfccc0d93f54554ad5d3a907b61d5dc",
       "version_major": 2,
       "version_minor": 0
      },
      "text/plain": [
       "HBox(children=(HTML(value=''), FloatProgress(value=0.0, max=10.0), HTML(value='')))"
      ]
     },
     "metadata": {},
     "output_type": "display_data"
    },
    {
     "name": "stdout",
     "output_type": "stream",
     "text": [
      "\n"
     ]
    },
    {
     "data": {
      "application/vnd.jupyter.widget-view+json": {
       "model_id": "de04c394dd4c4190bce7358b71c3cc81",
       "version_major": 2,
       "version_minor": 0
      },
      "text/plain": [
       "HBox(children=(HTML(value=''), FloatProgress(value=0.0, max=10.0), HTML(value='')))"
      ]
     },
     "metadata": {},
     "output_type": "display_data"
    },
    {
     "name": "stdout",
     "output_type": "stream",
     "text": [
      "\n"
     ]
    },
    {
     "data": {
      "application/vnd.jupyter.widget-view+json": {
       "model_id": "4f5572aa40b6482886330b765bf50773",
       "version_major": 2,
       "version_minor": 0
      },
      "text/plain": [
       "HBox(children=(HTML(value=''), FloatProgress(value=0.0, max=10.0), HTML(value='')))"
      ]
     },
     "metadata": {},
     "output_type": "display_data"
    },
    {
     "name": "stdout",
     "output_type": "stream",
     "text": [
      "\n"
     ]
    },
    {
     "data": {
      "application/vnd.jupyter.widget-view+json": {
       "model_id": "a5f74f3dab4f465384c7796c03ad526b",
       "version_major": 2,
       "version_minor": 0
      },
      "text/plain": [
       "HBox(children=(HTML(value=''), FloatProgress(value=0.0, max=10.0), HTML(value='')))"
      ]
     },
     "metadata": {},
     "output_type": "display_data"
    },
    {
     "name": "stdout",
     "output_type": "stream",
     "text": [
      "\n"
     ]
    },
    {
     "data": {
      "application/vnd.jupyter.widget-view+json": {
       "model_id": "2a462460dcab4340b34e9e348652d1d6",
       "version_major": 2,
       "version_minor": 0
      },
      "text/plain": [
       "HBox(children=(HTML(value=''), FloatProgress(value=0.0, max=10.0), HTML(value='')))"
      ]
     },
     "metadata": {},
     "output_type": "display_data"
    },
    {
     "name": "stdout",
     "output_type": "stream",
     "text": [
      "\n"
     ]
    },
    {
     "data": {
      "application/vnd.jupyter.widget-view+json": {
       "model_id": "bf57b0176a604f2fa98e60669e247273",
       "version_major": 2,
       "version_minor": 0
      },
      "text/plain": [
       "HBox(children=(HTML(value=''), FloatProgress(value=0.0, max=10.0), HTML(value='')))"
      ]
     },
     "metadata": {},
     "output_type": "display_data"
    },
    {
     "name": "stdout",
     "output_type": "stream",
     "text": [
      "\n"
     ]
    },
    {
     "data": {
      "application/vnd.jupyter.widget-view+json": {
       "model_id": "882df66e227a45a99b15a74702762815",
       "version_major": 2,
       "version_minor": 0
      },
      "text/plain": [
       "HBox(children=(HTML(value=''), FloatProgress(value=0.0, max=10.0), HTML(value='')))"
      ]
     },
     "metadata": {},
     "output_type": "display_data"
    },
    {
     "name": "stdout",
     "output_type": "stream",
     "text": [
      "\n"
     ]
    },
    {
     "data": {
      "application/vnd.jupyter.widget-view+json": {
       "model_id": "b2a7139a728546219e12edc1ad59335d",
       "version_major": 2,
       "version_minor": 0
      },
      "text/plain": [
       "HBox(children=(HTML(value=''), FloatProgress(value=0.0, max=10.0), HTML(value='')))"
      ]
     },
     "metadata": {},
     "output_type": "display_data"
    },
    {
     "name": "stdout",
     "output_type": "stream",
     "text": [
      "\n"
     ]
    },
    {
     "data": {
      "application/vnd.jupyter.widget-view+json": {
       "model_id": "e23b30e7c3ba4cc2829563ab72bd8cbf",
       "version_major": 2,
       "version_minor": 0
      },
      "text/plain": [
       "HBox(children=(HTML(value=''), FloatProgress(value=0.0, max=10.0), HTML(value='')))"
      ]
     },
     "metadata": {},
     "output_type": "display_data"
    },
    {
     "name": "stdout",
     "output_type": "stream",
     "text": [
      "\n"
     ]
    },
    {
     "data": {
      "application/vnd.jupyter.widget-view+json": {
       "model_id": "ecc8b37b2e16462d8811bec046187c76",
       "version_major": 2,
       "version_minor": 0
      },
      "text/plain": [
       "HBox(children=(HTML(value=''), FloatProgress(value=0.0, max=20.0), HTML(value='')))"
      ]
     },
     "metadata": {},
     "output_type": "display_data"
    },
    {
     "name": "stdout",
     "output_type": "stream",
     "text": [
      "\n"
     ]
    },
    {
     "data": {
      "application/vnd.jupyter.widget-view+json": {
       "model_id": "d93b116602b841d9a9d8b735378d0b13",
       "version_major": 2,
       "version_minor": 0
      },
      "text/plain": [
       "HBox(children=(HTML(value=''), FloatProgress(value=0.0, max=20.0), HTML(value='')))"
      ]
     },
     "metadata": {},
     "output_type": "display_data"
    },
    {
     "name": "stdout",
     "output_type": "stream",
     "text": [
      "\n"
     ]
    },
    {
     "data": {
      "application/vnd.jupyter.widget-view+json": {
       "model_id": "9be69c922d8d4d62a1f830cca9dc210d",
       "version_major": 2,
       "version_minor": 0
      },
      "text/plain": [
       "HBox(children=(HTML(value=''), FloatProgress(value=0.0, max=20.0), HTML(value='')))"
      ]
     },
     "metadata": {},
     "output_type": "display_data"
    },
    {
     "name": "stdout",
     "output_type": "stream",
     "text": [
      "\n"
     ]
    },
    {
     "data": {
      "application/vnd.jupyter.widget-view+json": {
       "model_id": "2179ad854f8a4ab69341e31ddb3a3587",
       "version_major": 2,
       "version_minor": 0
      },
      "text/plain": [
       "HBox(children=(HTML(value=''), FloatProgress(value=0.0, max=20.0), HTML(value='')))"
      ]
     },
     "metadata": {},
     "output_type": "display_data"
    },
    {
     "name": "stdout",
     "output_type": "stream",
     "text": [
      "\n"
     ]
    },
    {
     "data": {
      "application/vnd.jupyter.widget-view+json": {
       "model_id": "d6bff469f08d4f28b1ca88197dbfae4b",
       "version_major": 2,
       "version_minor": 0
      },
      "text/plain": [
       "HBox(children=(HTML(value=''), FloatProgress(value=0.0, max=20.0), HTML(value='')))"
      ]
     },
     "metadata": {},
     "output_type": "display_data"
    },
    {
     "name": "stdout",
     "output_type": "stream",
     "text": [
      "\n"
     ]
    },
    {
     "data": {
      "application/vnd.jupyter.widget-view+json": {
       "model_id": "d95968590f684d0ba0bd612768b55cb1",
       "version_major": 2,
       "version_minor": 0
      },
      "text/plain": [
       "HBox(children=(HTML(value=''), FloatProgress(value=0.0, max=20.0), HTML(value='')))"
      ]
     },
     "metadata": {},
     "output_type": "display_data"
    },
    {
     "name": "stdout",
     "output_type": "stream",
     "text": [
      "\n"
     ]
    },
    {
     "data": {
      "application/vnd.jupyter.widget-view+json": {
       "model_id": "467da10e6d494ed292d5f42adaf09172",
       "version_major": 2,
       "version_minor": 0
      },
      "text/plain": [
       "HBox(children=(HTML(value=''), FloatProgress(value=0.0, max=20.0), HTML(value='')))"
      ]
     },
     "metadata": {},
     "output_type": "display_data"
    },
    {
     "name": "stdout",
     "output_type": "stream",
     "text": [
      "\n"
     ]
    },
    {
     "data": {
      "application/vnd.jupyter.widget-view+json": {
       "model_id": "fb25116743bb4b28b44d70a0dbc942a8",
       "version_major": 2,
       "version_minor": 0
      },
      "text/plain": [
       "HBox(children=(HTML(value=''), FloatProgress(value=0.0, max=20.0), HTML(value='')))"
      ]
     },
     "metadata": {},
     "output_type": "display_data"
    },
    {
     "name": "stdout",
     "output_type": "stream",
     "text": [
      "\n"
     ]
    },
    {
     "data": {
      "application/vnd.jupyter.widget-view+json": {
       "model_id": "fa937e797a5b4d868d5b732fbfb0a953",
       "version_major": 2,
       "version_minor": 0
      },
      "text/plain": [
       "HBox(children=(HTML(value=''), FloatProgress(value=0.0, max=20.0), HTML(value='')))"
      ]
     },
     "metadata": {},
     "output_type": "display_data"
    },
    {
     "name": "stdout",
     "output_type": "stream",
     "text": [
      "\n"
     ]
    },
    {
     "data": {
      "application/vnd.jupyter.widget-view+json": {
       "model_id": "e7a6521124e04321b98edf0dadac458a",
       "version_major": 2,
       "version_minor": 0
      },
      "text/plain": [
       "HBox(children=(HTML(value=''), FloatProgress(value=0.0, max=20.0), HTML(value='')))"
      ]
     },
     "metadata": {},
     "output_type": "display_data"
    },
    {
     "name": "stdout",
     "output_type": "stream",
     "text": [
      "\n"
     ]
    },
    {
     "data": {
      "application/vnd.jupyter.widget-view+json": {
       "model_id": "0675802878c5460587c7a385dfddc540",
       "version_major": 2,
       "version_minor": 0
      },
      "text/plain": [
       "HBox(children=(HTML(value=''), FloatProgress(value=0.0, max=20.0), HTML(value='')))"
      ]
     },
     "metadata": {},
     "output_type": "display_data"
    },
    {
     "name": "stdout",
     "output_type": "stream",
     "text": [
      "\n"
     ]
    },
    {
     "data": {
      "application/vnd.jupyter.widget-view+json": {
       "model_id": "01a22f3d268c40a4badce2de1d334728",
       "version_major": 2,
       "version_minor": 0
      },
      "text/plain": [
       "HBox(children=(HTML(value=''), FloatProgress(value=0.0, max=20.0), HTML(value='')))"
      ]
     },
     "metadata": {},
     "output_type": "display_data"
    },
    {
     "name": "stdout",
     "output_type": "stream",
     "text": [
      "\n"
     ]
    },
    {
     "data": {
      "application/vnd.jupyter.widget-view+json": {
       "model_id": "1e67bac910044c19b82c3f36bc1368b2",
       "version_major": 2,
       "version_minor": 0
      },
      "text/plain": [
       "HBox(children=(HTML(value=''), FloatProgress(value=0.0, max=20.0), HTML(value='')))"
      ]
     },
     "metadata": {},
     "output_type": "display_data"
    },
    {
     "name": "stdout",
     "output_type": "stream",
     "text": [
      "\n"
     ]
    },
    {
     "data": {
      "application/vnd.jupyter.widget-view+json": {
       "model_id": "7dafc152df1242a182a0fd883153ddf8",
       "version_major": 2,
       "version_minor": 0
      },
      "text/plain": [
       "HBox(children=(HTML(value=''), FloatProgress(value=0.0, max=20.0), HTML(value='')))"
      ]
     },
     "metadata": {},
     "output_type": "display_data"
    },
    {
     "name": "stdout",
     "output_type": "stream",
     "text": [
      "\n"
     ]
    },
    {
     "data": {
      "application/vnd.jupyter.widget-view+json": {
       "model_id": "e753d5c9a0a64d3facff647c2030aac4",
       "version_major": 2,
       "version_minor": 0
      },
      "text/plain": [
       "HBox(children=(HTML(value=''), FloatProgress(value=0.0, max=20.0), HTML(value='')))"
      ]
     },
     "metadata": {},
     "output_type": "display_data"
    },
    {
     "name": "stdout",
     "output_type": "stream",
     "text": [
      "\n"
     ]
    },
    {
     "data": {
      "application/vnd.jupyter.widget-view+json": {
       "model_id": "2e35ef57127b4c27bfc9df65322f68c0",
       "version_major": 2,
       "version_minor": 0
      },
      "text/plain": [
       "HBox(children=(HTML(value=''), FloatProgress(value=0.0, max=20.0), HTML(value='')))"
      ]
     },
     "metadata": {},
     "output_type": "display_data"
    },
    {
     "name": "stdout",
     "output_type": "stream",
     "text": [
      "\n"
     ]
    },
    {
     "data": {
      "application/vnd.jupyter.widget-view+json": {
       "model_id": "8ef2fa5e5319454bb9ad0ddaafbb80a2",
       "version_major": 2,
       "version_minor": 0
      },
      "text/plain": [
       "HBox(children=(HTML(value=''), FloatProgress(value=0.0, max=50.0), HTML(value='')))"
      ]
     },
     "metadata": {},
     "output_type": "display_data"
    },
    {
     "name": "stdout",
     "output_type": "stream",
     "text": [
      "\n"
     ]
    },
    {
     "data": {
      "application/vnd.jupyter.widget-view+json": {
       "model_id": "041c41a06ac145d7b3ec6693b7cb571a",
       "version_major": 2,
       "version_minor": 0
      },
      "text/plain": [
       "HBox(children=(HTML(value=''), FloatProgress(value=0.0, max=50.0), HTML(value='')))"
      ]
     },
     "metadata": {},
     "output_type": "display_data"
    },
    {
     "name": "stdout",
     "output_type": "stream",
     "text": [
      "\n"
     ]
    },
    {
     "data": {
      "application/vnd.jupyter.widget-view+json": {
       "model_id": "372f8be25efd4a2e97c5ba3b23814332",
       "version_major": 2,
       "version_minor": 0
      },
      "text/plain": [
       "HBox(children=(HTML(value=''), FloatProgress(value=0.0, max=50.0), HTML(value='')))"
      ]
     },
     "metadata": {},
     "output_type": "display_data"
    },
    {
     "name": "stdout",
     "output_type": "stream",
     "text": [
      "\n"
     ]
    },
    {
     "data": {
      "application/vnd.jupyter.widget-view+json": {
       "model_id": "7e29b8ea74714282a8201690ebd9c89f",
       "version_major": 2,
       "version_minor": 0
      },
      "text/plain": [
       "HBox(children=(HTML(value=''), FloatProgress(value=0.0, max=50.0), HTML(value='')))"
      ]
     },
     "metadata": {},
     "output_type": "display_data"
    },
    {
     "name": "stdout",
     "output_type": "stream",
     "text": [
      "\n"
     ]
    },
    {
     "data": {
      "application/vnd.jupyter.widget-view+json": {
       "model_id": "9ee7ad72fa2b450cb2e0fccec6664292",
       "version_major": 2,
       "version_minor": 0
      },
      "text/plain": [
       "HBox(children=(HTML(value=''), FloatProgress(value=0.0, max=50.0), HTML(value='')))"
      ]
     },
     "metadata": {},
     "output_type": "display_data"
    },
    {
     "name": "stdout",
     "output_type": "stream",
     "text": [
      "\n"
     ]
    },
    {
     "data": {
      "application/vnd.jupyter.widget-view+json": {
       "model_id": "9979ced4289f4bbbb0267233b952b41d",
       "version_major": 2,
       "version_minor": 0
      },
      "text/plain": [
       "HBox(children=(HTML(value=''), FloatProgress(value=0.0, max=50.0), HTML(value='')))"
      ]
     },
     "metadata": {},
     "output_type": "display_data"
    },
    {
     "name": "stdout",
     "output_type": "stream",
     "text": [
      "\n"
     ]
    },
    {
     "data": {
      "application/vnd.jupyter.widget-view+json": {
       "model_id": "a37121c5841149308c05839099de144e",
       "version_major": 2,
       "version_minor": 0
      },
      "text/plain": [
       "HBox(children=(HTML(value=''), FloatProgress(value=0.0, max=50.0), HTML(value='')))"
      ]
     },
     "metadata": {},
     "output_type": "display_data"
    },
    {
     "name": "stdout",
     "output_type": "stream",
     "text": [
      "\n"
     ]
    },
    {
     "data": {
      "application/vnd.jupyter.widget-view+json": {
       "model_id": "8643407f5e3e42508f0a950ae87f3265",
       "version_major": 2,
       "version_minor": 0
      },
      "text/plain": [
       "HBox(children=(HTML(value=''), FloatProgress(value=0.0, max=50.0), HTML(value='')))"
      ]
     },
     "metadata": {},
     "output_type": "display_data"
    },
    {
     "name": "stdout",
     "output_type": "stream",
     "text": [
      "\n"
     ]
    },
    {
     "data": {
      "application/vnd.jupyter.widget-view+json": {
       "model_id": "d14b863abd584f3bb11da7b6c0880836",
       "version_major": 2,
       "version_minor": 0
      },
      "text/plain": [
       "HBox(children=(HTML(value=''), FloatProgress(value=0.0, max=50.0), HTML(value='')))"
      ]
     },
     "metadata": {},
     "output_type": "display_data"
    },
    {
     "name": "stdout",
     "output_type": "stream",
     "text": [
      "\n"
     ]
    },
    {
     "data": {
      "application/vnd.jupyter.widget-view+json": {
       "model_id": "32f2c746df814b65bd26a96eead8ddd2",
       "version_major": 2,
       "version_minor": 0
      },
      "text/plain": [
       "HBox(children=(HTML(value=''), FloatProgress(value=0.0, max=50.0), HTML(value='')))"
      ]
     },
     "metadata": {},
     "output_type": "display_data"
    },
    {
     "name": "stdout",
     "output_type": "stream",
     "text": [
      "\n"
     ]
    },
    {
     "data": {
      "application/vnd.jupyter.widget-view+json": {
       "model_id": "3a2698cadf14449b827f679ba600498e",
       "version_major": 2,
       "version_minor": 0
      },
      "text/plain": [
       "HBox(children=(HTML(value=''), FloatProgress(value=0.0, max=50.0), HTML(value='')))"
      ]
     },
     "metadata": {},
     "output_type": "display_data"
    },
    {
     "name": "stdout",
     "output_type": "stream",
     "text": [
      "\n"
     ]
    },
    {
     "data": {
      "application/vnd.jupyter.widget-view+json": {
       "model_id": "cb074a860f47497694a9ccb07e5fa68a",
       "version_major": 2,
       "version_minor": 0
      },
      "text/plain": [
       "HBox(children=(HTML(value=''), FloatProgress(value=0.0, max=50.0), HTML(value='')))"
      ]
     },
     "metadata": {},
     "output_type": "display_data"
    },
    {
     "name": "stdout",
     "output_type": "stream",
     "text": [
      "\n"
     ]
    },
    {
     "data": {
      "application/vnd.jupyter.widget-view+json": {
       "model_id": "b73d454252bd4735bbce1ed673ca084a",
       "version_major": 2,
       "version_minor": 0
      },
      "text/plain": [
       "HBox(children=(HTML(value=''), FloatProgress(value=0.0, max=50.0), HTML(value='')))"
      ]
     },
     "metadata": {},
     "output_type": "display_data"
    },
    {
     "name": "stdout",
     "output_type": "stream",
     "text": [
      "\n"
     ]
    },
    {
     "data": {
      "application/vnd.jupyter.widget-view+json": {
       "model_id": "5c0ca8f63eba4a1fb8ea9da307fcee35",
       "version_major": 2,
       "version_minor": 0
      },
      "text/plain": [
       "HBox(children=(HTML(value=''), FloatProgress(value=0.0, max=50.0), HTML(value='')))"
      ]
     },
     "metadata": {},
     "output_type": "display_data"
    },
    {
     "name": "stdout",
     "output_type": "stream",
     "text": [
      "\n"
     ]
    },
    {
     "data": {
      "application/vnd.jupyter.widget-view+json": {
       "model_id": "e69e9f387da44b72ab44d163a77e6413",
       "version_major": 2,
       "version_minor": 0
      },
      "text/plain": [
       "HBox(children=(HTML(value=''), FloatProgress(value=0.0, max=50.0), HTML(value='')))"
      ]
     },
     "metadata": {},
     "output_type": "display_data"
    },
    {
     "name": "stdout",
     "output_type": "stream",
     "text": [
      "\n"
     ]
    },
    {
     "data": {
      "application/vnd.jupyter.widget-view+json": {
       "model_id": "8bd22f56b8474ff1b19043c5513c9c9f",
       "version_major": 2,
       "version_minor": 0
      },
      "text/plain": [
       "HBox(children=(HTML(value=''), FloatProgress(value=0.0, max=50.0), HTML(value='')))"
      ]
     },
     "metadata": {},
     "output_type": "display_data"
    },
    {
     "name": "stdout",
     "output_type": "stream",
     "text": [
      "\n"
     ]
    },
    {
     "data": {
      "application/vnd.jupyter.widget-view+json": {
       "model_id": "82485496023e47f1a4ded85dad0165d4",
       "version_major": 2,
       "version_minor": 0
      },
      "text/plain": [
       "HBox(children=(HTML(value=''), FloatProgress(value=0.0, max=5.0), HTML(value='')))"
      ]
     },
     "metadata": {},
     "output_type": "display_data"
    },
    {
     "name": "stdout",
     "output_type": "stream",
     "text": [
      "\n"
     ]
    },
    {
     "data": {
      "application/vnd.jupyter.widget-view+json": {
       "model_id": "6a9de9b3623f4bf7a0183b9c7e20d0fe",
       "version_major": 2,
       "version_minor": 0
      },
      "text/plain": [
       "HBox(children=(HTML(value=''), FloatProgress(value=0.0, max=5.0), HTML(value='')))"
      ]
     },
     "metadata": {},
     "output_type": "display_data"
    },
    {
     "name": "stdout",
     "output_type": "stream",
     "text": [
      "\n"
     ]
    },
    {
     "data": {
      "application/vnd.jupyter.widget-view+json": {
       "model_id": "656891d232a04ae08f056b0820cad575",
       "version_major": 2,
       "version_minor": 0
      },
      "text/plain": [
       "HBox(children=(HTML(value=''), FloatProgress(value=0.0, max=5.0), HTML(value='')))"
      ]
     },
     "metadata": {},
     "output_type": "display_data"
    },
    {
     "name": "stdout",
     "output_type": "stream",
     "text": [
      "\n"
     ]
    },
    {
     "data": {
      "application/vnd.jupyter.widget-view+json": {
       "model_id": "d66c1bc3d83b4671bf285a3e181f6479",
       "version_major": 2,
       "version_minor": 0
      },
      "text/plain": [
       "HBox(children=(HTML(value=''), FloatProgress(value=0.0, max=5.0), HTML(value='')))"
      ]
     },
     "metadata": {},
     "output_type": "display_data"
    },
    {
     "name": "stdout",
     "output_type": "stream",
     "text": [
      "\n"
     ]
    },
    {
     "data": {
      "application/vnd.jupyter.widget-view+json": {
       "model_id": "84c6115415d8402bbb5b89ec47e24b19",
       "version_major": 2,
       "version_minor": 0
      },
      "text/plain": [
       "HBox(children=(HTML(value=''), FloatProgress(value=0.0, max=5.0), HTML(value='')))"
      ]
     },
     "metadata": {},
     "output_type": "display_data"
    },
    {
     "name": "stdout",
     "output_type": "stream",
     "text": [
      "\n"
     ]
    },
    {
     "data": {
      "application/vnd.jupyter.widget-view+json": {
       "model_id": "687301298c8f4e9b9da49b2c9250bc0d",
       "version_major": 2,
       "version_minor": 0
      },
      "text/plain": [
       "HBox(children=(HTML(value=''), FloatProgress(value=0.0, max=5.0), HTML(value='')))"
      ]
     },
     "metadata": {},
     "output_type": "display_data"
    },
    {
     "name": "stdout",
     "output_type": "stream",
     "text": [
      "\n"
     ]
    },
    {
     "data": {
      "application/vnd.jupyter.widget-view+json": {
       "model_id": "c87fefea6e6447389b13274f72a87233",
       "version_major": 2,
       "version_minor": 0
      },
      "text/plain": [
       "HBox(children=(HTML(value=''), FloatProgress(value=0.0, max=5.0), HTML(value='')))"
      ]
     },
     "metadata": {},
     "output_type": "display_data"
    },
    {
     "name": "stdout",
     "output_type": "stream",
     "text": [
      "\n"
     ]
    },
    {
     "data": {
      "application/vnd.jupyter.widget-view+json": {
       "model_id": "420cb6e439c54f1c9984c6ec86494ac2",
       "version_major": 2,
       "version_minor": 0
      },
      "text/plain": [
       "HBox(children=(HTML(value=''), FloatProgress(value=0.0, max=5.0), HTML(value='')))"
      ]
     },
     "metadata": {},
     "output_type": "display_data"
    },
    {
     "name": "stdout",
     "output_type": "stream",
     "text": [
      "\n"
     ]
    },
    {
     "data": {
      "application/vnd.jupyter.widget-view+json": {
       "model_id": "941732bb50ac43b991c455f43f973d40",
       "version_major": 2,
       "version_minor": 0
      },
      "text/plain": [
       "HBox(children=(HTML(value=''), FloatProgress(value=0.0, max=5.0), HTML(value='')))"
      ]
     },
     "metadata": {},
     "output_type": "display_data"
    },
    {
     "name": "stdout",
     "output_type": "stream",
     "text": [
      "\n"
     ]
    },
    {
     "data": {
      "application/vnd.jupyter.widget-view+json": {
       "model_id": "dd6849ffe3af4428bfc50aca920ee54c",
       "version_major": 2,
       "version_minor": 0
      },
      "text/plain": [
       "HBox(children=(HTML(value=''), FloatProgress(value=0.0, max=5.0), HTML(value='')))"
      ]
     },
     "metadata": {},
     "output_type": "display_data"
    },
    {
     "name": "stdout",
     "output_type": "stream",
     "text": [
      "\n"
     ]
    },
    {
     "data": {
      "application/vnd.jupyter.widget-view+json": {
       "model_id": "2deaac4d143542e0a7ce75c4a6f27e98",
       "version_major": 2,
       "version_minor": 0
      },
      "text/plain": [
       "HBox(children=(HTML(value=''), FloatProgress(value=0.0, max=5.0), HTML(value='')))"
      ]
     },
     "metadata": {},
     "output_type": "display_data"
    },
    {
     "name": "stdout",
     "output_type": "stream",
     "text": [
      "\n"
     ]
    },
    {
     "data": {
      "application/vnd.jupyter.widget-view+json": {
       "model_id": "028acec284fe4da29d36e48383f87165",
       "version_major": 2,
       "version_minor": 0
      },
      "text/plain": [
       "HBox(children=(HTML(value=''), FloatProgress(value=0.0, max=5.0), HTML(value='')))"
      ]
     },
     "metadata": {},
     "output_type": "display_data"
    },
    {
     "name": "stdout",
     "output_type": "stream",
     "text": [
      "\n"
     ]
    },
    {
     "data": {
      "application/vnd.jupyter.widget-view+json": {
       "model_id": "4601ee22d9274e09acb7f2bc4edfac9f",
       "version_major": 2,
       "version_minor": 0
      },
      "text/plain": [
       "HBox(children=(HTML(value=''), FloatProgress(value=0.0, max=5.0), HTML(value='')))"
      ]
     },
     "metadata": {},
     "output_type": "display_data"
    },
    {
     "name": "stdout",
     "output_type": "stream",
     "text": [
      "\n"
     ]
    },
    {
     "data": {
      "application/vnd.jupyter.widget-view+json": {
       "model_id": "9e835657ff964bf2bb10d986dfbad406",
       "version_major": 2,
       "version_minor": 0
      },
      "text/plain": [
       "HBox(children=(HTML(value=''), FloatProgress(value=0.0, max=5.0), HTML(value='')))"
      ]
     },
     "metadata": {},
     "output_type": "display_data"
    },
    {
     "name": "stdout",
     "output_type": "stream",
     "text": [
      "\n"
     ]
    },
    {
     "data": {
      "application/vnd.jupyter.widget-view+json": {
       "model_id": "9ebaff1d3afb449b9f12078cfe05188f",
       "version_major": 2,
       "version_minor": 0
      },
      "text/plain": [
       "HBox(children=(HTML(value=''), FloatProgress(value=0.0, max=5.0), HTML(value='')))"
      ]
     },
     "metadata": {},
     "output_type": "display_data"
    },
    {
     "name": "stdout",
     "output_type": "stream",
     "text": [
      "\n"
     ]
    },
    {
     "data": {
      "application/vnd.jupyter.widget-view+json": {
       "model_id": "2b19e1c77bc14dd6909b7dc24a1936f1",
       "version_major": 2,
       "version_minor": 0
      },
      "text/plain": [
       "HBox(children=(HTML(value=''), FloatProgress(value=0.0, max=5.0), HTML(value='')))"
      ]
     },
     "metadata": {},
     "output_type": "display_data"
    },
    {
     "name": "stdout",
     "output_type": "stream",
     "text": [
      "\n"
     ]
    },
    {
     "data": {
      "application/vnd.jupyter.widget-view+json": {
       "model_id": "5fa9120b027249dba85c6d89a6a3954c",
       "version_major": 2,
       "version_minor": 0
      },
      "text/plain": [
       "HBox(children=(HTML(value=''), FloatProgress(value=0.0, max=10.0), HTML(value='')))"
      ]
     },
     "metadata": {},
     "output_type": "display_data"
    },
    {
     "name": "stdout",
     "output_type": "stream",
     "text": [
      "\n"
     ]
    },
    {
     "data": {
      "application/vnd.jupyter.widget-view+json": {
       "model_id": "0446ffb96dd94077957c9eb66739770d",
       "version_major": 2,
       "version_minor": 0
      },
      "text/plain": [
       "HBox(children=(HTML(value=''), FloatProgress(value=0.0, max=10.0), HTML(value='')))"
      ]
     },
     "metadata": {},
     "output_type": "display_data"
    },
    {
     "name": "stdout",
     "output_type": "stream",
     "text": [
      "\n"
     ]
    },
    {
     "data": {
      "application/vnd.jupyter.widget-view+json": {
       "model_id": "c17c944c99354aa4b36b7ceb41d33489",
       "version_major": 2,
       "version_minor": 0
      },
      "text/plain": [
       "HBox(children=(HTML(value=''), FloatProgress(value=0.0, max=10.0), HTML(value='')))"
      ]
     },
     "metadata": {},
     "output_type": "display_data"
    },
    {
     "name": "stdout",
     "output_type": "stream",
     "text": [
      "\n"
     ]
    },
    {
     "data": {
      "application/vnd.jupyter.widget-view+json": {
       "model_id": "63da72479cd24bd5afa485409f2e87f1",
       "version_major": 2,
       "version_minor": 0
      },
      "text/plain": [
       "HBox(children=(HTML(value=''), FloatProgress(value=0.0, max=10.0), HTML(value='')))"
      ]
     },
     "metadata": {},
     "output_type": "display_data"
    },
    {
     "name": "stdout",
     "output_type": "stream",
     "text": [
      "\n"
     ]
    },
    {
     "data": {
      "application/vnd.jupyter.widget-view+json": {
       "model_id": "258b609df03b4cdf873774fc8df85131",
       "version_major": 2,
       "version_minor": 0
      },
      "text/plain": [
       "HBox(children=(HTML(value=''), FloatProgress(value=0.0, max=10.0), HTML(value='')))"
      ]
     },
     "metadata": {},
     "output_type": "display_data"
    },
    {
     "name": "stdout",
     "output_type": "stream",
     "text": [
      "\n"
     ]
    },
    {
     "data": {
      "application/vnd.jupyter.widget-view+json": {
       "model_id": "d67b3ef0cf0b4252b17d92e094b17631",
       "version_major": 2,
       "version_minor": 0
      },
      "text/plain": [
       "HBox(children=(HTML(value=''), FloatProgress(value=0.0, max=10.0), HTML(value='')))"
      ]
     },
     "metadata": {},
     "output_type": "display_data"
    },
    {
     "name": "stdout",
     "output_type": "stream",
     "text": [
      "\n"
     ]
    },
    {
     "data": {
      "application/vnd.jupyter.widget-view+json": {
       "model_id": "ba506241dcf64c3cb4a7badda9713784",
       "version_major": 2,
       "version_minor": 0
      },
      "text/plain": [
       "HBox(children=(HTML(value=''), FloatProgress(value=0.0, max=10.0), HTML(value='')))"
      ]
     },
     "metadata": {},
     "output_type": "display_data"
    },
    {
     "name": "stdout",
     "output_type": "stream",
     "text": [
      "\n"
     ]
    },
    {
     "data": {
      "application/vnd.jupyter.widget-view+json": {
       "model_id": "a9da3b67d8cf4a789df535706f2239eb",
       "version_major": 2,
       "version_minor": 0
      },
      "text/plain": [
       "HBox(children=(HTML(value=''), FloatProgress(value=0.0, max=10.0), HTML(value='')))"
      ]
     },
     "metadata": {},
     "output_type": "display_data"
    },
    {
     "name": "stdout",
     "output_type": "stream",
     "text": [
      "\n"
     ]
    },
    {
     "data": {
      "application/vnd.jupyter.widget-view+json": {
       "model_id": "5584e3b8ad8e4466bb79d5e4fc9881b1",
       "version_major": 2,
       "version_minor": 0
      },
      "text/plain": [
       "HBox(children=(HTML(value=''), FloatProgress(value=0.0, max=10.0), HTML(value='')))"
      ]
     },
     "metadata": {},
     "output_type": "display_data"
    },
    {
     "name": "stdout",
     "output_type": "stream",
     "text": [
      "\n"
     ]
    },
    {
     "data": {
      "application/vnd.jupyter.widget-view+json": {
       "model_id": "597f34640d0f4dc2a02ed6fca742b047",
       "version_major": 2,
       "version_minor": 0
      },
      "text/plain": [
       "HBox(children=(HTML(value=''), FloatProgress(value=0.0, max=10.0), HTML(value='')))"
      ]
     },
     "metadata": {},
     "output_type": "display_data"
    },
    {
     "name": "stdout",
     "output_type": "stream",
     "text": [
      "\n"
     ]
    },
    {
     "data": {
      "application/vnd.jupyter.widget-view+json": {
       "model_id": "b3bb223f8f104a1fa8a10488210ff730",
       "version_major": 2,
       "version_minor": 0
      },
      "text/plain": [
       "HBox(children=(HTML(value=''), FloatProgress(value=0.0, max=10.0), HTML(value='')))"
      ]
     },
     "metadata": {},
     "output_type": "display_data"
    },
    {
     "name": "stdout",
     "output_type": "stream",
     "text": [
      "\n"
     ]
    },
    {
     "data": {
      "application/vnd.jupyter.widget-view+json": {
       "model_id": "d6a125c86f0840da8d3e68f815973ec0",
       "version_major": 2,
       "version_minor": 0
      },
      "text/plain": [
       "HBox(children=(HTML(value=''), FloatProgress(value=0.0, max=10.0), HTML(value='')))"
      ]
     },
     "metadata": {},
     "output_type": "display_data"
    },
    {
     "name": "stdout",
     "output_type": "stream",
     "text": [
      "\n"
     ]
    },
    {
     "data": {
      "application/vnd.jupyter.widget-view+json": {
       "model_id": "265ce4d0962141b7bc6e863f2888a2b5",
       "version_major": 2,
       "version_minor": 0
      },
      "text/plain": [
       "HBox(children=(HTML(value=''), FloatProgress(value=0.0, max=10.0), HTML(value='')))"
      ]
     },
     "metadata": {},
     "output_type": "display_data"
    },
    {
     "name": "stdout",
     "output_type": "stream",
     "text": [
      "\n"
     ]
    },
    {
     "data": {
      "application/vnd.jupyter.widget-view+json": {
       "model_id": "8086bc9e82a94919955286f8fbbc80c3",
       "version_major": 2,
       "version_minor": 0
      },
      "text/plain": [
       "HBox(children=(HTML(value=''), FloatProgress(value=0.0, max=10.0), HTML(value='')))"
      ]
     },
     "metadata": {},
     "output_type": "display_data"
    },
    {
     "name": "stdout",
     "output_type": "stream",
     "text": [
      "\n"
     ]
    },
    {
     "data": {
      "application/vnd.jupyter.widget-view+json": {
       "model_id": "8cbed35eca734139b699f43a9c89fecc",
       "version_major": 2,
       "version_minor": 0
      },
      "text/plain": [
       "HBox(children=(HTML(value=''), FloatProgress(value=0.0, max=10.0), HTML(value='')))"
      ]
     },
     "metadata": {},
     "output_type": "display_data"
    },
    {
     "name": "stdout",
     "output_type": "stream",
     "text": [
      "\n"
     ]
    },
    {
     "data": {
      "application/vnd.jupyter.widget-view+json": {
       "model_id": "a331b807d9bf46c08e14f4060b3ba6d3",
       "version_major": 2,
       "version_minor": 0
      },
      "text/plain": [
       "HBox(children=(HTML(value=''), FloatProgress(value=0.0, max=10.0), HTML(value='')))"
      ]
     },
     "metadata": {},
     "output_type": "display_data"
    },
    {
     "name": "stdout",
     "output_type": "stream",
     "text": [
      "\n"
     ]
    },
    {
     "data": {
      "application/vnd.jupyter.widget-view+json": {
       "model_id": "6fd299a35ec7490b9cf09c34002b85fa",
       "version_major": 2,
       "version_minor": 0
      },
      "text/plain": [
       "HBox(children=(HTML(value=''), FloatProgress(value=0.0, max=20.0), HTML(value='')))"
      ]
     },
     "metadata": {},
     "output_type": "display_data"
    },
    {
     "name": "stdout",
     "output_type": "stream",
     "text": [
      "\n"
     ]
    },
    {
     "data": {
      "application/vnd.jupyter.widget-view+json": {
       "model_id": "d72294ad83de45e19304c33546e432b2",
       "version_major": 2,
       "version_minor": 0
      },
      "text/plain": [
       "HBox(children=(HTML(value=''), FloatProgress(value=0.0, max=20.0), HTML(value='')))"
      ]
     },
     "metadata": {},
     "output_type": "display_data"
    },
    {
     "name": "stdout",
     "output_type": "stream",
     "text": [
      "\n"
     ]
    },
    {
     "data": {
      "application/vnd.jupyter.widget-view+json": {
       "model_id": "97ea51fac279427cb50a4900d5f953ff",
       "version_major": 2,
       "version_minor": 0
      },
      "text/plain": [
       "HBox(children=(HTML(value=''), FloatProgress(value=0.0, max=20.0), HTML(value='')))"
      ]
     },
     "metadata": {},
     "output_type": "display_data"
    },
    {
     "name": "stdout",
     "output_type": "stream",
     "text": [
      "\n"
     ]
    },
    {
     "data": {
      "application/vnd.jupyter.widget-view+json": {
       "model_id": "edeaadda4ce94a07857e9d68178818e2",
       "version_major": 2,
       "version_minor": 0
      },
      "text/plain": [
       "HBox(children=(HTML(value=''), FloatProgress(value=0.0, max=20.0), HTML(value='')))"
      ]
     },
     "metadata": {},
     "output_type": "display_data"
    },
    {
     "name": "stdout",
     "output_type": "stream",
     "text": [
      "\n"
     ]
    },
    {
     "data": {
      "application/vnd.jupyter.widget-view+json": {
       "model_id": "4f2bea5c6d974fa191e357175128909b",
       "version_major": 2,
       "version_minor": 0
      },
      "text/plain": [
       "HBox(children=(HTML(value=''), FloatProgress(value=0.0, max=20.0), HTML(value='')))"
      ]
     },
     "metadata": {},
     "output_type": "display_data"
    },
    {
     "name": "stdout",
     "output_type": "stream",
     "text": [
      "\n"
     ]
    },
    {
     "data": {
      "application/vnd.jupyter.widget-view+json": {
       "model_id": "a8e2c26ef2754fec914fa7599ff0bcf2",
       "version_major": 2,
       "version_minor": 0
      },
      "text/plain": [
       "HBox(children=(HTML(value=''), FloatProgress(value=0.0, max=20.0), HTML(value='')))"
      ]
     },
     "metadata": {},
     "output_type": "display_data"
    },
    {
     "name": "stdout",
     "output_type": "stream",
     "text": [
      "\n"
     ]
    },
    {
     "data": {
      "application/vnd.jupyter.widget-view+json": {
       "model_id": "6a0b1618446b4d81a9b8f9fb1cc492c3",
       "version_major": 2,
       "version_minor": 0
      },
      "text/plain": [
       "HBox(children=(HTML(value=''), FloatProgress(value=0.0, max=20.0), HTML(value='')))"
      ]
     },
     "metadata": {},
     "output_type": "display_data"
    },
    {
     "name": "stdout",
     "output_type": "stream",
     "text": [
      "\n"
     ]
    },
    {
     "data": {
      "application/vnd.jupyter.widget-view+json": {
       "model_id": "69e296b05fd9456d97aa3a187430f159",
       "version_major": 2,
       "version_minor": 0
      },
      "text/plain": [
       "HBox(children=(HTML(value=''), FloatProgress(value=0.0, max=20.0), HTML(value='')))"
      ]
     },
     "metadata": {},
     "output_type": "display_data"
    },
    {
     "name": "stdout",
     "output_type": "stream",
     "text": [
      "\n"
     ]
    },
    {
     "data": {
      "application/vnd.jupyter.widget-view+json": {
       "model_id": "0dfcc2b398524702bf4f17069faf7421",
       "version_major": 2,
       "version_minor": 0
      },
      "text/plain": [
       "HBox(children=(HTML(value=''), FloatProgress(value=0.0, max=20.0), HTML(value='')))"
      ]
     },
     "metadata": {},
     "output_type": "display_data"
    },
    {
     "name": "stdout",
     "output_type": "stream",
     "text": [
      "\n"
     ]
    },
    {
     "data": {
      "application/vnd.jupyter.widget-view+json": {
       "model_id": "d7b723ecf6254aee91a6dfdab78d907e",
       "version_major": 2,
       "version_minor": 0
      },
      "text/plain": [
       "HBox(children=(HTML(value=''), FloatProgress(value=0.0, max=20.0), HTML(value='')))"
      ]
     },
     "metadata": {},
     "output_type": "display_data"
    },
    {
     "name": "stdout",
     "output_type": "stream",
     "text": [
      "\n"
     ]
    },
    {
     "data": {
      "application/vnd.jupyter.widget-view+json": {
       "model_id": "f1b6fb5b8e4b4a08a0b4b2bc4eff82c0",
       "version_major": 2,
       "version_minor": 0
      },
      "text/plain": [
       "HBox(children=(HTML(value=''), FloatProgress(value=0.0, max=20.0), HTML(value='')))"
      ]
     },
     "metadata": {},
     "output_type": "display_data"
    },
    {
     "name": "stdout",
     "output_type": "stream",
     "text": [
      "\n"
     ]
    },
    {
     "data": {
      "application/vnd.jupyter.widget-view+json": {
       "model_id": "31acc3e95ac847f4ba82afa4128f29f2",
       "version_major": 2,
       "version_minor": 0
      },
      "text/plain": [
       "HBox(children=(HTML(value=''), FloatProgress(value=0.0, max=20.0), HTML(value='')))"
      ]
     },
     "metadata": {},
     "output_type": "display_data"
    },
    {
     "name": "stdout",
     "output_type": "stream",
     "text": [
      "\n"
     ]
    },
    {
     "data": {
      "application/vnd.jupyter.widget-view+json": {
       "model_id": "5b3d5e0a52854c0c9d03026b4e7a3357",
       "version_major": 2,
       "version_minor": 0
      },
      "text/plain": [
       "HBox(children=(HTML(value=''), FloatProgress(value=0.0, max=20.0), HTML(value='')))"
      ]
     },
     "metadata": {},
     "output_type": "display_data"
    },
    {
     "name": "stdout",
     "output_type": "stream",
     "text": [
      "\n"
     ]
    },
    {
     "data": {
      "application/vnd.jupyter.widget-view+json": {
       "model_id": "7fa334c2dd244b99ae90ec8c559fe758",
       "version_major": 2,
       "version_minor": 0
      },
      "text/plain": [
       "HBox(children=(HTML(value=''), FloatProgress(value=0.0, max=20.0), HTML(value='')))"
      ]
     },
     "metadata": {},
     "output_type": "display_data"
    },
    {
     "name": "stdout",
     "output_type": "stream",
     "text": [
      "\n"
     ]
    },
    {
     "data": {
      "application/vnd.jupyter.widget-view+json": {
       "model_id": "d9aa2392b41748f3a0fa19781094e2b1",
       "version_major": 2,
       "version_minor": 0
      },
      "text/plain": [
       "HBox(children=(HTML(value=''), FloatProgress(value=0.0, max=20.0), HTML(value='')))"
      ]
     },
     "metadata": {},
     "output_type": "display_data"
    },
    {
     "name": "stdout",
     "output_type": "stream",
     "text": [
      "\n"
     ]
    },
    {
     "data": {
      "application/vnd.jupyter.widget-view+json": {
       "model_id": "750fd3e5eae9450093f32cb061397f13",
       "version_major": 2,
       "version_minor": 0
      },
      "text/plain": [
       "HBox(children=(HTML(value=''), FloatProgress(value=0.0, max=20.0), HTML(value='')))"
      ]
     },
     "metadata": {},
     "output_type": "display_data"
    },
    {
     "name": "stdout",
     "output_type": "stream",
     "text": [
      "\n"
     ]
    },
    {
     "data": {
      "application/vnd.jupyter.widget-view+json": {
       "model_id": "04a727e71ef24cdeae2964a6c36f046a",
       "version_major": 2,
       "version_minor": 0
      },
      "text/plain": [
       "HBox(children=(HTML(value=''), FloatProgress(value=0.0, max=50.0), HTML(value='')))"
      ]
     },
     "metadata": {},
     "output_type": "display_data"
    },
    {
     "name": "stdout",
     "output_type": "stream",
     "text": [
      "\n"
     ]
    },
    {
     "data": {
      "application/vnd.jupyter.widget-view+json": {
       "model_id": "38b7b69b883147c3b44984b2e292588f",
       "version_major": 2,
       "version_minor": 0
      },
      "text/plain": [
       "HBox(children=(HTML(value=''), FloatProgress(value=0.0, max=50.0), HTML(value='')))"
      ]
     },
     "metadata": {},
     "output_type": "display_data"
    },
    {
     "name": "stdout",
     "output_type": "stream",
     "text": [
      "\n"
     ]
    },
    {
     "data": {
      "application/vnd.jupyter.widget-view+json": {
       "model_id": "a546ddd9e781479192ef34159c4eb540",
       "version_major": 2,
       "version_minor": 0
      },
      "text/plain": [
       "HBox(children=(HTML(value=''), FloatProgress(value=0.0, max=50.0), HTML(value='')))"
      ]
     },
     "metadata": {},
     "output_type": "display_data"
    },
    {
     "name": "stdout",
     "output_type": "stream",
     "text": [
      "\n"
     ]
    },
    {
     "data": {
      "application/vnd.jupyter.widget-view+json": {
       "model_id": "60b7af34fff7469a97b7eb3daeaac276",
       "version_major": 2,
       "version_minor": 0
      },
      "text/plain": [
       "HBox(children=(HTML(value=''), FloatProgress(value=0.0, max=50.0), HTML(value='')))"
      ]
     },
     "metadata": {},
     "output_type": "display_data"
    },
    {
     "name": "stdout",
     "output_type": "stream",
     "text": [
      "\n"
     ]
    },
    {
     "data": {
      "application/vnd.jupyter.widget-view+json": {
       "model_id": "60791a3f13c745c387434d2e233b5d94",
       "version_major": 2,
       "version_minor": 0
      },
      "text/plain": [
       "HBox(children=(HTML(value=''), FloatProgress(value=0.0, max=50.0), HTML(value='')))"
      ]
     },
     "metadata": {},
     "output_type": "display_data"
    },
    {
     "name": "stdout",
     "output_type": "stream",
     "text": [
      "\n"
     ]
    },
    {
     "data": {
      "application/vnd.jupyter.widget-view+json": {
       "model_id": "49d66484fa4f47f7a893a7b264746bc4",
       "version_major": 2,
       "version_minor": 0
      },
      "text/plain": [
       "HBox(children=(HTML(value=''), FloatProgress(value=0.0, max=50.0), HTML(value='')))"
      ]
     },
     "metadata": {},
     "output_type": "display_data"
    },
    {
     "name": "stdout",
     "output_type": "stream",
     "text": [
      "\n"
     ]
    },
    {
     "data": {
      "application/vnd.jupyter.widget-view+json": {
       "model_id": "2774b96e998d48889764ac5b6d7bae8b",
       "version_major": 2,
       "version_minor": 0
      },
      "text/plain": [
       "HBox(children=(HTML(value=''), FloatProgress(value=0.0, max=50.0), HTML(value='')))"
      ]
     },
     "metadata": {},
     "output_type": "display_data"
    },
    {
     "name": "stdout",
     "output_type": "stream",
     "text": [
      "\n"
     ]
    },
    {
     "data": {
      "application/vnd.jupyter.widget-view+json": {
       "model_id": "26f12557db334ebeac7a1a44607675dd",
       "version_major": 2,
       "version_minor": 0
      },
      "text/plain": [
       "HBox(children=(HTML(value=''), FloatProgress(value=0.0, max=50.0), HTML(value='')))"
      ]
     },
     "metadata": {},
     "output_type": "display_data"
    },
    {
     "name": "stdout",
     "output_type": "stream",
     "text": [
      "\n"
     ]
    },
    {
     "data": {
      "application/vnd.jupyter.widget-view+json": {
       "model_id": "77b432245d3a438dab29dbfadb52bba1",
       "version_major": 2,
       "version_minor": 0
      },
      "text/plain": [
       "HBox(children=(HTML(value=''), FloatProgress(value=0.0, max=50.0), HTML(value='')))"
      ]
     },
     "metadata": {},
     "output_type": "display_data"
    },
    {
     "name": "stdout",
     "output_type": "stream",
     "text": [
      "\n"
     ]
    },
    {
     "data": {
      "application/vnd.jupyter.widget-view+json": {
       "model_id": "be113b7868fa472b97a0898b9ab19718",
       "version_major": 2,
       "version_minor": 0
      },
      "text/plain": [
       "HBox(children=(HTML(value=''), FloatProgress(value=0.0, max=50.0), HTML(value='')))"
      ]
     },
     "metadata": {},
     "output_type": "display_data"
    },
    {
     "name": "stdout",
     "output_type": "stream",
     "text": [
      "\n"
     ]
    },
    {
     "data": {
      "application/vnd.jupyter.widget-view+json": {
       "model_id": "dfc5d9328b854c13b633ebdc50a85efc",
       "version_major": 2,
       "version_minor": 0
      },
      "text/plain": [
       "HBox(children=(HTML(value=''), FloatProgress(value=0.0, max=50.0), HTML(value='')))"
      ]
     },
     "metadata": {},
     "output_type": "display_data"
    },
    {
     "name": "stdout",
     "output_type": "stream",
     "text": [
      "\n"
     ]
    },
    {
     "data": {
      "application/vnd.jupyter.widget-view+json": {
       "model_id": "e460b221e34347f69d7c4dfc65a0f351",
       "version_major": 2,
       "version_minor": 0
      },
      "text/plain": [
       "HBox(children=(HTML(value=''), FloatProgress(value=0.0, max=50.0), HTML(value='')))"
      ]
     },
     "metadata": {},
     "output_type": "display_data"
    },
    {
     "name": "stdout",
     "output_type": "stream",
     "text": [
      "\n"
     ]
    },
    {
     "data": {
      "application/vnd.jupyter.widget-view+json": {
       "model_id": "b9a34b7050934fa1995bfb180f3cc40e",
       "version_major": 2,
       "version_minor": 0
      },
      "text/plain": [
       "HBox(children=(HTML(value=''), FloatProgress(value=0.0, max=50.0), HTML(value='')))"
      ]
     },
     "metadata": {},
     "output_type": "display_data"
    },
    {
     "name": "stdout",
     "output_type": "stream",
     "text": [
      "\n"
     ]
    },
    {
     "data": {
      "application/vnd.jupyter.widget-view+json": {
       "model_id": "b09e0f34616e49d492f4d262f3a1becd",
       "version_major": 2,
       "version_minor": 0
      },
      "text/plain": [
       "HBox(children=(HTML(value=''), FloatProgress(value=0.0, max=50.0), HTML(value='')))"
      ]
     },
     "metadata": {},
     "output_type": "display_data"
    },
    {
     "name": "stdout",
     "output_type": "stream",
     "text": [
      "\n"
     ]
    },
    {
     "data": {
      "application/vnd.jupyter.widget-view+json": {
       "model_id": "e1459ef6201142c8b5b9930ad24f8179",
       "version_major": 2,
       "version_minor": 0
      },
      "text/plain": [
       "HBox(children=(HTML(value=''), FloatProgress(value=0.0, max=50.0), HTML(value='')))"
      ]
     },
     "metadata": {},
     "output_type": "display_data"
    },
    {
     "name": "stdout",
     "output_type": "stream",
     "text": [
      "\n"
     ]
    },
    {
     "data": {
      "application/vnd.jupyter.widget-view+json": {
       "model_id": "72f3e01d9035415da0e32548663275f8",
       "version_major": 2,
       "version_minor": 0
      },
      "text/plain": [
       "HBox(children=(HTML(value=''), FloatProgress(value=0.0, max=50.0), HTML(value='')))"
      ]
     },
     "metadata": {},
     "output_type": "display_data"
    },
    {
     "name": "stdout",
     "output_type": "stream",
     "text": [
      "\n"
     ]
    },
    {
     "data": {
      "application/vnd.jupyter.widget-view+json": {
       "model_id": "06ad3d659d454534a34ec59ea3291a54",
       "version_major": 2,
       "version_minor": 0
      },
      "text/plain": [
       "HBox(children=(HTML(value=''), FloatProgress(value=0.0, max=5.0), HTML(value='')))"
      ]
     },
     "metadata": {},
     "output_type": "display_data"
    },
    {
     "name": "stdout",
     "output_type": "stream",
     "text": [
      "\n"
     ]
    },
    {
     "data": {
      "application/vnd.jupyter.widget-view+json": {
       "model_id": "12280dd10bac43a88a218b4ff0eb3d6a",
       "version_major": 2,
       "version_minor": 0
      },
      "text/plain": [
       "HBox(children=(HTML(value=''), FloatProgress(value=0.0, max=5.0), HTML(value='')))"
      ]
     },
     "metadata": {},
     "output_type": "display_data"
    },
    {
     "name": "stdout",
     "output_type": "stream",
     "text": [
      "\n"
     ]
    },
    {
     "data": {
      "application/vnd.jupyter.widget-view+json": {
       "model_id": "5f41a3ed35814edbb6083670e7bd0b1b",
       "version_major": 2,
       "version_minor": 0
      },
      "text/plain": [
       "HBox(children=(HTML(value=''), FloatProgress(value=0.0, max=5.0), HTML(value='')))"
      ]
     },
     "metadata": {},
     "output_type": "display_data"
    },
    {
     "name": "stdout",
     "output_type": "stream",
     "text": [
      "\n"
     ]
    },
    {
     "data": {
      "application/vnd.jupyter.widget-view+json": {
       "model_id": "52c2007d67004b9b9e0f7c8a2ff79e53",
       "version_major": 2,
       "version_minor": 0
      },
      "text/plain": [
       "HBox(children=(HTML(value=''), FloatProgress(value=0.0, max=5.0), HTML(value='')))"
      ]
     },
     "metadata": {},
     "output_type": "display_data"
    },
    {
     "name": "stdout",
     "output_type": "stream",
     "text": [
      "\n"
     ]
    },
    {
     "data": {
      "application/vnd.jupyter.widget-view+json": {
       "model_id": "f1c09b2f40244c88956a3d23fa318e9b",
       "version_major": 2,
       "version_minor": 0
      },
      "text/plain": [
       "HBox(children=(HTML(value=''), FloatProgress(value=0.0, max=5.0), HTML(value='')))"
      ]
     },
     "metadata": {},
     "output_type": "display_data"
    },
    {
     "name": "stdout",
     "output_type": "stream",
     "text": [
      "\n"
     ]
    },
    {
     "data": {
      "application/vnd.jupyter.widget-view+json": {
       "model_id": "115b521628384db68cdd80023a60e031",
       "version_major": 2,
       "version_minor": 0
      },
      "text/plain": [
       "HBox(children=(HTML(value=''), FloatProgress(value=0.0, max=5.0), HTML(value='')))"
      ]
     },
     "metadata": {},
     "output_type": "display_data"
    },
    {
     "name": "stdout",
     "output_type": "stream",
     "text": [
      "\n"
     ]
    },
    {
     "data": {
      "application/vnd.jupyter.widget-view+json": {
       "model_id": "2d3ad8247e6145b690222f9f405bc030",
       "version_major": 2,
       "version_minor": 0
      },
      "text/plain": [
       "HBox(children=(HTML(value=''), FloatProgress(value=0.0, max=5.0), HTML(value='')))"
      ]
     },
     "metadata": {},
     "output_type": "display_data"
    },
    {
     "name": "stdout",
     "output_type": "stream",
     "text": [
      "\n"
     ]
    },
    {
     "data": {
      "application/vnd.jupyter.widget-view+json": {
       "model_id": "f75730a9e3594d5fb833f1edfc362afd",
       "version_major": 2,
       "version_minor": 0
      },
      "text/plain": [
       "HBox(children=(HTML(value=''), FloatProgress(value=0.0, max=5.0), HTML(value='')))"
      ]
     },
     "metadata": {},
     "output_type": "display_data"
    },
    {
     "name": "stdout",
     "output_type": "stream",
     "text": [
      "\n"
     ]
    },
    {
     "data": {
      "application/vnd.jupyter.widget-view+json": {
       "model_id": "823d9d89c4514b06ba7c320bfc7c8992",
       "version_major": 2,
       "version_minor": 0
      },
      "text/plain": [
       "HBox(children=(HTML(value=''), FloatProgress(value=0.0, max=5.0), HTML(value='')))"
      ]
     },
     "metadata": {},
     "output_type": "display_data"
    },
    {
     "name": "stdout",
     "output_type": "stream",
     "text": [
      "\n"
     ]
    },
    {
     "data": {
      "application/vnd.jupyter.widget-view+json": {
       "model_id": "140c2f8cb8c54a018013a8649a49b79e",
       "version_major": 2,
       "version_minor": 0
      },
      "text/plain": [
       "HBox(children=(HTML(value=''), FloatProgress(value=0.0, max=5.0), HTML(value='')))"
      ]
     },
     "metadata": {},
     "output_type": "display_data"
    },
    {
     "name": "stdout",
     "output_type": "stream",
     "text": [
      "\n"
     ]
    },
    {
     "data": {
      "application/vnd.jupyter.widget-view+json": {
       "model_id": "1e683fcb046b413fae2237ae7bddaddc",
       "version_major": 2,
       "version_minor": 0
      },
      "text/plain": [
       "HBox(children=(HTML(value=''), FloatProgress(value=0.0, max=5.0), HTML(value='')))"
      ]
     },
     "metadata": {},
     "output_type": "display_data"
    },
    {
     "name": "stdout",
     "output_type": "stream",
     "text": [
      "\n"
     ]
    },
    {
     "data": {
      "application/vnd.jupyter.widget-view+json": {
       "model_id": "979c618074b045efa3b67eebab8a5da6",
       "version_major": 2,
       "version_minor": 0
      },
      "text/plain": [
       "HBox(children=(HTML(value=''), FloatProgress(value=0.0, max=5.0), HTML(value='')))"
      ]
     },
     "metadata": {},
     "output_type": "display_data"
    },
    {
     "name": "stdout",
     "output_type": "stream",
     "text": [
      "\n"
     ]
    },
    {
     "data": {
      "application/vnd.jupyter.widget-view+json": {
       "model_id": "b77d2d07c41e4a029ee1e757c4dbf0b6",
       "version_major": 2,
       "version_minor": 0
      },
      "text/plain": [
       "HBox(children=(HTML(value=''), FloatProgress(value=0.0, max=5.0), HTML(value='')))"
      ]
     },
     "metadata": {},
     "output_type": "display_data"
    },
    {
     "name": "stdout",
     "output_type": "stream",
     "text": [
      "\n"
     ]
    },
    {
     "data": {
      "application/vnd.jupyter.widget-view+json": {
       "model_id": "afd259a3b86541c293563acd3350f973",
       "version_major": 2,
       "version_minor": 0
      },
      "text/plain": [
       "HBox(children=(HTML(value=''), FloatProgress(value=0.0, max=5.0), HTML(value='')))"
      ]
     },
     "metadata": {},
     "output_type": "display_data"
    },
    {
     "name": "stdout",
     "output_type": "stream",
     "text": [
      "\n"
     ]
    },
    {
     "data": {
      "application/vnd.jupyter.widget-view+json": {
       "model_id": "550f47974f2e49e8afd0afe731af9e0f",
       "version_major": 2,
       "version_minor": 0
      },
      "text/plain": [
       "HBox(children=(HTML(value=''), FloatProgress(value=0.0, max=5.0), HTML(value='')))"
      ]
     },
     "metadata": {},
     "output_type": "display_data"
    },
    {
     "name": "stdout",
     "output_type": "stream",
     "text": [
      "\n"
     ]
    },
    {
     "data": {
      "application/vnd.jupyter.widget-view+json": {
       "model_id": "02ece6fee3794e2ba000b5aab1571aa0",
       "version_major": 2,
       "version_minor": 0
      },
      "text/plain": [
       "HBox(children=(HTML(value=''), FloatProgress(value=0.0, max=5.0), HTML(value='')))"
      ]
     },
     "metadata": {},
     "output_type": "display_data"
    },
    {
     "name": "stdout",
     "output_type": "stream",
     "text": [
      "\n"
     ]
    },
    {
     "data": {
      "application/vnd.jupyter.widget-view+json": {
       "model_id": "3ca42c7c2c6b48689b4ce24c2b2e114d",
       "version_major": 2,
       "version_minor": 0
      },
      "text/plain": [
       "HBox(children=(HTML(value=''), FloatProgress(value=0.0, max=10.0), HTML(value='')))"
      ]
     },
     "metadata": {},
     "output_type": "display_data"
    },
    {
     "name": "stdout",
     "output_type": "stream",
     "text": [
      "\n"
     ]
    },
    {
     "data": {
      "application/vnd.jupyter.widget-view+json": {
       "model_id": "21016ea2029a43a7890441eb4fca3d47",
       "version_major": 2,
       "version_minor": 0
      },
      "text/plain": [
       "HBox(children=(HTML(value=''), FloatProgress(value=0.0, max=10.0), HTML(value='')))"
      ]
     },
     "metadata": {},
     "output_type": "display_data"
    },
    {
     "name": "stdout",
     "output_type": "stream",
     "text": [
      "\n"
     ]
    },
    {
     "data": {
      "application/vnd.jupyter.widget-view+json": {
       "model_id": "249fa588b49346148f686cfe98f87f12",
       "version_major": 2,
       "version_minor": 0
      },
      "text/plain": [
       "HBox(children=(HTML(value=''), FloatProgress(value=0.0, max=10.0), HTML(value='')))"
      ]
     },
     "metadata": {},
     "output_type": "display_data"
    },
    {
     "name": "stdout",
     "output_type": "stream",
     "text": [
      "\n"
     ]
    },
    {
     "data": {
      "application/vnd.jupyter.widget-view+json": {
       "model_id": "d14f37d3414f4442bf7eedab39e55122",
       "version_major": 2,
       "version_minor": 0
      },
      "text/plain": [
       "HBox(children=(HTML(value=''), FloatProgress(value=0.0, max=10.0), HTML(value='')))"
      ]
     },
     "metadata": {},
     "output_type": "display_data"
    },
    {
     "name": "stdout",
     "output_type": "stream",
     "text": [
      "\n"
     ]
    },
    {
     "data": {
      "application/vnd.jupyter.widget-view+json": {
       "model_id": "1093d2589d67412fb721d58fe86feb20",
       "version_major": 2,
       "version_minor": 0
      },
      "text/plain": [
       "HBox(children=(HTML(value=''), FloatProgress(value=0.0, max=10.0), HTML(value='')))"
      ]
     },
     "metadata": {},
     "output_type": "display_data"
    },
    {
     "name": "stdout",
     "output_type": "stream",
     "text": [
      "\n"
     ]
    },
    {
     "data": {
      "application/vnd.jupyter.widget-view+json": {
       "model_id": "d34338d401dd44cca5d6ed10a68d16e7",
       "version_major": 2,
       "version_minor": 0
      },
      "text/plain": [
       "HBox(children=(HTML(value=''), FloatProgress(value=0.0, max=10.0), HTML(value='')))"
      ]
     },
     "metadata": {},
     "output_type": "display_data"
    },
    {
     "name": "stdout",
     "output_type": "stream",
     "text": [
      "\n"
     ]
    },
    {
     "data": {
      "application/vnd.jupyter.widget-view+json": {
       "model_id": "ce6ffdb5cf1945c5a213dbfefa08586f",
       "version_major": 2,
       "version_minor": 0
      },
      "text/plain": [
       "HBox(children=(HTML(value=''), FloatProgress(value=0.0, max=10.0), HTML(value='')))"
      ]
     },
     "metadata": {},
     "output_type": "display_data"
    },
    {
     "name": "stdout",
     "output_type": "stream",
     "text": [
      "\n"
     ]
    },
    {
     "data": {
      "application/vnd.jupyter.widget-view+json": {
       "model_id": "f95aeb01e3fe4907b074da2d44632c61",
       "version_major": 2,
       "version_minor": 0
      },
      "text/plain": [
       "HBox(children=(HTML(value=''), FloatProgress(value=0.0, max=10.0), HTML(value='')))"
      ]
     },
     "metadata": {},
     "output_type": "display_data"
    },
    {
     "name": "stdout",
     "output_type": "stream",
     "text": [
      "\n"
     ]
    },
    {
     "data": {
      "application/vnd.jupyter.widget-view+json": {
       "model_id": "7673ef9d09a84bddbd9b32c043f5cd89",
       "version_major": 2,
       "version_minor": 0
      },
      "text/plain": [
       "HBox(children=(HTML(value=''), FloatProgress(value=0.0, max=10.0), HTML(value='')))"
      ]
     },
     "metadata": {},
     "output_type": "display_data"
    },
    {
     "name": "stdout",
     "output_type": "stream",
     "text": [
      "\n"
     ]
    },
    {
     "data": {
      "application/vnd.jupyter.widget-view+json": {
       "model_id": "8d7d42d83acc4d3d9ae0b4321050bd01",
       "version_major": 2,
       "version_minor": 0
      },
      "text/plain": [
       "HBox(children=(HTML(value=''), FloatProgress(value=0.0, max=10.0), HTML(value='')))"
      ]
     },
     "metadata": {},
     "output_type": "display_data"
    },
    {
     "name": "stdout",
     "output_type": "stream",
     "text": [
      "\n"
     ]
    },
    {
     "data": {
      "application/vnd.jupyter.widget-view+json": {
       "model_id": "c65e8527de7449ae968517544f11e1c6",
       "version_major": 2,
       "version_minor": 0
      },
      "text/plain": [
       "HBox(children=(HTML(value=''), FloatProgress(value=0.0, max=10.0), HTML(value='')))"
      ]
     },
     "metadata": {},
     "output_type": "display_data"
    },
    {
     "name": "stdout",
     "output_type": "stream",
     "text": [
      "\n"
     ]
    },
    {
     "data": {
      "application/vnd.jupyter.widget-view+json": {
       "model_id": "a1984e768d854de8a9dadd3ad13712dc",
       "version_major": 2,
       "version_minor": 0
      },
      "text/plain": [
       "HBox(children=(HTML(value=''), FloatProgress(value=0.0, max=10.0), HTML(value='')))"
      ]
     },
     "metadata": {},
     "output_type": "display_data"
    },
    {
     "name": "stdout",
     "output_type": "stream",
     "text": [
      "\n"
     ]
    },
    {
     "data": {
      "application/vnd.jupyter.widget-view+json": {
       "model_id": "fa972d77afcc4271acc24790a67069c9",
       "version_major": 2,
       "version_minor": 0
      },
      "text/plain": [
       "HBox(children=(HTML(value=''), FloatProgress(value=0.0, max=10.0), HTML(value='')))"
      ]
     },
     "metadata": {},
     "output_type": "display_data"
    },
    {
     "name": "stdout",
     "output_type": "stream",
     "text": [
      "\n"
     ]
    },
    {
     "data": {
      "application/vnd.jupyter.widget-view+json": {
       "model_id": "0057fd1d7c4045899c9bec535aeb019f",
       "version_major": 2,
       "version_minor": 0
      },
      "text/plain": [
       "HBox(children=(HTML(value=''), FloatProgress(value=0.0, max=10.0), HTML(value='')))"
      ]
     },
     "metadata": {},
     "output_type": "display_data"
    },
    {
     "name": "stdout",
     "output_type": "stream",
     "text": [
      "\n"
     ]
    },
    {
     "data": {
      "application/vnd.jupyter.widget-view+json": {
       "model_id": "5cc8a22a8ddc4fba98ec4280fd7ebf9d",
       "version_major": 2,
       "version_minor": 0
      },
      "text/plain": [
       "HBox(children=(HTML(value=''), FloatProgress(value=0.0, max=10.0), HTML(value='')))"
      ]
     },
     "metadata": {},
     "output_type": "display_data"
    },
    {
     "name": "stdout",
     "output_type": "stream",
     "text": [
      "\n"
     ]
    },
    {
     "data": {
      "application/vnd.jupyter.widget-view+json": {
       "model_id": "f1bdee5cd10e4980a3a38a38f371a48e",
       "version_major": 2,
       "version_minor": 0
      },
      "text/plain": [
       "HBox(children=(HTML(value=''), FloatProgress(value=0.0, max=10.0), HTML(value='')))"
      ]
     },
     "metadata": {},
     "output_type": "display_data"
    },
    {
     "name": "stdout",
     "output_type": "stream",
     "text": [
      "\n"
     ]
    },
    {
     "data": {
      "application/vnd.jupyter.widget-view+json": {
       "model_id": "9f5fe30ed6334faa831bcd2fd9eed82d",
       "version_major": 2,
       "version_minor": 0
      },
      "text/plain": [
       "HBox(children=(HTML(value=''), FloatProgress(value=0.0, max=20.0), HTML(value='')))"
      ]
     },
     "metadata": {},
     "output_type": "display_data"
    },
    {
     "name": "stdout",
     "output_type": "stream",
     "text": [
      "\n"
     ]
    },
    {
     "data": {
      "application/vnd.jupyter.widget-view+json": {
       "model_id": "0c124c4c07fa49bfa0faf949d7d6cfff",
       "version_major": 2,
       "version_minor": 0
      },
      "text/plain": [
       "HBox(children=(HTML(value=''), FloatProgress(value=0.0, max=20.0), HTML(value='')))"
      ]
     },
     "metadata": {},
     "output_type": "display_data"
    },
    {
     "name": "stdout",
     "output_type": "stream",
     "text": [
      "\n"
     ]
    },
    {
     "data": {
      "application/vnd.jupyter.widget-view+json": {
       "model_id": "f0b92102af68402080e19ca927010f9a",
       "version_major": 2,
       "version_minor": 0
      },
      "text/plain": [
       "HBox(children=(HTML(value=''), FloatProgress(value=0.0, max=20.0), HTML(value='')))"
      ]
     },
     "metadata": {},
     "output_type": "display_data"
    },
    {
     "name": "stdout",
     "output_type": "stream",
     "text": [
      "\n"
     ]
    },
    {
     "data": {
      "application/vnd.jupyter.widget-view+json": {
       "model_id": "b46674a74b334b5eb4ce28a5eba44291",
       "version_major": 2,
       "version_minor": 0
      },
      "text/plain": [
       "HBox(children=(HTML(value=''), FloatProgress(value=0.0, max=20.0), HTML(value='')))"
      ]
     },
     "metadata": {},
     "output_type": "display_data"
    },
    {
     "name": "stdout",
     "output_type": "stream",
     "text": [
      "\n"
     ]
    },
    {
     "data": {
      "application/vnd.jupyter.widget-view+json": {
       "model_id": "745c1cfe251f4c4986b7a9c16c440172",
       "version_major": 2,
       "version_minor": 0
      },
      "text/plain": [
       "HBox(children=(HTML(value=''), FloatProgress(value=0.0, max=20.0), HTML(value='')))"
      ]
     },
     "metadata": {},
     "output_type": "display_data"
    },
    {
     "name": "stdout",
     "output_type": "stream",
     "text": [
      "\n"
     ]
    },
    {
     "data": {
      "application/vnd.jupyter.widget-view+json": {
       "model_id": "8ad79d8e359a467da8a7d619714074e2",
       "version_major": 2,
       "version_minor": 0
      },
      "text/plain": [
       "HBox(children=(HTML(value=''), FloatProgress(value=0.0, max=20.0), HTML(value='')))"
      ]
     },
     "metadata": {},
     "output_type": "display_data"
    },
    {
     "name": "stdout",
     "output_type": "stream",
     "text": [
      "\n"
     ]
    },
    {
     "data": {
      "application/vnd.jupyter.widget-view+json": {
       "model_id": "f763ff21ded3421d9b6d47ab4a455ec9",
       "version_major": 2,
       "version_minor": 0
      },
      "text/plain": [
       "HBox(children=(HTML(value=''), FloatProgress(value=0.0, max=20.0), HTML(value='')))"
      ]
     },
     "metadata": {},
     "output_type": "display_data"
    },
    {
     "name": "stdout",
     "output_type": "stream",
     "text": [
      "\n"
     ]
    },
    {
     "data": {
      "application/vnd.jupyter.widget-view+json": {
       "model_id": "8592f92e1eb14ef8b319d872834e0033",
       "version_major": 2,
       "version_minor": 0
      },
      "text/plain": [
       "HBox(children=(HTML(value=''), FloatProgress(value=0.0, max=20.0), HTML(value='')))"
      ]
     },
     "metadata": {},
     "output_type": "display_data"
    },
    {
     "name": "stdout",
     "output_type": "stream",
     "text": [
      "\n"
     ]
    },
    {
     "data": {
      "application/vnd.jupyter.widget-view+json": {
       "model_id": "ca7a9c07400348eda22d75d8e4efbd3e",
       "version_major": 2,
       "version_minor": 0
      },
      "text/plain": [
       "HBox(children=(HTML(value=''), FloatProgress(value=0.0, max=20.0), HTML(value='')))"
      ]
     },
     "metadata": {},
     "output_type": "display_data"
    },
    {
     "name": "stdout",
     "output_type": "stream",
     "text": [
      "\n"
     ]
    },
    {
     "data": {
      "application/vnd.jupyter.widget-view+json": {
       "model_id": "2c146932b3bb4fcb83140b5a8576d655",
       "version_major": 2,
       "version_minor": 0
      },
      "text/plain": [
       "HBox(children=(HTML(value=''), FloatProgress(value=0.0, max=20.0), HTML(value='')))"
      ]
     },
     "metadata": {},
     "output_type": "display_data"
    },
    {
     "name": "stdout",
     "output_type": "stream",
     "text": [
      "\n"
     ]
    },
    {
     "data": {
      "application/vnd.jupyter.widget-view+json": {
       "model_id": "6a3bb60e53024c5d9c13fd7ca6d9bc07",
       "version_major": 2,
       "version_minor": 0
      },
      "text/plain": [
       "HBox(children=(HTML(value=''), FloatProgress(value=0.0, max=20.0), HTML(value='')))"
      ]
     },
     "metadata": {},
     "output_type": "display_data"
    },
    {
     "name": "stdout",
     "output_type": "stream",
     "text": [
      "\n"
     ]
    },
    {
     "data": {
      "application/vnd.jupyter.widget-view+json": {
       "model_id": "1d77d0b00b624e8680567c846812ea23",
       "version_major": 2,
       "version_minor": 0
      },
      "text/plain": [
       "HBox(children=(HTML(value=''), FloatProgress(value=0.0, max=20.0), HTML(value='')))"
      ]
     },
     "metadata": {},
     "output_type": "display_data"
    },
    {
     "name": "stdout",
     "output_type": "stream",
     "text": [
      "\n"
     ]
    },
    {
     "data": {
      "application/vnd.jupyter.widget-view+json": {
       "model_id": "374bf61488a6424babb6956d8734be31",
       "version_major": 2,
       "version_minor": 0
      },
      "text/plain": [
       "HBox(children=(HTML(value=''), FloatProgress(value=0.0, max=20.0), HTML(value='')))"
      ]
     },
     "metadata": {},
     "output_type": "display_data"
    },
    {
     "name": "stdout",
     "output_type": "stream",
     "text": [
      "\n"
     ]
    },
    {
     "data": {
      "application/vnd.jupyter.widget-view+json": {
       "model_id": "40a0ae97dad744ca937c4da9f69c0354",
       "version_major": 2,
       "version_minor": 0
      },
      "text/plain": [
       "HBox(children=(HTML(value=''), FloatProgress(value=0.0, max=20.0), HTML(value='')))"
      ]
     },
     "metadata": {},
     "output_type": "display_data"
    },
    {
     "name": "stdout",
     "output_type": "stream",
     "text": [
      "\n"
     ]
    },
    {
     "data": {
      "application/vnd.jupyter.widget-view+json": {
       "model_id": "7c20c814b8fa469fafc8f5bf6de074bb",
       "version_major": 2,
       "version_minor": 0
      },
      "text/plain": [
       "HBox(children=(HTML(value=''), FloatProgress(value=0.0, max=20.0), HTML(value='')))"
      ]
     },
     "metadata": {},
     "output_type": "display_data"
    },
    {
     "name": "stdout",
     "output_type": "stream",
     "text": [
      "\n"
     ]
    },
    {
     "data": {
      "application/vnd.jupyter.widget-view+json": {
       "model_id": "8342d96adb3942a0acfb29adb23e1c63",
       "version_major": 2,
       "version_minor": 0
      },
      "text/plain": [
       "HBox(children=(HTML(value=''), FloatProgress(value=0.0, max=20.0), HTML(value='')))"
      ]
     },
     "metadata": {},
     "output_type": "display_data"
    },
    {
     "name": "stdout",
     "output_type": "stream",
     "text": [
      "\n"
     ]
    },
    {
     "data": {
      "application/vnd.jupyter.widget-view+json": {
       "model_id": "5de90c32704048b288c5187ab769359a",
       "version_major": 2,
       "version_minor": 0
      },
      "text/plain": [
       "HBox(children=(HTML(value=''), FloatProgress(value=0.0, max=50.0), HTML(value='')))"
      ]
     },
     "metadata": {},
     "output_type": "display_data"
    },
    {
     "name": "stdout",
     "output_type": "stream",
     "text": [
      "\n"
     ]
    },
    {
     "data": {
      "application/vnd.jupyter.widget-view+json": {
       "model_id": "b1d87a86c41d474d89552314e11253d7",
       "version_major": 2,
       "version_minor": 0
      },
      "text/plain": [
       "HBox(children=(HTML(value=''), FloatProgress(value=0.0, max=50.0), HTML(value='')))"
      ]
     },
     "metadata": {},
     "output_type": "display_data"
    },
    {
     "name": "stdout",
     "output_type": "stream",
     "text": [
      "\n"
     ]
    },
    {
     "data": {
      "application/vnd.jupyter.widget-view+json": {
       "model_id": "eb64f1cbccdf412187a8a3942b5bb94f",
       "version_major": 2,
       "version_minor": 0
      },
      "text/plain": [
       "HBox(children=(HTML(value=''), FloatProgress(value=0.0, max=50.0), HTML(value='')))"
      ]
     },
     "metadata": {},
     "output_type": "display_data"
    },
    {
     "name": "stdout",
     "output_type": "stream",
     "text": [
      "\n"
     ]
    },
    {
     "data": {
      "application/vnd.jupyter.widget-view+json": {
       "model_id": "15a1f3bf5e12462095148b3bae738ca2",
       "version_major": 2,
       "version_minor": 0
      },
      "text/plain": [
       "HBox(children=(HTML(value=''), FloatProgress(value=0.0, max=50.0), HTML(value='')))"
      ]
     },
     "metadata": {},
     "output_type": "display_data"
    },
    {
     "name": "stdout",
     "output_type": "stream",
     "text": [
      "\n"
     ]
    },
    {
     "data": {
      "application/vnd.jupyter.widget-view+json": {
       "model_id": "f3c806ba8c174bc7bca439b9b902874d",
       "version_major": 2,
       "version_minor": 0
      },
      "text/plain": [
       "HBox(children=(HTML(value=''), FloatProgress(value=0.0, max=50.0), HTML(value='')))"
      ]
     },
     "metadata": {},
     "output_type": "display_data"
    },
    {
     "name": "stdout",
     "output_type": "stream",
     "text": [
      "\n"
     ]
    },
    {
     "data": {
      "application/vnd.jupyter.widget-view+json": {
       "model_id": "bdae9374922a43b5b06be9ee8c2e058f",
       "version_major": 2,
       "version_minor": 0
      },
      "text/plain": [
       "HBox(children=(HTML(value=''), FloatProgress(value=0.0, max=50.0), HTML(value='')))"
      ]
     },
     "metadata": {},
     "output_type": "display_data"
    },
    {
     "name": "stdout",
     "output_type": "stream",
     "text": [
      "\n"
     ]
    },
    {
     "data": {
      "application/vnd.jupyter.widget-view+json": {
       "model_id": "ec4b5ec976a242e0a460f79f9e62a67b",
       "version_major": 2,
       "version_minor": 0
      },
      "text/plain": [
       "HBox(children=(HTML(value=''), FloatProgress(value=0.0, max=50.0), HTML(value='')))"
      ]
     },
     "metadata": {},
     "output_type": "display_data"
    },
    {
     "name": "stdout",
     "output_type": "stream",
     "text": [
      "\n"
     ]
    },
    {
     "data": {
      "application/vnd.jupyter.widget-view+json": {
       "model_id": "d24b0fdc9ff149589b20ba9e60998eb9",
       "version_major": 2,
       "version_minor": 0
      },
      "text/plain": [
       "HBox(children=(HTML(value=''), FloatProgress(value=0.0, max=50.0), HTML(value='')))"
      ]
     },
     "metadata": {},
     "output_type": "display_data"
    },
    {
     "name": "stdout",
     "output_type": "stream",
     "text": [
      "\n"
     ]
    },
    {
     "data": {
      "application/vnd.jupyter.widget-view+json": {
       "model_id": "34b8f081765344d3b5c0b2fab6870d26",
       "version_major": 2,
       "version_minor": 0
      },
      "text/plain": [
       "HBox(children=(HTML(value=''), FloatProgress(value=0.0, max=50.0), HTML(value='')))"
      ]
     },
     "metadata": {},
     "output_type": "display_data"
    },
    {
     "name": "stdout",
     "output_type": "stream",
     "text": [
      "\n"
     ]
    },
    {
     "data": {
      "application/vnd.jupyter.widget-view+json": {
       "model_id": "98f2c75c5d294c76963341466df08966",
       "version_major": 2,
       "version_minor": 0
      },
      "text/plain": [
       "HBox(children=(HTML(value=''), FloatProgress(value=0.0, max=50.0), HTML(value='')))"
      ]
     },
     "metadata": {},
     "output_type": "display_data"
    },
    {
     "name": "stdout",
     "output_type": "stream",
     "text": [
      "\n"
     ]
    },
    {
     "data": {
      "application/vnd.jupyter.widget-view+json": {
       "model_id": "5d20e1f5bdc04fa1a5dbb216e2495c24",
       "version_major": 2,
       "version_minor": 0
      },
      "text/plain": [
       "HBox(children=(HTML(value=''), FloatProgress(value=0.0, max=50.0), HTML(value='')))"
      ]
     },
     "metadata": {},
     "output_type": "display_data"
    },
    {
     "name": "stdout",
     "output_type": "stream",
     "text": [
      "\n"
     ]
    },
    {
     "data": {
      "application/vnd.jupyter.widget-view+json": {
       "model_id": "d5459a2dfe4441cbbc9b6e024e78130e",
       "version_major": 2,
       "version_minor": 0
      },
      "text/plain": [
       "HBox(children=(HTML(value=''), FloatProgress(value=0.0, max=50.0), HTML(value='')))"
      ]
     },
     "metadata": {},
     "output_type": "display_data"
    },
    {
     "name": "stdout",
     "output_type": "stream",
     "text": [
      "\n"
     ]
    },
    {
     "data": {
      "application/vnd.jupyter.widget-view+json": {
       "model_id": "1f1e4de25ce043709d711ea44fb32e63",
       "version_major": 2,
       "version_minor": 0
      },
      "text/plain": [
       "HBox(children=(HTML(value=''), FloatProgress(value=0.0, max=50.0), HTML(value='')))"
      ]
     },
     "metadata": {},
     "output_type": "display_data"
    },
    {
     "name": "stdout",
     "output_type": "stream",
     "text": [
      "\n"
     ]
    },
    {
     "data": {
      "application/vnd.jupyter.widget-view+json": {
       "model_id": "7baaf9e2af2744a3bab9479364745136",
       "version_major": 2,
       "version_minor": 0
      },
      "text/plain": [
       "HBox(children=(HTML(value=''), FloatProgress(value=0.0, max=50.0), HTML(value='')))"
      ]
     },
     "metadata": {},
     "output_type": "display_data"
    },
    {
     "name": "stdout",
     "output_type": "stream",
     "text": [
      "\n"
     ]
    },
    {
     "data": {
      "application/vnd.jupyter.widget-view+json": {
       "model_id": "3855878215f34e83824e21fbd654a7e1",
       "version_major": 2,
       "version_minor": 0
      },
      "text/plain": [
       "HBox(children=(HTML(value=''), FloatProgress(value=0.0, max=50.0), HTML(value='')))"
      ]
     },
     "metadata": {},
     "output_type": "display_data"
    },
    {
     "name": "stdout",
     "output_type": "stream",
     "text": [
      "\n"
     ]
    },
    {
     "data": {
      "application/vnd.jupyter.widget-view+json": {
       "model_id": "33cff36115e44e38a6f57e4c869a6d3c",
       "version_major": 2,
       "version_minor": 0
      },
      "text/plain": [
       "HBox(children=(HTML(value=''), FloatProgress(value=0.0, max=50.0), HTML(value='')))"
      ]
     },
     "metadata": {},
     "output_type": "display_data"
    },
    {
     "name": "stdout",
     "output_type": "stream",
     "text": [
      "\n"
     ]
    },
    {
     "data": {
      "application/vnd.jupyter.widget-view+json": {
       "model_id": "98751e47e7b2417da1ccbe5a6b04283d",
       "version_major": 2,
       "version_minor": 0
      },
      "text/plain": [
       "HBox(children=(HTML(value=''), FloatProgress(value=0.0, max=5.0), HTML(value='')))"
      ]
     },
     "metadata": {},
     "output_type": "display_data"
    },
    {
     "name": "stdout",
     "output_type": "stream",
     "text": [
      "\n"
     ]
    },
    {
     "data": {
      "application/vnd.jupyter.widget-view+json": {
       "model_id": "430641f6391c4e7095871bc4b32d7902",
       "version_major": 2,
       "version_minor": 0
      },
      "text/plain": [
       "HBox(children=(HTML(value=''), FloatProgress(value=0.0, max=5.0), HTML(value='')))"
      ]
     },
     "metadata": {},
     "output_type": "display_data"
    },
    {
     "name": "stdout",
     "output_type": "stream",
     "text": [
      "\n"
     ]
    },
    {
     "data": {
      "application/vnd.jupyter.widget-view+json": {
       "model_id": "7890c1404e3b497a8ccdeb48a113af46",
       "version_major": 2,
       "version_minor": 0
      },
      "text/plain": [
       "HBox(children=(HTML(value=''), FloatProgress(value=0.0, max=5.0), HTML(value='')))"
      ]
     },
     "metadata": {},
     "output_type": "display_data"
    },
    {
     "name": "stdout",
     "output_type": "stream",
     "text": [
      "\n"
     ]
    },
    {
     "data": {
      "application/vnd.jupyter.widget-view+json": {
       "model_id": "0cbaeb81a9e44fac9528f0ab940d9896",
       "version_major": 2,
       "version_minor": 0
      },
      "text/plain": [
       "HBox(children=(HTML(value=''), FloatProgress(value=0.0, max=5.0), HTML(value='')))"
      ]
     },
     "metadata": {},
     "output_type": "display_data"
    },
    {
     "name": "stdout",
     "output_type": "stream",
     "text": [
      "\n"
     ]
    },
    {
     "data": {
      "application/vnd.jupyter.widget-view+json": {
       "model_id": "513b741530dc4f31b743fea687758b24",
       "version_major": 2,
       "version_minor": 0
      },
      "text/plain": [
       "HBox(children=(HTML(value=''), FloatProgress(value=0.0, max=5.0), HTML(value='')))"
      ]
     },
     "metadata": {},
     "output_type": "display_data"
    },
    {
     "name": "stdout",
     "output_type": "stream",
     "text": [
      "\n"
     ]
    },
    {
     "data": {
      "application/vnd.jupyter.widget-view+json": {
       "model_id": "e55e7b9d2b754c3ebab5e64912ec6327",
       "version_major": 2,
       "version_minor": 0
      },
      "text/plain": [
       "HBox(children=(HTML(value=''), FloatProgress(value=0.0, max=5.0), HTML(value='')))"
      ]
     },
     "metadata": {},
     "output_type": "display_data"
    },
    {
     "name": "stdout",
     "output_type": "stream",
     "text": [
      "\n"
     ]
    },
    {
     "data": {
      "application/vnd.jupyter.widget-view+json": {
       "model_id": "7aec6b50e9024422b277a0b1fff5dd1e",
       "version_major": 2,
       "version_minor": 0
      },
      "text/plain": [
       "HBox(children=(HTML(value=''), FloatProgress(value=0.0, max=5.0), HTML(value='')))"
      ]
     },
     "metadata": {},
     "output_type": "display_data"
    },
    {
     "name": "stdout",
     "output_type": "stream",
     "text": [
      "\n"
     ]
    },
    {
     "data": {
      "application/vnd.jupyter.widget-view+json": {
       "model_id": "4dd7d85e969941b282ba307fff58aef3",
       "version_major": 2,
       "version_minor": 0
      },
      "text/plain": [
       "HBox(children=(HTML(value=''), FloatProgress(value=0.0, max=5.0), HTML(value='')))"
      ]
     },
     "metadata": {},
     "output_type": "display_data"
    },
    {
     "name": "stdout",
     "output_type": "stream",
     "text": [
      "\n"
     ]
    },
    {
     "data": {
      "application/vnd.jupyter.widget-view+json": {
       "model_id": "1e2a8b747c334dab99bb191f90df60fa",
       "version_major": 2,
       "version_minor": 0
      },
      "text/plain": [
       "HBox(children=(HTML(value=''), FloatProgress(value=0.0, max=5.0), HTML(value='')))"
      ]
     },
     "metadata": {},
     "output_type": "display_data"
    },
    {
     "name": "stdout",
     "output_type": "stream",
     "text": [
      "\n"
     ]
    },
    {
     "data": {
      "application/vnd.jupyter.widget-view+json": {
       "model_id": "bace815b228e4c9c8b831a4cb35e212a",
       "version_major": 2,
       "version_minor": 0
      },
      "text/plain": [
       "HBox(children=(HTML(value=''), FloatProgress(value=0.0, max=5.0), HTML(value='')))"
      ]
     },
     "metadata": {},
     "output_type": "display_data"
    },
    {
     "name": "stdout",
     "output_type": "stream",
     "text": [
      "\n"
     ]
    },
    {
     "data": {
      "application/vnd.jupyter.widget-view+json": {
       "model_id": "60f645a9600f48a295e6badbe73ece02",
       "version_major": 2,
       "version_minor": 0
      },
      "text/plain": [
       "HBox(children=(HTML(value=''), FloatProgress(value=0.0, max=5.0), HTML(value='')))"
      ]
     },
     "metadata": {},
     "output_type": "display_data"
    },
    {
     "name": "stdout",
     "output_type": "stream",
     "text": [
      "\n"
     ]
    },
    {
     "data": {
      "application/vnd.jupyter.widget-view+json": {
       "model_id": "3dd3ef252bf048fdb595747c15c4b9ec",
       "version_major": 2,
       "version_minor": 0
      },
      "text/plain": [
       "HBox(children=(HTML(value=''), FloatProgress(value=0.0, max=5.0), HTML(value='')))"
      ]
     },
     "metadata": {},
     "output_type": "display_data"
    },
    {
     "name": "stdout",
     "output_type": "stream",
     "text": [
      "\n"
     ]
    },
    {
     "data": {
      "application/vnd.jupyter.widget-view+json": {
       "model_id": "b411220bc4c448c99a707dcd5a2eaff6",
       "version_major": 2,
       "version_minor": 0
      },
      "text/plain": [
       "HBox(children=(HTML(value=''), FloatProgress(value=0.0, max=5.0), HTML(value='')))"
      ]
     },
     "metadata": {},
     "output_type": "display_data"
    },
    {
     "name": "stdout",
     "output_type": "stream",
     "text": [
      "\n"
     ]
    },
    {
     "data": {
      "application/vnd.jupyter.widget-view+json": {
       "model_id": "5543749b1685494299a3f501bd4a7770",
       "version_major": 2,
       "version_minor": 0
      },
      "text/plain": [
       "HBox(children=(HTML(value=''), FloatProgress(value=0.0, max=5.0), HTML(value='')))"
      ]
     },
     "metadata": {},
     "output_type": "display_data"
    },
    {
     "name": "stdout",
     "output_type": "stream",
     "text": [
      "\n"
     ]
    },
    {
     "data": {
      "application/vnd.jupyter.widget-view+json": {
       "model_id": "10e900d290864b639ae7b61024741fa6",
       "version_major": 2,
       "version_minor": 0
      },
      "text/plain": [
       "HBox(children=(HTML(value=''), FloatProgress(value=0.0, max=5.0), HTML(value='')))"
      ]
     },
     "metadata": {},
     "output_type": "display_data"
    },
    {
     "name": "stdout",
     "output_type": "stream",
     "text": [
      "\n"
     ]
    },
    {
     "data": {
      "application/vnd.jupyter.widget-view+json": {
       "model_id": "51eb157d67de4f12b28f891a795602e5",
       "version_major": 2,
       "version_minor": 0
      },
      "text/plain": [
       "HBox(children=(HTML(value=''), FloatProgress(value=0.0, max=5.0), HTML(value='')))"
      ]
     },
     "metadata": {},
     "output_type": "display_data"
    },
    {
     "name": "stdout",
     "output_type": "stream",
     "text": [
      "\n"
     ]
    },
    {
     "data": {
      "application/vnd.jupyter.widget-view+json": {
       "model_id": "ec7952af84b94e7489980e675d2ba953",
       "version_major": 2,
       "version_minor": 0
      },
      "text/plain": [
       "HBox(children=(HTML(value=''), FloatProgress(value=0.0, max=10.0), HTML(value='')))"
      ]
     },
     "metadata": {},
     "output_type": "display_data"
    },
    {
     "name": "stdout",
     "output_type": "stream",
     "text": [
      "\n"
     ]
    },
    {
     "data": {
      "application/vnd.jupyter.widget-view+json": {
       "model_id": "e8a9dfdc6333401688d97528a3e741f0",
       "version_major": 2,
       "version_minor": 0
      },
      "text/plain": [
       "HBox(children=(HTML(value=''), FloatProgress(value=0.0, max=10.0), HTML(value='')))"
      ]
     },
     "metadata": {},
     "output_type": "display_data"
    },
    {
     "name": "stdout",
     "output_type": "stream",
     "text": [
      "\n"
     ]
    },
    {
     "data": {
      "application/vnd.jupyter.widget-view+json": {
       "model_id": "72f073bc30c541bfbf9ce14a2cf6d232",
       "version_major": 2,
       "version_minor": 0
      },
      "text/plain": [
       "HBox(children=(HTML(value=''), FloatProgress(value=0.0, max=10.0), HTML(value='')))"
      ]
     },
     "metadata": {},
     "output_type": "display_data"
    },
    {
     "name": "stdout",
     "output_type": "stream",
     "text": [
      "\n"
     ]
    },
    {
     "data": {
      "application/vnd.jupyter.widget-view+json": {
       "model_id": "758c7a2753db4794b1879d46595cd926",
       "version_major": 2,
       "version_minor": 0
      },
      "text/plain": [
       "HBox(children=(HTML(value=''), FloatProgress(value=0.0, max=10.0), HTML(value='')))"
      ]
     },
     "metadata": {},
     "output_type": "display_data"
    },
    {
     "name": "stdout",
     "output_type": "stream",
     "text": [
      "\n"
     ]
    },
    {
     "data": {
      "application/vnd.jupyter.widget-view+json": {
       "model_id": "7dbd0ed96d2947a39ba32a789e81064b",
       "version_major": 2,
       "version_minor": 0
      },
      "text/plain": [
       "HBox(children=(HTML(value=''), FloatProgress(value=0.0, max=10.0), HTML(value='')))"
      ]
     },
     "metadata": {},
     "output_type": "display_data"
    },
    {
     "name": "stdout",
     "output_type": "stream",
     "text": [
      "\n"
     ]
    },
    {
     "data": {
      "application/vnd.jupyter.widget-view+json": {
       "model_id": "625b2f6da6cf4eafb3d35b2d7284f0d1",
       "version_major": 2,
       "version_minor": 0
      },
      "text/plain": [
       "HBox(children=(HTML(value=''), FloatProgress(value=0.0, max=10.0), HTML(value='')))"
      ]
     },
     "metadata": {},
     "output_type": "display_data"
    },
    {
     "name": "stdout",
     "output_type": "stream",
     "text": [
      "\n"
     ]
    },
    {
     "data": {
      "application/vnd.jupyter.widget-view+json": {
       "model_id": "b3752d47676141cc8b19968ecc9bb324",
       "version_major": 2,
       "version_minor": 0
      },
      "text/plain": [
       "HBox(children=(HTML(value=''), FloatProgress(value=0.0, max=10.0), HTML(value='')))"
      ]
     },
     "metadata": {},
     "output_type": "display_data"
    },
    {
     "name": "stdout",
     "output_type": "stream",
     "text": [
      "\n"
     ]
    },
    {
     "data": {
      "application/vnd.jupyter.widget-view+json": {
       "model_id": "9a9092568d4e45e39f2b8eda412cb84d",
       "version_major": 2,
       "version_minor": 0
      },
      "text/plain": [
       "HBox(children=(HTML(value=''), FloatProgress(value=0.0, max=10.0), HTML(value='')))"
      ]
     },
     "metadata": {},
     "output_type": "display_data"
    },
    {
     "name": "stdout",
     "output_type": "stream",
     "text": [
      "\n"
     ]
    },
    {
     "data": {
      "application/vnd.jupyter.widget-view+json": {
       "model_id": "9f969c7975884611884640aa6728eb3a",
       "version_major": 2,
       "version_minor": 0
      },
      "text/plain": [
       "HBox(children=(HTML(value=''), FloatProgress(value=0.0, max=10.0), HTML(value='')))"
      ]
     },
     "metadata": {},
     "output_type": "display_data"
    },
    {
     "name": "stdout",
     "output_type": "stream",
     "text": [
      "\n"
     ]
    },
    {
     "data": {
      "application/vnd.jupyter.widget-view+json": {
       "model_id": "ed68f65bba65402cae45cb6d8fd6d541",
       "version_major": 2,
       "version_minor": 0
      },
      "text/plain": [
       "HBox(children=(HTML(value=''), FloatProgress(value=0.0, max=10.0), HTML(value='')))"
      ]
     },
     "metadata": {},
     "output_type": "display_data"
    },
    {
     "name": "stdout",
     "output_type": "stream",
     "text": [
      "\n"
     ]
    },
    {
     "data": {
      "application/vnd.jupyter.widget-view+json": {
       "model_id": "ba152a969f0b403eb461df77f9d687b7",
       "version_major": 2,
       "version_minor": 0
      },
      "text/plain": [
       "HBox(children=(HTML(value=''), FloatProgress(value=0.0, max=10.0), HTML(value='')))"
      ]
     },
     "metadata": {},
     "output_type": "display_data"
    },
    {
     "name": "stdout",
     "output_type": "stream",
     "text": [
      "\n"
     ]
    },
    {
     "data": {
      "application/vnd.jupyter.widget-view+json": {
       "model_id": "6e6d488251c3454280d5470a1d3523c5",
       "version_major": 2,
       "version_minor": 0
      },
      "text/plain": [
       "HBox(children=(HTML(value=''), FloatProgress(value=0.0, max=10.0), HTML(value='')))"
      ]
     },
     "metadata": {},
     "output_type": "display_data"
    },
    {
     "name": "stdout",
     "output_type": "stream",
     "text": [
      "\n"
     ]
    },
    {
     "data": {
      "application/vnd.jupyter.widget-view+json": {
       "model_id": "46e7e5b8e219420d9a6617cc31931506",
       "version_major": 2,
       "version_minor": 0
      },
      "text/plain": [
       "HBox(children=(HTML(value=''), FloatProgress(value=0.0, max=10.0), HTML(value='')))"
      ]
     },
     "metadata": {},
     "output_type": "display_data"
    },
    {
     "name": "stdout",
     "output_type": "stream",
     "text": [
      "\n"
     ]
    },
    {
     "data": {
      "application/vnd.jupyter.widget-view+json": {
       "model_id": "9646b913d74c438eaa875f41d7e25fc2",
       "version_major": 2,
       "version_minor": 0
      },
      "text/plain": [
       "HBox(children=(HTML(value=''), FloatProgress(value=0.0, max=10.0), HTML(value='')))"
      ]
     },
     "metadata": {},
     "output_type": "display_data"
    },
    {
     "name": "stdout",
     "output_type": "stream",
     "text": [
      "\n"
     ]
    },
    {
     "data": {
      "application/vnd.jupyter.widget-view+json": {
       "model_id": "207f1797e6d242f8b36a75a478455648",
       "version_major": 2,
       "version_minor": 0
      },
      "text/plain": [
       "HBox(children=(HTML(value=''), FloatProgress(value=0.0, max=10.0), HTML(value='')))"
      ]
     },
     "metadata": {},
     "output_type": "display_data"
    },
    {
     "name": "stdout",
     "output_type": "stream",
     "text": [
      "\n"
     ]
    },
    {
     "data": {
      "application/vnd.jupyter.widget-view+json": {
       "model_id": "398c11cdb3ee4da1ba03e822c1bac2d8",
       "version_major": 2,
       "version_minor": 0
      },
      "text/plain": [
       "HBox(children=(HTML(value=''), FloatProgress(value=0.0, max=10.0), HTML(value='')))"
      ]
     },
     "metadata": {},
     "output_type": "display_data"
    },
    {
     "name": "stdout",
     "output_type": "stream",
     "text": [
      "\n"
     ]
    },
    {
     "data": {
      "application/vnd.jupyter.widget-view+json": {
       "model_id": "07adce93f954470192563eca2b63880a",
       "version_major": 2,
       "version_minor": 0
      },
      "text/plain": [
       "HBox(children=(HTML(value=''), FloatProgress(value=0.0, max=20.0), HTML(value='')))"
      ]
     },
     "metadata": {},
     "output_type": "display_data"
    },
    {
     "name": "stdout",
     "output_type": "stream",
     "text": [
      "\n"
     ]
    },
    {
     "data": {
      "application/vnd.jupyter.widget-view+json": {
       "model_id": "3d2dda5d1df642d9ad0813e4591e83c3",
       "version_major": 2,
       "version_minor": 0
      },
      "text/plain": [
       "HBox(children=(HTML(value=''), FloatProgress(value=0.0, max=20.0), HTML(value='')))"
      ]
     },
     "metadata": {},
     "output_type": "display_data"
    },
    {
     "name": "stdout",
     "output_type": "stream",
     "text": [
      "\n"
     ]
    },
    {
     "data": {
      "application/vnd.jupyter.widget-view+json": {
       "model_id": "52bc887d38a941acb47d768d1af8e7da",
       "version_major": 2,
       "version_minor": 0
      },
      "text/plain": [
       "HBox(children=(HTML(value=''), FloatProgress(value=0.0, max=20.0), HTML(value='')))"
      ]
     },
     "metadata": {},
     "output_type": "display_data"
    },
    {
     "name": "stdout",
     "output_type": "stream",
     "text": [
      "\n"
     ]
    },
    {
     "data": {
      "application/vnd.jupyter.widget-view+json": {
       "model_id": "9496ec5a977b4265a43a2d157fbd3ab2",
       "version_major": 2,
       "version_minor": 0
      },
      "text/plain": [
       "HBox(children=(HTML(value=''), FloatProgress(value=0.0, max=20.0), HTML(value='')))"
      ]
     },
     "metadata": {},
     "output_type": "display_data"
    },
    {
     "name": "stdout",
     "output_type": "stream",
     "text": [
      "\n"
     ]
    },
    {
     "data": {
      "application/vnd.jupyter.widget-view+json": {
       "model_id": "d275cb8595f4455bbf9be66b3e435716",
       "version_major": 2,
       "version_minor": 0
      },
      "text/plain": [
       "HBox(children=(HTML(value=''), FloatProgress(value=0.0, max=20.0), HTML(value='')))"
      ]
     },
     "metadata": {},
     "output_type": "display_data"
    },
    {
     "name": "stdout",
     "output_type": "stream",
     "text": [
      "\n"
     ]
    },
    {
     "data": {
      "application/vnd.jupyter.widget-view+json": {
       "model_id": "b2c79fad98bb48e4a013197c2b2d592d",
       "version_major": 2,
       "version_minor": 0
      },
      "text/plain": [
       "HBox(children=(HTML(value=''), FloatProgress(value=0.0, max=20.0), HTML(value='')))"
      ]
     },
     "metadata": {},
     "output_type": "display_data"
    },
    {
     "name": "stdout",
     "output_type": "stream",
     "text": [
      "\n"
     ]
    },
    {
     "data": {
      "application/vnd.jupyter.widget-view+json": {
       "model_id": "4b5a3ef01666448091f53a06e825d010",
       "version_major": 2,
       "version_minor": 0
      },
      "text/plain": [
       "HBox(children=(HTML(value=''), FloatProgress(value=0.0, max=20.0), HTML(value='')))"
      ]
     },
     "metadata": {},
     "output_type": "display_data"
    },
    {
     "name": "stdout",
     "output_type": "stream",
     "text": [
      "\n"
     ]
    },
    {
     "data": {
      "application/vnd.jupyter.widget-view+json": {
       "model_id": "90b63944d37344bab7231040608a5e18",
       "version_major": 2,
       "version_minor": 0
      },
      "text/plain": [
       "HBox(children=(HTML(value=''), FloatProgress(value=0.0, max=20.0), HTML(value='')))"
      ]
     },
     "metadata": {},
     "output_type": "display_data"
    },
    {
     "name": "stdout",
     "output_type": "stream",
     "text": [
      "\n"
     ]
    },
    {
     "data": {
      "application/vnd.jupyter.widget-view+json": {
       "model_id": "ea5d7001aa6644399307137ab26a606b",
       "version_major": 2,
       "version_minor": 0
      },
      "text/plain": [
       "HBox(children=(HTML(value=''), FloatProgress(value=0.0, max=20.0), HTML(value='')))"
      ]
     },
     "metadata": {},
     "output_type": "display_data"
    },
    {
     "name": "stdout",
     "output_type": "stream",
     "text": [
      "\n"
     ]
    },
    {
     "data": {
      "application/vnd.jupyter.widget-view+json": {
       "model_id": "4940d92456964c6d8530125192ba9841",
       "version_major": 2,
       "version_minor": 0
      },
      "text/plain": [
       "HBox(children=(HTML(value=''), FloatProgress(value=0.0, max=20.0), HTML(value='')))"
      ]
     },
     "metadata": {},
     "output_type": "display_data"
    },
    {
     "name": "stdout",
     "output_type": "stream",
     "text": [
      "\n"
     ]
    },
    {
     "data": {
      "application/vnd.jupyter.widget-view+json": {
       "model_id": "cbbfba6d2ae6484098e502a8850fda6f",
       "version_major": 2,
       "version_minor": 0
      },
      "text/plain": [
       "HBox(children=(HTML(value=''), FloatProgress(value=0.0, max=20.0), HTML(value='')))"
      ]
     },
     "metadata": {},
     "output_type": "display_data"
    },
    {
     "name": "stdout",
     "output_type": "stream",
     "text": [
      "\n"
     ]
    },
    {
     "data": {
      "application/vnd.jupyter.widget-view+json": {
       "model_id": "e9d3d21a54904d188937a513659cb1d0",
       "version_major": 2,
       "version_minor": 0
      },
      "text/plain": [
       "HBox(children=(HTML(value=''), FloatProgress(value=0.0, max=20.0), HTML(value='')))"
      ]
     },
     "metadata": {},
     "output_type": "display_data"
    },
    {
     "name": "stdout",
     "output_type": "stream",
     "text": [
      "\n"
     ]
    },
    {
     "data": {
      "application/vnd.jupyter.widget-view+json": {
       "model_id": "e1b373028b794594a32aef74ec822077",
       "version_major": 2,
       "version_minor": 0
      },
      "text/plain": [
       "HBox(children=(HTML(value=''), FloatProgress(value=0.0, max=20.0), HTML(value='')))"
      ]
     },
     "metadata": {},
     "output_type": "display_data"
    },
    {
     "name": "stdout",
     "output_type": "stream",
     "text": [
      "\n"
     ]
    },
    {
     "data": {
      "application/vnd.jupyter.widget-view+json": {
       "model_id": "6fd0f7b8be6a49798636f5ada497d073",
       "version_major": 2,
       "version_minor": 0
      },
      "text/plain": [
       "HBox(children=(HTML(value=''), FloatProgress(value=0.0, max=20.0), HTML(value='')))"
      ]
     },
     "metadata": {},
     "output_type": "display_data"
    },
    {
     "name": "stdout",
     "output_type": "stream",
     "text": [
      "\n"
     ]
    },
    {
     "data": {
      "application/vnd.jupyter.widget-view+json": {
       "model_id": "5905613f891d46f6ba89a692467bc2a9",
       "version_major": 2,
       "version_minor": 0
      },
      "text/plain": [
       "HBox(children=(HTML(value=''), FloatProgress(value=0.0, max=20.0), HTML(value='')))"
      ]
     },
     "metadata": {},
     "output_type": "display_data"
    },
    {
     "name": "stdout",
     "output_type": "stream",
     "text": [
      "\n"
     ]
    },
    {
     "data": {
      "application/vnd.jupyter.widget-view+json": {
       "model_id": "3f23b1b99f7841f6aab245a105822411",
       "version_major": 2,
       "version_minor": 0
      },
      "text/plain": [
       "HBox(children=(HTML(value=''), FloatProgress(value=0.0, max=20.0), HTML(value='')))"
      ]
     },
     "metadata": {},
     "output_type": "display_data"
    },
    {
     "name": "stdout",
     "output_type": "stream",
     "text": [
      "\n"
     ]
    },
    {
     "data": {
      "application/vnd.jupyter.widget-view+json": {
       "model_id": "a77dbd6348174043abe4107b6be0c6e9",
       "version_major": 2,
       "version_minor": 0
      },
      "text/plain": [
       "HBox(children=(HTML(value=''), FloatProgress(value=0.0, max=50.0), HTML(value='')))"
      ]
     },
     "metadata": {},
     "output_type": "display_data"
    },
    {
     "name": "stdout",
     "output_type": "stream",
     "text": [
      "\n"
     ]
    },
    {
     "data": {
      "application/vnd.jupyter.widget-view+json": {
       "model_id": "7dcd6218d57b4cf8bcddd1db58f78e28",
       "version_major": 2,
       "version_minor": 0
      },
      "text/plain": [
       "HBox(children=(HTML(value=''), FloatProgress(value=0.0, max=50.0), HTML(value='')))"
      ]
     },
     "metadata": {},
     "output_type": "display_data"
    },
    {
     "name": "stdout",
     "output_type": "stream",
     "text": [
      "\n"
     ]
    },
    {
     "data": {
      "application/vnd.jupyter.widget-view+json": {
       "model_id": "b519337063694d3595bd230ec3256e98",
       "version_major": 2,
       "version_minor": 0
      },
      "text/plain": [
       "HBox(children=(HTML(value=''), FloatProgress(value=0.0, max=50.0), HTML(value='')))"
      ]
     },
     "metadata": {},
     "output_type": "display_data"
    },
    {
     "name": "stdout",
     "output_type": "stream",
     "text": [
      "\n"
     ]
    },
    {
     "data": {
      "application/vnd.jupyter.widget-view+json": {
       "model_id": "d3cc8a0d81b04f1fb0168bb39b064657",
       "version_major": 2,
       "version_minor": 0
      },
      "text/plain": [
       "HBox(children=(HTML(value=''), FloatProgress(value=0.0, max=50.0), HTML(value='')))"
      ]
     },
     "metadata": {},
     "output_type": "display_data"
    },
    {
     "name": "stdout",
     "output_type": "stream",
     "text": [
      "\n"
     ]
    },
    {
     "data": {
      "application/vnd.jupyter.widget-view+json": {
       "model_id": "36f7ecfb932f4a15977b56215ec79003",
       "version_major": 2,
       "version_minor": 0
      },
      "text/plain": [
       "HBox(children=(HTML(value=''), FloatProgress(value=0.0, max=50.0), HTML(value='')))"
      ]
     },
     "metadata": {},
     "output_type": "display_data"
    },
    {
     "name": "stdout",
     "output_type": "stream",
     "text": [
      "\n"
     ]
    },
    {
     "data": {
      "application/vnd.jupyter.widget-view+json": {
       "model_id": "54ce583669b9423fa00a70ca09b96814",
       "version_major": 2,
       "version_minor": 0
      },
      "text/plain": [
       "HBox(children=(HTML(value=''), FloatProgress(value=0.0, max=50.0), HTML(value='')))"
      ]
     },
     "metadata": {},
     "output_type": "display_data"
    },
    {
     "name": "stdout",
     "output_type": "stream",
     "text": [
      "\n"
     ]
    },
    {
     "data": {
      "application/vnd.jupyter.widget-view+json": {
       "model_id": "2a8f6206fdeb4a348eb711680c80e122",
       "version_major": 2,
       "version_minor": 0
      },
      "text/plain": [
       "HBox(children=(HTML(value=''), FloatProgress(value=0.0, max=50.0), HTML(value='')))"
      ]
     },
     "metadata": {},
     "output_type": "display_data"
    },
    {
     "name": "stdout",
     "output_type": "stream",
     "text": [
      "\n"
     ]
    },
    {
     "data": {
      "application/vnd.jupyter.widget-view+json": {
       "model_id": "4969233f1e3f4f6ca3d054ebe7df25b5",
       "version_major": 2,
       "version_minor": 0
      },
      "text/plain": [
       "HBox(children=(HTML(value=''), FloatProgress(value=0.0, max=50.0), HTML(value='')))"
      ]
     },
     "metadata": {},
     "output_type": "display_data"
    },
    {
     "name": "stdout",
     "output_type": "stream",
     "text": [
      "\n"
     ]
    },
    {
     "data": {
      "application/vnd.jupyter.widget-view+json": {
       "model_id": "d0a7c11ac80844fba7b876314efbc9ca",
       "version_major": 2,
       "version_minor": 0
      },
      "text/plain": [
       "HBox(children=(HTML(value=''), FloatProgress(value=0.0, max=50.0), HTML(value='')))"
      ]
     },
     "metadata": {},
     "output_type": "display_data"
    },
    {
     "name": "stdout",
     "output_type": "stream",
     "text": [
      "\n"
     ]
    },
    {
     "data": {
      "application/vnd.jupyter.widget-view+json": {
       "model_id": "a59ddaed96d54ba6a383c4077c9267f1",
       "version_major": 2,
       "version_minor": 0
      },
      "text/plain": [
       "HBox(children=(HTML(value=''), FloatProgress(value=0.0, max=50.0), HTML(value='')))"
      ]
     },
     "metadata": {},
     "output_type": "display_data"
    },
    {
     "name": "stdout",
     "output_type": "stream",
     "text": [
      "\n"
     ]
    },
    {
     "data": {
      "application/vnd.jupyter.widget-view+json": {
       "model_id": "646f937c8ce44aafb2a4d9cf12f23f47",
       "version_major": 2,
       "version_minor": 0
      },
      "text/plain": [
       "HBox(children=(HTML(value=''), FloatProgress(value=0.0, max=50.0), HTML(value='')))"
      ]
     },
     "metadata": {},
     "output_type": "display_data"
    },
    {
     "name": "stdout",
     "output_type": "stream",
     "text": [
      "\n"
     ]
    },
    {
     "data": {
      "application/vnd.jupyter.widget-view+json": {
       "model_id": "3097e2de402c44d782b158dcf94ed310",
       "version_major": 2,
       "version_minor": 0
      },
      "text/plain": [
       "HBox(children=(HTML(value=''), FloatProgress(value=0.0, max=50.0), HTML(value='')))"
      ]
     },
     "metadata": {},
     "output_type": "display_data"
    },
    {
     "name": "stdout",
     "output_type": "stream",
     "text": [
      "\n"
     ]
    },
    {
     "data": {
      "application/vnd.jupyter.widget-view+json": {
       "model_id": "d016032f535e471eb3d33ee6a73fe70a",
       "version_major": 2,
       "version_minor": 0
      },
      "text/plain": [
       "HBox(children=(HTML(value=''), FloatProgress(value=0.0, max=50.0), HTML(value='')))"
      ]
     },
     "metadata": {},
     "output_type": "display_data"
    },
    {
     "name": "stdout",
     "output_type": "stream",
     "text": [
      "\n"
     ]
    },
    {
     "data": {
      "application/vnd.jupyter.widget-view+json": {
       "model_id": "916c8bda4de94cfb9969c08f675c66ad",
       "version_major": 2,
       "version_minor": 0
      },
      "text/plain": [
       "HBox(children=(HTML(value=''), FloatProgress(value=0.0, max=50.0), HTML(value='')))"
      ]
     },
     "metadata": {},
     "output_type": "display_data"
    },
    {
     "name": "stdout",
     "output_type": "stream",
     "text": [
      "\n"
     ]
    },
    {
     "data": {
      "application/vnd.jupyter.widget-view+json": {
       "model_id": "74fb692d09ec4d948712a394e10a7b38",
       "version_major": 2,
       "version_minor": 0
      },
      "text/plain": [
       "HBox(children=(HTML(value=''), FloatProgress(value=0.0, max=50.0), HTML(value='')))"
      ]
     },
     "metadata": {},
     "output_type": "display_data"
    },
    {
     "name": "stdout",
     "output_type": "stream",
     "text": [
      "\n"
     ]
    },
    {
     "data": {
      "application/vnd.jupyter.widget-view+json": {
       "model_id": "8970084bf2a7481a8974b2e0ca313eef",
       "version_major": 2,
       "version_minor": 0
      },
      "text/plain": [
       "HBox(children=(HTML(value=''), FloatProgress(value=0.0, max=50.0), HTML(value='')))"
      ]
     },
     "metadata": {},
     "output_type": "display_data"
    },
    {
     "name": "stdout",
     "output_type": "stream",
     "text": [
      "\n"
     ]
    },
    {
     "data": {
      "application/vnd.jupyter.widget-view+json": {
       "model_id": "88a208007ab648c18cab3b3f192b4b24",
       "version_major": 2,
       "version_minor": 0
      },
      "text/plain": [
       "HBox(children=(HTML(value=''), FloatProgress(value=0.0, max=5.0), HTML(value='')))"
      ]
     },
     "metadata": {},
     "output_type": "display_data"
    },
    {
     "name": "stdout",
     "output_type": "stream",
     "text": [
      "\n"
     ]
    },
    {
     "data": {
      "application/vnd.jupyter.widget-view+json": {
       "model_id": "0401a785423245908a7805656e2748ab",
       "version_major": 2,
       "version_minor": 0
      },
      "text/plain": [
       "HBox(children=(HTML(value=''), FloatProgress(value=0.0, max=5.0), HTML(value='')))"
      ]
     },
     "metadata": {},
     "output_type": "display_data"
    },
    {
     "name": "stdout",
     "output_type": "stream",
     "text": [
      "\n"
     ]
    },
    {
     "data": {
      "application/vnd.jupyter.widget-view+json": {
       "model_id": "acb2e7ddc8a04f6eb89d73718ed85572",
       "version_major": 2,
       "version_minor": 0
      },
      "text/plain": [
       "HBox(children=(HTML(value=''), FloatProgress(value=0.0, max=5.0), HTML(value='')))"
      ]
     },
     "metadata": {},
     "output_type": "display_data"
    },
    {
     "name": "stdout",
     "output_type": "stream",
     "text": [
      "\n"
     ]
    },
    {
     "data": {
      "application/vnd.jupyter.widget-view+json": {
       "model_id": "54d0f7e4d73840e39625c6dcb8861b1d",
       "version_major": 2,
       "version_minor": 0
      },
      "text/plain": [
       "HBox(children=(HTML(value=''), FloatProgress(value=0.0, max=5.0), HTML(value='')))"
      ]
     },
     "metadata": {},
     "output_type": "display_data"
    },
    {
     "name": "stdout",
     "output_type": "stream",
     "text": [
      "\n"
     ]
    },
    {
     "data": {
      "application/vnd.jupyter.widget-view+json": {
       "model_id": "7bc6da71885b439d9fa9ba9c17c31e6c",
       "version_major": 2,
       "version_minor": 0
      },
      "text/plain": [
       "HBox(children=(HTML(value=''), FloatProgress(value=0.0, max=5.0), HTML(value='')))"
      ]
     },
     "metadata": {},
     "output_type": "display_data"
    },
    {
     "name": "stdout",
     "output_type": "stream",
     "text": [
      "\n"
     ]
    },
    {
     "data": {
      "application/vnd.jupyter.widget-view+json": {
       "model_id": "b665c833dd24430c9c2b476740f874a8",
       "version_major": 2,
       "version_minor": 0
      },
      "text/plain": [
       "HBox(children=(HTML(value=''), FloatProgress(value=0.0, max=5.0), HTML(value='')))"
      ]
     },
     "metadata": {},
     "output_type": "display_data"
    },
    {
     "name": "stdout",
     "output_type": "stream",
     "text": [
      "\n"
     ]
    },
    {
     "data": {
      "application/vnd.jupyter.widget-view+json": {
       "model_id": "e702cb38ea144779ab46a9ccb3c52266",
       "version_major": 2,
       "version_minor": 0
      },
      "text/plain": [
       "HBox(children=(HTML(value=''), FloatProgress(value=0.0, max=5.0), HTML(value='')))"
      ]
     },
     "metadata": {},
     "output_type": "display_data"
    },
    {
     "name": "stdout",
     "output_type": "stream",
     "text": [
      "\n"
     ]
    },
    {
     "data": {
      "application/vnd.jupyter.widget-view+json": {
       "model_id": "7684354589db4a9086d507fdcc648df1",
       "version_major": 2,
       "version_minor": 0
      },
      "text/plain": [
       "HBox(children=(HTML(value=''), FloatProgress(value=0.0, max=5.0), HTML(value='')))"
      ]
     },
     "metadata": {},
     "output_type": "display_data"
    },
    {
     "name": "stdout",
     "output_type": "stream",
     "text": [
      "\n"
     ]
    },
    {
     "data": {
      "application/vnd.jupyter.widget-view+json": {
       "model_id": "f0ff86f24fe544fc8cb7638110bd19de",
       "version_major": 2,
       "version_minor": 0
      },
      "text/plain": [
       "HBox(children=(HTML(value=''), FloatProgress(value=0.0, max=5.0), HTML(value='')))"
      ]
     },
     "metadata": {},
     "output_type": "display_data"
    },
    {
     "name": "stdout",
     "output_type": "stream",
     "text": [
      "\n"
     ]
    },
    {
     "data": {
      "application/vnd.jupyter.widget-view+json": {
       "model_id": "dd4a997472be4c84afbbd2d6e7293f59",
       "version_major": 2,
       "version_minor": 0
      },
      "text/plain": [
       "HBox(children=(HTML(value=''), FloatProgress(value=0.0, max=5.0), HTML(value='')))"
      ]
     },
     "metadata": {},
     "output_type": "display_data"
    },
    {
     "name": "stdout",
     "output_type": "stream",
     "text": [
      "\n"
     ]
    },
    {
     "data": {
      "application/vnd.jupyter.widget-view+json": {
       "model_id": "beae03b03fb34c4e97a665d2d95d9b8b",
       "version_major": 2,
       "version_minor": 0
      },
      "text/plain": [
       "HBox(children=(HTML(value=''), FloatProgress(value=0.0, max=5.0), HTML(value='')))"
      ]
     },
     "metadata": {},
     "output_type": "display_data"
    },
    {
     "name": "stdout",
     "output_type": "stream",
     "text": [
      "\n"
     ]
    },
    {
     "data": {
      "application/vnd.jupyter.widget-view+json": {
       "model_id": "d49936f96f4d47d8b16fb700a1abab7f",
       "version_major": 2,
       "version_minor": 0
      },
      "text/plain": [
       "HBox(children=(HTML(value=''), FloatProgress(value=0.0, max=5.0), HTML(value='')))"
      ]
     },
     "metadata": {},
     "output_type": "display_data"
    },
    {
     "name": "stdout",
     "output_type": "stream",
     "text": [
      "\n"
     ]
    },
    {
     "data": {
      "application/vnd.jupyter.widget-view+json": {
       "model_id": "e45f322fd270484990047152020f4304",
       "version_major": 2,
       "version_minor": 0
      },
      "text/plain": [
       "HBox(children=(HTML(value=''), FloatProgress(value=0.0, max=5.0), HTML(value='')))"
      ]
     },
     "metadata": {},
     "output_type": "display_data"
    },
    {
     "name": "stdout",
     "output_type": "stream",
     "text": [
      "\n"
     ]
    },
    {
     "data": {
      "application/vnd.jupyter.widget-view+json": {
       "model_id": "436cc0272f884e1fba8664e740deb052",
       "version_major": 2,
       "version_minor": 0
      },
      "text/plain": [
       "HBox(children=(HTML(value=''), FloatProgress(value=0.0, max=5.0), HTML(value='')))"
      ]
     },
     "metadata": {},
     "output_type": "display_data"
    },
    {
     "name": "stdout",
     "output_type": "stream",
     "text": [
      "\n"
     ]
    },
    {
     "data": {
      "application/vnd.jupyter.widget-view+json": {
       "model_id": "52112f303cd5436e8388dea6e5788f4a",
       "version_major": 2,
       "version_minor": 0
      },
      "text/plain": [
       "HBox(children=(HTML(value=''), FloatProgress(value=0.0, max=5.0), HTML(value='')))"
      ]
     },
     "metadata": {},
     "output_type": "display_data"
    },
    {
     "name": "stdout",
     "output_type": "stream",
     "text": [
      "\n"
     ]
    },
    {
     "data": {
      "application/vnd.jupyter.widget-view+json": {
       "model_id": "bf53d7c716b34ec4b7543522c744488a",
       "version_major": 2,
       "version_minor": 0
      },
      "text/plain": [
       "HBox(children=(HTML(value=''), FloatProgress(value=0.0, max=5.0), HTML(value='')))"
      ]
     },
     "metadata": {},
     "output_type": "display_data"
    },
    {
     "name": "stdout",
     "output_type": "stream",
     "text": [
      "\n"
     ]
    },
    {
     "data": {
      "application/vnd.jupyter.widget-view+json": {
       "model_id": "dedc8bc9196a467a88a1c30a87043509",
       "version_major": 2,
       "version_minor": 0
      },
      "text/plain": [
       "HBox(children=(HTML(value=''), FloatProgress(value=0.0, max=10.0), HTML(value='')))"
      ]
     },
     "metadata": {},
     "output_type": "display_data"
    },
    {
     "name": "stdout",
     "output_type": "stream",
     "text": [
      "\n"
     ]
    },
    {
     "data": {
      "application/vnd.jupyter.widget-view+json": {
       "model_id": "243bcc921034405e8068e65aa05be1a8",
       "version_major": 2,
       "version_minor": 0
      },
      "text/plain": [
       "HBox(children=(HTML(value=''), FloatProgress(value=0.0, max=10.0), HTML(value='')))"
      ]
     },
     "metadata": {},
     "output_type": "display_data"
    },
    {
     "name": "stdout",
     "output_type": "stream",
     "text": [
      "\n"
     ]
    },
    {
     "data": {
      "application/vnd.jupyter.widget-view+json": {
       "model_id": "9a0876d494fb48038fc619db35ee4c05",
       "version_major": 2,
       "version_minor": 0
      },
      "text/plain": [
       "HBox(children=(HTML(value=''), FloatProgress(value=0.0, max=10.0), HTML(value='')))"
      ]
     },
     "metadata": {},
     "output_type": "display_data"
    },
    {
     "name": "stdout",
     "output_type": "stream",
     "text": [
      "\n"
     ]
    },
    {
     "data": {
      "application/vnd.jupyter.widget-view+json": {
       "model_id": "740d845746af45198a95cab44df86946",
       "version_major": 2,
       "version_minor": 0
      },
      "text/plain": [
       "HBox(children=(HTML(value=''), FloatProgress(value=0.0, max=10.0), HTML(value='')))"
      ]
     },
     "metadata": {},
     "output_type": "display_data"
    },
    {
     "name": "stdout",
     "output_type": "stream",
     "text": [
      "\n"
     ]
    },
    {
     "data": {
      "application/vnd.jupyter.widget-view+json": {
       "model_id": "5f3a7efa263c420099d4883b4ffb40c6",
       "version_major": 2,
       "version_minor": 0
      },
      "text/plain": [
       "HBox(children=(HTML(value=''), FloatProgress(value=0.0, max=10.0), HTML(value='')))"
      ]
     },
     "metadata": {},
     "output_type": "display_data"
    },
    {
     "name": "stdout",
     "output_type": "stream",
     "text": [
      "\n"
     ]
    },
    {
     "data": {
      "application/vnd.jupyter.widget-view+json": {
       "model_id": "47570ebe37ac4bd3b69f78d2b26df21a",
       "version_major": 2,
       "version_minor": 0
      },
      "text/plain": [
       "HBox(children=(HTML(value=''), FloatProgress(value=0.0, max=10.0), HTML(value='')))"
      ]
     },
     "metadata": {},
     "output_type": "display_data"
    },
    {
     "name": "stdout",
     "output_type": "stream",
     "text": [
      "\n"
     ]
    },
    {
     "data": {
      "application/vnd.jupyter.widget-view+json": {
       "model_id": "0ab9f06e6eb74c3d8cee5b5dd853838e",
       "version_major": 2,
       "version_minor": 0
      },
      "text/plain": [
       "HBox(children=(HTML(value=''), FloatProgress(value=0.0, max=10.0), HTML(value='')))"
      ]
     },
     "metadata": {},
     "output_type": "display_data"
    },
    {
     "name": "stdout",
     "output_type": "stream",
     "text": [
      "\n"
     ]
    },
    {
     "data": {
      "application/vnd.jupyter.widget-view+json": {
       "model_id": "5540c76e09bc4a05a33bb4e48a5a89b9",
       "version_major": 2,
       "version_minor": 0
      },
      "text/plain": [
       "HBox(children=(HTML(value=''), FloatProgress(value=0.0, max=10.0), HTML(value='')))"
      ]
     },
     "metadata": {},
     "output_type": "display_data"
    },
    {
     "name": "stdout",
     "output_type": "stream",
     "text": [
      "\n"
     ]
    },
    {
     "data": {
      "application/vnd.jupyter.widget-view+json": {
       "model_id": "bac5f3568f834793937f02873a405df1",
       "version_major": 2,
       "version_minor": 0
      },
      "text/plain": [
       "HBox(children=(HTML(value=''), FloatProgress(value=0.0, max=10.0), HTML(value='')))"
      ]
     },
     "metadata": {},
     "output_type": "display_data"
    },
    {
     "name": "stdout",
     "output_type": "stream",
     "text": [
      "\n"
     ]
    },
    {
     "data": {
      "application/vnd.jupyter.widget-view+json": {
       "model_id": "5df6bc0340234ec5b425164af025a966",
       "version_major": 2,
       "version_minor": 0
      },
      "text/plain": [
       "HBox(children=(HTML(value=''), FloatProgress(value=0.0, max=10.0), HTML(value='')))"
      ]
     },
     "metadata": {},
     "output_type": "display_data"
    },
    {
     "name": "stdout",
     "output_type": "stream",
     "text": [
      "\n"
     ]
    },
    {
     "data": {
      "application/vnd.jupyter.widget-view+json": {
       "model_id": "29bf6a30b13e48e99339005a619a8b82",
       "version_major": 2,
       "version_minor": 0
      },
      "text/plain": [
       "HBox(children=(HTML(value=''), FloatProgress(value=0.0, max=10.0), HTML(value='')))"
      ]
     },
     "metadata": {},
     "output_type": "display_data"
    },
    {
     "name": "stdout",
     "output_type": "stream",
     "text": [
      "\n"
     ]
    },
    {
     "data": {
      "application/vnd.jupyter.widget-view+json": {
       "model_id": "e2b9dc4e5fd446db908cb79c5d2fca5b",
       "version_major": 2,
       "version_minor": 0
      },
      "text/plain": [
       "HBox(children=(HTML(value=''), FloatProgress(value=0.0, max=10.0), HTML(value='')))"
      ]
     },
     "metadata": {},
     "output_type": "display_data"
    },
    {
     "name": "stdout",
     "output_type": "stream",
     "text": [
      "\n"
     ]
    },
    {
     "data": {
      "application/vnd.jupyter.widget-view+json": {
       "model_id": "67a36aa0e4bf43d7821fc3773b58fa1e",
       "version_major": 2,
       "version_minor": 0
      },
      "text/plain": [
       "HBox(children=(HTML(value=''), FloatProgress(value=0.0, max=10.0), HTML(value='')))"
      ]
     },
     "metadata": {},
     "output_type": "display_data"
    },
    {
     "name": "stdout",
     "output_type": "stream",
     "text": [
      "\n"
     ]
    },
    {
     "data": {
      "application/vnd.jupyter.widget-view+json": {
       "model_id": "ad7b2735b9c946629bfd8838af4b2983",
       "version_major": 2,
       "version_minor": 0
      },
      "text/plain": [
       "HBox(children=(HTML(value=''), FloatProgress(value=0.0, max=10.0), HTML(value='')))"
      ]
     },
     "metadata": {},
     "output_type": "display_data"
    },
    {
     "name": "stdout",
     "output_type": "stream",
     "text": [
      "\n"
     ]
    },
    {
     "data": {
      "application/vnd.jupyter.widget-view+json": {
       "model_id": "8b1e69a6065d4844923d7ad4bee51081",
       "version_major": 2,
       "version_minor": 0
      },
      "text/plain": [
       "HBox(children=(HTML(value=''), FloatProgress(value=0.0, max=10.0), HTML(value='')))"
      ]
     },
     "metadata": {},
     "output_type": "display_data"
    },
    {
     "name": "stdout",
     "output_type": "stream",
     "text": [
      "\n"
     ]
    },
    {
     "data": {
      "application/vnd.jupyter.widget-view+json": {
       "model_id": "cc4553dfd8b1432fb896c53985a070a7",
       "version_major": 2,
       "version_minor": 0
      },
      "text/plain": [
       "HBox(children=(HTML(value=''), FloatProgress(value=0.0, max=10.0), HTML(value='')))"
      ]
     },
     "metadata": {},
     "output_type": "display_data"
    },
    {
     "name": "stdout",
     "output_type": "stream",
     "text": [
      "\n"
     ]
    },
    {
     "data": {
      "application/vnd.jupyter.widget-view+json": {
       "model_id": "c151addab7c04d38914d3a74e16d3673",
       "version_major": 2,
       "version_minor": 0
      },
      "text/plain": [
       "HBox(children=(HTML(value=''), FloatProgress(value=0.0, max=20.0), HTML(value='')))"
      ]
     },
     "metadata": {},
     "output_type": "display_data"
    },
    {
     "name": "stdout",
     "output_type": "stream",
     "text": [
      "\n"
     ]
    },
    {
     "data": {
      "application/vnd.jupyter.widget-view+json": {
       "model_id": "f645493993cc41e1a93111b74ebf71d4",
       "version_major": 2,
       "version_minor": 0
      },
      "text/plain": [
       "HBox(children=(HTML(value=''), FloatProgress(value=0.0, max=20.0), HTML(value='')))"
      ]
     },
     "metadata": {},
     "output_type": "display_data"
    },
    {
     "name": "stdout",
     "output_type": "stream",
     "text": [
      "\n"
     ]
    },
    {
     "data": {
      "application/vnd.jupyter.widget-view+json": {
       "model_id": "7458510276c54eb384569ce5227387ec",
       "version_major": 2,
       "version_minor": 0
      },
      "text/plain": [
       "HBox(children=(HTML(value=''), FloatProgress(value=0.0, max=20.0), HTML(value='')))"
      ]
     },
     "metadata": {},
     "output_type": "display_data"
    },
    {
     "name": "stdout",
     "output_type": "stream",
     "text": [
      "\n"
     ]
    },
    {
     "data": {
      "application/vnd.jupyter.widget-view+json": {
       "model_id": "76c57e9bffc146bf89509cc8589d4ad5",
       "version_major": 2,
       "version_minor": 0
      },
      "text/plain": [
       "HBox(children=(HTML(value=''), FloatProgress(value=0.0, max=20.0), HTML(value='')))"
      ]
     },
     "metadata": {},
     "output_type": "display_data"
    },
    {
     "name": "stdout",
     "output_type": "stream",
     "text": [
      "\n"
     ]
    },
    {
     "data": {
      "application/vnd.jupyter.widget-view+json": {
       "model_id": "bf97b0570f0847999820b45ea931caa5",
       "version_major": 2,
       "version_minor": 0
      },
      "text/plain": [
       "HBox(children=(HTML(value=''), FloatProgress(value=0.0, max=20.0), HTML(value='')))"
      ]
     },
     "metadata": {},
     "output_type": "display_data"
    },
    {
     "name": "stdout",
     "output_type": "stream",
     "text": [
      "\n"
     ]
    },
    {
     "data": {
      "application/vnd.jupyter.widget-view+json": {
       "model_id": "3ec25d9d776648daac5dd426ae183afd",
       "version_major": 2,
       "version_minor": 0
      },
      "text/plain": [
       "HBox(children=(HTML(value=''), FloatProgress(value=0.0, max=20.0), HTML(value='')))"
      ]
     },
     "metadata": {},
     "output_type": "display_data"
    },
    {
     "name": "stdout",
     "output_type": "stream",
     "text": [
      "\n"
     ]
    },
    {
     "data": {
      "application/vnd.jupyter.widget-view+json": {
       "model_id": "c3f3cfbccac24351a06b7db033b0d3bd",
       "version_major": 2,
       "version_minor": 0
      },
      "text/plain": [
       "HBox(children=(HTML(value=''), FloatProgress(value=0.0, max=20.0), HTML(value='')))"
      ]
     },
     "metadata": {},
     "output_type": "display_data"
    },
    {
     "name": "stdout",
     "output_type": "stream",
     "text": [
      "\n"
     ]
    },
    {
     "data": {
      "application/vnd.jupyter.widget-view+json": {
       "model_id": "417ba23c45ed4c3c814e3458fac1a12d",
       "version_major": 2,
       "version_minor": 0
      },
      "text/plain": [
       "HBox(children=(HTML(value=''), FloatProgress(value=0.0, max=20.0), HTML(value='')))"
      ]
     },
     "metadata": {},
     "output_type": "display_data"
    },
    {
     "name": "stdout",
     "output_type": "stream",
     "text": [
      "\n"
     ]
    },
    {
     "data": {
      "application/vnd.jupyter.widget-view+json": {
       "model_id": "0050c9d048e44908bf6d6cb29c1565f4",
       "version_major": 2,
       "version_minor": 0
      },
      "text/plain": [
       "HBox(children=(HTML(value=''), FloatProgress(value=0.0, max=20.0), HTML(value='')))"
      ]
     },
     "metadata": {},
     "output_type": "display_data"
    },
    {
     "name": "stdout",
     "output_type": "stream",
     "text": [
      "\n"
     ]
    },
    {
     "data": {
      "application/vnd.jupyter.widget-view+json": {
       "model_id": "f9ee250bbac24f46b571eacb07165d94",
       "version_major": 2,
       "version_minor": 0
      },
      "text/plain": [
       "HBox(children=(HTML(value=''), FloatProgress(value=0.0, max=20.0), HTML(value='')))"
      ]
     },
     "metadata": {},
     "output_type": "display_data"
    },
    {
     "name": "stdout",
     "output_type": "stream",
     "text": [
      "\n"
     ]
    },
    {
     "data": {
      "application/vnd.jupyter.widget-view+json": {
       "model_id": "c8df62accb494fbbbf2b68257574fd0f",
       "version_major": 2,
       "version_minor": 0
      },
      "text/plain": [
       "HBox(children=(HTML(value=''), FloatProgress(value=0.0, max=20.0), HTML(value='')))"
      ]
     },
     "metadata": {},
     "output_type": "display_data"
    },
    {
     "name": "stdout",
     "output_type": "stream",
     "text": [
      "\n"
     ]
    },
    {
     "data": {
      "application/vnd.jupyter.widget-view+json": {
       "model_id": "7db490bb931c433094a86b9472fe50e6",
       "version_major": 2,
       "version_minor": 0
      },
      "text/plain": [
       "HBox(children=(HTML(value=''), FloatProgress(value=0.0, max=20.0), HTML(value='')))"
      ]
     },
     "metadata": {},
     "output_type": "display_data"
    },
    {
     "name": "stdout",
     "output_type": "stream",
     "text": [
      "\n"
     ]
    },
    {
     "data": {
      "application/vnd.jupyter.widget-view+json": {
       "model_id": "0fd63c622dd54b55ba22f10ea288c989",
       "version_major": 2,
       "version_minor": 0
      },
      "text/plain": [
       "HBox(children=(HTML(value=''), FloatProgress(value=0.0, max=20.0), HTML(value='')))"
      ]
     },
     "metadata": {},
     "output_type": "display_data"
    },
    {
     "name": "stdout",
     "output_type": "stream",
     "text": [
      "\n"
     ]
    },
    {
     "data": {
      "application/vnd.jupyter.widget-view+json": {
       "model_id": "fa38acfb172641f984cbf8927df18642",
       "version_major": 2,
       "version_minor": 0
      },
      "text/plain": [
       "HBox(children=(HTML(value=''), FloatProgress(value=0.0, max=20.0), HTML(value='')))"
      ]
     },
     "metadata": {},
     "output_type": "display_data"
    },
    {
     "name": "stdout",
     "output_type": "stream",
     "text": [
      "\n"
     ]
    },
    {
     "data": {
      "application/vnd.jupyter.widget-view+json": {
       "model_id": "78735aa4717845bf9e2ed71330fdd5a2",
       "version_major": 2,
       "version_minor": 0
      },
      "text/plain": [
       "HBox(children=(HTML(value=''), FloatProgress(value=0.0, max=20.0), HTML(value='')))"
      ]
     },
     "metadata": {},
     "output_type": "display_data"
    },
    {
     "name": "stdout",
     "output_type": "stream",
     "text": [
      "\n"
     ]
    },
    {
     "data": {
      "application/vnd.jupyter.widget-view+json": {
       "model_id": "216a8e08103749a7a17f9ba81b7ca0b0",
       "version_major": 2,
       "version_minor": 0
      },
      "text/plain": [
       "HBox(children=(HTML(value=''), FloatProgress(value=0.0, max=20.0), HTML(value='')))"
      ]
     },
     "metadata": {},
     "output_type": "display_data"
    },
    {
     "name": "stdout",
     "output_type": "stream",
     "text": [
      "\n"
     ]
    },
    {
     "data": {
      "application/vnd.jupyter.widget-view+json": {
       "model_id": "33140da5b0044f84b1a7fdf2c4066883",
       "version_major": 2,
       "version_minor": 0
      },
      "text/plain": [
       "HBox(children=(HTML(value=''), FloatProgress(value=0.0, max=50.0), HTML(value='')))"
      ]
     },
     "metadata": {},
     "output_type": "display_data"
    },
    {
     "name": "stdout",
     "output_type": "stream",
     "text": [
      "\n"
     ]
    },
    {
     "data": {
      "application/vnd.jupyter.widget-view+json": {
       "model_id": "f668a208986541ec99990bc338c1adee",
       "version_major": 2,
       "version_minor": 0
      },
      "text/plain": [
       "HBox(children=(HTML(value=''), FloatProgress(value=0.0, max=50.0), HTML(value='')))"
      ]
     },
     "metadata": {},
     "output_type": "display_data"
    },
    {
     "name": "stdout",
     "output_type": "stream",
     "text": [
      "\n"
     ]
    },
    {
     "data": {
      "application/vnd.jupyter.widget-view+json": {
       "model_id": "29e109326bd642feace36607637c25e5",
       "version_major": 2,
       "version_minor": 0
      },
      "text/plain": [
       "HBox(children=(HTML(value=''), FloatProgress(value=0.0, max=50.0), HTML(value='')))"
      ]
     },
     "metadata": {},
     "output_type": "display_data"
    },
    {
     "name": "stdout",
     "output_type": "stream",
     "text": [
      "\n"
     ]
    },
    {
     "data": {
      "application/vnd.jupyter.widget-view+json": {
       "model_id": "d2a3a1001d5547209e546339d6bb13b8",
       "version_major": 2,
       "version_minor": 0
      },
      "text/plain": [
       "HBox(children=(HTML(value=''), FloatProgress(value=0.0, max=50.0), HTML(value='')))"
      ]
     },
     "metadata": {},
     "output_type": "display_data"
    },
    {
     "name": "stdout",
     "output_type": "stream",
     "text": [
      "\n"
     ]
    },
    {
     "data": {
      "application/vnd.jupyter.widget-view+json": {
       "model_id": "24893a7a2ad444f2b9da0d82750061b6",
       "version_major": 2,
       "version_minor": 0
      },
      "text/plain": [
       "HBox(children=(HTML(value=''), FloatProgress(value=0.0, max=50.0), HTML(value='')))"
      ]
     },
     "metadata": {},
     "output_type": "display_data"
    },
    {
     "name": "stdout",
     "output_type": "stream",
     "text": [
      "\n"
     ]
    },
    {
     "data": {
      "application/vnd.jupyter.widget-view+json": {
       "model_id": "4c88af950384434ea2356c4ea79153e7",
       "version_major": 2,
       "version_minor": 0
      },
      "text/plain": [
       "HBox(children=(HTML(value=''), FloatProgress(value=0.0, max=50.0), HTML(value='')))"
      ]
     },
     "metadata": {},
     "output_type": "display_data"
    },
    {
     "name": "stdout",
     "output_type": "stream",
     "text": [
      "\n"
     ]
    },
    {
     "data": {
      "application/vnd.jupyter.widget-view+json": {
       "model_id": "ea505c1766334712aabcb6b98facca36",
       "version_major": 2,
       "version_minor": 0
      },
      "text/plain": [
       "HBox(children=(HTML(value=''), FloatProgress(value=0.0, max=50.0), HTML(value='')))"
      ]
     },
     "metadata": {},
     "output_type": "display_data"
    },
    {
     "name": "stdout",
     "output_type": "stream",
     "text": [
      "\n"
     ]
    },
    {
     "data": {
      "application/vnd.jupyter.widget-view+json": {
       "model_id": "fe4833df0c8e4e898855277706420647",
       "version_major": 2,
       "version_minor": 0
      },
      "text/plain": [
       "HBox(children=(HTML(value=''), FloatProgress(value=0.0, max=50.0), HTML(value='')))"
      ]
     },
     "metadata": {},
     "output_type": "display_data"
    },
    {
     "name": "stdout",
     "output_type": "stream",
     "text": [
      "\n"
     ]
    },
    {
     "data": {
      "application/vnd.jupyter.widget-view+json": {
       "model_id": "a6ffdd54f6944a53ba6040b31557fa24",
       "version_major": 2,
       "version_minor": 0
      },
      "text/plain": [
       "HBox(children=(HTML(value=''), FloatProgress(value=0.0, max=50.0), HTML(value='')))"
      ]
     },
     "metadata": {},
     "output_type": "display_data"
    },
    {
     "name": "stdout",
     "output_type": "stream",
     "text": [
      "\n"
     ]
    },
    {
     "data": {
      "application/vnd.jupyter.widget-view+json": {
       "model_id": "f8091c0d475a4999a2f2aa95f7c6f93b",
       "version_major": 2,
       "version_minor": 0
      },
      "text/plain": [
       "HBox(children=(HTML(value=''), FloatProgress(value=0.0, max=50.0), HTML(value='')))"
      ]
     },
     "metadata": {},
     "output_type": "display_data"
    },
    {
     "name": "stdout",
     "output_type": "stream",
     "text": [
      "\n"
     ]
    },
    {
     "data": {
      "application/vnd.jupyter.widget-view+json": {
       "model_id": "f9f20e3a5109424ab2b7722f61811834",
       "version_major": 2,
       "version_minor": 0
      },
      "text/plain": [
       "HBox(children=(HTML(value=''), FloatProgress(value=0.0, max=50.0), HTML(value='')))"
      ]
     },
     "metadata": {},
     "output_type": "display_data"
    },
    {
     "name": "stdout",
     "output_type": "stream",
     "text": [
      "\n"
     ]
    },
    {
     "data": {
      "application/vnd.jupyter.widget-view+json": {
       "model_id": "3cc9cccfced64fbba46282a1be16a3aa",
       "version_major": 2,
       "version_minor": 0
      },
      "text/plain": [
       "HBox(children=(HTML(value=''), FloatProgress(value=0.0, max=50.0), HTML(value='')))"
      ]
     },
     "metadata": {},
     "output_type": "display_data"
    },
    {
     "name": "stdout",
     "output_type": "stream",
     "text": [
      "\n"
     ]
    },
    {
     "data": {
      "application/vnd.jupyter.widget-view+json": {
       "model_id": "d6cf8d4c5b5c47d1bfed77e0f358cdba",
       "version_major": 2,
       "version_minor": 0
      },
      "text/plain": [
       "HBox(children=(HTML(value=''), FloatProgress(value=0.0, max=50.0), HTML(value='')))"
      ]
     },
     "metadata": {},
     "output_type": "display_data"
    },
    {
     "name": "stdout",
     "output_type": "stream",
     "text": [
      "\n"
     ]
    },
    {
     "data": {
      "application/vnd.jupyter.widget-view+json": {
       "model_id": "030c4bb67d984ec9ac1c2d7ec222ac15",
       "version_major": 2,
       "version_minor": 0
      },
      "text/plain": [
       "HBox(children=(HTML(value=''), FloatProgress(value=0.0, max=50.0), HTML(value='')))"
      ]
     },
     "metadata": {},
     "output_type": "display_data"
    },
    {
     "name": "stdout",
     "output_type": "stream",
     "text": [
      "\n"
     ]
    },
    {
     "data": {
      "application/vnd.jupyter.widget-view+json": {
       "model_id": "bc7b3bc313814c779432d04e53960711",
       "version_major": 2,
       "version_minor": 0
      },
      "text/plain": [
       "HBox(children=(HTML(value=''), FloatProgress(value=0.0, max=50.0), HTML(value='')))"
      ]
     },
     "metadata": {},
     "output_type": "display_data"
    },
    {
     "name": "stdout",
     "output_type": "stream",
     "text": [
      "\n"
     ]
    },
    {
     "data": {
      "application/vnd.jupyter.widget-view+json": {
       "model_id": "3dfadb7771be4221a8dfa1cdf9858146",
       "version_major": 2,
       "version_minor": 0
      },
      "text/plain": [
       "HBox(children=(HTML(value=''), FloatProgress(value=0.0, max=50.0), HTML(value='')))"
      ]
     },
     "metadata": {},
     "output_type": "display_data"
    },
    {
     "name": "stdout",
     "output_type": "stream",
     "text": [
      "\n"
     ]
    },
    {
     "data": {
      "text/html": [
       "<div>\n",
       "<style scoped>\n",
       "    .dataframe tbody tr th:only-of-type {\n",
       "        vertical-align: middle;\n",
       "    }\n",
       "\n",
       "    .dataframe tbody tr th {\n",
       "        vertical-align: top;\n",
       "    }\n",
       "\n",
       "    .dataframe thead th {\n",
       "        text-align: right;\n",
       "    }\n",
       "</style>\n",
       "<table border=\"1\" class=\"dataframe\">\n",
       "  <thead>\n",
       "    <tr style=\"text-align: right;\">\n",
       "      <th></th>\n",
       "      <th>params</th>\n",
       "      <th>meanNDCG</th>\n",
       "    </tr>\n",
       "  </thead>\n",
       "  <tbody>\n",
       "    <tr>\n",
       "      <th>0</th>\n",
       "      <td>{'factors': 5, 'iterations': 5, 'learning_rate...</td>\n",
       "      <td>0.231033</td>\n",
       "    </tr>\n",
       "    <tr>\n",
       "      <th>1</th>\n",
       "      <td>{'factors': 5, 'iterations': 5, 'learning_rate...</td>\n",
       "      <td>0.225477</td>\n",
       "    </tr>\n",
       "    <tr>\n",
       "      <th>2</th>\n",
       "      <td>{'factors': 5, 'iterations': 5, 'learning_rate...</td>\n",
       "      <td>0.227545</td>\n",
       "    </tr>\n",
       "    <tr>\n",
       "      <th>3</th>\n",
       "      <td>{'factors': 5, 'iterations': 5, 'learning_rate...</td>\n",
       "      <td>0.227705</td>\n",
       "    </tr>\n",
       "    <tr>\n",
       "      <th>4</th>\n",
       "      <td>{'factors': 5, 'iterations': 5, 'learning_rate...</td>\n",
       "      <td>0.223632</td>\n",
       "    </tr>\n",
       "    <tr>\n",
       "      <th>...</th>\n",
       "      <td>...</td>\n",
       "      <td>...</td>\n",
       "    </tr>\n",
       "    <tr>\n",
       "      <th>315</th>\n",
       "      <td>{'factors': 100, 'iterations': 50, 'learning_r...</td>\n",
       "      <td>0.222730</td>\n",
       "    </tr>\n",
       "    <tr>\n",
       "      <th>316</th>\n",
       "      <td>{'factors': 100, 'iterations': 50, 'learning_r...</td>\n",
       "      <td>0.221546</td>\n",
       "    </tr>\n",
       "    <tr>\n",
       "      <th>317</th>\n",
       "      <td>{'factors': 100, 'iterations': 50, 'learning_r...</td>\n",
       "      <td>0.223098</td>\n",
       "    </tr>\n",
       "    <tr>\n",
       "      <th>318</th>\n",
       "      <td>{'factors': 100, 'iterations': 50, 'learning_r...</td>\n",
       "      <td>0.226047</td>\n",
       "    </tr>\n",
       "    <tr>\n",
       "      <th>319</th>\n",
       "      <td>{'factors': 100, 'iterations': 50, 'learning_r...</td>\n",
       "      <td>0.220808</td>\n",
       "    </tr>\n",
       "  </tbody>\n",
       "</table>\n",
       "<p>320 rows × 2 columns</p>\n",
       "</div>"
      ],
      "text/plain": [
       "                                                params  meanNDCG\n",
       "0    {'factors': 5, 'iterations': 5, 'learning_rate...  0.231033\n",
       "1    {'factors': 5, 'iterations': 5, 'learning_rate...  0.225477\n",
       "2    {'factors': 5, 'iterations': 5, 'learning_rate...  0.227545\n",
       "3    {'factors': 5, 'iterations': 5, 'learning_rate...  0.227705\n",
       "4    {'factors': 5, 'iterations': 5, 'learning_rate...  0.223632\n",
       "..                                                 ...       ...\n",
       "315  {'factors': 100, 'iterations': 50, 'learning_r...  0.222730\n",
       "316  {'factors': 100, 'iterations': 50, 'learning_r...  0.221546\n",
       "317  {'factors': 100, 'iterations': 50, 'learning_r...  0.223098\n",
       "318  {'factors': 100, 'iterations': 50, 'learning_r...  0.226047\n",
       "319  {'factors': 100, 'iterations': 50, 'learning_r...  0.220808\n",
       "\n",
       "[320 rows x 2 columns]"
      ]
     },
     "execution_count": 80,
     "metadata": {},
     "output_type": "execute_result"
    }
   ],
   "source": [
    "i = 0\n",
    "\n",
    "scoresMean = []\n",
    "scoresInd = []\n",
    "\n",
    "for params in params_list:\n",
    "    i += 1\n",
    "    rec:ARecommender = RecommenderBPRMF(\"test\", params)\n",
    "    rec.train(HistoryDF(\"hyperparams_tuning_BPRMF\"+str(i)), trainDataset)\n",
    "    scoresVector = []\n",
    "    \n",
    "    for user in users:\n",
    "        recList = rec.recommend(user)\n",
    "        #print(recList.index)\n",
    "        #print(type(recList.index))\n",
    "        #rl = np.array([i[0] for i in recList])\n",
    "        #print(rl)\n",
    "        relScore = np.zeros((1,maxOID+1))\n",
    "        relScore[0,recList.index] = recList.values\n",
    "        #print(relScore.sum())\n",
    "        #print(np.isin(recList.index, trueList[user].values))\n",
    "        res = ndcg_score(trueRelevance[user], relScore, k=20)\n",
    "        scoresVector.append(res)\n",
    "        \n",
    "    meanScore = np.mean(scoresVector)\n",
    "    scoresMean.append(meanScore)\n",
    "    scoresInd.append(scoresVector)    \n",
    "\n",
    "par = [params_list[0]]\n",
    "\n",
    "resultsDF = pd.DataFrame({\"params\":params_list, \"meanNDCG\":scoresMean})\n",
    "resultsDF\n",
    "        \n",
    "    "
   ]
  },
  {
   "cell_type": "code",
   "execution_count": 96,
   "metadata": {},
   "outputs": [],
   "source": [
    "resultsDF.to_csv(\"hp_results_BPRMF.csv\")"
   ]
  },
  {
   "cell_type": "code",
   "execution_count": 81,
   "metadata": {
    "scrolled": true
   },
   "outputs": [
    {
     "data": {
      "text/html": [
       "<div>\n",
       "<style scoped>\n",
       "    .dataframe tbody tr th:only-of-type {\n",
       "        vertical-align: middle;\n",
       "    }\n",
       "\n",
       "    .dataframe tbody tr th {\n",
       "        vertical-align: top;\n",
       "    }\n",
       "\n",
       "    .dataframe thead th {\n",
       "        text-align: right;\n",
       "    }\n",
       "</style>\n",
       "<table border=\"1\" class=\"dataframe\">\n",
       "  <thead>\n",
       "    <tr style=\"text-align: right;\">\n",
       "      <th></th>\n",
       "      <th>params</th>\n",
       "      <th>meanNDCG</th>\n",
       "    </tr>\n",
       "  </thead>\n",
       "  <tbody>\n",
       "    <tr>\n",
       "      <th>59</th>\n",
       "      <td>{'factors': 5, 'iterations': 50, 'learning_rat...</td>\n",
       "      <td>0.210338</td>\n",
       "    </tr>\n",
       "    <tr>\n",
       "      <th>205</th>\n",
       "      <td>{'factors': 50, 'iterations': 5, 'learning_rat...</td>\n",
       "      <td>0.211386</td>\n",
       "    </tr>\n",
       "    <tr>\n",
       "      <th>117</th>\n",
       "      <td>{'factors': 10, 'iterations': 50, 'learning_ra...</td>\n",
       "      <td>0.214138</td>\n",
       "    </tr>\n",
       "    <tr>\n",
       "      <th>52</th>\n",
       "      <td>{'factors': 5, 'iterations': 50, 'learning_rat...</td>\n",
       "      <td>0.215004</td>\n",
       "    </tr>\n",
       "    <tr>\n",
       "      <th>49</th>\n",
       "      <td>{'factors': 5, 'iterations': 50, 'learning_rat...</td>\n",
       "      <td>0.215077</td>\n",
       "    </tr>\n",
       "    <tr>\n",
       "      <th>...</th>\n",
       "      <td>...</td>\n",
       "      <td>...</td>\n",
       "    </tr>\n",
       "    <tr>\n",
       "      <th>18</th>\n",
       "      <td>{'factors': 5, 'iterations': 10, 'learning_rat...</td>\n",
       "      <td>0.236374</td>\n",
       "    </tr>\n",
       "    <tr>\n",
       "      <th>217</th>\n",
       "      <td>{'factors': 50, 'iterations': 10, 'learning_ra...</td>\n",
       "      <td>0.236512</td>\n",
       "    </tr>\n",
       "    <tr>\n",
       "      <th>17</th>\n",
       "      <td>{'factors': 5, 'iterations': 10, 'learning_rat...</td>\n",
       "      <td>0.237037</td>\n",
       "    </tr>\n",
       "    <tr>\n",
       "      <th>88</th>\n",
       "      <td>{'factors': 10, 'iterations': 10, 'learning_ra...</td>\n",
       "      <td>0.237093</td>\n",
       "    </tr>\n",
       "    <tr>\n",
       "      <th>82</th>\n",
       "      <td>{'factors': 10, 'iterations': 10, 'learning_ra...</td>\n",
       "      <td>0.237533</td>\n",
       "    </tr>\n",
       "  </tbody>\n",
       "</table>\n",
       "<p>320 rows × 2 columns</p>\n",
       "</div>"
      ],
      "text/plain": [
       "                                                params  meanNDCG\n",
       "59   {'factors': 5, 'iterations': 50, 'learning_rat...  0.210338\n",
       "205  {'factors': 50, 'iterations': 5, 'learning_rat...  0.211386\n",
       "117  {'factors': 10, 'iterations': 50, 'learning_ra...  0.214138\n",
       "52   {'factors': 5, 'iterations': 50, 'learning_rat...  0.215004\n",
       "49   {'factors': 5, 'iterations': 50, 'learning_rat...  0.215077\n",
       "..                                                 ...       ...\n",
       "18   {'factors': 5, 'iterations': 10, 'learning_rat...  0.236374\n",
       "217  {'factors': 50, 'iterations': 10, 'learning_ra...  0.236512\n",
       "17   {'factors': 5, 'iterations': 10, 'learning_rat...  0.237037\n",
       "88   {'factors': 10, 'iterations': 10, 'learning_ra...  0.237093\n",
       "82   {'factors': 10, 'iterations': 10, 'learning_ra...  0.237533\n",
       "\n",
       "[320 rows x 2 columns]"
      ]
     },
     "execution_count": 81,
     "metadata": {},
     "output_type": "execute_result"
    }
   ],
   "source": [
    "resultsDF.sort_values(by=\"meanNDCG\")"
   ]
  },
  {
   "cell_type": "code",
   "execution_count": 92,
   "metadata": {},
   "outputs": [
    {
     "data": {
      "text/plain": [
       "{'factors': 10, 'iterations': 10, 'learning_rate': 0.1, 'regularization': 0.01}"
      ]
     },
     "execution_count": 92,
     "metadata": {},
     "output_type": "execute_result"
    }
   ],
   "source": [
    "resultsDF.iloc[82,0] # BEST PARAMS for BPRMF {'factors': 10, 'iterations': 10, 'learning_rate': 0.1, 'regularization': 0.01}"
   ]
  },
  {
   "cell_type": "code",
   "execution_count": null,
   "metadata": {},
   "outputs": [],
   "source": [
    "#TODO:  try default values for BPRMF\n"
   ]
  },
  {
   "cell_type": "markdown",
   "metadata": {},
   "source": [
    "## Run tuning for CosineCB"
   ]
  },
  {
   "cell_type": "code",
   "execution_count": 15,
   "metadata": {},
   "outputs": [],
   "source": [
    "param_grid = {\n",
    "              'cbDataPath': [Configuration.cbDataFileWithPathTFIDF, Configuration.cbDataFileWithPathOHE],\n",
    "              'userProfileStrategy': [\"mean\", \"max\",  \"weightedMean\"], \n",
    "              'userProfileSize': [-1, 1, 3, 5, 7, 10]\n",
    "             }\n",
    "params_list = list(ParameterGrid(param_grid))"
   ]
  },
  {
   "cell_type": "code",
   "execution_count": 16,
   "metadata": {},
   "outputs": [
    {
     "data": {
      "text/plain": [
       "{'cbDataPath': '..\\\\data\\\\cbDataTFIDF.txt',\n",
       " 'userProfileSize': -1,\n",
       " 'userProfileStrategy': 'mean'}"
      ]
     },
     "execution_count": 16,
     "metadata": {},
     "output_type": "execute_result"
    }
   ],
   "source": [
    "params_list[0]"
   ]
  },
  {
   "cell_type": "code",
   "execution_count": 17,
   "metadata": {},
   "outputs": [],
   "source": [
    "from recommender.recommenderCosineCB import RecommenderCosineCB #class\n",
    "from sklearn.metrics import ndcg_score"
   ]
  },
  {
   "cell_type": "code",
   "execution_count": 18,
   "metadata": {},
   "outputs": [
    {
     "name": "stdout",
     "output_type": "stream",
     "text": [
      "{'cbDataPath': '..\\\\data\\\\cbDataTFIDF.txt', 'userProfileSize': -1, 'userProfileStrategy': 'mean'}\n",
      "0.015316427878170214\n",
      "{'cbDataPath': '..\\\\data\\\\cbDataTFIDF.txt', 'userProfileSize': -1, 'userProfileStrategy': 'max'}\n",
      "0.014636908817476956\n",
      "{'cbDataPath': '..\\\\data\\\\cbDataTFIDF.txt', 'userProfileSize': -1, 'userProfileStrategy': 'weightedMean'}\n",
      "0.015107938668416372\n",
      "{'cbDataPath': '..\\\\data\\\\cbDataTFIDF.txt', 'userProfileSize': 1, 'userProfileStrategy': 'mean'}\n",
      "0.017290748394150006\n",
      "{'cbDataPath': '..\\\\data\\\\cbDataTFIDF.txt', 'userProfileSize': 1, 'userProfileStrategy': 'max'}\n",
      "0.017290748394150006\n",
      "{'cbDataPath': '..\\\\data\\\\cbDataTFIDF.txt', 'userProfileSize': 1, 'userProfileStrategy': 'weightedMean'}\n",
      "0.017290748394150006\n",
      "{'cbDataPath': '..\\\\data\\\\cbDataTFIDF.txt', 'userProfileSize': 3, 'userProfileStrategy': 'mean'}\n",
      "0.0170429578745528\n",
      "{'cbDataPath': '..\\\\data\\\\cbDataTFIDF.txt', 'userProfileSize': 3, 'userProfileStrategy': 'max'}\n",
      "0.017313235563230993\n",
      "{'cbDataPath': '..\\\\data\\\\cbDataTFIDF.txt', 'userProfileSize': 3, 'userProfileStrategy': 'weightedMean'}\n",
      "0.016242904848991678\n",
      "{'cbDataPath': '..\\\\data\\\\cbDataTFIDF.txt', 'userProfileSize': 5, 'userProfileStrategy': 'mean'}\n",
      "0.017263934028245415\n",
      "{'cbDataPath': '..\\\\data\\\\cbDataTFIDF.txt', 'userProfileSize': 5, 'userProfileStrategy': 'max'}\n",
      "0.018597626810873853\n",
      "{'cbDataPath': '..\\\\data\\\\cbDataTFIDF.txt', 'userProfileSize': 5, 'userProfileStrategy': 'weightedMean'}\n",
      "0.01682822784143341\n",
      "{'cbDataPath': '..\\\\data\\\\cbDataTFIDF.txt', 'userProfileSize': 7, 'userProfileStrategy': 'mean'}\n",
      "0.016552135128236313\n",
      "{'cbDataPath': '..\\\\data\\\\cbDataTFIDF.txt', 'userProfileSize': 7, 'userProfileStrategy': 'max'}\n",
      "0.01744056392334156\n",
      "{'cbDataPath': '..\\\\data\\\\cbDataTFIDF.txt', 'userProfileSize': 7, 'userProfileStrategy': 'weightedMean'}\n",
      "0.01690090068078397\n",
      "{'cbDataPath': '..\\\\data\\\\cbDataTFIDF.txt', 'userProfileSize': 10, 'userProfileStrategy': 'mean'}\n",
      "0.01584943729604113\n",
      "{'cbDataPath': '..\\\\data\\\\cbDataTFIDF.txt', 'userProfileSize': 10, 'userProfileStrategy': 'max'}\n",
      "0.01643656136056771\n",
      "{'cbDataPath': '..\\\\data\\\\cbDataTFIDF.txt', 'userProfileSize': 10, 'userProfileStrategy': 'weightedMean'}\n",
      "0.016345940597066896\n",
      "{'cbDataPath': '..\\\\data\\\\cbDataOHE.txt', 'userProfileSize': -1, 'userProfileStrategy': 'mean'}\n",
      "0.015346883332945843\n",
      "{'cbDataPath': '..\\\\data\\\\cbDataOHE.txt', 'userProfileSize': -1, 'userProfileStrategy': 'max'}\n",
      "0.013880521198297047\n",
      "{'cbDataPath': '..\\\\data\\\\cbDataOHE.txt', 'userProfileSize': -1, 'userProfileStrategy': 'weightedMean'}\n",
      "0.015041661236019813\n",
      "{'cbDataPath': '..\\\\data\\\\cbDataOHE.txt', 'userProfileSize': 1, 'userProfileStrategy': 'mean'}\n",
      "0.01766473232023087\n",
      "{'cbDataPath': '..\\\\data\\\\cbDataOHE.txt', 'userProfileSize': 1, 'userProfileStrategy': 'max'}\n",
      "0.01766473232023087\n",
      "{'cbDataPath': '..\\\\data\\\\cbDataOHE.txt', 'userProfileSize': 1, 'userProfileStrategy': 'weightedMean'}\n",
      "0.01766473232023087\n",
      "{'cbDataPath': '..\\\\data\\\\cbDataOHE.txt', 'userProfileSize': 3, 'userProfileStrategy': 'mean'}\n",
      "0.016244039718972276\n",
      "{'cbDataPath': '..\\\\data\\\\cbDataOHE.txt', 'userProfileSize': 3, 'userProfileStrategy': 'max'}\n",
      "0.017576483115336883\n",
      "{'cbDataPath': '..\\\\data\\\\cbDataOHE.txt', 'userProfileSize': 3, 'userProfileStrategy': 'weightedMean'}\n",
      "0.0171337233336815\n",
      "{'cbDataPath': '..\\\\data\\\\cbDataOHE.txt', 'userProfileSize': 5, 'userProfileStrategy': 'mean'}\n",
      "0.014914669481787551\n",
      "{'cbDataPath': '..\\\\data\\\\cbDataOHE.txt', 'userProfileSize': 5, 'userProfileStrategy': 'max'}\n",
      "0.01653656256429059\n",
      "{'cbDataPath': '..\\\\data\\\\cbDataOHE.txt', 'userProfileSize': 5, 'userProfileStrategy': 'weightedMean'}\n",
      "0.015520783290860866\n",
      "{'cbDataPath': '..\\\\data\\\\cbDataOHE.txt', 'userProfileSize': 7, 'userProfileStrategy': 'mean'}\n",
      "0.014957843834475524\n",
      "{'cbDataPath': '..\\\\data\\\\cbDataOHE.txt', 'userProfileSize': 7, 'userProfileStrategy': 'max'}\n",
      "0.01613084157784586\n",
      "{'cbDataPath': '..\\\\data\\\\cbDataOHE.txt', 'userProfileSize': 7, 'userProfileStrategy': 'weightedMean'}\n",
      "0.015227681944608537\n",
      "{'cbDataPath': '..\\\\data\\\\cbDataOHE.txt', 'userProfileSize': 10, 'userProfileStrategy': 'mean'}\n",
      "0.01582944302171488\n",
      "{'cbDataPath': '..\\\\data\\\\cbDataOHE.txt', 'userProfileSize': 10, 'userProfileStrategy': 'max'}\n",
      "0.015939347524266668\n",
      "{'cbDataPath': '..\\\\data\\\\cbDataOHE.txt', 'userProfileSize': 10, 'userProfileStrategy': 'weightedMean'}\n",
      "0.015070712961939493\n"
     ]
    },
    {
     "data": {
      "text/html": [
       "<div>\n",
       "<style scoped>\n",
       "    .dataframe tbody tr th:only-of-type {\n",
       "        vertical-align: middle;\n",
       "    }\n",
       "\n",
       "    .dataframe tbody tr th {\n",
       "        vertical-align: top;\n",
       "    }\n",
       "\n",
       "    .dataframe thead th {\n",
       "        text-align: right;\n",
       "    }\n",
       "</style>\n",
       "<table border=\"1\" class=\"dataframe\">\n",
       "  <thead>\n",
       "    <tr style=\"text-align: right;\">\n",
       "      <th></th>\n",
       "      <th>params</th>\n",
       "      <th>meanNDCG</th>\n",
       "    </tr>\n",
       "  </thead>\n",
       "  <tbody>\n",
       "    <tr>\n",
       "      <th>0</th>\n",
       "      <td>{'cbDataPath': '..\\data\\cbDataTFIDF.txt', 'use...</td>\n",
       "      <td>0.015316</td>\n",
       "    </tr>\n",
       "    <tr>\n",
       "      <th>1</th>\n",
       "      <td>{'cbDataPath': '..\\data\\cbDataTFIDF.txt', 'use...</td>\n",
       "      <td>0.014637</td>\n",
       "    </tr>\n",
       "    <tr>\n",
       "      <th>2</th>\n",
       "      <td>{'cbDataPath': '..\\data\\cbDataTFIDF.txt', 'use...</td>\n",
       "      <td>0.015108</td>\n",
       "    </tr>\n",
       "    <tr>\n",
       "      <th>3</th>\n",
       "      <td>{'cbDataPath': '..\\data\\cbDataTFIDF.txt', 'use...</td>\n",
       "      <td>0.017291</td>\n",
       "    </tr>\n",
       "    <tr>\n",
       "      <th>4</th>\n",
       "      <td>{'cbDataPath': '..\\data\\cbDataTFIDF.txt', 'use...</td>\n",
       "      <td>0.017291</td>\n",
       "    </tr>\n",
       "    <tr>\n",
       "      <th>5</th>\n",
       "      <td>{'cbDataPath': '..\\data\\cbDataTFIDF.txt', 'use...</td>\n",
       "      <td>0.017291</td>\n",
       "    </tr>\n",
       "    <tr>\n",
       "      <th>6</th>\n",
       "      <td>{'cbDataPath': '..\\data\\cbDataTFIDF.txt', 'use...</td>\n",
       "      <td>0.017043</td>\n",
       "    </tr>\n",
       "    <tr>\n",
       "      <th>7</th>\n",
       "      <td>{'cbDataPath': '..\\data\\cbDataTFIDF.txt', 'use...</td>\n",
       "      <td>0.017313</td>\n",
       "    </tr>\n",
       "    <tr>\n",
       "      <th>8</th>\n",
       "      <td>{'cbDataPath': '..\\data\\cbDataTFIDF.txt', 'use...</td>\n",
       "      <td>0.016243</td>\n",
       "    </tr>\n",
       "    <tr>\n",
       "      <th>9</th>\n",
       "      <td>{'cbDataPath': '..\\data\\cbDataTFIDF.txt', 'use...</td>\n",
       "      <td>0.017264</td>\n",
       "    </tr>\n",
       "    <tr>\n",
       "      <th>10</th>\n",
       "      <td>{'cbDataPath': '..\\data\\cbDataTFIDF.txt', 'use...</td>\n",
       "      <td>0.018598</td>\n",
       "    </tr>\n",
       "    <tr>\n",
       "      <th>11</th>\n",
       "      <td>{'cbDataPath': '..\\data\\cbDataTFIDF.txt', 'use...</td>\n",
       "      <td>0.016828</td>\n",
       "    </tr>\n",
       "    <tr>\n",
       "      <th>12</th>\n",
       "      <td>{'cbDataPath': '..\\data\\cbDataTFIDF.txt', 'use...</td>\n",
       "      <td>0.016552</td>\n",
       "    </tr>\n",
       "    <tr>\n",
       "      <th>13</th>\n",
       "      <td>{'cbDataPath': '..\\data\\cbDataTFIDF.txt', 'use...</td>\n",
       "      <td>0.017441</td>\n",
       "    </tr>\n",
       "    <tr>\n",
       "      <th>14</th>\n",
       "      <td>{'cbDataPath': '..\\data\\cbDataTFIDF.txt', 'use...</td>\n",
       "      <td>0.016901</td>\n",
       "    </tr>\n",
       "    <tr>\n",
       "      <th>15</th>\n",
       "      <td>{'cbDataPath': '..\\data\\cbDataTFIDF.txt', 'use...</td>\n",
       "      <td>0.015849</td>\n",
       "    </tr>\n",
       "    <tr>\n",
       "      <th>16</th>\n",
       "      <td>{'cbDataPath': '..\\data\\cbDataTFIDF.txt', 'use...</td>\n",
       "      <td>0.016437</td>\n",
       "    </tr>\n",
       "    <tr>\n",
       "      <th>17</th>\n",
       "      <td>{'cbDataPath': '..\\data\\cbDataTFIDF.txt', 'use...</td>\n",
       "      <td>0.016346</td>\n",
       "    </tr>\n",
       "    <tr>\n",
       "      <th>18</th>\n",
       "      <td>{'cbDataPath': '..\\data\\cbDataOHE.txt', 'userP...</td>\n",
       "      <td>0.015347</td>\n",
       "    </tr>\n",
       "    <tr>\n",
       "      <th>19</th>\n",
       "      <td>{'cbDataPath': '..\\data\\cbDataOHE.txt', 'userP...</td>\n",
       "      <td>0.013881</td>\n",
       "    </tr>\n",
       "    <tr>\n",
       "      <th>20</th>\n",
       "      <td>{'cbDataPath': '..\\data\\cbDataOHE.txt', 'userP...</td>\n",
       "      <td>0.015042</td>\n",
       "    </tr>\n",
       "    <tr>\n",
       "      <th>21</th>\n",
       "      <td>{'cbDataPath': '..\\data\\cbDataOHE.txt', 'userP...</td>\n",
       "      <td>0.017665</td>\n",
       "    </tr>\n",
       "    <tr>\n",
       "      <th>22</th>\n",
       "      <td>{'cbDataPath': '..\\data\\cbDataOHE.txt', 'userP...</td>\n",
       "      <td>0.017665</td>\n",
       "    </tr>\n",
       "    <tr>\n",
       "      <th>23</th>\n",
       "      <td>{'cbDataPath': '..\\data\\cbDataOHE.txt', 'userP...</td>\n",
       "      <td>0.017665</td>\n",
       "    </tr>\n",
       "    <tr>\n",
       "      <th>24</th>\n",
       "      <td>{'cbDataPath': '..\\data\\cbDataOHE.txt', 'userP...</td>\n",
       "      <td>0.016244</td>\n",
       "    </tr>\n",
       "    <tr>\n",
       "      <th>25</th>\n",
       "      <td>{'cbDataPath': '..\\data\\cbDataOHE.txt', 'userP...</td>\n",
       "      <td>0.017576</td>\n",
       "    </tr>\n",
       "    <tr>\n",
       "      <th>26</th>\n",
       "      <td>{'cbDataPath': '..\\data\\cbDataOHE.txt', 'userP...</td>\n",
       "      <td>0.017134</td>\n",
       "    </tr>\n",
       "    <tr>\n",
       "      <th>27</th>\n",
       "      <td>{'cbDataPath': '..\\data\\cbDataOHE.txt', 'userP...</td>\n",
       "      <td>0.014915</td>\n",
       "    </tr>\n",
       "    <tr>\n",
       "      <th>28</th>\n",
       "      <td>{'cbDataPath': '..\\data\\cbDataOHE.txt', 'userP...</td>\n",
       "      <td>0.016537</td>\n",
       "    </tr>\n",
       "    <tr>\n",
       "      <th>29</th>\n",
       "      <td>{'cbDataPath': '..\\data\\cbDataOHE.txt', 'userP...</td>\n",
       "      <td>0.015521</td>\n",
       "    </tr>\n",
       "    <tr>\n",
       "      <th>30</th>\n",
       "      <td>{'cbDataPath': '..\\data\\cbDataOHE.txt', 'userP...</td>\n",
       "      <td>0.014958</td>\n",
       "    </tr>\n",
       "    <tr>\n",
       "      <th>31</th>\n",
       "      <td>{'cbDataPath': '..\\data\\cbDataOHE.txt', 'userP...</td>\n",
       "      <td>0.016131</td>\n",
       "    </tr>\n",
       "    <tr>\n",
       "      <th>32</th>\n",
       "      <td>{'cbDataPath': '..\\data\\cbDataOHE.txt', 'userP...</td>\n",
       "      <td>0.015228</td>\n",
       "    </tr>\n",
       "    <tr>\n",
       "      <th>33</th>\n",
       "      <td>{'cbDataPath': '..\\data\\cbDataOHE.txt', 'userP...</td>\n",
       "      <td>0.015829</td>\n",
       "    </tr>\n",
       "    <tr>\n",
       "      <th>34</th>\n",
       "      <td>{'cbDataPath': '..\\data\\cbDataOHE.txt', 'userP...</td>\n",
       "      <td>0.015939</td>\n",
       "    </tr>\n",
       "    <tr>\n",
       "      <th>35</th>\n",
       "      <td>{'cbDataPath': '..\\data\\cbDataOHE.txt', 'userP...</td>\n",
       "      <td>0.015071</td>\n",
       "    </tr>\n",
       "  </tbody>\n",
       "</table>\n",
       "</div>"
      ],
      "text/plain": [
       "                                               params  meanNDCG\n",
       "0   {'cbDataPath': '..\\data\\cbDataTFIDF.txt', 'use...  0.015316\n",
       "1   {'cbDataPath': '..\\data\\cbDataTFIDF.txt', 'use...  0.014637\n",
       "2   {'cbDataPath': '..\\data\\cbDataTFIDF.txt', 'use...  0.015108\n",
       "3   {'cbDataPath': '..\\data\\cbDataTFIDF.txt', 'use...  0.017291\n",
       "4   {'cbDataPath': '..\\data\\cbDataTFIDF.txt', 'use...  0.017291\n",
       "5   {'cbDataPath': '..\\data\\cbDataTFIDF.txt', 'use...  0.017291\n",
       "6   {'cbDataPath': '..\\data\\cbDataTFIDF.txt', 'use...  0.017043\n",
       "7   {'cbDataPath': '..\\data\\cbDataTFIDF.txt', 'use...  0.017313\n",
       "8   {'cbDataPath': '..\\data\\cbDataTFIDF.txt', 'use...  0.016243\n",
       "9   {'cbDataPath': '..\\data\\cbDataTFIDF.txt', 'use...  0.017264\n",
       "10  {'cbDataPath': '..\\data\\cbDataTFIDF.txt', 'use...  0.018598\n",
       "11  {'cbDataPath': '..\\data\\cbDataTFIDF.txt', 'use...  0.016828\n",
       "12  {'cbDataPath': '..\\data\\cbDataTFIDF.txt', 'use...  0.016552\n",
       "13  {'cbDataPath': '..\\data\\cbDataTFIDF.txt', 'use...  0.017441\n",
       "14  {'cbDataPath': '..\\data\\cbDataTFIDF.txt', 'use...  0.016901\n",
       "15  {'cbDataPath': '..\\data\\cbDataTFIDF.txt', 'use...  0.015849\n",
       "16  {'cbDataPath': '..\\data\\cbDataTFIDF.txt', 'use...  0.016437\n",
       "17  {'cbDataPath': '..\\data\\cbDataTFIDF.txt', 'use...  0.016346\n",
       "18  {'cbDataPath': '..\\data\\cbDataOHE.txt', 'userP...  0.015347\n",
       "19  {'cbDataPath': '..\\data\\cbDataOHE.txt', 'userP...  0.013881\n",
       "20  {'cbDataPath': '..\\data\\cbDataOHE.txt', 'userP...  0.015042\n",
       "21  {'cbDataPath': '..\\data\\cbDataOHE.txt', 'userP...  0.017665\n",
       "22  {'cbDataPath': '..\\data\\cbDataOHE.txt', 'userP...  0.017665\n",
       "23  {'cbDataPath': '..\\data\\cbDataOHE.txt', 'userP...  0.017665\n",
       "24  {'cbDataPath': '..\\data\\cbDataOHE.txt', 'userP...  0.016244\n",
       "25  {'cbDataPath': '..\\data\\cbDataOHE.txt', 'userP...  0.017576\n",
       "26  {'cbDataPath': '..\\data\\cbDataOHE.txt', 'userP...  0.017134\n",
       "27  {'cbDataPath': '..\\data\\cbDataOHE.txt', 'userP...  0.014915\n",
       "28  {'cbDataPath': '..\\data\\cbDataOHE.txt', 'userP...  0.016537\n",
       "29  {'cbDataPath': '..\\data\\cbDataOHE.txt', 'userP...  0.015521\n",
       "30  {'cbDataPath': '..\\data\\cbDataOHE.txt', 'userP...  0.014958\n",
       "31  {'cbDataPath': '..\\data\\cbDataOHE.txt', 'userP...  0.016131\n",
       "32  {'cbDataPath': '..\\data\\cbDataOHE.txt', 'userP...  0.015228\n",
       "33  {'cbDataPath': '..\\data\\cbDataOHE.txt', 'userP...  0.015829\n",
       "34  {'cbDataPath': '..\\data\\cbDataOHE.txt', 'userP...  0.015939\n",
       "35  {'cbDataPath': '..\\data\\cbDataOHE.txt', 'userP...  0.015071"
      ]
     },
     "execution_count": 18,
     "metadata": {},
     "output_type": "execute_result"
    }
   ],
   "source": [
    "i = 0\n",
    "\n",
    "scoresMean = []\n",
    "scoresInd = []\n",
    "\n",
    "for params in params_list:\n",
    "    i += 1\n",
    "    rec:ARecommender = RecommenderCosineCB(\"test\", params)\n",
    "    rec.train(HistoryDF(\"hyperparams_tuning_CosineCB\"+str(i)), trainDataset)\n",
    "    scoresVector = []\n",
    "    \n",
    "    for user in users:\n",
    "        recList = rec.recommend(user, 20, params)\n",
    "        #print(recList.index)\n",
    "        #print(type(recList.index))\n",
    "        #rl = np.array([i[0] for i in recList])\n",
    "        #print(rl)\n",
    "        relScore = np.zeros((1,maxOID+1))\n",
    "        relScore[0,recList.index] = recList.values\n",
    "        #print(relScore.sum())\n",
    "        #print(np.isin(recList.index, trueList[user].values))\n",
    "        res = ndcg_score(trueRelevance[user], relScore, k=20)\n",
    "        scoresVector.append(res)\n",
    "        \n",
    "    meanScore = np.mean(scoresVector)\n",
    "    scoresMean.append(meanScore)\n",
    "    scoresInd.append(scoresVector)\n",
    "    print(meanScore)\n",
    "\n",
    "par = [params_list[0]]\n",
    "\n",
    "resultsDF = pd.DataFrame({\"params\":params_list, \"meanNDCG\":scoresMean})\n",
    "resultsDF"
   ]
  },
  {
   "cell_type": "code",
   "execution_count": 19,
   "metadata": {},
   "outputs": [
    {
     "data": {
      "text/html": [
       "<div>\n",
       "<style scoped>\n",
       "    .dataframe tbody tr th:only-of-type {\n",
       "        vertical-align: middle;\n",
       "    }\n",
       "\n",
       "    .dataframe tbody tr th {\n",
       "        vertical-align: top;\n",
       "    }\n",
       "\n",
       "    .dataframe thead th {\n",
       "        text-align: right;\n",
       "    }\n",
       "</style>\n",
       "<table border=\"1\" class=\"dataframe\">\n",
       "  <thead>\n",
       "    <tr style=\"text-align: right;\">\n",
       "      <th></th>\n",
       "      <th>params</th>\n",
       "      <th>meanNDCG</th>\n",
       "    </tr>\n",
       "  </thead>\n",
       "  <tbody>\n",
       "    <tr>\n",
       "      <th>19</th>\n",
       "      <td>{'cbDataPath': '..\\data\\cbDataOHE.txt', 'userP...</td>\n",
       "      <td>0.013881</td>\n",
       "    </tr>\n",
       "    <tr>\n",
       "      <th>1</th>\n",
       "      <td>{'cbDataPath': '..\\data\\cbDataTFIDF.txt', 'use...</td>\n",
       "      <td>0.014637</td>\n",
       "    </tr>\n",
       "    <tr>\n",
       "      <th>27</th>\n",
       "      <td>{'cbDataPath': '..\\data\\cbDataOHE.txt', 'userP...</td>\n",
       "      <td>0.014915</td>\n",
       "    </tr>\n",
       "    <tr>\n",
       "      <th>30</th>\n",
       "      <td>{'cbDataPath': '..\\data\\cbDataOHE.txt', 'userP...</td>\n",
       "      <td>0.014958</td>\n",
       "    </tr>\n",
       "    <tr>\n",
       "      <th>20</th>\n",
       "      <td>{'cbDataPath': '..\\data\\cbDataOHE.txt', 'userP...</td>\n",
       "      <td>0.015042</td>\n",
       "    </tr>\n",
       "    <tr>\n",
       "      <th>35</th>\n",
       "      <td>{'cbDataPath': '..\\data\\cbDataOHE.txt', 'userP...</td>\n",
       "      <td>0.015071</td>\n",
       "    </tr>\n",
       "    <tr>\n",
       "      <th>2</th>\n",
       "      <td>{'cbDataPath': '..\\data\\cbDataTFIDF.txt', 'use...</td>\n",
       "      <td>0.015108</td>\n",
       "    </tr>\n",
       "    <tr>\n",
       "      <th>32</th>\n",
       "      <td>{'cbDataPath': '..\\data\\cbDataOHE.txt', 'userP...</td>\n",
       "      <td>0.015228</td>\n",
       "    </tr>\n",
       "    <tr>\n",
       "      <th>0</th>\n",
       "      <td>{'cbDataPath': '..\\data\\cbDataTFIDF.txt', 'use...</td>\n",
       "      <td>0.015316</td>\n",
       "    </tr>\n",
       "    <tr>\n",
       "      <th>18</th>\n",
       "      <td>{'cbDataPath': '..\\data\\cbDataOHE.txt', 'userP...</td>\n",
       "      <td>0.015347</td>\n",
       "    </tr>\n",
       "    <tr>\n",
       "      <th>29</th>\n",
       "      <td>{'cbDataPath': '..\\data\\cbDataOHE.txt', 'userP...</td>\n",
       "      <td>0.015521</td>\n",
       "    </tr>\n",
       "    <tr>\n",
       "      <th>33</th>\n",
       "      <td>{'cbDataPath': '..\\data\\cbDataOHE.txt', 'userP...</td>\n",
       "      <td>0.015829</td>\n",
       "    </tr>\n",
       "    <tr>\n",
       "      <th>15</th>\n",
       "      <td>{'cbDataPath': '..\\data\\cbDataTFIDF.txt', 'use...</td>\n",
       "      <td>0.015849</td>\n",
       "    </tr>\n",
       "    <tr>\n",
       "      <th>34</th>\n",
       "      <td>{'cbDataPath': '..\\data\\cbDataOHE.txt', 'userP...</td>\n",
       "      <td>0.015939</td>\n",
       "    </tr>\n",
       "    <tr>\n",
       "      <th>31</th>\n",
       "      <td>{'cbDataPath': '..\\data\\cbDataOHE.txt', 'userP...</td>\n",
       "      <td>0.016131</td>\n",
       "    </tr>\n",
       "    <tr>\n",
       "      <th>8</th>\n",
       "      <td>{'cbDataPath': '..\\data\\cbDataTFIDF.txt', 'use...</td>\n",
       "      <td>0.016243</td>\n",
       "    </tr>\n",
       "    <tr>\n",
       "      <th>24</th>\n",
       "      <td>{'cbDataPath': '..\\data\\cbDataOHE.txt', 'userP...</td>\n",
       "      <td>0.016244</td>\n",
       "    </tr>\n",
       "    <tr>\n",
       "      <th>17</th>\n",
       "      <td>{'cbDataPath': '..\\data\\cbDataTFIDF.txt', 'use...</td>\n",
       "      <td>0.016346</td>\n",
       "    </tr>\n",
       "    <tr>\n",
       "      <th>16</th>\n",
       "      <td>{'cbDataPath': '..\\data\\cbDataTFIDF.txt', 'use...</td>\n",
       "      <td>0.016437</td>\n",
       "    </tr>\n",
       "    <tr>\n",
       "      <th>28</th>\n",
       "      <td>{'cbDataPath': '..\\data\\cbDataOHE.txt', 'userP...</td>\n",
       "      <td>0.016537</td>\n",
       "    </tr>\n",
       "    <tr>\n",
       "      <th>12</th>\n",
       "      <td>{'cbDataPath': '..\\data\\cbDataTFIDF.txt', 'use...</td>\n",
       "      <td>0.016552</td>\n",
       "    </tr>\n",
       "    <tr>\n",
       "      <th>11</th>\n",
       "      <td>{'cbDataPath': '..\\data\\cbDataTFIDF.txt', 'use...</td>\n",
       "      <td>0.016828</td>\n",
       "    </tr>\n",
       "    <tr>\n",
       "      <th>14</th>\n",
       "      <td>{'cbDataPath': '..\\data\\cbDataTFIDF.txt', 'use...</td>\n",
       "      <td>0.016901</td>\n",
       "    </tr>\n",
       "    <tr>\n",
       "      <th>6</th>\n",
       "      <td>{'cbDataPath': '..\\data\\cbDataTFIDF.txt', 'use...</td>\n",
       "      <td>0.017043</td>\n",
       "    </tr>\n",
       "    <tr>\n",
       "      <th>26</th>\n",
       "      <td>{'cbDataPath': '..\\data\\cbDataOHE.txt', 'userP...</td>\n",
       "      <td>0.017134</td>\n",
       "    </tr>\n",
       "    <tr>\n",
       "      <th>9</th>\n",
       "      <td>{'cbDataPath': '..\\data\\cbDataTFIDF.txt', 'use...</td>\n",
       "      <td>0.017264</td>\n",
       "    </tr>\n",
       "    <tr>\n",
       "      <th>5</th>\n",
       "      <td>{'cbDataPath': '..\\data\\cbDataTFIDF.txt', 'use...</td>\n",
       "      <td>0.017291</td>\n",
       "    </tr>\n",
       "    <tr>\n",
       "      <th>4</th>\n",
       "      <td>{'cbDataPath': '..\\data\\cbDataTFIDF.txt', 'use...</td>\n",
       "      <td>0.017291</td>\n",
       "    </tr>\n",
       "    <tr>\n",
       "      <th>3</th>\n",
       "      <td>{'cbDataPath': '..\\data\\cbDataTFIDF.txt', 'use...</td>\n",
       "      <td>0.017291</td>\n",
       "    </tr>\n",
       "    <tr>\n",
       "      <th>7</th>\n",
       "      <td>{'cbDataPath': '..\\data\\cbDataTFIDF.txt', 'use...</td>\n",
       "      <td>0.017313</td>\n",
       "    </tr>\n",
       "    <tr>\n",
       "      <th>13</th>\n",
       "      <td>{'cbDataPath': '..\\data\\cbDataTFIDF.txt', 'use...</td>\n",
       "      <td>0.017441</td>\n",
       "    </tr>\n",
       "    <tr>\n",
       "      <th>25</th>\n",
       "      <td>{'cbDataPath': '..\\data\\cbDataOHE.txt', 'userP...</td>\n",
       "      <td>0.017576</td>\n",
       "    </tr>\n",
       "    <tr>\n",
       "      <th>23</th>\n",
       "      <td>{'cbDataPath': '..\\data\\cbDataOHE.txt', 'userP...</td>\n",
       "      <td>0.017665</td>\n",
       "    </tr>\n",
       "    <tr>\n",
       "      <th>21</th>\n",
       "      <td>{'cbDataPath': '..\\data\\cbDataOHE.txt', 'userP...</td>\n",
       "      <td>0.017665</td>\n",
       "    </tr>\n",
       "    <tr>\n",
       "      <th>22</th>\n",
       "      <td>{'cbDataPath': '..\\data\\cbDataOHE.txt', 'userP...</td>\n",
       "      <td>0.017665</td>\n",
       "    </tr>\n",
       "    <tr>\n",
       "      <th>10</th>\n",
       "      <td>{'cbDataPath': '..\\data\\cbDataTFIDF.txt', 'use...</td>\n",
       "      <td>0.018598</td>\n",
       "    </tr>\n",
       "  </tbody>\n",
       "</table>\n",
       "</div>"
      ],
      "text/plain": [
       "                                               params  meanNDCG\n",
       "19  {'cbDataPath': '..\\data\\cbDataOHE.txt', 'userP...  0.013881\n",
       "1   {'cbDataPath': '..\\data\\cbDataTFIDF.txt', 'use...  0.014637\n",
       "27  {'cbDataPath': '..\\data\\cbDataOHE.txt', 'userP...  0.014915\n",
       "30  {'cbDataPath': '..\\data\\cbDataOHE.txt', 'userP...  0.014958\n",
       "20  {'cbDataPath': '..\\data\\cbDataOHE.txt', 'userP...  0.015042\n",
       "35  {'cbDataPath': '..\\data\\cbDataOHE.txt', 'userP...  0.015071\n",
       "2   {'cbDataPath': '..\\data\\cbDataTFIDF.txt', 'use...  0.015108\n",
       "32  {'cbDataPath': '..\\data\\cbDataOHE.txt', 'userP...  0.015228\n",
       "0   {'cbDataPath': '..\\data\\cbDataTFIDF.txt', 'use...  0.015316\n",
       "18  {'cbDataPath': '..\\data\\cbDataOHE.txt', 'userP...  0.015347\n",
       "29  {'cbDataPath': '..\\data\\cbDataOHE.txt', 'userP...  0.015521\n",
       "33  {'cbDataPath': '..\\data\\cbDataOHE.txt', 'userP...  0.015829\n",
       "15  {'cbDataPath': '..\\data\\cbDataTFIDF.txt', 'use...  0.015849\n",
       "34  {'cbDataPath': '..\\data\\cbDataOHE.txt', 'userP...  0.015939\n",
       "31  {'cbDataPath': '..\\data\\cbDataOHE.txt', 'userP...  0.016131\n",
       "8   {'cbDataPath': '..\\data\\cbDataTFIDF.txt', 'use...  0.016243\n",
       "24  {'cbDataPath': '..\\data\\cbDataOHE.txt', 'userP...  0.016244\n",
       "17  {'cbDataPath': '..\\data\\cbDataTFIDF.txt', 'use...  0.016346\n",
       "16  {'cbDataPath': '..\\data\\cbDataTFIDF.txt', 'use...  0.016437\n",
       "28  {'cbDataPath': '..\\data\\cbDataOHE.txt', 'userP...  0.016537\n",
       "12  {'cbDataPath': '..\\data\\cbDataTFIDF.txt', 'use...  0.016552\n",
       "11  {'cbDataPath': '..\\data\\cbDataTFIDF.txt', 'use...  0.016828\n",
       "14  {'cbDataPath': '..\\data\\cbDataTFIDF.txt', 'use...  0.016901\n",
       "6   {'cbDataPath': '..\\data\\cbDataTFIDF.txt', 'use...  0.017043\n",
       "26  {'cbDataPath': '..\\data\\cbDataOHE.txt', 'userP...  0.017134\n",
       "9   {'cbDataPath': '..\\data\\cbDataTFIDF.txt', 'use...  0.017264\n",
       "5   {'cbDataPath': '..\\data\\cbDataTFIDF.txt', 'use...  0.017291\n",
       "4   {'cbDataPath': '..\\data\\cbDataTFIDF.txt', 'use...  0.017291\n",
       "3   {'cbDataPath': '..\\data\\cbDataTFIDF.txt', 'use...  0.017291\n",
       "7   {'cbDataPath': '..\\data\\cbDataTFIDF.txt', 'use...  0.017313\n",
       "13  {'cbDataPath': '..\\data\\cbDataTFIDF.txt', 'use...  0.017441\n",
       "25  {'cbDataPath': '..\\data\\cbDataOHE.txt', 'userP...  0.017576\n",
       "23  {'cbDataPath': '..\\data\\cbDataOHE.txt', 'userP...  0.017665\n",
       "21  {'cbDataPath': '..\\data\\cbDataOHE.txt', 'userP...  0.017665\n",
       "22  {'cbDataPath': '..\\data\\cbDataOHE.txt', 'userP...  0.017665\n",
       "10  {'cbDataPath': '..\\data\\cbDataTFIDF.txt', 'use...  0.018598"
      ]
     },
     "execution_count": 19,
     "metadata": {},
     "output_type": "execute_result"
    }
   ],
   "source": [
    "resultsDF.sort_values(by=\"meanNDCG\")"
   ]
  },
  {
   "cell_type": "code",
   "execution_count": 20,
   "metadata": {},
   "outputs": [
    {
     "data": {
      "text/plain": [
       "{'cbDataPath': '..\\\\data\\\\cbDataTFIDF.txt',\n",
       " 'userProfileSize': 5,\n",
       " 'userProfileStrategy': 'max'}"
      ]
     },
     "execution_count": 20,
     "metadata": {},
     "output_type": "execute_result"
    }
   ],
   "source": [
    "resultsDF.iloc[10,0] #best... however all are not so good compared to the MF"
   ]
  },
  {
   "cell_type": "code",
   "execution_count": 21,
   "metadata": {},
   "outputs": [
    {
     "data": {
      "text/plain": [
       "{'cbDataPath': '..\\\\data\\\\cbDataOHE.txt',\n",
       " 'userProfileSize': 1,\n",
       " 'userProfileStrategy': 'max'}"
      ]
     },
     "execution_count": 21,
     "metadata": {},
     "output_type": "execute_result"
    }
   ],
   "source": [
    "resultsDF.iloc[22,0] #secondBest"
   ]
  },
  {
   "cell_type": "code",
   "execution_count": 28,
   "metadata": {},
   "outputs": [
    {
     "data": {
      "text/plain": [
       "{'cbDataPath': '..\\\\data\\\\cbDataOHE.txt',\n",
       " 'userProfileSize': 3,\n",
       " 'userProfileStrategy': 'weightedMean'}"
      ]
     },
     "execution_count": 28,
     "metadata": {},
     "output_type": "execute_result"
    }
   ],
   "source": [
    "resultsDF.iloc[26,0] #thirdBest"
   ]
  },
  {
   "cell_type": "markdown",
   "metadata": {},
   "source": [
    "## Test MostPopular - just to have an idea of how the baselines looks like"
   ]
  },
  {
   "cell_type": "code",
   "execution_count": 31,
   "metadata": {},
   "outputs": [],
   "source": [
    "from recommender.recommenderTheMostPopular import RecommenderTheMostPopular #class\n",
    "from sklearn.metrics import ndcg_score"
   ]
  },
  {
   "cell_type": "code",
   "execution_count": 33,
   "metadata": {},
   "outputs": [
    {
     "data": {
      "text/plain": [
       "0.21944408710783173"
      ]
     },
     "execution_count": 33,
     "metadata": {},
     "output_type": "execute_result"
    }
   ],
   "source": [
    "rec:ARecommender = RecommenderTheMostPopular(\"test\", {})\n",
    "rec.train(HistoryDF(\"hyperparams_tuning_MP\"+str(i)), trainDataset)\n",
    "scoresVector = []\n",
    "    \n",
    "for user in users:\n",
    "        recList = rec.recommend(user, 20, params)\n",
    "        #print(recList.index)\n",
    "        #print(type(recList.index))\n",
    "        #rl = np.array([i[0] for i in recList])\n",
    "        #print(rl)\n",
    "        relScore = np.zeros((1,maxOID+1))\n",
    "        relScore[0,recList.index] = recList.values\n",
    "        #print(relScore.sum())\n",
    "        #print(np.isin(recList.index, trueList[user].values))\n",
    "        res = ndcg_score(trueRelevance[user], relScore, k=20)\n",
    "        scoresVector.append(res)\n",
    "        \n",
    "meanScore = np.mean(scoresVector)\n",
    "meanScore"
   ]
  },
  {
   "cell_type": "markdown",
   "metadata": {},
   "source": [
    "## Run tuning for Word2Vec"
   ]
  },
  {
   "cell_type": "code",
   "execution_count": 15,
   "metadata": {},
   "outputs": [],
   "source": [
    "param_grid_userProfile = {\n",
    "              'datasetId':[\"ml1m\" + \"Div\" + str(80)],\n",
    "              'trainVariant': [\"positive\"], \n",
    "              'iterations': [50000, 100000, 200000],\n",
    "              'windowSize': [5, 3, 1],\n",
    "              'vectorSize': [32, 64, 128],    \n",
    "              'userProfileStrategy': [\"mean\", \"max\",  \"weightedMean\"], \n",
    "              'userProfileSize': [-1, 1, 3, 5, 7, 10]\n",
    "             }\n",
    "params_list_userProfile = list(ParameterGrid(param_grid_userProfile))\n",
    "\n",
    "param_grid = {    \n",
    "              'datasetId':[\"ml1m\" + \"Div\" + str(80)],\n",
    "              'trainVariant': [\"positive\"], \n",
    "              'iterations': [200000],\n",
    "              'windowSize': [5, 3, 1],\n",
    "              'vectorSize': [32, 64, 128]\n",
    "             }\n",
    "params_list = list(ParameterGrid(param_grid))"
   ]
  },
  {
   "cell_type": "code",
   "execution_count": 16,
   "metadata": {},
   "outputs": [],
   "source": [
    "from recommender.recommenderW2V import RecommenderW2V #class\n",
    "from sklearn.metrics import ndcg_score"
   ]
  },
  {
   "cell_type": "code",
   "execution_count": 18,
   "metadata": {
    "scrolled": true
   },
   "outputs": [
    {
     "name": "stdout",
     "output_type": "stream",
     "text": [
      "..\\models\\model_ml1mDiv80_positive_32_5_200000.pkl\n",
      "..\\models\\dictionary_ml1mDiv80_positive_32_5_200000.pkl\n",
      "..\\models\\rev_dict_ml1mDiv80_positive_32_5_200000.pkl\n",
      "Creating Dictionary\n",
      "Actual vocabulary size:3470\n",
      "Loss at step 10000 : 2.912088632583618\n",
      "Loss at step 20000 : 3.0665416717529297\n",
      "Loss at step 30000 : 3.958158254623413\n",
      "Loss at step 40000 : 1.8041181564331055\n",
      "Loss at step 50000 : 1.8469690084457397\n",
      "Nearest to 2858: 1961, 1503, 1663, 283, 3101,\n",
      "Nearest to 608: 110, 1617, 3394, 1090, 691,\n",
      "Nearest to 1206: 3471, 2600, 750, 541, 2331,\n",
      "Nearest to 1135: 1440, 280, 1412, 1926, 2418,\n",
      "Loss at step 60000 : 3.2472915649414062\n",
      "Loss at step 70000 : 3.284290313720703\n",
      "Loss at step 80000 : 2.7698185443878174\n",
      "Loss at step 90000 : 1.574096441268921\n",
      "Loss at step 100000 : 1.862308144569397\n",
      "Nearest to 2858: 3450, 1259, 2668, 1569, 187,\n",
      "Nearest to 608: 1090, 3060, 3394, 1388, 1899,\n",
      "Nearest to 1206: 1214, 2600, 3703, 2, 25,\n",
      "Nearest to 1135: 1440, 1412, 2122, 1429, 1027,\n",
      "Loss at step 110000 : 2.8488903045654297\n",
      "Loss at step 120000 : 3.0993876457214355\n",
      "Loss at step 130000 : 1.6768419742584229\n",
      "Loss at step 140000 : 2.192135810852051\n",
      "Loss at step 150000 : 2.772352695465088\n",
      "Nearest to 2858: 187, 3120, 1752, 1097, 27,\n",
      "Nearest to 608: 1899, 1090, 1060, 3060, 2585,\n",
      "Nearest to 1206: 541, 669, 25, 2600, 3461,\n",
      "Nearest to 1135: 1440, 2087, 2330, 3931, 1429,\n",
      "Loss at step 160000 : 2.552182674407959\n",
      "Loss at step 170000 : 2.296928644180298\n",
      "Loss at step 180000 : 3.185093402862549\n",
      "Loss at step 190000 : 2.2938947677612305\n",
      "Loss at step 200000 : 2.9453892707824707\n",
      "Nearest to 2858: 869, 2706, 1382, 1010, 2683,\n",
      "Nearest to 608: 1482, 3394, 2179, 678, 2203,\n",
      "Nearest to 1206: 2600, 2554, 680, 1196, 882,\n",
      "Nearest to 1135: 1440, 2140, 1541, 2330, 575,\n",
      "..\\models\\model_ml1mDiv80_positive_32_3_200000.pkl\n",
      "..\\models\\dictionary_ml1mDiv80_positive_32_3_200000.pkl\n",
      "..\\models\\rev_dict_ml1mDiv80_positive_32_3_200000.pkl\n",
      "Creating Dictionary\n",
      "Actual vocabulary size:3470\n",
      "Loss at step 10000 : 3.1147444248199463\n",
      "Loss at step 20000 : 2.613487720489502\n",
      "Loss at step 30000 : 3.4736151695251465\n",
      "Loss at step 40000 : 2.329455614089966\n",
      "Loss at step 50000 : 2.606724262237549\n",
      "Nearest to 2858: 88, 2227, 2268, 3051, 935,\n",
      "Nearest to 608: 908, 2948, 2382, 1617, 593,\n",
      "Nearest to 1206: 787, 750, 1690, 2571, 1240,\n",
      "Nearest to 1135: 2261, 2701, 515, 3933, 3786,\n",
      "Loss at step 60000 : 2.6259920597076416\n",
      "Loss at step 70000 : 2.645991325378418\n",
      "Loss at step 80000 : 2.537360668182373\n",
      "Loss at step 90000 : 2.7214622497558594\n",
      "Loss at step 100000 : 3.1683781147003174\n",
      "Nearest to 2858: 935, 27, 3176, 3186, 1365,\n",
      "Nearest to 608: 3477, 537, 125, 1899, 926,\n",
      "Nearest to 1206: 787, 1474, 3235, 1348, 541,\n",
      "Nearest to 1135: 3863, 3913, 2701, 458, 2062,\n",
      "Loss at step 110000 : 1.952897071838379\n",
      "Loss at step 120000 : 1.9238883256912231\n",
      "Loss at step 130000 : 3.052722215652466\n",
      "Loss at step 140000 : 3.035665512084961\n",
      "Loss at step 150000 : 1.9535146951675415\n",
      "Nearest to 2858: 1183, 1721, 673, 3078, 2750,\n",
      "Nearest to 608: 296, 1468, 3121, 858, 3394,\n",
      "Nearest to 1206: 3703, 1676, 1474, 541, 2135,\n",
      "Nearest to 1135: 2087, 3913, 3863, 1667, 3952,\n",
      "Loss at step 160000 : 2.449732780456543\n",
      "Loss at step 170000 : 2.291025400161743\n",
      "Loss at step 180000 : 2.035994529724121\n",
      "Loss at step 190000 : 2.90647554397583\n",
      "Loss at step 200000 : 2.3770875930786133\n",
      "Nearest to 2858: 3372, 3175, 1425, 2437, 583,\n",
      "Nearest to 608: 593, 1213, 318, 1090, 2721,\n",
      "Nearest to 1206: 283, 1199, 1240, 3703, 1474,\n",
      "Nearest to 1135: 1440, 2087, 1667, 2872, 934,\n",
      "..\\models\\model_ml1mDiv80_positive_32_1_200000.pkl\n",
      "..\\models\\dictionary_ml1mDiv80_positive_32_1_200000.pkl\n",
      "..\\models\\rev_dict_ml1mDiv80_positive_32_1_200000.pkl\n",
      "Creating Dictionary\n",
      "Actual vocabulary size:3470\n",
      "Loss at step 10000 : 3.4936046600341797\n",
      "Loss at step 20000 : 2.84505295753479\n",
      "Loss at step 30000 : 3.5526156425476074\n",
      "Loss at step 40000 : 3.3497467041015625\n",
      "Loss at step 50000 : 2.291588544845581\n",
      "Nearest to 2858: 2153, 3851, 560, 1293, 1234,\n",
      "Nearest to 608: 1213, 523, 293, 50, 1089,\n",
      "Nearest to 1206: 1199, 3471, 2363, 1240, 2571,\n",
      "Nearest to 1135: 2138, 3032, 1755, 1770, 2512,\n",
      "Loss at step 60000 : 2.277498722076416\n",
      "Loss at step 70000 : 2.6727113723754883\n",
      "Loss at step 80000 : 2.037900447845459\n",
      "Loss at step 90000 : 2.5752804279327393\n",
      "Loss at step 100000 : 2.7409770488739014\n",
      "Nearest to 2858: 3851, 3298, 1234, 2725, 985,\n",
      "Nearest to 608: 1213, 296, 523, 1699, 1704,\n",
      "Nearest to 1206: 1270, 3471, 2660, 1240, 1731,\n",
      "Nearest to 1135: 3032, 1755, 2640, 661, 229,\n",
      "Loss at step 110000 : 2.3123619556427\n",
      "Loss at step 120000 : 2.515033721923828\n",
      "Loss at step 130000 : 3.252983331680298\n",
      "Loss at step 140000 : 1.0227909088134766\n",
      "Loss at step 150000 : 1.3027056455612183\n",
      "Nearest to 2858: 1602, 1354, 3624, 3049, 2153,\n",
      "Nearest to 608: 296, 1358, 36, 1213, 527,\n",
      "Nearest to 1206: 541, 3471, 1240, 1253, 1199,\n",
      "Nearest to 1135: 661, 3931, 3256, 1125, 3071,\n",
      "Loss at step 160000 : 3.092414379119873\n",
      "Loss at step 170000 : 2.719371795654297\n",
      "Loss at step 180000 : 1.1802986860275269\n",
      "Loss at step 190000 : 3.0633506774902344\n",
      "Loss at step 200000 : 1.673585295677185\n",
      "Nearest to 2858: 1234, 1602, 985, 2966, 535,\n",
      "Nearest to 608: 1213, 1089, 1752, 50, 1812,\n",
      "Nearest to 1206: 2571, 1253, 1200, 1798, 1605,\n",
      "Nearest to 1135: 2640, 3931, 3071, 1755, 1125,\n",
      "..\\models\\model_ml1mDiv80_positive_64_5_200000.pkl\n",
      "..\\models\\dictionary_ml1mDiv80_positive_64_5_200000.pkl\n",
      "..\\models\\rev_dict_ml1mDiv80_positive_64_5_200000.pkl\n",
      "Creating Dictionary\n",
      "Actual vocabulary size:3470\n",
      "Loss at step 10000 : 1.7882109880447388\n",
      "Loss at step 20000 : 2.624213933944702\n",
      "Loss at step 30000 : 1.472670316696167\n",
      "Loss at step 40000 : 2.0640881061553955\n",
      "Loss at step 50000 : 2.460818290710449\n",
      "Nearest to 2858: 1210, 110, 1265, 2706, 1961,\n",
      "Nearest to 608: 2029, 380, 2858, 3148, 1249,\n",
      "Nearest to 1206: 3002, 3897, 2409, 3649, 2455,\n",
      "Nearest to 1135: 198, 596, 2303, 277, 178,\n",
      "Loss at step 60000 : 3.552053451538086\n",
      "Loss at step 70000 : 2.670412063598633\n",
      "Loss at step 80000 : 2.432359218597412\n",
      "Loss at step 90000 : 1.8911465406417847\n",
      "Loss at step 100000 : 1.7894291877746582\n",
      "Nearest to 2858: 2707, 2630, 418, 2571, 277,\n",
      "Nearest to 608: 110, 186, 680, 159, 908,\n",
      "Nearest to 1206: 2352, 3471, 2600, 2658, 1196,\n",
      "Nearest to 1135: 296, 917, 3196, 2940, 1260,\n",
      "Loss at step 110000 : 2.4668221473693848\n",
      "Loss at step 120000 : 3.3964617252349854\n",
      "Loss at step 130000 : 2.1123287677764893\n",
      "Loss at step 140000 : 2.5987420082092285\n",
      "Loss at step 150000 : 1.909505844116211\n",
      "Nearest to 2858: 110, 523, 2391, 3147, 182,\n",
      "Nearest to 608: 2454, 1362, 3060, 680, 532,\n",
      "Nearest to 1206: 882, 3471, 2554, 3200, 3704,\n",
      "Nearest to 1135: 917, 2872, 3196, 898, 3447,\n",
      "Loss at step 160000 : 2.9002575874328613\n",
      "Loss at step 170000 : 2.046133279800415\n",
      "Loss at step 180000 : 2.1913902759552\n",
      "Loss at step 190000 : 2.7858529090881348\n",
      "Loss at step 200000 : 3.882385730743408\n",
      "Nearest to 2858: 357, 223, 1191, 1985, 2630,\n",
      "Nearest to 608: 3181, 1284, 207, 3682, 3178,\n",
      "Nearest to 1206: 541, 3200, 2594, 1798, 882,\n",
      "Nearest to 1135: 928, 2872, 2208, 383, 3619,\n",
      "..\\models\\model_ml1mDiv80_positive_64_3_200000.pkl\n",
      "..\\models\\dictionary_ml1mDiv80_positive_64_3_200000.pkl\n",
      "..\\models\\rev_dict_ml1mDiv80_positive_64_3_200000.pkl\n",
      "Creating Dictionary\n",
      "Actual vocabulary size:3470\n",
      "Loss at step 10000 : 2.3534927368164062\n",
      "Loss at step 20000 : 2.5250015258789062\n",
      "Loss at step 30000 : 2.658600330352783\n",
      "Loss at step 40000 : 3.9490482807159424\n",
      "Loss at step 50000 : 1.362699270248413\n",
      "Nearest to 2858: 527, 2975, 1210, 2997, 223,\n",
      "Nearest to 608: 1094, 3299, 1707, 2028, 2858,\n",
      "Nearest to 1206: 1199, 2365, 1214, 153, 2578,\n",
      "Nearest to 1135: 2935, 1261, 2459, 1337, 2159,\n",
      "Loss at step 60000 : 2.655991554260254\n",
      "Loss at step 70000 : 2.786811351776123\n",
      "Loss at step 80000 : 3.1542932987213135\n",
      "Loss at step 90000 : 2.30592942237854\n",
      "Loss at step 100000 : 3.3845763206481934\n",
      "Nearest to 2858: 223, 1968, 63, 1617, 2153,\n",
      "Nearest to 608: 3427, 501, 296, 1249, 112,\n",
      "Nearest to 1206: 25, 2075, 1077, 2578, 89,\n",
      "Nearest to 1135: 3901, 2872, 3624, 2208, 3448,\n",
      "Loss at step 110000 : 2.5949034690856934\n",
      "Loss at step 120000 : 0.6620399355888367\n",
      "Loss at step 130000 : 2.1467349529266357\n",
      "Loss at step 140000 : 1.519120454788208\n",
      "Loss at step 150000 : 2.9434595108032227\n",
      "Nearest to 2858: 3007, 2437, 3753, 3299, 3408,\n",
      "Nearest to 608: 527, 3427, 1550, 166, 3926,\n",
      "Nearest to 1206: 3703, 1199, 2351, 2159, 1420,\n",
      "Nearest to 1135: 236, 2872, 2087, 3534, 2208,\n"
     ]
    },
    {
     "name": "stdout",
     "output_type": "stream",
     "text": [
      "Loss at step 160000 : 2.5303523540496826\n",
      "Loss at step 170000 : 1.505110263824463\n",
      "Loss at step 180000 : 4.234393119812012\n",
      "Loss at step 190000 : 3.6014246940612793\n",
      "Loss at step 200000 : 2.083183765411377\n",
      "Nearest to 2858: 3285, 2212, 2348, 2770, 2706,\n",
      "Nearest to 608: 454, 112, 1269, 293, 554,\n",
      "Nearest to 1206: 1077, 2075, 2578, 541, 3200,\n",
      "Nearest to 1135: 3024, 2046, 3534, 2872, 1619,\n",
      "..\\models\\model_ml1mDiv80_positive_64_1_200000.pkl\n",
      "..\\models\\dictionary_ml1mDiv80_positive_64_1_200000.pkl\n",
      "..\\models\\rev_dict_ml1mDiv80_positive_64_1_200000.pkl\n",
      "Creating Dictionary\n",
      "Actual vocabulary size:3470\n",
      "Loss at step 10000 : 2.935464382171631\n",
      "Loss at step 20000 : 2.7144312858581543\n",
      "Loss at step 30000 : 2.950140953063965\n",
      "Loss at step 40000 : 1.8590571880340576\n",
      "Loss at step 50000 : 2.1044583320617676\n",
      "Nearest to 2858: 2090, 3181, 3061, 1363, 1694,\n",
      "Nearest to 608: 296, 1198, 1094, 1699, 159,\n",
      "Nearest to 1206: 1200, 1253, 818, 1690, 750,\n",
      "Nearest to 1135: 1036, 139, 2929, 3570, 2710,\n",
      "Loss at step 60000 : 2.396404266357422\n",
      "Loss at step 70000 : 1.6717698574066162\n",
      "Loss at step 80000 : 1.4238146543502808\n",
      "Loss at step 90000 : 1.2650002241134644\n",
      "Loss at step 100000 : 1.6824488639831543\n",
      "Nearest to 2858: 3421, 3596, 2383, 1363, 1270,\n",
      "Nearest to 608: 1699, 2844, 1649, 2112, 1213,\n",
      "Nearest to 1206: 818, 848, 2286, 40, 680,\n",
      "Nearest to 1135: 3570, 3322, 3019, 2412, 3366,\n",
      "Loss at step 110000 : 1.8720824718475342\n",
      "Loss at step 120000 : 1.945141077041626\n",
      "Loss at step 130000 : 2.3571159839630127\n",
      "Loss at step 140000 : 1.4789506196975708\n",
      "Loss at step 150000 : 1.8448083400726318\n",
      "Nearest to 2858: 3204, 126, 81, 347, 1535,\n",
      "Nearest to 608: 1699, 3302, 293, 1507, 1094,\n",
      "Nearest to 1206: 2666, 1253, 848, 3658, 818,\n",
      "Nearest to 1135: 2412, 3322, 3570, 3733, 3019,\n",
      "Loss at step 160000 : 0.5476585626602173\n",
      "Loss at step 170000 : 2.766563892364502\n",
      "Loss at step 180000 : 1.693764090538025\n",
      "Loss at step 190000 : 1.6636886596679688\n",
      "Loss at step 200000 : 2.379930019378662\n",
      "Nearest to 2858: 2383, 523, 2404, 467, 702,\n",
      "Nearest to 608: 1699, 1094, 2844, 293, 3132,\n",
      "Nearest to 1206: 3658, 1200, 1253, 2666, 848,\n",
      "Nearest to 1135: 2412, 3570, 3019, 2532, 2497,\n",
      "..\\models\\model_ml1mDiv80_positive_128_5_200000.pkl\n",
      "..\\models\\dictionary_ml1mDiv80_positive_128_5_200000.pkl\n",
      "..\\models\\rev_dict_ml1mDiv80_positive_128_5_200000.pkl\n",
      "Creating Dictionary\n",
      "Actual vocabulary size:3470\n",
      "Loss at step 10000 : 2.351174831390381\n",
      "Loss at step 20000 : 2.468327522277832\n",
      "Loss at step 30000 : 1.9548683166503906\n",
      "Loss at step 40000 : 2.583056926727295\n",
      "Loss at step 50000 : 2.0426840782165527\n",
      "Nearest to 2858: 3339, 2696, 2188, 2241, 1093,\n",
      "Nearest to 608: 1468, 1304, 1357, 383, 110,\n",
      "Nearest to 1206: 541, 3471, 1797, 2594, 3156,\n",
      "Nearest to 1135: 665, 3598, 3893, 3233, 2393,\n",
      "Loss at step 60000 : 1.6376724243164062\n",
      "Loss at step 70000 : 2.827455759048462\n",
      "Loss at step 80000 : 3.0327632427215576\n",
      "Loss at step 90000 : 1.9725910425186157\n",
      "Loss at step 100000 : 2.083942413330078\n",
      "Nearest to 2858: 2706, 2997, 1094, 1899, 2433,\n",
      "Nearest to 608: 1546, 3880, 3426, 3423, 2937,\n",
      "Nearest to 1206: 3471, 3813, 541, 1990, 15,\n",
      "Nearest to 1135: 3598, 547, 3720, 74, 2812,\n",
      "Loss at step 110000 : 1.7632865905761719\n",
      "Loss at step 120000 : 1.9379595518112183\n",
      "Loss at step 130000 : 1.891836166381836\n",
      "Loss at step 140000 : 0.8306333422660828\n",
      "Loss at step 150000 : 2.7671499252319336\n",
      "Nearest to 2858: 2908, 2699, 1127, 869, 2706,\n",
      "Nearest to 608: 141, 593, 589, 293, 1213,\n",
      "Nearest to 1206: 541, 3703, 750, 2210, 2968,\n",
      "Nearest to 1135: 547, 2872, 2812, 74, 3619,\n",
      "Loss at step 160000 : 2.307992935180664\n",
      "Loss at step 170000 : 3.742435932159424\n",
      "Loss at step 180000 : 2.747995376586914\n",
      "Loss at step 190000 : 2.4296956062316895\n",
      "Loss at step 200000 : 2.4444336891174316\n",
      "Nearest to 2858: 338, 2959, 2762, 1633, 1468,\n",
      "Nearest to 608: 1192, 3060, 766, 1136, 246,\n",
      "Nearest to 1206: 1783, 682, 830, 3685, 1797,\n",
      "Nearest to 1135: 1440, 3035, 3292, 547, 2812,\n",
      "..\\models\\model_ml1mDiv80_positive_128_3_200000.pkl\n",
      "..\\models\\dictionary_ml1mDiv80_positive_128_3_200000.pkl\n",
      "..\\models\\rev_dict_ml1mDiv80_positive_128_3_200000.pkl\n",
      "Creating Dictionary\n",
      "Actual vocabulary size:3470\n",
      "Loss at step 10000 : 4.267965316772461\n",
      "Loss at step 20000 : 2.1471035480499268\n",
      "Loss at step 30000 : 2.790865182876587\n",
      "Loss at step 40000 : 1.6288821697235107\n",
      "Loss at step 50000 : 2.601095676422119\n",
      "Nearest to 2858: 593, 2028, 527, 110, 924,\n",
      "Nearest to 608: 589, 1990, 1090, 923, 50,\n",
      "Nearest to 1206: 1196, 541, 2021, 2232, 1219,\n",
      "Nearest to 1135: 3423, 2626, 3372, 1961, 1660,\n",
      "Loss at step 60000 : 1.740978717803955\n",
      "Loss at step 70000 : 3.733865976333618\n",
      "Loss at step 80000 : 2.972378730773926\n",
      "Loss at step 90000 : 1.6726703643798828\n",
      "Loss at step 100000 : 2.8168187141418457\n",
      "Nearest to 2858: 2860, 182, 3753, 2997, 2706,\n",
      "Nearest to 608: 1090, 1661, 1221, 296, 538,\n",
      "Nearest to 1206: 3703, 2741, 3695, 541, 1856,\n",
      "Nearest to 1135: 1660, 3508, 3372, 508, 3423,\n",
      "Loss at step 110000 : 2.202169418334961\n",
      "Loss at step 120000 : 1.259968876838684\n",
      "Loss at step 130000 : 2.230576753616333\n",
      "Loss at step 140000 : 2.35384202003479\n",
      "Loss at step 150000 : 3.2268834114074707\n",
      "Nearest to 2858: 2959, 3741, 2409, 2144, 1420,\n",
      "Nearest to 608: 3917, 1990, 293, 923, 1401,\n",
      "Nearest to 1206: 1222, 3695, 1240, 3629, 2741,\n",
      "Nearest to 1135: 1660, 1596, 1644, 2421, 1100,\n",
      "Loss at step 160000 : 2.965473175048828\n",
      "Loss at step 170000 : 2.6894373893737793\n",
      "Loss at step 180000 : 2.4891300201416016\n",
      "Loss at step 190000 : 2.2564234733581543\n",
      "Loss at step 200000 : 0.861892819404602\n",
      "Nearest to 2858: 223, 3824, 2997, 1193, 611,\n",
      "Nearest to 608: 1990, 3210, 2076, 296, 1792,\n",
      "Nearest to 1206: 1563, 3695, 41, 1565, 2101,\n",
      "Nearest to 1135: 1596, 1440, 2193, 1660, 1644,\n",
      "..\\models\\model_ml1mDiv80_positive_128_1_200000.pkl\n",
      "..\\models\\dictionary_ml1mDiv80_positive_128_1_200000.pkl\n",
      "..\\models\\rev_dict_ml1mDiv80_positive_128_1_200000.pkl\n",
      "Creating Dictionary\n",
      "Actual vocabulary size:3470\n",
      "Loss at step 10000 : 2.580322265625\n",
      "Loss at step 20000 : 2.063288688659668\n",
      "Loss at step 30000 : 2.7953882217407227\n",
      "Loss at step 40000 : 2.050175189971924\n",
      "Loss at step 50000 : 1.0160000324249268\n",
      "Nearest to 2858: 2408, 3028, 3148, 2630, 110,\n",
      "Nearest to 608: 296, 1233, 1593, 3246, 1213,\n",
      "Nearest to 1206: 2571, 1200, 1270, 3471, 32,\n",
      "Nearest to 1135: 3248, 3263, 1388, 2628, 1299,\n",
      "Loss at step 60000 : 2.0294485092163086\n",
      "Loss at step 70000 : 1.1889286041259766\n",
      "Loss at step 80000 : 2.1271767616271973\n",
      "Loss at step 90000 : 1.385886549949646\n",
      "Loss at step 100000 : 2.4011101722717285\n",
      "Nearest to 2858: 908, 2408, 2017, 1673, 106,\n",
      "Nearest to 608: 1176, 1900, 1213, 1216, 922,\n",
      "Nearest to 1206: 1200, 1253, 1605, 492, 750,\n",
      "Nearest to 1135: 3248, 1388, 1277, 555, 2815,\n",
      "Loss at step 110000 : 1.5293688774108887\n",
      "Loss at step 120000 : 1.3438695669174194\n",
      "Loss at step 130000 : 0.9034960865974426\n",
      "Loss at step 140000 : 1.3919215202331543\n",
      "Loss at step 150000 : 2.0810885429382324\n",
      "Nearest to 2858: 2177, 452, 2305, 766, 1694,\n",
      "Nearest to 608: 1719, 678, 3049, 296, 1213,\n",
      "Nearest to 1206: 1839, 2899, 3837, 1200, 3702,\n",
      "Nearest to 1135: 3248, 1388, 1277, 3639, 3073,\n",
      "Loss at step 160000 : 0.4623071551322937\n",
      "Loss at step 170000 : 1.777426838874817\n",
      "Loss at step 180000 : 1.492508053779602\n",
      "Loss at step 190000 : 1.0270822048187256\n",
      "Loss at step 200000 : 1.892549753189087\n",
      "Nearest to 2858: 2997, 2177, 2305, 554, 2630,\n",
      "Nearest to 608: 1507, 3449, 296, 1277, 3481,\n",
      "Nearest to 1206: 574, 1253, 1200, 1839, 2578,\n",
      "Nearest to 1135: 3248, 3835, 586, 1388, 2246,\n"
     ]
    }
   ],
   "source": [
    "i = 0\n",
    "for params in params_list:\n",
    "    i += 1\n",
    "    rec:ARecommender = RecommenderW2V(\"test\", params)\n",
    "    rec.train(HistoryDF(\"hyperparams_tuning_CosineCB\"+str(i)), trainDataset)\n",
    "\n"
   ]
  },
  {
   "cell_type": "code",
   "execution_count": 19,
   "metadata": {},
   "outputs": [
    {
     "name": "stdout",
     "output_type": "stream",
     "text": [
      "..\\models\\model_ml1mDiv80_positive_32_5_50000.pkl\n",
      "..\\models\\dictionary_ml1mDiv80_positive_32_5_50000.pkl\n",
      "..\\models\\rev_dict_ml1mDiv80_positive_32_5_50000.pkl\n",
      "0.020523832860936148\n",
      "..\\models\\model_ml1mDiv80_positive_32_3_50000.pkl\n",
      "..\\models\\dictionary_ml1mDiv80_positive_32_3_50000.pkl\n",
      "..\\models\\rev_dict_ml1mDiv80_positive_32_3_50000.pkl\n",
      "0.025751457544424868\n",
      "..\\models\\model_ml1mDiv80_positive_32_1_50000.pkl\n",
      "..\\models\\dictionary_ml1mDiv80_positive_32_1_50000.pkl\n",
      "..\\models\\rev_dict_ml1mDiv80_positive_32_1_50000.pkl\n",
      "0.02206246353794028\n",
      "..\\models\\model_ml1mDiv80_positive_64_5_50000.pkl\n",
      "..\\models\\dictionary_ml1mDiv80_positive_64_5_50000.pkl\n",
      "..\\models\\rev_dict_ml1mDiv80_positive_64_5_50000.pkl\n",
      "0.02563314714120643\n",
      "..\\models\\model_ml1mDiv80_positive_64_3_50000.pkl\n",
      "..\\models\\dictionary_ml1mDiv80_positive_64_3_50000.pkl\n",
      "..\\models\\rev_dict_ml1mDiv80_positive_64_3_50000.pkl\n",
      "0.029388866651997903\n",
      "..\\models\\model_ml1mDiv80_positive_64_1_50000.pkl\n",
      "..\\models\\dictionary_ml1mDiv80_positive_64_1_50000.pkl\n",
      "..\\models\\rev_dict_ml1mDiv80_positive_64_1_50000.pkl\n",
      "0.02442377941750427\n",
      "..\\models\\model_ml1mDiv80_positive_128_5_50000.pkl\n",
      "..\\models\\dictionary_ml1mDiv80_positive_128_5_50000.pkl\n",
      "..\\models\\rev_dict_ml1mDiv80_positive_128_5_50000.pkl\n",
      "0.02777791474129932\n",
      "..\\models\\model_ml1mDiv80_positive_128_3_50000.pkl\n",
      "..\\models\\dictionary_ml1mDiv80_positive_128_3_50000.pkl\n",
      "..\\models\\rev_dict_ml1mDiv80_positive_128_3_50000.pkl\n",
      "0.028033440558813218\n",
      "..\\models\\model_ml1mDiv80_positive_128_1_50000.pkl\n",
      "..\\models\\dictionary_ml1mDiv80_positive_128_1_50000.pkl\n",
      "..\\models\\rev_dict_ml1mDiv80_positive_128_1_50000.pkl\n",
      "0.024587362353657286\n",
      "..\\models\\model_ml1mDiv80_positive_32_5_50000.pkl\n",
      "..\\models\\dictionary_ml1mDiv80_positive_32_5_50000.pkl\n",
      "..\\models\\rev_dict_ml1mDiv80_positive_32_5_50000.pkl\n",
      "0.011770375171424301\n",
      "..\\models\\model_ml1mDiv80_positive_32_3_50000.pkl\n",
      "..\\models\\dictionary_ml1mDiv80_positive_32_3_50000.pkl\n",
      "..\\models\\rev_dict_ml1mDiv80_positive_32_3_50000.pkl\n",
      "0.011644216084245283\n",
      "..\\models\\model_ml1mDiv80_positive_32_1_50000.pkl\n",
      "..\\models\\dictionary_ml1mDiv80_positive_32_1_50000.pkl\n",
      "..\\models\\rev_dict_ml1mDiv80_positive_32_1_50000.pkl\n",
      "0.011507178747514125\n",
      "..\\models\\model_ml1mDiv80_positive_64_5_50000.pkl\n",
      "..\\models\\dictionary_ml1mDiv80_positive_64_5_50000.pkl\n",
      "..\\models\\rev_dict_ml1mDiv80_positive_64_5_50000.pkl\n",
      "0.012088319314311737\n",
      "..\\models\\model_ml1mDiv80_positive_64_3_50000.pkl\n",
      "..\\models\\dictionary_ml1mDiv80_positive_64_3_50000.pkl\n",
      "..\\models\\rev_dict_ml1mDiv80_positive_64_3_50000.pkl\n",
      "0.011942757923499959\n",
      "..\\models\\model_ml1mDiv80_positive_64_1_50000.pkl\n",
      "..\\models\\dictionary_ml1mDiv80_positive_64_1_50000.pkl\n",
      "..\\models\\rev_dict_ml1mDiv80_positive_64_1_50000.pkl\n",
      "0.011288535621578279\n",
      "..\\models\\model_ml1mDiv80_positive_128_5_50000.pkl\n",
      "..\\models\\dictionary_ml1mDiv80_positive_128_5_50000.pkl\n",
      "..\\models\\rev_dict_ml1mDiv80_positive_128_5_50000.pkl\n",
      "0.011577611054975977\n",
      "..\\models\\model_ml1mDiv80_positive_128_3_50000.pkl\n",
      "..\\models\\dictionary_ml1mDiv80_positive_128_3_50000.pkl\n",
      "..\\models\\rev_dict_ml1mDiv80_positive_128_3_50000.pkl\n",
      "0.012418842611956445\n",
      "..\\models\\model_ml1mDiv80_positive_128_1_50000.pkl\n",
      "..\\models\\dictionary_ml1mDiv80_positive_128_1_50000.pkl\n",
      "..\\models\\rev_dict_ml1mDiv80_positive_128_1_50000.pkl\n",
      "0.011495289293541228\n",
      "..\\models\\model_ml1mDiv80_positive_32_5_50000.pkl\n",
      "..\\models\\dictionary_ml1mDiv80_positive_32_5_50000.pkl\n",
      "..\\models\\rev_dict_ml1mDiv80_positive_32_5_50000.pkl\n",
      "0.020763404480326413\n",
      "..\\models\\model_ml1mDiv80_positive_32_3_50000.pkl\n",
      "..\\models\\dictionary_ml1mDiv80_positive_32_3_50000.pkl\n",
      "..\\models\\rev_dict_ml1mDiv80_positive_32_3_50000.pkl\n",
      "0.02431122793305462\n",
      "..\\models\\model_ml1mDiv80_positive_32_1_50000.pkl\n",
      "..\\models\\dictionary_ml1mDiv80_positive_32_1_50000.pkl\n",
      "..\\models\\rev_dict_ml1mDiv80_positive_32_1_50000.pkl\n",
      "0.02104018143391232\n",
      "..\\models\\model_ml1mDiv80_positive_64_5_50000.pkl\n",
      "..\\models\\dictionary_ml1mDiv80_positive_64_5_50000.pkl\n",
      "..\\models\\rev_dict_ml1mDiv80_positive_64_5_50000.pkl\n",
      "0.02570858184563232\n",
      "..\\models\\model_ml1mDiv80_positive_64_3_50000.pkl\n",
      "..\\models\\dictionary_ml1mDiv80_positive_64_3_50000.pkl\n",
      "..\\models\\rev_dict_ml1mDiv80_positive_64_3_50000.pkl\n",
      "0.028685807196478962\n",
      "..\\models\\model_ml1mDiv80_positive_64_1_50000.pkl\n",
      "..\\models\\dictionary_ml1mDiv80_positive_64_1_50000.pkl\n",
      "..\\models\\rev_dict_ml1mDiv80_positive_64_1_50000.pkl\n",
      "0.023093108775898222\n",
      "..\\models\\model_ml1mDiv80_positive_128_5_50000.pkl\n",
      "..\\models\\dictionary_ml1mDiv80_positive_128_5_50000.pkl\n",
      "..\\models\\rev_dict_ml1mDiv80_positive_128_5_50000.pkl\n",
      "0.027645760302001228\n",
      "..\\models\\model_ml1mDiv80_positive_128_3_50000.pkl\n",
      "..\\models\\dictionary_ml1mDiv80_positive_128_3_50000.pkl\n",
      "..\\models\\rev_dict_ml1mDiv80_positive_128_3_50000.pkl\n",
      "0.028164151566023234\n",
      "..\\models\\model_ml1mDiv80_positive_128_1_50000.pkl\n",
      "..\\models\\dictionary_ml1mDiv80_positive_128_1_50000.pkl\n",
      "..\\models\\rev_dict_ml1mDiv80_positive_128_1_50000.pkl\n",
      "0.024189656454392208\n",
      "..\\models\\model_ml1mDiv80_positive_32_5_50000.pkl\n",
      "..\\models\\dictionary_ml1mDiv80_positive_32_5_50000.pkl\n",
      "..\\models\\rev_dict_ml1mDiv80_positive_32_5_50000.pkl\n",
      "0.01903683175198013\n",
      "..\\models\\model_ml1mDiv80_positive_32_3_50000.pkl\n",
      "..\\models\\dictionary_ml1mDiv80_positive_32_3_50000.pkl\n",
      "..\\models\\rev_dict_ml1mDiv80_positive_32_3_50000.pkl\n",
      "0.019581266258899093\n",
      "..\\models\\model_ml1mDiv80_positive_32_1_50000.pkl\n",
      "..\\models\\dictionary_ml1mDiv80_positive_32_1_50000.pkl\n",
      "..\\models\\rev_dict_ml1mDiv80_positive_32_1_50000.pkl\n",
      "0.01805125890536677\n",
      "..\\models\\model_ml1mDiv80_positive_64_5_50000.pkl\n",
      "..\\models\\dictionary_ml1mDiv80_positive_64_5_50000.pkl\n",
      "..\\models\\rev_dict_ml1mDiv80_positive_64_5_50000.pkl\n",
      "0.018718862850497887\n",
      "..\\models\\model_ml1mDiv80_positive_64_3_50000.pkl\n",
      "..\\models\\dictionary_ml1mDiv80_positive_64_3_50000.pkl\n",
      "..\\models\\rev_dict_ml1mDiv80_positive_64_3_50000.pkl\n",
      "0.01963616774414601\n",
      "..\\models\\model_ml1mDiv80_positive_64_1_50000.pkl\n",
      "..\\models\\dictionary_ml1mDiv80_positive_64_1_50000.pkl\n",
      "..\\models\\rev_dict_ml1mDiv80_positive_64_1_50000.pkl\n",
      "0.018927699567474764\n",
      "..\\models\\model_ml1mDiv80_positive_128_5_50000.pkl\n",
      "..\\models\\dictionary_ml1mDiv80_positive_128_5_50000.pkl\n",
      "..\\models\\rev_dict_ml1mDiv80_positive_128_5_50000.pkl\n",
      "0.019819716534857704\n",
      "..\\models\\model_ml1mDiv80_positive_128_3_50000.pkl\n",
      "..\\models\\dictionary_ml1mDiv80_positive_128_3_50000.pkl\n",
      "..\\models\\rev_dict_ml1mDiv80_positive_128_3_50000.pkl\n",
      "0.01965056572364187\n",
      "..\\models\\model_ml1mDiv80_positive_128_1_50000.pkl\n",
      "..\\models\\dictionary_ml1mDiv80_positive_128_1_50000.pkl\n",
      "..\\models\\rev_dict_ml1mDiv80_positive_128_1_50000.pkl\n",
      "0.020247837825422187\n",
      "..\\models\\model_ml1mDiv80_positive_32_5_50000.pkl\n",
      "..\\models\\dictionary_ml1mDiv80_positive_32_5_50000.pkl\n",
      "..\\models\\rev_dict_ml1mDiv80_positive_32_5_50000.pkl\n",
      "0.01903683175198013\n",
      "..\\models\\model_ml1mDiv80_positive_32_3_50000.pkl\n",
      "..\\models\\dictionary_ml1mDiv80_positive_32_3_50000.pkl\n",
      "..\\models\\rev_dict_ml1mDiv80_positive_32_3_50000.pkl\n",
      "0.019581266258899093\n",
      "..\\models\\model_ml1mDiv80_positive_32_1_50000.pkl\n",
      "..\\models\\dictionary_ml1mDiv80_positive_32_1_50000.pkl\n",
      "..\\models\\rev_dict_ml1mDiv80_positive_32_1_50000.pkl\n",
      "0.01805125890536677\n",
      "..\\models\\model_ml1mDiv80_positive_64_5_50000.pkl\n",
      "..\\models\\dictionary_ml1mDiv80_positive_64_5_50000.pkl\n",
      "..\\models\\rev_dict_ml1mDiv80_positive_64_5_50000.pkl\n",
      "0.018718862850497887\n",
      "..\\models\\model_ml1mDiv80_positive_64_3_50000.pkl\n",
      "..\\models\\dictionary_ml1mDiv80_positive_64_3_50000.pkl\n",
      "..\\models\\rev_dict_ml1mDiv80_positive_64_3_50000.pkl\n",
      "0.01963616774414601\n",
      "..\\models\\model_ml1mDiv80_positive_64_1_50000.pkl\n",
      "..\\models\\dictionary_ml1mDiv80_positive_64_1_50000.pkl\n",
      "..\\models\\rev_dict_ml1mDiv80_positive_64_1_50000.pkl\n",
      "0.018927699567474764\n",
      "..\\models\\model_ml1mDiv80_positive_128_5_50000.pkl\n",
      "..\\models\\dictionary_ml1mDiv80_positive_128_5_50000.pkl\n",
      "..\\models\\rev_dict_ml1mDiv80_positive_128_5_50000.pkl\n",
      "0.019819716534857704\n",
      "..\\models\\model_ml1mDiv80_positive_128_3_50000.pkl\n",
      "..\\models\\dictionary_ml1mDiv80_positive_128_3_50000.pkl\n",
      "..\\models\\rev_dict_ml1mDiv80_positive_128_3_50000.pkl\n",
      "0.01965056572364187\n",
      "..\\models\\model_ml1mDiv80_positive_128_1_50000.pkl\n",
      "..\\models\\dictionary_ml1mDiv80_positive_128_1_50000.pkl\n",
      "..\\models\\rev_dict_ml1mDiv80_positive_128_1_50000.pkl\n",
      "0.020247837825422187\n",
      "..\\models\\model_ml1mDiv80_positive_32_5_50000.pkl\n",
      "..\\models\\dictionary_ml1mDiv80_positive_32_5_50000.pkl\n",
      "..\\models\\rev_dict_ml1mDiv80_positive_32_5_50000.pkl\n"
     ]
    },
    {
     "name": "stdout",
     "output_type": "stream",
     "text": [
      "0.01903683175198013\n",
      "..\\models\\model_ml1mDiv80_positive_32_3_50000.pkl\n",
      "..\\models\\dictionary_ml1mDiv80_positive_32_3_50000.pkl\n",
      "..\\models\\rev_dict_ml1mDiv80_positive_32_3_50000.pkl\n",
      "0.019581266258899093\n",
      "..\\models\\model_ml1mDiv80_positive_32_1_50000.pkl\n",
      "..\\models\\dictionary_ml1mDiv80_positive_32_1_50000.pkl\n",
      "..\\models\\rev_dict_ml1mDiv80_positive_32_1_50000.pkl\n",
      "0.01805125890536677\n",
      "..\\models\\model_ml1mDiv80_positive_64_5_50000.pkl\n",
      "..\\models\\dictionary_ml1mDiv80_positive_64_5_50000.pkl\n",
      "..\\models\\rev_dict_ml1mDiv80_positive_64_5_50000.pkl\n",
      "0.018718862850497887\n",
      "..\\models\\model_ml1mDiv80_positive_64_3_50000.pkl\n",
      "..\\models\\dictionary_ml1mDiv80_positive_64_3_50000.pkl\n",
      "..\\models\\rev_dict_ml1mDiv80_positive_64_3_50000.pkl\n",
      "0.01963616774414601\n",
      "..\\models\\model_ml1mDiv80_positive_64_1_50000.pkl\n",
      "..\\models\\dictionary_ml1mDiv80_positive_64_1_50000.pkl\n",
      "..\\models\\rev_dict_ml1mDiv80_positive_64_1_50000.pkl\n",
      "0.018927699567474764\n",
      "..\\models\\model_ml1mDiv80_positive_128_5_50000.pkl\n",
      "..\\models\\dictionary_ml1mDiv80_positive_128_5_50000.pkl\n",
      "..\\models\\rev_dict_ml1mDiv80_positive_128_5_50000.pkl\n",
      "0.019819716534857704\n",
      "..\\models\\model_ml1mDiv80_positive_128_3_50000.pkl\n",
      "..\\models\\dictionary_ml1mDiv80_positive_128_3_50000.pkl\n",
      "..\\models\\rev_dict_ml1mDiv80_positive_128_3_50000.pkl\n",
      "0.01965056572364187\n",
      "..\\models\\model_ml1mDiv80_positive_128_1_50000.pkl\n",
      "..\\models\\dictionary_ml1mDiv80_positive_128_1_50000.pkl\n",
      "..\\models\\rev_dict_ml1mDiv80_positive_128_1_50000.pkl\n",
      "0.020247837825422187\n",
      "..\\models\\model_ml1mDiv80_positive_32_5_50000.pkl\n",
      "..\\models\\dictionary_ml1mDiv80_positive_32_5_50000.pkl\n",
      "..\\models\\rev_dict_ml1mDiv80_positive_32_5_50000.pkl\n",
      "0.01920666157432815\n",
      "..\\models\\model_ml1mDiv80_positive_32_3_50000.pkl\n",
      "..\\models\\dictionary_ml1mDiv80_positive_32_3_50000.pkl\n",
      "..\\models\\rev_dict_ml1mDiv80_positive_32_3_50000.pkl\n",
      "0.021622850598764842\n",
      "..\\models\\model_ml1mDiv80_positive_32_1_50000.pkl\n",
      "..\\models\\dictionary_ml1mDiv80_positive_32_1_50000.pkl\n",
      "..\\models\\rev_dict_ml1mDiv80_positive_32_1_50000.pkl\n",
      "0.01959323822550511\n",
      "..\\models\\model_ml1mDiv80_positive_64_5_50000.pkl\n",
      "..\\models\\dictionary_ml1mDiv80_positive_64_5_50000.pkl\n",
      "..\\models\\rev_dict_ml1mDiv80_positive_64_5_50000.pkl\n",
      "0.020575310372251646\n",
      "..\\models\\model_ml1mDiv80_positive_64_3_50000.pkl\n",
      "..\\models\\dictionary_ml1mDiv80_positive_64_3_50000.pkl\n",
      "..\\models\\rev_dict_ml1mDiv80_positive_64_3_50000.pkl\n",
      "0.020976640296384994\n",
      "..\\models\\model_ml1mDiv80_positive_64_1_50000.pkl\n",
      "..\\models\\dictionary_ml1mDiv80_positive_64_1_50000.pkl\n",
      "..\\models\\rev_dict_ml1mDiv80_positive_64_1_50000.pkl\n",
      "0.02002137740879252\n",
      "..\\models\\model_ml1mDiv80_positive_128_5_50000.pkl\n",
      "..\\models\\dictionary_ml1mDiv80_positive_128_5_50000.pkl\n",
      "..\\models\\rev_dict_ml1mDiv80_positive_128_5_50000.pkl\n",
      "0.021564508851000665\n",
      "..\\models\\model_ml1mDiv80_positive_128_3_50000.pkl\n",
      "..\\models\\dictionary_ml1mDiv80_positive_128_3_50000.pkl\n",
      "..\\models\\rev_dict_ml1mDiv80_positive_128_3_50000.pkl\n",
      "0.020616943956271762\n",
      "..\\models\\model_ml1mDiv80_positive_128_1_50000.pkl\n",
      "..\\models\\dictionary_ml1mDiv80_positive_128_1_50000.pkl\n",
      "..\\models\\rev_dict_ml1mDiv80_positive_128_1_50000.pkl\n",
      "0.021722042537946153\n",
      "..\\models\\model_ml1mDiv80_positive_32_5_50000.pkl\n",
      "..\\models\\dictionary_ml1mDiv80_positive_32_5_50000.pkl\n",
      "..\\models\\rev_dict_ml1mDiv80_positive_32_5_50000.pkl\n",
      "0.01765573236470884\n",
      "..\\models\\model_ml1mDiv80_positive_32_3_50000.pkl\n",
      "..\\models\\dictionary_ml1mDiv80_positive_32_3_50000.pkl\n",
      "..\\models\\rev_dict_ml1mDiv80_positive_32_3_50000.pkl\n",
      "0.01858544803421192\n",
      "..\\models\\model_ml1mDiv80_positive_32_1_50000.pkl\n",
      "..\\models\\dictionary_ml1mDiv80_positive_32_1_50000.pkl\n",
      "..\\models\\rev_dict_ml1mDiv80_positive_32_1_50000.pkl\n",
      "0.018727682373009806\n",
      "..\\models\\model_ml1mDiv80_positive_64_5_50000.pkl\n",
      "..\\models\\dictionary_ml1mDiv80_positive_64_5_50000.pkl\n",
      "..\\models\\rev_dict_ml1mDiv80_positive_64_5_50000.pkl\n",
      "0.018673249225323985\n",
      "..\\models\\model_ml1mDiv80_positive_64_3_50000.pkl\n",
      "..\\models\\dictionary_ml1mDiv80_positive_64_3_50000.pkl\n",
      "..\\models\\rev_dict_ml1mDiv80_positive_64_3_50000.pkl\n",
      "0.019545866793739743\n",
      "..\\models\\model_ml1mDiv80_positive_64_1_50000.pkl\n",
      "..\\models\\dictionary_ml1mDiv80_positive_64_1_50000.pkl\n",
      "..\\models\\rev_dict_ml1mDiv80_positive_64_1_50000.pkl\n",
      "0.01753521109949689\n",
      "..\\models\\model_ml1mDiv80_positive_128_5_50000.pkl\n",
      "..\\models\\dictionary_ml1mDiv80_positive_128_5_50000.pkl\n",
      "..\\models\\rev_dict_ml1mDiv80_positive_128_5_50000.pkl\n",
      "0.01958154657153059\n",
      "..\\models\\model_ml1mDiv80_positive_128_3_50000.pkl\n",
      "..\\models\\dictionary_ml1mDiv80_positive_128_3_50000.pkl\n",
      "..\\models\\rev_dict_ml1mDiv80_positive_128_3_50000.pkl\n",
      "0.020335717804694238\n",
      "..\\models\\model_ml1mDiv80_positive_128_1_50000.pkl\n",
      "..\\models\\dictionary_ml1mDiv80_positive_128_1_50000.pkl\n",
      "..\\models\\rev_dict_ml1mDiv80_positive_128_1_50000.pkl\n",
      "0.018144651239724616\n",
      "..\\models\\model_ml1mDiv80_positive_32_5_50000.pkl\n",
      "..\\models\\dictionary_ml1mDiv80_positive_32_5_50000.pkl\n",
      "..\\models\\rev_dict_ml1mDiv80_positive_32_5_50000.pkl\n",
      "0.01938219593465173\n",
      "..\\models\\model_ml1mDiv80_positive_32_3_50000.pkl\n",
      "..\\models\\dictionary_ml1mDiv80_positive_32_3_50000.pkl\n",
      "..\\models\\rev_dict_ml1mDiv80_positive_32_3_50000.pkl\n",
      "0.02076561393495294\n",
      "..\\models\\model_ml1mDiv80_positive_32_1_50000.pkl\n",
      "..\\models\\dictionary_ml1mDiv80_positive_32_1_50000.pkl\n",
      "..\\models\\rev_dict_ml1mDiv80_positive_32_1_50000.pkl\n",
      "0.019265121587459424\n",
      "..\\models\\model_ml1mDiv80_positive_64_5_50000.pkl\n",
      "..\\models\\dictionary_ml1mDiv80_positive_64_5_50000.pkl\n",
      "..\\models\\rev_dict_ml1mDiv80_positive_64_5_50000.pkl\n",
      "0.020848182334671884\n",
      "..\\models\\model_ml1mDiv80_positive_64_3_50000.pkl\n",
      "..\\models\\dictionary_ml1mDiv80_positive_64_3_50000.pkl\n",
      "..\\models\\rev_dict_ml1mDiv80_positive_64_3_50000.pkl\n",
      "0.02197083410750733\n",
      "..\\models\\model_ml1mDiv80_positive_64_1_50000.pkl\n",
      "..\\models\\dictionary_ml1mDiv80_positive_64_1_50000.pkl\n",
      "..\\models\\rev_dict_ml1mDiv80_positive_64_1_50000.pkl\n",
      "0.02015953458853713\n",
      "..\\models\\model_ml1mDiv80_positive_128_5_50000.pkl\n",
      "..\\models\\dictionary_ml1mDiv80_positive_128_5_50000.pkl\n",
      "..\\models\\rev_dict_ml1mDiv80_positive_128_5_50000.pkl\n",
      "0.021023844448209685\n",
      "..\\models\\model_ml1mDiv80_positive_128_3_50000.pkl\n",
      "..\\models\\dictionary_ml1mDiv80_positive_128_3_50000.pkl\n",
      "..\\models\\rev_dict_ml1mDiv80_positive_128_3_50000.pkl\n",
      "0.021177053798777917\n",
      "..\\models\\model_ml1mDiv80_positive_128_1_50000.pkl\n",
      "..\\models\\dictionary_ml1mDiv80_positive_128_1_50000.pkl\n",
      "..\\models\\rev_dict_ml1mDiv80_positive_128_1_50000.pkl\n",
      "0.021843988998110436\n",
      "..\\models\\model_ml1mDiv80_positive_32_5_50000.pkl\n",
      "..\\models\\dictionary_ml1mDiv80_positive_32_5_50000.pkl\n",
      "..\\models\\rev_dict_ml1mDiv80_positive_32_5_50000.pkl\n",
      "0.02048986827844719\n",
      "..\\models\\model_ml1mDiv80_positive_32_3_50000.pkl\n",
      "..\\models\\dictionary_ml1mDiv80_positive_32_3_50000.pkl\n",
      "..\\models\\rev_dict_ml1mDiv80_positive_32_3_50000.pkl\n",
      "0.024345516386454234\n",
      "..\\models\\model_ml1mDiv80_positive_32_1_50000.pkl\n",
      "..\\models\\dictionary_ml1mDiv80_positive_32_1_50000.pkl\n",
      "..\\models\\rev_dict_ml1mDiv80_positive_32_1_50000.pkl\n",
      "0.021398782123111144\n",
      "..\\models\\model_ml1mDiv80_positive_64_5_50000.pkl\n",
      "..\\models\\dictionary_ml1mDiv80_positive_64_5_50000.pkl\n",
      "..\\models\\rev_dict_ml1mDiv80_positive_64_5_50000.pkl\n",
      "0.02176149626278206\n",
      "..\\models\\model_ml1mDiv80_positive_64_3_50000.pkl\n",
      "..\\models\\dictionary_ml1mDiv80_positive_64_3_50000.pkl\n",
      "..\\models\\rev_dict_ml1mDiv80_positive_64_3_50000.pkl\n",
      "0.021578864796787674\n",
      "..\\models\\model_ml1mDiv80_positive_64_1_50000.pkl\n",
      "..\\models\\dictionary_ml1mDiv80_positive_64_1_50000.pkl\n",
      "..\\models\\rev_dict_ml1mDiv80_positive_64_1_50000.pkl\n",
      "0.020667654125922034\n",
      "..\\models\\model_ml1mDiv80_positive_128_5_50000.pkl\n",
      "..\\models\\dictionary_ml1mDiv80_positive_128_5_50000.pkl\n",
      "..\\models\\rev_dict_ml1mDiv80_positive_128_5_50000.pkl\n",
      "0.020178325826889307\n",
      "..\\models\\model_ml1mDiv80_positive_128_3_50000.pkl\n",
      "..\\models\\dictionary_ml1mDiv80_positive_128_3_50000.pkl\n",
      "..\\models\\rev_dict_ml1mDiv80_positive_128_3_50000.pkl\n",
      "0.022277487977461496\n",
      "..\\models\\model_ml1mDiv80_positive_128_1_50000.pkl\n",
      "..\\models\\dictionary_ml1mDiv80_positive_128_1_50000.pkl\n",
      "..\\models\\rev_dict_ml1mDiv80_positive_128_1_50000.pkl\n",
      "0.021375183664481198\n",
      "..\\models\\model_ml1mDiv80_positive_32_5_50000.pkl\n",
      "..\\models\\dictionary_ml1mDiv80_positive_32_5_50000.pkl\n",
      "..\\models\\rev_dict_ml1mDiv80_positive_32_5_50000.pkl\n",
      "0.018284403566559075\n",
      "..\\models\\model_ml1mDiv80_positive_32_3_50000.pkl\n",
      "..\\models\\dictionary_ml1mDiv80_positive_32_3_50000.pkl\n",
      "..\\models\\rev_dict_ml1mDiv80_positive_32_3_50000.pkl\n"
     ]
    },
    {
     "name": "stdout",
     "output_type": "stream",
     "text": [
      "0.01824530797661451\n",
      "..\\models\\model_ml1mDiv80_positive_32_1_50000.pkl\n",
      "..\\models\\dictionary_ml1mDiv80_positive_32_1_50000.pkl\n",
      "..\\models\\rev_dict_ml1mDiv80_positive_32_1_50000.pkl\n",
      "0.017394448651687475\n",
      "..\\models\\model_ml1mDiv80_positive_64_5_50000.pkl\n",
      "..\\models\\dictionary_ml1mDiv80_positive_64_5_50000.pkl\n",
      "..\\models\\rev_dict_ml1mDiv80_positive_64_5_50000.pkl\n",
      "0.01860159090494408\n",
      "..\\models\\model_ml1mDiv80_positive_64_3_50000.pkl\n",
      "..\\models\\dictionary_ml1mDiv80_positive_64_3_50000.pkl\n",
      "..\\models\\rev_dict_ml1mDiv80_positive_64_3_50000.pkl\n",
      "0.019707705451752395\n",
      "..\\models\\model_ml1mDiv80_positive_64_1_50000.pkl\n",
      "..\\models\\dictionary_ml1mDiv80_positive_64_1_50000.pkl\n",
      "..\\models\\rev_dict_ml1mDiv80_positive_64_1_50000.pkl\n",
      "0.018021590964128757\n",
      "..\\models\\model_ml1mDiv80_positive_128_5_50000.pkl\n",
      "..\\models\\dictionary_ml1mDiv80_positive_128_5_50000.pkl\n",
      "..\\models\\rev_dict_ml1mDiv80_positive_128_5_50000.pkl\n",
      "0.01818490529132073\n",
      "..\\models\\model_ml1mDiv80_positive_128_3_50000.pkl\n",
      "..\\models\\dictionary_ml1mDiv80_positive_128_3_50000.pkl\n",
      "..\\models\\rev_dict_ml1mDiv80_positive_128_3_50000.pkl\n",
      "0.019562856360162872\n",
      "..\\models\\model_ml1mDiv80_positive_128_1_50000.pkl\n",
      "..\\models\\dictionary_ml1mDiv80_positive_128_1_50000.pkl\n",
      "..\\models\\rev_dict_ml1mDiv80_positive_128_1_50000.pkl\n",
      "0.01842397703135696\n",
      "..\\models\\model_ml1mDiv80_positive_32_5_50000.pkl\n",
      "..\\models\\dictionary_ml1mDiv80_positive_32_5_50000.pkl\n",
      "..\\models\\rev_dict_ml1mDiv80_positive_32_5_50000.pkl\n",
      "0.02007929984586558\n",
      "..\\models\\model_ml1mDiv80_positive_32_3_50000.pkl\n",
      "..\\models\\dictionary_ml1mDiv80_positive_32_3_50000.pkl\n",
      "..\\models\\rev_dict_ml1mDiv80_positive_32_3_50000.pkl\n",
      "0.022384944317959118\n",
      "..\\models\\model_ml1mDiv80_positive_32_1_50000.pkl\n",
      "..\\models\\dictionary_ml1mDiv80_positive_32_1_50000.pkl\n",
      "..\\models\\rev_dict_ml1mDiv80_positive_32_1_50000.pkl\n",
      "0.020575336233578052\n",
      "..\\models\\model_ml1mDiv80_positive_64_5_50000.pkl\n",
      "..\\models\\dictionary_ml1mDiv80_positive_64_5_50000.pkl\n",
      "..\\models\\rev_dict_ml1mDiv80_positive_64_5_50000.pkl\n",
      "0.021894100715205117\n",
      "..\\models\\model_ml1mDiv80_positive_64_3_50000.pkl\n",
      "..\\models\\dictionary_ml1mDiv80_positive_64_3_50000.pkl\n",
      "..\\models\\rev_dict_ml1mDiv80_positive_64_3_50000.pkl\n",
      "0.022679649302037426\n",
      "..\\models\\model_ml1mDiv80_positive_64_1_50000.pkl\n",
      "..\\models\\dictionary_ml1mDiv80_positive_64_1_50000.pkl\n",
      "..\\models\\rev_dict_ml1mDiv80_positive_64_1_50000.pkl\n",
      "0.020832714436040782\n",
      "..\\models\\model_ml1mDiv80_positive_128_5_50000.pkl\n",
      "..\\models\\dictionary_ml1mDiv80_positive_128_5_50000.pkl\n",
      "..\\models\\rev_dict_ml1mDiv80_positive_128_5_50000.pkl\n",
      "0.021478432965692268\n",
      "..\\models\\model_ml1mDiv80_positive_128_3_50000.pkl\n",
      "..\\models\\dictionary_ml1mDiv80_positive_128_3_50000.pkl\n",
      "..\\models\\rev_dict_ml1mDiv80_positive_128_3_50000.pkl\n",
      "0.02177304279406483\n",
      "..\\models\\model_ml1mDiv80_positive_128_1_50000.pkl\n",
      "..\\models\\dictionary_ml1mDiv80_positive_128_1_50000.pkl\n",
      "..\\models\\rev_dict_ml1mDiv80_positive_128_1_50000.pkl\n",
      "0.021660358016006652\n",
      "..\\models\\model_ml1mDiv80_positive_32_5_50000.pkl\n",
      "..\\models\\dictionary_ml1mDiv80_positive_32_5_50000.pkl\n",
      "..\\models\\rev_dict_ml1mDiv80_positive_32_5_50000.pkl\n",
      "0.020790654729353247\n",
      "..\\models\\model_ml1mDiv80_positive_32_3_50000.pkl\n",
      "..\\models\\dictionary_ml1mDiv80_positive_32_3_50000.pkl\n",
      "..\\models\\rev_dict_ml1mDiv80_positive_32_3_50000.pkl\n",
      "0.025181599756750647\n",
      "..\\models\\model_ml1mDiv80_positive_32_1_50000.pkl\n",
      "..\\models\\dictionary_ml1mDiv80_positive_32_1_50000.pkl\n",
      "..\\models\\rev_dict_ml1mDiv80_positive_32_1_50000.pkl\n",
      "0.023102056422760996\n",
      "..\\models\\model_ml1mDiv80_positive_64_5_50000.pkl\n",
      "..\\models\\dictionary_ml1mDiv80_positive_64_5_50000.pkl\n",
      "..\\models\\rev_dict_ml1mDiv80_positive_64_5_50000.pkl\n",
      "0.02382085900268678\n",
      "..\\models\\model_ml1mDiv80_positive_64_3_50000.pkl\n",
      "..\\models\\dictionary_ml1mDiv80_positive_64_3_50000.pkl\n",
      "..\\models\\rev_dict_ml1mDiv80_positive_64_3_50000.pkl\n",
      "0.02312536973352958\n",
      "..\\models\\model_ml1mDiv80_positive_64_1_50000.pkl\n",
      "..\\models\\dictionary_ml1mDiv80_positive_64_1_50000.pkl\n",
      "..\\models\\rev_dict_ml1mDiv80_positive_64_1_50000.pkl\n",
      "0.020899134108673355\n",
      "..\\models\\model_ml1mDiv80_positive_128_5_50000.pkl\n",
      "..\\models\\dictionary_ml1mDiv80_positive_128_5_50000.pkl\n",
      "..\\models\\rev_dict_ml1mDiv80_positive_128_5_50000.pkl\n",
      "0.02149660919780269\n",
      "..\\models\\model_ml1mDiv80_positive_128_3_50000.pkl\n",
      "..\\models\\dictionary_ml1mDiv80_positive_128_3_50000.pkl\n",
      "..\\models\\rev_dict_ml1mDiv80_positive_128_3_50000.pkl\n",
      "0.022600324980254174\n",
      "..\\models\\model_ml1mDiv80_positive_128_1_50000.pkl\n",
      "..\\models\\dictionary_ml1mDiv80_positive_128_1_50000.pkl\n",
      "..\\models\\rev_dict_ml1mDiv80_positive_128_1_50000.pkl\n",
      "0.022423653790668026\n",
      "..\\models\\model_ml1mDiv80_positive_32_5_50000.pkl\n",
      "..\\models\\dictionary_ml1mDiv80_positive_32_5_50000.pkl\n",
      "..\\models\\rev_dict_ml1mDiv80_positive_32_5_50000.pkl\n",
      "0.01829231561535354\n",
      "..\\models\\model_ml1mDiv80_positive_32_3_50000.pkl\n",
      "..\\models\\dictionary_ml1mDiv80_positive_32_3_50000.pkl\n",
      "..\\models\\rev_dict_ml1mDiv80_positive_32_3_50000.pkl\n",
      "0.017873100865251054\n",
      "..\\models\\model_ml1mDiv80_positive_32_1_50000.pkl\n",
      "..\\models\\dictionary_ml1mDiv80_positive_32_1_50000.pkl\n",
      "..\\models\\rev_dict_ml1mDiv80_positive_32_1_50000.pkl\n",
      "0.01723752457867989\n",
      "..\\models\\model_ml1mDiv80_positive_64_5_50000.pkl\n",
      "..\\models\\dictionary_ml1mDiv80_positive_64_5_50000.pkl\n",
      "..\\models\\rev_dict_ml1mDiv80_positive_64_5_50000.pkl\n",
      "0.018102413756142643\n",
      "..\\models\\model_ml1mDiv80_positive_64_3_50000.pkl\n",
      "..\\models\\dictionary_ml1mDiv80_positive_64_3_50000.pkl\n",
      "..\\models\\rev_dict_ml1mDiv80_positive_64_3_50000.pkl\n",
      "0.01932748738247583\n",
      "..\\models\\model_ml1mDiv80_positive_64_1_50000.pkl\n",
      "..\\models\\dictionary_ml1mDiv80_positive_64_1_50000.pkl\n",
      "..\\models\\rev_dict_ml1mDiv80_positive_64_1_50000.pkl\n",
      "0.016390937835800652\n",
      "..\\models\\model_ml1mDiv80_positive_128_5_50000.pkl\n",
      "..\\models\\dictionary_ml1mDiv80_positive_128_5_50000.pkl\n",
      "..\\models\\rev_dict_ml1mDiv80_positive_128_5_50000.pkl\n",
      "0.01742325520116615\n",
      "..\\models\\model_ml1mDiv80_positive_128_3_50000.pkl\n",
      "..\\models\\dictionary_ml1mDiv80_positive_128_3_50000.pkl\n",
      "..\\models\\rev_dict_ml1mDiv80_positive_128_3_50000.pkl\n",
      "0.01962652501938779\n",
      "..\\models\\model_ml1mDiv80_positive_128_1_50000.pkl\n",
      "..\\models\\dictionary_ml1mDiv80_positive_128_1_50000.pkl\n",
      "..\\models\\rev_dict_ml1mDiv80_positive_128_1_50000.pkl\n",
      "0.017262384398852977\n",
      "..\\models\\model_ml1mDiv80_positive_32_5_50000.pkl\n",
      "..\\models\\dictionary_ml1mDiv80_positive_32_5_50000.pkl\n",
      "..\\models\\rev_dict_ml1mDiv80_positive_32_5_50000.pkl\n",
      "0.020801104124092983\n",
      "..\\models\\model_ml1mDiv80_positive_32_3_50000.pkl\n",
      "..\\models\\dictionary_ml1mDiv80_positive_32_3_50000.pkl\n",
      "..\\models\\rev_dict_ml1mDiv80_positive_32_3_50000.pkl\n",
      "0.023328096228543087\n",
      "..\\models\\model_ml1mDiv80_positive_32_1_50000.pkl\n",
      "..\\models\\dictionary_ml1mDiv80_positive_32_1_50000.pkl\n",
      "..\\models\\rev_dict_ml1mDiv80_positive_32_1_50000.pkl\n",
      "0.021073561700760635\n",
      "..\\models\\model_ml1mDiv80_positive_64_5_50000.pkl\n",
      "..\\models\\dictionary_ml1mDiv80_positive_64_5_50000.pkl\n",
      "..\\models\\rev_dict_ml1mDiv80_positive_64_5_50000.pkl\n",
      "0.022389848139379057\n",
      "..\\models\\model_ml1mDiv80_positive_64_3_50000.pkl\n",
      "..\\models\\dictionary_ml1mDiv80_positive_64_3_50000.pkl\n",
      "..\\models\\rev_dict_ml1mDiv80_positive_64_3_50000.pkl\n",
      "0.02266949249016825\n",
      "..\\models\\model_ml1mDiv80_positive_64_1_50000.pkl\n",
      "..\\models\\dictionary_ml1mDiv80_positive_64_1_50000.pkl\n",
      "..\\models\\rev_dict_ml1mDiv80_positive_64_1_50000.pkl\n",
      "0.020835199322922143\n",
      "..\\models\\model_ml1mDiv80_positive_128_5_50000.pkl\n",
      "..\\models\\dictionary_ml1mDiv80_positive_128_5_50000.pkl\n",
      "..\\models\\rev_dict_ml1mDiv80_positive_128_5_50000.pkl\n",
      "0.021418141143083377\n",
      "..\\models\\model_ml1mDiv80_positive_128_3_50000.pkl\n",
      "..\\models\\dictionary_ml1mDiv80_positive_128_3_50000.pkl\n",
      "..\\models\\rev_dict_ml1mDiv80_positive_128_3_50000.pkl\n",
      "0.022966779297013233\n",
      "..\\models\\model_ml1mDiv80_positive_128_1_50000.pkl\n",
      "..\\models\\dictionary_ml1mDiv80_positive_128_1_50000.pkl\n",
      "..\\models\\rev_dict_ml1mDiv80_positive_128_1_50000.pkl\n",
      "0.021759831534491937\n",
      "..\\models\\model_ml1mDiv80_positive_32_5_50000.pkl\n",
      "..\\models\\dictionary_ml1mDiv80_positive_32_5_50000.pkl\n",
      "..\\models\\rev_dict_ml1mDiv80_positive_32_5_50000.pkl\n",
      "0.02156688550099699\n",
      "..\\models\\model_ml1mDiv80_positive_32_3_50000.pkl\n",
      "..\\models\\dictionary_ml1mDiv80_positive_32_3_50000.pkl\n",
      "..\\models\\rev_dict_ml1mDiv80_positive_32_3_50000.pkl\n",
      "0.025032419603939145\n",
      "..\\models\\model_ml1mDiv80_positive_32_1_50000.pkl\n",
      "..\\models\\dictionary_ml1mDiv80_positive_32_1_50000.pkl\n",
      "..\\models\\rev_dict_ml1mDiv80_positive_32_1_50000.pkl\n"
     ]
    },
    {
     "name": "stdout",
     "output_type": "stream",
     "text": [
      "0.022632357632060153\n",
      "..\\models\\model_ml1mDiv80_positive_64_5_50000.pkl\n",
      "..\\models\\dictionary_ml1mDiv80_positive_64_5_50000.pkl\n",
      "..\\models\\rev_dict_ml1mDiv80_positive_64_5_50000.pkl\n",
      "0.02518246463577487\n",
      "..\\models\\model_ml1mDiv80_positive_64_3_50000.pkl\n",
      "..\\models\\dictionary_ml1mDiv80_positive_64_3_50000.pkl\n",
      "..\\models\\rev_dict_ml1mDiv80_positive_64_3_50000.pkl\n",
      "0.025304301819740003\n",
      "..\\models\\model_ml1mDiv80_positive_64_1_50000.pkl\n",
      "..\\models\\dictionary_ml1mDiv80_positive_64_1_50000.pkl\n",
      "..\\models\\rev_dict_ml1mDiv80_positive_64_1_50000.pkl\n",
      "0.023468793534868068\n",
      "..\\models\\model_ml1mDiv80_positive_128_5_50000.pkl\n",
      "..\\models\\dictionary_ml1mDiv80_positive_128_5_50000.pkl\n",
      "..\\models\\rev_dict_ml1mDiv80_positive_128_5_50000.pkl\n",
      "0.023122555064024143\n",
      "..\\models\\model_ml1mDiv80_positive_128_3_50000.pkl\n",
      "..\\models\\dictionary_ml1mDiv80_positive_128_3_50000.pkl\n",
      "..\\models\\rev_dict_ml1mDiv80_positive_128_3_50000.pkl\n",
      "0.02431352463258913\n",
      "..\\models\\model_ml1mDiv80_positive_128_1_50000.pkl\n",
      "..\\models\\dictionary_ml1mDiv80_positive_128_1_50000.pkl\n",
      "..\\models\\rev_dict_ml1mDiv80_positive_128_1_50000.pkl\n",
      "0.02210008213735328\n",
      "..\\models\\model_ml1mDiv80_positive_32_5_50000.pkl\n",
      "..\\models\\dictionary_ml1mDiv80_positive_32_5_50000.pkl\n",
      "..\\models\\rev_dict_ml1mDiv80_positive_32_5_50000.pkl\n",
      "0.01709011339110572\n",
      "..\\models\\model_ml1mDiv80_positive_32_3_50000.pkl\n",
      "..\\models\\dictionary_ml1mDiv80_positive_32_3_50000.pkl\n",
      "..\\models\\rev_dict_ml1mDiv80_positive_32_3_50000.pkl\n",
      "0.016766260218531007\n",
      "..\\models\\model_ml1mDiv80_positive_32_1_50000.pkl\n",
      "..\\models\\dictionary_ml1mDiv80_positive_32_1_50000.pkl\n",
      "..\\models\\rev_dict_ml1mDiv80_positive_32_1_50000.pkl\n",
      "0.016704447496784073\n",
      "..\\models\\model_ml1mDiv80_positive_64_5_50000.pkl\n",
      "..\\models\\dictionary_ml1mDiv80_positive_64_5_50000.pkl\n",
      "..\\models\\rev_dict_ml1mDiv80_positive_64_5_50000.pkl\n",
      "0.01745702334700776\n",
      "..\\models\\model_ml1mDiv80_positive_64_3_50000.pkl\n",
      "..\\models\\dictionary_ml1mDiv80_positive_64_3_50000.pkl\n",
      "..\\models\\rev_dict_ml1mDiv80_positive_64_3_50000.pkl\n",
      "0.018189825882668775\n",
      "..\\models\\model_ml1mDiv80_positive_64_1_50000.pkl\n",
      "..\\models\\dictionary_ml1mDiv80_positive_64_1_50000.pkl\n",
      "..\\models\\rev_dict_ml1mDiv80_positive_64_1_50000.pkl\n",
      "0.015823081604749944\n",
      "..\\models\\model_ml1mDiv80_positive_128_5_50000.pkl\n",
      "..\\models\\dictionary_ml1mDiv80_positive_128_5_50000.pkl\n",
      "..\\models\\rev_dict_ml1mDiv80_positive_128_5_50000.pkl\n",
      "0.016770659727740955\n",
      "..\\models\\model_ml1mDiv80_positive_128_3_50000.pkl\n",
      "..\\models\\dictionary_ml1mDiv80_positive_128_3_50000.pkl\n",
      "..\\models\\rev_dict_ml1mDiv80_positive_128_3_50000.pkl\n",
      "0.019116945626738865\n",
      "..\\models\\model_ml1mDiv80_positive_128_1_50000.pkl\n",
      "..\\models\\dictionary_ml1mDiv80_positive_128_1_50000.pkl\n",
      "..\\models\\rev_dict_ml1mDiv80_positive_128_1_50000.pkl\n",
      "0.016706675364837942\n",
      "..\\models\\model_ml1mDiv80_positive_32_5_50000.pkl\n",
      "..\\models\\dictionary_ml1mDiv80_positive_32_5_50000.pkl\n",
      "..\\models\\rev_dict_ml1mDiv80_positive_32_5_50000.pkl\n",
      "0.02130398052250415\n",
      "..\\models\\model_ml1mDiv80_positive_32_3_50000.pkl\n",
      "..\\models\\dictionary_ml1mDiv80_positive_32_3_50000.pkl\n",
      "..\\models\\rev_dict_ml1mDiv80_positive_32_3_50000.pkl\n",
      "0.024189742469986435\n",
      "..\\models\\model_ml1mDiv80_positive_32_1_50000.pkl\n",
      "..\\models\\dictionary_ml1mDiv80_positive_32_1_50000.pkl\n",
      "..\\models\\rev_dict_ml1mDiv80_positive_32_1_50000.pkl\n",
      "0.022372386679083974\n",
      "..\\models\\model_ml1mDiv80_positive_64_5_50000.pkl\n",
      "..\\models\\dictionary_ml1mDiv80_positive_64_5_50000.pkl\n",
      "..\\models\\rev_dict_ml1mDiv80_positive_64_5_50000.pkl\n",
      "0.024278562687777977\n",
      "..\\models\\model_ml1mDiv80_positive_64_3_50000.pkl\n",
      "..\\models\\dictionary_ml1mDiv80_positive_64_3_50000.pkl\n",
      "..\\models\\rev_dict_ml1mDiv80_positive_64_3_50000.pkl\n",
      "0.024100466597140307\n",
      "..\\models\\model_ml1mDiv80_positive_64_1_50000.pkl\n",
      "..\\models\\dictionary_ml1mDiv80_positive_64_1_50000.pkl\n",
      "..\\models\\rev_dict_ml1mDiv80_positive_64_1_50000.pkl\n",
      "0.021988001365166165\n",
      "..\\models\\model_ml1mDiv80_positive_128_5_50000.pkl\n",
      "..\\models\\dictionary_ml1mDiv80_positive_128_5_50000.pkl\n",
      "..\\models\\rev_dict_ml1mDiv80_positive_128_5_50000.pkl\n",
      "0.021322991398348506\n",
      "..\\models\\model_ml1mDiv80_positive_128_3_50000.pkl\n",
      "..\\models\\dictionary_ml1mDiv80_positive_128_3_50000.pkl\n",
      "..\\models\\rev_dict_ml1mDiv80_positive_128_3_50000.pkl\n",
      "0.023508967599618395\n",
      "..\\models\\model_ml1mDiv80_positive_128_1_50000.pkl\n",
      "..\\models\\dictionary_ml1mDiv80_positive_128_1_50000.pkl\n",
      "..\\models\\rev_dict_ml1mDiv80_positive_128_1_50000.pkl\n",
      "0.02175957491882865\n",
      "..\\models\\model_ml1mDiv80_positive_32_5_100000.pkl\n",
      "..\\models\\dictionary_ml1mDiv80_positive_32_5_100000.pkl\n",
      "..\\models\\rev_dict_ml1mDiv80_positive_32_5_100000.pkl\n",
      "0.024118753806612082\n",
      "..\\models\\model_ml1mDiv80_positive_32_3_100000.pkl\n",
      "..\\models\\dictionary_ml1mDiv80_positive_32_3_100000.pkl\n",
      "..\\models\\rev_dict_ml1mDiv80_positive_32_3_100000.pkl\n",
      "0.025944058166332305\n",
      "..\\models\\model_ml1mDiv80_positive_32_1_100000.pkl\n",
      "..\\models\\dictionary_ml1mDiv80_positive_32_1_100000.pkl\n",
      "..\\models\\rev_dict_ml1mDiv80_positive_32_1_100000.pkl\n",
      "0.020472790705135236\n",
      "..\\models\\model_ml1mDiv80_positive_64_5_100000.pkl\n",
      "..\\models\\dictionary_ml1mDiv80_positive_64_5_100000.pkl\n",
      "..\\models\\rev_dict_ml1mDiv80_positive_64_5_100000.pkl\n",
      "0.02456149714169376\n",
      "..\\models\\model_ml1mDiv80_positive_64_3_100000.pkl\n",
      "..\\models\\dictionary_ml1mDiv80_positive_64_3_100000.pkl\n",
      "..\\models\\rev_dict_ml1mDiv80_positive_64_3_100000.pkl\n",
      "0.024118660167013577\n",
      "..\\models\\model_ml1mDiv80_positive_64_1_100000.pkl\n",
      "..\\models\\dictionary_ml1mDiv80_positive_64_1_100000.pkl\n",
      "..\\models\\rev_dict_ml1mDiv80_positive_64_1_100000.pkl\n",
      "0.020347372702745038\n",
      "..\\models\\model_ml1mDiv80_positive_128_5_100000.pkl\n",
      "..\\models\\dictionary_ml1mDiv80_positive_128_5_100000.pkl\n",
      "..\\models\\rev_dict_ml1mDiv80_positive_128_5_100000.pkl\n",
      "0.023562662601189242\n",
      "..\\models\\model_ml1mDiv80_positive_128_3_100000.pkl\n",
      "..\\models\\dictionary_ml1mDiv80_positive_128_3_100000.pkl\n",
      "..\\models\\rev_dict_ml1mDiv80_positive_128_3_100000.pkl\n",
      "0.026379506080744027\n",
      "..\\models\\model_ml1mDiv80_positive_128_1_100000.pkl\n",
      "..\\models\\dictionary_ml1mDiv80_positive_128_1_100000.pkl\n",
      "..\\models\\rev_dict_ml1mDiv80_positive_128_1_100000.pkl\n",
      "0.02081779715758193\n",
      "..\\models\\model_ml1mDiv80_positive_32_5_100000.pkl\n",
      "..\\models\\dictionary_ml1mDiv80_positive_32_5_100000.pkl\n",
      "..\\models\\rev_dict_ml1mDiv80_positive_32_5_100000.pkl\n",
      "0.011799919747973075\n",
      "..\\models\\model_ml1mDiv80_positive_32_3_100000.pkl\n",
      "..\\models\\dictionary_ml1mDiv80_positive_32_3_100000.pkl\n",
      "..\\models\\rev_dict_ml1mDiv80_positive_32_3_100000.pkl\n",
      "0.012074968613121621\n",
      "..\\models\\model_ml1mDiv80_positive_32_1_100000.pkl\n",
      "..\\models\\dictionary_ml1mDiv80_positive_32_1_100000.pkl\n",
      "..\\models\\rev_dict_ml1mDiv80_positive_32_1_100000.pkl\n",
      "0.01104835458181477\n",
      "..\\models\\model_ml1mDiv80_positive_64_5_100000.pkl\n",
      "..\\models\\dictionary_ml1mDiv80_positive_64_5_100000.pkl\n",
      "..\\models\\rev_dict_ml1mDiv80_positive_64_5_100000.pkl\n",
      "0.011497912979523165\n",
      "..\\models\\model_ml1mDiv80_positive_64_3_100000.pkl\n",
      "..\\models\\dictionary_ml1mDiv80_positive_64_3_100000.pkl\n",
      "..\\models\\rev_dict_ml1mDiv80_positive_64_3_100000.pkl\n",
      "0.011355278194186786\n",
      "..\\models\\model_ml1mDiv80_positive_64_1_100000.pkl\n",
      "..\\models\\dictionary_ml1mDiv80_positive_64_1_100000.pkl\n",
      "..\\models\\rev_dict_ml1mDiv80_positive_64_1_100000.pkl\n",
      "0.010844133852110955\n",
      "..\\models\\model_ml1mDiv80_positive_128_5_100000.pkl\n",
      "..\\models\\dictionary_ml1mDiv80_positive_128_5_100000.pkl\n",
      "..\\models\\rev_dict_ml1mDiv80_positive_128_5_100000.pkl\n",
      "0.011403540834124986\n",
      "..\\models\\model_ml1mDiv80_positive_128_3_100000.pkl\n",
      "..\\models\\dictionary_ml1mDiv80_positive_128_3_100000.pkl\n",
      "..\\models\\rev_dict_ml1mDiv80_positive_128_3_100000.pkl\n",
      "0.011085316893920123\n",
      "..\\models\\model_ml1mDiv80_positive_128_1_100000.pkl\n",
      "..\\models\\dictionary_ml1mDiv80_positive_128_1_100000.pkl\n",
      "..\\models\\rev_dict_ml1mDiv80_positive_128_1_100000.pkl\n",
      "0.010914805879374354\n",
      "..\\models\\model_ml1mDiv80_positive_32_5_100000.pkl\n",
      "..\\models\\dictionary_ml1mDiv80_positive_32_5_100000.pkl\n",
      "..\\models\\rev_dict_ml1mDiv80_positive_32_5_100000.pkl\n",
      "0.023999145839340253\n",
      "..\\models\\model_ml1mDiv80_positive_32_3_100000.pkl\n",
      "..\\models\\dictionary_ml1mDiv80_positive_32_3_100000.pkl\n",
      "..\\models\\rev_dict_ml1mDiv80_positive_32_3_100000.pkl\n",
      "0.025781377068339537\n",
      "..\\models\\model_ml1mDiv80_positive_32_1_100000.pkl\n",
      "..\\models\\dictionary_ml1mDiv80_positive_32_1_100000.pkl\n",
      "..\\models\\rev_dict_ml1mDiv80_positive_32_1_100000.pkl\n",
      "0.01991344034969024\n",
      "..\\models\\model_ml1mDiv80_positive_64_5_100000.pkl\n",
      "..\\models\\dictionary_ml1mDiv80_positive_64_5_100000.pkl\n",
      "..\\models\\rev_dict_ml1mDiv80_positive_64_5_100000.pkl\n"
     ]
    },
    {
     "name": "stdout",
     "output_type": "stream",
     "text": [
      "0.024696923600393307\n",
      "..\\models\\model_ml1mDiv80_positive_64_3_100000.pkl\n",
      "..\\models\\dictionary_ml1mDiv80_positive_64_3_100000.pkl\n",
      "..\\models\\rev_dict_ml1mDiv80_positive_64_3_100000.pkl\n",
      "0.023719769007952737\n",
      "..\\models\\model_ml1mDiv80_positive_64_1_100000.pkl\n",
      "..\\models\\dictionary_ml1mDiv80_positive_64_1_100000.pkl\n",
      "..\\models\\rev_dict_ml1mDiv80_positive_64_1_100000.pkl\n",
      "0.019660241894258915\n",
      "..\\models\\model_ml1mDiv80_positive_128_5_100000.pkl\n",
      "..\\models\\dictionary_ml1mDiv80_positive_128_5_100000.pkl\n",
      "..\\models\\rev_dict_ml1mDiv80_positive_128_5_100000.pkl\n",
      "0.02334551848888339\n",
      "..\\models\\model_ml1mDiv80_positive_128_3_100000.pkl\n",
      "..\\models\\dictionary_ml1mDiv80_positive_128_3_100000.pkl\n",
      "..\\models\\rev_dict_ml1mDiv80_positive_128_3_100000.pkl\n",
      "0.026443087553788228\n",
      "..\\models\\model_ml1mDiv80_positive_128_1_100000.pkl\n",
      "..\\models\\dictionary_ml1mDiv80_positive_128_1_100000.pkl\n",
      "..\\models\\rev_dict_ml1mDiv80_positive_128_1_100000.pkl\n",
      "0.020474074124730544\n",
      "..\\models\\model_ml1mDiv80_positive_32_5_100000.pkl\n",
      "..\\models\\dictionary_ml1mDiv80_positive_32_5_100000.pkl\n",
      "..\\models\\rev_dict_ml1mDiv80_positive_32_5_100000.pkl\n",
      "0.01958226085031253\n",
      "..\\models\\model_ml1mDiv80_positive_32_3_100000.pkl\n",
      "..\\models\\dictionary_ml1mDiv80_positive_32_3_100000.pkl\n",
      "..\\models\\rev_dict_ml1mDiv80_positive_32_3_100000.pkl\n",
      "0.019638714374648474\n",
      "..\\models\\model_ml1mDiv80_positive_32_1_100000.pkl\n",
      "..\\models\\dictionary_ml1mDiv80_positive_32_1_100000.pkl\n",
      "..\\models\\rev_dict_ml1mDiv80_positive_32_1_100000.pkl\n",
      "0.017915633622680942\n",
      "..\\models\\model_ml1mDiv80_positive_64_5_100000.pkl\n",
      "..\\models\\dictionary_ml1mDiv80_positive_64_5_100000.pkl\n",
      "..\\models\\rev_dict_ml1mDiv80_positive_64_5_100000.pkl\n",
      "0.017897167681321668\n",
      "..\\models\\model_ml1mDiv80_positive_64_3_100000.pkl\n",
      "..\\models\\dictionary_ml1mDiv80_positive_64_3_100000.pkl\n",
      "..\\models\\rev_dict_ml1mDiv80_positive_64_3_100000.pkl\n",
      "0.017327952602376823\n",
      "..\\models\\model_ml1mDiv80_positive_64_1_100000.pkl\n",
      "..\\models\\dictionary_ml1mDiv80_positive_64_1_100000.pkl\n",
      "..\\models\\rev_dict_ml1mDiv80_positive_64_1_100000.pkl\n",
      "0.0168171870187528\n",
      "..\\models\\model_ml1mDiv80_positive_128_5_100000.pkl\n",
      "..\\models\\dictionary_ml1mDiv80_positive_128_5_100000.pkl\n",
      "..\\models\\rev_dict_ml1mDiv80_positive_128_5_100000.pkl\n",
      "0.018104140455229772\n",
      "..\\models\\model_ml1mDiv80_positive_128_3_100000.pkl\n",
      "..\\models\\dictionary_ml1mDiv80_positive_128_3_100000.pkl\n",
      "..\\models\\rev_dict_ml1mDiv80_positive_128_3_100000.pkl\n",
      "0.016772362928140588\n",
      "..\\models\\model_ml1mDiv80_positive_128_1_100000.pkl\n",
      "..\\models\\dictionary_ml1mDiv80_positive_128_1_100000.pkl\n",
      "..\\models\\rev_dict_ml1mDiv80_positive_128_1_100000.pkl\n",
      "0.018071935614768185\n",
      "..\\models\\model_ml1mDiv80_positive_32_5_100000.pkl\n",
      "..\\models\\dictionary_ml1mDiv80_positive_32_5_100000.pkl\n",
      "..\\models\\rev_dict_ml1mDiv80_positive_32_5_100000.pkl\n",
      "0.01958226085031253\n",
      "..\\models\\model_ml1mDiv80_positive_32_3_100000.pkl\n",
      "..\\models\\dictionary_ml1mDiv80_positive_32_3_100000.pkl\n",
      "..\\models\\rev_dict_ml1mDiv80_positive_32_3_100000.pkl\n",
      "0.019638714374648474\n",
      "..\\models\\model_ml1mDiv80_positive_32_1_100000.pkl\n",
      "..\\models\\dictionary_ml1mDiv80_positive_32_1_100000.pkl\n",
      "..\\models\\rev_dict_ml1mDiv80_positive_32_1_100000.pkl\n",
      "0.017915633622680942\n",
      "..\\models\\model_ml1mDiv80_positive_64_5_100000.pkl\n",
      "..\\models\\dictionary_ml1mDiv80_positive_64_5_100000.pkl\n",
      "..\\models\\rev_dict_ml1mDiv80_positive_64_5_100000.pkl\n",
      "0.017897167681321668\n",
      "..\\models\\model_ml1mDiv80_positive_64_3_100000.pkl\n",
      "..\\models\\dictionary_ml1mDiv80_positive_64_3_100000.pkl\n",
      "..\\models\\rev_dict_ml1mDiv80_positive_64_3_100000.pkl\n",
      "0.017327952602376823\n",
      "..\\models\\model_ml1mDiv80_positive_64_1_100000.pkl\n",
      "..\\models\\dictionary_ml1mDiv80_positive_64_1_100000.pkl\n",
      "..\\models\\rev_dict_ml1mDiv80_positive_64_1_100000.pkl\n",
      "0.0168171870187528\n",
      "..\\models\\model_ml1mDiv80_positive_128_5_100000.pkl\n",
      "..\\models\\dictionary_ml1mDiv80_positive_128_5_100000.pkl\n",
      "..\\models\\rev_dict_ml1mDiv80_positive_128_5_100000.pkl\n",
      "0.018104140455229772\n",
      "..\\models\\model_ml1mDiv80_positive_128_3_100000.pkl\n",
      "..\\models\\dictionary_ml1mDiv80_positive_128_3_100000.pkl\n",
      "..\\models\\rev_dict_ml1mDiv80_positive_128_3_100000.pkl\n",
      "0.016772362928140588\n",
      "..\\models\\model_ml1mDiv80_positive_128_1_100000.pkl\n",
      "..\\models\\dictionary_ml1mDiv80_positive_128_1_100000.pkl\n",
      "..\\models\\rev_dict_ml1mDiv80_positive_128_1_100000.pkl\n",
      "0.018071935614768185\n",
      "..\\models\\model_ml1mDiv80_positive_32_5_100000.pkl\n",
      "..\\models\\dictionary_ml1mDiv80_positive_32_5_100000.pkl\n",
      "..\\models\\rev_dict_ml1mDiv80_positive_32_5_100000.pkl\n",
      "0.01958226085031253\n",
      "..\\models\\model_ml1mDiv80_positive_32_3_100000.pkl\n",
      "..\\models\\dictionary_ml1mDiv80_positive_32_3_100000.pkl\n",
      "..\\models\\rev_dict_ml1mDiv80_positive_32_3_100000.pkl\n",
      "0.019638714374648474\n",
      "..\\models\\model_ml1mDiv80_positive_32_1_100000.pkl\n",
      "..\\models\\dictionary_ml1mDiv80_positive_32_1_100000.pkl\n",
      "..\\models\\rev_dict_ml1mDiv80_positive_32_1_100000.pkl\n",
      "0.017915633622680942\n",
      "..\\models\\model_ml1mDiv80_positive_64_5_100000.pkl\n",
      "..\\models\\dictionary_ml1mDiv80_positive_64_5_100000.pkl\n",
      "..\\models\\rev_dict_ml1mDiv80_positive_64_5_100000.pkl\n",
      "0.017897167681321668\n",
      "..\\models\\model_ml1mDiv80_positive_64_3_100000.pkl\n",
      "..\\models\\dictionary_ml1mDiv80_positive_64_3_100000.pkl\n",
      "..\\models\\rev_dict_ml1mDiv80_positive_64_3_100000.pkl\n",
      "0.017327952602376823\n",
      "..\\models\\model_ml1mDiv80_positive_64_1_100000.pkl\n",
      "..\\models\\dictionary_ml1mDiv80_positive_64_1_100000.pkl\n",
      "..\\models\\rev_dict_ml1mDiv80_positive_64_1_100000.pkl\n",
      "0.0168171870187528\n",
      "..\\models\\model_ml1mDiv80_positive_128_5_100000.pkl\n",
      "..\\models\\dictionary_ml1mDiv80_positive_128_5_100000.pkl\n",
      "..\\models\\rev_dict_ml1mDiv80_positive_128_5_100000.pkl\n",
      "0.018104140455229772\n",
      "..\\models\\model_ml1mDiv80_positive_128_3_100000.pkl\n",
      "..\\models\\dictionary_ml1mDiv80_positive_128_3_100000.pkl\n",
      "..\\models\\rev_dict_ml1mDiv80_positive_128_3_100000.pkl\n",
      "0.016772362928140588\n",
      "..\\models\\model_ml1mDiv80_positive_128_1_100000.pkl\n",
      "..\\models\\dictionary_ml1mDiv80_positive_128_1_100000.pkl\n",
      "..\\models\\rev_dict_ml1mDiv80_positive_128_1_100000.pkl\n",
      "0.018071935614768185\n",
      "..\\models\\model_ml1mDiv80_positive_32_5_100000.pkl\n",
      "..\\models\\dictionary_ml1mDiv80_positive_32_5_100000.pkl\n",
      "..\\models\\rev_dict_ml1mDiv80_positive_32_5_100000.pkl\n",
      "0.019405318424028786\n",
      "..\\models\\model_ml1mDiv80_positive_32_3_100000.pkl\n",
      "..\\models\\dictionary_ml1mDiv80_positive_32_3_100000.pkl\n",
      "..\\models\\rev_dict_ml1mDiv80_positive_32_3_100000.pkl\n",
      "0.018811232699878645\n",
      "..\\models\\model_ml1mDiv80_positive_32_1_100000.pkl\n",
      "..\\models\\dictionary_ml1mDiv80_positive_32_1_100000.pkl\n",
      "..\\models\\rev_dict_ml1mDiv80_positive_32_1_100000.pkl\n",
      "0.018183239614003224\n",
      "..\\models\\model_ml1mDiv80_positive_64_5_100000.pkl\n",
      "..\\models\\dictionary_ml1mDiv80_positive_64_5_100000.pkl\n",
      "..\\models\\rev_dict_ml1mDiv80_positive_64_5_100000.pkl\n",
      "0.018985269586469573\n",
      "..\\models\\model_ml1mDiv80_positive_64_3_100000.pkl\n",
      "..\\models\\dictionary_ml1mDiv80_positive_64_3_100000.pkl\n",
      "..\\models\\rev_dict_ml1mDiv80_positive_64_3_100000.pkl\n",
      "0.017326115320402704\n",
      "..\\models\\model_ml1mDiv80_positive_64_1_100000.pkl\n",
      "..\\models\\dictionary_ml1mDiv80_positive_64_1_100000.pkl\n",
      "..\\models\\rev_dict_ml1mDiv80_positive_64_1_100000.pkl\n",
      "0.017571421146802605\n",
      "..\\models\\model_ml1mDiv80_positive_128_5_100000.pkl\n",
      "..\\models\\dictionary_ml1mDiv80_positive_128_5_100000.pkl\n",
      "..\\models\\rev_dict_ml1mDiv80_positive_128_5_100000.pkl\n",
      "0.017231995374185287\n",
      "..\\models\\model_ml1mDiv80_positive_128_3_100000.pkl\n",
      "..\\models\\dictionary_ml1mDiv80_positive_128_3_100000.pkl\n",
      "..\\models\\rev_dict_ml1mDiv80_positive_128_3_100000.pkl\n",
      "0.017438723247879657\n",
      "..\\models\\model_ml1mDiv80_positive_128_1_100000.pkl\n",
      "..\\models\\dictionary_ml1mDiv80_positive_128_1_100000.pkl\n",
      "..\\models\\rev_dict_ml1mDiv80_positive_128_1_100000.pkl\n",
      "0.01907189785832671\n",
      "..\\models\\model_ml1mDiv80_positive_32_5_100000.pkl\n",
      "..\\models\\dictionary_ml1mDiv80_positive_32_5_100000.pkl\n",
      "..\\models\\rev_dict_ml1mDiv80_positive_32_5_100000.pkl\n",
      "0.019065383275910924\n",
      "..\\models\\model_ml1mDiv80_positive_32_3_100000.pkl\n",
      "..\\models\\dictionary_ml1mDiv80_positive_32_3_100000.pkl\n",
      "..\\models\\rev_dict_ml1mDiv80_positive_32_3_100000.pkl\n",
      "0.019559071474038733\n",
      "..\\models\\model_ml1mDiv80_positive_32_1_100000.pkl\n",
      "..\\models\\dictionary_ml1mDiv80_positive_32_1_100000.pkl\n",
      "..\\models\\rev_dict_ml1mDiv80_positive_32_1_100000.pkl\n",
      "0.017556980107431522\n",
      "..\\models\\model_ml1mDiv80_positive_64_5_100000.pkl\n",
      "..\\models\\dictionary_ml1mDiv80_positive_64_5_100000.pkl\n",
      "..\\models\\rev_dict_ml1mDiv80_positive_64_5_100000.pkl\n"
     ]
    },
    {
     "name": "stdout",
     "output_type": "stream",
     "text": [
      "0.017789376919532845\n",
      "..\\models\\model_ml1mDiv80_positive_64_3_100000.pkl\n",
      "..\\models\\dictionary_ml1mDiv80_positive_64_3_100000.pkl\n",
      "..\\models\\rev_dict_ml1mDiv80_positive_64_3_100000.pkl\n",
      "0.016458651705157323\n",
      "..\\models\\model_ml1mDiv80_positive_64_1_100000.pkl\n",
      "..\\models\\dictionary_ml1mDiv80_positive_64_1_100000.pkl\n",
      "..\\models\\rev_dict_ml1mDiv80_positive_64_1_100000.pkl\n",
      "0.015747248828756912\n",
      "..\\models\\model_ml1mDiv80_positive_128_5_100000.pkl\n",
      "..\\models\\dictionary_ml1mDiv80_positive_128_5_100000.pkl\n",
      "..\\models\\rev_dict_ml1mDiv80_positive_128_5_100000.pkl\n",
      "0.016835349070616828\n",
      "..\\models\\model_ml1mDiv80_positive_128_3_100000.pkl\n",
      "..\\models\\dictionary_ml1mDiv80_positive_128_3_100000.pkl\n",
      "..\\models\\rev_dict_ml1mDiv80_positive_128_3_100000.pkl\n",
      "0.01700071930989348\n",
      "..\\models\\model_ml1mDiv80_positive_128_1_100000.pkl\n",
      "..\\models\\dictionary_ml1mDiv80_positive_128_1_100000.pkl\n",
      "..\\models\\rev_dict_ml1mDiv80_positive_128_1_100000.pkl\n",
      "0.01660299963816469\n",
      "..\\models\\model_ml1mDiv80_positive_32_5_100000.pkl\n",
      "..\\models\\dictionary_ml1mDiv80_positive_32_5_100000.pkl\n",
      "..\\models\\rev_dict_ml1mDiv80_positive_32_5_100000.pkl\n",
      "0.01959415541255881\n",
      "..\\models\\model_ml1mDiv80_positive_32_3_100000.pkl\n",
      "..\\models\\dictionary_ml1mDiv80_positive_32_3_100000.pkl\n",
      "..\\models\\rev_dict_ml1mDiv80_positive_32_3_100000.pkl\n",
      "0.02033968030622121\n",
      "..\\models\\model_ml1mDiv80_positive_32_1_100000.pkl\n",
      "..\\models\\dictionary_ml1mDiv80_positive_32_1_100000.pkl\n",
      "..\\models\\rev_dict_ml1mDiv80_positive_32_1_100000.pkl\n",
      "0.01832716812443705\n",
      "..\\models\\model_ml1mDiv80_positive_64_5_100000.pkl\n",
      "..\\models\\dictionary_ml1mDiv80_positive_64_5_100000.pkl\n",
      "..\\models\\rev_dict_ml1mDiv80_positive_64_5_100000.pkl\n",
      "0.019497564227547257\n",
      "..\\models\\model_ml1mDiv80_positive_64_3_100000.pkl\n",
      "..\\models\\dictionary_ml1mDiv80_positive_64_3_100000.pkl\n",
      "..\\models\\rev_dict_ml1mDiv80_positive_64_3_100000.pkl\n",
      "0.01745191790870517\n",
      "..\\models\\model_ml1mDiv80_positive_64_1_100000.pkl\n",
      "..\\models\\dictionary_ml1mDiv80_positive_64_1_100000.pkl\n",
      "..\\models\\rev_dict_ml1mDiv80_positive_64_1_100000.pkl\n",
      "0.017610460681612178\n",
      "..\\models\\model_ml1mDiv80_positive_128_5_100000.pkl\n",
      "..\\models\\dictionary_ml1mDiv80_positive_128_5_100000.pkl\n",
      "..\\models\\rev_dict_ml1mDiv80_positive_128_5_100000.pkl\n",
      "0.016757524923063177\n",
      "..\\models\\model_ml1mDiv80_positive_128_3_100000.pkl\n",
      "..\\models\\dictionary_ml1mDiv80_positive_128_3_100000.pkl\n",
      "..\\models\\rev_dict_ml1mDiv80_positive_128_3_100000.pkl\n",
      "0.01730569845329336\n",
      "..\\models\\model_ml1mDiv80_positive_128_1_100000.pkl\n",
      "..\\models\\dictionary_ml1mDiv80_positive_128_1_100000.pkl\n",
      "..\\models\\rev_dict_ml1mDiv80_positive_128_1_100000.pkl\n",
      "0.018090506877078843\n",
      "..\\models\\model_ml1mDiv80_positive_32_5_100000.pkl\n",
      "..\\models\\dictionary_ml1mDiv80_positive_32_5_100000.pkl\n",
      "..\\models\\rev_dict_ml1mDiv80_positive_32_5_100000.pkl\n",
      "0.020998565112596616\n",
      "..\\models\\model_ml1mDiv80_positive_32_3_100000.pkl\n",
      "..\\models\\dictionary_ml1mDiv80_positive_32_3_100000.pkl\n",
      "..\\models\\rev_dict_ml1mDiv80_positive_32_3_100000.pkl\n",
      "0.021964181093285778\n",
      "..\\models\\model_ml1mDiv80_positive_32_1_100000.pkl\n",
      "..\\models\\dictionary_ml1mDiv80_positive_32_1_100000.pkl\n",
      "..\\models\\rev_dict_ml1mDiv80_positive_32_1_100000.pkl\n",
      "0.018763644192054525\n",
      "..\\models\\model_ml1mDiv80_positive_64_5_100000.pkl\n",
      "..\\models\\dictionary_ml1mDiv80_positive_64_5_100000.pkl\n",
      "..\\models\\rev_dict_ml1mDiv80_positive_64_5_100000.pkl\n",
      "0.021522160690711976\n",
      "..\\models\\model_ml1mDiv80_positive_64_3_100000.pkl\n",
      "..\\models\\dictionary_ml1mDiv80_positive_64_3_100000.pkl\n",
      "..\\models\\rev_dict_ml1mDiv80_positive_64_3_100000.pkl\n",
      "0.018012928873499614\n",
      "..\\models\\model_ml1mDiv80_positive_64_1_100000.pkl\n",
      "..\\models\\dictionary_ml1mDiv80_positive_64_1_100000.pkl\n",
      "..\\models\\rev_dict_ml1mDiv80_positive_64_1_100000.pkl\n",
      "0.017258212158080946\n",
      "..\\models\\model_ml1mDiv80_positive_128_5_100000.pkl\n",
      "..\\models\\dictionary_ml1mDiv80_positive_128_5_100000.pkl\n",
      "..\\models\\rev_dict_ml1mDiv80_positive_128_5_100000.pkl\n",
      "0.01757887102337733\n",
      "..\\models\\model_ml1mDiv80_positive_128_3_100000.pkl\n",
      "..\\models\\dictionary_ml1mDiv80_positive_128_3_100000.pkl\n",
      "..\\models\\rev_dict_ml1mDiv80_positive_128_3_100000.pkl\n",
      "0.017446729221395497\n",
      "..\\models\\model_ml1mDiv80_positive_128_1_100000.pkl\n",
      "..\\models\\dictionary_ml1mDiv80_positive_128_1_100000.pkl\n",
      "..\\models\\rev_dict_ml1mDiv80_positive_128_1_100000.pkl\n",
      "0.01781626583025109\n",
      "..\\models\\model_ml1mDiv80_positive_32_5_100000.pkl\n",
      "..\\models\\dictionary_ml1mDiv80_positive_32_5_100000.pkl\n",
      "..\\models\\rev_dict_ml1mDiv80_positive_32_5_100000.pkl\n",
      "0.017960947651718885\n",
      "..\\models\\model_ml1mDiv80_positive_32_3_100000.pkl\n",
      "..\\models\\dictionary_ml1mDiv80_positive_32_3_100000.pkl\n",
      "..\\models\\rev_dict_ml1mDiv80_positive_32_3_100000.pkl\n",
      "0.019551643359773784\n",
      "..\\models\\model_ml1mDiv80_positive_32_1_100000.pkl\n",
      "..\\models\\dictionary_ml1mDiv80_positive_32_1_100000.pkl\n",
      "..\\models\\rev_dict_ml1mDiv80_positive_32_1_100000.pkl\n",
      "0.016723320389272073\n",
      "..\\models\\model_ml1mDiv80_positive_64_5_100000.pkl\n",
      "..\\models\\dictionary_ml1mDiv80_positive_64_5_100000.pkl\n",
      "..\\models\\rev_dict_ml1mDiv80_positive_64_5_100000.pkl\n",
      "0.01724191543796441\n",
      "..\\models\\model_ml1mDiv80_positive_64_3_100000.pkl\n",
      "..\\models\\dictionary_ml1mDiv80_positive_64_3_100000.pkl\n",
      "..\\models\\rev_dict_ml1mDiv80_positive_64_3_100000.pkl\n",
      "0.01596488211469429\n",
      "..\\models\\model_ml1mDiv80_positive_64_1_100000.pkl\n",
      "..\\models\\dictionary_ml1mDiv80_positive_64_1_100000.pkl\n",
      "..\\models\\rev_dict_ml1mDiv80_positive_64_1_100000.pkl\n",
      "0.015379051901605722\n",
      "..\\models\\model_ml1mDiv80_positive_128_5_100000.pkl\n",
      "..\\models\\dictionary_ml1mDiv80_positive_128_5_100000.pkl\n",
      "..\\models\\rev_dict_ml1mDiv80_positive_128_5_100000.pkl\n",
      "0.016487616333261793\n",
      "..\\models\\model_ml1mDiv80_positive_128_3_100000.pkl\n",
      "..\\models\\dictionary_ml1mDiv80_positive_128_3_100000.pkl\n",
      "..\\models\\rev_dict_ml1mDiv80_positive_128_3_100000.pkl\n",
      "0.016551729560521627\n",
      "..\\models\\model_ml1mDiv80_positive_128_1_100000.pkl\n",
      "..\\models\\dictionary_ml1mDiv80_positive_128_1_100000.pkl\n",
      "..\\models\\rev_dict_ml1mDiv80_positive_128_1_100000.pkl\n",
      "0.0164986633067084\n",
      "..\\models\\model_ml1mDiv80_positive_32_5_100000.pkl\n",
      "..\\models\\dictionary_ml1mDiv80_positive_32_5_100000.pkl\n",
      "..\\models\\rev_dict_ml1mDiv80_positive_32_5_100000.pkl\n",
      "0.02016641108861924\n",
      "..\\models\\model_ml1mDiv80_positive_32_3_100000.pkl\n",
      "..\\models\\dictionary_ml1mDiv80_positive_32_3_100000.pkl\n",
      "..\\models\\rev_dict_ml1mDiv80_positive_32_3_100000.pkl\n",
      "0.02130211201821817\n",
      "..\\models\\model_ml1mDiv80_positive_32_1_100000.pkl\n",
      "..\\models\\dictionary_ml1mDiv80_positive_32_1_100000.pkl\n",
      "..\\models\\rev_dict_ml1mDiv80_positive_32_1_100000.pkl\n",
      "0.01901555363415564\n",
      "..\\models\\model_ml1mDiv80_positive_64_5_100000.pkl\n",
      "..\\models\\dictionary_ml1mDiv80_positive_64_5_100000.pkl\n",
      "..\\models\\rev_dict_ml1mDiv80_positive_64_5_100000.pkl\n",
      "0.021021295084026927\n",
      "..\\models\\model_ml1mDiv80_positive_64_3_100000.pkl\n",
      "..\\models\\dictionary_ml1mDiv80_positive_64_3_100000.pkl\n",
      "..\\models\\rev_dict_ml1mDiv80_positive_64_3_100000.pkl\n",
      "0.017585219477332353\n",
      "..\\models\\model_ml1mDiv80_positive_64_1_100000.pkl\n",
      "..\\models\\dictionary_ml1mDiv80_positive_64_1_100000.pkl\n",
      "..\\models\\rev_dict_ml1mDiv80_positive_64_1_100000.pkl\n",
      "0.017026227511863952\n",
      "..\\models\\model_ml1mDiv80_positive_128_5_100000.pkl\n",
      "..\\models\\dictionary_ml1mDiv80_positive_128_5_100000.pkl\n",
      "..\\models\\rev_dict_ml1mDiv80_positive_128_5_100000.pkl\n",
      "0.01688098021235772\n",
      "..\\models\\model_ml1mDiv80_positive_128_3_100000.pkl\n",
      "..\\models\\dictionary_ml1mDiv80_positive_128_3_100000.pkl\n",
      "..\\models\\rev_dict_ml1mDiv80_positive_128_3_100000.pkl\n",
      "0.017523488605495047\n",
      "..\\models\\model_ml1mDiv80_positive_128_1_100000.pkl\n",
      "..\\models\\dictionary_ml1mDiv80_positive_128_1_100000.pkl\n",
      "..\\models\\rev_dict_ml1mDiv80_positive_128_1_100000.pkl\n",
      "0.01822633059574458\n",
      "..\\models\\model_ml1mDiv80_positive_32_5_100000.pkl\n",
      "..\\models\\dictionary_ml1mDiv80_positive_32_5_100000.pkl\n",
      "..\\models\\rev_dict_ml1mDiv80_positive_32_5_100000.pkl\n",
      "0.02212804123404046\n",
      "..\\models\\model_ml1mDiv80_positive_32_3_100000.pkl\n",
      "..\\models\\dictionary_ml1mDiv80_positive_32_3_100000.pkl\n",
      "..\\models\\rev_dict_ml1mDiv80_positive_32_3_100000.pkl\n",
      "0.022342729646658305\n",
      "..\\models\\model_ml1mDiv80_positive_32_1_100000.pkl\n",
      "..\\models\\dictionary_ml1mDiv80_positive_32_1_100000.pkl\n",
      "..\\models\\rev_dict_ml1mDiv80_positive_32_1_100000.pkl\n",
      "0.02020538374550547\n",
      "..\\models\\model_ml1mDiv80_positive_64_5_100000.pkl\n",
      "..\\models\\dictionary_ml1mDiv80_positive_64_5_100000.pkl\n",
      "..\\models\\rev_dict_ml1mDiv80_positive_64_5_100000.pkl\n"
     ]
    },
    {
     "name": "stdout",
     "output_type": "stream",
     "text": [
      "0.0225717380130601\n",
      "..\\models\\model_ml1mDiv80_positive_64_3_100000.pkl\n",
      "..\\models\\dictionary_ml1mDiv80_positive_64_3_100000.pkl\n",
      "..\\models\\rev_dict_ml1mDiv80_positive_64_3_100000.pkl\n",
      "0.018468546289588276\n",
      "..\\models\\model_ml1mDiv80_positive_64_1_100000.pkl\n",
      "..\\models\\dictionary_ml1mDiv80_positive_64_1_100000.pkl\n",
      "..\\models\\rev_dict_ml1mDiv80_positive_64_1_100000.pkl\n",
      "0.018040413060987224\n",
      "..\\models\\model_ml1mDiv80_positive_128_5_100000.pkl\n",
      "..\\models\\dictionary_ml1mDiv80_positive_128_5_100000.pkl\n",
      "..\\models\\rev_dict_ml1mDiv80_positive_128_5_100000.pkl\n",
      "0.01712201649445566\n",
      "..\\models\\model_ml1mDiv80_positive_128_3_100000.pkl\n",
      "..\\models\\dictionary_ml1mDiv80_positive_128_3_100000.pkl\n",
      "..\\models\\rev_dict_ml1mDiv80_positive_128_3_100000.pkl\n",
      "0.017212986521548537\n",
      "..\\models\\model_ml1mDiv80_positive_128_1_100000.pkl\n",
      "..\\models\\dictionary_ml1mDiv80_positive_128_1_100000.pkl\n",
      "..\\models\\rev_dict_ml1mDiv80_positive_128_1_100000.pkl\n",
      "0.017068233627948938\n",
      "..\\models\\model_ml1mDiv80_positive_32_5_100000.pkl\n",
      "..\\models\\dictionary_ml1mDiv80_positive_32_5_100000.pkl\n",
      "..\\models\\rev_dict_ml1mDiv80_positive_32_5_100000.pkl\n",
      "0.01639293316612779\n",
      "..\\models\\model_ml1mDiv80_positive_32_3_100000.pkl\n",
      "..\\models\\dictionary_ml1mDiv80_positive_32_3_100000.pkl\n",
      "..\\models\\rev_dict_ml1mDiv80_positive_32_3_100000.pkl\n",
      "0.01830791295852844\n",
      "..\\models\\model_ml1mDiv80_positive_32_1_100000.pkl\n",
      "..\\models\\dictionary_ml1mDiv80_positive_32_1_100000.pkl\n",
      "..\\models\\rev_dict_ml1mDiv80_positive_32_1_100000.pkl\n",
      "0.016120171026764323\n",
      "..\\models\\model_ml1mDiv80_positive_64_5_100000.pkl\n",
      "..\\models\\dictionary_ml1mDiv80_positive_64_5_100000.pkl\n",
      "..\\models\\rev_dict_ml1mDiv80_positive_64_5_100000.pkl\n",
      "0.016808771066966197\n",
      "..\\models\\model_ml1mDiv80_positive_64_3_100000.pkl\n",
      "..\\models\\dictionary_ml1mDiv80_positive_64_3_100000.pkl\n",
      "..\\models\\rev_dict_ml1mDiv80_positive_64_3_100000.pkl\n",
      "0.015415732282570507\n",
      "..\\models\\model_ml1mDiv80_positive_64_1_100000.pkl\n",
      "..\\models\\dictionary_ml1mDiv80_positive_64_1_100000.pkl\n",
      "..\\models\\rev_dict_ml1mDiv80_positive_64_1_100000.pkl\n",
      "0.014640872462980596\n",
      "..\\models\\model_ml1mDiv80_positive_128_5_100000.pkl\n",
      "..\\models\\dictionary_ml1mDiv80_positive_128_5_100000.pkl\n",
      "..\\models\\rev_dict_ml1mDiv80_positive_128_5_100000.pkl\n",
      "0.015703587259007643\n",
      "..\\models\\model_ml1mDiv80_positive_128_3_100000.pkl\n",
      "..\\models\\dictionary_ml1mDiv80_positive_128_3_100000.pkl\n",
      "..\\models\\rev_dict_ml1mDiv80_positive_128_3_100000.pkl\n",
      "0.015044090656752508\n",
      "..\\models\\model_ml1mDiv80_positive_128_1_100000.pkl\n",
      "..\\models\\dictionary_ml1mDiv80_positive_128_1_100000.pkl\n",
      "..\\models\\rev_dict_ml1mDiv80_positive_128_1_100000.pkl\n",
      "0.016160942156854232\n",
      "..\\models\\model_ml1mDiv80_positive_32_5_100000.pkl\n",
      "..\\models\\dictionary_ml1mDiv80_positive_32_5_100000.pkl\n",
      "..\\models\\rev_dict_ml1mDiv80_positive_32_5_100000.pkl\n",
      "0.02153152404160713\n",
      "..\\models\\model_ml1mDiv80_positive_32_3_100000.pkl\n",
      "..\\models\\dictionary_ml1mDiv80_positive_32_3_100000.pkl\n",
      "..\\models\\rev_dict_ml1mDiv80_positive_32_3_100000.pkl\n",
      "0.02226111636193872\n",
      "..\\models\\model_ml1mDiv80_positive_32_1_100000.pkl\n",
      "..\\models\\dictionary_ml1mDiv80_positive_32_1_100000.pkl\n",
      "..\\models\\rev_dict_ml1mDiv80_positive_32_1_100000.pkl\n",
      "0.019624526735052113\n",
      "..\\models\\model_ml1mDiv80_positive_64_5_100000.pkl\n",
      "..\\models\\dictionary_ml1mDiv80_positive_64_5_100000.pkl\n",
      "..\\models\\rev_dict_ml1mDiv80_positive_64_5_100000.pkl\n",
      "0.021528932097101654\n",
      "..\\models\\model_ml1mDiv80_positive_64_3_100000.pkl\n",
      "..\\models\\dictionary_ml1mDiv80_positive_64_3_100000.pkl\n",
      "..\\models\\rev_dict_ml1mDiv80_positive_64_3_100000.pkl\n",
      "0.017984118627624654\n",
      "..\\models\\model_ml1mDiv80_positive_64_1_100000.pkl\n",
      "..\\models\\dictionary_ml1mDiv80_positive_64_1_100000.pkl\n",
      "..\\models\\rev_dict_ml1mDiv80_positive_64_1_100000.pkl\n",
      "0.017651379248144427\n",
      "..\\models\\model_ml1mDiv80_positive_128_5_100000.pkl\n",
      "..\\models\\dictionary_ml1mDiv80_positive_128_5_100000.pkl\n",
      "..\\models\\rev_dict_ml1mDiv80_positive_128_5_100000.pkl\n",
      "0.017475288239521942\n",
      "..\\models\\model_ml1mDiv80_positive_128_3_100000.pkl\n",
      "..\\models\\dictionary_ml1mDiv80_positive_128_3_100000.pkl\n",
      "..\\models\\rev_dict_ml1mDiv80_positive_128_3_100000.pkl\n",
      "0.01748642435625809\n",
      "..\\models\\model_ml1mDiv80_positive_128_1_100000.pkl\n",
      "..\\models\\dictionary_ml1mDiv80_positive_128_1_100000.pkl\n",
      "..\\models\\rev_dict_ml1mDiv80_positive_128_1_100000.pkl\n",
      "0.018170321440353555\n",
      "..\\models\\model_ml1mDiv80_positive_32_5_100000.pkl\n",
      "..\\models\\dictionary_ml1mDiv80_positive_32_5_100000.pkl\n",
      "..\\models\\rev_dict_ml1mDiv80_positive_32_5_100000.pkl\n",
      "0.022954123982641596\n",
      "..\\models\\model_ml1mDiv80_positive_32_3_100000.pkl\n",
      "..\\models\\dictionary_ml1mDiv80_positive_32_3_100000.pkl\n",
      "..\\models\\rev_dict_ml1mDiv80_positive_32_3_100000.pkl\n",
      "0.023233150473329498\n",
      "..\\models\\model_ml1mDiv80_positive_32_1_100000.pkl\n",
      "..\\models\\dictionary_ml1mDiv80_positive_32_1_100000.pkl\n",
      "..\\models\\rev_dict_ml1mDiv80_positive_32_1_100000.pkl\n",
      "0.021403893002694373\n",
      "..\\models\\model_ml1mDiv80_positive_64_5_100000.pkl\n",
      "..\\models\\dictionary_ml1mDiv80_positive_64_5_100000.pkl\n",
      "..\\models\\rev_dict_ml1mDiv80_positive_64_5_100000.pkl\n",
      "0.02420116121042959\n",
      "..\\models\\model_ml1mDiv80_positive_64_3_100000.pkl\n",
      "..\\models\\dictionary_ml1mDiv80_positive_64_3_100000.pkl\n",
      "..\\models\\rev_dict_ml1mDiv80_positive_64_3_100000.pkl\n",
      "0.019597689997435448\n",
      "..\\models\\model_ml1mDiv80_positive_64_1_100000.pkl\n",
      "..\\models\\dictionary_ml1mDiv80_positive_64_1_100000.pkl\n",
      "..\\models\\rev_dict_ml1mDiv80_positive_64_1_100000.pkl\n",
      "0.019034795373786884\n",
      "..\\models\\model_ml1mDiv80_positive_128_5_100000.pkl\n",
      "..\\models\\dictionary_ml1mDiv80_positive_128_5_100000.pkl\n",
      "..\\models\\rev_dict_ml1mDiv80_positive_128_5_100000.pkl\n",
      "0.01817922137301668\n",
      "..\\models\\model_ml1mDiv80_positive_128_3_100000.pkl\n",
      "..\\models\\dictionary_ml1mDiv80_positive_128_3_100000.pkl\n",
      "..\\models\\rev_dict_ml1mDiv80_positive_128_3_100000.pkl\n",
      "0.01891598971339196\n",
      "..\\models\\model_ml1mDiv80_positive_128_1_100000.pkl\n",
      "..\\models\\dictionary_ml1mDiv80_positive_128_1_100000.pkl\n",
      "..\\models\\rev_dict_ml1mDiv80_positive_128_1_100000.pkl\n",
      "0.017745046930087178\n",
      "..\\models\\model_ml1mDiv80_positive_32_5_100000.pkl\n",
      "..\\models\\dictionary_ml1mDiv80_positive_32_5_100000.pkl\n",
      "..\\models\\rev_dict_ml1mDiv80_positive_32_5_100000.pkl\n",
      "0.015528503423330672\n",
      "..\\models\\model_ml1mDiv80_positive_32_3_100000.pkl\n",
      "..\\models\\dictionary_ml1mDiv80_positive_32_3_100000.pkl\n",
      "..\\models\\rev_dict_ml1mDiv80_positive_32_3_100000.pkl\n",
      "0.017020924502597734\n",
      "..\\models\\model_ml1mDiv80_positive_32_1_100000.pkl\n",
      "..\\models\\dictionary_ml1mDiv80_positive_32_1_100000.pkl\n",
      "..\\models\\rev_dict_ml1mDiv80_positive_32_1_100000.pkl\n",
      "0.015356404096935262\n",
      "..\\models\\model_ml1mDiv80_positive_64_5_100000.pkl\n",
      "..\\models\\dictionary_ml1mDiv80_positive_64_5_100000.pkl\n",
      "..\\models\\rev_dict_ml1mDiv80_positive_64_5_100000.pkl\n",
      "0.015546895897446152\n",
      "..\\models\\model_ml1mDiv80_positive_64_3_100000.pkl\n",
      "..\\models\\dictionary_ml1mDiv80_positive_64_3_100000.pkl\n",
      "..\\models\\rev_dict_ml1mDiv80_positive_64_3_100000.pkl\n",
      "0.01540418091460996\n",
      "..\\models\\model_ml1mDiv80_positive_64_1_100000.pkl\n",
      "..\\models\\dictionary_ml1mDiv80_positive_64_1_100000.pkl\n",
      "..\\models\\rev_dict_ml1mDiv80_positive_64_1_100000.pkl\n",
      "0.013962765199076336\n",
      "..\\models\\model_ml1mDiv80_positive_128_5_100000.pkl\n",
      "..\\models\\dictionary_ml1mDiv80_positive_128_5_100000.pkl\n",
      "..\\models\\rev_dict_ml1mDiv80_positive_128_5_100000.pkl\n",
      "0.014232448934080188\n",
      "..\\models\\model_ml1mDiv80_positive_128_3_100000.pkl\n",
      "..\\models\\dictionary_ml1mDiv80_positive_128_3_100000.pkl\n",
      "..\\models\\rev_dict_ml1mDiv80_positive_128_3_100000.pkl\n",
      "0.013943809825333085\n",
      "..\\models\\model_ml1mDiv80_positive_128_1_100000.pkl\n",
      "..\\models\\dictionary_ml1mDiv80_positive_128_1_100000.pkl\n",
      "..\\models\\rev_dict_ml1mDiv80_positive_128_1_100000.pkl\n",
      "0.014629450021082763\n",
      "..\\models\\model_ml1mDiv80_positive_32_5_100000.pkl\n",
      "..\\models\\dictionary_ml1mDiv80_positive_32_5_100000.pkl\n",
      "..\\models\\rev_dict_ml1mDiv80_positive_32_5_100000.pkl\n",
      "0.02201888438737073\n",
      "..\\models\\model_ml1mDiv80_positive_32_3_100000.pkl\n",
      "..\\models\\dictionary_ml1mDiv80_positive_32_3_100000.pkl\n",
      "..\\models\\rev_dict_ml1mDiv80_positive_32_3_100000.pkl\n",
      "0.02225781555119618\n",
      "..\\models\\model_ml1mDiv80_positive_32_1_100000.pkl\n",
      "..\\models\\dictionary_ml1mDiv80_positive_32_1_100000.pkl\n",
      "..\\models\\rev_dict_ml1mDiv80_positive_32_1_100000.pkl\n",
      "0.020809744371029067\n",
      "..\\models\\model_ml1mDiv80_positive_64_5_100000.pkl\n",
      "..\\models\\dictionary_ml1mDiv80_positive_64_5_100000.pkl\n",
      "..\\models\\rev_dict_ml1mDiv80_positive_64_5_100000.pkl\n"
     ]
    },
    {
     "name": "stdout",
     "output_type": "stream",
     "text": [
      "0.022932715093065725\n",
      "..\\models\\model_ml1mDiv80_positive_64_3_100000.pkl\n",
      "..\\models\\dictionary_ml1mDiv80_positive_64_3_100000.pkl\n",
      "..\\models\\rev_dict_ml1mDiv80_positive_64_3_100000.pkl\n",
      "0.019280013606462917\n",
      "..\\models\\model_ml1mDiv80_positive_64_1_100000.pkl\n",
      "..\\models\\dictionary_ml1mDiv80_positive_64_1_100000.pkl\n",
      "..\\models\\rev_dict_ml1mDiv80_positive_64_1_100000.pkl\n",
      "0.01811677901394339\n",
      "..\\models\\model_ml1mDiv80_positive_128_5_100000.pkl\n",
      "..\\models\\dictionary_ml1mDiv80_positive_128_5_100000.pkl\n",
      "..\\models\\rev_dict_ml1mDiv80_positive_128_5_100000.pkl\n",
      "0.018065822763092515\n",
      "..\\models\\model_ml1mDiv80_positive_128_3_100000.pkl\n",
      "..\\models\\dictionary_ml1mDiv80_positive_128_3_100000.pkl\n",
      "..\\models\\rev_dict_ml1mDiv80_positive_128_3_100000.pkl\n",
      "0.017847582210305357\n",
      "..\\models\\model_ml1mDiv80_positive_128_1_100000.pkl\n",
      "..\\models\\dictionary_ml1mDiv80_positive_128_1_100000.pkl\n",
      "..\\models\\rev_dict_ml1mDiv80_positive_128_1_100000.pkl\n",
      "0.018780873003955\n",
      "..\\models\\model_ml1mDiv80_positive_32_5_200000.pkl\n",
      "..\\models\\dictionary_ml1mDiv80_positive_32_5_200000.pkl\n",
      "..\\models\\rev_dict_ml1mDiv80_positive_32_5_200000.pkl\n",
      "0.02311273070763499\n",
      "..\\models\\model_ml1mDiv80_positive_32_3_200000.pkl\n",
      "..\\models\\dictionary_ml1mDiv80_positive_32_3_200000.pkl\n",
      "..\\models\\rev_dict_ml1mDiv80_positive_32_3_200000.pkl\n",
      "0.024827497514681728\n",
      "..\\models\\model_ml1mDiv80_positive_32_1_200000.pkl\n",
      "..\\models\\dictionary_ml1mDiv80_positive_32_1_200000.pkl\n",
      "..\\models\\rev_dict_ml1mDiv80_positive_32_1_200000.pkl\n",
      "0.017161793129292665\n",
      "..\\models\\model_ml1mDiv80_positive_64_5_200000.pkl\n",
      "..\\models\\dictionary_ml1mDiv80_positive_64_5_200000.pkl\n",
      "..\\models\\rev_dict_ml1mDiv80_positive_64_5_200000.pkl\n",
      "0.021684820645948344\n",
      "..\\models\\model_ml1mDiv80_positive_64_3_200000.pkl\n",
      "..\\models\\dictionary_ml1mDiv80_positive_64_3_200000.pkl\n",
      "..\\models\\rev_dict_ml1mDiv80_positive_64_3_200000.pkl\n",
      "0.024678916496603316\n",
      "..\\models\\model_ml1mDiv80_positive_64_1_200000.pkl\n",
      "..\\models\\dictionary_ml1mDiv80_positive_64_1_200000.pkl\n",
      "..\\models\\rev_dict_ml1mDiv80_positive_64_1_200000.pkl\n",
      "0.01698286606991004\n",
      "..\\models\\model_ml1mDiv80_positive_128_5_200000.pkl\n",
      "..\\models\\dictionary_ml1mDiv80_positive_128_5_200000.pkl\n",
      "..\\models\\rev_dict_ml1mDiv80_positive_128_5_200000.pkl\n",
      "0.022035119254973663\n",
      "..\\models\\model_ml1mDiv80_positive_128_3_200000.pkl\n",
      "..\\models\\dictionary_ml1mDiv80_positive_128_3_200000.pkl\n",
      "..\\models\\rev_dict_ml1mDiv80_positive_128_3_200000.pkl\n",
      "0.023159295477147544\n",
      "..\\models\\model_ml1mDiv80_positive_128_1_200000.pkl\n",
      "..\\models\\dictionary_ml1mDiv80_positive_128_1_200000.pkl\n",
      "..\\models\\rev_dict_ml1mDiv80_positive_128_1_200000.pkl\n",
      "0.017722217441975677\n",
      "..\\models\\model_ml1mDiv80_positive_32_5_200000.pkl\n",
      "..\\models\\dictionary_ml1mDiv80_positive_32_5_200000.pkl\n",
      "..\\models\\rev_dict_ml1mDiv80_positive_32_5_200000.pkl\n",
      "0.011212914329755417\n",
      "..\\models\\model_ml1mDiv80_positive_32_3_200000.pkl\n",
      "..\\models\\dictionary_ml1mDiv80_positive_32_3_200000.pkl\n",
      "..\\models\\rev_dict_ml1mDiv80_positive_32_3_200000.pkl\n",
      "0.011412017089722672\n",
      "..\\models\\model_ml1mDiv80_positive_32_1_200000.pkl\n",
      "..\\models\\dictionary_ml1mDiv80_positive_32_1_200000.pkl\n",
      "..\\models\\rev_dict_ml1mDiv80_positive_32_1_200000.pkl\n",
      "0.011003200219464037\n",
      "..\\models\\model_ml1mDiv80_positive_64_5_200000.pkl\n",
      "..\\models\\dictionary_ml1mDiv80_positive_64_5_200000.pkl\n",
      "..\\models\\rev_dict_ml1mDiv80_positive_64_5_200000.pkl\n",
      "0.010915722170919606\n",
      "..\\models\\model_ml1mDiv80_positive_64_3_200000.pkl\n",
      "..\\models\\dictionary_ml1mDiv80_positive_64_3_200000.pkl\n",
      "..\\models\\rev_dict_ml1mDiv80_positive_64_3_200000.pkl\n",
      "0.011276569507075358\n",
      "..\\models\\model_ml1mDiv80_positive_64_1_200000.pkl\n",
      "..\\models\\dictionary_ml1mDiv80_positive_64_1_200000.pkl\n",
      "..\\models\\rev_dict_ml1mDiv80_positive_64_1_200000.pkl\n",
      "0.01092036113104091\n",
      "..\\models\\model_ml1mDiv80_positive_128_5_200000.pkl\n",
      "..\\models\\dictionary_ml1mDiv80_positive_128_5_200000.pkl\n",
      "..\\models\\rev_dict_ml1mDiv80_positive_128_5_200000.pkl\n",
      "0.010830211045868584\n",
      "..\\models\\model_ml1mDiv80_positive_128_3_200000.pkl\n",
      "..\\models\\dictionary_ml1mDiv80_positive_128_3_200000.pkl\n",
      "..\\models\\rev_dict_ml1mDiv80_positive_128_3_200000.pkl\n",
      "0.01084025469976674\n",
      "..\\models\\model_ml1mDiv80_positive_128_1_200000.pkl\n",
      "..\\models\\dictionary_ml1mDiv80_positive_128_1_200000.pkl\n",
      "..\\models\\rev_dict_ml1mDiv80_positive_128_1_200000.pkl\n",
      "0.01090555241268485\n",
      "..\\models\\model_ml1mDiv80_positive_32_5_200000.pkl\n",
      "..\\models\\dictionary_ml1mDiv80_positive_32_5_200000.pkl\n",
      "..\\models\\rev_dict_ml1mDiv80_positive_32_5_200000.pkl\n",
      "0.022697691618422226\n",
      "..\\models\\model_ml1mDiv80_positive_32_3_200000.pkl\n",
      "..\\models\\dictionary_ml1mDiv80_positive_32_3_200000.pkl\n",
      "..\\models\\rev_dict_ml1mDiv80_positive_32_3_200000.pkl\n",
      "0.024542490245749917\n",
      "..\\models\\model_ml1mDiv80_positive_32_1_200000.pkl\n",
      "..\\models\\dictionary_ml1mDiv80_positive_32_1_200000.pkl\n",
      "..\\models\\rev_dict_ml1mDiv80_positive_32_1_200000.pkl\n",
      "0.01616115025380615\n",
      "..\\models\\model_ml1mDiv80_positive_64_5_200000.pkl\n",
      "..\\models\\dictionary_ml1mDiv80_positive_64_5_200000.pkl\n",
      "..\\models\\rev_dict_ml1mDiv80_positive_64_5_200000.pkl\n",
      "0.021305732949098787\n",
      "..\\models\\model_ml1mDiv80_positive_64_3_200000.pkl\n",
      "..\\models\\dictionary_ml1mDiv80_positive_64_3_200000.pkl\n",
      "..\\models\\rev_dict_ml1mDiv80_positive_64_3_200000.pkl\n",
      "0.02394854278859921\n",
      "..\\models\\model_ml1mDiv80_positive_64_1_200000.pkl\n",
      "..\\models\\dictionary_ml1mDiv80_positive_64_1_200000.pkl\n",
      "..\\models\\rev_dict_ml1mDiv80_positive_64_1_200000.pkl\n",
      "0.016231678117845764\n",
      "..\\models\\model_ml1mDiv80_positive_128_5_200000.pkl\n",
      "..\\models\\dictionary_ml1mDiv80_positive_128_5_200000.pkl\n",
      "..\\models\\rev_dict_ml1mDiv80_positive_128_5_200000.pkl\n",
      "0.02074472828181764\n",
      "..\\models\\model_ml1mDiv80_positive_128_3_200000.pkl\n",
      "..\\models\\dictionary_ml1mDiv80_positive_128_3_200000.pkl\n",
      "..\\models\\rev_dict_ml1mDiv80_positive_128_3_200000.pkl\n",
      "0.02195729459828122\n",
      "..\\models\\model_ml1mDiv80_positive_128_1_200000.pkl\n",
      "..\\models\\dictionary_ml1mDiv80_positive_128_1_200000.pkl\n",
      "..\\models\\rev_dict_ml1mDiv80_positive_128_1_200000.pkl\n",
      "0.0184875029310383\n",
      "..\\models\\model_ml1mDiv80_positive_32_5_200000.pkl\n",
      "..\\models\\dictionary_ml1mDiv80_positive_32_5_200000.pkl\n",
      "..\\models\\rev_dict_ml1mDiv80_positive_32_5_200000.pkl\n",
      "0.018275461601611913\n",
      "..\\models\\model_ml1mDiv80_positive_32_3_200000.pkl\n",
      "..\\models\\dictionary_ml1mDiv80_positive_32_3_200000.pkl\n",
      "..\\models\\rev_dict_ml1mDiv80_positive_32_3_200000.pkl\n",
      "0.01928697724097537\n",
      "..\\models\\model_ml1mDiv80_positive_32_1_200000.pkl\n",
      "..\\models\\dictionary_ml1mDiv80_positive_32_1_200000.pkl\n",
      "..\\models\\rev_dict_ml1mDiv80_positive_32_1_200000.pkl\n",
      "0.01875281586337179\n",
      "..\\models\\model_ml1mDiv80_positive_64_5_200000.pkl\n",
      "..\\models\\dictionary_ml1mDiv80_positive_64_5_200000.pkl\n",
      "..\\models\\rev_dict_ml1mDiv80_positive_64_5_200000.pkl\n",
      "0.016850108420277097\n",
      "..\\models\\model_ml1mDiv80_positive_64_3_200000.pkl\n",
      "..\\models\\dictionary_ml1mDiv80_positive_64_3_200000.pkl\n",
      "..\\models\\rev_dict_ml1mDiv80_positive_64_3_200000.pkl\n",
      "0.01630575823217312\n",
      "..\\models\\model_ml1mDiv80_positive_64_1_200000.pkl\n",
      "..\\models\\dictionary_ml1mDiv80_positive_64_1_200000.pkl\n",
      "..\\models\\rev_dict_ml1mDiv80_positive_64_1_200000.pkl\n",
      "0.016505220752590477\n",
      "..\\models\\model_ml1mDiv80_positive_128_5_200000.pkl\n",
      "..\\models\\dictionary_ml1mDiv80_positive_128_5_200000.pkl\n",
      "..\\models\\rev_dict_ml1mDiv80_positive_128_5_200000.pkl\n",
      "0.01759309083776763\n",
      "..\\models\\model_ml1mDiv80_positive_128_3_200000.pkl\n",
      "..\\models\\dictionary_ml1mDiv80_positive_128_3_200000.pkl\n",
      "..\\models\\rev_dict_ml1mDiv80_positive_128_3_200000.pkl\n",
      "0.01626693424607024\n",
      "..\\models\\model_ml1mDiv80_positive_128_1_200000.pkl\n",
      "..\\models\\dictionary_ml1mDiv80_positive_128_1_200000.pkl\n",
      "..\\models\\rev_dict_ml1mDiv80_positive_128_1_200000.pkl\n",
      "0.01625563249705189\n",
      "..\\models\\model_ml1mDiv80_positive_32_5_200000.pkl\n",
      "..\\models\\dictionary_ml1mDiv80_positive_32_5_200000.pkl\n",
      "..\\models\\rev_dict_ml1mDiv80_positive_32_5_200000.pkl\n",
      "0.018275461601611913\n",
      "..\\models\\model_ml1mDiv80_positive_32_3_200000.pkl\n",
      "..\\models\\dictionary_ml1mDiv80_positive_32_3_200000.pkl\n",
      "..\\models\\rev_dict_ml1mDiv80_positive_32_3_200000.pkl\n",
      "0.01928697724097537\n",
      "..\\models\\model_ml1mDiv80_positive_32_1_200000.pkl\n",
      "..\\models\\dictionary_ml1mDiv80_positive_32_1_200000.pkl\n",
      "..\\models\\rev_dict_ml1mDiv80_positive_32_1_200000.pkl\n",
      "0.01875281586337179\n",
      "..\\models\\model_ml1mDiv80_positive_64_5_200000.pkl\n",
      "..\\models\\dictionary_ml1mDiv80_positive_64_5_200000.pkl\n",
      "..\\models\\rev_dict_ml1mDiv80_positive_64_5_200000.pkl\n"
     ]
    },
    {
     "name": "stdout",
     "output_type": "stream",
     "text": [
      "0.016850108420277097\n",
      "..\\models\\model_ml1mDiv80_positive_64_3_200000.pkl\n",
      "..\\models\\dictionary_ml1mDiv80_positive_64_3_200000.pkl\n",
      "..\\models\\rev_dict_ml1mDiv80_positive_64_3_200000.pkl\n",
      "0.01630575823217312\n",
      "..\\models\\model_ml1mDiv80_positive_64_1_200000.pkl\n",
      "..\\models\\dictionary_ml1mDiv80_positive_64_1_200000.pkl\n",
      "..\\models\\rev_dict_ml1mDiv80_positive_64_1_200000.pkl\n",
      "0.016505220752590477\n",
      "..\\models\\model_ml1mDiv80_positive_128_5_200000.pkl\n",
      "..\\models\\dictionary_ml1mDiv80_positive_128_5_200000.pkl\n",
      "..\\models\\rev_dict_ml1mDiv80_positive_128_5_200000.pkl\n",
      "0.01759309083776763\n",
      "..\\models\\model_ml1mDiv80_positive_128_3_200000.pkl\n",
      "..\\models\\dictionary_ml1mDiv80_positive_128_3_200000.pkl\n",
      "..\\models\\rev_dict_ml1mDiv80_positive_128_3_200000.pkl\n",
      "0.01626693424607024\n",
      "..\\models\\model_ml1mDiv80_positive_128_1_200000.pkl\n",
      "..\\models\\dictionary_ml1mDiv80_positive_128_1_200000.pkl\n",
      "..\\models\\rev_dict_ml1mDiv80_positive_128_1_200000.pkl\n",
      "0.01625563249705189\n",
      "..\\models\\model_ml1mDiv80_positive_32_5_200000.pkl\n",
      "..\\models\\dictionary_ml1mDiv80_positive_32_5_200000.pkl\n",
      "..\\models\\rev_dict_ml1mDiv80_positive_32_5_200000.pkl\n",
      "0.018275461601611913\n",
      "..\\models\\model_ml1mDiv80_positive_32_3_200000.pkl\n",
      "..\\models\\dictionary_ml1mDiv80_positive_32_3_200000.pkl\n",
      "..\\models\\rev_dict_ml1mDiv80_positive_32_3_200000.pkl\n",
      "0.01928697724097537\n",
      "..\\models\\model_ml1mDiv80_positive_32_1_200000.pkl\n",
      "..\\models\\dictionary_ml1mDiv80_positive_32_1_200000.pkl\n",
      "..\\models\\rev_dict_ml1mDiv80_positive_32_1_200000.pkl\n",
      "0.01875281586337179\n",
      "..\\models\\model_ml1mDiv80_positive_64_5_200000.pkl\n",
      "..\\models\\dictionary_ml1mDiv80_positive_64_5_200000.pkl\n",
      "..\\models\\rev_dict_ml1mDiv80_positive_64_5_200000.pkl\n",
      "0.016850108420277097\n",
      "..\\models\\model_ml1mDiv80_positive_64_3_200000.pkl\n",
      "..\\models\\dictionary_ml1mDiv80_positive_64_3_200000.pkl\n",
      "..\\models\\rev_dict_ml1mDiv80_positive_64_3_200000.pkl\n",
      "0.01630575823217312\n",
      "..\\models\\model_ml1mDiv80_positive_64_1_200000.pkl\n",
      "..\\models\\dictionary_ml1mDiv80_positive_64_1_200000.pkl\n",
      "..\\models\\rev_dict_ml1mDiv80_positive_64_1_200000.pkl\n",
      "0.016505220752590477\n",
      "..\\models\\model_ml1mDiv80_positive_128_5_200000.pkl\n",
      "..\\models\\dictionary_ml1mDiv80_positive_128_5_200000.pkl\n",
      "..\\models\\rev_dict_ml1mDiv80_positive_128_5_200000.pkl\n",
      "0.01759309083776763\n",
      "..\\models\\model_ml1mDiv80_positive_128_3_200000.pkl\n",
      "..\\models\\dictionary_ml1mDiv80_positive_128_3_200000.pkl\n",
      "..\\models\\rev_dict_ml1mDiv80_positive_128_3_200000.pkl\n",
      "0.01626693424607024\n",
      "..\\models\\model_ml1mDiv80_positive_128_1_200000.pkl\n",
      "..\\models\\dictionary_ml1mDiv80_positive_128_1_200000.pkl\n",
      "..\\models\\rev_dict_ml1mDiv80_positive_128_1_200000.pkl\n",
      "0.01625563249705189\n",
      "..\\models\\model_ml1mDiv80_positive_32_5_200000.pkl\n",
      "..\\models\\dictionary_ml1mDiv80_positive_32_5_200000.pkl\n",
      "..\\models\\rev_dict_ml1mDiv80_positive_32_5_200000.pkl\n",
      "0.019393907456797598\n",
      "..\\models\\model_ml1mDiv80_positive_32_3_200000.pkl\n",
      "..\\models\\dictionary_ml1mDiv80_positive_32_3_200000.pkl\n",
      "..\\models\\rev_dict_ml1mDiv80_positive_32_3_200000.pkl\n",
      "0.01934324716140779\n",
      "..\\models\\model_ml1mDiv80_positive_32_1_200000.pkl\n",
      "..\\models\\dictionary_ml1mDiv80_positive_32_1_200000.pkl\n",
      "..\\models\\rev_dict_ml1mDiv80_positive_32_1_200000.pkl\n",
      "0.016822855898776346\n",
      "..\\models\\model_ml1mDiv80_positive_64_5_200000.pkl\n",
      "..\\models\\dictionary_ml1mDiv80_positive_64_5_200000.pkl\n",
      "..\\models\\rev_dict_ml1mDiv80_positive_64_5_200000.pkl\n",
      "0.016468087782195148\n",
      "..\\models\\model_ml1mDiv80_positive_64_3_200000.pkl\n",
      "..\\models\\dictionary_ml1mDiv80_positive_64_3_200000.pkl\n",
      "..\\models\\rev_dict_ml1mDiv80_positive_64_3_200000.pkl\n",
      "0.015984108891864177\n",
      "..\\models\\model_ml1mDiv80_positive_64_1_200000.pkl\n",
      "..\\models\\dictionary_ml1mDiv80_positive_64_1_200000.pkl\n",
      "..\\models\\rev_dict_ml1mDiv80_positive_64_1_200000.pkl\n",
      "0.016880718915872353\n",
      "..\\models\\model_ml1mDiv80_positive_128_5_200000.pkl\n",
      "..\\models\\dictionary_ml1mDiv80_positive_128_5_200000.pkl\n",
      "..\\models\\rev_dict_ml1mDiv80_positive_128_5_200000.pkl\n",
      "0.015953663222503498\n",
      "..\\models\\model_ml1mDiv80_positive_128_3_200000.pkl\n",
      "..\\models\\dictionary_ml1mDiv80_positive_128_3_200000.pkl\n",
      "..\\models\\rev_dict_ml1mDiv80_positive_128_3_200000.pkl\n",
      "0.015911350495264844\n",
      "..\\models\\model_ml1mDiv80_positive_128_1_200000.pkl\n",
      "..\\models\\dictionary_ml1mDiv80_positive_128_1_200000.pkl\n",
      "..\\models\\rev_dict_ml1mDiv80_positive_128_1_200000.pkl\n",
      "0.017186534046630196\n",
      "..\\models\\model_ml1mDiv80_positive_32_5_200000.pkl\n",
      "..\\models\\dictionary_ml1mDiv80_positive_32_5_200000.pkl\n",
      "..\\models\\rev_dict_ml1mDiv80_positive_32_5_200000.pkl\n",
      "0.018140776741687674\n",
      "..\\models\\model_ml1mDiv80_positive_32_3_200000.pkl\n",
      "..\\models\\dictionary_ml1mDiv80_positive_32_3_200000.pkl\n",
      "..\\models\\rev_dict_ml1mDiv80_positive_32_3_200000.pkl\n",
      "0.018072124465738772\n",
      "..\\models\\model_ml1mDiv80_positive_32_1_200000.pkl\n",
      "..\\models\\dictionary_ml1mDiv80_positive_32_1_200000.pkl\n",
      "..\\models\\rev_dict_ml1mDiv80_positive_32_1_200000.pkl\n",
      "0.016973067038416126\n",
      "..\\models\\model_ml1mDiv80_positive_64_5_200000.pkl\n",
      "..\\models\\dictionary_ml1mDiv80_positive_64_5_200000.pkl\n",
      "..\\models\\rev_dict_ml1mDiv80_positive_64_5_200000.pkl\n",
      "0.015683648143157418\n",
      "..\\models\\model_ml1mDiv80_positive_64_3_200000.pkl\n",
      "..\\models\\dictionary_ml1mDiv80_positive_64_3_200000.pkl\n",
      "..\\models\\rev_dict_ml1mDiv80_positive_64_3_200000.pkl\n",
      "0.015475514400872843\n",
      "..\\models\\model_ml1mDiv80_positive_64_1_200000.pkl\n",
      "..\\models\\dictionary_ml1mDiv80_positive_64_1_200000.pkl\n",
      "..\\models\\rev_dict_ml1mDiv80_positive_64_1_200000.pkl\n",
      "0.01547837400923203\n",
      "..\\models\\model_ml1mDiv80_positive_128_5_200000.pkl\n",
      "..\\models\\dictionary_ml1mDiv80_positive_128_5_200000.pkl\n",
      "..\\models\\rev_dict_ml1mDiv80_positive_128_5_200000.pkl\n",
      "0.016216920568890254\n",
      "..\\models\\model_ml1mDiv80_positive_128_3_200000.pkl\n",
      "..\\models\\dictionary_ml1mDiv80_positive_128_3_200000.pkl\n",
      "..\\models\\rev_dict_ml1mDiv80_positive_128_3_200000.pkl\n",
      "0.015137019995277159\n",
      "..\\models\\model_ml1mDiv80_positive_128_1_200000.pkl\n",
      "..\\models\\dictionary_ml1mDiv80_positive_128_1_200000.pkl\n",
      "..\\models\\rev_dict_ml1mDiv80_positive_128_1_200000.pkl\n",
      "0.015151464686006613\n",
      "..\\models\\model_ml1mDiv80_positive_32_5_200000.pkl\n",
      "..\\models\\dictionary_ml1mDiv80_positive_32_5_200000.pkl\n",
      "..\\models\\rev_dict_ml1mDiv80_positive_32_5_200000.pkl\n",
      "0.01907717255158807\n",
      "..\\models\\model_ml1mDiv80_positive_32_3_200000.pkl\n",
      "..\\models\\dictionary_ml1mDiv80_positive_32_3_200000.pkl\n",
      "..\\models\\rev_dict_ml1mDiv80_positive_32_3_200000.pkl\n",
      "0.019777657591460888\n",
      "..\\models\\model_ml1mDiv80_positive_32_1_200000.pkl\n",
      "..\\models\\dictionary_ml1mDiv80_positive_32_1_200000.pkl\n",
      "..\\models\\rev_dict_ml1mDiv80_positive_32_1_200000.pkl\n",
      "0.01657173372861258\n",
      "..\\models\\model_ml1mDiv80_positive_64_5_200000.pkl\n",
      "..\\models\\dictionary_ml1mDiv80_positive_64_5_200000.pkl\n",
      "..\\models\\rev_dict_ml1mDiv80_positive_64_5_200000.pkl\n",
      "0.01620090604858493\n",
      "..\\models\\model_ml1mDiv80_positive_64_3_200000.pkl\n",
      "..\\models\\dictionary_ml1mDiv80_positive_64_3_200000.pkl\n",
      "..\\models\\rev_dict_ml1mDiv80_positive_64_3_200000.pkl\n",
      "0.015631509840236556\n",
      "..\\models\\model_ml1mDiv80_positive_64_1_200000.pkl\n",
      "..\\models\\dictionary_ml1mDiv80_positive_64_1_200000.pkl\n",
      "..\\models\\rev_dict_ml1mDiv80_positive_64_1_200000.pkl\n",
      "0.01720017242973156\n",
      "..\\models\\model_ml1mDiv80_positive_128_5_200000.pkl\n",
      "..\\models\\dictionary_ml1mDiv80_positive_128_5_200000.pkl\n",
      "..\\models\\rev_dict_ml1mDiv80_positive_128_5_200000.pkl\n",
      "0.01660433949007209\n",
      "..\\models\\model_ml1mDiv80_positive_128_3_200000.pkl\n",
      "..\\models\\dictionary_ml1mDiv80_positive_128_3_200000.pkl\n",
      "..\\models\\rev_dict_ml1mDiv80_positive_128_3_200000.pkl\n",
      "0.01580816994281131\n",
      "..\\models\\model_ml1mDiv80_positive_128_1_200000.pkl\n",
      "..\\models\\dictionary_ml1mDiv80_positive_128_1_200000.pkl\n",
      "..\\models\\rev_dict_ml1mDiv80_positive_128_1_200000.pkl\n",
      "0.016852275534461905\n",
      "..\\models\\model_ml1mDiv80_positive_32_5_200000.pkl\n",
      "..\\models\\dictionary_ml1mDiv80_positive_32_5_200000.pkl\n",
      "..\\models\\rev_dict_ml1mDiv80_positive_32_5_200000.pkl\n",
      "0.020339953451415517\n",
      "..\\models\\model_ml1mDiv80_positive_32_3_200000.pkl\n",
      "..\\models\\dictionary_ml1mDiv80_positive_32_3_200000.pkl\n",
      "..\\models\\rev_dict_ml1mDiv80_positive_32_3_200000.pkl\n",
      "0.020708893635039295\n",
      "..\\models\\model_ml1mDiv80_positive_32_1_200000.pkl\n",
      "..\\models\\dictionary_ml1mDiv80_positive_32_1_200000.pkl\n",
      "..\\models\\rev_dict_ml1mDiv80_positive_32_1_200000.pkl\n",
      "0.01737878897930124\n",
      "..\\models\\model_ml1mDiv80_positive_64_5_200000.pkl\n",
      "..\\models\\dictionary_ml1mDiv80_positive_64_5_200000.pkl\n",
      "..\\models\\rev_dict_ml1mDiv80_positive_64_5_200000.pkl\n"
     ]
    },
    {
     "name": "stdout",
     "output_type": "stream",
     "text": [
      "0.016572362545166967\n",
      "..\\models\\model_ml1mDiv80_positive_64_3_200000.pkl\n",
      "..\\models\\dictionary_ml1mDiv80_positive_64_3_200000.pkl\n",
      "..\\models\\rev_dict_ml1mDiv80_positive_64_3_200000.pkl\n",
      "0.016510974245907646\n",
      "..\\models\\model_ml1mDiv80_positive_64_1_200000.pkl\n",
      "..\\models\\dictionary_ml1mDiv80_positive_64_1_200000.pkl\n",
      "..\\models\\rev_dict_ml1mDiv80_positive_64_1_200000.pkl\n",
      "0.015458671076840643\n",
      "..\\models\\model_ml1mDiv80_positive_128_5_200000.pkl\n",
      "..\\models\\dictionary_ml1mDiv80_positive_128_5_200000.pkl\n",
      "..\\models\\rev_dict_ml1mDiv80_positive_128_5_200000.pkl\n",
      "0.014835330752607801\n",
      "..\\models\\model_ml1mDiv80_positive_128_3_200000.pkl\n",
      "..\\models\\dictionary_ml1mDiv80_positive_128_3_200000.pkl\n",
      "..\\models\\rev_dict_ml1mDiv80_positive_128_3_200000.pkl\n",
      "0.016283395710889395\n",
      "..\\models\\model_ml1mDiv80_positive_128_1_200000.pkl\n",
      "..\\models\\dictionary_ml1mDiv80_positive_128_1_200000.pkl\n",
      "..\\models\\rev_dict_ml1mDiv80_positive_128_1_200000.pkl\n",
      "0.01659428492840284\n",
      "..\\models\\model_ml1mDiv80_positive_32_5_200000.pkl\n",
      "..\\models\\dictionary_ml1mDiv80_positive_32_5_200000.pkl\n",
      "..\\models\\rev_dict_ml1mDiv80_positive_32_5_200000.pkl\n",
      "0.017396986911080072\n",
      "..\\models\\model_ml1mDiv80_positive_32_3_200000.pkl\n",
      "..\\models\\dictionary_ml1mDiv80_positive_32_3_200000.pkl\n",
      "..\\models\\rev_dict_ml1mDiv80_positive_32_3_200000.pkl\n",
      "0.01679444408664354\n",
      "..\\models\\model_ml1mDiv80_positive_32_1_200000.pkl\n",
      "..\\models\\dictionary_ml1mDiv80_positive_32_1_200000.pkl\n",
      "..\\models\\rev_dict_ml1mDiv80_positive_32_1_200000.pkl\n",
      "0.01623817739400492\n",
      "..\\models\\model_ml1mDiv80_positive_64_5_200000.pkl\n",
      "..\\models\\dictionary_ml1mDiv80_positive_64_5_200000.pkl\n",
      "..\\models\\rev_dict_ml1mDiv80_positive_64_5_200000.pkl\n",
      "0.014742096787554407\n",
      "..\\models\\model_ml1mDiv80_positive_64_3_200000.pkl\n",
      "..\\models\\dictionary_ml1mDiv80_positive_64_3_200000.pkl\n",
      "..\\models\\rev_dict_ml1mDiv80_positive_64_3_200000.pkl\n",
      "0.014805263896274673\n",
      "..\\models\\model_ml1mDiv80_positive_64_1_200000.pkl\n",
      "..\\models\\dictionary_ml1mDiv80_positive_64_1_200000.pkl\n",
      "..\\models\\rev_dict_ml1mDiv80_positive_64_1_200000.pkl\n",
      "0.014592920464852718\n",
      "..\\models\\model_ml1mDiv80_positive_128_5_200000.pkl\n",
      "..\\models\\dictionary_ml1mDiv80_positive_128_5_200000.pkl\n",
      "..\\models\\rev_dict_ml1mDiv80_positive_128_5_200000.pkl\n",
      "0.01472542939119734\n",
      "..\\models\\model_ml1mDiv80_positive_128_3_200000.pkl\n",
      "..\\models\\dictionary_ml1mDiv80_positive_128_3_200000.pkl\n",
      "..\\models\\rev_dict_ml1mDiv80_positive_128_3_200000.pkl\n",
      "0.014671743583700256\n",
      "..\\models\\model_ml1mDiv80_positive_128_1_200000.pkl\n",
      "..\\models\\dictionary_ml1mDiv80_positive_128_1_200000.pkl\n",
      "..\\models\\rev_dict_ml1mDiv80_positive_128_1_200000.pkl\n",
      "0.015460103233514674\n",
      "..\\models\\model_ml1mDiv80_positive_32_5_200000.pkl\n",
      "..\\models\\dictionary_ml1mDiv80_positive_32_5_200000.pkl\n",
      "..\\models\\rev_dict_ml1mDiv80_positive_32_5_200000.pkl\n",
      "0.019823254539451073\n",
      "..\\models\\model_ml1mDiv80_positive_32_3_200000.pkl\n",
      "..\\models\\dictionary_ml1mDiv80_positive_32_3_200000.pkl\n",
      "..\\models\\rev_dict_ml1mDiv80_positive_32_3_200000.pkl\n",
      "0.02117058337149673\n",
      "..\\models\\model_ml1mDiv80_positive_32_1_200000.pkl\n",
      "..\\models\\dictionary_ml1mDiv80_positive_32_1_200000.pkl\n",
      "..\\models\\rev_dict_ml1mDiv80_positive_32_1_200000.pkl\n",
      "0.017395501019623907\n",
      "..\\models\\model_ml1mDiv80_positive_64_5_200000.pkl\n",
      "..\\models\\dictionary_ml1mDiv80_positive_64_5_200000.pkl\n",
      "..\\models\\rev_dict_ml1mDiv80_positive_64_5_200000.pkl\n",
      "0.016596086572345244\n",
      "..\\models\\model_ml1mDiv80_positive_64_3_200000.pkl\n",
      "..\\models\\dictionary_ml1mDiv80_positive_64_3_200000.pkl\n",
      "..\\models\\rev_dict_ml1mDiv80_positive_64_3_200000.pkl\n",
      "0.016448329555285496\n",
      "..\\models\\model_ml1mDiv80_positive_64_1_200000.pkl\n",
      "..\\models\\dictionary_ml1mDiv80_positive_64_1_200000.pkl\n",
      "..\\models\\rev_dict_ml1mDiv80_positive_64_1_200000.pkl\n",
      "0.016627338731210965\n",
      "..\\models\\model_ml1mDiv80_positive_128_5_200000.pkl\n",
      "..\\models\\dictionary_ml1mDiv80_positive_128_5_200000.pkl\n",
      "..\\models\\rev_dict_ml1mDiv80_positive_128_5_200000.pkl\n",
      "0.015885979920053077\n",
      "..\\models\\model_ml1mDiv80_positive_128_3_200000.pkl\n",
      "..\\models\\dictionary_ml1mDiv80_positive_128_3_200000.pkl\n",
      "..\\models\\rev_dict_ml1mDiv80_positive_128_3_200000.pkl\n",
      "0.01619629942169278\n",
      "..\\models\\model_ml1mDiv80_positive_128_1_200000.pkl\n",
      "..\\models\\dictionary_ml1mDiv80_positive_128_1_200000.pkl\n",
      "..\\models\\rev_dict_ml1mDiv80_positive_128_1_200000.pkl\n",
      "0.016742793983546073\n",
      "..\\models\\model_ml1mDiv80_positive_32_5_200000.pkl\n",
      "..\\models\\dictionary_ml1mDiv80_positive_32_5_200000.pkl\n",
      "..\\models\\rev_dict_ml1mDiv80_positive_32_5_200000.pkl\n",
      "0.020750664415803706\n",
      "..\\models\\model_ml1mDiv80_positive_32_3_200000.pkl\n",
      "..\\models\\dictionary_ml1mDiv80_positive_32_3_200000.pkl\n",
      "..\\models\\rev_dict_ml1mDiv80_positive_32_3_200000.pkl\n",
      "0.02151013024008879\n",
      "..\\models\\model_ml1mDiv80_positive_32_1_200000.pkl\n",
      "..\\models\\dictionary_ml1mDiv80_positive_32_1_200000.pkl\n",
      "..\\models\\rev_dict_ml1mDiv80_positive_32_1_200000.pkl\n",
      "0.018522127897399876\n",
      "..\\models\\model_ml1mDiv80_positive_64_5_200000.pkl\n",
      "..\\models\\dictionary_ml1mDiv80_positive_64_5_200000.pkl\n",
      "..\\models\\rev_dict_ml1mDiv80_positive_64_5_200000.pkl\n",
      "0.016392960901003055\n",
      "..\\models\\model_ml1mDiv80_positive_64_3_200000.pkl\n",
      "..\\models\\dictionary_ml1mDiv80_positive_64_3_200000.pkl\n",
      "..\\models\\rev_dict_ml1mDiv80_positive_64_3_200000.pkl\n",
      "0.017479918944184967\n",
      "..\\models\\model_ml1mDiv80_positive_64_1_200000.pkl\n",
      "..\\models\\dictionary_ml1mDiv80_positive_64_1_200000.pkl\n",
      "..\\models\\rev_dict_ml1mDiv80_positive_64_1_200000.pkl\n",
      "0.015197561990364209\n",
      "..\\models\\model_ml1mDiv80_positive_128_5_200000.pkl\n",
      "..\\models\\dictionary_ml1mDiv80_positive_128_5_200000.pkl\n",
      "..\\models\\rev_dict_ml1mDiv80_positive_128_5_200000.pkl\n",
      "0.014860484448457814\n",
      "..\\models\\model_ml1mDiv80_positive_128_3_200000.pkl\n",
      "..\\models\\dictionary_ml1mDiv80_positive_128_3_200000.pkl\n",
      "..\\models\\rev_dict_ml1mDiv80_positive_128_3_200000.pkl\n",
      "0.015939733869416394\n",
      "..\\models\\model_ml1mDiv80_positive_128_1_200000.pkl\n",
      "..\\models\\dictionary_ml1mDiv80_positive_128_1_200000.pkl\n",
      "..\\models\\rev_dict_ml1mDiv80_positive_128_1_200000.pkl\n",
      "0.015931774679501434\n",
      "..\\models\\model_ml1mDiv80_positive_32_5_200000.pkl\n",
      "..\\models\\dictionary_ml1mDiv80_positive_32_5_200000.pkl\n",
      "..\\models\\rev_dict_ml1mDiv80_positive_32_5_200000.pkl\n",
      "0.01618746268295215\n",
      "..\\models\\model_ml1mDiv80_positive_32_3_200000.pkl\n",
      "..\\models\\dictionary_ml1mDiv80_positive_32_3_200000.pkl\n",
      "..\\models\\rev_dict_ml1mDiv80_positive_32_3_200000.pkl\n",
      "0.01659389515974117\n",
      "..\\models\\model_ml1mDiv80_positive_32_1_200000.pkl\n",
      "..\\models\\dictionary_ml1mDiv80_positive_32_1_200000.pkl\n",
      "..\\models\\rev_dict_ml1mDiv80_positive_32_1_200000.pkl\n",
      "0.015235619454355132\n",
      "..\\models\\model_ml1mDiv80_positive_64_5_200000.pkl\n",
      "..\\models\\dictionary_ml1mDiv80_positive_64_5_200000.pkl\n",
      "..\\models\\rev_dict_ml1mDiv80_positive_64_5_200000.pkl\n",
      "0.014255372364804956\n",
      "..\\models\\model_ml1mDiv80_positive_64_3_200000.pkl\n",
      "..\\models\\dictionary_ml1mDiv80_positive_64_3_200000.pkl\n",
      "..\\models\\rev_dict_ml1mDiv80_positive_64_3_200000.pkl\n",
      "0.014086145980718388\n",
      "..\\models\\model_ml1mDiv80_positive_64_1_200000.pkl\n",
      "..\\models\\dictionary_ml1mDiv80_positive_64_1_200000.pkl\n",
      "..\\models\\rev_dict_ml1mDiv80_positive_64_1_200000.pkl\n",
      "0.013793282232418606\n",
      "..\\models\\model_ml1mDiv80_positive_128_5_200000.pkl\n",
      "..\\models\\dictionary_ml1mDiv80_positive_128_5_200000.pkl\n",
      "..\\models\\rev_dict_ml1mDiv80_positive_128_5_200000.pkl\n",
      "0.014124829291656716\n",
      "..\\models\\model_ml1mDiv80_positive_128_3_200000.pkl\n",
      "..\\models\\dictionary_ml1mDiv80_positive_128_3_200000.pkl\n",
      "..\\models\\rev_dict_ml1mDiv80_positive_128_3_200000.pkl\n",
      "0.013830027427151977\n",
      "..\\models\\model_ml1mDiv80_positive_128_1_200000.pkl\n",
      "..\\models\\dictionary_ml1mDiv80_positive_128_1_200000.pkl\n",
      "..\\models\\rev_dict_ml1mDiv80_positive_128_1_200000.pkl\n",
      "0.015286868370056083\n",
      "..\\models\\model_ml1mDiv80_positive_32_5_200000.pkl\n",
      "..\\models\\dictionary_ml1mDiv80_positive_32_5_200000.pkl\n",
      "..\\models\\rev_dict_ml1mDiv80_positive_32_5_200000.pkl\n",
      "0.020268721246681786\n",
      "..\\models\\model_ml1mDiv80_positive_32_3_200000.pkl\n",
      "..\\models\\dictionary_ml1mDiv80_positive_32_3_200000.pkl\n",
      "..\\models\\rev_dict_ml1mDiv80_positive_32_3_200000.pkl\n",
      "0.02157063723929858\n",
      "..\\models\\model_ml1mDiv80_positive_32_1_200000.pkl\n",
      "..\\models\\dictionary_ml1mDiv80_positive_32_1_200000.pkl\n",
      "..\\models\\rev_dict_ml1mDiv80_positive_32_1_200000.pkl\n",
      "0.018032066362354215\n",
      "..\\models\\model_ml1mDiv80_positive_64_5_200000.pkl\n",
      "..\\models\\dictionary_ml1mDiv80_positive_64_5_200000.pkl\n",
      "..\\models\\rev_dict_ml1mDiv80_positive_64_5_200000.pkl\n"
     ]
    },
    {
     "name": "stdout",
     "output_type": "stream",
     "text": [
      "0.016447954283023553\n",
      "..\\models\\model_ml1mDiv80_positive_64_3_200000.pkl\n",
      "..\\models\\dictionary_ml1mDiv80_positive_64_3_200000.pkl\n",
      "..\\models\\rev_dict_ml1mDiv80_positive_64_3_200000.pkl\n",
      "0.01676249810513262\n",
      "..\\models\\model_ml1mDiv80_positive_64_1_200000.pkl\n",
      "..\\models\\dictionary_ml1mDiv80_positive_64_1_200000.pkl\n",
      "..\\models\\rev_dict_ml1mDiv80_positive_64_1_200000.pkl\n",
      "0.01607203612454516\n",
      "..\\models\\model_ml1mDiv80_positive_128_5_200000.pkl\n",
      "..\\models\\dictionary_ml1mDiv80_positive_128_5_200000.pkl\n",
      "..\\models\\rev_dict_ml1mDiv80_positive_128_5_200000.pkl\n",
      "0.01538060977558891\n",
      "..\\models\\model_ml1mDiv80_positive_128_3_200000.pkl\n",
      "..\\models\\dictionary_ml1mDiv80_positive_128_3_200000.pkl\n",
      "..\\models\\rev_dict_ml1mDiv80_positive_128_3_200000.pkl\n",
      "0.01631865830747585\n",
      "..\\models\\model_ml1mDiv80_positive_128_1_200000.pkl\n",
      "..\\models\\dictionary_ml1mDiv80_positive_128_1_200000.pkl\n",
      "..\\models\\rev_dict_ml1mDiv80_positive_128_1_200000.pkl\n",
      "0.016426983708637773\n",
      "..\\models\\model_ml1mDiv80_positive_32_5_200000.pkl\n",
      "..\\models\\dictionary_ml1mDiv80_positive_32_5_200000.pkl\n",
      "..\\models\\rev_dict_ml1mDiv80_positive_32_5_200000.pkl\n",
      "0.02140660372028108\n",
      "..\\models\\model_ml1mDiv80_positive_32_3_200000.pkl\n",
      "..\\models\\dictionary_ml1mDiv80_positive_32_3_200000.pkl\n",
      "..\\models\\rev_dict_ml1mDiv80_positive_32_3_200000.pkl\n",
      "0.02333960196803999\n",
      "..\\models\\model_ml1mDiv80_positive_32_1_200000.pkl\n",
      "..\\models\\dictionary_ml1mDiv80_positive_32_1_200000.pkl\n",
      "..\\models\\rev_dict_ml1mDiv80_positive_32_1_200000.pkl\n",
      "0.018099427586121382\n",
      "..\\models\\model_ml1mDiv80_positive_64_5_200000.pkl\n",
      "..\\models\\dictionary_ml1mDiv80_positive_64_5_200000.pkl\n",
      "..\\models\\rev_dict_ml1mDiv80_positive_64_5_200000.pkl\n",
      "0.017391965205833533\n",
      "..\\models\\model_ml1mDiv80_positive_64_3_200000.pkl\n",
      "..\\models\\dictionary_ml1mDiv80_positive_64_3_200000.pkl\n",
      "..\\models\\rev_dict_ml1mDiv80_positive_64_3_200000.pkl\n",
      "0.01918237966772177\n",
      "..\\models\\model_ml1mDiv80_positive_64_1_200000.pkl\n",
      "..\\models\\dictionary_ml1mDiv80_positive_64_1_200000.pkl\n",
      "..\\models\\rev_dict_ml1mDiv80_positive_64_1_200000.pkl\n",
      "0.01513494993253253\n",
      "..\\models\\model_ml1mDiv80_positive_128_5_200000.pkl\n",
      "..\\models\\dictionary_ml1mDiv80_positive_128_5_200000.pkl\n",
      "..\\models\\rev_dict_ml1mDiv80_positive_128_5_200000.pkl\n",
      "0.01554441240249745\n",
      "..\\models\\model_ml1mDiv80_positive_128_3_200000.pkl\n",
      "..\\models\\dictionary_ml1mDiv80_positive_128_3_200000.pkl\n",
      "..\\models\\rev_dict_ml1mDiv80_positive_128_3_200000.pkl\n",
      "0.01685400241809096\n",
      "..\\models\\model_ml1mDiv80_positive_128_1_200000.pkl\n",
      "..\\models\\dictionary_ml1mDiv80_positive_128_1_200000.pkl\n",
      "..\\models\\rev_dict_ml1mDiv80_positive_128_1_200000.pkl\n",
      "0.016108762890364708\n",
      "..\\models\\model_ml1mDiv80_positive_32_5_200000.pkl\n",
      "..\\models\\dictionary_ml1mDiv80_positive_32_5_200000.pkl\n",
      "..\\models\\rev_dict_ml1mDiv80_positive_32_5_200000.pkl\n",
      "0.014985661360125004\n",
      "..\\models\\model_ml1mDiv80_positive_32_3_200000.pkl\n",
      "..\\models\\dictionary_ml1mDiv80_positive_32_3_200000.pkl\n",
      "..\\models\\rev_dict_ml1mDiv80_positive_32_3_200000.pkl\n",
      "0.014676399426334646\n",
      "..\\models\\model_ml1mDiv80_positive_32_1_200000.pkl\n",
      "..\\models\\dictionary_ml1mDiv80_positive_32_1_200000.pkl\n",
      "..\\models\\rev_dict_ml1mDiv80_positive_32_1_200000.pkl\n",
      "0.013737486405453695\n",
      "..\\models\\model_ml1mDiv80_positive_64_5_200000.pkl\n",
      "..\\models\\dictionary_ml1mDiv80_positive_64_5_200000.pkl\n",
      "..\\models\\rev_dict_ml1mDiv80_positive_64_5_200000.pkl\n",
      "0.013329880292530212\n",
      "..\\models\\model_ml1mDiv80_positive_64_3_200000.pkl\n",
      "..\\models\\dictionary_ml1mDiv80_positive_64_3_200000.pkl\n",
      "..\\models\\rev_dict_ml1mDiv80_positive_64_3_200000.pkl\n",
      "0.01333458726900831\n",
      "..\\models\\model_ml1mDiv80_positive_64_1_200000.pkl\n",
      "..\\models\\dictionary_ml1mDiv80_positive_64_1_200000.pkl\n",
      "..\\models\\rev_dict_ml1mDiv80_positive_64_1_200000.pkl\n",
      "0.01340926447220865\n",
      "..\\models\\model_ml1mDiv80_positive_128_5_200000.pkl\n",
      "..\\models\\dictionary_ml1mDiv80_positive_128_5_200000.pkl\n",
      "..\\models\\rev_dict_ml1mDiv80_positive_128_5_200000.pkl\n",
      "0.013099496731120368\n",
      "..\\models\\model_ml1mDiv80_positive_128_3_200000.pkl\n",
      "..\\models\\dictionary_ml1mDiv80_positive_128_3_200000.pkl\n",
      "..\\models\\rev_dict_ml1mDiv80_positive_128_3_200000.pkl\n",
      "0.013537158067555417\n",
      "..\\models\\model_ml1mDiv80_positive_128_1_200000.pkl\n",
      "..\\models\\dictionary_ml1mDiv80_positive_128_1_200000.pkl\n",
      "..\\models\\rev_dict_ml1mDiv80_positive_128_1_200000.pkl\n",
      "0.01410072249201825\n",
      "..\\models\\model_ml1mDiv80_positive_32_5_200000.pkl\n",
      "..\\models\\dictionary_ml1mDiv80_positive_32_5_200000.pkl\n",
      "..\\models\\rev_dict_ml1mDiv80_positive_32_5_200000.pkl\n",
      "0.021140541137415196\n",
      "..\\models\\model_ml1mDiv80_positive_32_3_200000.pkl\n",
      "..\\models\\dictionary_ml1mDiv80_positive_32_3_200000.pkl\n",
      "..\\models\\rev_dict_ml1mDiv80_positive_32_3_200000.pkl\n",
      "0.02253483664941201\n",
      "..\\models\\model_ml1mDiv80_positive_32_1_200000.pkl\n",
      "..\\models\\dictionary_ml1mDiv80_positive_32_1_200000.pkl\n",
      "..\\models\\rev_dict_ml1mDiv80_positive_32_1_200000.pkl\n",
      "0.018241630382247256\n",
      "..\\models\\model_ml1mDiv80_positive_64_5_200000.pkl\n",
      "..\\models\\dictionary_ml1mDiv80_positive_64_5_200000.pkl\n",
      "..\\models\\rev_dict_ml1mDiv80_positive_64_5_200000.pkl\n",
      "0.016803060485276473\n",
      "..\\models\\model_ml1mDiv80_positive_64_3_200000.pkl\n",
      "..\\models\\dictionary_ml1mDiv80_positive_64_3_200000.pkl\n",
      "..\\models\\rev_dict_ml1mDiv80_positive_64_3_200000.pkl\n",
      "0.018107055084205948\n",
      "..\\models\\model_ml1mDiv80_positive_64_1_200000.pkl\n",
      "..\\models\\dictionary_ml1mDiv80_positive_64_1_200000.pkl\n",
      "..\\models\\rev_dict_ml1mDiv80_positive_64_1_200000.pkl\n",
      "0.015430898991060364\n",
      "..\\models\\model_ml1mDiv80_positive_128_5_200000.pkl\n",
      "..\\models\\dictionary_ml1mDiv80_positive_128_5_200000.pkl\n",
      "..\\models\\rev_dict_ml1mDiv80_positive_128_5_200000.pkl\n",
      "0.015009387315207732\n",
      "..\\models\\model_ml1mDiv80_positive_128_3_200000.pkl\n",
      "..\\models\\dictionary_ml1mDiv80_positive_128_3_200000.pkl\n",
      "..\\models\\rev_dict_ml1mDiv80_positive_128_3_200000.pkl\n",
      "0.016896884110866282\n",
      "..\\models\\model_ml1mDiv80_positive_128_1_200000.pkl\n",
      "..\\models\\dictionary_ml1mDiv80_positive_128_1_200000.pkl\n",
      "..\\models\\rev_dict_ml1mDiv80_positive_128_1_200000.pkl\n",
      "0.016158053631058072\n"
     ]
    },
    {
     "ename": "ValueError",
     "evalue": "arrays must all be same length",
     "output_type": "error",
     "traceback": [
      "\u001b[1;31m---------------------------------------------------------------------------\u001b[0m",
      "\u001b[1;31mValueError\u001b[0m                                Traceback (most recent call last)",
      "\u001b[1;32m<ipython-input-19-b4ed04a1e93d>\u001b[0m in \u001b[0;36m<module>\u001b[1;34m()\u001b[0m\n\u001b[0;32m     30\u001b[0m \u001b[0mpar\u001b[0m \u001b[1;33m=\u001b[0m \u001b[1;33m[\u001b[0m\u001b[0mparams_list\u001b[0m\u001b[1;33m[\u001b[0m\u001b[1;36m0\u001b[0m\u001b[1;33m]\u001b[0m\u001b[1;33m]\u001b[0m\u001b[1;33m\u001b[0m\u001b[1;33m\u001b[0m\u001b[0m\n\u001b[0;32m     31\u001b[0m \u001b[1;33m\u001b[0m\u001b[0m\n\u001b[1;32m---> 32\u001b[1;33m \u001b[0mresultsDF\u001b[0m \u001b[1;33m=\u001b[0m \u001b[0mpd\u001b[0m\u001b[1;33m.\u001b[0m\u001b[0mDataFrame\u001b[0m\u001b[1;33m(\u001b[0m\u001b[1;33m{\u001b[0m\u001b[1;34m\"params\"\u001b[0m\u001b[1;33m:\u001b[0m\u001b[0mparams_list\u001b[0m\u001b[1;33m,\u001b[0m \u001b[1;34m\"meanNDCG\"\u001b[0m\u001b[1;33m:\u001b[0m\u001b[0mscoresMean\u001b[0m\u001b[1;33m}\u001b[0m\u001b[1;33m)\u001b[0m\u001b[1;33m\u001b[0m\u001b[1;33m\u001b[0m\u001b[0m\n\u001b[0m\u001b[0;32m     33\u001b[0m \u001b[0mresultsDF\u001b[0m\u001b[1;33m\u001b[0m\u001b[1;33m\u001b[0m\u001b[0m\n",
      "\u001b[1;32mC:\\Users\\lpeska\\AppData\\Roaming\\Python\\Python37\\site-packages\\pandas\\core\\frame.py\u001b[0m in \u001b[0;36m__init__\u001b[1;34m(self, data, index, columns, dtype, copy)\u001b[0m\n\u001b[0;32m    433\u001b[0m             )\n\u001b[0;32m    434\u001b[0m         \u001b[1;32melif\u001b[0m \u001b[0misinstance\u001b[0m\u001b[1;33m(\u001b[0m\u001b[0mdata\u001b[0m\u001b[1;33m,\u001b[0m \u001b[0mdict\u001b[0m\u001b[1;33m)\u001b[0m\u001b[1;33m:\u001b[0m\u001b[1;33m\u001b[0m\u001b[1;33m\u001b[0m\u001b[0m\n\u001b[1;32m--> 435\u001b[1;33m             \u001b[0mmgr\u001b[0m \u001b[1;33m=\u001b[0m \u001b[0minit_dict\u001b[0m\u001b[1;33m(\u001b[0m\u001b[0mdata\u001b[0m\u001b[1;33m,\u001b[0m \u001b[0mindex\u001b[0m\u001b[1;33m,\u001b[0m \u001b[0mcolumns\u001b[0m\u001b[1;33m,\u001b[0m \u001b[0mdtype\u001b[0m\u001b[1;33m=\u001b[0m\u001b[0mdtype\u001b[0m\u001b[1;33m)\u001b[0m\u001b[1;33m\u001b[0m\u001b[1;33m\u001b[0m\u001b[0m\n\u001b[0m\u001b[0;32m    436\u001b[0m         \u001b[1;32melif\u001b[0m \u001b[0misinstance\u001b[0m\u001b[1;33m(\u001b[0m\u001b[0mdata\u001b[0m\u001b[1;33m,\u001b[0m \u001b[0mma\u001b[0m\u001b[1;33m.\u001b[0m\u001b[0mMaskedArray\u001b[0m\u001b[1;33m)\u001b[0m\u001b[1;33m:\u001b[0m\u001b[1;33m\u001b[0m\u001b[1;33m\u001b[0m\u001b[0m\n\u001b[0;32m    437\u001b[0m             \u001b[1;32mimport\u001b[0m \u001b[0mnumpy\u001b[0m\u001b[1;33m.\u001b[0m\u001b[0mma\u001b[0m\u001b[1;33m.\u001b[0m\u001b[0mmrecords\u001b[0m \u001b[1;32mas\u001b[0m \u001b[0mmrecords\u001b[0m\u001b[1;33m\u001b[0m\u001b[1;33m\u001b[0m\u001b[0m\n",
      "\u001b[1;32mC:\\Users\\lpeska\\AppData\\Roaming\\Python\\Python37\\site-packages\\pandas\\core\\internals\\construction.py\u001b[0m in \u001b[0;36minit_dict\u001b[1;34m(data, index, columns, dtype)\u001b[0m\n\u001b[0;32m    252\u001b[0m             \u001b[0marr\u001b[0m \u001b[1;32mif\u001b[0m \u001b[1;32mnot\u001b[0m \u001b[0mis_datetime64tz_dtype\u001b[0m\u001b[1;33m(\u001b[0m\u001b[0marr\u001b[0m\u001b[1;33m)\u001b[0m \u001b[1;32melse\u001b[0m \u001b[0marr\u001b[0m\u001b[1;33m.\u001b[0m\u001b[0mcopy\u001b[0m\u001b[1;33m(\u001b[0m\u001b[1;33m)\u001b[0m \u001b[1;32mfor\u001b[0m \u001b[0marr\u001b[0m \u001b[1;32min\u001b[0m \u001b[0marrays\u001b[0m\u001b[1;33m\u001b[0m\u001b[1;33m\u001b[0m\u001b[0m\n\u001b[0;32m    253\u001b[0m         ]\n\u001b[1;32m--> 254\u001b[1;33m     \u001b[1;32mreturn\u001b[0m \u001b[0marrays_to_mgr\u001b[0m\u001b[1;33m(\u001b[0m\u001b[0marrays\u001b[0m\u001b[1;33m,\u001b[0m \u001b[0mdata_names\u001b[0m\u001b[1;33m,\u001b[0m \u001b[0mindex\u001b[0m\u001b[1;33m,\u001b[0m \u001b[0mcolumns\u001b[0m\u001b[1;33m,\u001b[0m \u001b[0mdtype\u001b[0m\u001b[1;33m=\u001b[0m\u001b[0mdtype\u001b[0m\u001b[1;33m)\u001b[0m\u001b[1;33m\u001b[0m\u001b[1;33m\u001b[0m\u001b[0m\n\u001b[0m\u001b[0;32m    255\u001b[0m \u001b[1;33m\u001b[0m\u001b[0m\n\u001b[0;32m    256\u001b[0m \u001b[1;33m\u001b[0m\u001b[0m\n",
      "\u001b[1;32mC:\\Users\\lpeska\\AppData\\Roaming\\Python\\Python37\\site-packages\\pandas\\core\\internals\\construction.py\u001b[0m in \u001b[0;36marrays_to_mgr\u001b[1;34m(arrays, arr_names, index, columns, dtype)\u001b[0m\n\u001b[0;32m     62\u001b[0m     \u001b[1;31m# figure out the index, if necessary\u001b[0m\u001b[1;33m\u001b[0m\u001b[1;33m\u001b[0m\u001b[1;33m\u001b[0m\u001b[0m\n\u001b[0;32m     63\u001b[0m     \u001b[1;32mif\u001b[0m \u001b[0mindex\u001b[0m \u001b[1;32mis\u001b[0m \u001b[1;32mNone\u001b[0m\u001b[1;33m:\u001b[0m\u001b[1;33m\u001b[0m\u001b[1;33m\u001b[0m\u001b[0m\n\u001b[1;32m---> 64\u001b[1;33m         \u001b[0mindex\u001b[0m \u001b[1;33m=\u001b[0m \u001b[0mextract_index\u001b[0m\u001b[1;33m(\u001b[0m\u001b[0marrays\u001b[0m\u001b[1;33m)\u001b[0m\u001b[1;33m\u001b[0m\u001b[1;33m\u001b[0m\u001b[0m\n\u001b[0m\u001b[0;32m     65\u001b[0m     \u001b[1;32melse\u001b[0m\u001b[1;33m:\u001b[0m\u001b[1;33m\u001b[0m\u001b[1;33m\u001b[0m\u001b[0m\n\u001b[0;32m     66\u001b[0m         \u001b[0mindex\u001b[0m \u001b[1;33m=\u001b[0m \u001b[0mensure_index\u001b[0m\u001b[1;33m(\u001b[0m\u001b[0mindex\u001b[0m\u001b[1;33m)\u001b[0m\u001b[1;33m\u001b[0m\u001b[1;33m\u001b[0m\u001b[0m\n",
      "\u001b[1;32mC:\\Users\\lpeska\\AppData\\Roaming\\Python\\Python37\\site-packages\\pandas\\core\\internals\\construction.py\u001b[0m in \u001b[0;36mextract_index\u001b[1;34m(data)\u001b[0m\n\u001b[0;32m    363\u001b[0m             \u001b[0mlengths\u001b[0m \u001b[1;33m=\u001b[0m \u001b[0mlist\u001b[0m\u001b[1;33m(\u001b[0m\u001b[0mset\u001b[0m\u001b[1;33m(\u001b[0m\u001b[0mraw_lengths\u001b[0m\u001b[1;33m)\u001b[0m\u001b[1;33m)\u001b[0m\u001b[1;33m\u001b[0m\u001b[1;33m\u001b[0m\u001b[0m\n\u001b[0;32m    364\u001b[0m             \u001b[1;32mif\u001b[0m \u001b[0mlen\u001b[0m\u001b[1;33m(\u001b[0m\u001b[0mlengths\u001b[0m\u001b[1;33m)\u001b[0m \u001b[1;33m>\u001b[0m \u001b[1;36m1\u001b[0m\u001b[1;33m:\u001b[0m\u001b[1;33m\u001b[0m\u001b[1;33m\u001b[0m\u001b[0m\n\u001b[1;32m--> 365\u001b[1;33m                 \u001b[1;32mraise\u001b[0m \u001b[0mValueError\u001b[0m\u001b[1;33m(\u001b[0m\u001b[1;34m\"arrays must all be same length\"\u001b[0m\u001b[1;33m)\u001b[0m\u001b[1;33m\u001b[0m\u001b[1;33m\u001b[0m\u001b[0m\n\u001b[0m\u001b[0;32m    366\u001b[0m \u001b[1;33m\u001b[0m\u001b[0m\n\u001b[0;32m    367\u001b[0m             \u001b[1;32mif\u001b[0m \u001b[0mhave_dicts\u001b[0m\u001b[1;33m:\u001b[0m\u001b[1;33m\u001b[0m\u001b[1;33m\u001b[0m\u001b[0m\n",
      "\u001b[1;31mValueError\u001b[0m: arrays must all be same length"
     ]
    }
   ],
   "source": [
    "i = 0\n",
    "\n",
    "scoresMean = []\n",
    "scoresInd = []\n",
    "\n",
    "for params in params_list_userProfile:\n",
    "    i += 1\n",
    "    rec:ARecommender = RecommenderW2V(\"test\", params)\n",
    "    rec.train(HistoryDF(\"hyperparams_tuning_W2V\"+str(i)), trainDataset)\n",
    "    scoresVector = []\n",
    "    \n",
    "    for user in users:\n",
    "        recList = rec.recommend(user, 20, params)\n",
    "        #print(recList.index)\n",
    "        #print(type(recList.index))\n",
    "        #rl = np.array([i[0] for i in recList])\n",
    "        #print(rl)\n",
    "        relScore = np.zeros((1,maxOID+1))\n",
    "        relScore[0,recList.index] = recList.values\n",
    "        #print(relScore.sum())\n",
    "        #print(np.isin(recList.index, trueList[user].values))\n",
    "        res = ndcg_score(trueRelevance[user], relScore, k=20)\n",
    "        scoresVector.append(res)\n",
    "        \n",
    "    meanScore = np.mean(scoresVector)\n",
    "    scoresMean.append(meanScore)\n",
    "    scoresInd.append(scoresVector)\n",
    "    print(meanScore)\n",
    "\n",
    "par = [params_list[0]]\n",
    "\n",
    "resultsDF = pd.DataFrame({\"params\":params_list_userProfile, \"meanNDCG\":scoresMean})\n",
    "resultsDF"
   ]
  },
  {
   "cell_type": "code",
   "execution_count": 23,
   "metadata": {},
   "outputs": [
    {
     "data": {
      "text/html": [
       "<div>\n",
       "<style scoped>\n",
       "    .dataframe tbody tr th:only-of-type {\n",
       "        vertical-align: middle;\n",
       "    }\n",
       "\n",
       "    .dataframe tbody tr th {\n",
       "        vertical-align: top;\n",
       "    }\n",
       "\n",
       "    .dataframe thead th {\n",
       "        text-align: right;\n",
       "    }\n",
       "</style>\n",
       "<table border=\"1\" class=\"dataframe\">\n",
       "  <thead>\n",
       "    <tr style=\"text-align: right;\">\n",
       "      <th></th>\n",
       "      <th>params</th>\n",
       "      <th>meanNDCG</th>\n",
       "    </tr>\n",
       "  </thead>\n",
       "  <tbody>\n",
       "    <tr>\n",
       "      <th>0</th>\n",
       "      <td>{'datasetId': 'ml1mDiv80', 'iterations': 50000...</td>\n",
       "      <td>0.020524</td>\n",
       "    </tr>\n",
       "    <tr>\n",
       "      <th>1</th>\n",
       "      <td>{'datasetId': 'ml1mDiv80', 'iterations': 50000...</td>\n",
       "      <td>0.025751</td>\n",
       "    </tr>\n",
       "    <tr>\n",
       "      <th>2</th>\n",
       "      <td>{'datasetId': 'ml1mDiv80', 'iterations': 50000...</td>\n",
       "      <td>0.022062</td>\n",
       "    </tr>\n",
       "    <tr>\n",
       "      <th>3</th>\n",
       "      <td>{'datasetId': 'ml1mDiv80', 'iterations': 50000...</td>\n",
       "      <td>0.025633</td>\n",
       "    </tr>\n",
       "    <tr>\n",
       "      <th>4</th>\n",
       "      <td>{'datasetId': 'ml1mDiv80', 'iterations': 50000...</td>\n",
       "      <td>0.029389</td>\n",
       "    </tr>\n",
       "    <tr>\n",
       "      <th>...</th>\n",
       "      <td>...</td>\n",
       "      <td>...</td>\n",
       "    </tr>\n",
       "    <tr>\n",
       "      <th>481</th>\n",
       "      <td>{'datasetId': 'ml1mDiv80', 'iterations': 20000...</td>\n",
       "      <td>0.018107</td>\n",
       "    </tr>\n",
       "    <tr>\n",
       "      <th>482</th>\n",
       "      <td>{'datasetId': 'ml1mDiv80', 'iterations': 20000...</td>\n",
       "      <td>0.015431</td>\n",
       "    </tr>\n",
       "    <tr>\n",
       "      <th>483</th>\n",
       "      <td>{'datasetId': 'ml1mDiv80', 'iterations': 20000...</td>\n",
       "      <td>0.015009</td>\n",
       "    </tr>\n",
       "    <tr>\n",
       "      <th>484</th>\n",
       "      <td>{'datasetId': 'ml1mDiv80', 'iterations': 20000...</td>\n",
       "      <td>0.016897</td>\n",
       "    </tr>\n",
       "    <tr>\n",
       "      <th>485</th>\n",
       "      <td>{'datasetId': 'ml1mDiv80', 'iterations': 20000...</td>\n",
       "      <td>0.016158</td>\n",
       "    </tr>\n",
       "  </tbody>\n",
       "</table>\n",
       "<p>486 rows × 2 columns</p>\n",
       "</div>"
      ],
      "text/plain": [
       "                                                params  meanNDCG\n",
       "0    {'datasetId': 'ml1mDiv80', 'iterations': 50000...  0.020524\n",
       "1    {'datasetId': 'ml1mDiv80', 'iterations': 50000...  0.025751\n",
       "2    {'datasetId': 'ml1mDiv80', 'iterations': 50000...  0.022062\n",
       "3    {'datasetId': 'ml1mDiv80', 'iterations': 50000...  0.025633\n",
       "4    {'datasetId': 'ml1mDiv80', 'iterations': 50000...  0.029389\n",
       "..                                                 ...       ...\n",
       "481  {'datasetId': 'ml1mDiv80', 'iterations': 20000...  0.018107\n",
       "482  {'datasetId': 'ml1mDiv80', 'iterations': 20000...  0.015431\n",
       "483  {'datasetId': 'ml1mDiv80', 'iterations': 20000...  0.015009\n",
       "484  {'datasetId': 'ml1mDiv80', 'iterations': 20000...  0.016897\n",
       "485  {'datasetId': 'ml1mDiv80', 'iterations': 20000...  0.016158\n",
       "\n",
       "[486 rows x 2 columns]"
      ]
     },
     "execution_count": 23,
     "metadata": {},
     "output_type": "execute_result"
    }
   ],
   "source": [
    "resultsDF = pd.DataFrame({\"params\":params_list_userProfile, \"meanNDCG\":scoresMean})\n",
    "resultsDF"
   ]
  },
  {
   "cell_type": "code",
   "execution_count": 29,
   "metadata": {},
   "outputs": [
    {
     "data": {
      "text/html": [
       "<div>\n",
       "<style scoped>\n",
       "    .dataframe tbody tr th:only-of-type {\n",
       "        vertical-align: middle;\n",
       "    }\n",
       "\n",
       "    .dataframe tbody tr th {\n",
       "        vertical-align: top;\n",
       "    }\n",
       "\n",
       "    .dataframe thead th {\n",
       "        text-align: right;\n",
       "    }\n",
       "</style>\n",
       "<table border=\"1\" class=\"dataframe\">\n",
       "  <thead>\n",
       "    <tr style=\"text-align: right;\">\n",
       "      <th></th>\n",
       "      <th>params</th>\n",
       "      <th>meanNDCG</th>\n",
       "    </tr>\n",
       "  </thead>\n",
       "  <tbody>\n",
       "    <tr>\n",
       "      <th>181</th>\n",
       "      <td>{'datasetId': 'ml1mDiv80', 'iterations': 10000...</td>\n",
       "      <td>0.025781</td>\n",
       "    </tr>\n",
       "    <tr>\n",
       "      <th>163</th>\n",
       "      <td>{'datasetId': 'ml1mDiv80', 'iterations': 10000...</td>\n",
       "      <td>0.025944</td>\n",
       "    </tr>\n",
       "    <tr>\n",
       "      <th>169</th>\n",
       "      <td>{'datasetId': 'ml1mDiv80', 'iterations': 10000...</td>\n",
       "      <td>0.026380</td>\n",
       "    </tr>\n",
       "    <tr>\n",
       "      <th>187</th>\n",
       "      <td>{'datasetId': 'ml1mDiv80', 'iterations': 10000...</td>\n",
       "      <td>0.026443</td>\n",
       "    </tr>\n",
       "    <tr>\n",
       "      <th>24</th>\n",
       "      <td>{'datasetId': 'ml1mDiv80', 'iterations': 50000...</td>\n",
       "      <td>0.027646</td>\n",
       "    </tr>\n",
       "    <tr>\n",
       "      <th>6</th>\n",
       "      <td>{'datasetId': 'ml1mDiv80', 'iterations': 50000...</td>\n",
       "      <td>0.027778</td>\n",
       "    </tr>\n",
       "    <tr>\n",
       "      <th>7</th>\n",
       "      <td>{'datasetId': 'ml1mDiv80', 'iterations': 50000...</td>\n",
       "      <td>0.028033</td>\n",
       "    </tr>\n",
       "    <tr>\n",
       "      <th>25</th>\n",
       "      <td>{'datasetId': 'ml1mDiv80', 'iterations': 50000...</td>\n",
       "      <td>0.028164</td>\n",
       "    </tr>\n",
       "    <tr>\n",
       "      <th>22</th>\n",
       "      <td>{'datasetId': 'ml1mDiv80', 'iterations': 50000...</td>\n",
       "      <td>0.028686</td>\n",
       "    </tr>\n",
       "    <tr>\n",
       "      <th>4</th>\n",
       "      <td>{'datasetId': 'ml1mDiv80', 'iterations': 50000...</td>\n",
       "      <td>0.029389</td>\n",
       "    </tr>\n",
       "  </tbody>\n",
       "</table>\n",
       "</div>"
      ],
      "text/plain": [
       "                                                params  meanNDCG\n",
       "181  {'datasetId': 'ml1mDiv80', 'iterations': 10000...  0.025781\n",
       "163  {'datasetId': 'ml1mDiv80', 'iterations': 10000...  0.025944\n",
       "169  {'datasetId': 'ml1mDiv80', 'iterations': 10000...  0.026380\n",
       "187  {'datasetId': 'ml1mDiv80', 'iterations': 10000...  0.026443\n",
       "24   {'datasetId': 'ml1mDiv80', 'iterations': 50000...  0.027646\n",
       "6    {'datasetId': 'ml1mDiv80', 'iterations': 50000...  0.027778\n",
       "7    {'datasetId': 'ml1mDiv80', 'iterations': 50000...  0.028033\n",
       "25   {'datasetId': 'ml1mDiv80', 'iterations': 50000...  0.028164\n",
       "22   {'datasetId': 'ml1mDiv80', 'iterations': 50000...  0.028686\n",
       "4    {'datasetId': 'ml1mDiv80', 'iterations': 50000...  0.029389"
      ]
     },
     "execution_count": 29,
     "metadata": {},
     "output_type": "execute_result"
    }
   ],
   "source": [
    "resultsDF.sort_values(by=\"meanNDCG\")[-10:]"
   ]
  },
  {
   "cell_type": "code",
   "execution_count": 25,
   "metadata": {},
   "outputs": [
    {
     "data": {
      "text/plain": [
       "{'datasetId': 'ml1mDiv80',\n",
       " 'iterations': 50000,\n",
       " 'trainVariant': 'positive',\n",
       " 'userProfileSize': -1,\n",
       " 'userProfileStrategy': 'mean',\n",
       " 'vectorSize': 64,\n",
       " 'windowSize': 3}"
      ]
     },
     "execution_count": 25,
     "metadata": {},
     "output_type": "execute_result"
    }
   ],
   "source": [
    "resultsDF.iloc[4,0] #best... however all are not so good compared to the MF"
   ]
  },
  {
   "cell_type": "code",
   "execution_count": 26,
   "metadata": {},
   "outputs": [
    {
     "data": {
      "text/plain": [
       "{'datasetId': 'ml1mDiv80',\n",
       " 'iterations': 50000,\n",
       " 'trainVariant': 'positive',\n",
       " 'userProfileSize': -1,\n",
       " 'userProfileStrategy': 'weightedMean',\n",
       " 'vectorSize': 64,\n",
       " 'windowSize': 3}"
      ]
     },
     "execution_count": 26,
     "metadata": {},
     "output_type": "execute_result"
    }
   ],
   "source": [
    "resultsDF.iloc[22,0] #2nd best... however all are not so good compared to the MF"
   ]
  },
  {
   "cell_type": "code",
   "execution_count": 27,
   "metadata": {},
   "outputs": [
    {
     "data": {
      "text/plain": [
       "{'datasetId': 'ml1mDiv80',\n",
       " 'iterations': 50000,\n",
       " 'trainVariant': 'positive',\n",
       " 'userProfileSize': -1,\n",
       " 'userProfileStrategy': 'weightedMean',\n",
       " 'vectorSize': 128,\n",
       " 'windowSize': 3}"
      ]
     },
     "execution_count": 27,
     "metadata": {},
     "output_type": "execute_result"
    }
   ],
   "source": [
    "resultsDF.iloc[25,0] #3rd best... however all are not so good compared to the MF"
   ]
  },
  {
   "cell_type": "code",
   "execution_count": 28,
   "metadata": {},
   "outputs": [
    {
     "data": {
      "text/plain": [
       "{'datasetId': 'ml1mDiv80',\n",
       " 'iterations': 50000,\n",
       " 'trainVariant': 'positive',\n",
       " 'userProfileSize': -1,\n",
       " 'userProfileStrategy': 'mean',\n",
       " 'vectorSize': 128,\n",
       " 'windowSize': 3}"
      ]
     },
     "execution_count": 28,
     "metadata": {},
     "output_type": "execute_result"
    }
   ],
   "source": [
    "resultsDF.iloc[7,0] #4th best... however all are not so good compared to the MF"
   ]
  },
  {
   "cell_type": "code",
   "execution_count": 37,
   "metadata": {},
   "outputs": [
    {
     "data": {
      "text/plain": [
       "params      {'datasetId': 'ml1mDiv80', 'iterations': 20000...\n",
       "meanNDCG                                            0.0156315\n",
       "Name: 400, dtype: object"
      ]
     },
     "execution_count": 37,
     "metadata": {},
     "output_type": "execute_result"
    }
   ],
   "source": [
    "resultsDF.iloc[400]"
   ]
  },
  {
   "cell_type": "code",
   "execution_count": null,
   "metadata": {},
   "outputs": [],
   "source": []
  }
 ],
 "metadata": {
  "kernelspec": {
   "display_name": "Python 3",
   "language": "python",
   "name": "python3"
  },
  "language_info": {
   "codemirror_mode": {
    "name": "ipython",
    "version": 3
   },
   "file_extension": ".py",
   "mimetype": "text/x-python",
   "name": "python",
   "nbconvert_exporter": "python",
   "pygments_lexer": "ipython3",
   "version": "3.9.1"
  }
 },
 "nbformat": 4,
 "nbformat_minor": 4
}
