{
 "cells": [
  {
   "cell_type": "code",
   "execution_count": 1,
   "metadata": {},
   "outputs": [],
   "source": [
    "#!/usr/bin/python3\n",
    "import random\n",
    "\n",
    "import numpy as np\n",
    "import pandas as pd\n",
    "\n",
    "from numpy.random import beta\n",
    "from typing import List\n",
    "\n",
    "from pandas.core.frame import DataFrame #class\n",
    "from pandas.core.series import Series #class"
   ]
  },
  {
   "cell_type": "code",
   "execution_count": 3,
   "metadata": {},
   "outputs": [
    {
     "data": {
      "text/html": [
       "<div>\n",
       "<style scoped>\n",
       "    .dataframe tbody tr th:only-of-type {\n",
       "        vertical-align: middle;\n",
       "    }\n",
       "\n",
       "    .dataframe tbody tr th {\n",
       "        vertical-align: top;\n",
       "    }\n",
       "\n",
       "    .dataframe thead th {\n",
       "        text-align: right;\n",
       "    }\n",
       "</style>\n",
       "<table border=\"1\" class=\"dataframe\">\n",
       "  <thead>\n",
       "    <tr style=\"text-align: right;\">\n",
       "      <th></th>\n",
       "      <th>votes</th>\n",
       "    </tr>\n",
       "  </thead>\n",
       "  <tbody>\n",
       "    <tr>\n",
       "      <th>method1</th>\n",
       "      <td>0.5</td>\n",
       "    </tr>\n",
       "    <tr>\n",
       "      <th>method2</th>\n",
       "      <td>0.4</td>\n",
       "    </tr>\n",
       "    <tr>\n",
       "      <th>method3</th>\n",
       "      <td>0.1</td>\n",
       "    </tr>\n",
       "  </tbody>\n",
       "</table>\n",
       "</div>"
      ],
      "text/plain": [
       "         votes\n",
       "method1    0.5\n",
       "method2    0.4\n",
       "method3    0.1"
      ]
     },
     "execution_count": 3,
     "metadata": {},
     "output_type": "execute_result"
    }
   ],
   "source": [
    "modelDF = pd.DataFrame({\"votes\":[0.5, 0.4, 0.1]}, index=[\"method1\",\"method2\",\"method3\"])\n",
    "modelDF"
   ]
  },
  {
   "cell_type": "code",
   "execution_count": 4,
   "metadata": {},
   "outputs": [],
   "source": [
    "userID = 0"
   ]
  },
  {
   "cell_type": "code",
   "execution_count": 8,
   "metadata": {},
   "outputs": [],
   "source": [
    "numberOfItems = 5"
   ]
  },
  {
   "cell_type": "code",
   "execution_count": 10,
   "metadata": {},
   "outputs": [],
   "source": [
    "methodsResultDict = {\n",
    "    \"method1\": {1:0.5, 2:0.5, 3:0.4, 4:0.2},\n",
    "    \"method2\": {5:0.9, 1:0.5, 6:0.1},\n",
    "    \"method3\": {3:0.7, 4:0.3, 6:0.9}\n",
    "}"
   ]
  },
  {
   "cell_type": "code",
   "execution_count": 65,
   "metadata": {},
   "outputs": [],
   "source": [
    "def run( methodsResultDict:dict, modelDF:DataFrame, userID:int, numberOfItems:int = 20):\n",
    "\n",
    "      # testing types of parameters\n",
    "      if type(methodsResultDict) is not dict:\n",
    "          raise ValueError(\"Type of methodsResultDict isn't dict.\")\n",
    "      if type(modelDF) is not DataFrame:\n",
    "          raise ValueError(\"Type of methodsParamsDF isn't DataFrame.\")\n",
    "      if list(modelDF.columns) != ['votes']:\n",
    "          raise ValueError(\"Argument methodsParamsDF doen't contain rights columns.\")\n",
    "      if type(numberOfItems) is not int:\n",
    "          raise ValueError(\"Type of numberOfItems isn't int.\")\n",
    "\n",
    "      if sorted([mI for mI in modelDF.index]) != sorted([mI for mI in methodsResultDict.keys()]):\n",
    "        raise ValueError(\"Arguments methodsResultDict and methodsParamsDF have to define the same methods.\")\n",
    "      for mI in methodsResultDict.keys():\n",
    "          if modelDF.loc[mI] is None:\n",
    "              raise ValueError(\"Argument modelDF contains in ome method an empty list of items.\")\n",
    "      if numberOfItems < 0:\n",
    "        raise ValueError(\"Argument numberOfItems must be positive value.\")\n",
    "\n",
    "      candidatesOfMethods = [np.array(list(cI.keys())) for cI in methodsResultDict.values()]\n",
    "      uniqueCandidatesI:List[int] = list(set(np.concatenate(candidatesOfMethods)))\n",
    "      print(\"UniqueCandidatesI: \", uniqueCandidatesI)    \n",
    "\n",
    "      # sum of preference the elected candidates have for each party\n",
    "      electedOfPartyDictI:dict[str,float] = {mI:0.0 for mI in modelDF.index}\n",
    "      print(\"ElectedForPartyI: \", electedOfPartyDictI)\n",
    "\n",
    "      \n",
    "      # votes number of parties\n",
    "      votesOfPartiesDictI:dict[str,float] = {mI:modelDF.votes.loc[mI] for mI in modelDF.index}\n",
    "      totalVotes = modelDF[\"votes\"].sum()\n",
    "      print(\"VotesOfPartiesDictI: \", votesOfPartiesDictI, totalVotes)\n",
    "\n",
    "      recommendedItemIDs:List[int] = []\n",
    "      \n",
    "      totalSelectedCandidatesVotes:float = 0.0\n",
    "            \n",
    "    \n",
    "      iIndex:int\n",
    "      for iIndex in range(0, numberOfItems):\n",
    "        #print(\"iIndex: \", iIndex)\n",
    "        \n",
    "        if len(uniqueCandidatesI) == 0:\n",
    "            return recommendedItemIDs[:numberOfItems]\n",
    "\n",
    "        # coumputing of votes of remaining candidates\n",
    "        actVotesOfCandidatesDictI:dict[int,int] = {} #calculates the proportonal improvement of the output if this candidate is included\n",
    "        candidateIDJ:int\n",
    "        for candidateIDJ in uniqueCandidatesI:\n",
    "           votesOfCandidateJ:float = 0.0\n",
    "          \n",
    "           candidateVotesPerParty:dict[str,float] = {mI:methodsResultDict[mI].get(candidateIDJ, 0) for mI in modelDF.index}            \n",
    "           candidateTotalVotes:float = np.sum(list(candidateVotesPerParty.values()))\n",
    "           totalVotesPlusProspected:float = totalSelectedCandidatesVotes + candidateTotalVotes                      \n",
    "            \n",
    "           for parityIDK in modelDF.index:   \n",
    "              #get the fraction of under-representation for the party\n",
    "              #check how much proportional representation the candidate adds\n",
    "              #sum over all parties & select the highest sum\n",
    "              votes_fraction_per_party = votesOfPartiesDictI[parityIDK]/totalVotes\n",
    "              notRepresentedVotesPerParty = max(0,(votes_fraction_per_party * totalVotesPlusProspected) - electedOfPartyDictI[parityIDK]) #max(w_i*(A+C) - a_i,0)\n",
    "              #print(\"Unrepresented,\",parityIDK,candidateIDJ,notRepresentedVotesPerParty)\n",
    "              votesOfCandidateJ += min(notRepresentedVotesPerParty, candidateVotesPerParty[parityIDK]  ) # only account the amount of votes that does not exceed proportional representation            \n",
    "\n",
    "           actVotesOfCandidatesDictI[candidateIDJ] = votesOfCandidateJ\n",
    "        #print(actVotesOfCandidatesDictI)\n",
    "\n",
    "        # select candidate with highest number of votes\n",
    "        #selectedCandidateI:int = AggrDHont.selectorOfTheMostVotedItem(actVotesOfCandidatesDictI)\n",
    "        v = np.argmax(list(actVotesOfCandidatesDictI.values()))\n",
    "        print(actVotesOfCandidatesDictI)\n",
    "        selectedCandidateI:int = list(actVotesOfCandidatesDictI.keys())[v]\n",
    "        print(\"SelectedCandidate:\",selectedCandidateI)\n",
    "        \n",
    "        # add new selected candidate in results\n",
    "        recommendedItemIDs.append(selectedCandidateI);\n",
    "\n",
    "        # removing elected candidate from list of candidates\n",
    "        uniqueCandidatesI.remove(selectedCandidateI)\n",
    "\n",
    "        # updating number of elected candidates of parties\n",
    "        electedOfPartyDictI:dict = {partyIDI:electedOfPartyDictI[partyIDI] + methodsResultDict[partyIDI].get(selectedCandidateI, 0) for partyIDI in electedOfPartyDictI.keys()}\n",
    "        totalSelectedCandidatesVotes = np.sum(list(electedOfPartyDictI.values()))\n",
    "        print(\"electedOfPartyDictI: \", electedOfPartyDictI, totalSelectedCandidatesVotes)\n",
    "        \n",
    "        \n",
    "      # list<int>\n",
    "      return recommendedItemIDs[:numberOfItems]\n"
   ]
  },
  {
   "cell_type": "code",
   "execution_count": 66,
   "metadata": {},
   "outputs": [
    {
     "name": "stdout",
     "output_type": "stream",
     "text": [
      "UniqueCandidatesI:  [1, 2, 3, 4, 5, 6]\n",
      "ElectedForPartyI:  {'method1': 0.0, 'method2': 0.0, 'method3': 0.0}\n",
      "VotesOfPartiesDictI:  {'method1': 0.5, 'method2': 0.4, 'method3': 0.1} 1.0\n",
      "{1: 0.9, 2: 0.25, 3: 0.51, 4: 0.25, 5: 0.36000000000000004, 6: 0.2}\n",
      "SelectedCandidate: 1\n",
      "electedOfPartyDictI:  {'method1': 0.5, 'method2': 0.5, 'method3': 0.0} 1.0\n",
      "{2: 0.25, 3: 0.6100000000000001, 4: 0.35000000000000003, 5: 0.26, 6: 0.30000000000000004}\n",
      "SelectedCandidate: 3\n",
      "electedOfPartyDictI:  {'method1': 0.9, 'method2': 0.5, 'method3': 0.7} 2.0999999999999996\n",
      "{2: 0.3999999999999998, 4: 0.2, 5: 0.7, 6: 0.1}\n",
      "SelectedCandidate: 5\n",
      "electedOfPartyDictI:  {'method1': 0.9, 'method2': 1.4, 'method3': 0.7} 3.0\n",
      "{2: 0.5, 4: 0.2, 6: 0.1}\n",
      "SelectedCandidate: 2\n",
      "electedOfPartyDictI:  {'method1': 1.4, 'method2': 1.4, 'method3': 0.7} 3.5\n",
      "{4: 0.2, 6: 0.1}\n",
      "SelectedCandidate: 4\n",
      "electedOfPartyDictI:  {'method1': 1.5999999999999999, 'method2': 1.4, 'method3': 1.0} 4.0\n"
     ]
    },
    {
     "data": {
      "text/plain": [
       "[1, 3, 5, 2, 4]"
      ]
     },
     "execution_count": 66,
     "metadata": {},
     "output_type": "execute_result"
    }
   ],
   "source": [
    "run(methodsResultDict, modelDF, userID, 5)"
   ]
  },
  {
   "cell_type": "code",
   "execution_count": 52,
   "metadata": {},
   "outputs": [
    {
     "data": {
      "text/plain": [
       "{'method1': {1: 0.5, 2: 0.5, 3: 0.4, 4: 0.2},\n",
       " 'method2': {5: 0.9, 1: 0.5, 6: 0.1},\n",
       " 'method3': {3: 0.7, 4: 0.3, 6: 0.9}}"
      ]
     },
     "execution_count": 52,
     "metadata": {},
     "output_type": "execute_result"
    }
   ],
   "source": [
    "methodsResultDict"
   ]
  },
  {
   "cell_type": "code",
   "execution_count": null,
   "metadata": {},
   "outputs": [],
   "source": []
  }
 ],
 "metadata": {
  "kernelspec": {
   "display_name": "Python 3",
   "language": "python",
   "name": "python3"
  },
  "language_info": {
   "codemirror_mode": {
    "name": "ipython",
    "version": 3
   },
   "file_extension": ".py",
   "mimetype": "text/x-python",
   "name": "python",
   "nbconvert_exporter": "python",
   "pygments_lexer": "ipython3",
   "version": "3.8.5"
  }
 },
 "nbformat": 4,
 "nbformat_minor": 4
}
