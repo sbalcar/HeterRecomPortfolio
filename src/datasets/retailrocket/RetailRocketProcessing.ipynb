{
 "cells": [
  {
   "cell_type": "code",
   "execution_count": 1,
   "metadata": {},
   "outputs": [],
   "source": [
    "import numpy as np\n",
    "import pandas as pd\n",
    "import os"
   ]
  },
  {
   "cell_type": "code",
   "execution_count": 2,
   "metadata": {},
   "outputs": [],
   "source": [
    "class ItemProperties:\n",
    "    COL_TIME_STAMP = \"timestamp\"\n",
    "    COL_ITEM_ID = \"itemid\"\n",
    "    COL_PROPERTY = \"property\"\n",
    "    COL_VALUE = \"value\"\n",
    "\n",
    "    @staticmethod\n",
    "    def readFromFile():\n",
    "        itemProperties1DF:DataFrame = ItemProperties.__readFromFile(\"item_properties_part1.csv\")\n",
    "\n",
    "        itemProperties2DF:DataFrame = ItemProperties.__readFromFile(\"item_properties_part2.csv\")\n",
    "\n",
    "        return pd.concat([itemProperties1DF, itemProperties2DF])\n",
    "\n",
    "    @staticmethod\n",
    "    def __readFromFile(fileName:str):\n",
    "        itemPropertiesFile:str = \"..\" + os.sep + \"datasets\" + os.sep + \"retailrocket\" + os.sep + fileName\n",
    "\n",
    "        itemPropertiesDF: DataFrame = pd.read_csv(itemPropertiesFile, sep=',', usecols=[0, 1, 2, 3], header=0, encoding=\"ISO-8859-1\", low_memory=False)\n",
    "        itemPropertiesDF.columns = [ItemProperties.COL_TIME_STAMP, ItemProperties.COL_ITEM_ID, ItemProperties.COL_PROPERTY, ItemProperties.COL_VALUE]\n",
    "\n",
    "        return itemPropertiesDF\n",
    "\n"
   ]
  },
  {
   "cell_type": "code",
   "execution_count": 3,
   "metadata": {},
   "outputs": [],
   "source": [
    "itemsDF = ItemProperties.readFromFile()"
   ]
  },
  {
   "cell_type": "code",
   "execution_count": 4,
   "metadata": {},
   "outputs": [
    {
     "data": {
      "text/plain": [
       "(20275902, 4)"
      ]
     },
     "execution_count": 4,
     "metadata": {},
     "output_type": "execute_result"
    }
   ],
   "source": [
    "itemsDF.shape"
   ]
  },
  {
   "cell_type": "code",
   "execution_count": 5,
   "metadata": {},
   "outputs": [
    {
     "data": {
      "text/html": [
       "<div>\n",
       "<style scoped>\n",
       "    .dataframe tbody tr th:only-of-type {\n",
       "        vertical-align: middle;\n",
       "    }\n",
       "\n",
       "    .dataframe tbody tr th {\n",
       "        vertical-align: top;\n",
       "    }\n",
       "\n",
       "    .dataframe thead th {\n",
       "        text-align: right;\n",
       "    }\n",
       "</style>\n",
       "<table border=\"1\" class=\"dataframe\">\n",
       "  <thead>\n",
       "    <tr style=\"text-align: right;\">\n",
       "      <th></th>\n",
       "      <th>timestamp</th>\n",
       "      <th>itemid</th>\n",
       "      <th>property</th>\n",
       "      <th>value</th>\n",
       "    </tr>\n",
       "  </thead>\n",
       "  <tbody>\n",
       "    <tr>\n",
       "      <th>0</th>\n",
       "      <td>1435460400000</td>\n",
       "      <td>460429</td>\n",
       "      <td>categoryid</td>\n",
       "      <td>1338</td>\n",
       "    </tr>\n",
       "    <tr>\n",
       "      <th>1</th>\n",
       "      <td>1441508400000</td>\n",
       "      <td>206783</td>\n",
       "      <td>888</td>\n",
       "      <td>1116713 960601 n277.200</td>\n",
       "    </tr>\n",
       "    <tr>\n",
       "      <th>2</th>\n",
       "      <td>1439089200000</td>\n",
       "      <td>395014</td>\n",
       "      <td>400</td>\n",
       "      <td>n552.000 639502 n720.000 424566</td>\n",
       "    </tr>\n",
       "    <tr>\n",
       "      <th>3</th>\n",
       "      <td>1431226800000</td>\n",
       "      <td>59481</td>\n",
       "      <td>790</td>\n",
       "      <td>n15360.000</td>\n",
       "    </tr>\n",
       "    <tr>\n",
       "      <th>4</th>\n",
       "      <td>1431831600000</td>\n",
       "      <td>156781</td>\n",
       "      <td>917</td>\n",
       "      <td>828513</td>\n",
       "    </tr>\n",
       "  </tbody>\n",
       "</table>\n",
       "</div>"
      ],
      "text/plain": [
       "       timestamp  itemid    property                            value\n",
       "0  1435460400000  460429  categoryid                             1338\n",
       "1  1441508400000  206783         888          1116713 960601 n277.200\n",
       "2  1439089200000  395014         400  n552.000 639502 n720.000 424566\n",
       "3  1431226800000   59481         790                       n15360.000\n",
       "4  1431831600000  156781         917                           828513"
      ]
     },
     "execution_count": 5,
     "metadata": {},
     "output_type": "execute_result"
    }
   ],
   "source": [
    "itemsDF.head()"
   ]
  },
  {
   "cell_type": "code",
   "execution_count": 6,
   "metadata": {},
   "outputs": [
    {
     "data": {
      "text/html": [
       "<div>\n",
       "<style scoped>\n",
       "    .dataframe tbody tr th:only-of-type {\n",
       "        vertical-align: middle;\n",
       "    }\n",
       "\n",
       "    .dataframe tbody tr th {\n",
       "        vertical-align: top;\n",
       "    }\n",
       "\n",
       "    .dataframe thead th {\n",
       "        text-align: right;\n",
       "    }\n",
       "</style>\n",
       "<table border=\"1\" class=\"dataframe\">\n",
       "  <thead>\n",
       "    <tr style=\"text-align: right;\">\n",
       "      <th></th>\n",
       "      <th>property</th>\n",
       "      <th>value</th>\n",
       "    </tr>\n",
       "  </thead>\n",
       "  <tbody>\n",
       "    <tr>\n",
       "      <th>count</th>\n",
       "      <td>20275902</td>\n",
       "      <td>20275902</td>\n",
       "    </tr>\n",
       "    <tr>\n",
       "      <th>unique</th>\n",
       "      <td>1104</td>\n",
       "      <td>1966868</td>\n",
       "    </tr>\n",
       "    <tr>\n",
       "      <th>top</th>\n",
       "      <td>888</td>\n",
       "      <td>769062</td>\n",
       "    </tr>\n",
       "    <tr>\n",
       "      <th>freq</th>\n",
       "      <td>3000398</td>\n",
       "      <td>1537247</td>\n",
       "    </tr>\n",
       "  </tbody>\n",
       "</table>\n",
       "</div>"
      ],
      "text/plain": [
       "        property     value\n",
       "count   20275902  20275902\n",
       "unique      1104   1966868\n",
       "top          888    769062\n",
       "freq     3000398   1537247"
      ]
     },
     "execution_count": 6,
     "metadata": {},
     "output_type": "execute_result"
    }
   ],
   "source": [
    "itemsDF[[\"property\",\"value\"]].describe()"
   ]
  },
  {
   "cell_type": "code",
   "execution_count": 7,
   "metadata": {},
   "outputs": [
    {
     "data": {
      "text/plain": [
       "(12003814, 4)"
      ]
     },
     "execution_count": 7,
     "metadata": {},
     "output_type": "execute_result"
    }
   ],
   "source": [
    "itemsDF.drop_duplicates(subset=[\"itemid\",\"property\"], keep='last', inplace=True)\n",
    "itemsDF.shape"
   ]
  },
  {
   "cell_type": "code",
   "execution_count": 8,
   "metadata": {},
   "outputs": [
    {
     "data": {
      "text/plain": [
       "property\n",
       "782                1\n",
       "57                 1\n",
       "530                1\n",
       "424                1\n",
       "769                1\n",
       "               ...  \n",
       "764           417053\n",
       "790           417053\n",
       "888           417053\n",
       "283           417053\n",
       "categoryid    417053\n",
       "Name: itemid, Length: 1104, dtype: int64"
      ]
     },
     "execution_count": 8,
     "metadata": {},
     "output_type": "execute_result"
    }
   ],
   "source": [
    "countPropDF = itemsDF.groupby(\"property\").count().sort_values(\"itemid\")[\"itemid\"]\n",
    "countPropDF"
   ]
  },
  {
   "cell_type": "code",
   "execution_count": 9,
   "metadata": {},
   "outputs": [
    {
     "data": {
      "text/plain": [
       "[<matplotlib.lines.Line2D at 0x249a78cfac8>]"
      ]
     },
     "execution_count": 9,
     "metadata": {},
     "output_type": "execute_result"
    },
    {
     "data": {
      "image/png": "[encoded data removed]",
      "text/plain": [
       "<Figure size 432x288 with 1 Axes>"
      ]
     },
     "metadata": {
      "needs_background": "light"
     },
     "output_type": "display_data"
    }
   ],
   "source": [
    "import matplotlib.pyplot as plt\n",
    "%matplotlib inline\n",
    "plt.plot(countPropDF.values)"
   ]
  },
  {
   "cell_type": "code",
   "execution_count": 10,
   "metadata": {},
   "outputs": [
    {
     "data": {
      "text/plain": [
       "count      1104.000000\n",
       "mean      10873.019928\n",
       "std       50873.797814\n",
       "min           1.000000\n",
       "50%         757.500000\n",
       "75%        4220.000000\n",
       "90%       12108.400000\n",
       "95%       26976.400000\n",
       "max      417053.000000\n",
       "Name: itemid, dtype: float64"
      ]
     },
     "execution_count": 10,
     "metadata": {},
     "output_type": "execute_result"
    }
   ],
   "source": [
    "countPropDF.describe([0.5, 0.75, 0.90, 0.95])"
   ]
  },
  {
   "cell_type": "code",
   "execution_count": 11,
   "metadata": {},
   "outputs": [
    {
     "data": {
      "text/plain": [
       "property   value        \n",
       "994        689405                1\n",
       "776        948239                1\n",
       "           948235                1\n",
       "           948232                1\n",
       "           948230                1\n",
       "                             ...  \n",
       "28         150169 610517     67104\n",
       "available  0                358038\n",
       "764        1285872          417053\n",
       "112        679677           417053\n",
       "159        519769           417053\n",
       "Name: itemid, Length: 2254737, dtype: int64"
      ]
     },
     "execution_count": 11,
     "metadata": {},
     "output_type": "execute_result"
    }
   ],
   "source": [
    "countPropValDF = itemsDF.groupby([\"property\",\"value\"]).count().sort_values(\"itemid\")[\"itemid\"]\n",
    "countPropValDF"
   ]
  },
  {
   "cell_type": "code",
   "execution_count": 12,
   "metadata": {},
   "outputs": [
    {
     "data": {
      "text/plain": [
       "count    2.254737e+06\n",
       "mean     5.323820e+00\n",
       "std      5.608805e+02\n",
       "min      1.000000e+00\n",
       "50%      1.000000e+00\n",
       "80%      1.000000e+00\n",
       "90%      2.000000e+00\n",
       "95%      3.000000e+00\n",
       "99%      2.000000e+01\n",
       "99.5%    6.100000e+01\n",
       "99.9%    5.510000e+02\n",
       "max      4.170530e+05\n",
       "Name: itemid, dtype: float64"
      ]
     },
     "execution_count": 12,
     "metadata": {},
     "output_type": "execute_result"
    }
   ],
   "source": [
    "countPropValDF.describe([0.8, 0.9, 0.95, 0.99, 0.995, 0.999])"
   ]
  },
  {
   "cell_type": "code",
   "execution_count": 13,
   "metadata": {},
   "outputs": [
    {
     "data": {
      "text/plain": [
       "(35841,)"
      ]
     },
     "execution_count": 13,
     "metadata": {},
     "output_type": "execute_result"
    }
   ],
   "source": [
    "countPropValDFRed = countPropValDF.loc[(countPropValDF>10)&(countPropValDF<400000)]\n",
    "countPropValDFRed.shape"
   ]
  },
  {
   "cell_type": "code",
   "execution_count": 14,
   "metadata": {},
   "outputs": [
    {
     "data": {
      "text/plain": [
       "(250,)"
      ]
     },
     "execution_count": 14,
     "metadata": {},
     "output_type": "execute_result"
    }
   ],
   "source": [
    "countPropDFRed = countPropDF.loc[(countPropDF>5000)]\n",
    "countPropDFRed.shape"
   ]
  },
  {
   "cell_type": "code",
   "execution_count": 15,
   "metadata": {},
   "outputs": [
    {
     "data": {
      "text/plain": [
       "(11186100, 4)"
      ]
     },
     "execution_count": 15,
     "metadata": {},
     "output_type": "execute_result"
    }
   ],
   "source": [
    "reducedFrequentProps = itemsDF.loc[itemsDF.property.isin(countPropDFRed.index)]\n",
    "reducedFrequentProps.shape"
   ]
  },
  {
   "cell_type": "code",
   "execution_count": 16,
   "metadata": {},
   "outputs": [
    {
     "data": {
      "text/plain": [
       "(7347870, 4)"
      ]
     },
     "execution_count": 16,
     "metadata": {},
     "output_type": "execute_result"
    }
   ],
   "source": [
    "reducedFrequentValsProps = reducedFrequentProps.loc[reducedFrequentProps.value.isin(countPropValDFRed.index.get_level_values(1))]\n",
    "reducedFrequentValsProps.shape"
   ]
  },
  {
   "cell_type": "code",
   "execution_count": 17,
   "metadata": {},
   "outputs": [
    {
     "data": {
      "text/plain": [
       "(59015,)"
      ]
     },
     "execution_count": 17,
     "metadata": {},
     "output_type": "execute_result"
    }
   ],
   "source": [
    "availableItems = reducedFrequentProps.loc[(reducedFrequentProps.property == \"available\")&(reducedFrequentProps.value == \"1\"),\"itemid\"]  \n",
    "availableItems.shape"
   ]
  },
  {
   "cell_type": "code",
   "execution_count": 18,
   "metadata": {},
   "outputs": [
    {
     "name": "stdout",
     "output_type": "stream",
     "text": [
      "0\n",
      "0:00:00.666002\n",
      "100000\n",
      "0:00:13.380033\n",
      "200000\n",
      "0:00:13.210001\n",
      "300000\n",
      "0:00:13.325011\n",
      "400000\n",
      "0:00:13.224001\n",
      "500000\n",
      "0:00:13.382996\n",
      "600000\n",
      "0:00:13.304013\n",
      "700000\n",
      "0:00:13.514990\n",
      "800000\n",
      "0:00:13.412001\n",
      "900000\n",
      "0:00:13.598058\n",
      "1000000\n",
      "0:00:14.717957\n",
      "1100000\n",
      "0:00:13.568992\n",
      "1200000\n",
      "0:00:13.562046\n",
      "1300000\n",
      "0:00:13.455956\n",
      "1400000\n",
      "0:00:13.675034\n",
      "1500000\n",
      "0:00:13.461013\n",
      "1600000\n",
      "0:00:13.346986\n",
      "1700000\n",
      "0:00:13.530965\n",
      "1800000\n",
      "0:00:13.543001\n",
      "1900000\n",
      "0:00:13.548033\n",
      "2000000\n",
      "0:00:13.383001\n",
      "2100000\n",
      "0:00:13.300967\n",
      "2200000\n",
      "0:00:13.378032\n",
      "2300000\n",
      "0:00:13.376965\n",
      "2400000\n",
      "0:00:13.557002\n",
      "2500000\n",
      "0:00:13.616999\n",
      "2600000\n",
      "0:00:13.737999\n",
      "2700000\n",
      "0:00:13.389001\n",
      "2800000\n",
      "0:00:13.654036\n",
      "2900000\n",
      "0:00:13.410966\n",
      "3000000\n",
      "0:00:13.433034\n",
      "3100000\n",
      "0:00:13.371005\n",
      "3200000\n",
      "0:00:13.307997\n",
      "3300000\n",
      "0:00:13.429996\n",
      "3400000\n",
      "0:00:13.572003\n",
      "3500000\n",
      "0:00:13.509966\n",
      "3600000\n",
      "0:00:13.645997\n",
      "3700000\n",
      "0:00:13.441038\n",
      "3800000\n",
      "0:00:13.368998\n",
      "3900000\n",
      "0:00:13.472001\n",
      "4000000\n",
      "0:00:13.510963\n",
      "4100000\n",
      "0:00:13.628038\n",
      "4200000\n",
      "0:00:13.531000\n",
      "4300000\n",
      "0:00:13.515961\n",
      "4400000\n",
      "0:00:13.382038\n",
      "4500000\n",
      "0:00:13.405998\n",
      "4600000\n",
      "0:00:13.541973\n",
      "4700000\n",
      "0:00:13.365027\n",
      "4800000\n",
      "0:00:13.393999\n",
      "4900000\n",
      "0:00:13.324004\n",
      "5000000\n",
      "0:00:13.515997\n",
      "5100000\n",
      "0:00:13.423012\n",
      "5200000\n",
      "0:00:13.306994\n",
      "5300000\n",
      "0:00:13.543006\n",
      "5400000\n",
      "0:00:13.469990\n",
      "5500000\n",
      "0:00:13.385000\n",
      "5600000\n",
      "0:00:13.349000\n",
      "5700000\n",
      "0:00:13.488997\n",
      "5800000\n",
      "0:00:13.478257\n",
      "5900000\n",
      "0:00:14.181208\n",
      "6000000\n",
      "0:00:13.457953\n",
      "6100000\n",
      "0:00:13.313041\n",
      "6200000\n",
      "0:00:13.345995\n",
      "6300000\n",
      "0:00:13.646999\n",
      "6400000\n",
      "0:00:13.353002\n",
      "6500000\n",
      "0:00:13.428402\n",
      "6600000\n",
      "0:00:13.400013\n",
      "6700000\n",
      "0:00:13.697953\n",
      "6800000\n",
      "0:00:13.498036\n",
      "6900000\n",
      "0:00:13.318964\n",
      "7000000\n",
      "0:00:13.288005\n",
      "7100000\n",
      "0:00:13.264997\n",
      "7200000\n",
      "0:00:13.535001\n",
      "7300000\n",
      "0:00:13.414004\n"
     ]
    },
    {
     "data": {
      "text/plain": [
       "417053"
      ]
     },
     "execution_count": 18,
     "metadata": {},
     "output_type": "execute_result"
    }
   ],
   "source": [
    "from datetime import datetime\n",
    "itemPropDict = {}\n",
    "k = 0\n",
    "time = datetime.now()\n",
    "for i in reducedFrequentValsProps.iterrows():\n",
    "    \n",
    "    dct = itemPropDict.get(i[1].itemid,{})\n",
    "    dct[i[1].property] = i[1].value\n",
    "    itemPropDict[i[1].itemid] = dct\n",
    "    \n",
    "    if k % 100000 == 0:\n",
    "        print(k)     \n",
    "        print(datetime.now() - time)\n",
    "        time = datetime.now()\n",
    "    k = k+1\n",
    "len(itemPropDict)"
   ]
  },
  {
   "cell_type": "code",
   "execution_count": 21,
   "metadata": {},
   "outputs": [
    {
     "data": {
      "text/plain": [
       "array([460429,  89534, 264312, 264319, 348323])"
      ]
     },
     "execution_count": 21,
     "metadata": {},
     "output_type": "execute_result"
    }
   ],
   "source": [
    "items = np.array(list(itemPropDict.keys()))\n",
    "np.save(\"itemsRR.npy\", items)\n",
    "items[0:5]"
   ]
  },
  {
   "cell_type": "code",
   "execution_count": 22,
   "metadata": {},
   "outputs": [
    {
     "data": {
      "text/plain": [
       "array([460429,  89534, 264312, ..., 421100, 290971, 261092])"
      ]
     },
     "execution_count": 22,
     "metadata": {},
     "output_type": "execute_result"
    }
   ],
   "source": [
    "items"
   ]
  },
  {
   "cell_type": "code",
   "execution_count": 19,
   "metadata": {},
   "outputs": [
    {
     "data": {
      "text/plain": [
       "<417053x44853 sparse matrix of type '<class 'numpy.float64'>'\n",
       "\twith 7347870 stored elements in Compressed Sparse Row format>"
      ]
     },
     "execution_count": 19,
     "metadata": {},
     "output_type": "execute_result"
    }
   ],
   "source": [
    "from sklearn.feature_extraction import DictVectorizer\n",
    "v = DictVectorizer(sparse=True)\n",
    "matrix = v.fit_transform(itemPropDict.values())\n",
    "matrix"
   ]
  },
  {
   "cell_type": "code",
   "execution_count": 20,
   "metadata": {},
   "outputs": [
    {
     "data": {
      "text/plain": [
       "59015"
      ]
     },
     "execution_count": 20,
     "metadata": {},
     "output_type": "execute_result"
    }
   ],
   "source": [
    "#availableItems.values\n",
    "availableItemIDs = []\n",
    "for i,j in enumerate(itemPropDict.keys()):\n",
    "    if(j in availableItems.values):\n",
    "        availableItemIDs.append(i)\n",
    "\n",
    "len(availableItemIDs)"
   ]
  },
  {
   "cell_type": "code",
   "execution_count": 22,
   "metadata": {},
   "outputs": [
    {
     "name": "stdout",
     "output_type": "stream",
     "text": [
      "0\n",
      "-1 day, 23:59:59.968999\n",
      "10000\n",
      "-1 day, 23:55:01.116972\n",
      "20000\n",
      "-1 day, 23:54:48.610999\n",
      "30000\n",
      "-1 day, 23:54:40.119155\n",
      "40000\n",
      "-1 day, 23:54:35.186027\n",
      "50000\n",
      "-1 day, 23:54:41.303467\n",
      "60000\n",
      "-1 day, 23:54:38.223842\n",
      "70000\n",
      "-1 day, 23:54:39.915731\n",
      "80000\n",
      "-1 day, 23:54:38.545406\n",
      "90000\n",
      "-1 day, 23:54:35.721788\n",
      "100000\n",
      "-1 day, 23:54:28.579882\n",
      "110000\n",
      "-1 day, 23:54:24.640387\n",
      "120000\n",
      "-1 day, 23:54:25.822144\n",
      "130000\n",
      "-1 day, 23:54:18.927079\n",
      "140000\n",
      "-1 day, 23:54:29.348282\n",
      "150000\n",
      "-1 day, 23:54:16.882330\n",
      "160000\n",
      "-1 day, 23:54:12.250397\n",
      "170000\n",
      "-1 day, 23:54:14.597853\n",
      "180000\n",
      "-1 day, 23:53:58.930743\n",
      "190000\n",
      "-1 day, 23:51:56.609387\n",
      "200000\n",
      "-1 day, 23:53:02.438202\n",
      "210000\n",
      "-1 day, 23:53:51.166907\n",
      "220000\n",
      "-1 day, 23:53:50.744288\n",
      "230000\n",
      "-1 day, 23:53:35.087175\n",
      "240000\n",
      "-1 day, 23:53:40.187360\n",
      "250000\n",
      "-1 day, 23:53:39.486903\n",
      "260000\n",
      "-1 day, 23:53:27.219938\n",
      "270000\n",
      "-1 day, 23:53:16.444691\n",
      "280000\n",
      "-1 day, 23:53:22.700323\n",
      "290000\n",
      "-1 day, 23:53:20.934381\n",
      "300000\n",
      "-1 day, 23:53:10.009571\n",
      "310000\n",
      "-1 day, 23:53:18.329483\n",
      "320000\n",
      "-1 day, 23:53:08.790181\n",
      "330000\n",
      "-1 day, 23:53:09.010620\n",
      "340000\n",
      "-1 day, 23:52:54.161699\n",
      "350000\n",
      "-1 day, 23:53:01.582647\n",
      "360000\n",
      "-1 day, 23:52:59.458853\n",
      "370000\n",
      "-1 day, 23:52:13.995664\n",
      "380000\n",
      "-1 day, 23:52:45.065111\n",
      "390000\n",
      "-1 day, 23:52:41.568802\n",
      "400000\n",
      "-1 day, 23:52:44.933253\n",
      "410000\n",
      "-1 day, 23:52:30.949604\n"
     ]
    },
    {
     "data": {
      "text/plain": [
       "<417053x417053 sparse matrix of type '<class 'numpy.float64'>'\n",
       "\twith 281460045 stored elements in List of Lists format>"
      ]
     },
     "execution_count": 22,
     "metadata": {},
     "output_type": "execute_result"
    }
   ],
   "source": [
    "from scipy.sparse import lil_matrix\n",
    "from sklearn.metrics import pairwise_distances\n",
    "\n",
    "mtx = lil_matrix((matrix.shape[0], matrix.shape[0]))\n",
    "availableItemIDsArray = np.array(availableItemIDs)\n",
    "time = datetime.now()\n",
    "\n",
    "for i in range(matrix.shape[0]):\n",
    "    dst = 1/(1+pairwise_distances(matrix[i],matrix[availableItemIDs])).flatten()\n",
    "    kthLargest = np.partition(dst, -500)[-500]\n",
    "    qualify = dst >= kthLargest\n",
    "    filteredDST = dst[qualify]\n",
    "    filteredIDX = availableItemIDsArray[qualify]\n",
    "    mtx[i, filteredIDX] = filteredDST\n",
    "    \n",
    "    if i % 10000 == 0:\n",
    "        print(i)\n",
    "        print(datetime.now() - time)\n",
    "        time = datetime.now()\n",
    "    \n",
    "mtx    "
   ]
  },
  {
   "cell_type": "code",
   "execution_count": 23,
   "metadata": {},
   "outputs": [],
   "source": [
    "mtx.setdiag(0)\n",
    "mtx = mtx.tocsr()"
   ]
  },
  {
   "cell_type": "code",
   "execution_count": 25,
   "metadata": {},
   "outputs": [
    {
     "data": {
      "text/plain": [
       "<417053x417053 sparse matrix of type '<class 'numpy.float64'>'\n",
       "\twith 281460045 stored elements in Compressed Sparse Row format>"
      ]
     },
     "execution_count": 25,
     "metadata": {},
     "output_type": "execute_result"
    }
   ],
   "source": [
    "mtx"
   ]
  },
  {
   "cell_type": "code",
   "execution_count": 26,
   "metadata": {},
   "outputs": [],
   "source": [
    "from scipy.sparse import save_npz\n",
    "save_npz(\"simMatrixRR.npz\", mtx)"
   ]
  },
  {
   "cell_type": "markdown",
   "metadata": {},
   "source": [
    "# Usage of the matrix"
   ]
  },
  {
   "cell_type": "code",
   "execution_count": 47,
   "metadata": {},
   "outputs": [
    {
     "data": {
      "text/plain": [
       "(417053, 417053)"
      ]
     },
     "execution_count": 47,
     "metadata": {},
     "output_type": "execute_result"
    }
   ],
   "source": [
    "cbDataPath = \"../data/simMatrixRR.npz\"\n",
    "import scipy.sparse\n",
    "\n",
    "if \"simMatrixRR.npz\" in cbDataPath:\n",
    "            sparseMat = scipy.sparse.load_npz(cbDataPath)\n",
    "            sparseMat = sparseMat.transpose()\n",
    "            #sparseMat.setdiag(0)\n",
    "            itemIDs = np.load(cbDataPath.replace(\"simMatrixRR.npz\",\"itemsRR.npy\"))\n",
    "            #dfCBSim = pd.SparseDataFrame(sparseMat, columns=itemIDs , index=itemIDs)¨#alternativa pro pandas <= 1.0\n",
    "            cbData = pd.DataFrame.sparse.from_spmatrix(sparseMat, columns=itemIDs , index=itemIDs)\n",
    "cbData.shape         "
   ]
  },
  {
   "cell_type": "code",
   "execution_count": 53,
   "metadata": {},
   "outputs": [
    {
     "data": {
      "text/plain": [
       "(417053, 1)"
      ]
     },
     "execution_count": 53,
     "metadata": {},
     "output_type": "execute_result"
    }
   ],
   "source": [
    "results = cbData.loc[:,[260768]]\n",
    "results.shape"
   ]
  },
  {
   "cell_type": "code",
   "execution_count": 54,
   "metadata": {},
   "outputs": [
    {
     "data": {
      "text/html": [
       "<div>\n",
       "<style scoped>\n",
       "    .dataframe tbody tr th:only-of-type {\n",
       "        vertical-align: middle;\n",
       "    }\n",
       "\n",
       "    .dataframe tbody tr th {\n",
       "        vertical-align: top;\n",
       "    }\n",
       "\n",
       "    .dataframe thead th {\n",
       "        text-align: right;\n",
       "    }\n",
       "</style>\n",
       "<table border=\"1\" class=\"dataframe\">\n",
       "  <thead>\n",
       "    <tr style=\"text-align: right;\">\n",
       "      <th></th>\n",
       "      <th>260768</th>\n",
       "    </tr>\n",
       "  </thead>\n",
       "  <tbody>\n",
       "    <tr>\n",
       "      <th>460429</th>\n",
       "      <td>0.0</td>\n",
       "    </tr>\n",
       "    <tr>\n",
       "      <th>89534</th>\n",
       "      <td>0.0</td>\n",
       "    </tr>\n",
       "    <tr>\n",
       "      <th>264312</th>\n",
       "      <td>0.0</td>\n",
       "    </tr>\n",
       "    <tr>\n",
       "      <th>264319</th>\n",
       "      <td>0.0</td>\n",
       "    </tr>\n",
       "    <tr>\n",
       "      <th>348323</th>\n",
       "      <td>0.0</td>\n",
       "    </tr>\n",
       "    <tr>\n",
       "      <th>...</th>\n",
       "      <td>...</td>\n",
       "    </tr>\n",
       "    <tr>\n",
       "      <th>146144</th>\n",
       "      <td>0.0</td>\n",
       "    </tr>\n",
       "    <tr>\n",
       "      <th>362987</th>\n",
       "      <td>0.0</td>\n",
       "    </tr>\n",
       "    <tr>\n",
       "      <th>421100</th>\n",
       "      <td>0.0</td>\n",
       "    </tr>\n",
       "    <tr>\n",
       "      <th>290971</th>\n",
       "      <td>0.0</td>\n",
       "    </tr>\n",
       "    <tr>\n",
       "      <th>261092</th>\n",
       "      <td>0.0</td>\n",
       "    </tr>\n",
       "  </tbody>\n",
       "</table>\n",
       "<p>417053 rows × 1 columns</p>\n",
       "</div>"
      ],
      "text/plain": [
       "        260768\n",
       "460429     0.0\n",
       "89534      0.0\n",
       "264312     0.0\n",
       "264319     0.0\n",
       "348323     0.0\n",
       "...        ...\n",
       "146144     0.0\n",
       "362987     0.0\n",
       "421100     0.0\n",
       "290971     0.0\n",
       "261092     0.0\n",
       "\n",
       "[417053 rows x 1 columns]"
      ]
     },
     "execution_count": 54,
     "metadata": {},
     "output_type": "execute_result"
    }
   ],
   "source": [
    "results.fillna(0.0)"
   ]
  },
  {
   "cell_type": "code",
   "execution_count": 55,
   "metadata": {},
   "outputs": [
    {
     "data": {
      "text/plain": [
       "460429    0.0\n",
       "89534     0.0\n",
       "264312    0.0\n",
       "264319    0.0\n",
       "348323    0.0\n",
       "         ... \n",
       "146144    0.0\n",
       "362987    0.0\n",
       "421100    0.0\n",
       "290971    0.0\n",
       "261092    0.0\n",
       "Length: 417053, dtype: float64"
      ]
     },
     "execution_count": 55,
     "metadata": {},
     "output_type": "execute_result"
    }
   ],
   "source": [
    "results = np.mean(results, axis=1)\n",
    "results"
   ]
  },
  {
   "cell_type": "code",
   "execution_count": 56,
   "metadata": {},
   "outputs": [
    {
     "data": {
      "text/plain": [
       "128749    0.224009\n",
       "299321    0.224009\n",
       "309349    0.224009\n",
       "287133    0.210897\n",
       "59709     0.205213\n",
       "            ...   \n",
       "14073     0.000000\n",
       "42127     0.000000\n",
       "246425    0.000000\n",
       "228309    0.000000\n",
       "460429    0.000000\n",
       "Length: 417053, dtype: float64"
      ]
     },
     "execution_count": 56,
     "metadata": {},
     "output_type": "execute_result"
    }
   ],
   "source": [
    "results.sort_values(ascending=False, inplace=True)\n",
    "results"
   ]
  },
  {
   "cell_type": "code",
   "execution_count": 57,
   "metadata": {},
   "outputs": [
    {
     "data": {
      "text/plain": [
       "511"
      ]
     },
     "execution_count": 57,
     "metadata": {},
     "output_type": "execute_result"
    }
   ],
   "source": [
    "len(results.to_numpy().nonzero()[0])"
   ]
  },
  {
   "cell_type": "markdown",
   "metadata": {},
   "source": [
    "# Reducing events dataset"
   ]
  },
  {
   "cell_type": "code",
   "execution_count": 61,
   "metadata": {},
   "outputs": [],
   "source": [
    "COL_TIME_STAMP = \"timestamp\"\n",
    "COL_VISITOR_ID = \"visitorid\"\n",
    "COL_EVENT = \"event\"\n",
    "COL_ITEM_ID = \"itemid\"\n",
    "COL_TRANSACTION_ID = \"transactionid\"\n",
    "\n",
    "def readFromFileEvents():\n",
    "        eventsFile: str = \"..\" + os.sep + \"datasets\" + os.sep + \"retailrocket\" + os.sep + \"events.csv\"\n",
    "\n",
    "        eventsDF: DataFrame = pd.read_csv(eventsFile, sep=',', usecols=[0, 1, 2, 3], header=0, encoding=\"ISO-8859-1\", low_memory=False)\n",
    "        eventsDF.columns = [COL_TIME_STAMP, COL_VISITOR_ID, COL_EVENT, COL_ITEM_ID]\n",
    "        return eventsDF"
   ]
  },
  {
   "cell_type": "code",
   "execution_count": 62,
   "metadata": {},
   "outputs": [],
   "source": [
    "eventsDF = readFromFileEvents()"
   ]
  },
  {
   "cell_type": "code",
   "execution_count": 63,
   "metadata": {},
   "outputs": [
    {
     "data": {
      "text/html": [
       "<div>\n",
       "<style scoped>\n",
       "    .dataframe tbody tr th:only-of-type {\n",
       "        vertical-align: middle;\n",
       "    }\n",
       "\n",
       "    .dataframe tbody tr th {\n",
       "        vertical-align: top;\n",
       "    }\n",
       "\n",
       "    .dataframe thead th {\n",
       "        text-align: right;\n",
       "    }\n",
       "</style>\n",
       "<table border=\"1\" class=\"dataframe\">\n",
       "  <thead>\n",
       "    <tr style=\"text-align: right;\">\n",
       "      <th></th>\n",
       "      <th>timestamp</th>\n",
       "      <th>visitorid</th>\n",
       "      <th>event</th>\n",
       "      <th>itemid</th>\n",
       "    </tr>\n",
       "  </thead>\n",
       "  <tbody>\n",
       "    <tr>\n",
       "      <th>0</th>\n",
       "      <td>1433221332117</td>\n",
       "      <td>257597</td>\n",
       "      <td>view</td>\n",
       "      <td>355908</td>\n",
       "    </tr>\n",
       "    <tr>\n",
       "      <th>1</th>\n",
       "      <td>1433224214164</td>\n",
       "      <td>992329</td>\n",
       "      <td>view</td>\n",
       "      <td>248676</td>\n",
       "    </tr>\n",
       "    <tr>\n",
       "      <th>2</th>\n",
       "      <td>1433221999827</td>\n",
       "      <td>111016</td>\n",
       "      <td>view</td>\n",
       "      <td>318965</td>\n",
       "    </tr>\n",
       "    <tr>\n",
       "      <th>3</th>\n",
       "      <td>1433221955914</td>\n",
       "      <td>483717</td>\n",
       "      <td>view</td>\n",
       "      <td>253185</td>\n",
       "    </tr>\n",
       "    <tr>\n",
       "      <th>4</th>\n",
       "      <td>1433221337106</td>\n",
       "      <td>951259</td>\n",
       "      <td>view</td>\n",
       "      <td>367447</td>\n",
       "    </tr>\n",
       "  </tbody>\n",
       "</table>\n",
       "</div>"
      ],
      "text/plain": [
       "       timestamp  visitorid event  itemid\n",
       "0  1433221332117     257597  view  355908\n",
       "1  1433224214164     992329  view  248676\n",
       "2  1433221999827     111016  view  318965\n",
       "3  1433221955914     483717  view  253185\n",
       "4  1433221337106     951259  view  367447"
      ]
     },
     "execution_count": 63,
     "metadata": {},
     "output_type": "execute_result"
    }
   ],
   "source": [
    "eventsDF.head()"
   ]
  },
  {
   "cell_type": "code",
   "execution_count": 67,
   "metadata": {},
   "outputs": [],
   "source": [
    "eventsDF = eventsDF.loc[eventsDF.event == \"view\"]"
   ]
  },
  {
   "cell_type": "code",
   "execution_count": 71,
   "metadata": {},
   "outputs": [
    {
     "data": {
      "text/plain": [
       "(2664312, 4)"
      ]
     },
     "execution_count": 71,
     "metadata": {},
     "output_type": "execute_result"
    }
   ],
   "source": [
    "eventsDF.shape"
   ]
  },
  {
   "cell_type": "code",
   "execution_count": 68,
   "metadata": {},
   "outputs": [
    {
     "data": {
      "text/plain": [
       "visitorid\n",
       "0          3\n",
       "1          1\n",
       "2          8\n",
       "3          1\n",
       "4          1\n",
       "          ..\n",
       "1407575    1\n",
       "1407576    1\n",
       "1407577    1\n",
       "1407578    1\n",
       "1407579    1\n",
       "Name: event, Length: 1404179, dtype: int64"
      ]
     },
     "execution_count": 68,
     "metadata": {},
     "output_type": "execute_result"
    }
   ],
   "source": [
    "countEvents = eventsDF.groupby(\"visitorid\")[\"event\"].count()\n",
    "countEvents"
   ]
  },
  {
   "cell_type": "code",
   "execution_count": 82,
   "metadata": {},
   "outputs": [
    {
     "data": {
      "text/plain": [
       "((1404179,), (396449,))"
      ]
     },
     "execution_count": 82,
     "metadata": {},
     "output_type": "execute_result"
    }
   ],
   "source": [
    "(countEvents.shape, countEvents.loc[countEvents>1].shape)"
   ]
  },
  {
   "cell_type": "code",
   "execution_count": 83,
   "metadata": {},
   "outputs": [],
   "source": [
    "restrEvents = countEvents.loc[countEvents>1]"
   ]
  },
  {
   "cell_type": "code",
   "execution_count": 84,
   "metadata": {},
   "outputs": [],
   "source": [
    "restrictedIDs = list(restrEvents.index)"
   ]
  },
  {
   "cell_type": "code",
   "execution_count": 89,
   "metadata": {},
   "outputs": [
    {
     "data": {
      "text/plain": [
       "(1656582, 4)"
      ]
     },
     "execution_count": 89,
     "metadata": {},
     "output_type": "execute_result"
    }
   ],
   "source": [
    "eventsDFReduced = eventsDF.loc[(eventsDF.visitorid.isin(restrictedIDs))]\n",
    "eventsDFReduced.shape"
   ]
  },
  {
   "cell_type": "code",
   "execution_count": 90,
   "metadata": {},
   "outputs": [],
   "source": [
    "eventsDFReduced.to_csv(\"eventsReduced.csv\", sep=\",\", header=True, index=False)"
   ]
  },
  {
   "cell_type": "code",
   "execution_count": null,
   "metadata": {},
   "outputs": [],
   "source": []
  }
 ],
 "metadata": {
  "kernelspec": {
   "display_name": "tf2",
   "language": "python",
   "name": "tf2"
  },
  "language_info": {
   "codemirror_mode": {
    "name": "ipython",
    "version": 3
   },
   "file_extension": ".py",
   "mimetype": "text/x-python",
   "name": "python",
   "nbconvert_exporter": "python",
   "pygments_lexer": "ipython3",
   "version": "3.7.8"
  }
 },
 "nbformat": 4,
 "nbformat_minor": 4
}
